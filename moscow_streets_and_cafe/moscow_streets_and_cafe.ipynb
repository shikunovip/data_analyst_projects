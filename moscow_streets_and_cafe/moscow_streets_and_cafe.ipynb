{
 "cells": [
  {
   "cell_type": "markdown",
   "metadata": {},
   "source": [
    "# Анализ рынка заведений общественного питания Москвы"
   ]
  },
  {
   "cell_type": "markdown",
   "metadata": {},
   "source": [
    "**Содержание:**\n",
    "* [1. Исследование данных и их предобработка](#Исследование-данных-и-их-предобработка)\n",
    " * [1.1 Загрузка данных и извлечение информации](#Загрузка-данных-и-извлечение-информации)\n",
    "* [2. Анализ данных.](#Анализ-данных)\n",
    " * [2.1 Исследование соотношения видов объектов общественного питания по количеству](#Исследование-соотношения-видов-объектов-общественного-питания-по-количеству)\n",
    " * [2.2 Исследование соотношения сетевых и несетевых заведений по количеству](#Исследование-соотношения-сетевых-и-несетевых-заведений-по-количеству)\n",
    " * [2.3 Характер сетевого распространения объектов по виду объекта](#Характер-сетевого-распространения-объектов-по-виду-объекта)\n",
    " * [2.4 Среднее количество посадочных мест](#Среднее-количество-посадочных-мест)\n",
    " * [2.5 Топ-10 улиц по количеству объектов общественного питания](#Топ-10-улиц-по-количеству-объектов-общественного-питания)\n",
    " * [2.6 Определение популярных районов](#Определение-популярных-районов)\n",
    " * [2.7 Районы с небольшим количеством заведений](#Районы-с-небольшим-количеством-заведений)\n",
    "* [3. Вывод](#Вывод)"
   ]
  },
  {
   "cell_type": "markdown",
   "metadata": {},
   "source": [
    "Наши партнеры решили открыть небольшое кафе в Москве. Оно оригинальное — гостей должны обслуживать роботы. Проект многообещающий, но дорогой. Партнеры решили обратиться к инвесторам. Их интересует текущее положение дел на рынке — сможет ли такой формат кафе снискать популярность на долгое время, когда все зеваки насмотрятся на роботов-официантов?\n",
    "Партнеры просят нас подготовить исследование рынка. У нас есть открытые данные о заведениях общественного питания в Москве.  \n",
    "В целях данного исследования необходимо дать рекомендации о виде заведения, количестве посадочных мест, а также районе расположения и прокомментировать возможность развития сети."
   ]
  },
  {
   "cell_type": "markdown",
   "metadata": {},
   "source": [
    "**Полученные данные хранятся в файле:**  \n",
    "`rest_data.csv`"
   ]
  },
  {
   "cell_type": "markdown",
   "metadata": {},
   "source": [
    "**Описание данных:**"
   ]
  },
  {
   "cell_type": "markdown",
   "metadata": {},
   "source": [
    "- `id` — идентификатор объекта;  \n",
    "- `object_name` — название объекта общественного питания;  \n",
    "- `chain` — сетевой ресторан;  \n",
    "- `object_type` — тип объекта общественного питания;  \n",
    "- `address` — адрес;  \n",
    "- `number` — количество посадочных мест."
   ]
  },
  {
   "cell_type": "markdown",
   "metadata": {},
   "source": [
    "## Исследование данных и их предобработка "
   ]
  },
  {
   "cell_type": "markdown",
   "metadata": {},
   "source": [
    "### Загрузка данных и извлечение информации"
   ]
  },
  {
   "cell_type": "markdown",
   "metadata": {},
   "source": [
    "Начнем с импорта необходимых для работы библиотек"
   ]
  },
  {
   "cell_type": "code",
   "execution_count": 1,
   "metadata": {},
   "outputs": [],
   "source": [
    "import pandas as pd\n",
    "import matplotlib.pyplot as plt\n",
    "import seaborn as sns\n",
    "import plotly.express as px\n",
    "import numpy as np"
   ]
  },
  {
   "cell_type": "code",
   "execution_count": 2,
   "metadata": {},
   "outputs": [
    {
     "data": {
      "text/html": [
       "        <script type=\"text/javascript\">\n",
       "        window.PlotlyConfig = {MathJaxConfig: 'local'};\n",
       "        if (window.MathJax) {MathJax.Hub.Config({SVG: {font: \"STIX-Web\"}});}\n",
       "        if (typeof require !== 'undefined') {\n",
       "        require.undef(\"plotly\");\n",
       "        requirejs.config({\n",
       "            paths: {\n",
       "                'plotly': ['https://cdn.plot.ly/plotly-2.6.3.min']\n",
       "            }\n",
       "        });\n",
       "        require(['plotly'], function(Plotly) {\n",
       "            window._Plotly = Plotly;\n",
       "        });\n",
       "        }\n",
       "        </script>\n",
       "        "
      ]
     },
     "metadata": {},
     "output_type": "display_data"
    }
   ],
   "source": [
    "from plotly.offline import plot, iplot, init_notebook_mode\n",
    "import plotly.graph_objs as go\n",
    "init_notebook_mode(connected=True)"
   ]
  },
  {
   "cell_type": "markdown",
   "metadata": {},
   "source": [
    "Импортируем предоставленныый файл и сохраним его в переменной df"
   ]
  },
  {
   "cell_type": "code",
   "execution_count": 3,
   "metadata": {},
   "outputs": [],
   "source": [
    "try:\n",
    "    df = pd.read_csv('/datasets/rest_data.csv')\n",
    "except:\n",
    "    df = pd.read_csv('rest_data.csv')"
   ]
  },
  {
   "cell_type": "markdown",
   "metadata": {},
   "source": [
    "Изучим данные в файле, выведем на экран первые 5 строк датафрейма, общую информацию, информацию о доли пропущенных значений и колчестве явных дубликатов:"
   ]
  },
  {
   "cell_type": "code",
   "execution_count": 4,
   "metadata": {},
   "outputs": [
    {
     "name": "stdout",
     "output_type": "stream",
     "text": [
      "Внешний вид датафрейма:\n"
     ]
    },
    {
     "data": {
      "text/html": [
       "<div>\n",
       "<style scoped>\n",
       "    .dataframe tbody tr th:only-of-type {\n",
       "        vertical-align: middle;\n",
       "    }\n",
       "\n",
       "    .dataframe tbody tr th {\n",
       "        vertical-align: top;\n",
       "    }\n",
       "\n",
       "    .dataframe thead th {\n",
       "        text-align: right;\n",
       "    }\n",
       "</style>\n",
       "<table border=\"1\" class=\"dataframe\">\n",
       "  <thead>\n",
       "    <tr style=\"text-align: right;\">\n",
       "      <th></th>\n",
       "      <th>id</th>\n",
       "      <th>object_name</th>\n",
       "      <th>chain</th>\n",
       "      <th>object_type</th>\n",
       "      <th>address</th>\n",
       "      <th>number</th>\n",
       "    </tr>\n",
       "  </thead>\n",
       "  <tbody>\n",
       "    <tr>\n",
       "      <th>0</th>\n",
       "      <td>151635</td>\n",
       "      <td>СМЕТАНА</td>\n",
       "      <td>нет</td>\n",
       "      <td>кафе</td>\n",
       "      <td>город Москва, улица Егора Абакумова, дом 9</td>\n",
       "      <td>48</td>\n",
       "    </tr>\n",
       "    <tr>\n",
       "      <th>1</th>\n",
       "      <td>77874</td>\n",
       "      <td>Родник</td>\n",
       "      <td>нет</td>\n",
       "      <td>кафе</td>\n",
       "      <td>город Москва, улица Талалихина, дом 2/1, корпус 1</td>\n",
       "      <td>35</td>\n",
       "    </tr>\n",
       "    <tr>\n",
       "      <th>2</th>\n",
       "      <td>24309</td>\n",
       "      <td>Кафе «Академия»</td>\n",
       "      <td>нет</td>\n",
       "      <td>кафе</td>\n",
       "      <td>город Москва, Абельмановская улица, дом 6</td>\n",
       "      <td>95</td>\n",
       "    </tr>\n",
       "    <tr>\n",
       "      <th>3</th>\n",
       "      <td>21894</td>\n",
       "      <td>ПИЦЦЕТОРИЯ</td>\n",
       "      <td>да</td>\n",
       "      <td>кафе</td>\n",
       "      <td>город Москва, Абрамцевская улица, дом 1</td>\n",
       "      <td>40</td>\n",
       "    </tr>\n",
       "    <tr>\n",
       "      <th>4</th>\n",
       "      <td>119365</td>\n",
       "      <td>Кафе «Вишневая метель»</td>\n",
       "      <td>нет</td>\n",
       "      <td>кафе</td>\n",
       "      <td>город Москва, Абрамцевская улица, дом 9, корпус 1</td>\n",
       "      <td>50</td>\n",
       "    </tr>\n",
       "  </tbody>\n",
       "</table>\n",
       "</div>"
      ],
      "text/plain": [
       "       id             object_name chain object_type  \\\n",
       "0  151635                 СМЕТАНА   нет        кафе   \n",
       "1   77874                  Родник   нет        кафе   \n",
       "2   24309         Кафе «Академия»   нет        кафе   \n",
       "3   21894              ПИЦЦЕТОРИЯ    да        кафе   \n",
       "4  119365  Кафе «Вишневая метель»   нет        кафе   \n",
       "\n",
       "                                             address  number  \n",
       "0         город Москва, улица Егора Абакумова, дом 9      48  \n",
       "1  город Москва, улица Талалихина, дом 2/1, корпус 1      35  \n",
       "2          город Москва, Абельмановская улица, дом 6      95  \n",
       "3            город Москва, Абрамцевская улица, дом 1      40  \n",
       "4  город Москва, Абрамцевская улица, дом 9, корпус 1      50  "
      ]
     },
     "metadata": {},
     "output_type": "display_data"
    },
    {
     "name": "stdout",
     "output_type": "stream",
     "text": [
      "``````````````````````````````````````````````````\n",
      "Типы данных, кол-во строк и столбцов:\n",
      "<class 'pandas.core.frame.DataFrame'>\n",
      "RangeIndex: 15366 entries, 0 to 15365\n",
      "Data columns (total 6 columns):\n",
      " #   Column       Non-Null Count  Dtype \n",
      "---  ------       --------------  ----- \n",
      " 0   id           15366 non-null  int64 \n",
      " 1   object_name  15366 non-null  object\n",
      " 2   chain        15366 non-null  object\n",
      " 3   object_type  15366 non-null  object\n",
      " 4   address      15366 non-null  object\n",
      " 5   number       15366 non-null  int64 \n",
      "dtypes: int64(2), object(4)\n",
      "memory usage: 720.4+ KB\n",
      "None\n",
      "``````````````````````````````````````````````````\n",
      "Доля пропущенных значений:\n",
      "id             0.0\n",
      "object_name    0.0\n",
      "chain          0.0\n",
      "object_type    0.0\n",
      "address        0.0\n",
      "number         0.0\n",
      "dtype: float64\n",
      "``````````````````````````````````````````````````\n",
      "Количество явных дубликатов:\n",
      "0\n",
      "``````````````````````````````````````````````````\n"
     ]
    }
   ],
   "source": [
    "print('Внешний вид датафрейма:')\n",
    "display(df.head(5))\n",
    "print('``````````````````````````````````````````````````')\n",
    "print('Типы данных, кол-во строк и столбцов:')\n",
    "print(df.info())\n",
    "print('``````````````````````````````````````````````````')\n",
    "print('Доля пропущенных значений:')    \n",
    "print(df.isnull().mean())\n",
    "print('``````````````````````````````````````````````````')\n",
    "print('Количество явных дубликатов:')\n",
    "print(df.duplicated().sum())\n",
    "print('``````````````````````````````````````````````````')"
   ]
  },
  {
   "cell_type": "markdown",
   "metadata": {},
   "source": [
    "Типы данных соответствуют заявленной информации, пропусков нет, явных дубликатов тоже нет.  \n",
    "Приведем весь текст к нижнему регистру и изучим подробнее столбцы `object_name`, `chain`, `object_type` и `address`. "
   ]
  },
  {
   "cell_type": "markdown",
   "metadata": {},
   "source": [
    "### Контрольная предобработка"
   ]
  },
  {
   "cell_type": "markdown",
   "metadata": {},
   "source": [
    "Данные в столбце `object_name` приведем к нижнему регистру:"
   ]
  },
  {
   "cell_type": "code",
   "execution_count": 5,
   "metadata": {},
   "outputs": [],
   "source": [
    "df['object_name'] = df['object_name'].str.lower()"
   ]
  },
  {
   "cell_type": "code",
   "execution_count": 6,
   "metadata": {},
   "outputs": [
    {
     "name": "stdout",
     "output_type": "stream",
     "text": [
      "['сметана' 'родник' 'кафе «академия»' ... 'бар мята lounge'\n",
      " 'мята lounge октябрьская' 'кальянная «мята lounge»']\n",
      "9924\n"
     ]
    }
   ],
   "source": [
    "#посмотрим сколько уникальных названий в колонке object name\n",
    "print(df['object_name'].unique())\n",
    "print(len(df['object_name'].unique()))"
   ]
  },
  {
   "cell_type": "markdown",
   "metadata": {},
   "source": [
    "Проверим, что в колонке `chain` есть только значения \"да\" или \"нет\":"
   ]
  },
  {
   "cell_type": "code",
   "execution_count": 7,
   "metadata": {},
   "outputs": [
    {
     "data": {
      "text/plain": [
       "array(['нет', 'да'], dtype=object)"
      ]
     },
     "execution_count": 7,
     "metadata": {},
     "output_type": "execute_result"
    }
   ],
   "source": [
    "df['chain'].unique()"
   ]
  },
  {
   "cell_type": "markdown",
   "metadata": {},
   "source": [
    "Изучим данные столбца `object_type`:"
   ]
  },
  {
   "cell_type": "code",
   "execution_count": 8,
   "metadata": {},
   "outputs": [
    {
     "data": {
      "text/plain": [
       "array(['кафе', 'столовая', 'закусочная',\n",
       "       'предприятие быстрого обслуживания', 'ресторан', 'кафетерий',\n",
       "       'буфет', 'бар', 'магазин (отдел кулинарии)'], dtype=object)"
      ]
     },
     "execution_count": 8,
     "metadata": {},
     "output_type": "execute_result"
    }
   ],
   "source": [
    "df['object_type'].unique()"
   ]
  },
  {
   "cell_type": "markdown",
   "metadata": {},
   "source": [
    "Изучим данные столбца `adress` и приведем данные к нижнему регистру для удобства будущих вычислений:"
   ]
  },
  {
   "cell_type": "code",
   "execution_count": 9,
   "metadata": {},
   "outputs": [
    {
     "data": {
      "text/plain": [
       "0               город Москва, улица Егора Абакумова, дом 9\n",
       "1        город Москва, улица Талалихина, дом 2/1, корпус 1\n",
       "2                город Москва, Абельмановская улица, дом 6\n",
       "3                  город Москва, Абрамцевская улица, дом 1\n",
       "4        город Москва, Абрамцевская улица, дом 9, корпус 1\n",
       "                               ...                        \n",
       "15361         город Москва, 3-й Крутицкий переулок, дом 18\n",
       "15362             город Москва, улица Земляной Вал, дом 33\n",
       "15363             город Москва, улица Земляной Вал, дом 33\n",
       "15364    город Москва, поселение Московский, Киевское ш...\n",
       "15365               город Москва, Ходынский бульвар, дом 4\n",
       "Name: address, Length: 15366, dtype: object"
      ]
     },
     "execution_count": 9,
     "metadata": {},
     "output_type": "execute_result"
    }
   ],
   "source": [
    "df['address']"
   ]
  },
  {
   "cell_type": "code",
   "execution_count": 10,
   "metadata": {},
   "outputs": [
    {
     "data": {
      "text/plain": [
       "0               город москва, улица егора абакумова, дом 9\n",
       "1        город москва, улица талалихина, дом 2/1, корпус 1\n",
       "2                город москва, абельмановская улица, дом 6\n",
       "3                  город москва, абрамцевская улица, дом 1\n",
       "4        город москва, абрамцевская улица, дом 9, корпус 1\n",
       "                               ...                        \n",
       "15361         город москва, 3-й крутицкий переулок, дом 18\n",
       "15362             город москва, улица земляной вал, дом 33\n",
       "15363             город москва, улица земляной вал, дом 33\n",
       "15364    город москва, поселение московский, киевское ш...\n",
       "15365               город москва, ходынский бульвар, дом 4\n",
       "Name: address, Length: 15366, dtype: object"
      ]
     },
     "execution_count": 10,
     "metadata": {},
     "output_type": "execute_result"
    }
   ],
   "source": [
    "df['address'] = df['address'].str.lower()\n",
    "df['address']"
   ]
  },
  {
   "cell_type": "markdown",
   "metadata": {},
   "source": [
    "Проведем еще одну проверку на дубликаты, поскольку id записи могло присваиваться автоматически, удалим дубликаты, если таковые есть, исключая колонку id:"
   ]
  },
  {
   "cell_type": "code",
   "execution_count": 11,
   "metadata": {},
   "outputs": [],
   "source": [
    "df = df.drop_duplicates(subset=df.columns.difference(['id']))"
   ]
  },
  {
   "cell_type": "markdown",
   "metadata": {},
   "source": [
    "Наше подтверждение подтвердилось, в нашем датафрейме было 85 дубликатов, по всем колонкам, исключая id. Это могло быть связано с технической ошибкой, в результате которой данные задвоились."
   ]
  },
  {
   "cell_type": "markdown",
   "metadata": {},
   "source": [
    "Посмотрим, есть ли в колонке с колчичеством посадочных мест аномалии и выбросы. Если таковые есть, то лучше избавиться от них на данном этапе, чтобы они не искажали визуализацию в будущем исследовании:"
   ]
  },
  {
   "cell_type": "code",
   "execution_count": 12,
   "metadata": {},
   "outputs": [
    {
     "data": {
      "image/png": "[encoded data removed]",
      "text/plain": [
       "<Figure size 432x288 with 1 Axes>"
      ]
     },
     "metadata": {
      "needs_background": "light"
     },
     "output_type": "display_data"
    }
   ],
   "source": [
    "df.boxplot('number');"
   ]
  },
  {
   "cell_type": "code",
   "execution_count": 13,
   "metadata": {},
   "outputs": [
    {
     "data": {
      "text/plain": [
       "0.15705778417642824"
      ]
     },
     "execution_count": 13,
     "metadata": {},
     "output_type": "execute_result"
    }
   ],
   "source": [
    "len(df[df['number']> 500]) / len(df) * 100"
   ]
  },
  {
   "cell_type": "markdown",
   "metadata": {},
   "source": [
    "Всего 1,86% заведений, у которых посадочных мест больше 250. С учетом того, что наша задача от клиента - анализ данных для открытия кафе, то вряд ли в нем будет более 250 мест. Удалим эти данные, во избежание искажений в будущем."
   ]
  },
  {
   "cell_type": "code",
   "execution_count": 14,
   "metadata": {},
   "outputs": [],
   "source": [
    "df = df.query('number < 250')"
   ]
  },
  {
   "cell_type": "markdown",
   "metadata": {},
   "source": [
    "### Промежуточный вывод"
   ]
  },
  {
   "cell_type": "markdown",
   "metadata": {},
   "source": [
    "Мы привели все данные к нижнему регистру, проверили наш датафрейм на дубликаты, избавились от задвоенных строк по всем параметрам, не включая id,  а так же удалили выбросы по кол-ву посадочных мест, которые превышали 250 мест. \n",
    "Посмотрим как теперь выглядит наш датафрейм, и сколько в нем осталось строк."
   ]
  },
  {
   "cell_type": "code",
   "execution_count": 15,
   "metadata": {},
   "outputs": [
    {
     "data": {
      "text/html": [
       "<div>\n",
       "<style scoped>\n",
       "    .dataframe tbody tr th:only-of-type {\n",
       "        vertical-align: middle;\n",
       "    }\n",
       "\n",
       "    .dataframe tbody tr th {\n",
       "        vertical-align: top;\n",
       "    }\n",
       "\n",
       "    .dataframe thead th {\n",
       "        text-align: right;\n",
       "    }\n",
       "</style>\n",
       "<table border=\"1\" class=\"dataframe\">\n",
       "  <thead>\n",
       "    <tr style=\"text-align: right;\">\n",
       "      <th></th>\n",
       "      <th>id</th>\n",
       "      <th>object_name</th>\n",
       "      <th>chain</th>\n",
       "      <th>object_type</th>\n",
       "      <th>address</th>\n",
       "      <th>number</th>\n",
       "    </tr>\n",
       "  </thead>\n",
       "  <tbody>\n",
       "    <tr>\n",
       "      <th>0</th>\n",
       "      <td>151635</td>\n",
       "      <td>сметана</td>\n",
       "      <td>нет</td>\n",
       "      <td>кафе</td>\n",
       "      <td>город москва, улица егора абакумова, дом 9</td>\n",
       "      <td>48</td>\n",
       "    </tr>\n",
       "    <tr>\n",
       "      <th>1</th>\n",
       "      <td>77874</td>\n",
       "      <td>родник</td>\n",
       "      <td>нет</td>\n",
       "      <td>кафе</td>\n",
       "      <td>город москва, улица талалихина, дом 2/1, корпус 1</td>\n",
       "      <td>35</td>\n",
       "    </tr>\n",
       "    <tr>\n",
       "      <th>2</th>\n",
       "      <td>24309</td>\n",
       "      <td>кафе «академия»</td>\n",
       "      <td>нет</td>\n",
       "      <td>кафе</td>\n",
       "      <td>город москва, абельмановская улица, дом 6</td>\n",
       "      <td>95</td>\n",
       "    </tr>\n",
       "    <tr>\n",
       "      <th>3</th>\n",
       "      <td>21894</td>\n",
       "      <td>пиццетория</td>\n",
       "      <td>да</td>\n",
       "      <td>кафе</td>\n",
       "      <td>город москва, абрамцевская улица, дом 1</td>\n",
       "      <td>40</td>\n",
       "    </tr>\n",
       "    <tr>\n",
       "      <th>4</th>\n",
       "      <td>119365</td>\n",
       "      <td>кафе «вишневая метель»</td>\n",
       "      <td>нет</td>\n",
       "      <td>кафе</td>\n",
       "      <td>город москва, абрамцевская улица, дом 9, корпус 1</td>\n",
       "      <td>50</td>\n",
       "    </tr>\n",
       "    <tr>\n",
       "      <th>5</th>\n",
       "      <td>27429</td>\n",
       "      <td>стол. при гоу сош № 1051</td>\n",
       "      <td>нет</td>\n",
       "      <td>столовая</td>\n",
       "      <td>город москва, абрамцевская улица, дом 15, корп...</td>\n",
       "      <td>240</td>\n",
       "    </tr>\n",
       "    <tr>\n",
       "      <th>6</th>\n",
       "      <td>148815</td>\n",
       "      <td>брусника</td>\n",
       "      <td>да</td>\n",
       "      <td>кафе</td>\n",
       "      <td>город москва, переулок сивцев вражек, дом 6/2</td>\n",
       "      <td>10</td>\n",
       "    </tr>\n",
       "    <tr>\n",
       "      <th>7</th>\n",
       "      <td>20957</td>\n",
       "      <td>буфет мтуси</td>\n",
       "      <td>нет</td>\n",
       "      <td>столовая</td>\n",
       "      <td>город москва, авиамоторная улица, дом 8, строе...</td>\n",
       "      <td>90</td>\n",
       "    </tr>\n",
       "    <tr>\n",
       "      <th>8</th>\n",
       "      <td>20958</td>\n",
       "      <td>кпф семья-1</td>\n",
       "      <td>нет</td>\n",
       "      <td>столовая</td>\n",
       "      <td>город москва, авиамоторная улица, дом 8, строе...</td>\n",
       "      <td>150</td>\n",
       "    </tr>\n",
       "    <tr>\n",
       "      <th>9</th>\n",
       "      <td>28858</td>\n",
       "      <td>столовая мтуси</td>\n",
       "      <td>нет</td>\n",
       "      <td>столовая</td>\n",
       "      <td>город москва, авиамоторная улица, дом 8, строе...</td>\n",
       "      <td>120</td>\n",
       "    </tr>\n",
       "  </tbody>\n",
       "</table>\n",
       "</div>"
      ],
      "text/plain": [
       "       id               object_name chain object_type  \\\n",
       "0  151635                   сметана   нет        кафе   \n",
       "1   77874                    родник   нет        кафе   \n",
       "2   24309           кафе «академия»   нет        кафе   \n",
       "3   21894                пиццетория    да        кафе   \n",
       "4  119365    кафе «вишневая метель»   нет        кафе   \n",
       "5   27429  стол. при гоу сош № 1051   нет    столовая   \n",
       "6  148815                  брусника    да        кафе   \n",
       "7   20957               буфет мтуси   нет    столовая   \n",
       "8   20958               кпф семья-1   нет    столовая   \n",
       "9   28858            столовая мтуси   нет    столовая   \n",
       "\n",
       "                                             address  number  \n",
       "0         город москва, улица егора абакумова, дом 9      48  \n",
       "1  город москва, улица талалихина, дом 2/1, корпус 1      35  \n",
       "2          город москва, абельмановская улица, дом 6      95  \n",
       "3            город москва, абрамцевская улица, дом 1      40  \n",
       "4  город москва, абрамцевская улица, дом 9, корпус 1      50  \n",
       "5  город москва, абрамцевская улица, дом 15, корп...     240  \n",
       "6      город москва, переулок сивцев вражек, дом 6/2      10  \n",
       "7  город москва, авиамоторная улица, дом 8, строе...      90  \n",
       "8  город москва, авиамоторная улица, дом 8, строе...     150  \n",
       "9  город москва, авиамоторная улица, дом 8, строе...     120  "
      ]
     },
     "metadata": {},
     "output_type": "display_data"
    },
    {
     "name": "stdout",
     "output_type": "stream",
     "text": [
      "<class 'pandas.core.frame.DataFrame'>\n",
      "Int64Index: 14916 entries, 0 to 15365\n",
      "Data columns (total 6 columns):\n",
      " #   Column       Non-Null Count  Dtype \n",
      "---  ------       --------------  ----- \n",
      " 0   id           14916 non-null  int64 \n",
      " 1   object_name  14916 non-null  object\n",
      " 2   chain        14916 non-null  object\n",
      " 3   object_type  14916 non-null  object\n",
      " 4   address      14916 non-null  object\n",
      " 5   number       14916 non-null  int64 \n",
      "dtypes: int64(2), object(4)\n",
      "memory usage: 815.7+ KB\n"
     ]
    }
   ],
   "source": [
    "display(df.head(10))\n",
    "df.info()"
   ]
  },
  {
   "cell_type": "markdown",
   "metadata": {},
   "source": [
    "## Анализ данных"
   ]
  },
  {
   "cell_type": "markdown",
   "metadata": {},
   "source": [
    "### Исследование соотношения видов объектов общественного питания по количеству"
   ]
  },
  {
   "cell_type": "markdown",
   "metadata": {},
   "source": [
    "Посмотрим на количество заведений по виду объекта общественного питания и представим информацию в виде барплота"
   ]
  },
  {
   "cell_type": "code",
   "execution_count": 16,
   "metadata": {},
   "outputs": [
    {
     "data": {
      "text/html": [
       "<div>\n",
       "<style scoped>\n",
       "    .dataframe tbody tr th:only-of-type {\n",
       "        vertical-align: middle;\n",
       "    }\n",
       "\n",
       "    .dataframe tbody tr th {\n",
       "        vertical-align: top;\n",
       "    }\n",
       "\n",
       "    .dataframe thead th {\n",
       "        text-align: right;\n",
       "    }\n",
       "</style>\n",
       "<table border=\"1\" class=\"dataframe\">\n",
       "  <thead>\n",
       "    <tr style=\"text-align: right;\">\n",
       "      <th></th>\n",
       "      <th>object_type</th>\n",
       "      <th>id</th>\n",
       "    </tr>\n",
       "  </thead>\n",
       "  <tbody>\n",
       "    <tr>\n",
       "      <th>5</th>\n",
       "      <td>магазин (отдел кулинарии)</td>\n",
       "      <td>273</td>\n",
       "    </tr>\n",
       "    <tr>\n",
       "      <th>2</th>\n",
       "      <td>закусочная</td>\n",
       "      <td>348</td>\n",
       "    </tr>\n",
       "    <tr>\n",
       "      <th>4</th>\n",
       "      <td>кафетерий</td>\n",
       "      <td>395</td>\n",
       "    </tr>\n",
       "    <tr>\n",
       "      <th>1</th>\n",
       "      <td>буфет</td>\n",
       "      <td>567</td>\n",
       "    </tr>\n",
       "    <tr>\n",
       "      <th>0</th>\n",
       "      <td>бар</td>\n",
       "      <td>849</td>\n",
       "    </tr>\n",
       "    <tr>\n",
       "      <th>6</th>\n",
       "      <td>предприятие быстрого обслуживания</td>\n",
       "      <td>1892</td>\n",
       "    </tr>\n",
       "    <tr>\n",
       "      <th>7</th>\n",
       "      <td>ресторан</td>\n",
       "      <td>2163</td>\n",
       "    </tr>\n",
       "    <tr>\n",
       "      <th>8</th>\n",
       "      <td>столовая</td>\n",
       "      <td>2381</td>\n",
       "    </tr>\n",
       "    <tr>\n",
       "      <th>3</th>\n",
       "      <td>кафе</td>\n",
       "      <td>6048</td>\n",
       "    </tr>\n",
       "  </tbody>\n",
       "</table>\n",
       "</div>"
      ],
      "text/plain": [
       "                         object_type    id\n",
       "5          магазин (отдел кулинарии)   273\n",
       "2                         закусочная   348\n",
       "4                          кафетерий   395\n",
       "1                              буфет   567\n",
       "0                                бар   849\n",
       "6  предприятие быстрого обслуживания  1892\n",
       "7                           ресторан  2163\n",
       "8                           столовая  2381\n",
       "3                               кафе  6048"
      ]
     },
     "execution_count": 16,
     "metadata": {},
     "output_type": "execute_result"
    }
   ],
   "source": [
    "data = df.pivot_table(index='object_type', values='id', aggfunc='count')\\\n",
    "        .reset_index()\\\n",
    "        .sort_values(by='id')\n",
    "data"
   ]
  },
  {
   "cell_type": "code",
   "execution_count": 17,
   "metadata": {},
   "outputs": [
    {
     "data": {
      "text/plain": [
       "5               магазин (отдел кулинарии)\n",
       "2                              закусочная\n",
       "4                               кафетерий\n",
       "1                                   буфет\n",
       "0                                     бар\n",
       "6    предприятие быстрого<br>обслуживания\n",
       "7                                ресторан\n",
       "8                                столовая\n",
       "3                                    кафе\n",
       "Name: object_type, dtype: object"
      ]
     },
     "execution_count": 17,
     "metadata": {},
     "output_type": "execute_result"
    }
   ],
   "source": [
    "import textwrap\n",
    "\n",
    "def customwrap(s,width=30):\n",
    "    return \"<br>\".join(textwrap.wrap(s,width=width))\n",
    "data['object_type'] = data['object_type'].map(customwrap)\n",
    "data['object_type']"
   ]
  },
  {
   "cell_type": "code",
   "execution_count": 18,
   "metadata": {},
   "outputs": [
    {
     "data": {
      "application/vnd.plotly.v1+json": {
       "config": {
        "plotlyServerURL": "https://plot.ly"
       },
       "data": [
        {
         "alignmentgroup": "True",
         "hovertemplate": "Вид объекта=%{x}<br>Количество=%{y}<extra></extra>",
         "legendgroup": "",
         "marker": {
          "color": "#636efa",
          "pattern": {
           "shape": ""
          }
         },
         "name": "",
         "offsetgroup": "",
         "orientation": "v",
         "showlegend": false,
         "textposition": "auto",
         "type": "bar",
         "x": [
          "магазин (отдел кулинарии)",
          "закусочная",
          "кафетерий",
          "буфет",
          "бар",
          "предприятие быстрого<br>обслуживания",
          "ресторан",
          "столовая",
          "кафе"
         ],
         "xaxis": "x",
         "y": [
          273,
          348,
          395,
          567,
          849,
          1892,
          2163,
          2381,
          6048
         ],
         "yaxis": "y"
        }
       ],
       "layout": {
        "barmode": "relative",
        "height": 800,
        "legend": {
         "tracegroupgap": 0
        },
        "margin": {
         "t": 60
        },
        "template": {
         "data": {
          "bar": [
           {
            "error_x": {
             "color": "#2a3f5f"
            },
            "error_y": {
             "color": "#2a3f5f"
            },
            "marker": {
             "line": {
              "color": "#E5ECF6",
              "width": 0.5
             },
             "pattern": {
              "fillmode": "overlay",
              "size": 10,
              "solidity": 0.2
             }
            },
            "type": "bar"
           }
          ],
          "barpolar": [
           {
            "marker": {
             "line": {
              "color": "#E5ECF6",
              "width": 0.5
             },
             "pattern": {
              "fillmode": "overlay",
              "size": 10,
              "solidity": 0.2
             }
            },
            "type": "barpolar"
           }
          ],
          "carpet": [
           {
            "aaxis": {
             "endlinecolor": "#2a3f5f",
             "gridcolor": "white",
             "linecolor": "white",
             "minorgridcolor": "white",
             "startlinecolor": "#2a3f5f"
            },
            "baxis": {
             "endlinecolor": "#2a3f5f",
             "gridcolor": "white",
             "linecolor": "white",
             "minorgridcolor": "white",
             "startlinecolor": "#2a3f5f"
            },
            "type": "carpet"
           }
          ],
          "choropleth": [
           {
            "colorbar": {
             "outlinewidth": 0,
             "ticks": ""
            },
            "type": "choropleth"
           }
          ],
          "contour": [
           {
            "colorbar": {
             "outlinewidth": 0,
             "ticks": ""
            },
            "colorscale": [
             [
              0,
              "#0d0887"
             ],
             [
              0.1111111111111111,
              "#46039f"
             ],
             [
              0.2222222222222222,
              "#7201a8"
             ],
             [
              0.3333333333333333,
              "#9c179e"
             ],
             [
              0.4444444444444444,
              "#bd3786"
             ],
             [
              0.5555555555555556,
              "#d8576b"
             ],
             [
              0.6666666666666666,
              "#ed7953"
             ],
             [
              0.7777777777777778,
              "#fb9f3a"
             ],
             [
              0.8888888888888888,
              "#fdca26"
             ],
             [
              1,
              "#f0f921"
             ]
            ],
            "type": "contour"
           }
          ],
          "contourcarpet": [
           {
            "colorbar": {
             "outlinewidth": 0,
             "ticks": ""
            },
            "type": "contourcarpet"
           }
          ],
          "heatmap": [
           {
            "colorbar": {
             "outlinewidth": 0,
             "ticks": ""
            },
            "colorscale": [
             [
              0,
              "#0d0887"
             ],
             [
              0.1111111111111111,
              "#46039f"
             ],
             [
              0.2222222222222222,
              "#7201a8"
             ],
             [
              0.3333333333333333,
              "#9c179e"
             ],
             [
              0.4444444444444444,
              "#bd3786"
             ],
             [
              0.5555555555555556,
              "#d8576b"
             ],
             [
              0.6666666666666666,
              "#ed7953"
             ],
             [
              0.7777777777777778,
              "#fb9f3a"
             ],
             [
              0.8888888888888888,
              "#fdca26"
             ],
             [
              1,
              "#f0f921"
             ]
            ],
            "type": "heatmap"
           }
          ],
          "heatmapgl": [
           {
            "colorbar": {
             "outlinewidth": 0,
             "ticks": ""
            },
            "colorscale": [
             [
              0,
              "#0d0887"
             ],
             [
              0.1111111111111111,
              "#46039f"
             ],
             [
              0.2222222222222222,
              "#7201a8"
             ],
             [
              0.3333333333333333,
              "#9c179e"
             ],
             [
              0.4444444444444444,
              "#bd3786"
             ],
             [
              0.5555555555555556,
              "#d8576b"
             ],
             [
              0.6666666666666666,
              "#ed7953"
             ],
             [
              0.7777777777777778,
              "#fb9f3a"
             ],
             [
              0.8888888888888888,
              "#fdca26"
             ],
             [
              1,
              "#f0f921"
             ]
            ],
            "type": "heatmapgl"
           }
          ],
          "histogram": [
           {
            "marker": {
             "pattern": {
              "fillmode": "overlay",
              "size": 10,
              "solidity": 0.2
             }
            },
            "type": "histogram"
           }
          ],
          "histogram2d": [
           {
            "colorbar": {
             "outlinewidth": 0,
             "ticks": ""
            },
            "colorscale": [
             [
              0,
              "#0d0887"
             ],
             [
              0.1111111111111111,
              "#46039f"
             ],
             [
              0.2222222222222222,
              "#7201a8"
             ],
             [
              0.3333333333333333,
              "#9c179e"
             ],
             [
              0.4444444444444444,
              "#bd3786"
             ],
             [
              0.5555555555555556,
              "#d8576b"
             ],
             [
              0.6666666666666666,
              "#ed7953"
             ],
             [
              0.7777777777777778,
              "#fb9f3a"
             ],
             [
              0.8888888888888888,
              "#fdca26"
             ],
             [
              1,
              "#f0f921"
             ]
            ],
            "type": "histogram2d"
           }
          ],
          "histogram2dcontour": [
           {
            "colorbar": {
             "outlinewidth": 0,
             "ticks": ""
            },
            "colorscale": [
             [
              0,
              "#0d0887"
             ],
             [
              0.1111111111111111,
              "#46039f"
             ],
             [
              0.2222222222222222,
              "#7201a8"
             ],
             [
              0.3333333333333333,
              "#9c179e"
             ],
             [
              0.4444444444444444,
              "#bd3786"
             ],
             [
              0.5555555555555556,
              "#d8576b"
             ],
             [
              0.6666666666666666,
              "#ed7953"
             ],
             [
              0.7777777777777778,
              "#fb9f3a"
             ],
             [
              0.8888888888888888,
              "#fdca26"
             ],
             [
              1,
              "#f0f921"
             ]
            ],
            "type": "histogram2dcontour"
           }
          ],
          "mesh3d": [
           {
            "colorbar": {
             "outlinewidth": 0,
             "ticks": ""
            },
            "type": "mesh3d"
           }
          ],
          "parcoords": [
           {
            "line": {
             "colorbar": {
              "outlinewidth": 0,
              "ticks": ""
             }
            },
            "type": "parcoords"
           }
          ],
          "pie": [
           {
            "automargin": true,
            "type": "pie"
           }
          ],
          "scatter": [
           {
            "marker": {
             "colorbar": {
              "outlinewidth": 0,
              "ticks": ""
             }
            },
            "type": "scatter"
           }
          ],
          "scatter3d": [
           {
            "line": {
             "colorbar": {
              "outlinewidth": 0,
              "ticks": ""
             }
            },
            "marker": {
             "colorbar": {
              "outlinewidth": 0,
              "ticks": ""
             }
            },
            "type": "scatter3d"
           }
          ],
          "scattercarpet": [
           {
            "marker": {
             "colorbar": {
              "outlinewidth": 0,
              "ticks": ""
             }
            },
            "type": "scattercarpet"
           }
          ],
          "scattergeo": [
           {
            "marker": {
             "colorbar": {
              "outlinewidth": 0,
              "ticks": ""
             }
            },
            "type": "scattergeo"
           }
          ],
          "scattergl": [
           {
            "marker": {
             "colorbar": {
              "outlinewidth": 0,
              "ticks": ""
             }
            },
            "type": "scattergl"
           }
          ],
          "scattermapbox": [
           {
            "marker": {
             "colorbar": {
              "outlinewidth": 0,
              "ticks": ""
             }
            },
            "type": "scattermapbox"
           }
          ],
          "scatterpolar": [
           {
            "marker": {
             "colorbar": {
              "outlinewidth": 0,
              "ticks": ""
             }
            },
            "type": "scatterpolar"
           }
          ],
          "scatterpolargl": [
           {
            "marker": {
             "colorbar": {
              "outlinewidth": 0,
              "ticks": ""
             }
            },
            "type": "scatterpolargl"
           }
          ],
          "scatterternary": [
           {
            "marker": {
             "colorbar": {
              "outlinewidth": 0,
              "ticks": ""
             }
            },
            "type": "scatterternary"
           }
          ],
          "surface": [
           {
            "colorbar": {
             "outlinewidth": 0,
             "ticks": ""
            },
            "colorscale": [
             [
              0,
              "#0d0887"
             ],
             [
              0.1111111111111111,
              "#46039f"
             ],
             [
              0.2222222222222222,
              "#7201a8"
             ],
             [
              0.3333333333333333,
              "#9c179e"
             ],
             [
              0.4444444444444444,
              "#bd3786"
             ],
             [
              0.5555555555555556,
              "#d8576b"
             ],
             [
              0.6666666666666666,
              "#ed7953"
             ],
             [
              0.7777777777777778,
              "#fb9f3a"
             ],
             [
              0.8888888888888888,
              "#fdca26"
             ],
             [
              1,
              "#f0f921"
             ]
            ],
            "type": "surface"
           }
          ],
          "table": [
           {
            "cells": {
             "fill": {
              "color": "#EBF0F8"
             },
             "line": {
              "color": "white"
             }
            },
            "header": {
             "fill": {
              "color": "#C8D4E3"
             },
             "line": {
              "color": "white"
             }
            },
            "type": "table"
           }
          ]
         },
         "layout": {
          "annotationdefaults": {
           "arrowcolor": "#2a3f5f",
           "arrowhead": 0,
           "arrowwidth": 1
          },
          "autotypenumbers": "strict",
          "coloraxis": {
           "colorbar": {
            "outlinewidth": 0,
            "ticks": ""
           }
          },
          "colorscale": {
           "diverging": [
            [
             0,
             "#8e0152"
            ],
            [
             0.1,
             "#c51b7d"
            ],
            [
             0.2,
             "#de77ae"
            ],
            [
             0.3,
             "#f1b6da"
            ],
            [
             0.4,
             "#fde0ef"
            ],
            [
             0.5,
             "#f7f7f7"
            ],
            [
             0.6,
             "#e6f5d0"
            ],
            [
             0.7,
             "#b8e186"
            ],
            [
             0.8,
             "#7fbc41"
            ],
            [
             0.9,
             "#4d9221"
            ],
            [
             1,
             "#276419"
            ]
           ],
           "sequential": [
            [
             0,
             "#0d0887"
            ],
            [
             0.1111111111111111,
             "#46039f"
            ],
            [
             0.2222222222222222,
             "#7201a8"
            ],
            [
             0.3333333333333333,
             "#9c179e"
            ],
            [
             0.4444444444444444,
             "#bd3786"
            ],
            [
             0.5555555555555556,
             "#d8576b"
            ],
            [
             0.6666666666666666,
             "#ed7953"
            ],
            [
             0.7777777777777778,
             "#fb9f3a"
            ],
            [
             0.8888888888888888,
             "#fdca26"
            ],
            [
             1,
             "#f0f921"
            ]
           ],
           "sequentialminus": [
            [
             0,
             "#0d0887"
            ],
            [
             0.1111111111111111,
             "#46039f"
            ],
            [
             0.2222222222222222,
             "#7201a8"
            ],
            [
             0.3333333333333333,
             "#9c179e"
            ],
            [
             0.4444444444444444,
             "#bd3786"
            ],
            [
             0.5555555555555556,
             "#d8576b"
            ],
            [
             0.6666666666666666,
             "#ed7953"
            ],
            [
             0.7777777777777778,
             "#fb9f3a"
            ],
            [
             0.8888888888888888,
             "#fdca26"
            ],
            [
             1,
             "#f0f921"
            ]
           ]
          },
          "colorway": [
           "#636efa",
           "#EF553B",
           "#00cc96",
           "#ab63fa",
           "#FFA15A",
           "#19d3f3",
           "#FF6692",
           "#B6E880",
           "#FF97FF",
           "#FECB52"
          ],
          "font": {
           "color": "#2a3f5f"
          },
          "geo": {
           "bgcolor": "white",
           "lakecolor": "white",
           "landcolor": "#E5ECF6",
           "showlakes": true,
           "showland": true,
           "subunitcolor": "white"
          },
          "hoverlabel": {
           "align": "left"
          },
          "hovermode": "closest",
          "mapbox": {
           "style": "light"
          },
          "paper_bgcolor": "white",
          "plot_bgcolor": "#E5ECF6",
          "polar": {
           "angularaxis": {
            "gridcolor": "white",
            "linecolor": "white",
            "ticks": ""
           },
           "bgcolor": "#E5ECF6",
           "radialaxis": {
            "gridcolor": "white",
            "linecolor": "white",
            "ticks": ""
           }
          },
          "scene": {
           "xaxis": {
            "backgroundcolor": "#E5ECF6",
            "gridcolor": "white",
            "gridwidth": 2,
            "linecolor": "white",
            "showbackground": true,
            "ticks": "",
            "zerolinecolor": "white"
           },
           "yaxis": {
            "backgroundcolor": "#E5ECF6",
            "gridcolor": "white",
            "gridwidth": 2,
            "linecolor": "white",
            "showbackground": true,
            "ticks": "",
            "zerolinecolor": "white"
           },
           "zaxis": {
            "backgroundcolor": "#E5ECF6",
            "gridcolor": "white",
            "gridwidth": 2,
            "linecolor": "white",
            "showbackground": true,
            "ticks": "",
            "zerolinecolor": "white"
           }
          },
          "shapedefaults": {
           "line": {
            "color": "#2a3f5f"
           }
          },
          "ternary": {
           "aaxis": {
            "gridcolor": "white",
            "linecolor": "white",
            "ticks": ""
           },
           "baxis": {
            "gridcolor": "white",
            "linecolor": "white",
            "ticks": ""
           },
           "bgcolor": "#E5ECF6",
           "caxis": {
            "gridcolor": "white",
            "linecolor": "white",
            "ticks": ""
           }
          },
          "title": {
           "x": 0.05
          },
          "xaxis": {
           "automargin": true,
           "gridcolor": "white",
           "linecolor": "white",
           "ticks": "",
           "title": {
            "standoff": 15
           },
           "zerolinecolor": "white",
           "zerolinewidth": 2
          },
          "yaxis": {
           "automargin": true,
           "gridcolor": "white",
           "linecolor": "white",
           "ticks": "",
           "title": {
            "standoff": 15
           },
           "zerolinecolor": "white",
           "zerolinewidth": 2
          }
         }
        },
        "title": {
         "text": "Соотношение видов объектов общественного питания по количеству",
         "x": 0.5
        },
        "width": 800,
        "xaxis": {
         "anchor": "y",
         "domain": [
          0,
          1
         ],
         "tickangle": 45,
         "title": {
          "text": "Вид объекта"
         }
        },
        "yaxis": {
         "anchor": "x",
         "domain": [
          0,
          1
         ],
         "title": {
          "text": "Количество"
         }
        }
       }
      },
      "text/html": [
       "<div>                            <div id=\"5a112a22-b14f-4a95-a598-aa9f01085133\" class=\"plotly-graph-div\" style=\"height:800px; width:800px;\"></div>            <script type=\"text/javascript\">                require([\"plotly\"], function(Plotly) {                    window.PLOTLYENV=window.PLOTLYENV || {};                                    if (document.getElementById(\"5a112a22-b14f-4a95-a598-aa9f01085133\")) {                    Plotly.newPlot(                        \"5a112a22-b14f-4a95-a598-aa9f01085133\",                        [{\"alignmentgroup\":\"True\",\"hovertemplate\":\"\\u0412\\u0438\\u0434 \\u043e\\u0431\\u044a\\u0435\\u043a\\u0442\\u0430=%{x}<br>\\u041a\\u043e\\u043b\\u0438\\u0447\\u0435\\u0441\\u0442\\u0432\\u043e=%{y}<extra></extra>\",\"legendgroup\":\"\",\"marker\":{\"color\":\"#636efa\",\"pattern\":{\"shape\":\"\"}},\"name\":\"\",\"offsetgroup\":\"\",\"orientation\":\"v\",\"showlegend\":false,\"textposition\":\"auto\",\"x\":[\"\\u043c\\u0430\\u0433\\u0430\\u0437\\u0438\\u043d (\\u043e\\u0442\\u0434\\u0435\\u043b \\u043a\\u0443\\u043b\\u0438\\u043d\\u0430\\u0440\\u0438\\u0438)\",\"\\u0437\\u0430\\u043a\\u0443\\u0441\\u043e\\u0447\\u043d\\u0430\\u044f\",\"\\u043a\\u0430\\u0444\\u0435\\u0442\\u0435\\u0440\\u0438\\u0439\",\"\\u0431\\u0443\\u0444\\u0435\\u0442\",\"\\u0431\\u0430\\u0440\",\"\\u043f\\u0440\\u0435\\u0434\\u043f\\u0440\\u0438\\u044f\\u0442\\u0438\\u0435 \\u0431\\u044b\\u0441\\u0442\\u0440\\u043e\\u0433\\u043e<br>\\u043e\\u0431\\u0441\\u043b\\u0443\\u0436\\u0438\\u0432\\u0430\\u043d\\u0438\\u044f\",\"\\u0440\\u0435\\u0441\\u0442\\u043e\\u0440\\u0430\\u043d\",\"\\u0441\\u0442\\u043e\\u043b\\u043e\\u0432\\u0430\\u044f\",\"\\u043a\\u0430\\u0444\\u0435\"],\"xaxis\":\"x\",\"y\":[273,348,395,567,849,1892,2163,2381,6048],\"yaxis\":\"y\",\"type\":\"bar\"}],                        {\"template\":{\"data\":{\"bar\":[{\"error_x\":{\"color\":\"#2a3f5f\"},\"error_y\":{\"color\":\"#2a3f5f\"},\"marker\":{\"line\":{\"color\":\"#E5ECF6\",\"width\":0.5},\"pattern\":{\"fillmode\":\"overlay\",\"size\":10,\"solidity\":0.2}},\"type\":\"bar\"}],\"barpolar\":[{\"marker\":{\"line\":{\"color\":\"#E5ECF6\",\"width\":0.5},\"pattern\":{\"fillmode\":\"overlay\",\"size\":10,\"solidity\":0.2}},\"type\":\"barpolar\"}],\"carpet\":[{\"aaxis\":{\"endlinecolor\":\"#2a3f5f\",\"gridcolor\":\"white\",\"linecolor\":\"white\",\"minorgridcolor\":\"white\",\"startlinecolor\":\"#2a3f5f\"},\"baxis\":{\"endlinecolor\":\"#2a3f5f\",\"gridcolor\":\"white\",\"linecolor\":\"white\",\"minorgridcolor\":\"white\",\"startlinecolor\":\"#2a3f5f\"},\"type\":\"carpet\"}],\"choropleth\":[{\"colorbar\":{\"outlinewidth\":0,\"ticks\":\"\"},\"type\":\"choropleth\"}],\"contour\":[{\"colorbar\":{\"outlinewidth\":0,\"ticks\":\"\"},\"colorscale\":[[0.0,\"#0d0887\"],[0.1111111111111111,\"#46039f\"],[0.2222222222222222,\"#7201a8\"],[0.3333333333333333,\"#9c179e\"],[0.4444444444444444,\"#bd3786\"],[0.5555555555555556,\"#d8576b\"],[0.6666666666666666,\"#ed7953\"],[0.7777777777777778,\"#fb9f3a\"],[0.8888888888888888,\"#fdca26\"],[1.0,\"#f0f921\"]],\"type\":\"contour\"}],\"contourcarpet\":[{\"colorbar\":{\"outlinewidth\":0,\"ticks\":\"\"},\"type\":\"contourcarpet\"}],\"heatmap\":[{\"colorbar\":{\"outlinewidth\":0,\"ticks\":\"\"},\"colorscale\":[[0.0,\"#0d0887\"],[0.1111111111111111,\"#46039f\"],[0.2222222222222222,\"#7201a8\"],[0.3333333333333333,\"#9c179e\"],[0.4444444444444444,\"#bd3786\"],[0.5555555555555556,\"#d8576b\"],[0.6666666666666666,\"#ed7953\"],[0.7777777777777778,\"#fb9f3a\"],[0.8888888888888888,\"#fdca26\"],[1.0,\"#f0f921\"]],\"type\":\"heatmap\"}],\"heatmapgl\":[{\"colorbar\":{\"outlinewidth\":0,\"ticks\":\"\"},\"colorscale\":[[0.0,\"#0d0887\"],[0.1111111111111111,\"#46039f\"],[0.2222222222222222,\"#7201a8\"],[0.3333333333333333,\"#9c179e\"],[0.4444444444444444,\"#bd3786\"],[0.5555555555555556,\"#d8576b\"],[0.6666666666666666,\"#ed7953\"],[0.7777777777777778,\"#fb9f3a\"],[0.8888888888888888,\"#fdca26\"],[1.0,\"#f0f921\"]],\"type\":\"heatmapgl\"}],\"histogram\":[{\"marker\":{\"pattern\":{\"fillmode\":\"overlay\",\"size\":10,\"solidity\":0.2}},\"type\":\"histogram\"}],\"histogram2d\":[{\"colorbar\":{\"outlinewidth\":0,\"ticks\":\"\"},\"colorscale\":[[0.0,\"#0d0887\"],[0.1111111111111111,\"#46039f\"],[0.2222222222222222,\"#7201a8\"],[0.3333333333333333,\"#9c179e\"],[0.4444444444444444,\"#bd3786\"],[0.5555555555555556,\"#d8576b\"],[0.6666666666666666,\"#ed7953\"],[0.7777777777777778,\"#fb9f3a\"],[0.8888888888888888,\"#fdca26\"],[1.0,\"#f0f921\"]],\"type\":\"histogram2d\"}],\"histogram2dcontour\":[{\"colorbar\":{\"outlinewidth\":0,\"ticks\":\"\"},\"colorscale\":[[0.0,\"#0d0887\"],[0.1111111111111111,\"#46039f\"],[0.2222222222222222,\"#7201a8\"],[0.3333333333333333,\"#9c179e\"],[0.4444444444444444,\"#bd3786\"],[0.5555555555555556,\"#d8576b\"],[0.6666666666666666,\"#ed7953\"],[0.7777777777777778,\"#fb9f3a\"],[0.8888888888888888,\"#fdca26\"],[1.0,\"#f0f921\"]],\"type\":\"histogram2dcontour\"}],\"mesh3d\":[{\"colorbar\":{\"outlinewidth\":0,\"ticks\":\"\"},\"type\":\"mesh3d\"}],\"parcoords\":[{\"line\":{\"colorbar\":{\"outlinewidth\":0,\"ticks\":\"\"}},\"type\":\"parcoords\"}],\"pie\":[{\"automargin\":true,\"type\":\"pie\"}],\"scatter\":[{\"marker\":{\"colorbar\":{\"outlinewidth\":0,\"ticks\":\"\"}},\"type\":\"scatter\"}],\"scatter3d\":[{\"line\":{\"colorbar\":{\"outlinewidth\":0,\"ticks\":\"\"}},\"marker\":{\"colorbar\":{\"outlinewidth\":0,\"ticks\":\"\"}},\"type\":\"scatter3d\"}],\"scattercarpet\":[{\"marker\":{\"colorbar\":{\"outlinewidth\":0,\"ticks\":\"\"}},\"type\":\"scattercarpet\"}],\"scattergeo\":[{\"marker\":{\"colorbar\":{\"outlinewidth\":0,\"ticks\":\"\"}},\"type\":\"scattergeo\"}],\"scattergl\":[{\"marker\":{\"colorbar\":{\"outlinewidth\":0,\"ticks\":\"\"}},\"type\":\"scattergl\"}],\"scattermapbox\":[{\"marker\":{\"colorbar\":{\"outlinewidth\":0,\"ticks\":\"\"}},\"type\":\"scattermapbox\"}],\"scatterpolar\":[{\"marker\":{\"colorbar\":{\"outlinewidth\":0,\"ticks\":\"\"}},\"type\":\"scatterpolar\"}],\"scatterpolargl\":[{\"marker\":{\"colorbar\":{\"outlinewidth\":0,\"ticks\":\"\"}},\"type\":\"scatterpolargl\"}],\"scatterternary\":[{\"marker\":{\"colorbar\":{\"outlinewidth\":0,\"ticks\":\"\"}},\"type\":\"scatterternary\"}],\"surface\":[{\"colorbar\":{\"outlinewidth\":0,\"ticks\":\"\"},\"colorscale\":[[0.0,\"#0d0887\"],[0.1111111111111111,\"#46039f\"],[0.2222222222222222,\"#7201a8\"],[0.3333333333333333,\"#9c179e\"],[0.4444444444444444,\"#bd3786\"],[0.5555555555555556,\"#d8576b\"],[0.6666666666666666,\"#ed7953\"],[0.7777777777777778,\"#fb9f3a\"],[0.8888888888888888,\"#fdca26\"],[1.0,\"#f0f921\"]],\"type\":\"surface\"}],\"table\":[{\"cells\":{\"fill\":{\"color\":\"#EBF0F8\"},\"line\":{\"color\":\"white\"}},\"header\":{\"fill\":{\"color\":\"#C8D4E3\"},\"line\":{\"color\":\"white\"}},\"type\":\"table\"}]},\"layout\":{\"annotationdefaults\":{\"arrowcolor\":\"#2a3f5f\",\"arrowhead\":0,\"arrowwidth\":1},\"autotypenumbers\":\"strict\",\"coloraxis\":{\"colorbar\":{\"outlinewidth\":0,\"ticks\":\"\"}},\"colorscale\":{\"diverging\":[[0,\"#8e0152\"],[0.1,\"#c51b7d\"],[0.2,\"#de77ae\"],[0.3,\"#f1b6da\"],[0.4,\"#fde0ef\"],[0.5,\"#f7f7f7\"],[0.6,\"#e6f5d0\"],[0.7,\"#b8e186\"],[0.8,\"#7fbc41\"],[0.9,\"#4d9221\"],[1,\"#276419\"]],\"sequential\":[[0.0,\"#0d0887\"],[0.1111111111111111,\"#46039f\"],[0.2222222222222222,\"#7201a8\"],[0.3333333333333333,\"#9c179e\"],[0.4444444444444444,\"#bd3786\"],[0.5555555555555556,\"#d8576b\"],[0.6666666666666666,\"#ed7953\"],[0.7777777777777778,\"#fb9f3a\"],[0.8888888888888888,\"#fdca26\"],[1.0,\"#f0f921\"]],\"sequentialminus\":[[0.0,\"#0d0887\"],[0.1111111111111111,\"#46039f\"],[0.2222222222222222,\"#7201a8\"],[0.3333333333333333,\"#9c179e\"],[0.4444444444444444,\"#bd3786\"],[0.5555555555555556,\"#d8576b\"],[0.6666666666666666,\"#ed7953\"],[0.7777777777777778,\"#fb9f3a\"],[0.8888888888888888,\"#fdca26\"],[1.0,\"#f0f921\"]]},\"colorway\":[\"#636efa\",\"#EF553B\",\"#00cc96\",\"#ab63fa\",\"#FFA15A\",\"#19d3f3\",\"#FF6692\",\"#B6E880\",\"#FF97FF\",\"#FECB52\"],\"font\":{\"color\":\"#2a3f5f\"},\"geo\":{\"bgcolor\":\"white\",\"lakecolor\":\"white\",\"landcolor\":\"#E5ECF6\",\"showlakes\":true,\"showland\":true,\"subunitcolor\":\"white\"},\"hoverlabel\":{\"align\":\"left\"},\"hovermode\":\"closest\",\"mapbox\":{\"style\":\"light\"},\"paper_bgcolor\":\"white\",\"plot_bgcolor\":\"#E5ECF6\",\"polar\":{\"angularaxis\":{\"gridcolor\":\"white\",\"linecolor\":\"white\",\"ticks\":\"\"},\"bgcolor\":\"#E5ECF6\",\"radialaxis\":{\"gridcolor\":\"white\",\"linecolor\":\"white\",\"ticks\":\"\"}},\"scene\":{\"xaxis\":{\"backgroundcolor\":\"#E5ECF6\",\"gridcolor\":\"white\",\"gridwidth\":2,\"linecolor\":\"white\",\"showbackground\":true,\"ticks\":\"\",\"zerolinecolor\":\"white\"},\"yaxis\":{\"backgroundcolor\":\"#E5ECF6\",\"gridcolor\":\"white\",\"gridwidth\":2,\"linecolor\":\"white\",\"showbackground\":true,\"ticks\":\"\",\"zerolinecolor\":\"white\"},\"zaxis\":{\"backgroundcolor\":\"#E5ECF6\",\"gridcolor\":\"white\",\"gridwidth\":2,\"linecolor\":\"white\",\"showbackground\":true,\"ticks\":\"\",\"zerolinecolor\":\"white\"}},\"shapedefaults\":{\"line\":{\"color\":\"#2a3f5f\"}},\"ternary\":{\"aaxis\":{\"gridcolor\":\"white\",\"linecolor\":\"white\",\"ticks\":\"\"},\"baxis\":{\"gridcolor\":\"white\",\"linecolor\":\"white\",\"ticks\":\"\"},\"bgcolor\":\"#E5ECF6\",\"caxis\":{\"gridcolor\":\"white\",\"linecolor\":\"white\",\"ticks\":\"\"}},\"title\":{\"x\":0.05},\"xaxis\":{\"automargin\":true,\"gridcolor\":\"white\",\"linecolor\":\"white\",\"ticks\":\"\",\"title\":{\"standoff\":15},\"zerolinecolor\":\"white\",\"zerolinewidth\":2},\"yaxis\":{\"automargin\":true,\"gridcolor\":\"white\",\"linecolor\":\"white\",\"ticks\":\"\",\"title\":{\"standoff\":15},\"zerolinecolor\":\"white\",\"zerolinewidth\":2}}},\"xaxis\":{\"anchor\":\"y\",\"domain\":[0.0,1.0],\"title\":{\"text\":\"\\u0412\\u0438\\u0434 \\u043e\\u0431\\u044a\\u0435\\u043a\\u0442\\u0430\"},\"tickangle\":45},\"yaxis\":{\"anchor\":\"x\",\"domain\":[0.0,1.0],\"title\":{\"text\":\"\\u041a\\u043e\\u043b\\u0438\\u0447\\u0435\\u0441\\u0442\\u0432\\u043e\"}},\"legend\":{\"tracegroupgap\":0},\"margin\":{\"t\":60},\"barmode\":\"relative\",\"height\":800,\"width\":800,\"title\":{\"text\":\"\\u0421\\u043e\\u043e\\u0442\\u043d\\u043e\\u0448\\u0435\\u043d\\u0438\\u0435 \\u0432\\u0438\\u0434\\u043e\\u0432 \\u043e\\u0431\\u044a\\u0435\\u043a\\u0442\\u043e\\u0432 \\u043e\\u0431\\u0449\\u0435\\u0441\\u0442\\u0432\\u0435\\u043d\\u043d\\u043e\\u0433\\u043e \\u043f\\u0438\\u0442\\u0430\\u043d\\u0438\\u044f \\u043f\\u043e \\u043a\\u043e\\u043b\\u0438\\u0447\\u0435\\u0441\\u0442\\u0432\\u0443\",\"x\":0.5}},                        {\"responsive\": true}                    ).then(function(){\n",
       "                            \n",
       "var gd = document.getElementById('5a112a22-b14f-4a95-a598-aa9f01085133');\n",
       "var x = new MutationObserver(function (mutations, observer) {{\n",
       "        var display = window.getComputedStyle(gd).display;\n",
       "        if (!display || display === 'none') {{\n",
       "            console.log([gd, 'removed!']);\n",
       "            Plotly.purge(gd);\n",
       "            observer.disconnect();\n",
       "        }}\n",
       "}});\n",
       "\n",
       "// Listen for the removal of the full notebook cells\n",
       "var notebookContainer = gd.closest('#notebook-container');\n",
       "if (notebookContainer) {{\n",
       "    x.observe(notebookContainer, {childList: true});\n",
       "}}\n",
       "\n",
       "// Listen for the clearing of the current output cell\n",
       "var outputEl = gd.closest('.output');\n",
       "if (outputEl) {{\n",
       "    x.observe(outputEl, {childList: true});\n",
       "}}\n",
       "\n",
       "                        })                };                });            </script>        </div>"
      ]
     },
     "metadata": {},
     "output_type": "display_data"
    }
   ],
   "source": [
    "fig = px.bar(\n",
    "    data, x='object_type', y='id', \n",
    "    labels=dict({'object_type': 'Вид объекта', 'id':'Количество'}),\n",
    "    width=800, height=800\n",
    ")\n",
    "fig.update_xaxes(tickangle=45)\n",
    "fig.update_layout(title_text='Соотношение видов объектов общественного питания по количеству', title_x=0.5, \n",
    "                 )\n",
    "fig.show() "
   ]
  },
  {
   "cell_type": "markdown",
   "metadata": {},
   "source": [
    "Самыми популярными видами объектов являются кафе, меньше всего в городе отделов кулинарии"
   ]
  },
  {
   "cell_type": "markdown",
   "metadata": {},
   "source": [
    "### Исследование соотношения сетевых и несетевых заведений по количеству"
   ]
  },
  {
   "cell_type": "markdown",
   "metadata": {},
   "source": [
    "Посмотрим на соотнонешие сетевых и несетевых заведений по колчичеству, данные визуализируем в виде круговой диаграммы"
   ]
  },
  {
   "cell_type": "code",
   "execution_count": 19,
   "metadata": {},
   "outputs": [
    {
     "data": {
      "text/html": [
       "<div>\n",
       "<style scoped>\n",
       "    .dataframe tbody tr th:only-of-type {\n",
       "        vertical-align: middle;\n",
       "    }\n",
       "\n",
       "    .dataframe tbody tr th {\n",
       "        vertical-align: top;\n",
       "    }\n",
       "\n",
       "    .dataframe thead th {\n",
       "        text-align: right;\n",
       "    }\n",
       "</style>\n",
       "<table border=\"1\" class=\"dataframe\">\n",
       "  <thead>\n",
       "    <tr style=\"text-align: right;\">\n",
       "      <th></th>\n",
       "      <th>chain</th>\n",
       "      <th>id</th>\n",
       "    </tr>\n",
       "  </thead>\n",
       "  <tbody>\n",
       "    <tr>\n",
       "      <th>0</th>\n",
       "      <td>да</td>\n",
       "      <td>2921</td>\n",
       "    </tr>\n",
       "    <tr>\n",
       "      <th>1</th>\n",
       "      <td>нет</td>\n",
       "      <td>11995</td>\n",
       "    </tr>\n",
       "  </tbody>\n",
       "</table>\n",
       "</div>"
      ],
      "text/plain": [
       "  chain     id\n",
       "0    да   2921\n",
       "1   нет  11995"
      ]
     },
     "execution_count": 19,
     "metadata": {},
     "output_type": "execute_result"
    }
   ],
   "source": [
    "chain = df.pivot_table(index='chain', values='id', aggfunc='count')\\\n",
    "        .reset_index()\\\n",
    "        .sort_values(by='id')\n",
    "chain"
   ]
  },
  {
   "cell_type": "code",
   "execution_count": 20,
   "metadata": {},
   "outputs": [
    {
     "data": {
      "application/vnd.plotly.v1+json": {
       "config": {
        "plotlyServerURL": "https://plot.ly"
       },
       "data": [
        {
         "domain": {
          "x": [
           0,
           1
          ],
          "y": [
           0,
           1
          ]
         },
         "hovertemplate": "chain=%{label}<br>id=%{value}<extra></extra>",
         "labels": [
          "Сетевые заведения",
          "Несетевые заведения"
         ],
         "legendgroup": "",
         "name": "",
         "pull": 0.05,
         "showlegend": true,
         "textinfo": "percent+value",
         "textposition": "inside",
         "type": "pie",
         "values": [
          2921,
          11995
         ]
        }
       ],
       "layout": {
        "legend": {
         "tracegroupgap": 0
        },
        "margin": {
         "t": 60
        },
        "template": {
         "data": {
          "bar": [
           {
            "error_x": {
             "color": "#2a3f5f"
            },
            "error_y": {
             "color": "#2a3f5f"
            },
            "marker": {
             "line": {
              "color": "#E5ECF6",
              "width": 0.5
             },
             "pattern": {
              "fillmode": "overlay",
              "size": 10,
              "solidity": 0.2
             }
            },
            "type": "bar"
           }
          ],
          "barpolar": [
           {
            "marker": {
             "line": {
              "color": "#E5ECF6",
              "width": 0.5
             },
             "pattern": {
              "fillmode": "overlay",
              "size": 10,
              "solidity": 0.2
             }
            },
            "type": "barpolar"
           }
          ],
          "carpet": [
           {
            "aaxis": {
             "endlinecolor": "#2a3f5f",
             "gridcolor": "white",
             "linecolor": "white",
             "minorgridcolor": "white",
             "startlinecolor": "#2a3f5f"
            },
            "baxis": {
             "endlinecolor": "#2a3f5f",
             "gridcolor": "white",
             "linecolor": "white",
             "minorgridcolor": "white",
             "startlinecolor": "#2a3f5f"
            },
            "type": "carpet"
           }
          ],
          "choropleth": [
           {
            "colorbar": {
             "outlinewidth": 0,
             "ticks": ""
            },
            "type": "choropleth"
           }
          ],
          "contour": [
           {
            "colorbar": {
             "outlinewidth": 0,
             "ticks": ""
            },
            "colorscale": [
             [
              0,
              "#0d0887"
             ],
             [
              0.1111111111111111,
              "#46039f"
             ],
             [
              0.2222222222222222,
              "#7201a8"
             ],
             [
              0.3333333333333333,
              "#9c179e"
             ],
             [
              0.4444444444444444,
              "#bd3786"
             ],
             [
              0.5555555555555556,
              "#d8576b"
             ],
             [
              0.6666666666666666,
              "#ed7953"
             ],
             [
              0.7777777777777778,
              "#fb9f3a"
             ],
             [
              0.8888888888888888,
              "#fdca26"
             ],
             [
              1,
              "#f0f921"
             ]
            ],
            "type": "contour"
           }
          ],
          "contourcarpet": [
           {
            "colorbar": {
             "outlinewidth": 0,
             "ticks": ""
            },
            "type": "contourcarpet"
           }
          ],
          "heatmap": [
           {
            "colorbar": {
             "outlinewidth": 0,
             "ticks": ""
            },
            "colorscale": [
             [
              0,
              "#0d0887"
             ],
             [
              0.1111111111111111,
              "#46039f"
             ],
             [
              0.2222222222222222,
              "#7201a8"
             ],
             [
              0.3333333333333333,
              "#9c179e"
             ],
             [
              0.4444444444444444,
              "#bd3786"
             ],
             [
              0.5555555555555556,
              "#d8576b"
             ],
             [
              0.6666666666666666,
              "#ed7953"
             ],
             [
              0.7777777777777778,
              "#fb9f3a"
             ],
             [
              0.8888888888888888,
              "#fdca26"
             ],
             [
              1,
              "#f0f921"
             ]
            ],
            "type": "heatmap"
           }
          ],
          "heatmapgl": [
           {
            "colorbar": {
             "outlinewidth": 0,
             "ticks": ""
            },
            "colorscale": [
             [
              0,
              "#0d0887"
             ],
             [
              0.1111111111111111,
              "#46039f"
             ],
             [
              0.2222222222222222,
              "#7201a8"
             ],
             [
              0.3333333333333333,
              "#9c179e"
             ],
             [
              0.4444444444444444,
              "#bd3786"
             ],
             [
              0.5555555555555556,
              "#d8576b"
             ],
             [
              0.6666666666666666,
              "#ed7953"
             ],
             [
              0.7777777777777778,
              "#fb9f3a"
             ],
             [
              0.8888888888888888,
              "#fdca26"
             ],
             [
              1,
              "#f0f921"
             ]
            ],
            "type": "heatmapgl"
           }
          ],
          "histogram": [
           {
            "marker": {
             "pattern": {
              "fillmode": "overlay",
              "size": 10,
              "solidity": 0.2
             }
            },
            "type": "histogram"
           }
          ],
          "histogram2d": [
           {
            "colorbar": {
             "outlinewidth": 0,
             "ticks": ""
            },
            "colorscale": [
             [
              0,
              "#0d0887"
             ],
             [
              0.1111111111111111,
              "#46039f"
             ],
             [
              0.2222222222222222,
              "#7201a8"
             ],
             [
              0.3333333333333333,
              "#9c179e"
             ],
             [
              0.4444444444444444,
              "#bd3786"
             ],
             [
              0.5555555555555556,
              "#d8576b"
             ],
             [
              0.6666666666666666,
              "#ed7953"
             ],
             [
              0.7777777777777778,
              "#fb9f3a"
             ],
             [
              0.8888888888888888,
              "#fdca26"
             ],
             [
              1,
              "#f0f921"
             ]
            ],
            "type": "histogram2d"
           }
          ],
          "histogram2dcontour": [
           {
            "colorbar": {
             "outlinewidth": 0,
             "ticks": ""
            },
            "colorscale": [
             [
              0,
              "#0d0887"
             ],
             [
              0.1111111111111111,
              "#46039f"
             ],
             [
              0.2222222222222222,
              "#7201a8"
             ],
             [
              0.3333333333333333,
              "#9c179e"
             ],
             [
              0.4444444444444444,
              "#bd3786"
             ],
             [
              0.5555555555555556,
              "#d8576b"
             ],
             [
              0.6666666666666666,
              "#ed7953"
             ],
             [
              0.7777777777777778,
              "#fb9f3a"
             ],
             [
              0.8888888888888888,
              "#fdca26"
             ],
             [
              1,
              "#f0f921"
             ]
            ],
            "type": "histogram2dcontour"
           }
          ],
          "mesh3d": [
           {
            "colorbar": {
             "outlinewidth": 0,
             "ticks": ""
            },
            "type": "mesh3d"
           }
          ],
          "parcoords": [
           {
            "line": {
             "colorbar": {
              "outlinewidth": 0,
              "ticks": ""
             }
            },
            "type": "parcoords"
           }
          ],
          "pie": [
           {
            "automargin": true,
            "type": "pie"
           }
          ],
          "scatter": [
           {
            "marker": {
             "colorbar": {
              "outlinewidth": 0,
              "ticks": ""
             }
            },
            "type": "scatter"
           }
          ],
          "scatter3d": [
           {
            "line": {
             "colorbar": {
              "outlinewidth": 0,
              "ticks": ""
             }
            },
            "marker": {
             "colorbar": {
              "outlinewidth": 0,
              "ticks": ""
             }
            },
            "type": "scatter3d"
           }
          ],
          "scattercarpet": [
           {
            "marker": {
             "colorbar": {
              "outlinewidth": 0,
              "ticks": ""
             }
            },
            "type": "scattercarpet"
           }
          ],
          "scattergeo": [
           {
            "marker": {
             "colorbar": {
              "outlinewidth": 0,
              "ticks": ""
             }
            },
            "type": "scattergeo"
           }
          ],
          "scattergl": [
           {
            "marker": {
             "colorbar": {
              "outlinewidth": 0,
              "ticks": ""
             }
            },
            "type": "scattergl"
           }
          ],
          "scattermapbox": [
           {
            "marker": {
             "colorbar": {
              "outlinewidth": 0,
              "ticks": ""
             }
            },
            "type": "scattermapbox"
           }
          ],
          "scatterpolar": [
           {
            "marker": {
             "colorbar": {
              "outlinewidth": 0,
              "ticks": ""
             }
            },
            "type": "scatterpolar"
           }
          ],
          "scatterpolargl": [
           {
            "marker": {
             "colorbar": {
              "outlinewidth": 0,
              "ticks": ""
             }
            },
            "type": "scatterpolargl"
           }
          ],
          "scatterternary": [
           {
            "marker": {
             "colorbar": {
              "outlinewidth": 0,
              "ticks": ""
             }
            },
            "type": "scatterternary"
           }
          ],
          "surface": [
           {
            "colorbar": {
             "outlinewidth": 0,
             "ticks": ""
            },
            "colorscale": [
             [
              0,
              "#0d0887"
             ],
             [
              0.1111111111111111,
              "#46039f"
             ],
             [
              0.2222222222222222,
              "#7201a8"
             ],
             [
              0.3333333333333333,
              "#9c179e"
             ],
             [
              0.4444444444444444,
              "#bd3786"
             ],
             [
              0.5555555555555556,
              "#d8576b"
             ],
             [
              0.6666666666666666,
              "#ed7953"
             ],
             [
              0.7777777777777778,
              "#fb9f3a"
             ],
             [
              0.8888888888888888,
              "#fdca26"
             ],
             [
              1,
              "#f0f921"
             ]
            ],
            "type": "surface"
           }
          ],
          "table": [
           {
            "cells": {
             "fill": {
              "color": "#EBF0F8"
             },
             "line": {
              "color": "white"
             }
            },
            "header": {
             "fill": {
              "color": "#C8D4E3"
             },
             "line": {
              "color": "white"
             }
            },
            "type": "table"
           }
          ]
         },
         "layout": {
          "annotationdefaults": {
           "arrowcolor": "#2a3f5f",
           "arrowhead": 0,
           "arrowwidth": 1
          },
          "autotypenumbers": "strict",
          "coloraxis": {
           "colorbar": {
            "outlinewidth": 0,
            "ticks": ""
           }
          },
          "colorscale": {
           "diverging": [
            [
             0,
             "#8e0152"
            ],
            [
             0.1,
             "#c51b7d"
            ],
            [
             0.2,
             "#de77ae"
            ],
            [
             0.3,
             "#f1b6da"
            ],
            [
             0.4,
             "#fde0ef"
            ],
            [
             0.5,
             "#f7f7f7"
            ],
            [
             0.6,
             "#e6f5d0"
            ],
            [
             0.7,
             "#b8e186"
            ],
            [
             0.8,
             "#7fbc41"
            ],
            [
             0.9,
             "#4d9221"
            ],
            [
             1,
             "#276419"
            ]
           ],
           "sequential": [
            [
             0,
             "#0d0887"
            ],
            [
             0.1111111111111111,
             "#46039f"
            ],
            [
             0.2222222222222222,
             "#7201a8"
            ],
            [
             0.3333333333333333,
             "#9c179e"
            ],
            [
             0.4444444444444444,
             "#bd3786"
            ],
            [
             0.5555555555555556,
             "#d8576b"
            ],
            [
             0.6666666666666666,
             "#ed7953"
            ],
            [
             0.7777777777777778,
             "#fb9f3a"
            ],
            [
             0.8888888888888888,
             "#fdca26"
            ],
            [
             1,
             "#f0f921"
            ]
           ],
           "sequentialminus": [
            [
             0,
             "#0d0887"
            ],
            [
             0.1111111111111111,
             "#46039f"
            ],
            [
             0.2222222222222222,
             "#7201a8"
            ],
            [
             0.3333333333333333,
             "#9c179e"
            ],
            [
             0.4444444444444444,
             "#bd3786"
            ],
            [
             0.5555555555555556,
             "#d8576b"
            ],
            [
             0.6666666666666666,
             "#ed7953"
            ],
            [
             0.7777777777777778,
             "#fb9f3a"
            ],
            [
             0.8888888888888888,
             "#fdca26"
            ],
            [
             1,
             "#f0f921"
            ]
           ]
          },
          "colorway": [
           "#636efa",
           "#EF553B",
           "#00cc96",
           "#ab63fa",
           "#FFA15A",
           "#19d3f3",
           "#FF6692",
           "#B6E880",
           "#FF97FF",
           "#FECB52"
          ],
          "font": {
           "color": "#2a3f5f"
          },
          "geo": {
           "bgcolor": "white",
           "lakecolor": "white",
           "landcolor": "#E5ECF6",
           "showlakes": true,
           "showland": true,
           "subunitcolor": "white"
          },
          "hoverlabel": {
           "align": "left"
          },
          "hovermode": "closest",
          "mapbox": {
           "style": "light"
          },
          "paper_bgcolor": "white",
          "plot_bgcolor": "#E5ECF6",
          "polar": {
           "angularaxis": {
            "gridcolor": "white",
            "linecolor": "white",
            "ticks": ""
           },
           "bgcolor": "#E5ECF6",
           "radialaxis": {
            "gridcolor": "white",
            "linecolor": "white",
            "ticks": ""
           }
          },
          "scene": {
           "xaxis": {
            "backgroundcolor": "#E5ECF6",
            "gridcolor": "white",
            "gridwidth": 2,
            "linecolor": "white",
            "showbackground": true,
            "ticks": "",
            "zerolinecolor": "white"
           },
           "yaxis": {
            "backgroundcolor": "#E5ECF6",
            "gridcolor": "white",
            "gridwidth": 2,
            "linecolor": "white",
            "showbackground": true,
            "ticks": "",
            "zerolinecolor": "white"
           },
           "zaxis": {
            "backgroundcolor": "#E5ECF6",
            "gridcolor": "white",
            "gridwidth": 2,
            "linecolor": "white",
            "showbackground": true,
            "ticks": "",
            "zerolinecolor": "white"
           }
          },
          "shapedefaults": {
           "line": {
            "color": "#2a3f5f"
           }
          },
          "ternary": {
           "aaxis": {
            "gridcolor": "white",
            "linecolor": "white",
            "ticks": ""
           },
           "baxis": {
            "gridcolor": "white",
            "linecolor": "white",
            "ticks": ""
           },
           "bgcolor": "#E5ECF6",
           "caxis": {
            "gridcolor": "white",
            "linecolor": "white",
            "ticks": ""
           }
          },
          "title": {
           "x": 0.05
          },
          "xaxis": {
           "automargin": true,
           "gridcolor": "white",
           "linecolor": "white",
           "ticks": "",
           "title": {
            "standoff": 15
           },
           "zerolinecolor": "white",
           "zerolinewidth": 2
          },
          "yaxis": {
           "automargin": true,
           "gridcolor": "white",
           "linecolor": "white",
           "ticks": "",
           "title": {
            "standoff": 15
           },
           "zerolinecolor": "white",
           "zerolinewidth": 2
          }
         }
        },
        "title": {
         "text": "Соотнонешие сетевых и несетевых заведений по колчичеству",
         "x": 0.5
        }
       }
      },
      "text/html": [
       "<div>                            <div id=\"679a4e90-583e-4612-8140-c0d8e3a284ba\" class=\"plotly-graph-div\" style=\"height:525px; width:100%;\"></div>            <script type=\"text/javascript\">                require([\"plotly\"], function(Plotly) {                    window.PLOTLYENV=window.PLOTLYENV || {};                                    if (document.getElementById(\"679a4e90-583e-4612-8140-c0d8e3a284ba\")) {                    Plotly.newPlot(                        \"679a4e90-583e-4612-8140-c0d8e3a284ba\",                        [{\"domain\":{\"x\":[0.0,1.0],\"y\":[0.0,1.0]},\"hovertemplate\":\"chain=%{label}<br>id=%{value}<extra></extra>\",\"labels\":[\"\\u0421\\u0435\\u0442\\u0435\\u0432\\u044b\\u0435 \\u0437\\u0430\\u0432\\u0435\\u0434\\u0435\\u043d\\u0438\\u044f\",\"\\u041d\\u0435\\u0441\\u0435\\u0442\\u0435\\u0432\\u044b\\u0435 \\u0437\\u0430\\u0432\\u0435\\u0434\\u0435\\u043d\\u0438\\u044f\"],\"legendgroup\":\"\",\"name\":\"\",\"showlegend\":true,\"values\":[2921,11995],\"type\":\"pie\",\"pull\":0.05,\"textinfo\":\"percent+value\",\"textposition\":\"inside\"}],                        {\"template\":{\"data\":{\"bar\":[{\"error_x\":{\"color\":\"#2a3f5f\"},\"error_y\":{\"color\":\"#2a3f5f\"},\"marker\":{\"line\":{\"color\":\"#E5ECF6\",\"width\":0.5},\"pattern\":{\"fillmode\":\"overlay\",\"size\":10,\"solidity\":0.2}},\"type\":\"bar\"}],\"barpolar\":[{\"marker\":{\"line\":{\"color\":\"#E5ECF6\",\"width\":0.5},\"pattern\":{\"fillmode\":\"overlay\",\"size\":10,\"solidity\":0.2}},\"type\":\"barpolar\"}],\"carpet\":[{\"aaxis\":{\"endlinecolor\":\"#2a3f5f\",\"gridcolor\":\"white\",\"linecolor\":\"white\",\"minorgridcolor\":\"white\",\"startlinecolor\":\"#2a3f5f\"},\"baxis\":{\"endlinecolor\":\"#2a3f5f\",\"gridcolor\":\"white\",\"linecolor\":\"white\",\"minorgridcolor\":\"white\",\"startlinecolor\":\"#2a3f5f\"},\"type\":\"carpet\"}],\"choropleth\":[{\"colorbar\":{\"outlinewidth\":0,\"ticks\":\"\"},\"type\":\"choropleth\"}],\"contour\":[{\"colorbar\":{\"outlinewidth\":0,\"ticks\":\"\"},\"colorscale\":[[0.0,\"#0d0887\"],[0.1111111111111111,\"#46039f\"],[0.2222222222222222,\"#7201a8\"],[0.3333333333333333,\"#9c179e\"],[0.4444444444444444,\"#bd3786\"],[0.5555555555555556,\"#d8576b\"],[0.6666666666666666,\"#ed7953\"],[0.7777777777777778,\"#fb9f3a\"],[0.8888888888888888,\"#fdca26\"],[1.0,\"#f0f921\"]],\"type\":\"contour\"}],\"contourcarpet\":[{\"colorbar\":{\"outlinewidth\":0,\"ticks\":\"\"},\"type\":\"contourcarpet\"}],\"heatmap\":[{\"colorbar\":{\"outlinewidth\":0,\"ticks\":\"\"},\"colorscale\":[[0.0,\"#0d0887\"],[0.1111111111111111,\"#46039f\"],[0.2222222222222222,\"#7201a8\"],[0.3333333333333333,\"#9c179e\"],[0.4444444444444444,\"#bd3786\"],[0.5555555555555556,\"#d8576b\"],[0.6666666666666666,\"#ed7953\"],[0.7777777777777778,\"#fb9f3a\"],[0.8888888888888888,\"#fdca26\"],[1.0,\"#f0f921\"]],\"type\":\"heatmap\"}],\"heatmapgl\":[{\"colorbar\":{\"outlinewidth\":0,\"ticks\":\"\"},\"colorscale\":[[0.0,\"#0d0887\"],[0.1111111111111111,\"#46039f\"],[0.2222222222222222,\"#7201a8\"],[0.3333333333333333,\"#9c179e\"],[0.4444444444444444,\"#bd3786\"],[0.5555555555555556,\"#d8576b\"],[0.6666666666666666,\"#ed7953\"],[0.7777777777777778,\"#fb9f3a\"],[0.8888888888888888,\"#fdca26\"],[1.0,\"#f0f921\"]],\"type\":\"heatmapgl\"}],\"histogram\":[{\"marker\":{\"pattern\":{\"fillmode\":\"overlay\",\"size\":10,\"solidity\":0.2}},\"type\":\"histogram\"}],\"histogram2d\":[{\"colorbar\":{\"outlinewidth\":0,\"ticks\":\"\"},\"colorscale\":[[0.0,\"#0d0887\"],[0.1111111111111111,\"#46039f\"],[0.2222222222222222,\"#7201a8\"],[0.3333333333333333,\"#9c179e\"],[0.4444444444444444,\"#bd3786\"],[0.5555555555555556,\"#d8576b\"],[0.6666666666666666,\"#ed7953\"],[0.7777777777777778,\"#fb9f3a\"],[0.8888888888888888,\"#fdca26\"],[1.0,\"#f0f921\"]],\"type\":\"histogram2d\"}],\"histogram2dcontour\":[{\"colorbar\":{\"outlinewidth\":0,\"ticks\":\"\"},\"colorscale\":[[0.0,\"#0d0887\"],[0.1111111111111111,\"#46039f\"],[0.2222222222222222,\"#7201a8\"],[0.3333333333333333,\"#9c179e\"],[0.4444444444444444,\"#bd3786\"],[0.5555555555555556,\"#d8576b\"],[0.6666666666666666,\"#ed7953\"],[0.7777777777777778,\"#fb9f3a\"],[0.8888888888888888,\"#fdca26\"],[1.0,\"#f0f921\"]],\"type\":\"histogram2dcontour\"}],\"mesh3d\":[{\"colorbar\":{\"outlinewidth\":0,\"ticks\":\"\"},\"type\":\"mesh3d\"}],\"parcoords\":[{\"line\":{\"colorbar\":{\"outlinewidth\":0,\"ticks\":\"\"}},\"type\":\"parcoords\"}],\"pie\":[{\"automargin\":true,\"type\":\"pie\"}],\"scatter\":[{\"marker\":{\"colorbar\":{\"outlinewidth\":0,\"ticks\":\"\"}},\"type\":\"scatter\"}],\"scatter3d\":[{\"line\":{\"colorbar\":{\"outlinewidth\":0,\"ticks\":\"\"}},\"marker\":{\"colorbar\":{\"outlinewidth\":0,\"ticks\":\"\"}},\"type\":\"scatter3d\"}],\"scattercarpet\":[{\"marker\":{\"colorbar\":{\"outlinewidth\":0,\"ticks\":\"\"}},\"type\":\"scattercarpet\"}],\"scattergeo\":[{\"marker\":{\"colorbar\":{\"outlinewidth\":0,\"ticks\":\"\"}},\"type\":\"scattergeo\"}],\"scattergl\":[{\"marker\":{\"colorbar\":{\"outlinewidth\":0,\"ticks\":\"\"}},\"type\":\"scattergl\"}],\"scattermapbox\":[{\"marker\":{\"colorbar\":{\"outlinewidth\":0,\"ticks\":\"\"}},\"type\":\"scattermapbox\"}],\"scatterpolar\":[{\"marker\":{\"colorbar\":{\"outlinewidth\":0,\"ticks\":\"\"}},\"type\":\"scatterpolar\"}],\"scatterpolargl\":[{\"marker\":{\"colorbar\":{\"outlinewidth\":0,\"ticks\":\"\"}},\"type\":\"scatterpolargl\"}],\"scatterternary\":[{\"marker\":{\"colorbar\":{\"outlinewidth\":0,\"ticks\":\"\"}},\"type\":\"scatterternary\"}],\"surface\":[{\"colorbar\":{\"outlinewidth\":0,\"ticks\":\"\"},\"colorscale\":[[0.0,\"#0d0887\"],[0.1111111111111111,\"#46039f\"],[0.2222222222222222,\"#7201a8\"],[0.3333333333333333,\"#9c179e\"],[0.4444444444444444,\"#bd3786\"],[0.5555555555555556,\"#d8576b\"],[0.6666666666666666,\"#ed7953\"],[0.7777777777777778,\"#fb9f3a\"],[0.8888888888888888,\"#fdca26\"],[1.0,\"#f0f921\"]],\"type\":\"surface\"}],\"table\":[{\"cells\":{\"fill\":{\"color\":\"#EBF0F8\"},\"line\":{\"color\":\"white\"}},\"header\":{\"fill\":{\"color\":\"#C8D4E3\"},\"line\":{\"color\":\"white\"}},\"type\":\"table\"}]},\"layout\":{\"annotationdefaults\":{\"arrowcolor\":\"#2a3f5f\",\"arrowhead\":0,\"arrowwidth\":1},\"autotypenumbers\":\"strict\",\"coloraxis\":{\"colorbar\":{\"outlinewidth\":0,\"ticks\":\"\"}},\"colorscale\":{\"diverging\":[[0,\"#8e0152\"],[0.1,\"#c51b7d\"],[0.2,\"#de77ae\"],[0.3,\"#f1b6da\"],[0.4,\"#fde0ef\"],[0.5,\"#f7f7f7\"],[0.6,\"#e6f5d0\"],[0.7,\"#b8e186\"],[0.8,\"#7fbc41\"],[0.9,\"#4d9221\"],[1,\"#276419\"]],\"sequential\":[[0.0,\"#0d0887\"],[0.1111111111111111,\"#46039f\"],[0.2222222222222222,\"#7201a8\"],[0.3333333333333333,\"#9c179e\"],[0.4444444444444444,\"#bd3786\"],[0.5555555555555556,\"#d8576b\"],[0.6666666666666666,\"#ed7953\"],[0.7777777777777778,\"#fb9f3a\"],[0.8888888888888888,\"#fdca26\"],[1.0,\"#f0f921\"]],\"sequentialminus\":[[0.0,\"#0d0887\"],[0.1111111111111111,\"#46039f\"],[0.2222222222222222,\"#7201a8\"],[0.3333333333333333,\"#9c179e\"],[0.4444444444444444,\"#bd3786\"],[0.5555555555555556,\"#d8576b\"],[0.6666666666666666,\"#ed7953\"],[0.7777777777777778,\"#fb9f3a\"],[0.8888888888888888,\"#fdca26\"],[1.0,\"#f0f921\"]]},\"colorway\":[\"#636efa\",\"#EF553B\",\"#00cc96\",\"#ab63fa\",\"#FFA15A\",\"#19d3f3\",\"#FF6692\",\"#B6E880\",\"#FF97FF\",\"#FECB52\"],\"font\":{\"color\":\"#2a3f5f\"},\"geo\":{\"bgcolor\":\"white\",\"lakecolor\":\"white\",\"landcolor\":\"#E5ECF6\",\"showlakes\":true,\"showland\":true,\"subunitcolor\":\"white\"},\"hoverlabel\":{\"align\":\"left\"},\"hovermode\":\"closest\",\"mapbox\":{\"style\":\"light\"},\"paper_bgcolor\":\"white\",\"plot_bgcolor\":\"#E5ECF6\",\"polar\":{\"angularaxis\":{\"gridcolor\":\"white\",\"linecolor\":\"white\",\"ticks\":\"\"},\"bgcolor\":\"#E5ECF6\",\"radialaxis\":{\"gridcolor\":\"white\",\"linecolor\":\"white\",\"ticks\":\"\"}},\"scene\":{\"xaxis\":{\"backgroundcolor\":\"#E5ECF6\",\"gridcolor\":\"white\",\"gridwidth\":2,\"linecolor\":\"white\",\"showbackground\":true,\"ticks\":\"\",\"zerolinecolor\":\"white\"},\"yaxis\":{\"backgroundcolor\":\"#E5ECF6\",\"gridcolor\":\"white\",\"gridwidth\":2,\"linecolor\":\"white\",\"showbackground\":true,\"ticks\":\"\",\"zerolinecolor\":\"white\"},\"zaxis\":{\"backgroundcolor\":\"#E5ECF6\",\"gridcolor\":\"white\",\"gridwidth\":2,\"linecolor\":\"white\",\"showbackground\":true,\"ticks\":\"\",\"zerolinecolor\":\"white\"}},\"shapedefaults\":{\"line\":{\"color\":\"#2a3f5f\"}},\"ternary\":{\"aaxis\":{\"gridcolor\":\"white\",\"linecolor\":\"white\",\"ticks\":\"\"},\"baxis\":{\"gridcolor\":\"white\",\"linecolor\":\"white\",\"ticks\":\"\"},\"bgcolor\":\"#E5ECF6\",\"caxis\":{\"gridcolor\":\"white\",\"linecolor\":\"white\",\"ticks\":\"\"}},\"title\":{\"x\":0.05},\"xaxis\":{\"automargin\":true,\"gridcolor\":\"white\",\"linecolor\":\"white\",\"ticks\":\"\",\"title\":{\"standoff\":15},\"zerolinecolor\":\"white\",\"zerolinewidth\":2},\"yaxis\":{\"automargin\":true,\"gridcolor\":\"white\",\"linecolor\":\"white\",\"ticks\":\"\",\"title\":{\"standoff\":15},\"zerolinecolor\":\"white\",\"zerolinewidth\":2}}},\"legend\":{\"tracegroupgap\":0},\"margin\":{\"t\":60},\"title\":{\"text\":\"\\u0421\\u043e\\u043e\\u0442\\u043d\\u043e\\u043d\\u0435\\u0448\\u0438\\u0435 \\u0441\\u0435\\u0442\\u0435\\u0432\\u044b\\u0445 \\u0438 \\u043d\\u0435\\u0441\\u0435\\u0442\\u0435\\u0432\\u044b\\u0445 \\u0437\\u0430\\u0432\\u0435\\u0434\\u0435\\u043d\\u0438\\u0439 \\u043f\\u043e \\u043a\\u043e\\u043b\\u0447\\u0438\\u0447\\u0435\\u0441\\u0442\\u0432\\u0443\",\"x\":0.5}},                        {\"responsive\": true}                    ).then(function(){\n",
       "                            \n",
       "var gd = document.getElementById('679a4e90-583e-4612-8140-c0d8e3a284ba');\n",
       "var x = new MutationObserver(function (mutations, observer) {{\n",
       "        var display = window.getComputedStyle(gd).display;\n",
       "        if (!display || display === 'none') {{\n",
       "            console.log([gd, 'removed!']);\n",
       "            Plotly.purge(gd);\n",
       "            observer.disconnect();\n",
       "        }}\n",
       "}});\n",
       "\n",
       "// Listen for the removal of the full notebook cells\n",
       "var notebookContainer = gd.closest('#notebook-container');\n",
       "if (notebookContainer) {{\n",
       "    x.observe(notebookContainer, {childList: true});\n",
       "}}\n",
       "\n",
       "// Listen for the clearing of the current output cell\n",
       "var outputEl = gd.closest('.output');\n",
       "if (outputEl) {{\n",
       "    x.observe(outputEl, {childList: true});\n",
       "}}\n",
       "\n",
       "                        })                };                });            </script>        </div>"
      ]
     },
     "metadata": {},
     "output_type": "display_data"
    }
   ],
   "source": [
    "#Зададим функцию, которая поможет с переименованием легенды, честно найденой на просторах интернета\n",
    "def new_legend(fig, new_names):\n",
    "    for item in new_names:\n",
    "        for i, elem in enumerate(fig.data[0].labels):\n",
    "            if elem == item:\n",
    "                fig.data[0].labels[i] = new_names[item]\n",
    "    return(fig)\n",
    "\n",
    "#И построем саму круговую диаграмму\n",
    "fig = px.pie(chain, values='id', names='chain')\n",
    "fig.update_layout(title_text='Соотнонешие сетевых и несетевых заведений по колчичеству', title_x=0.5)\n",
    "fig.update_traces(pull=0.05)\n",
    "fig = new_legend(fig = fig, new_names = {'нет':'Несетевые заведения',\n",
    "                                       'да' : 'Сетевые заведения'})\n",
    "fig.update_traces(textposition='inside', textinfo='percent+value')\n",
    "fig.show()\n"
   ]
  },
  {
   "cell_type": "markdown",
   "metadata": {},
   "source": [
    "Несетевых объектов в Москве в 4 раза больше чем сетевых"
   ]
  },
  {
   "cell_type": "markdown",
   "metadata": {},
   "source": [
    "### Характер сетевого распространения объектов по виду объекта"
   ]
  },
  {
   "cell_type": "markdown",
   "metadata": {},
   "source": [
    "Проверим, для какого вида объекта общественного питания характерно сетевое распространение.  \n",
    "Соберем данные и построим график:"
   ]
  },
  {
   "cell_type": "code",
   "execution_count": 21,
   "metadata": {},
   "outputs": [
    {
     "data": {
      "text/html": [
       "<div>\n",
       "<style scoped>\n",
       "    .dataframe tbody tr th:only-of-type {\n",
       "        vertical-align: middle;\n",
       "    }\n",
       "\n",
       "    .dataframe tbody tr th {\n",
       "        vertical-align: top;\n",
       "    }\n",
       "\n",
       "    .dataframe thead th {\n",
       "        text-align: right;\n",
       "    }\n",
       "</style>\n",
       "<table border=\"1\" class=\"dataframe\">\n",
       "  <thead>\n",
       "    <tr style=\"text-align: right;\">\n",
       "      <th></th>\n",
       "      <th>object_type</th>\n",
       "      <th>chain</th>\n",
       "      <th>id</th>\n",
       "    </tr>\n",
       "  </thead>\n",
       "  <tbody>\n",
       "    <tr>\n",
       "      <th>16</th>\n",
       "      <td>столовая</td>\n",
       "      <td>да</td>\n",
       "      <td>3</td>\n",
       "    </tr>\n",
       "    <tr>\n",
       "      <th>2</th>\n",
       "      <td>буфет</td>\n",
       "      <td>да</td>\n",
       "      <td>11</td>\n",
       "    </tr>\n",
       "    <tr>\n",
       "      <th>0</th>\n",
       "      <td>бар</td>\n",
       "      <td>да</td>\n",
       "      <td>37</td>\n",
       "    </tr>\n",
       "    <tr>\n",
       "      <th>8</th>\n",
       "      <td>кафетерий</td>\n",
       "      <td>да</td>\n",
       "      <td>52</td>\n",
       "    </tr>\n",
       "    <tr>\n",
       "      <th>4</th>\n",
       "      <td>закусочная</td>\n",
       "      <td>да</td>\n",
       "      <td>56</td>\n",
       "    </tr>\n",
       "    <tr>\n",
       "      <th>10</th>\n",
       "      <td>магазин (отдел кулинарии)</td>\n",
       "      <td>да</td>\n",
       "      <td>78</td>\n",
       "    </tr>\n",
       "    <tr>\n",
       "      <th>14</th>\n",
       "      <td>ресторан</td>\n",
       "      <td>да</td>\n",
       "      <td>514</td>\n",
       "    </tr>\n",
       "    <tr>\n",
       "      <th>12</th>\n",
       "      <td>предприятие быстрого обслуживания</td>\n",
       "      <td>да</td>\n",
       "      <td>783</td>\n",
       "    </tr>\n",
       "    <tr>\n",
       "      <th>6</th>\n",
       "      <td>кафе</td>\n",
       "      <td>да</td>\n",
       "      <td>1387</td>\n",
       "    </tr>\n",
       "    <tr>\n",
       "      <th>11</th>\n",
       "      <td>магазин (отдел кулинарии)</td>\n",
       "      <td>нет</td>\n",
       "      <td>195</td>\n",
       "    </tr>\n",
       "    <tr>\n",
       "      <th>5</th>\n",
       "      <td>закусочная</td>\n",
       "      <td>нет</td>\n",
       "      <td>292</td>\n",
       "    </tr>\n",
       "    <tr>\n",
       "      <th>9</th>\n",
       "      <td>кафетерий</td>\n",
       "      <td>нет</td>\n",
       "      <td>343</td>\n",
       "    </tr>\n",
       "    <tr>\n",
       "      <th>3</th>\n",
       "      <td>буфет</td>\n",
       "      <td>нет</td>\n",
       "      <td>556</td>\n",
       "    </tr>\n",
       "    <tr>\n",
       "      <th>1</th>\n",
       "      <td>бар</td>\n",
       "      <td>нет</td>\n",
       "      <td>812</td>\n",
       "    </tr>\n",
       "    <tr>\n",
       "      <th>13</th>\n",
       "      <td>предприятие быстрого обслуживания</td>\n",
       "      <td>нет</td>\n",
       "      <td>1109</td>\n",
       "    </tr>\n",
       "    <tr>\n",
       "      <th>15</th>\n",
       "      <td>ресторан</td>\n",
       "      <td>нет</td>\n",
       "      <td>1649</td>\n",
       "    </tr>\n",
       "    <tr>\n",
       "      <th>17</th>\n",
       "      <td>столовая</td>\n",
       "      <td>нет</td>\n",
       "      <td>2378</td>\n",
       "    </tr>\n",
       "    <tr>\n",
       "      <th>7</th>\n",
       "      <td>кафе</td>\n",
       "      <td>нет</td>\n",
       "      <td>4661</td>\n",
       "    </tr>\n",
       "  </tbody>\n",
       "</table>\n",
       "</div>"
      ],
      "text/plain": [
       "                          object_type chain    id\n",
       "16                           столовая    да     3\n",
       "2                               буфет    да    11\n",
       "0                                 бар    да    37\n",
       "8                           кафетерий    да    52\n",
       "4                          закусочная    да    56\n",
       "10          магазин (отдел кулинарии)    да    78\n",
       "14                           ресторан    да   514\n",
       "12  предприятие быстрого обслуживания    да   783\n",
       "6                                кафе    да  1387\n",
       "11          магазин (отдел кулинарии)   нет   195\n",
       "5                          закусочная   нет   292\n",
       "9                           кафетерий   нет   343\n",
       "3                               буфет   нет   556\n",
       "1                                 бар   нет   812\n",
       "13  предприятие быстрого обслуживания   нет  1109\n",
       "15                           ресторан   нет  1649\n",
       "17                           столовая   нет  2378\n",
       "7                                кафе   нет  4661"
      ]
     },
     "execution_count": 21,
     "metadata": {},
     "output_type": "execute_result"
    }
   ],
   "source": [
    "rest_chain = df.pivot_table(index=['object_type', 'chain'], values='id', aggfunc='count')\\\n",
    "        .reset_index()\\\n",
    "        .sort_values(by=['chain','id'])\n",
    "rest_chain"
   ]
  },
  {
   "cell_type": "code",
   "execution_count": 22,
   "metadata": {},
   "outputs": [
    {
     "data": {
      "application/vnd.plotly.v1+json": {
       "config": {
        "plotlyServerURL": "https://plot.ly"
       },
       "data": [
        {
         "alignmentgroup": "True",
         "hovertemplate": "chain=да<br>Вид объекта=%{x}<br>Количество=%{y}<extra></extra>",
         "legendgroup": "да",
         "marker": {
          "color": "#636efa",
          "pattern": {
           "shape": ""
          }
         },
         "name": "да",
         "offsetgroup": "да",
         "orientation": "v",
         "showlegend": true,
         "textposition": "auto",
         "type": "bar",
         "x": [
          "столовая",
          "буфет",
          "бар",
          "кафетерий",
          "закусочная",
          "магазин (отдел кулинарии)",
          "ресторан",
          "предприятие быстрого обслуживания",
          "кафе"
         ],
         "xaxis": "x",
         "y": [
          3,
          11,
          37,
          52,
          56,
          78,
          514,
          783,
          1387
         ],
         "yaxis": "y"
        },
        {
         "alignmentgroup": "True",
         "hovertemplate": "chain=нет<br>Вид объекта=%{x}<br>Количество=%{y}<extra></extra>",
         "legendgroup": "нет",
         "marker": {
          "color": "#EF553B",
          "pattern": {
           "shape": ""
          }
         },
         "name": "нет",
         "offsetgroup": "нет",
         "orientation": "v",
         "showlegend": true,
         "textposition": "auto",
         "type": "bar",
         "x": [
          "магазин (отдел кулинарии)",
          "закусочная",
          "кафетерий",
          "буфет",
          "бар",
          "предприятие быстрого обслуживания",
          "ресторан",
          "столовая",
          "кафе"
         ],
         "xaxis": "x",
         "y": [
          195,
          292,
          343,
          556,
          812,
          1109,
          1649,
          2378,
          4661
         ],
         "yaxis": "y"
        }
       ],
       "layout": {
        "barmode": "group",
        "height": 800,
        "legend": {
         "title": {
          "text": "Сетевое заведение"
         },
         "tracegroupgap": 0
        },
        "margin": {
         "t": 60
        },
        "template": {
         "data": {
          "bar": [
           {
            "error_x": {
             "color": "#2a3f5f"
            },
            "error_y": {
             "color": "#2a3f5f"
            },
            "marker": {
             "line": {
              "color": "#E5ECF6",
              "width": 0.5
             },
             "pattern": {
              "fillmode": "overlay",
              "size": 10,
              "solidity": 0.2
             }
            },
            "type": "bar"
           }
          ],
          "barpolar": [
           {
            "marker": {
             "line": {
              "color": "#E5ECF6",
              "width": 0.5
             },
             "pattern": {
              "fillmode": "overlay",
              "size": 10,
              "solidity": 0.2
             }
            },
            "type": "barpolar"
           }
          ],
          "carpet": [
           {
            "aaxis": {
             "endlinecolor": "#2a3f5f",
             "gridcolor": "white",
             "linecolor": "white",
             "minorgridcolor": "white",
             "startlinecolor": "#2a3f5f"
            },
            "baxis": {
             "endlinecolor": "#2a3f5f",
             "gridcolor": "white",
             "linecolor": "white",
             "minorgridcolor": "white",
             "startlinecolor": "#2a3f5f"
            },
            "type": "carpet"
           }
          ],
          "choropleth": [
           {
            "colorbar": {
             "outlinewidth": 0,
             "ticks": ""
            },
            "type": "choropleth"
           }
          ],
          "contour": [
           {
            "colorbar": {
             "outlinewidth": 0,
             "ticks": ""
            },
            "colorscale": [
             [
              0,
              "#0d0887"
             ],
             [
              0.1111111111111111,
              "#46039f"
             ],
             [
              0.2222222222222222,
              "#7201a8"
             ],
             [
              0.3333333333333333,
              "#9c179e"
             ],
             [
              0.4444444444444444,
              "#bd3786"
             ],
             [
              0.5555555555555556,
              "#d8576b"
             ],
             [
              0.6666666666666666,
              "#ed7953"
             ],
             [
              0.7777777777777778,
              "#fb9f3a"
             ],
             [
              0.8888888888888888,
              "#fdca26"
             ],
             [
              1,
              "#f0f921"
             ]
            ],
            "type": "contour"
           }
          ],
          "contourcarpet": [
           {
            "colorbar": {
             "outlinewidth": 0,
             "ticks": ""
            },
            "type": "contourcarpet"
           }
          ],
          "heatmap": [
           {
            "colorbar": {
             "outlinewidth": 0,
             "ticks": ""
            },
            "colorscale": [
             [
              0,
              "#0d0887"
             ],
             [
              0.1111111111111111,
              "#46039f"
             ],
             [
              0.2222222222222222,
              "#7201a8"
             ],
             [
              0.3333333333333333,
              "#9c179e"
             ],
             [
              0.4444444444444444,
              "#bd3786"
             ],
             [
              0.5555555555555556,
              "#d8576b"
             ],
             [
              0.6666666666666666,
              "#ed7953"
             ],
             [
              0.7777777777777778,
              "#fb9f3a"
             ],
             [
              0.8888888888888888,
              "#fdca26"
             ],
             [
              1,
              "#f0f921"
             ]
            ],
            "type": "heatmap"
           }
          ],
          "heatmapgl": [
           {
            "colorbar": {
             "outlinewidth": 0,
             "ticks": ""
            },
            "colorscale": [
             [
              0,
              "#0d0887"
             ],
             [
              0.1111111111111111,
              "#46039f"
             ],
             [
              0.2222222222222222,
              "#7201a8"
             ],
             [
              0.3333333333333333,
              "#9c179e"
             ],
             [
              0.4444444444444444,
              "#bd3786"
             ],
             [
              0.5555555555555556,
              "#d8576b"
             ],
             [
              0.6666666666666666,
              "#ed7953"
             ],
             [
              0.7777777777777778,
              "#fb9f3a"
             ],
             [
              0.8888888888888888,
              "#fdca26"
             ],
             [
              1,
              "#f0f921"
             ]
            ],
            "type": "heatmapgl"
           }
          ],
          "histogram": [
           {
            "marker": {
             "pattern": {
              "fillmode": "overlay",
              "size": 10,
              "solidity": 0.2
             }
            },
            "type": "histogram"
           }
          ],
          "histogram2d": [
           {
            "colorbar": {
             "outlinewidth": 0,
             "ticks": ""
            },
            "colorscale": [
             [
              0,
              "#0d0887"
             ],
             [
              0.1111111111111111,
              "#46039f"
             ],
             [
              0.2222222222222222,
              "#7201a8"
             ],
             [
              0.3333333333333333,
              "#9c179e"
             ],
             [
              0.4444444444444444,
              "#bd3786"
             ],
             [
              0.5555555555555556,
              "#d8576b"
             ],
             [
              0.6666666666666666,
              "#ed7953"
             ],
             [
              0.7777777777777778,
              "#fb9f3a"
             ],
             [
              0.8888888888888888,
              "#fdca26"
             ],
             [
              1,
              "#f0f921"
             ]
            ],
            "type": "histogram2d"
           }
          ],
          "histogram2dcontour": [
           {
            "colorbar": {
             "outlinewidth": 0,
             "ticks": ""
            },
            "colorscale": [
             [
              0,
              "#0d0887"
             ],
             [
              0.1111111111111111,
              "#46039f"
             ],
             [
              0.2222222222222222,
              "#7201a8"
             ],
             [
              0.3333333333333333,
              "#9c179e"
             ],
             [
              0.4444444444444444,
              "#bd3786"
             ],
             [
              0.5555555555555556,
              "#d8576b"
             ],
             [
              0.6666666666666666,
              "#ed7953"
             ],
             [
              0.7777777777777778,
              "#fb9f3a"
             ],
             [
              0.8888888888888888,
              "#fdca26"
             ],
             [
              1,
              "#f0f921"
             ]
            ],
            "type": "histogram2dcontour"
           }
          ],
          "mesh3d": [
           {
            "colorbar": {
             "outlinewidth": 0,
             "ticks": ""
            },
            "type": "mesh3d"
           }
          ],
          "parcoords": [
           {
            "line": {
             "colorbar": {
              "outlinewidth": 0,
              "ticks": ""
             }
            },
            "type": "parcoords"
           }
          ],
          "pie": [
           {
            "automargin": true,
            "type": "pie"
           }
          ],
          "scatter": [
           {
            "marker": {
             "colorbar": {
              "outlinewidth": 0,
              "ticks": ""
             }
            },
            "type": "scatter"
           }
          ],
          "scatter3d": [
           {
            "line": {
             "colorbar": {
              "outlinewidth": 0,
              "ticks": ""
             }
            },
            "marker": {
             "colorbar": {
              "outlinewidth": 0,
              "ticks": ""
             }
            },
            "type": "scatter3d"
           }
          ],
          "scattercarpet": [
           {
            "marker": {
             "colorbar": {
              "outlinewidth": 0,
              "ticks": ""
             }
            },
            "type": "scattercarpet"
           }
          ],
          "scattergeo": [
           {
            "marker": {
             "colorbar": {
              "outlinewidth": 0,
              "ticks": ""
             }
            },
            "type": "scattergeo"
           }
          ],
          "scattergl": [
           {
            "marker": {
             "colorbar": {
              "outlinewidth": 0,
              "ticks": ""
             }
            },
            "type": "scattergl"
           }
          ],
          "scattermapbox": [
           {
            "marker": {
             "colorbar": {
              "outlinewidth": 0,
              "ticks": ""
             }
            },
            "type": "scattermapbox"
           }
          ],
          "scatterpolar": [
           {
            "marker": {
             "colorbar": {
              "outlinewidth": 0,
              "ticks": ""
             }
            },
            "type": "scatterpolar"
           }
          ],
          "scatterpolargl": [
           {
            "marker": {
             "colorbar": {
              "outlinewidth": 0,
              "ticks": ""
             }
            },
            "type": "scatterpolargl"
           }
          ],
          "scatterternary": [
           {
            "marker": {
             "colorbar": {
              "outlinewidth": 0,
              "ticks": ""
             }
            },
            "type": "scatterternary"
           }
          ],
          "surface": [
           {
            "colorbar": {
             "outlinewidth": 0,
             "ticks": ""
            },
            "colorscale": [
             [
              0,
              "#0d0887"
             ],
             [
              0.1111111111111111,
              "#46039f"
             ],
             [
              0.2222222222222222,
              "#7201a8"
             ],
             [
              0.3333333333333333,
              "#9c179e"
             ],
             [
              0.4444444444444444,
              "#bd3786"
             ],
             [
              0.5555555555555556,
              "#d8576b"
             ],
             [
              0.6666666666666666,
              "#ed7953"
             ],
             [
              0.7777777777777778,
              "#fb9f3a"
             ],
             [
              0.8888888888888888,
              "#fdca26"
             ],
             [
              1,
              "#f0f921"
             ]
            ],
            "type": "surface"
           }
          ],
          "table": [
           {
            "cells": {
             "fill": {
              "color": "#EBF0F8"
             },
             "line": {
              "color": "white"
             }
            },
            "header": {
             "fill": {
              "color": "#C8D4E3"
             },
             "line": {
              "color": "white"
             }
            },
            "type": "table"
           }
          ]
         },
         "layout": {
          "annotationdefaults": {
           "arrowcolor": "#2a3f5f",
           "arrowhead": 0,
           "arrowwidth": 1
          },
          "autotypenumbers": "strict",
          "coloraxis": {
           "colorbar": {
            "outlinewidth": 0,
            "ticks": ""
           }
          },
          "colorscale": {
           "diverging": [
            [
             0,
             "#8e0152"
            ],
            [
             0.1,
             "#c51b7d"
            ],
            [
             0.2,
             "#de77ae"
            ],
            [
             0.3,
             "#f1b6da"
            ],
            [
             0.4,
             "#fde0ef"
            ],
            [
             0.5,
             "#f7f7f7"
            ],
            [
             0.6,
             "#e6f5d0"
            ],
            [
             0.7,
             "#b8e186"
            ],
            [
             0.8,
             "#7fbc41"
            ],
            [
             0.9,
             "#4d9221"
            ],
            [
             1,
             "#276419"
            ]
           ],
           "sequential": [
            [
             0,
             "#0d0887"
            ],
            [
             0.1111111111111111,
             "#46039f"
            ],
            [
             0.2222222222222222,
             "#7201a8"
            ],
            [
             0.3333333333333333,
             "#9c179e"
            ],
            [
             0.4444444444444444,
             "#bd3786"
            ],
            [
             0.5555555555555556,
             "#d8576b"
            ],
            [
             0.6666666666666666,
             "#ed7953"
            ],
            [
             0.7777777777777778,
             "#fb9f3a"
            ],
            [
             0.8888888888888888,
             "#fdca26"
            ],
            [
             1,
             "#f0f921"
            ]
           ],
           "sequentialminus": [
            [
             0,
             "#0d0887"
            ],
            [
             0.1111111111111111,
             "#46039f"
            ],
            [
             0.2222222222222222,
             "#7201a8"
            ],
            [
             0.3333333333333333,
             "#9c179e"
            ],
            [
             0.4444444444444444,
             "#bd3786"
            ],
            [
             0.5555555555555556,
             "#d8576b"
            ],
            [
             0.6666666666666666,
             "#ed7953"
            ],
            [
             0.7777777777777778,
             "#fb9f3a"
            ],
            [
             0.8888888888888888,
             "#fdca26"
            ],
            [
             1,
             "#f0f921"
            ]
           ]
          },
          "colorway": [
           "#636efa",
           "#EF553B",
           "#00cc96",
           "#ab63fa",
           "#FFA15A",
           "#19d3f3",
           "#FF6692",
           "#B6E880",
           "#FF97FF",
           "#FECB52"
          ],
          "font": {
           "color": "#2a3f5f"
          },
          "geo": {
           "bgcolor": "white",
           "lakecolor": "white",
           "landcolor": "#E5ECF6",
           "showlakes": true,
           "showland": true,
           "subunitcolor": "white"
          },
          "hoverlabel": {
           "align": "left"
          },
          "hovermode": "closest",
          "mapbox": {
           "style": "light"
          },
          "paper_bgcolor": "white",
          "plot_bgcolor": "#E5ECF6",
          "polar": {
           "angularaxis": {
            "gridcolor": "white",
            "linecolor": "white",
            "ticks": ""
           },
           "bgcolor": "#E5ECF6",
           "radialaxis": {
            "gridcolor": "white",
            "linecolor": "white",
            "ticks": ""
           }
          },
          "scene": {
           "xaxis": {
            "backgroundcolor": "#E5ECF6",
            "gridcolor": "white",
            "gridwidth": 2,
            "linecolor": "white",
            "showbackground": true,
            "ticks": "",
            "zerolinecolor": "white"
           },
           "yaxis": {
            "backgroundcolor": "#E5ECF6",
            "gridcolor": "white",
            "gridwidth": 2,
            "linecolor": "white",
            "showbackground": true,
            "ticks": "",
            "zerolinecolor": "white"
           },
           "zaxis": {
            "backgroundcolor": "#E5ECF6",
            "gridcolor": "white",
            "gridwidth": 2,
            "linecolor": "white",
            "showbackground": true,
            "ticks": "",
            "zerolinecolor": "white"
           }
          },
          "shapedefaults": {
           "line": {
            "color": "#2a3f5f"
           }
          },
          "ternary": {
           "aaxis": {
            "gridcolor": "white",
            "linecolor": "white",
            "ticks": ""
           },
           "baxis": {
            "gridcolor": "white",
            "linecolor": "white",
            "ticks": ""
           },
           "bgcolor": "#E5ECF6",
           "caxis": {
            "gridcolor": "white",
            "linecolor": "white",
            "ticks": ""
           }
          },
          "title": {
           "x": 0.05
          },
          "xaxis": {
           "automargin": true,
           "gridcolor": "white",
           "linecolor": "white",
           "ticks": "",
           "title": {
            "standoff": 15
           },
           "zerolinecolor": "white",
           "zerolinewidth": 2
          },
          "yaxis": {
           "automargin": true,
           "gridcolor": "white",
           "linecolor": "white",
           "ticks": "",
           "title": {
            "standoff": 15
           },
           "zerolinecolor": "white",
           "zerolinewidth": 2
          }
         }
        },
        "title": {
         "text": "Характер сетевого распространения объектов по виду объекта",
         "x": 0.5
        },
        "width": 800,
        "xaxis": {
         "anchor": "y",
         "domain": [
          0,
          1
         ],
         "tickangle": 45,
         "title": {
          "text": "Вид объекта"
         }
        },
        "yaxis": {
         "anchor": "x",
         "domain": [
          0,
          1
         ],
         "title": {
          "text": "Количество"
         }
        }
       }
      },
      "text/html": [
       "<div>                            <div id=\"5837ff23-1cdc-4245-9635-ad49ab4094c0\" class=\"plotly-graph-div\" style=\"height:800px; width:800px;\"></div>            <script type=\"text/javascript\">                require([\"plotly\"], function(Plotly) {                    window.PLOTLYENV=window.PLOTLYENV || {};                                    if (document.getElementById(\"5837ff23-1cdc-4245-9635-ad49ab4094c0\")) {                    Plotly.newPlot(                        \"5837ff23-1cdc-4245-9635-ad49ab4094c0\",                        [{\"alignmentgroup\":\"True\",\"hovertemplate\":\"chain=\\u0434\\u0430<br>\\u0412\\u0438\\u0434 \\u043e\\u0431\\u044a\\u0435\\u043a\\u0442\\u0430=%{x}<br>\\u041a\\u043e\\u043b\\u0438\\u0447\\u0435\\u0441\\u0442\\u0432\\u043e=%{y}<extra></extra>\",\"legendgroup\":\"\\u0434\\u0430\",\"marker\":{\"color\":\"#636efa\",\"pattern\":{\"shape\":\"\"}},\"name\":\"\\u0434\\u0430\",\"offsetgroup\":\"\\u0434\\u0430\",\"orientation\":\"v\",\"showlegend\":true,\"textposition\":\"auto\",\"x\":[\"\\u0441\\u0442\\u043e\\u043b\\u043e\\u0432\\u0430\\u044f\",\"\\u0431\\u0443\\u0444\\u0435\\u0442\",\"\\u0431\\u0430\\u0440\",\"\\u043a\\u0430\\u0444\\u0435\\u0442\\u0435\\u0440\\u0438\\u0439\",\"\\u0437\\u0430\\u043a\\u0443\\u0441\\u043e\\u0447\\u043d\\u0430\\u044f\",\"\\u043c\\u0430\\u0433\\u0430\\u0437\\u0438\\u043d (\\u043e\\u0442\\u0434\\u0435\\u043b \\u043a\\u0443\\u043b\\u0438\\u043d\\u0430\\u0440\\u0438\\u0438)\",\"\\u0440\\u0435\\u0441\\u0442\\u043e\\u0440\\u0430\\u043d\",\"\\u043f\\u0440\\u0435\\u0434\\u043f\\u0440\\u0438\\u044f\\u0442\\u0438\\u0435 \\u0431\\u044b\\u0441\\u0442\\u0440\\u043e\\u0433\\u043e \\u043e\\u0431\\u0441\\u043b\\u0443\\u0436\\u0438\\u0432\\u0430\\u043d\\u0438\\u044f\",\"\\u043a\\u0430\\u0444\\u0435\"],\"xaxis\":\"x\",\"y\":[3,11,37,52,56,78,514,783,1387],\"yaxis\":\"y\",\"type\":\"bar\"},{\"alignmentgroup\":\"True\",\"hovertemplate\":\"chain=\\u043d\\u0435\\u0442<br>\\u0412\\u0438\\u0434 \\u043e\\u0431\\u044a\\u0435\\u043a\\u0442\\u0430=%{x}<br>\\u041a\\u043e\\u043b\\u0438\\u0447\\u0435\\u0441\\u0442\\u0432\\u043e=%{y}<extra></extra>\",\"legendgroup\":\"\\u043d\\u0435\\u0442\",\"marker\":{\"color\":\"#EF553B\",\"pattern\":{\"shape\":\"\"}},\"name\":\"\\u043d\\u0435\\u0442\",\"offsetgroup\":\"\\u043d\\u0435\\u0442\",\"orientation\":\"v\",\"showlegend\":true,\"textposition\":\"auto\",\"x\":[\"\\u043c\\u0430\\u0433\\u0430\\u0437\\u0438\\u043d (\\u043e\\u0442\\u0434\\u0435\\u043b \\u043a\\u0443\\u043b\\u0438\\u043d\\u0430\\u0440\\u0438\\u0438)\",\"\\u0437\\u0430\\u043a\\u0443\\u0441\\u043e\\u0447\\u043d\\u0430\\u044f\",\"\\u043a\\u0430\\u0444\\u0435\\u0442\\u0435\\u0440\\u0438\\u0439\",\"\\u0431\\u0443\\u0444\\u0435\\u0442\",\"\\u0431\\u0430\\u0440\",\"\\u043f\\u0440\\u0435\\u0434\\u043f\\u0440\\u0438\\u044f\\u0442\\u0438\\u0435 \\u0431\\u044b\\u0441\\u0442\\u0440\\u043e\\u0433\\u043e \\u043e\\u0431\\u0441\\u043b\\u0443\\u0436\\u0438\\u0432\\u0430\\u043d\\u0438\\u044f\",\"\\u0440\\u0435\\u0441\\u0442\\u043e\\u0440\\u0430\\u043d\",\"\\u0441\\u0442\\u043e\\u043b\\u043e\\u0432\\u0430\\u044f\",\"\\u043a\\u0430\\u0444\\u0435\"],\"xaxis\":\"x\",\"y\":[195,292,343,556,812,1109,1649,2378,4661],\"yaxis\":\"y\",\"type\":\"bar\"}],                        {\"template\":{\"data\":{\"bar\":[{\"error_x\":{\"color\":\"#2a3f5f\"},\"error_y\":{\"color\":\"#2a3f5f\"},\"marker\":{\"line\":{\"color\":\"#E5ECF6\",\"width\":0.5},\"pattern\":{\"fillmode\":\"overlay\",\"size\":10,\"solidity\":0.2}},\"type\":\"bar\"}],\"barpolar\":[{\"marker\":{\"line\":{\"color\":\"#E5ECF6\",\"width\":0.5},\"pattern\":{\"fillmode\":\"overlay\",\"size\":10,\"solidity\":0.2}},\"type\":\"barpolar\"}],\"carpet\":[{\"aaxis\":{\"endlinecolor\":\"#2a3f5f\",\"gridcolor\":\"white\",\"linecolor\":\"white\",\"minorgridcolor\":\"white\",\"startlinecolor\":\"#2a3f5f\"},\"baxis\":{\"endlinecolor\":\"#2a3f5f\",\"gridcolor\":\"white\",\"linecolor\":\"white\",\"minorgridcolor\":\"white\",\"startlinecolor\":\"#2a3f5f\"},\"type\":\"carpet\"}],\"choropleth\":[{\"colorbar\":{\"outlinewidth\":0,\"ticks\":\"\"},\"type\":\"choropleth\"}],\"contour\":[{\"colorbar\":{\"outlinewidth\":0,\"ticks\":\"\"},\"colorscale\":[[0.0,\"#0d0887\"],[0.1111111111111111,\"#46039f\"],[0.2222222222222222,\"#7201a8\"],[0.3333333333333333,\"#9c179e\"],[0.4444444444444444,\"#bd3786\"],[0.5555555555555556,\"#d8576b\"],[0.6666666666666666,\"#ed7953\"],[0.7777777777777778,\"#fb9f3a\"],[0.8888888888888888,\"#fdca26\"],[1.0,\"#f0f921\"]],\"type\":\"contour\"}],\"contourcarpet\":[{\"colorbar\":{\"outlinewidth\":0,\"ticks\":\"\"},\"type\":\"contourcarpet\"}],\"heatmap\":[{\"colorbar\":{\"outlinewidth\":0,\"ticks\":\"\"},\"colorscale\":[[0.0,\"#0d0887\"],[0.1111111111111111,\"#46039f\"],[0.2222222222222222,\"#7201a8\"],[0.3333333333333333,\"#9c179e\"],[0.4444444444444444,\"#bd3786\"],[0.5555555555555556,\"#d8576b\"],[0.6666666666666666,\"#ed7953\"],[0.7777777777777778,\"#fb9f3a\"],[0.8888888888888888,\"#fdca26\"],[1.0,\"#f0f921\"]],\"type\":\"heatmap\"}],\"heatmapgl\":[{\"colorbar\":{\"outlinewidth\":0,\"ticks\":\"\"},\"colorscale\":[[0.0,\"#0d0887\"],[0.1111111111111111,\"#46039f\"],[0.2222222222222222,\"#7201a8\"],[0.3333333333333333,\"#9c179e\"],[0.4444444444444444,\"#bd3786\"],[0.5555555555555556,\"#d8576b\"],[0.6666666666666666,\"#ed7953\"],[0.7777777777777778,\"#fb9f3a\"],[0.8888888888888888,\"#fdca26\"],[1.0,\"#f0f921\"]],\"type\":\"heatmapgl\"}],\"histogram\":[{\"marker\":{\"pattern\":{\"fillmode\":\"overlay\",\"size\":10,\"solidity\":0.2}},\"type\":\"histogram\"}],\"histogram2d\":[{\"colorbar\":{\"outlinewidth\":0,\"ticks\":\"\"},\"colorscale\":[[0.0,\"#0d0887\"],[0.1111111111111111,\"#46039f\"],[0.2222222222222222,\"#7201a8\"],[0.3333333333333333,\"#9c179e\"],[0.4444444444444444,\"#bd3786\"],[0.5555555555555556,\"#d8576b\"],[0.6666666666666666,\"#ed7953\"],[0.7777777777777778,\"#fb9f3a\"],[0.8888888888888888,\"#fdca26\"],[1.0,\"#f0f921\"]],\"type\":\"histogram2d\"}],\"histogram2dcontour\":[{\"colorbar\":{\"outlinewidth\":0,\"ticks\":\"\"},\"colorscale\":[[0.0,\"#0d0887\"],[0.1111111111111111,\"#46039f\"],[0.2222222222222222,\"#7201a8\"],[0.3333333333333333,\"#9c179e\"],[0.4444444444444444,\"#bd3786\"],[0.5555555555555556,\"#d8576b\"],[0.6666666666666666,\"#ed7953\"],[0.7777777777777778,\"#fb9f3a\"],[0.8888888888888888,\"#fdca26\"],[1.0,\"#f0f921\"]],\"type\":\"histogram2dcontour\"}],\"mesh3d\":[{\"colorbar\":{\"outlinewidth\":0,\"ticks\":\"\"},\"type\":\"mesh3d\"}],\"parcoords\":[{\"line\":{\"colorbar\":{\"outlinewidth\":0,\"ticks\":\"\"}},\"type\":\"parcoords\"}],\"pie\":[{\"automargin\":true,\"type\":\"pie\"}],\"scatter\":[{\"marker\":{\"colorbar\":{\"outlinewidth\":0,\"ticks\":\"\"}},\"type\":\"scatter\"}],\"scatter3d\":[{\"line\":{\"colorbar\":{\"outlinewidth\":0,\"ticks\":\"\"}},\"marker\":{\"colorbar\":{\"outlinewidth\":0,\"ticks\":\"\"}},\"type\":\"scatter3d\"}],\"scattercarpet\":[{\"marker\":{\"colorbar\":{\"outlinewidth\":0,\"ticks\":\"\"}},\"type\":\"scattercarpet\"}],\"scattergeo\":[{\"marker\":{\"colorbar\":{\"outlinewidth\":0,\"ticks\":\"\"}},\"type\":\"scattergeo\"}],\"scattergl\":[{\"marker\":{\"colorbar\":{\"outlinewidth\":0,\"ticks\":\"\"}},\"type\":\"scattergl\"}],\"scattermapbox\":[{\"marker\":{\"colorbar\":{\"outlinewidth\":0,\"ticks\":\"\"}},\"type\":\"scattermapbox\"}],\"scatterpolar\":[{\"marker\":{\"colorbar\":{\"outlinewidth\":0,\"ticks\":\"\"}},\"type\":\"scatterpolar\"}],\"scatterpolargl\":[{\"marker\":{\"colorbar\":{\"outlinewidth\":0,\"ticks\":\"\"}},\"type\":\"scatterpolargl\"}],\"scatterternary\":[{\"marker\":{\"colorbar\":{\"outlinewidth\":0,\"ticks\":\"\"}},\"type\":\"scatterternary\"}],\"surface\":[{\"colorbar\":{\"outlinewidth\":0,\"ticks\":\"\"},\"colorscale\":[[0.0,\"#0d0887\"],[0.1111111111111111,\"#46039f\"],[0.2222222222222222,\"#7201a8\"],[0.3333333333333333,\"#9c179e\"],[0.4444444444444444,\"#bd3786\"],[0.5555555555555556,\"#d8576b\"],[0.6666666666666666,\"#ed7953\"],[0.7777777777777778,\"#fb9f3a\"],[0.8888888888888888,\"#fdca26\"],[1.0,\"#f0f921\"]],\"type\":\"surface\"}],\"table\":[{\"cells\":{\"fill\":{\"color\":\"#EBF0F8\"},\"line\":{\"color\":\"white\"}},\"header\":{\"fill\":{\"color\":\"#C8D4E3\"},\"line\":{\"color\":\"white\"}},\"type\":\"table\"}]},\"layout\":{\"annotationdefaults\":{\"arrowcolor\":\"#2a3f5f\",\"arrowhead\":0,\"arrowwidth\":1},\"autotypenumbers\":\"strict\",\"coloraxis\":{\"colorbar\":{\"outlinewidth\":0,\"ticks\":\"\"}},\"colorscale\":{\"diverging\":[[0,\"#8e0152\"],[0.1,\"#c51b7d\"],[0.2,\"#de77ae\"],[0.3,\"#f1b6da\"],[0.4,\"#fde0ef\"],[0.5,\"#f7f7f7\"],[0.6,\"#e6f5d0\"],[0.7,\"#b8e186\"],[0.8,\"#7fbc41\"],[0.9,\"#4d9221\"],[1,\"#276419\"]],\"sequential\":[[0.0,\"#0d0887\"],[0.1111111111111111,\"#46039f\"],[0.2222222222222222,\"#7201a8\"],[0.3333333333333333,\"#9c179e\"],[0.4444444444444444,\"#bd3786\"],[0.5555555555555556,\"#d8576b\"],[0.6666666666666666,\"#ed7953\"],[0.7777777777777778,\"#fb9f3a\"],[0.8888888888888888,\"#fdca26\"],[1.0,\"#f0f921\"]],\"sequentialminus\":[[0.0,\"#0d0887\"],[0.1111111111111111,\"#46039f\"],[0.2222222222222222,\"#7201a8\"],[0.3333333333333333,\"#9c179e\"],[0.4444444444444444,\"#bd3786\"],[0.5555555555555556,\"#d8576b\"],[0.6666666666666666,\"#ed7953\"],[0.7777777777777778,\"#fb9f3a\"],[0.8888888888888888,\"#fdca26\"],[1.0,\"#f0f921\"]]},\"colorway\":[\"#636efa\",\"#EF553B\",\"#00cc96\",\"#ab63fa\",\"#FFA15A\",\"#19d3f3\",\"#FF6692\",\"#B6E880\",\"#FF97FF\",\"#FECB52\"],\"font\":{\"color\":\"#2a3f5f\"},\"geo\":{\"bgcolor\":\"white\",\"lakecolor\":\"white\",\"landcolor\":\"#E5ECF6\",\"showlakes\":true,\"showland\":true,\"subunitcolor\":\"white\"},\"hoverlabel\":{\"align\":\"left\"},\"hovermode\":\"closest\",\"mapbox\":{\"style\":\"light\"},\"paper_bgcolor\":\"white\",\"plot_bgcolor\":\"#E5ECF6\",\"polar\":{\"angularaxis\":{\"gridcolor\":\"white\",\"linecolor\":\"white\",\"ticks\":\"\"},\"bgcolor\":\"#E5ECF6\",\"radialaxis\":{\"gridcolor\":\"white\",\"linecolor\":\"white\",\"ticks\":\"\"}},\"scene\":{\"xaxis\":{\"backgroundcolor\":\"#E5ECF6\",\"gridcolor\":\"white\",\"gridwidth\":2,\"linecolor\":\"white\",\"showbackground\":true,\"ticks\":\"\",\"zerolinecolor\":\"white\"},\"yaxis\":{\"backgroundcolor\":\"#E5ECF6\",\"gridcolor\":\"white\",\"gridwidth\":2,\"linecolor\":\"white\",\"showbackground\":true,\"ticks\":\"\",\"zerolinecolor\":\"white\"},\"zaxis\":{\"backgroundcolor\":\"#E5ECF6\",\"gridcolor\":\"white\",\"gridwidth\":2,\"linecolor\":\"white\",\"showbackground\":true,\"ticks\":\"\",\"zerolinecolor\":\"white\"}},\"shapedefaults\":{\"line\":{\"color\":\"#2a3f5f\"}},\"ternary\":{\"aaxis\":{\"gridcolor\":\"white\",\"linecolor\":\"white\",\"ticks\":\"\"},\"baxis\":{\"gridcolor\":\"white\",\"linecolor\":\"white\",\"ticks\":\"\"},\"bgcolor\":\"#E5ECF6\",\"caxis\":{\"gridcolor\":\"white\",\"linecolor\":\"white\",\"ticks\":\"\"}},\"title\":{\"x\":0.05},\"xaxis\":{\"automargin\":true,\"gridcolor\":\"white\",\"linecolor\":\"white\",\"ticks\":\"\",\"title\":{\"standoff\":15},\"zerolinecolor\":\"white\",\"zerolinewidth\":2},\"yaxis\":{\"automargin\":true,\"gridcolor\":\"white\",\"linecolor\":\"white\",\"ticks\":\"\",\"title\":{\"standoff\":15},\"zerolinecolor\":\"white\",\"zerolinewidth\":2}}},\"xaxis\":{\"anchor\":\"y\",\"domain\":[0.0,1.0],\"title\":{\"text\":\"\\u0412\\u0438\\u0434 \\u043e\\u0431\\u044a\\u0435\\u043a\\u0442\\u0430\"},\"tickangle\":45},\"yaxis\":{\"anchor\":\"x\",\"domain\":[0.0,1.0],\"title\":{\"text\":\"\\u041a\\u043e\\u043b\\u0438\\u0447\\u0435\\u0441\\u0442\\u0432\\u043e\"}},\"legend\":{\"title\":{\"text\":\"\\u0421\\u0435\\u0442\\u0435\\u0432\\u043e\\u0435 \\u0437\\u0430\\u0432\\u0435\\u0434\\u0435\\u043d\\u0438\\u0435\"},\"tracegroupgap\":0},\"margin\":{\"t\":60},\"barmode\":\"group\",\"height\":800,\"width\":800,\"title\":{\"text\":\"\\u0425\\u0430\\u0440\\u0430\\u043a\\u0442\\u0435\\u0440 \\u0441\\u0435\\u0442\\u0435\\u0432\\u043e\\u0433\\u043e \\u0440\\u0430\\u0441\\u043f\\u0440\\u043e\\u0441\\u0442\\u0440\\u0430\\u043d\\u0435\\u043d\\u0438\\u044f \\u043e\\u0431\\u044a\\u0435\\u043a\\u0442\\u043e\\u0432 \\u043f\\u043e \\u0432\\u0438\\u0434\\u0443 \\u043e\\u0431\\u044a\\u0435\\u043a\\u0442\\u0430\",\"x\":0.5}},                        {\"responsive\": true}                    ).then(function(){\n",
       "                            \n",
       "var gd = document.getElementById('5837ff23-1cdc-4245-9635-ad49ab4094c0');\n",
       "var x = new MutationObserver(function (mutations, observer) {{\n",
       "        var display = window.getComputedStyle(gd).display;\n",
       "        if (!display || display === 'none') {{\n",
       "            console.log([gd, 'removed!']);\n",
       "            Plotly.purge(gd);\n",
       "            observer.disconnect();\n",
       "        }}\n",
       "}});\n",
       "\n",
       "// Listen for the removal of the full notebook cells\n",
       "var notebookContainer = gd.closest('#notebook-container');\n",
       "if (notebookContainer) {{\n",
       "    x.observe(notebookContainer, {childList: true});\n",
       "}}\n",
       "\n",
       "// Listen for the clearing of the current output cell\n",
       "var outputEl = gd.closest('.output');\n",
       "if (outputEl) {{\n",
       "    x.observe(outputEl, {childList: true});\n",
       "}}\n",
       "\n",
       "                        })                };                });            </script>        </div>"
      ]
     },
     "metadata": {},
     "output_type": "display_data"
    }
   ],
   "source": [
    "fig = px.bar(\n",
    "    rest_chain, x='object_type', y='id', color='chain',\n",
    "    labels=dict({'object_type': 'Вид объекта', 'id':'Количество'}),\n",
    "    width=800, height=800,\n",
    "    barmode=\"group\"\n",
    ")\n",
    "fig.update_layout(legend={\"title\":\"Сетевое заведение\"})\n",
    "fig.update_xaxes(tickangle=45)\n",
    "fig.update_layout(title_text='Характер сетевого распространения объектов по виду объекта', title_x=0.5)\n",
    "fig.show() "
   ]
  },
  {
   "cell_type": "markdown",
   "metadata": {},
   "source": [
    "По построенному графику видно, что для всех типов объектов и сетевых и нет - самым распространенным является \"кафе\". Но остальные виды сильно разнятся в сортировке, так, например, на втором месте по популярности у сетевых объектов - \"предприятия быстрого питания\", а у несетевых - \"столовые\".\n",
    "Можно заметить, что для предприятий быстрого обслуживания характерерно сетевое распределение, ведь их количество в городе самое большое относительно несетевых."
   ]
  },
  {
   "cell_type": "markdown",
   "metadata": {},
   "source": [
    "Ответим на вопрос, что характерно для сетевых заведений: много заведений с небольшим числом посадочных мест в каждом или мало заведений с большим количеством посадочных мест?  \n",
    "Для этого сгрупируем данные только по сетевым заведениям:"
   ]
  },
  {
   "cell_type": "code",
   "execution_count": 23,
   "metadata": {},
   "outputs": [
    {
     "data": {
      "text/html": [
       "<div>\n",
       "<style scoped>\n",
       "    .dataframe tbody tr th:only-of-type {\n",
       "        vertical-align: middle;\n",
       "    }\n",
       "\n",
       "    .dataframe tbody tr th {\n",
       "        vertical-align: top;\n",
       "    }\n",
       "\n",
       "    .dataframe thead th {\n",
       "        text-align: right;\n",
       "    }\n",
       "</style>\n",
       "<table border=\"1\" class=\"dataframe\">\n",
       "  <thead>\n",
       "    <tr style=\"text-align: right;\">\n",
       "      <th></th>\n",
       "      <th>id</th>\n",
       "      <th>object_name</th>\n",
       "      <th>chain</th>\n",
       "      <th>object_type</th>\n",
       "      <th>address</th>\n",
       "      <th>number</th>\n",
       "    </tr>\n",
       "  </thead>\n",
       "  <tbody>\n",
       "    <tr>\n",
       "      <th>3</th>\n",
       "      <td>21894</td>\n",
       "      <td>пиццетория</td>\n",
       "      <td>да</td>\n",
       "      <td>кафе</td>\n",
       "      <td>город москва, абрамцевская улица, дом 1</td>\n",
       "      <td>40</td>\n",
       "    </tr>\n",
       "    <tr>\n",
       "      <th>6</th>\n",
       "      <td>148815</td>\n",
       "      <td>брусника</td>\n",
       "      <td>да</td>\n",
       "      <td>кафе</td>\n",
       "      <td>город москва, переулок сивцев вражек, дом 6/2</td>\n",
       "      <td>10</td>\n",
       "    </tr>\n",
       "    <tr>\n",
       "      <th>13</th>\n",
       "      <td>22579</td>\n",
       "      <td>алло пицца</td>\n",
       "      <td>да</td>\n",
       "      <td>кафе</td>\n",
       "      <td>город москва, улица авиаторов, дом 14</td>\n",
       "      <td>32</td>\n",
       "    </tr>\n",
       "    <tr>\n",
       "      <th>16</th>\n",
       "      <td>144107</td>\n",
       "      <td>суши wok</td>\n",
       "      <td>да</td>\n",
       "      <td>предприятие быстрого обслуживания</td>\n",
       "      <td>город москва, азовская улица, дом 3</td>\n",
       "      <td>7</td>\n",
       "    </tr>\n",
       "    <tr>\n",
       "      <th>18</th>\n",
       "      <td>58565</td>\n",
       "      <td>тануки</td>\n",
       "      <td>да</td>\n",
       "      <td>ресторан</td>\n",
       "      <td>город москва, большая академическая улица, дом 65</td>\n",
       "      <td>160</td>\n",
       "    </tr>\n",
       "  </tbody>\n",
       "</table>\n",
       "</div>"
      ],
      "text/plain": [
       "        id object_name chain                        object_type  \\\n",
       "3    21894  пиццетория    да                               кафе   \n",
       "6   148815    брусника    да                               кафе   \n",
       "13   22579  алло пицца    да                               кафе   \n",
       "16  144107    суши wok    да  предприятие быстрого обслуживания   \n",
       "18   58565      тануки    да                           ресторан   \n",
       "\n",
       "                                              address  number  \n",
       "3             город москва, абрамцевская улица, дом 1      40  \n",
       "6       город москва, переулок сивцев вражек, дом 6/2      10  \n",
       "13              город москва, улица авиаторов, дом 14      32  \n",
       "16                город москва, азовская улица, дом 3       7  \n",
       "18  город москва, большая академическая улица, дом 65     160  "
      ]
     },
     "metadata": {},
     "output_type": "display_data"
    },
    {
     "data": {
      "text/plain": [
       "2921"
      ]
     },
     "execution_count": 23,
     "metadata": {},
     "output_type": "execute_result"
    }
   ],
   "source": [
    "#делаем дф с выборкой только сетевых заведений\n",
    "temp = df[df['chain'] == 'да']\n",
    "display(temp.head(5))\n",
    "len(temp)"
   ]
  },
  {
   "cell_type": "code",
   "execution_count": 24,
   "metadata": {},
   "outputs": [
    {
     "data": {
      "text/html": [
       "<div>\n",
       "<style scoped>\n",
       "    .dataframe tbody tr th:only-of-type {\n",
       "        vertical-align: middle;\n",
       "    }\n",
       "\n",
       "    .dataframe tbody tr th {\n",
       "        vertical-align: top;\n",
       "    }\n",
       "\n",
       "    .dataframe thead th {\n",
       "        text-align: right;\n",
       "    }\n",
       "</style>\n",
       "<table border=\"1\" class=\"dataframe\">\n",
       "  <thead>\n",
       "    <tr style=\"text-align: right;\">\n",
       "      <th></th>\n",
       "      <th>object_name</th>\n",
       "      <th>total</th>\n",
       "      <th>mean</th>\n",
       "    </tr>\n",
       "  </thead>\n",
       "  <tbody>\n",
       "    <tr>\n",
       "      <th>3</th>\n",
       "      <td>bocconcino</td>\n",
       "      <td>3.0</td>\n",
       "      <td>66.666667</td>\n",
       "    </tr>\n",
       "    <tr>\n",
       "      <th>6</th>\n",
       "      <td>burger club</td>\n",
       "      <td>3.0</td>\n",
       "      <td>20.333333</td>\n",
       "    </tr>\n",
       "    <tr>\n",
       "      <th>8</th>\n",
       "      <td>coffeeshop company</td>\n",
       "      <td>4.0</td>\n",
       "      <td>47.250000</td>\n",
       "    </tr>\n",
       "    <tr>\n",
       "      <th>9</th>\n",
       "      <td>cofix</td>\n",
       "      <td>25.0</td>\n",
       "      <td>9.600000</td>\n",
       "    </tr>\n",
       "    <tr>\n",
       "      <th>11</th>\n",
       "      <td>correas</td>\n",
       "      <td>3.0</td>\n",
       "      <td>44.000000</td>\n",
       "    </tr>\n",
       "    <tr>\n",
       "      <th>...</th>\n",
       "      <td>...</td>\n",
       "      <td>...</td>\n",
       "      <td>...</td>\n",
       "    </tr>\n",
       "    <tr>\n",
       "      <th>557</th>\n",
       "      <td>шоколадница</td>\n",
       "      <td>157.0</td>\n",
       "      <td>57.184713</td>\n",
       "    </tr>\n",
       "    <tr>\n",
       "      <th>561</th>\n",
       "      <td>штолле</td>\n",
       "      <td>13.0</td>\n",
       "      <td>30.076923</td>\n",
       "    </tr>\n",
       "    <tr>\n",
       "      <th>563</th>\n",
       "      <td>якитория</td>\n",
       "      <td>36.0</td>\n",
       "      <td>104.055556</td>\n",
       "    </tr>\n",
       "    <tr>\n",
       "      <th>567</th>\n",
       "      <td>япоша</td>\n",
       "      <td>2.0</td>\n",
       "      <td>105.000000</td>\n",
       "    </tr>\n",
       "    <tr>\n",
       "      <th>568</th>\n",
       "      <td>ёрш</td>\n",
       "      <td>4.0</td>\n",
       "      <td>112.250000</td>\n",
       "    </tr>\n",
       "  </tbody>\n",
       "</table>\n",
       "<p>244 rows × 3 columns</p>\n",
       "</div>"
      ],
      "text/plain": [
       "            object_name  total        mean\n",
       "3            bocconcino    3.0   66.666667\n",
       "6           burger club    3.0   20.333333\n",
       "8    coffeeshop company    4.0   47.250000\n",
       "9                 cofix   25.0    9.600000\n",
       "11              correas    3.0   44.000000\n",
       "..                  ...    ...         ...\n",
       "557         шоколадница  157.0   57.184713\n",
       "561              штолле   13.0   30.076923\n",
       "563            якитория   36.0  104.055556\n",
       "567               япоша    2.0  105.000000\n",
       "568                 ёрш    4.0  112.250000\n",
       "\n",
       "[244 rows x 3 columns]"
      ]
     },
     "execution_count": 24,
     "metadata": {},
     "output_type": "execute_result"
    }
   ],
   "source": [
    "#группируем по названиям и считаем общее кол-во заведений в сети\n",
    "temp1 = temp.pivot_table(index='object_name', values='number', aggfunc=('count', 'mean'))\\\n",
    "        .reset_index()\n",
    "                         \n",
    "temp1 = temp1.rename(columns={\"count\": \"total\"})\n",
    "#и убираем все попавшие несетевые\n",
    "temp1 = temp1[temp1['total'] > 1]\n",
    "temp1"
   ]
  },
  {
   "cell_type": "markdown",
   "metadata": {},
   "source": [
    "Сделаем небольшую категоризацию по числу посадочных мест и кол-ву заведений в сетях, для этого посчитаем перцентили от среднего количества посадочных мест и количества заведений и присвоим каждому из них категории. Всё, что попадает в 33-ий перцентиль будем считать небольшим, следующие 33% считать средним и всё остальное большим.\n"
   ]
  },
  {
   "cell_type": "code",
   "execution_count": 25,
   "metadata": {},
   "outputs": [
    {
     "name": "stdout",
     "output_type": "stream",
     "text": [
      "3.0\n",
      "6.0\n"
     ]
    }
   ],
   "source": [
    "print(np.percentile(temp1['total'], 33))\n",
    "print(np.percentile(temp1['total'], 66))"
   ]
  },
  {
   "cell_type": "code",
   "execution_count": 26,
   "metadata": {},
   "outputs": [
    {
     "name": "stdout",
     "output_type": "stream",
     "text": [
      "26.0\n",
      "66.41\n"
     ]
    }
   ],
   "source": [
    "print(np.percentile(temp1['mean'], 33))\n",
    "print(round(np.percentile(temp1['mean'], 66),2))"
   ]
  },
  {
   "cell_type": "markdown",
   "metadata": {},
   "source": [
    "Теперь у нас есть следующая информация:\n",
    "- Мало заведений - меньше 3-х\n",
    "- Среднее количество заведений - от 3 до 6\n",
    "- Большое количество заведений - больше 6\n",
    "- Мало посадочных мест - меньше 26\n",
    "- Среднее количество посадочных мест - от 26 до 66\n",
    "- Большое количество посадочных мест - больше 66\n",
    "\n",
    "Теперь остается только присвоить категории каждой сети и визуализировать полученные данные"
   ]
  },
  {
   "cell_type": "code",
   "execution_count": 27,
   "metadata": {},
   "outputs": [
    {
     "data": {
      "text/html": [
       "<div>\n",
       "<style scoped>\n",
       "    .dataframe tbody tr th:only-of-type {\n",
       "        vertical-align: middle;\n",
       "    }\n",
       "\n",
       "    .dataframe tbody tr th {\n",
       "        vertical-align: top;\n",
       "    }\n",
       "\n",
       "    .dataframe thead th {\n",
       "        text-align: right;\n",
       "    }\n",
       "</style>\n",
       "<table border=\"1\" class=\"dataframe\">\n",
       "  <thead>\n",
       "    <tr style=\"text-align: right;\">\n",
       "      <th></th>\n",
       "      <th>object_name</th>\n",
       "      <th>total</th>\n",
       "      <th>mean</th>\n",
       "      <th>Количество заведений</th>\n",
       "      <th>Количество посадочных</th>\n",
       "    </tr>\n",
       "  </thead>\n",
       "  <tbody>\n",
       "    <tr>\n",
       "      <th>3</th>\n",
       "      <td>bocconcino</td>\n",
       "      <td>3.0</td>\n",
       "      <td>66.666667</td>\n",
       "      <td>Мало</td>\n",
       "      <td>Много</td>\n",
       "    </tr>\n",
       "    <tr>\n",
       "      <th>6</th>\n",
       "      <td>burger club</td>\n",
       "      <td>3.0</td>\n",
       "      <td>20.333333</td>\n",
       "      <td>Мало</td>\n",
       "      <td>Мало</td>\n",
       "    </tr>\n",
       "    <tr>\n",
       "      <th>8</th>\n",
       "      <td>coffeeshop company</td>\n",
       "      <td>4.0</td>\n",
       "      <td>47.250000</td>\n",
       "      <td>Средне</td>\n",
       "      <td>Средне</td>\n",
       "    </tr>\n",
       "    <tr>\n",
       "      <th>9</th>\n",
       "      <td>cofix</td>\n",
       "      <td>25.0</td>\n",
       "      <td>9.600000</td>\n",
       "      <td>Много</td>\n",
       "      <td>Мало</td>\n",
       "    </tr>\n",
       "    <tr>\n",
       "      <th>11</th>\n",
       "      <td>correas</td>\n",
       "      <td>3.0</td>\n",
       "      <td>44.000000</td>\n",
       "      <td>Мало</td>\n",
       "      <td>Средне</td>\n",
       "    </tr>\n",
       "    <tr>\n",
       "      <th>...</th>\n",
       "      <td>...</td>\n",
       "      <td>...</td>\n",
       "      <td>...</td>\n",
       "      <td>...</td>\n",
       "      <td>...</td>\n",
       "    </tr>\n",
       "    <tr>\n",
       "      <th>557</th>\n",
       "      <td>шоколадница</td>\n",
       "      <td>157.0</td>\n",
       "      <td>57.184713</td>\n",
       "      <td>Много</td>\n",
       "      <td>Средне</td>\n",
       "    </tr>\n",
       "    <tr>\n",
       "      <th>561</th>\n",
       "      <td>штолле</td>\n",
       "      <td>13.0</td>\n",
       "      <td>30.076923</td>\n",
       "      <td>Много</td>\n",
       "      <td>Средне</td>\n",
       "    </tr>\n",
       "    <tr>\n",
       "      <th>563</th>\n",
       "      <td>якитория</td>\n",
       "      <td>36.0</td>\n",
       "      <td>104.055556</td>\n",
       "      <td>Много</td>\n",
       "      <td>Много</td>\n",
       "    </tr>\n",
       "    <tr>\n",
       "      <th>567</th>\n",
       "      <td>япоша</td>\n",
       "      <td>2.0</td>\n",
       "      <td>105.000000</td>\n",
       "      <td>Мало</td>\n",
       "      <td>Много</td>\n",
       "    </tr>\n",
       "    <tr>\n",
       "      <th>568</th>\n",
       "      <td>ёрш</td>\n",
       "      <td>4.0</td>\n",
       "      <td>112.250000</td>\n",
       "      <td>Средне</td>\n",
       "      <td>Много</td>\n",
       "    </tr>\n",
       "  </tbody>\n",
       "</table>\n",
       "<p>244 rows × 5 columns</p>\n",
       "</div>"
      ],
      "text/plain": [
       "            object_name  total        mean Количество заведений  \\\n",
       "3            bocconcino    3.0   66.666667                 Мало   \n",
       "6           burger club    3.0   20.333333                 Мало   \n",
       "8    coffeeshop company    4.0   47.250000               Средне   \n",
       "9                 cofix   25.0    9.600000                Много   \n",
       "11              correas    3.0   44.000000                 Мало   \n",
       "..                  ...    ...         ...                  ...   \n",
       "557         шоколадница  157.0   57.184713                Много   \n",
       "561              штолле   13.0   30.076923                Много   \n",
       "563            якитория   36.0  104.055556                Много   \n",
       "567               япоша    2.0  105.000000                 Мало   \n",
       "568                 ёрш    4.0  112.250000               Средне   \n",
       "\n",
       "    Количество посадочных  \n",
       "3                   Много  \n",
       "6                    Мало  \n",
       "8                  Средне  \n",
       "9                    Мало  \n",
       "11                 Средне  \n",
       "..                    ...  \n",
       "557                Средне  \n",
       "561                Средне  \n",
       "563                 Много  \n",
       "567                 Много  \n",
       "568                 Много  \n",
       "\n",
       "[244 rows x 5 columns]"
      ]
     },
     "execution_count": 27,
     "metadata": {},
     "output_type": "execute_result"
    }
   ],
   "source": [
    "bins = [0, 3, 6, 1000]\n",
    "labels = ['Мало','Средне','Много']\n",
    "\n",
    "temp1['Количество заведений'] = pd.cut(temp1['total'], bins=bins, labels=labels)\n",
    "\n",
    "bins_a = [0, 26, 66, 1000]\n",
    "labels_a = ['Мало','Средне','Много']\n",
    "temp1['Количество посадочных'] = pd.cut(temp1['mean'], bins=bins_a, labels=labels_a)\n",
    "\n",
    "temp1"
   ]
  },
  {
   "cell_type": "code",
   "execution_count": 28,
   "metadata": {},
   "outputs": [],
   "source": [
    "temp1 = temp1.pivot_table(index=['Количество заведений', 'Количество посадочных'], \n",
    "                          values='object_name', aggfunc='count')\\\n",
    "                          .reset_index()\\\n",
    "                          .sort_values(by='object_name', ascending=False)"
   ]
  },
  {
   "cell_type": "code",
   "execution_count": 29,
   "metadata": {},
   "outputs": [
    {
     "data": {
      "text/html": [
       "<div>\n",
       "<style scoped>\n",
       "    .dataframe tbody tr th:only-of-type {\n",
       "        vertical-align: middle;\n",
       "    }\n",
       "\n",
       "    .dataframe tbody tr th {\n",
       "        vertical-align: top;\n",
       "    }\n",
       "\n",
       "    .dataframe thead th {\n",
       "        text-align: right;\n",
       "    }\n",
       "</style>\n",
       "<table border=\"1\" class=\"dataframe\">\n",
       "  <thead>\n",
       "    <tr style=\"text-align: right;\">\n",
       "      <th></th>\n",
       "      <th>Количество заведений</th>\n",
       "      <th>Количество посадочных</th>\n",
       "      <th>object_name</th>\n",
       "    </tr>\n",
       "  </thead>\n",
       "  <tbody>\n",
       "    <tr>\n",
       "      <th>2</th>\n",
       "      <td>Мало</td>\n",
       "      <td>Много</td>\n",
       "      <td>46</td>\n",
       "    </tr>\n",
       "    <tr>\n",
       "      <th>0</th>\n",
       "      <td>Мало</td>\n",
       "      <td>Мало</td>\n",
       "      <td>38</td>\n",
       "    </tr>\n",
       "    <tr>\n",
       "      <th>1</th>\n",
       "      <td>Мало</td>\n",
       "      <td>Средне</td>\n",
       "      <td>33</td>\n",
       "    </tr>\n",
       "    <tr>\n",
       "      <th>7</th>\n",
       "      <td>Много</td>\n",
       "      <td>Средне</td>\n",
       "      <td>26</td>\n",
       "    </tr>\n",
       "    <tr>\n",
       "      <th>6</th>\n",
       "      <td>Много</td>\n",
       "      <td>Мало</td>\n",
       "      <td>24</td>\n",
       "    </tr>\n",
       "    <tr>\n",
       "      <th>5</th>\n",
       "      <td>Средне</td>\n",
       "      <td>Много</td>\n",
       "      <td>20</td>\n",
       "    </tr>\n",
       "    <tr>\n",
       "      <th>4</th>\n",
       "      <td>Средне</td>\n",
       "      <td>Средне</td>\n",
       "      <td>18</td>\n",
       "    </tr>\n",
       "    <tr>\n",
       "      <th>8</th>\n",
       "      <td>Много</td>\n",
       "      <td>Много</td>\n",
       "      <td>18</td>\n",
       "    </tr>\n",
       "    <tr>\n",
       "      <th>3</th>\n",
       "      <td>Средне</td>\n",
       "      <td>Мало</td>\n",
       "      <td>16</td>\n",
       "    </tr>\n",
       "  </tbody>\n",
       "</table>\n",
       "</div>"
      ],
      "text/plain": [
       "  Количество заведений Количество посадочных  object_name\n",
       "2                 Мало                 Много           46\n",
       "0                 Мало                  Мало           38\n",
       "1                 Мало                Средне           33\n",
       "7                Много                Средне           26\n",
       "6                Много                  Мало           24\n",
       "5               Средне                 Много           20\n",
       "4               Средне                Средне           18\n",
       "8                Много                 Много           18\n",
       "3               Средне                  Мало           16"
      ]
     },
     "execution_count": 29,
     "metadata": {},
     "output_type": "execute_result"
    }
   ],
   "source": [
    "temp1"
   ]
  },
  {
   "cell_type": "code",
   "execution_count": 30,
   "metadata": {},
   "outputs": [
    {
     "data": {
      "text/plain": [
       "0    (0, 1]\n",
       "1    (1, 2]\n",
       "2    (2, 3]\n",
       "dtype: category\n",
       "Categories (4, interval[int64]): [(0, 1] < (1, 2] < (2, 3] < (3, 4]]"
      ]
     },
     "execution_count": 30,
     "metadata": {},
     "output_type": "execute_result"
    }
   ],
   "source": [
    "# Код ревьюера\n",
    "\n",
    "pd.cut(pd.Series([1,2,3]), bins=[0,1,2,3,4])"
   ]
  },
  {
   "cell_type": "markdown",
   "metadata": {},
   "source": [
    "На основании полученных данных мы можем сказать - что для сетевых заведений характерно малое количество заведений (меньше 3-х) с большим количеством посадочных мест - более 66"
   ]
  },
  {
   "cell_type": "markdown",
   "metadata": {},
   "source": [
    "### Среднее количество посадочных мест"
   ]
  },
  {
   "cell_type": "markdown",
   "metadata": {},
   "source": [
    "Для нашего исследования очень помогут данные по среднему количеству посадочных мест по типам заведений. Сгруппируем данные и построим график:"
   ]
  },
  {
   "cell_type": "code",
   "execution_count": 31,
   "metadata": {},
   "outputs": [
    {
     "data": {
      "text/html": [
       "<div>\n",
       "<style scoped>\n",
       "    .dataframe tbody tr th:only-of-type {\n",
       "        vertical-align: middle;\n",
       "    }\n",
       "\n",
       "    .dataframe tbody tr th {\n",
       "        vertical-align: top;\n",
       "    }\n",
       "\n",
       "    .dataframe thead th {\n",
       "        text-align: right;\n",
       "    }\n",
       "</style>\n",
       "<table border=\"1\" class=\"dataframe\">\n",
       "  <thead>\n",
       "    <tr style=\"text-align: right;\">\n",
       "      <th></th>\n",
       "      <th>id</th>\n",
       "      <th>object_name</th>\n",
       "      <th>chain</th>\n",
       "      <th>object_type</th>\n",
       "      <th>address</th>\n",
       "      <th>number</th>\n",
       "    </tr>\n",
       "  </thead>\n",
       "  <tbody>\n",
       "    <tr>\n",
       "      <th>0</th>\n",
       "      <td>151635</td>\n",
       "      <td>сметана</td>\n",
       "      <td>нет</td>\n",
       "      <td>кафе</td>\n",
       "      <td>город москва, улица егора абакумова, дом 9</td>\n",
       "      <td>48</td>\n",
       "    </tr>\n",
       "    <tr>\n",
       "      <th>1</th>\n",
       "      <td>77874</td>\n",
       "      <td>родник</td>\n",
       "      <td>нет</td>\n",
       "      <td>кафе</td>\n",
       "      <td>город москва, улица талалихина, дом 2/1, корпус 1</td>\n",
       "      <td>35</td>\n",
       "    </tr>\n",
       "    <tr>\n",
       "      <th>2</th>\n",
       "      <td>24309</td>\n",
       "      <td>кафе «академия»</td>\n",
       "      <td>нет</td>\n",
       "      <td>кафе</td>\n",
       "      <td>город москва, абельмановская улица, дом 6</td>\n",
       "      <td>95</td>\n",
       "    </tr>\n",
       "    <tr>\n",
       "      <th>3</th>\n",
       "      <td>21894</td>\n",
       "      <td>пиццетория</td>\n",
       "      <td>да</td>\n",
       "      <td>кафе</td>\n",
       "      <td>город москва, абрамцевская улица, дом 1</td>\n",
       "      <td>40</td>\n",
       "    </tr>\n",
       "    <tr>\n",
       "      <th>4</th>\n",
       "      <td>119365</td>\n",
       "      <td>кафе «вишневая метель»</td>\n",
       "      <td>нет</td>\n",
       "      <td>кафе</td>\n",
       "      <td>город москва, абрамцевская улица, дом 9, корпус 1</td>\n",
       "      <td>50</td>\n",
       "    </tr>\n",
       "  </tbody>\n",
       "</table>\n",
       "</div>"
      ],
      "text/plain": [
       "       id             object_name chain object_type  \\\n",
       "0  151635                 сметана   нет        кафе   \n",
       "1   77874                  родник   нет        кафе   \n",
       "2   24309         кафе «академия»   нет        кафе   \n",
       "3   21894              пиццетория    да        кафе   \n",
       "4  119365  кафе «вишневая метель»   нет        кафе   \n",
       "\n",
       "                                             address  number  \n",
       "0         город москва, улица егора абакумова, дом 9      48  \n",
       "1  город москва, улица талалихина, дом 2/1, корпус 1      35  \n",
       "2          город москва, абельмановская улица, дом 6      95  \n",
       "3            город москва, абрамцевская улица, дом 1      40  \n",
       "4  город москва, абрамцевская улица, дом 9, корпус 1      50  "
      ]
     },
     "execution_count": 31,
     "metadata": {},
     "output_type": "execute_result"
    }
   ],
   "source": [
    "df.head()"
   ]
  },
  {
   "cell_type": "code",
   "execution_count": 32,
   "metadata": {},
   "outputs": [
    {
     "data": {
      "text/plain": [
       "52.894140520246715"
      ]
     },
     "execution_count": 32,
     "metadata": {},
     "output_type": "execute_result"
    }
   ],
   "source": [
    "df['number'].mean()"
   ]
  },
  {
   "cell_type": "code",
   "execution_count": 33,
   "metadata": {},
   "outputs": [
    {
     "data": {
      "text/html": [
       "<div>\n",
       "<style scoped>\n",
       "    .dataframe tbody tr th:only-of-type {\n",
       "        vertical-align: middle;\n",
       "    }\n",
       "\n",
       "    .dataframe tbody tr th {\n",
       "        vertical-align: top;\n",
       "    }\n",
       "\n",
       "    .dataframe thead th {\n",
       "        text-align: right;\n",
       "    }\n",
       "</style>\n",
       "<table border=\"1\" class=\"dataframe\">\n",
       "  <thead>\n",
       "    <tr style=\"text-align: right;\">\n",
       "      <th></th>\n",
       "      <th>object_type</th>\n",
       "      <th>number</th>\n",
       "    </tr>\n",
       "  </thead>\n",
       "  <tbody>\n",
       "    <tr>\n",
       "      <th>0</th>\n",
       "      <td>столовая</td>\n",
       "      <td>114.541369</td>\n",
       "    </tr>\n",
       "    <tr>\n",
       "      <th>1</th>\n",
       "      <td>ресторан</td>\n",
       "      <td>80.967175</td>\n",
       "    </tr>\n",
       "    <tr>\n",
       "      <th>2</th>\n",
       "      <td>буфет</td>\n",
       "      <td>47.832451</td>\n",
       "    </tr>\n",
       "    <tr>\n",
       "      <th>3</th>\n",
       "      <td>бар</td>\n",
       "      <td>40.322733</td>\n",
       "    </tr>\n",
       "    <tr>\n",
       "      <th>4</th>\n",
       "      <td>кафе</td>\n",
       "      <td>38.758267</td>\n",
       "    </tr>\n",
       "    <tr>\n",
       "      <th>5</th>\n",
       "      <td>предприятие быстрого обслуживания</td>\n",
       "      <td>19.801268</td>\n",
       "    </tr>\n",
       "    <tr>\n",
       "      <th>6</th>\n",
       "      <td>кафетерий</td>\n",
       "      <td>9.184810</td>\n",
       "    </tr>\n",
       "    <tr>\n",
       "      <th>7</th>\n",
       "      <td>закусочная</td>\n",
       "      <td>7.847701</td>\n",
       "    </tr>\n",
       "    <tr>\n",
       "      <th>8</th>\n",
       "      <td>магазин (отдел кулинарии)</td>\n",
       "      <td>5.589744</td>\n",
       "    </tr>\n",
       "  </tbody>\n",
       "</table>\n",
       "</div>"
      ],
      "text/plain": [
       "                         object_type      number\n",
       "0                           столовая  114.541369\n",
       "1                           ресторан   80.967175\n",
       "2                              буфет   47.832451\n",
       "3                                бар   40.322733\n",
       "4                               кафе   38.758267\n",
       "5  предприятие быстрого обслуживания   19.801268\n",
       "6                          кафетерий    9.184810\n",
       "7                         закусочная    7.847701\n",
       "8          магазин (отдел кулинарии)    5.589744"
      ]
     },
     "execution_count": 33,
     "metadata": {},
     "output_type": "execute_result"
    }
   ],
   "source": [
    "avg_seats = df.pivot_table(index='object_type', \n",
    "                           values='number', \n",
    "                           aggfunc='mean')\\\n",
    "              .sort_values(by='number', ascending=False)\\\n",
    "              .reset_index()\n",
    "avg_seats"
   ]
  },
  {
   "cell_type": "code",
   "execution_count": 34,
   "metadata": {},
   "outputs": [
    {
     "data": {
      "application/vnd.plotly.v1+json": {
       "config": {
        "plotlyServerURL": "https://plot.ly"
       },
       "data": [
        {
         "alignmentgroup": "True",
         "hovertemplate": "Вид объекта=%{x}<br>Среднее кол-во посадочных мест=%{y}<extra></extra>",
         "legendgroup": "",
         "marker": {
          "color": "#636efa",
          "pattern": {
           "shape": ""
          }
         },
         "name": "",
         "offsetgroup": "",
         "orientation": "v",
         "showlegend": false,
         "textposition": "auto",
         "type": "bar",
         "x": [
          "столовая",
          "ресторан",
          "буфет",
          "бар",
          "кафе",
          "предприятие быстрого обслуживания",
          "кафетерий",
          "закусочная",
          "магазин (отдел кулинарии)"
         ],
         "xaxis": "x",
         "y": [
          114.54136917261654,
          80.96717521960241,
          47.832451499118164,
          40.322732626619555,
          38.758267195767196,
          19.801268498942918,
          9.184810126582278,
          7.847701149425287,
          5.589743589743589
         ],
         "yaxis": "y"
        }
       ],
       "layout": {
        "barmode": "relative",
        "height": 800,
        "legend": {
         "tracegroupgap": 0
        },
        "margin": {
         "t": 60
        },
        "template": {
         "data": {
          "bar": [
           {
            "error_x": {
             "color": "#2a3f5f"
            },
            "error_y": {
             "color": "#2a3f5f"
            },
            "marker": {
             "line": {
              "color": "#E5ECF6",
              "width": 0.5
             },
             "pattern": {
              "fillmode": "overlay",
              "size": 10,
              "solidity": 0.2
             }
            },
            "type": "bar"
           }
          ],
          "barpolar": [
           {
            "marker": {
             "line": {
              "color": "#E5ECF6",
              "width": 0.5
             },
             "pattern": {
              "fillmode": "overlay",
              "size": 10,
              "solidity": 0.2
             }
            },
            "type": "barpolar"
           }
          ],
          "carpet": [
           {
            "aaxis": {
             "endlinecolor": "#2a3f5f",
             "gridcolor": "white",
             "linecolor": "white",
             "minorgridcolor": "white",
             "startlinecolor": "#2a3f5f"
            },
            "baxis": {
             "endlinecolor": "#2a3f5f",
             "gridcolor": "white",
             "linecolor": "white",
             "minorgridcolor": "white",
             "startlinecolor": "#2a3f5f"
            },
            "type": "carpet"
           }
          ],
          "choropleth": [
           {
            "colorbar": {
             "outlinewidth": 0,
             "ticks": ""
            },
            "type": "choropleth"
           }
          ],
          "contour": [
           {
            "colorbar": {
             "outlinewidth": 0,
             "ticks": ""
            },
            "colorscale": [
             [
              0,
              "#0d0887"
             ],
             [
              0.1111111111111111,
              "#46039f"
             ],
             [
              0.2222222222222222,
              "#7201a8"
             ],
             [
              0.3333333333333333,
              "#9c179e"
             ],
             [
              0.4444444444444444,
              "#bd3786"
             ],
             [
              0.5555555555555556,
              "#d8576b"
             ],
             [
              0.6666666666666666,
              "#ed7953"
             ],
             [
              0.7777777777777778,
              "#fb9f3a"
             ],
             [
              0.8888888888888888,
              "#fdca26"
             ],
             [
              1,
              "#f0f921"
             ]
            ],
            "type": "contour"
           }
          ],
          "contourcarpet": [
           {
            "colorbar": {
             "outlinewidth": 0,
             "ticks": ""
            },
            "type": "contourcarpet"
           }
          ],
          "heatmap": [
           {
            "colorbar": {
             "outlinewidth": 0,
             "ticks": ""
            },
            "colorscale": [
             [
              0,
              "#0d0887"
             ],
             [
              0.1111111111111111,
              "#46039f"
             ],
             [
              0.2222222222222222,
              "#7201a8"
             ],
             [
              0.3333333333333333,
              "#9c179e"
             ],
             [
              0.4444444444444444,
              "#bd3786"
             ],
             [
              0.5555555555555556,
              "#d8576b"
             ],
             [
              0.6666666666666666,
              "#ed7953"
             ],
             [
              0.7777777777777778,
              "#fb9f3a"
             ],
             [
              0.8888888888888888,
              "#fdca26"
             ],
             [
              1,
              "#f0f921"
             ]
            ],
            "type": "heatmap"
           }
          ],
          "heatmapgl": [
           {
            "colorbar": {
             "outlinewidth": 0,
             "ticks": ""
            },
            "colorscale": [
             [
              0,
              "#0d0887"
             ],
             [
              0.1111111111111111,
              "#46039f"
             ],
             [
              0.2222222222222222,
              "#7201a8"
             ],
             [
              0.3333333333333333,
              "#9c179e"
             ],
             [
              0.4444444444444444,
              "#bd3786"
             ],
             [
              0.5555555555555556,
              "#d8576b"
             ],
             [
              0.6666666666666666,
              "#ed7953"
             ],
             [
              0.7777777777777778,
              "#fb9f3a"
             ],
             [
              0.8888888888888888,
              "#fdca26"
             ],
             [
              1,
              "#f0f921"
             ]
            ],
            "type": "heatmapgl"
           }
          ],
          "histogram": [
           {
            "marker": {
             "pattern": {
              "fillmode": "overlay",
              "size": 10,
              "solidity": 0.2
             }
            },
            "type": "histogram"
           }
          ],
          "histogram2d": [
           {
            "colorbar": {
             "outlinewidth": 0,
             "ticks": ""
            },
            "colorscale": [
             [
              0,
              "#0d0887"
             ],
             [
              0.1111111111111111,
              "#46039f"
             ],
             [
              0.2222222222222222,
              "#7201a8"
             ],
             [
              0.3333333333333333,
              "#9c179e"
             ],
             [
              0.4444444444444444,
              "#bd3786"
             ],
             [
              0.5555555555555556,
              "#d8576b"
             ],
             [
              0.6666666666666666,
              "#ed7953"
             ],
             [
              0.7777777777777778,
              "#fb9f3a"
             ],
             [
              0.8888888888888888,
              "#fdca26"
             ],
             [
              1,
              "#f0f921"
             ]
            ],
            "type": "histogram2d"
           }
          ],
          "histogram2dcontour": [
           {
            "colorbar": {
             "outlinewidth": 0,
             "ticks": ""
            },
            "colorscale": [
             [
              0,
              "#0d0887"
             ],
             [
              0.1111111111111111,
              "#46039f"
             ],
             [
              0.2222222222222222,
              "#7201a8"
             ],
             [
              0.3333333333333333,
              "#9c179e"
             ],
             [
              0.4444444444444444,
              "#bd3786"
             ],
             [
              0.5555555555555556,
              "#d8576b"
             ],
             [
              0.6666666666666666,
              "#ed7953"
             ],
             [
              0.7777777777777778,
              "#fb9f3a"
             ],
             [
              0.8888888888888888,
              "#fdca26"
             ],
             [
              1,
              "#f0f921"
             ]
            ],
            "type": "histogram2dcontour"
           }
          ],
          "mesh3d": [
           {
            "colorbar": {
             "outlinewidth": 0,
             "ticks": ""
            },
            "type": "mesh3d"
           }
          ],
          "parcoords": [
           {
            "line": {
             "colorbar": {
              "outlinewidth": 0,
              "ticks": ""
             }
            },
            "type": "parcoords"
           }
          ],
          "pie": [
           {
            "automargin": true,
            "type": "pie"
           }
          ],
          "scatter": [
           {
            "marker": {
             "colorbar": {
              "outlinewidth": 0,
              "ticks": ""
             }
            },
            "type": "scatter"
           }
          ],
          "scatter3d": [
           {
            "line": {
             "colorbar": {
              "outlinewidth": 0,
              "ticks": ""
             }
            },
            "marker": {
             "colorbar": {
              "outlinewidth": 0,
              "ticks": ""
             }
            },
            "type": "scatter3d"
           }
          ],
          "scattercarpet": [
           {
            "marker": {
             "colorbar": {
              "outlinewidth": 0,
              "ticks": ""
             }
            },
            "type": "scattercarpet"
           }
          ],
          "scattergeo": [
           {
            "marker": {
             "colorbar": {
              "outlinewidth": 0,
              "ticks": ""
             }
            },
            "type": "scattergeo"
           }
          ],
          "scattergl": [
           {
            "marker": {
             "colorbar": {
              "outlinewidth": 0,
              "ticks": ""
             }
            },
            "type": "scattergl"
           }
          ],
          "scattermapbox": [
           {
            "marker": {
             "colorbar": {
              "outlinewidth": 0,
              "ticks": ""
             }
            },
            "type": "scattermapbox"
           }
          ],
          "scatterpolar": [
           {
            "marker": {
             "colorbar": {
              "outlinewidth": 0,
              "ticks": ""
             }
            },
            "type": "scatterpolar"
           }
          ],
          "scatterpolargl": [
           {
            "marker": {
             "colorbar": {
              "outlinewidth": 0,
              "ticks": ""
             }
            },
            "type": "scatterpolargl"
           }
          ],
          "scatterternary": [
           {
            "marker": {
             "colorbar": {
              "outlinewidth": 0,
              "ticks": ""
             }
            },
            "type": "scatterternary"
           }
          ],
          "surface": [
           {
            "colorbar": {
             "outlinewidth": 0,
             "ticks": ""
            },
            "colorscale": [
             [
              0,
              "#0d0887"
             ],
             [
              0.1111111111111111,
              "#46039f"
             ],
             [
              0.2222222222222222,
              "#7201a8"
             ],
             [
              0.3333333333333333,
              "#9c179e"
             ],
             [
              0.4444444444444444,
              "#bd3786"
             ],
             [
              0.5555555555555556,
              "#d8576b"
             ],
             [
              0.6666666666666666,
              "#ed7953"
             ],
             [
              0.7777777777777778,
              "#fb9f3a"
             ],
             [
              0.8888888888888888,
              "#fdca26"
             ],
             [
              1,
              "#f0f921"
             ]
            ],
            "type": "surface"
           }
          ],
          "table": [
           {
            "cells": {
             "fill": {
              "color": "#EBF0F8"
             },
             "line": {
              "color": "white"
             }
            },
            "header": {
             "fill": {
              "color": "#C8D4E3"
             },
             "line": {
              "color": "white"
             }
            },
            "type": "table"
           }
          ]
         },
         "layout": {
          "annotationdefaults": {
           "arrowcolor": "#2a3f5f",
           "arrowhead": 0,
           "arrowwidth": 1
          },
          "autotypenumbers": "strict",
          "coloraxis": {
           "colorbar": {
            "outlinewidth": 0,
            "ticks": ""
           }
          },
          "colorscale": {
           "diverging": [
            [
             0,
             "#8e0152"
            ],
            [
             0.1,
             "#c51b7d"
            ],
            [
             0.2,
             "#de77ae"
            ],
            [
             0.3,
             "#f1b6da"
            ],
            [
             0.4,
             "#fde0ef"
            ],
            [
             0.5,
             "#f7f7f7"
            ],
            [
             0.6,
             "#e6f5d0"
            ],
            [
             0.7,
             "#b8e186"
            ],
            [
             0.8,
             "#7fbc41"
            ],
            [
             0.9,
             "#4d9221"
            ],
            [
             1,
             "#276419"
            ]
           ],
           "sequential": [
            [
             0,
             "#0d0887"
            ],
            [
             0.1111111111111111,
             "#46039f"
            ],
            [
             0.2222222222222222,
             "#7201a8"
            ],
            [
             0.3333333333333333,
             "#9c179e"
            ],
            [
             0.4444444444444444,
             "#bd3786"
            ],
            [
             0.5555555555555556,
             "#d8576b"
            ],
            [
             0.6666666666666666,
             "#ed7953"
            ],
            [
             0.7777777777777778,
             "#fb9f3a"
            ],
            [
             0.8888888888888888,
             "#fdca26"
            ],
            [
             1,
             "#f0f921"
            ]
           ],
           "sequentialminus": [
            [
             0,
             "#0d0887"
            ],
            [
             0.1111111111111111,
             "#46039f"
            ],
            [
             0.2222222222222222,
             "#7201a8"
            ],
            [
             0.3333333333333333,
             "#9c179e"
            ],
            [
             0.4444444444444444,
             "#bd3786"
            ],
            [
             0.5555555555555556,
             "#d8576b"
            ],
            [
             0.6666666666666666,
             "#ed7953"
            ],
            [
             0.7777777777777778,
             "#fb9f3a"
            ],
            [
             0.8888888888888888,
             "#fdca26"
            ],
            [
             1,
             "#f0f921"
            ]
           ]
          },
          "colorway": [
           "#636efa",
           "#EF553B",
           "#00cc96",
           "#ab63fa",
           "#FFA15A",
           "#19d3f3",
           "#FF6692",
           "#B6E880",
           "#FF97FF",
           "#FECB52"
          ],
          "font": {
           "color": "#2a3f5f"
          },
          "geo": {
           "bgcolor": "white",
           "lakecolor": "white",
           "landcolor": "#E5ECF6",
           "showlakes": true,
           "showland": true,
           "subunitcolor": "white"
          },
          "hoverlabel": {
           "align": "left"
          },
          "hovermode": "closest",
          "mapbox": {
           "style": "light"
          },
          "paper_bgcolor": "white",
          "plot_bgcolor": "#E5ECF6",
          "polar": {
           "angularaxis": {
            "gridcolor": "white",
            "linecolor": "white",
            "ticks": ""
           },
           "bgcolor": "#E5ECF6",
           "radialaxis": {
            "gridcolor": "white",
            "linecolor": "white",
            "ticks": ""
           }
          },
          "scene": {
           "xaxis": {
            "backgroundcolor": "#E5ECF6",
            "gridcolor": "white",
            "gridwidth": 2,
            "linecolor": "white",
            "showbackground": true,
            "ticks": "",
            "zerolinecolor": "white"
           },
           "yaxis": {
            "backgroundcolor": "#E5ECF6",
            "gridcolor": "white",
            "gridwidth": 2,
            "linecolor": "white",
            "showbackground": true,
            "ticks": "",
            "zerolinecolor": "white"
           },
           "zaxis": {
            "backgroundcolor": "#E5ECF6",
            "gridcolor": "white",
            "gridwidth": 2,
            "linecolor": "white",
            "showbackground": true,
            "ticks": "",
            "zerolinecolor": "white"
           }
          },
          "shapedefaults": {
           "line": {
            "color": "#2a3f5f"
           }
          },
          "ternary": {
           "aaxis": {
            "gridcolor": "white",
            "linecolor": "white",
            "ticks": ""
           },
           "baxis": {
            "gridcolor": "white",
            "linecolor": "white",
            "ticks": ""
           },
           "bgcolor": "#E5ECF6",
           "caxis": {
            "gridcolor": "white",
            "linecolor": "white",
            "ticks": ""
           }
          },
          "title": {
           "x": 0.05
          },
          "xaxis": {
           "automargin": true,
           "gridcolor": "white",
           "linecolor": "white",
           "ticks": "",
           "title": {
            "standoff": 15
           },
           "zerolinecolor": "white",
           "zerolinewidth": 2
          },
          "yaxis": {
           "automargin": true,
           "gridcolor": "white",
           "linecolor": "white",
           "ticks": "",
           "title": {
            "standoff": 15
           },
           "zerolinecolor": "white",
           "zerolinewidth": 2
          }
         }
        },
        "title": {
         "text": "Среднее количество посадочных мест",
         "x": 0.5
        },
        "width": 800,
        "xaxis": {
         "anchor": "y",
         "domain": [
          0,
          1
         ],
         "tickangle": 45,
         "title": {
          "text": "Вид объекта"
         }
        },
        "yaxis": {
         "anchor": "x",
         "domain": [
          0,
          1
         ],
         "title": {
          "text": "Среднее кол-во посадочных мест"
         }
        }
       }
      },
      "text/html": [
       "<div>                            <div id=\"f9359ed3-d50d-42ee-9f81-7826084a231f\" class=\"plotly-graph-div\" style=\"height:800px; width:800px;\"></div>            <script type=\"text/javascript\">                require([\"plotly\"], function(Plotly) {                    window.PLOTLYENV=window.PLOTLYENV || {};                                    if (document.getElementById(\"f9359ed3-d50d-42ee-9f81-7826084a231f\")) {                    Plotly.newPlot(                        \"f9359ed3-d50d-42ee-9f81-7826084a231f\",                        [{\"alignmentgroup\":\"True\",\"hovertemplate\":\"\\u0412\\u0438\\u0434 \\u043e\\u0431\\u044a\\u0435\\u043a\\u0442\\u0430=%{x}<br>\\u0421\\u0440\\u0435\\u0434\\u043d\\u0435\\u0435 \\u043a\\u043e\\u043b-\\u0432\\u043e \\u043f\\u043e\\u0441\\u0430\\u0434\\u043e\\u0447\\u043d\\u044b\\u0445 \\u043c\\u0435\\u0441\\u0442=%{y}<extra></extra>\",\"legendgroup\":\"\",\"marker\":{\"color\":\"#636efa\",\"pattern\":{\"shape\":\"\"}},\"name\":\"\",\"offsetgroup\":\"\",\"orientation\":\"v\",\"showlegend\":false,\"textposition\":\"auto\",\"x\":[\"\\u0441\\u0442\\u043e\\u043b\\u043e\\u0432\\u0430\\u044f\",\"\\u0440\\u0435\\u0441\\u0442\\u043e\\u0440\\u0430\\u043d\",\"\\u0431\\u0443\\u0444\\u0435\\u0442\",\"\\u0431\\u0430\\u0440\",\"\\u043a\\u0430\\u0444\\u0435\",\"\\u043f\\u0440\\u0435\\u0434\\u043f\\u0440\\u0438\\u044f\\u0442\\u0438\\u0435 \\u0431\\u044b\\u0441\\u0442\\u0440\\u043e\\u0433\\u043e \\u043e\\u0431\\u0441\\u043b\\u0443\\u0436\\u0438\\u0432\\u0430\\u043d\\u0438\\u044f\",\"\\u043a\\u0430\\u0444\\u0435\\u0442\\u0435\\u0440\\u0438\\u0439\",\"\\u0437\\u0430\\u043a\\u0443\\u0441\\u043e\\u0447\\u043d\\u0430\\u044f\",\"\\u043c\\u0430\\u0433\\u0430\\u0437\\u0438\\u043d (\\u043e\\u0442\\u0434\\u0435\\u043b \\u043a\\u0443\\u043b\\u0438\\u043d\\u0430\\u0440\\u0438\\u0438)\"],\"xaxis\":\"x\",\"y\":[114.54136917261654,80.96717521960241,47.832451499118164,40.322732626619555,38.758267195767196,19.801268498942918,9.184810126582278,7.847701149425287,5.589743589743589],\"yaxis\":\"y\",\"type\":\"bar\"}],                        {\"template\":{\"data\":{\"bar\":[{\"error_x\":{\"color\":\"#2a3f5f\"},\"error_y\":{\"color\":\"#2a3f5f\"},\"marker\":{\"line\":{\"color\":\"#E5ECF6\",\"width\":0.5},\"pattern\":{\"fillmode\":\"overlay\",\"size\":10,\"solidity\":0.2}},\"type\":\"bar\"}],\"barpolar\":[{\"marker\":{\"line\":{\"color\":\"#E5ECF6\",\"width\":0.5},\"pattern\":{\"fillmode\":\"overlay\",\"size\":10,\"solidity\":0.2}},\"type\":\"barpolar\"}],\"carpet\":[{\"aaxis\":{\"endlinecolor\":\"#2a3f5f\",\"gridcolor\":\"white\",\"linecolor\":\"white\",\"minorgridcolor\":\"white\",\"startlinecolor\":\"#2a3f5f\"},\"baxis\":{\"endlinecolor\":\"#2a3f5f\",\"gridcolor\":\"white\",\"linecolor\":\"white\",\"minorgridcolor\":\"white\",\"startlinecolor\":\"#2a3f5f\"},\"type\":\"carpet\"}],\"choropleth\":[{\"colorbar\":{\"outlinewidth\":0,\"ticks\":\"\"},\"type\":\"choropleth\"}],\"contour\":[{\"colorbar\":{\"outlinewidth\":0,\"ticks\":\"\"},\"colorscale\":[[0.0,\"#0d0887\"],[0.1111111111111111,\"#46039f\"],[0.2222222222222222,\"#7201a8\"],[0.3333333333333333,\"#9c179e\"],[0.4444444444444444,\"#bd3786\"],[0.5555555555555556,\"#d8576b\"],[0.6666666666666666,\"#ed7953\"],[0.7777777777777778,\"#fb9f3a\"],[0.8888888888888888,\"#fdca26\"],[1.0,\"#f0f921\"]],\"type\":\"contour\"}],\"contourcarpet\":[{\"colorbar\":{\"outlinewidth\":0,\"ticks\":\"\"},\"type\":\"contourcarpet\"}],\"heatmap\":[{\"colorbar\":{\"outlinewidth\":0,\"ticks\":\"\"},\"colorscale\":[[0.0,\"#0d0887\"],[0.1111111111111111,\"#46039f\"],[0.2222222222222222,\"#7201a8\"],[0.3333333333333333,\"#9c179e\"],[0.4444444444444444,\"#bd3786\"],[0.5555555555555556,\"#d8576b\"],[0.6666666666666666,\"#ed7953\"],[0.7777777777777778,\"#fb9f3a\"],[0.8888888888888888,\"#fdca26\"],[1.0,\"#f0f921\"]],\"type\":\"heatmap\"}],\"heatmapgl\":[{\"colorbar\":{\"outlinewidth\":0,\"ticks\":\"\"},\"colorscale\":[[0.0,\"#0d0887\"],[0.1111111111111111,\"#46039f\"],[0.2222222222222222,\"#7201a8\"],[0.3333333333333333,\"#9c179e\"],[0.4444444444444444,\"#bd3786\"],[0.5555555555555556,\"#d8576b\"],[0.6666666666666666,\"#ed7953\"],[0.7777777777777778,\"#fb9f3a\"],[0.8888888888888888,\"#fdca26\"],[1.0,\"#f0f921\"]],\"type\":\"heatmapgl\"}],\"histogram\":[{\"marker\":{\"pattern\":{\"fillmode\":\"overlay\",\"size\":10,\"solidity\":0.2}},\"type\":\"histogram\"}],\"histogram2d\":[{\"colorbar\":{\"outlinewidth\":0,\"ticks\":\"\"},\"colorscale\":[[0.0,\"#0d0887\"],[0.1111111111111111,\"#46039f\"],[0.2222222222222222,\"#7201a8\"],[0.3333333333333333,\"#9c179e\"],[0.4444444444444444,\"#bd3786\"],[0.5555555555555556,\"#d8576b\"],[0.6666666666666666,\"#ed7953\"],[0.7777777777777778,\"#fb9f3a\"],[0.8888888888888888,\"#fdca26\"],[1.0,\"#f0f921\"]],\"type\":\"histogram2d\"}],\"histogram2dcontour\":[{\"colorbar\":{\"outlinewidth\":0,\"ticks\":\"\"},\"colorscale\":[[0.0,\"#0d0887\"],[0.1111111111111111,\"#46039f\"],[0.2222222222222222,\"#7201a8\"],[0.3333333333333333,\"#9c179e\"],[0.4444444444444444,\"#bd3786\"],[0.5555555555555556,\"#d8576b\"],[0.6666666666666666,\"#ed7953\"],[0.7777777777777778,\"#fb9f3a\"],[0.8888888888888888,\"#fdca26\"],[1.0,\"#f0f921\"]],\"type\":\"histogram2dcontour\"}],\"mesh3d\":[{\"colorbar\":{\"outlinewidth\":0,\"ticks\":\"\"},\"type\":\"mesh3d\"}],\"parcoords\":[{\"line\":{\"colorbar\":{\"outlinewidth\":0,\"ticks\":\"\"}},\"type\":\"parcoords\"}],\"pie\":[{\"automargin\":true,\"type\":\"pie\"}],\"scatter\":[{\"marker\":{\"colorbar\":{\"outlinewidth\":0,\"ticks\":\"\"}},\"type\":\"scatter\"}],\"scatter3d\":[{\"line\":{\"colorbar\":{\"outlinewidth\":0,\"ticks\":\"\"}},\"marker\":{\"colorbar\":{\"outlinewidth\":0,\"ticks\":\"\"}},\"type\":\"scatter3d\"}],\"scattercarpet\":[{\"marker\":{\"colorbar\":{\"outlinewidth\":0,\"ticks\":\"\"}},\"type\":\"scattercarpet\"}],\"scattergeo\":[{\"marker\":{\"colorbar\":{\"outlinewidth\":0,\"ticks\":\"\"}},\"type\":\"scattergeo\"}],\"scattergl\":[{\"marker\":{\"colorbar\":{\"outlinewidth\":0,\"ticks\":\"\"}},\"type\":\"scattergl\"}],\"scattermapbox\":[{\"marker\":{\"colorbar\":{\"outlinewidth\":0,\"ticks\":\"\"}},\"type\":\"scattermapbox\"}],\"scatterpolar\":[{\"marker\":{\"colorbar\":{\"outlinewidth\":0,\"ticks\":\"\"}},\"type\":\"scatterpolar\"}],\"scatterpolargl\":[{\"marker\":{\"colorbar\":{\"outlinewidth\":0,\"ticks\":\"\"}},\"type\":\"scatterpolargl\"}],\"scatterternary\":[{\"marker\":{\"colorbar\":{\"outlinewidth\":0,\"ticks\":\"\"}},\"type\":\"scatterternary\"}],\"surface\":[{\"colorbar\":{\"outlinewidth\":0,\"ticks\":\"\"},\"colorscale\":[[0.0,\"#0d0887\"],[0.1111111111111111,\"#46039f\"],[0.2222222222222222,\"#7201a8\"],[0.3333333333333333,\"#9c179e\"],[0.4444444444444444,\"#bd3786\"],[0.5555555555555556,\"#d8576b\"],[0.6666666666666666,\"#ed7953\"],[0.7777777777777778,\"#fb9f3a\"],[0.8888888888888888,\"#fdca26\"],[1.0,\"#f0f921\"]],\"type\":\"surface\"}],\"table\":[{\"cells\":{\"fill\":{\"color\":\"#EBF0F8\"},\"line\":{\"color\":\"white\"}},\"header\":{\"fill\":{\"color\":\"#C8D4E3\"},\"line\":{\"color\":\"white\"}},\"type\":\"table\"}]},\"layout\":{\"annotationdefaults\":{\"arrowcolor\":\"#2a3f5f\",\"arrowhead\":0,\"arrowwidth\":1},\"autotypenumbers\":\"strict\",\"coloraxis\":{\"colorbar\":{\"outlinewidth\":0,\"ticks\":\"\"}},\"colorscale\":{\"diverging\":[[0,\"#8e0152\"],[0.1,\"#c51b7d\"],[0.2,\"#de77ae\"],[0.3,\"#f1b6da\"],[0.4,\"#fde0ef\"],[0.5,\"#f7f7f7\"],[0.6,\"#e6f5d0\"],[0.7,\"#b8e186\"],[0.8,\"#7fbc41\"],[0.9,\"#4d9221\"],[1,\"#276419\"]],\"sequential\":[[0.0,\"#0d0887\"],[0.1111111111111111,\"#46039f\"],[0.2222222222222222,\"#7201a8\"],[0.3333333333333333,\"#9c179e\"],[0.4444444444444444,\"#bd3786\"],[0.5555555555555556,\"#d8576b\"],[0.6666666666666666,\"#ed7953\"],[0.7777777777777778,\"#fb9f3a\"],[0.8888888888888888,\"#fdca26\"],[1.0,\"#f0f921\"]],\"sequentialminus\":[[0.0,\"#0d0887\"],[0.1111111111111111,\"#46039f\"],[0.2222222222222222,\"#7201a8\"],[0.3333333333333333,\"#9c179e\"],[0.4444444444444444,\"#bd3786\"],[0.5555555555555556,\"#d8576b\"],[0.6666666666666666,\"#ed7953\"],[0.7777777777777778,\"#fb9f3a\"],[0.8888888888888888,\"#fdca26\"],[1.0,\"#f0f921\"]]},\"colorway\":[\"#636efa\",\"#EF553B\",\"#00cc96\",\"#ab63fa\",\"#FFA15A\",\"#19d3f3\",\"#FF6692\",\"#B6E880\",\"#FF97FF\",\"#FECB52\"],\"font\":{\"color\":\"#2a3f5f\"},\"geo\":{\"bgcolor\":\"white\",\"lakecolor\":\"white\",\"landcolor\":\"#E5ECF6\",\"showlakes\":true,\"showland\":true,\"subunitcolor\":\"white\"},\"hoverlabel\":{\"align\":\"left\"},\"hovermode\":\"closest\",\"mapbox\":{\"style\":\"light\"},\"paper_bgcolor\":\"white\",\"plot_bgcolor\":\"#E5ECF6\",\"polar\":{\"angularaxis\":{\"gridcolor\":\"white\",\"linecolor\":\"white\",\"ticks\":\"\"},\"bgcolor\":\"#E5ECF6\",\"radialaxis\":{\"gridcolor\":\"white\",\"linecolor\":\"white\",\"ticks\":\"\"}},\"scene\":{\"xaxis\":{\"backgroundcolor\":\"#E5ECF6\",\"gridcolor\":\"white\",\"gridwidth\":2,\"linecolor\":\"white\",\"showbackground\":true,\"ticks\":\"\",\"zerolinecolor\":\"white\"},\"yaxis\":{\"backgroundcolor\":\"#E5ECF6\",\"gridcolor\":\"white\",\"gridwidth\":2,\"linecolor\":\"white\",\"showbackground\":true,\"ticks\":\"\",\"zerolinecolor\":\"white\"},\"zaxis\":{\"backgroundcolor\":\"#E5ECF6\",\"gridcolor\":\"white\",\"gridwidth\":2,\"linecolor\":\"white\",\"showbackground\":true,\"ticks\":\"\",\"zerolinecolor\":\"white\"}},\"shapedefaults\":{\"line\":{\"color\":\"#2a3f5f\"}},\"ternary\":{\"aaxis\":{\"gridcolor\":\"white\",\"linecolor\":\"white\",\"ticks\":\"\"},\"baxis\":{\"gridcolor\":\"white\",\"linecolor\":\"white\",\"ticks\":\"\"},\"bgcolor\":\"#E5ECF6\",\"caxis\":{\"gridcolor\":\"white\",\"linecolor\":\"white\",\"ticks\":\"\"}},\"title\":{\"x\":0.05},\"xaxis\":{\"automargin\":true,\"gridcolor\":\"white\",\"linecolor\":\"white\",\"ticks\":\"\",\"title\":{\"standoff\":15},\"zerolinecolor\":\"white\",\"zerolinewidth\":2},\"yaxis\":{\"automargin\":true,\"gridcolor\":\"white\",\"linecolor\":\"white\",\"ticks\":\"\",\"title\":{\"standoff\":15},\"zerolinecolor\":\"white\",\"zerolinewidth\":2}}},\"xaxis\":{\"anchor\":\"y\",\"domain\":[0.0,1.0],\"title\":{\"text\":\"\\u0412\\u0438\\u0434 \\u043e\\u0431\\u044a\\u0435\\u043a\\u0442\\u0430\"},\"tickangle\":45},\"yaxis\":{\"anchor\":\"x\",\"domain\":[0.0,1.0],\"title\":{\"text\":\"\\u0421\\u0440\\u0435\\u0434\\u043d\\u0435\\u0435 \\u043a\\u043e\\u043b-\\u0432\\u043e \\u043f\\u043e\\u0441\\u0430\\u0434\\u043e\\u0447\\u043d\\u044b\\u0445 \\u043c\\u0435\\u0441\\u0442\"}},\"legend\":{\"tracegroupgap\":0},\"margin\":{\"t\":60},\"barmode\":\"relative\",\"height\":800,\"width\":800,\"title\":{\"text\":\"\\u0421\\u0440\\u0435\\u0434\\u043d\\u0435\\u0435 \\u043a\\u043e\\u043b\\u0438\\u0447\\u0435\\u0441\\u0442\\u0432\\u043e \\u043f\\u043e\\u0441\\u0430\\u0434\\u043e\\u0447\\u043d\\u044b\\u0445 \\u043c\\u0435\\u0441\\u0442\",\"x\":0.5}},                        {\"responsive\": true}                    ).then(function(){\n",
       "                            \n",
       "var gd = document.getElementById('f9359ed3-d50d-42ee-9f81-7826084a231f');\n",
       "var x = new MutationObserver(function (mutations, observer) {{\n",
       "        var display = window.getComputedStyle(gd).display;\n",
       "        if (!display || display === 'none') {{\n",
       "            console.log([gd, 'removed!']);\n",
       "            Plotly.purge(gd);\n",
       "            observer.disconnect();\n",
       "        }}\n",
       "}});\n",
       "\n",
       "// Listen for the removal of the full notebook cells\n",
       "var notebookContainer = gd.closest('#notebook-container');\n",
       "if (notebookContainer) {{\n",
       "    x.observe(notebookContainer, {childList: true});\n",
       "}}\n",
       "\n",
       "// Listen for the clearing of the current output cell\n",
       "var outputEl = gd.closest('.output');\n",
       "if (outputEl) {{\n",
       "    x.observe(outputEl, {childList: true});\n",
       "}}\n",
       "\n",
       "                        })                };                });            </script>        </div>"
      ]
     },
     "metadata": {},
     "output_type": "display_data"
    }
   ],
   "source": [
    "fig = px.bar(\n",
    "    avg_seats, x='object_type', y='number', \n",
    "    labels=dict({'object_type': 'Вид объекта', 'number':'Среднее кол-во посадочных мест'}),\n",
    "    width=800, height=800\n",
    ")\n",
    "fig.update_xaxes(tickangle=45)\n",
    "fig.update_layout(title_text='Среднее количество посадочных мест', title_x=0.5)\n",
    "fig.show() "
   ]
  },
  {
   "cell_type": "markdown",
   "metadata": {},
   "source": [
    "Получается, что в среднем - самое большое количество посадочных мест в столовых - порядка 115, меньше всего в отделах кулинарии в магазинах, там в среднем 5-6 посадочных мест."
   ]
  },
  {
   "cell_type": "markdown",
   "metadata": {},
   "source": [
    "### Топ-10 улиц по количеству объектов общественного питания"
   ]
  },
  {
   "cell_type": "markdown",
   "metadata": {},
   "source": [
    "Для дальнейших действий в нашем исследовани, необходимо выделить в отдельный столбец датафрейма информацию об улице из столбца address. Сделаем это с помощью регулярных выражений:"
   ]
  },
  {
   "cell_type": "code",
   "execution_count": 35,
   "metadata": {},
   "outputs": [
    {
     "data": {
      "text/html": [
       "<div>\n",
       "<style scoped>\n",
       "    .dataframe tbody tr th:only-of-type {\n",
       "        vertical-align: middle;\n",
       "    }\n",
       "\n",
       "    .dataframe tbody tr th {\n",
       "        vertical-align: top;\n",
       "    }\n",
       "\n",
       "    .dataframe thead th {\n",
       "        text-align: right;\n",
       "    }\n",
       "</style>\n",
       "<table border=\"1\" class=\"dataframe\">\n",
       "  <thead>\n",
       "    <tr style=\"text-align: right;\">\n",
       "      <th></th>\n",
       "      <th>id</th>\n",
       "      <th>object_name</th>\n",
       "      <th>chain</th>\n",
       "      <th>object_type</th>\n",
       "      <th>address</th>\n",
       "      <th>number</th>\n",
       "      <th>street</th>\n",
       "    </tr>\n",
       "  </thead>\n",
       "  <tbody>\n",
       "    <tr>\n",
       "      <th>0</th>\n",
       "      <td>151635</td>\n",
       "      <td>сметана</td>\n",
       "      <td>нет</td>\n",
       "      <td>кафе</td>\n",
       "      <td>город москва, улица егора абакумова, дом 9</td>\n",
       "      <td>48</td>\n",
       "      <td>улица егора абакумова</td>\n",
       "    </tr>\n",
       "    <tr>\n",
       "      <th>1</th>\n",
       "      <td>77874</td>\n",
       "      <td>родник</td>\n",
       "      <td>нет</td>\n",
       "      <td>кафе</td>\n",
       "      <td>город москва, улица талалихина, дом 2/1, корпус 1</td>\n",
       "      <td>35</td>\n",
       "      <td>улица талалихина</td>\n",
       "    </tr>\n",
       "    <tr>\n",
       "      <th>2</th>\n",
       "      <td>24309</td>\n",
       "      <td>кафе «академия»</td>\n",
       "      <td>нет</td>\n",
       "      <td>кафе</td>\n",
       "      <td>город москва, абельмановская улица, дом 6</td>\n",
       "      <td>95</td>\n",
       "      <td>абельмановская улица</td>\n",
       "    </tr>\n",
       "    <tr>\n",
       "      <th>3</th>\n",
       "      <td>21894</td>\n",
       "      <td>пиццетория</td>\n",
       "      <td>да</td>\n",
       "      <td>кафе</td>\n",
       "      <td>город москва, абрамцевская улица, дом 1</td>\n",
       "      <td>40</td>\n",
       "      <td>абрамцевская улица</td>\n",
       "    </tr>\n",
       "    <tr>\n",
       "      <th>4</th>\n",
       "      <td>119365</td>\n",
       "      <td>кафе «вишневая метель»</td>\n",
       "      <td>нет</td>\n",
       "      <td>кафе</td>\n",
       "      <td>город москва, абрамцевская улица, дом 9, корпус 1</td>\n",
       "      <td>50</td>\n",
       "      <td>абрамцевская улица</td>\n",
       "    </tr>\n",
       "    <tr>\n",
       "      <th>5</th>\n",
       "      <td>27429</td>\n",
       "      <td>стол. при гоу сош № 1051</td>\n",
       "      <td>нет</td>\n",
       "      <td>столовая</td>\n",
       "      <td>город москва, абрамцевская улица, дом 15, корп...</td>\n",
       "      <td>240</td>\n",
       "      <td>абрамцевская улица</td>\n",
       "    </tr>\n",
       "    <tr>\n",
       "      <th>6</th>\n",
       "      <td>148815</td>\n",
       "      <td>брусника</td>\n",
       "      <td>да</td>\n",
       "      <td>кафе</td>\n",
       "      <td>город москва, переулок сивцев вражек, дом 6/2</td>\n",
       "      <td>10</td>\n",
       "      <td>переулок сивцев вражек</td>\n",
       "    </tr>\n",
       "    <tr>\n",
       "      <th>7</th>\n",
       "      <td>20957</td>\n",
       "      <td>буфет мтуси</td>\n",
       "      <td>нет</td>\n",
       "      <td>столовая</td>\n",
       "      <td>город москва, авиамоторная улица, дом 8, строе...</td>\n",
       "      <td>90</td>\n",
       "      <td>авиамоторная улица</td>\n",
       "    </tr>\n",
       "    <tr>\n",
       "      <th>8</th>\n",
       "      <td>20958</td>\n",
       "      <td>кпф семья-1</td>\n",
       "      <td>нет</td>\n",
       "      <td>столовая</td>\n",
       "      <td>город москва, авиамоторная улица, дом 8, строе...</td>\n",
       "      <td>150</td>\n",
       "      <td>авиамоторная улица</td>\n",
       "    </tr>\n",
       "    <tr>\n",
       "      <th>9</th>\n",
       "      <td>28858</td>\n",
       "      <td>столовая мтуси</td>\n",
       "      <td>нет</td>\n",
       "      <td>столовая</td>\n",
       "      <td>город москва, авиамоторная улица, дом 8, строе...</td>\n",
       "      <td>120</td>\n",
       "      <td>авиамоторная улица</td>\n",
       "    </tr>\n",
       "  </tbody>\n",
       "</table>\n",
       "</div>"
      ],
      "text/plain": [
       "       id               object_name chain object_type  \\\n",
       "0  151635                   сметана   нет        кафе   \n",
       "1   77874                    родник   нет        кафе   \n",
       "2   24309           кафе «академия»   нет        кафе   \n",
       "3   21894                пиццетория    да        кафе   \n",
       "4  119365    кафе «вишневая метель»   нет        кафе   \n",
       "5   27429  стол. при гоу сош № 1051   нет    столовая   \n",
       "6  148815                  брусника    да        кафе   \n",
       "7   20957               буфет мтуси   нет    столовая   \n",
       "8   20958               кпф семья-1   нет    столовая   \n",
       "9   28858            столовая мтуси   нет    столовая   \n",
       "\n",
       "                                             address  number  \\\n",
       "0         город москва, улица егора абакумова, дом 9      48   \n",
       "1  город москва, улица талалихина, дом 2/1, корпус 1      35   \n",
       "2          город москва, абельмановская улица, дом 6      95   \n",
       "3            город москва, абрамцевская улица, дом 1      40   \n",
       "4  город москва, абрамцевская улица, дом 9, корпус 1      50   \n",
       "5  город москва, абрамцевская улица, дом 15, корп...     240   \n",
       "6      город москва, переулок сивцев вражек, дом 6/2      10   \n",
       "7  город москва, авиамоторная улица, дом 8, строе...      90   \n",
       "8  город москва, авиамоторная улица, дом 8, строе...     150   \n",
       "9  город москва, авиамоторная улица, дом 8, строе...     120   \n",
       "\n",
       "                   street  \n",
       "0   улица егора абакумова  \n",
       "1        улица талалихина  \n",
       "2    абельмановская улица  \n",
       "3      абрамцевская улица  \n",
       "4      абрамцевская улица  \n",
       "5      абрамцевская улица  \n",
       "6  переулок сивцев вражек  \n",
       "7      авиамоторная улица  \n",
       "8      авиамоторная улица  \n",
       "9      авиамоторная улица  "
      ]
     },
     "execution_count": 35,
     "metadata": {},
     "output_type": "execute_result"
    }
   ],
   "source": [
    "import re\n",
    "words = ['улица','ул','переулок','шоссе','проспект','площадь','проезд',\n",
    "         'село','аллея','бульвар','набережная','тупик','линия']\n",
    "\n",
    "str_pat = r'.*,\\s*\\b([^,]*?(?:{})\\b[^,]*)[,$]+'.format('|'.join(words))\n",
    "\n",
    "df['street'] = df['address'].str.extract(str_pat, flags=re.I)\n",
    "df.head(10)"
   ]
  },
  {
   "cell_type": "code",
   "execution_count": 36,
   "metadata": {},
   "outputs": [
    {
     "name": "stdout",
     "output_type": "stream",
     "text": [
      "Не нашлось :( Хотя вот же оно. 'NoneType' object has no attribute 'group'\n",
      "проспект Мира\n"
     ]
    }
   ],
   "source": [
    "# Код ревьюера\n",
    "\n",
    "try:\n",
    "    print(re.search(str_pat, \"город Москва, проспект Мира\").group(1))\n",
    "except AttributeError as e:\n",
    "    print(\"Не нашлось :( Хотя вот же оно.\", e)\n",
    "\n",
    "try:\n",
    "    print(re.search(str_pat, \"город Москва, проспект Мира,\").group(1))\n",
    "except AttributeError as e:\n",
    "    print(\"Это не выполнится\")\n"
   ]
  },
  {
   "cell_type": "markdown",
   "metadata": {},
   "source": [
    "Построим график ТОП-10 улиц с количеством объектов общественного питания, для этого необходимо сгрупировать наш датафрейм по новому столбцу с названием улиц:"
   ]
  },
  {
   "cell_type": "code",
   "execution_count": 37,
   "metadata": {},
   "outputs": [
    {
     "data": {
      "text/html": [
       "<div>\n",
       "<style scoped>\n",
       "    .dataframe tbody tr th:only-of-type {\n",
       "        vertical-align: middle;\n",
       "    }\n",
       "\n",
       "    .dataframe tbody tr th {\n",
       "        vertical-align: top;\n",
       "    }\n",
       "\n",
       "    .dataframe thead th {\n",
       "        text-align: right;\n",
       "    }\n",
       "</style>\n",
       "<table border=\"1\" class=\"dataframe\">\n",
       "  <thead>\n",
       "    <tr style=\"text-align: right;\">\n",
       "      <th></th>\n",
       "      <th>street</th>\n",
       "      <th>id</th>\n",
       "    </tr>\n",
       "  </thead>\n",
       "  <tbody>\n",
       "    <tr>\n",
       "      <th>9</th>\n",
       "      <td>кировоградская улица</td>\n",
       "      <td>102</td>\n",
       "    </tr>\n",
       "    <tr>\n",
       "      <th>8</th>\n",
       "      <td>каширское шоссе</td>\n",
       "      <td>107</td>\n",
       "    </tr>\n",
       "    <tr>\n",
       "      <th>7</th>\n",
       "      <td>кутузовский проспект</td>\n",
       "      <td>111</td>\n",
       "    </tr>\n",
       "    <tr>\n",
       "      <th>6</th>\n",
       "      <td>проспект вернадского</td>\n",
       "      <td>125</td>\n",
       "    </tr>\n",
       "    <tr>\n",
       "      <th>5</th>\n",
       "      <td>ленинский проспект</td>\n",
       "      <td>142</td>\n",
       "    </tr>\n",
       "    <tr>\n",
       "      <th>4</th>\n",
       "      <td>варшавское шоссе</td>\n",
       "      <td>157</td>\n",
       "    </tr>\n",
       "    <tr>\n",
       "      <th>3</th>\n",
       "      <td>пресненская набережная</td>\n",
       "      <td>162</td>\n",
       "    </tr>\n",
       "    <tr>\n",
       "      <th>2</th>\n",
       "      <td>ленинградский проспект</td>\n",
       "      <td>168</td>\n",
       "    </tr>\n",
       "    <tr>\n",
       "      <th>1</th>\n",
       "      <td>профсоюзная улица</td>\n",
       "      <td>181</td>\n",
       "    </tr>\n",
       "    <tr>\n",
       "      <th>0</th>\n",
       "      <td>проспект мира</td>\n",
       "      <td>198</td>\n",
       "    </tr>\n",
       "  </tbody>\n",
       "</table>\n",
       "</div>"
      ],
      "text/plain": [
       "                   street   id\n",
       "9    кировоградская улица  102\n",
       "8         каширское шоссе  107\n",
       "7    кутузовский проспект  111\n",
       "6    проспект вернадского  125\n",
       "5      ленинский проспект  142\n",
       "4        варшавское шоссе  157\n",
       "3  пресненская набережная  162\n",
       "2  ленинградский проспект  168\n",
       "1       профсоюзная улица  181\n",
       "0           проспект мира  198"
      ]
     },
     "execution_count": 37,
     "metadata": {},
     "output_type": "execute_result"
    }
   ],
   "source": [
    "top_10 = df.pivot_table(index='street', \n",
    "                           values='id', \n",
    "                           aggfunc='count')\\\n",
    "              .sort_values(by='id', ascending=False)\\\n",
    "              .reset_index()\n",
    "top_10 = top_10.head(10)\n",
    "top_10 = top_10.sort_values(by='id')\n",
    "top_10"
   ]
  },
  {
   "cell_type": "code",
   "execution_count": 38,
   "metadata": {},
   "outputs": [
    {
     "data": {
      "application/vnd.plotly.v1+json": {
       "config": {
        "plotlyServerURL": "https://plot.ly"
       },
       "data": [
        {
         "alignmentgroup": "True",
         "hovertemplate": "Количество заведений=%{x}<br>Улица=%{y}<extra></extra>",
         "legendgroup": "",
         "marker": {
          "color": "#636efa",
          "pattern": {
           "shape": ""
          }
         },
         "name": "",
         "offsetgroup": "",
         "orientation": "h",
         "showlegend": false,
         "textposition": "auto",
         "type": "bar",
         "x": [
          102,
          107,
          111,
          125,
          142,
          157,
          162,
          168,
          181,
          198
         ],
         "xaxis": "x",
         "y": [
          "кировоградская улица",
          "каширское шоссе",
          "кутузовский проспект",
          "проспект вернадского",
          "ленинский проспект",
          "варшавское шоссе",
          "пресненская набережная",
          "ленинградский проспект",
          "профсоюзная улица",
          "проспект мира"
         ],
         "yaxis": "y"
        }
       ],
       "layout": {
        "barmode": "relative",
        "height": 800,
        "legend": {
         "tracegroupgap": 0
        },
        "margin": {
         "t": 60
        },
        "template": {
         "data": {
          "bar": [
           {
            "error_x": {
             "color": "#2a3f5f"
            },
            "error_y": {
             "color": "#2a3f5f"
            },
            "marker": {
             "line": {
              "color": "#E5ECF6",
              "width": 0.5
             },
             "pattern": {
              "fillmode": "overlay",
              "size": 10,
              "solidity": 0.2
             }
            },
            "type": "bar"
           }
          ],
          "barpolar": [
           {
            "marker": {
             "line": {
              "color": "#E5ECF6",
              "width": 0.5
             },
             "pattern": {
              "fillmode": "overlay",
              "size": 10,
              "solidity": 0.2
             }
            },
            "type": "barpolar"
           }
          ],
          "carpet": [
           {
            "aaxis": {
             "endlinecolor": "#2a3f5f",
             "gridcolor": "white",
             "linecolor": "white",
             "minorgridcolor": "white",
             "startlinecolor": "#2a3f5f"
            },
            "baxis": {
             "endlinecolor": "#2a3f5f",
             "gridcolor": "white",
             "linecolor": "white",
             "minorgridcolor": "white",
             "startlinecolor": "#2a3f5f"
            },
            "type": "carpet"
           }
          ],
          "choropleth": [
           {
            "colorbar": {
             "outlinewidth": 0,
             "ticks": ""
            },
            "type": "choropleth"
           }
          ],
          "contour": [
           {
            "colorbar": {
             "outlinewidth": 0,
             "ticks": ""
            },
            "colorscale": [
             [
              0,
              "#0d0887"
             ],
             [
              0.1111111111111111,
              "#46039f"
             ],
             [
              0.2222222222222222,
              "#7201a8"
             ],
             [
              0.3333333333333333,
              "#9c179e"
             ],
             [
              0.4444444444444444,
              "#bd3786"
             ],
             [
              0.5555555555555556,
              "#d8576b"
             ],
             [
              0.6666666666666666,
              "#ed7953"
             ],
             [
              0.7777777777777778,
              "#fb9f3a"
             ],
             [
              0.8888888888888888,
              "#fdca26"
             ],
             [
              1,
              "#f0f921"
             ]
            ],
            "type": "contour"
           }
          ],
          "contourcarpet": [
           {
            "colorbar": {
             "outlinewidth": 0,
             "ticks": ""
            },
            "type": "contourcarpet"
           }
          ],
          "heatmap": [
           {
            "colorbar": {
             "outlinewidth": 0,
             "ticks": ""
            },
            "colorscale": [
             [
              0,
              "#0d0887"
             ],
             [
              0.1111111111111111,
              "#46039f"
             ],
             [
              0.2222222222222222,
              "#7201a8"
             ],
             [
              0.3333333333333333,
              "#9c179e"
             ],
             [
              0.4444444444444444,
              "#bd3786"
             ],
             [
              0.5555555555555556,
              "#d8576b"
             ],
             [
              0.6666666666666666,
              "#ed7953"
             ],
             [
              0.7777777777777778,
              "#fb9f3a"
             ],
             [
              0.8888888888888888,
              "#fdca26"
             ],
             [
              1,
              "#f0f921"
             ]
            ],
            "type": "heatmap"
           }
          ],
          "heatmapgl": [
           {
            "colorbar": {
             "outlinewidth": 0,
             "ticks": ""
            },
            "colorscale": [
             [
              0,
              "#0d0887"
             ],
             [
              0.1111111111111111,
              "#46039f"
             ],
             [
              0.2222222222222222,
              "#7201a8"
             ],
             [
              0.3333333333333333,
              "#9c179e"
             ],
             [
              0.4444444444444444,
              "#bd3786"
             ],
             [
              0.5555555555555556,
              "#d8576b"
             ],
             [
              0.6666666666666666,
              "#ed7953"
             ],
             [
              0.7777777777777778,
              "#fb9f3a"
             ],
             [
              0.8888888888888888,
              "#fdca26"
             ],
             [
              1,
              "#f0f921"
             ]
            ],
            "type": "heatmapgl"
           }
          ],
          "histogram": [
           {
            "marker": {
             "pattern": {
              "fillmode": "overlay",
              "size": 10,
              "solidity": 0.2
             }
            },
            "type": "histogram"
           }
          ],
          "histogram2d": [
           {
            "colorbar": {
             "outlinewidth": 0,
             "ticks": ""
            },
            "colorscale": [
             [
              0,
              "#0d0887"
             ],
             [
              0.1111111111111111,
              "#46039f"
             ],
             [
              0.2222222222222222,
              "#7201a8"
             ],
             [
              0.3333333333333333,
              "#9c179e"
             ],
             [
              0.4444444444444444,
              "#bd3786"
             ],
             [
              0.5555555555555556,
              "#d8576b"
             ],
             [
              0.6666666666666666,
              "#ed7953"
             ],
             [
              0.7777777777777778,
              "#fb9f3a"
             ],
             [
              0.8888888888888888,
              "#fdca26"
             ],
             [
              1,
              "#f0f921"
             ]
            ],
            "type": "histogram2d"
           }
          ],
          "histogram2dcontour": [
           {
            "colorbar": {
             "outlinewidth": 0,
             "ticks": ""
            },
            "colorscale": [
             [
              0,
              "#0d0887"
             ],
             [
              0.1111111111111111,
              "#46039f"
             ],
             [
              0.2222222222222222,
              "#7201a8"
             ],
             [
              0.3333333333333333,
              "#9c179e"
             ],
             [
              0.4444444444444444,
              "#bd3786"
             ],
             [
              0.5555555555555556,
              "#d8576b"
             ],
             [
              0.6666666666666666,
              "#ed7953"
             ],
             [
              0.7777777777777778,
              "#fb9f3a"
             ],
             [
              0.8888888888888888,
              "#fdca26"
             ],
             [
              1,
              "#f0f921"
             ]
            ],
            "type": "histogram2dcontour"
           }
          ],
          "mesh3d": [
           {
            "colorbar": {
             "outlinewidth": 0,
             "ticks": ""
            },
            "type": "mesh3d"
           }
          ],
          "parcoords": [
           {
            "line": {
             "colorbar": {
              "outlinewidth": 0,
              "ticks": ""
             }
            },
            "type": "parcoords"
           }
          ],
          "pie": [
           {
            "automargin": true,
            "type": "pie"
           }
          ],
          "scatter": [
           {
            "marker": {
             "colorbar": {
              "outlinewidth": 0,
              "ticks": ""
             }
            },
            "type": "scatter"
           }
          ],
          "scatter3d": [
           {
            "line": {
             "colorbar": {
              "outlinewidth": 0,
              "ticks": ""
             }
            },
            "marker": {
             "colorbar": {
              "outlinewidth": 0,
              "ticks": ""
             }
            },
            "type": "scatter3d"
           }
          ],
          "scattercarpet": [
           {
            "marker": {
             "colorbar": {
              "outlinewidth": 0,
              "ticks": ""
             }
            },
            "type": "scattercarpet"
           }
          ],
          "scattergeo": [
           {
            "marker": {
             "colorbar": {
              "outlinewidth": 0,
              "ticks": ""
             }
            },
            "type": "scattergeo"
           }
          ],
          "scattergl": [
           {
            "marker": {
             "colorbar": {
              "outlinewidth": 0,
              "ticks": ""
             }
            },
            "type": "scattergl"
           }
          ],
          "scattermapbox": [
           {
            "marker": {
             "colorbar": {
              "outlinewidth": 0,
              "ticks": ""
             }
            },
            "type": "scattermapbox"
           }
          ],
          "scatterpolar": [
           {
            "marker": {
             "colorbar": {
              "outlinewidth": 0,
              "ticks": ""
             }
            },
            "type": "scatterpolar"
           }
          ],
          "scatterpolargl": [
           {
            "marker": {
             "colorbar": {
              "outlinewidth": 0,
              "ticks": ""
             }
            },
            "type": "scatterpolargl"
           }
          ],
          "scatterternary": [
           {
            "marker": {
             "colorbar": {
              "outlinewidth": 0,
              "ticks": ""
             }
            },
            "type": "scatterternary"
           }
          ],
          "surface": [
           {
            "colorbar": {
             "outlinewidth": 0,
             "ticks": ""
            },
            "colorscale": [
             [
              0,
              "#0d0887"
             ],
             [
              0.1111111111111111,
              "#46039f"
             ],
             [
              0.2222222222222222,
              "#7201a8"
             ],
             [
              0.3333333333333333,
              "#9c179e"
             ],
             [
              0.4444444444444444,
              "#bd3786"
             ],
             [
              0.5555555555555556,
              "#d8576b"
             ],
             [
              0.6666666666666666,
              "#ed7953"
             ],
             [
              0.7777777777777778,
              "#fb9f3a"
             ],
             [
              0.8888888888888888,
              "#fdca26"
             ],
             [
              1,
              "#f0f921"
             ]
            ],
            "type": "surface"
           }
          ],
          "table": [
           {
            "cells": {
             "fill": {
              "color": "#EBF0F8"
             },
             "line": {
              "color": "white"
             }
            },
            "header": {
             "fill": {
              "color": "#C8D4E3"
             },
             "line": {
              "color": "white"
             }
            },
            "type": "table"
           }
          ]
         },
         "layout": {
          "annotationdefaults": {
           "arrowcolor": "#2a3f5f",
           "arrowhead": 0,
           "arrowwidth": 1
          },
          "autotypenumbers": "strict",
          "coloraxis": {
           "colorbar": {
            "outlinewidth": 0,
            "ticks": ""
           }
          },
          "colorscale": {
           "diverging": [
            [
             0,
             "#8e0152"
            ],
            [
             0.1,
             "#c51b7d"
            ],
            [
             0.2,
             "#de77ae"
            ],
            [
             0.3,
             "#f1b6da"
            ],
            [
             0.4,
             "#fde0ef"
            ],
            [
             0.5,
             "#f7f7f7"
            ],
            [
             0.6,
             "#e6f5d0"
            ],
            [
             0.7,
             "#b8e186"
            ],
            [
             0.8,
             "#7fbc41"
            ],
            [
             0.9,
             "#4d9221"
            ],
            [
             1,
             "#276419"
            ]
           ],
           "sequential": [
            [
             0,
             "#0d0887"
            ],
            [
             0.1111111111111111,
             "#46039f"
            ],
            [
             0.2222222222222222,
             "#7201a8"
            ],
            [
             0.3333333333333333,
             "#9c179e"
            ],
            [
             0.4444444444444444,
             "#bd3786"
            ],
            [
             0.5555555555555556,
             "#d8576b"
            ],
            [
             0.6666666666666666,
             "#ed7953"
            ],
            [
             0.7777777777777778,
             "#fb9f3a"
            ],
            [
             0.8888888888888888,
             "#fdca26"
            ],
            [
             1,
             "#f0f921"
            ]
           ],
           "sequentialminus": [
            [
             0,
             "#0d0887"
            ],
            [
             0.1111111111111111,
             "#46039f"
            ],
            [
             0.2222222222222222,
             "#7201a8"
            ],
            [
             0.3333333333333333,
             "#9c179e"
            ],
            [
             0.4444444444444444,
             "#bd3786"
            ],
            [
             0.5555555555555556,
             "#d8576b"
            ],
            [
             0.6666666666666666,
             "#ed7953"
            ],
            [
             0.7777777777777778,
             "#fb9f3a"
            ],
            [
             0.8888888888888888,
             "#fdca26"
            ],
            [
             1,
             "#f0f921"
            ]
           ]
          },
          "colorway": [
           "#636efa",
           "#EF553B",
           "#00cc96",
           "#ab63fa",
           "#FFA15A",
           "#19d3f3",
           "#FF6692",
           "#B6E880",
           "#FF97FF",
           "#FECB52"
          ],
          "font": {
           "color": "#2a3f5f"
          },
          "geo": {
           "bgcolor": "white",
           "lakecolor": "white",
           "landcolor": "#E5ECF6",
           "showlakes": true,
           "showland": true,
           "subunitcolor": "white"
          },
          "hoverlabel": {
           "align": "left"
          },
          "hovermode": "closest",
          "mapbox": {
           "style": "light"
          },
          "paper_bgcolor": "white",
          "plot_bgcolor": "#E5ECF6",
          "polar": {
           "angularaxis": {
            "gridcolor": "white",
            "linecolor": "white",
            "ticks": ""
           },
           "bgcolor": "#E5ECF6",
           "radialaxis": {
            "gridcolor": "white",
            "linecolor": "white",
            "ticks": ""
           }
          },
          "scene": {
           "xaxis": {
            "backgroundcolor": "#E5ECF6",
            "gridcolor": "white",
            "gridwidth": 2,
            "linecolor": "white",
            "showbackground": true,
            "ticks": "",
            "zerolinecolor": "white"
           },
           "yaxis": {
            "backgroundcolor": "#E5ECF6",
            "gridcolor": "white",
            "gridwidth": 2,
            "linecolor": "white",
            "showbackground": true,
            "ticks": "",
            "zerolinecolor": "white"
           },
           "zaxis": {
            "backgroundcolor": "#E5ECF6",
            "gridcolor": "white",
            "gridwidth": 2,
            "linecolor": "white",
            "showbackground": true,
            "ticks": "",
            "zerolinecolor": "white"
           }
          },
          "shapedefaults": {
           "line": {
            "color": "#2a3f5f"
           }
          },
          "ternary": {
           "aaxis": {
            "gridcolor": "white",
            "linecolor": "white",
            "ticks": ""
           },
           "baxis": {
            "gridcolor": "white",
            "linecolor": "white",
            "ticks": ""
           },
           "bgcolor": "#E5ECF6",
           "caxis": {
            "gridcolor": "white",
            "linecolor": "white",
            "ticks": ""
           }
          },
          "title": {
           "x": 0.05
          },
          "xaxis": {
           "automargin": true,
           "gridcolor": "white",
           "linecolor": "white",
           "ticks": "",
           "title": {
            "standoff": 15
           },
           "zerolinecolor": "white",
           "zerolinewidth": 2
          },
          "yaxis": {
           "automargin": true,
           "gridcolor": "white",
           "linecolor": "white",
           "ticks": "",
           "title": {
            "standoff": 15
           },
           "zerolinecolor": "white",
           "zerolinewidth": 2
          }
         }
        },
        "title": {
         "text": "ТОП-10 улиц по количеству заведений",
         "x": 0.5
        },
        "width": 800,
        "xaxis": {
         "anchor": "y",
         "domain": [
          0,
          1
         ],
         "title": {
          "text": "Количество заведений"
         }
        },
        "yaxis": {
         "anchor": "x",
         "domain": [
          0,
          1
         ],
         "title": {
          "text": "Улица"
         }
        }
       }
      },
      "text/html": [
       "<div>                            <div id=\"68da7a1c-fa9c-47e0-bfe5-d58abf1ef42c\" class=\"plotly-graph-div\" style=\"height:800px; width:800px;\"></div>            <script type=\"text/javascript\">                require([\"plotly\"], function(Plotly) {                    window.PLOTLYENV=window.PLOTLYENV || {};                                    if (document.getElementById(\"68da7a1c-fa9c-47e0-bfe5-d58abf1ef42c\")) {                    Plotly.newPlot(                        \"68da7a1c-fa9c-47e0-bfe5-d58abf1ef42c\",                        [{\"alignmentgroup\":\"True\",\"hovertemplate\":\"\\u041a\\u043e\\u043b\\u0438\\u0447\\u0435\\u0441\\u0442\\u0432\\u043e \\u0437\\u0430\\u0432\\u0435\\u0434\\u0435\\u043d\\u0438\\u0439=%{x}<br>\\u0423\\u043b\\u0438\\u0446\\u0430=%{y}<extra></extra>\",\"legendgroup\":\"\",\"marker\":{\"color\":\"#636efa\",\"pattern\":{\"shape\":\"\"}},\"name\":\"\",\"offsetgroup\":\"\",\"orientation\":\"h\",\"showlegend\":false,\"textposition\":\"auto\",\"x\":[102,107,111,125,142,157,162,168,181,198],\"xaxis\":\"x\",\"y\":[\"\\u043a\\u0438\\u0440\\u043e\\u0432\\u043e\\u0433\\u0440\\u0430\\u0434\\u0441\\u043a\\u0430\\u044f \\u0443\\u043b\\u0438\\u0446\\u0430\",\"\\u043a\\u0430\\u0448\\u0438\\u0440\\u0441\\u043a\\u043e\\u0435 \\u0448\\u043e\\u0441\\u0441\\u0435\",\"\\u043a\\u0443\\u0442\\u0443\\u0437\\u043e\\u0432\\u0441\\u043a\\u0438\\u0439 \\u043f\\u0440\\u043e\\u0441\\u043f\\u0435\\u043a\\u0442\",\"\\u043f\\u0440\\u043e\\u0441\\u043f\\u0435\\u043a\\u0442 \\u0432\\u0435\\u0440\\u043d\\u0430\\u0434\\u0441\\u043a\\u043e\\u0433\\u043e\",\"\\u043b\\u0435\\u043d\\u0438\\u043d\\u0441\\u043a\\u0438\\u0439 \\u043f\\u0440\\u043e\\u0441\\u043f\\u0435\\u043a\\u0442\",\"\\u0432\\u0430\\u0440\\u0448\\u0430\\u0432\\u0441\\u043a\\u043e\\u0435 \\u0448\\u043e\\u0441\\u0441\\u0435\",\"\\u043f\\u0440\\u0435\\u0441\\u043d\\u0435\\u043d\\u0441\\u043a\\u0430\\u044f \\u043d\\u0430\\u0431\\u0435\\u0440\\u0435\\u0436\\u043d\\u0430\\u044f\",\"\\u043b\\u0435\\u043d\\u0438\\u043d\\u0433\\u0440\\u0430\\u0434\\u0441\\u043a\\u0438\\u0439 \\u043f\\u0440\\u043e\\u0441\\u043f\\u0435\\u043a\\u0442\",\"\\u043f\\u0440\\u043e\\u0444\\u0441\\u043e\\u044e\\u0437\\u043d\\u0430\\u044f \\u0443\\u043b\\u0438\\u0446\\u0430\",\"\\u043f\\u0440\\u043e\\u0441\\u043f\\u0435\\u043a\\u0442 \\u043c\\u0438\\u0440\\u0430\"],\"yaxis\":\"y\",\"type\":\"bar\"}],                        {\"template\":{\"data\":{\"bar\":[{\"error_x\":{\"color\":\"#2a3f5f\"},\"error_y\":{\"color\":\"#2a3f5f\"},\"marker\":{\"line\":{\"color\":\"#E5ECF6\",\"width\":0.5},\"pattern\":{\"fillmode\":\"overlay\",\"size\":10,\"solidity\":0.2}},\"type\":\"bar\"}],\"barpolar\":[{\"marker\":{\"line\":{\"color\":\"#E5ECF6\",\"width\":0.5},\"pattern\":{\"fillmode\":\"overlay\",\"size\":10,\"solidity\":0.2}},\"type\":\"barpolar\"}],\"carpet\":[{\"aaxis\":{\"endlinecolor\":\"#2a3f5f\",\"gridcolor\":\"white\",\"linecolor\":\"white\",\"minorgridcolor\":\"white\",\"startlinecolor\":\"#2a3f5f\"},\"baxis\":{\"endlinecolor\":\"#2a3f5f\",\"gridcolor\":\"white\",\"linecolor\":\"white\",\"minorgridcolor\":\"white\",\"startlinecolor\":\"#2a3f5f\"},\"type\":\"carpet\"}],\"choropleth\":[{\"colorbar\":{\"outlinewidth\":0,\"ticks\":\"\"},\"type\":\"choropleth\"}],\"contour\":[{\"colorbar\":{\"outlinewidth\":0,\"ticks\":\"\"},\"colorscale\":[[0.0,\"#0d0887\"],[0.1111111111111111,\"#46039f\"],[0.2222222222222222,\"#7201a8\"],[0.3333333333333333,\"#9c179e\"],[0.4444444444444444,\"#bd3786\"],[0.5555555555555556,\"#d8576b\"],[0.6666666666666666,\"#ed7953\"],[0.7777777777777778,\"#fb9f3a\"],[0.8888888888888888,\"#fdca26\"],[1.0,\"#f0f921\"]],\"type\":\"contour\"}],\"contourcarpet\":[{\"colorbar\":{\"outlinewidth\":0,\"ticks\":\"\"},\"type\":\"contourcarpet\"}],\"heatmap\":[{\"colorbar\":{\"outlinewidth\":0,\"ticks\":\"\"},\"colorscale\":[[0.0,\"#0d0887\"],[0.1111111111111111,\"#46039f\"],[0.2222222222222222,\"#7201a8\"],[0.3333333333333333,\"#9c179e\"],[0.4444444444444444,\"#bd3786\"],[0.5555555555555556,\"#d8576b\"],[0.6666666666666666,\"#ed7953\"],[0.7777777777777778,\"#fb9f3a\"],[0.8888888888888888,\"#fdca26\"],[1.0,\"#f0f921\"]],\"type\":\"heatmap\"}],\"heatmapgl\":[{\"colorbar\":{\"outlinewidth\":0,\"ticks\":\"\"},\"colorscale\":[[0.0,\"#0d0887\"],[0.1111111111111111,\"#46039f\"],[0.2222222222222222,\"#7201a8\"],[0.3333333333333333,\"#9c179e\"],[0.4444444444444444,\"#bd3786\"],[0.5555555555555556,\"#d8576b\"],[0.6666666666666666,\"#ed7953\"],[0.7777777777777778,\"#fb9f3a\"],[0.8888888888888888,\"#fdca26\"],[1.0,\"#f0f921\"]],\"type\":\"heatmapgl\"}],\"histogram\":[{\"marker\":{\"pattern\":{\"fillmode\":\"overlay\",\"size\":10,\"solidity\":0.2}},\"type\":\"histogram\"}],\"histogram2d\":[{\"colorbar\":{\"outlinewidth\":0,\"ticks\":\"\"},\"colorscale\":[[0.0,\"#0d0887\"],[0.1111111111111111,\"#46039f\"],[0.2222222222222222,\"#7201a8\"],[0.3333333333333333,\"#9c179e\"],[0.4444444444444444,\"#bd3786\"],[0.5555555555555556,\"#d8576b\"],[0.6666666666666666,\"#ed7953\"],[0.7777777777777778,\"#fb9f3a\"],[0.8888888888888888,\"#fdca26\"],[1.0,\"#f0f921\"]],\"type\":\"histogram2d\"}],\"histogram2dcontour\":[{\"colorbar\":{\"outlinewidth\":0,\"ticks\":\"\"},\"colorscale\":[[0.0,\"#0d0887\"],[0.1111111111111111,\"#46039f\"],[0.2222222222222222,\"#7201a8\"],[0.3333333333333333,\"#9c179e\"],[0.4444444444444444,\"#bd3786\"],[0.5555555555555556,\"#d8576b\"],[0.6666666666666666,\"#ed7953\"],[0.7777777777777778,\"#fb9f3a\"],[0.8888888888888888,\"#fdca26\"],[1.0,\"#f0f921\"]],\"type\":\"histogram2dcontour\"}],\"mesh3d\":[{\"colorbar\":{\"outlinewidth\":0,\"ticks\":\"\"},\"type\":\"mesh3d\"}],\"parcoords\":[{\"line\":{\"colorbar\":{\"outlinewidth\":0,\"ticks\":\"\"}},\"type\":\"parcoords\"}],\"pie\":[{\"automargin\":true,\"type\":\"pie\"}],\"scatter\":[{\"marker\":{\"colorbar\":{\"outlinewidth\":0,\"ticks\":\"\"}},\"type\":\"scatter\"}],\"scatter3d\":[{\"line\":{\"colorbar\":{\"outlinewidth\":0,\"ticks\":\"\"}},\"marker\":{\"colorbar\":{\"outlinewidth\":0,\"ticks\":\"\"}},\"type\":\"scatter3d\"}],\"scattercarpet\":[{\"marker\":{\"colorbar\":{\"outlinewidth\":0,\"ticks\":\"\"}},\"type\":\"scattercarpet\"}],\"scattergeo\":[{\"marker\":{\"colorbar\":{\"outlinewidth\":0,\"ticks\":\"\"}},\"type\":\"scattergeo\"}],\"scattergl\":[{\"marker\":{\"colorbar\":{\"outlinewidth\":0,\"ticks\":\"\"}},\"type\":\"scattergl\"}],\"scattermapbox\":[{\"marker\":{\"colorbar\":{\"outlinewidth\":0,\"ticks\":\"\"}},\"type\":\"scattermapbox\"}],\"scatterpolar\":[{\"marker\":{\"colorbar\":{\"outlinewidth\":0,\"ticks\":\"\"}},\"type\":\"scatterpolar\"}],\"scatterpolargl\":[{\"marker\":{\"colorbar\":{\"outlinewidth\":0,\"ticks\":\"\"}},\"type\":\"scatterpolargl\"}],\"scatterternary\":[{\"marker\":{\"colorbar\":{\"outlinewidth\":0,\"ticks\":\"\"}},\"type\":\"scatterternary\"}],\"surface\":[{\"colorbar\":{\"outlinewidth\":0,\"ticks\":\"\"},\"colorscale\":[[0.0,\"#0d0887\"],[0.1111111111111111,\"#46039f\"],[0.2222222222222222,\"#7201a8\"],[0.3333333333333333,\"#9c179e\"],[0.4444444444444444,\"#bd3786\"],[0.5555555555555556,\"#d8576b\"],[0.6666666666666666,\"#ed7953\"],[0.7777777777777778,\"#fb9f3a\"],[0.8888888888888888,\"#fdca26\"],[1.0,\"#f0f921\"]],\"type\":\"surface\"}],\"table\":[{\"cells\":{\"fill\":{\"color\":\"#EBF0F8\"},\"line\":{\"color\":\"white\"}},\"header\":{\"fill\":{\"color\":\"#C8D4E3\"},\"line\":{\"color\":\"white\"}},\"type\":\"table\"}]},\"layout\":{\"annotationdefaults\":{\"arrowcolor\":\"#2a3f5f\",\"arrowhead\":0,\"arrowwidth\":1},\"autotypenumbers\":\"strict\",\"coloraxis\":{\"colorbar\":{\"outlinewidth\":0,\"ticks\":\"\"}},\"colorscale\":{\"diverging\":[[0,\"#8e0152\"],[0.1,\"#c51b7d\"],[0.2,\"#de77ae\"],[0.3,\"#f1b6da\"],[0.4,\"#fde0ef\"],[0.5,\"#f7f7f7\"],[0.6,\"#e6f5d0\"],[0.7,\"#b8e186\"],[0.8,\"#7fbc41\"],[0.9,\"#4d9221\"],[1,\"#276419\"]],\"sequential\":[[0.0,\"#0d0887\"],[0.1111111111111111,\"#46039f\"],[0.2222222222222222,\"#7201a8\"],[0.3333333333333333,\"#9c179e\"],[0.4444444444444444,\"#bd3786\"],[0.5555555555555556,\"#d8576b\"],[0.6666666666666666,\"#ed7953\"],[0.7777777777777778,\"#fb9f3a\"],[0.8888888888888888,\"#fdca26\"],[1.0,\"#f0f921\"]],\"sequentialminus\":[[0.0,\"#0d0887\"],[0.1111111111111111,\"#46039f\"],[0.2222222222222222,\"#7201a8\"],[0.3333333333333333,\"#9c179e\"],[0.4444444444444444,\"#bd3786\"],[0.5555555555555556,\"#d8576b\"],[0.6666666666666666,\"#ed7953\"],[0.7777777777777778,\"#fb9f3a\"],[0.8888888888888888,\"#fdca26\"],[1.0,\"#f0f921\"]]},\"colorway\":[\"#636efa\",\"#EF553B\",\"#00cc96\",\"#ab63fa\",\"#FFA15A\",\"#19d3f3\",\"#FF6692\",\"#B6E880\",\"#FF97FF\",\"#FECB52\"],\"font\":{\"color\":\"#2a3f5f\"},\"geo\":{\"bgcolor\":\"white\",\"lakecolor\":\"white\",\"landcolor\":\"#E5ECF6\",\"showlakes\":true,\"showland\":true,\"subunitcolor\":\"white\"},\"hoverlabel\":{\"align\":\"left\"},\"hovermode\":\"closest\",\"mapbox\":{\"style\":\"light\"},\"paper_bgcolor\":\"white\",\"plot_bgcolor\":\"#E5ECF6\",\"polar\":{\"angularaxis\":{\"gridcolor\":\"white\",\"linecolor\":\"white\",\"ticks\":\"\"},\"bgcolor\":\"#E5ECF6\",\"radialaxis\":{\"gridcolor\":\"white\",\"linecolor\":\"white\",\"ticks\":\"\"}},\"scene\":{\"xaxis\":{\"backgroundcolor\":\"#E5ECF6\",\"gridcolor\":\"white\",\"gridwidth\":2,\"linecolor\":\"white\",\"showbackground\":true,\"ticks\":\"\",\"zerolinecolor\":\"white\"},\"yaxis\":{\"backgroundcolor\":\"#E5ECF6\",\"gridcolor\":\"white\",\"gridwidth\":2,\"linecolor\":\"white\",\"showbackground\":true,\"ticks\":\"\",\"zerolinecolor\":\"white\"},\"zaxis\":{\"backgroundcolor\":\"#E5ECF6\",\"gridcolor\":\"white\",\"gridwidth\":2,\"linecolor\":\"white\",\"showbackground\":true,\"ticks\":\"\",\"zerolinecolor\":\"white\"}},\"shapedefaults\":{\"line\":{\"color\":\"#2a3f5f\"}},\"ternary\":{\"aaxis\":{\"gridcolor\":\"white\",\"linecolor\":\"white\",\"ticks\":\"\"},\"baxis\":{\"gridcolor\":\"white\",\"linecolor\":\"white\",\"ticks\":\"\"},\"bgcolor\":\"#E5ECF6\",\"caxis\":{\"gridcolor\":\"white\",\"linecolor\":\"white\",\"ticks\":\"\"}},\"title\":{\"x\":0.05},\"xaxis\":{\"automargin\":true,\"gridcolor\":\"white\",\"linecolor\":\"white\",\"ticks\":\"\",\"title\":{\"standoff\":15},\"zerolinecolor\":\"white\",\"zerolinewidth\":2},\"yaxis\":{\"automargin\":true,\"gridcolor\":\"white\",\"linecolor\":\"white\",\"ticks\":\"\",\"title\":{\"standoff\":15},\"zerolinecolor\":\"white\",\"zerolinewidth\":2}}},\"xaxis\":{\"anchor\":\"y\",\"domain\":[0.0,1.0],\"title\":{\"text\":\"\\u041a\\u043e\\u043b\\u0438\\u0447\\u0435\\u0441\\u0442\\u0432\\u043e \\u0437\\u0430\\u0432\\u0435\\u0434\\u0435\\u043d\\u0438\\u0439\"}},\"yaxis\":{\"anchor\":\"x\",\"domain\":[0.0,1.0],\"title\":{\"text\":\"\\u0423\\u043b\\u0438\\u0446\\u0430\"}},\"legend\":{\"tracegroupgap\":0},\"margin\":{\"t\":60},\"barmode\":\"relative\",\"height\":800,\"width\":800,\"title\":{\"text\":\"\\u0422\\u041e\\u041f-10 \\u0443\\u043b\\u0438\\u0446 \\u043f\\u043e \\u043a\\u043e\\u043b\\u0438\\u0447\\u0435\\u0441\\u0442\\u0432\\u0443 \\u0437\\u0430\\u0432\\u0435\\u0434\\u0435\\u043d\\u0438\\u0439\",\"x\":0.5}},                        {\"responsive\": true}                    ).then(function(){\n",
       "                            \n",
       "var gd = document.getElementById('68da7a1c-fa9c-47e0-bfe5-d58abf1ef42c');\n",
       "var x = new MutationObserver(function (mutations, observer) {{\n",
       "        var display = window.getComputedStyle(gd).display;\n",
       "        if (!display || display === 'none') {{\n",
       "            console.log([gd, 'removed!']);\n",
       "            Plotly.purge(gd);\n",
       "            observer.disconnect();\n",
       "        }}\n",
       "}});\n",
       "\n",
       "// Listen for the removal of the full notebook cells\n",
       "var notebookContainer = gd.closest('#notebook-container');\n",
       "if (notebookContainer) {{\n",
       "    x.observe(notebookContainer, {childList: true});\n",
       "}}\n",
       "\n",
       "// Listen for the clearing of the current output cell\n",
       "var outputEl = gd.closest('.output');\n",
       "if (outputEl) {{\n",
       "    x.observe(outputEl, {childList: true});\n",
       "}}\n",
       "\n",
       "                        })                };                });            </script>        </div>"
      ]
     },
     "metadata": {},
     "output_type": "display_data"
    }
   ],
   "source": [
    "fig = px.bar(\n",
    "    top_10, x='id', y='street', \n",
    "    labels=dict({'street': 'Улица', 'id':'Количество заведений'}),\n",
    "    width=800, height=800\n",
    ")\n",
    "fig.update_layout(title_text='ТОП-10 улиц по количеству заведений', title_x=0.5)\n",
    "fig.show() "
   ]
  },
  {
   "cell_type": "markdown",
   "metadata": {},
   "source": [
    "Итак, мы определили, что больше всего заведений общественного питания расположено на Проспекте мира, также в ТОП-10 вошли Профсоюзная улица, Ленинградский проспект и Пресненская набережная. Замыкает чарт Кировоградская улица, на которой без малого 104 заведения."
   ]
  },
  {
   "cell_type": "markdown",
   "metadata": {},
   "source": [
    "### Определение популярных районов"
   ]
  },
  {
   "cell_type": "markdown",
   "metadata": {},
   "source": [
    "Для определения популярных и потенциально перспективных районов, воспользуемся ссылкой на сторонний ресурс, где каждой улице Москвы присвоен район, в котором она находится. Ниже ссылка для скачивания на локальную машину. В нашем же проекте данные будут подтягиваться из открытого доступа из таблиц Google sheets.  \n",
    "[Ссылка](https://www.kaggle.com/datasets/caerno/moscow-streets?resource=download) на ресурс"
   ]
  },
  {
   "cell_type": "code",
   "execution_count": 39,
   "metadata": {},
   "outputs": [
    {
     "data": {
      "text/plain": [
       "0"
      ]
     },
     "execution_count": 39,
     "metadata": {},
     "output_type": "execute_result"
    }
   ],
   "source": [
    "from io import BytesIO\n",
    "import requests\n",
    "spreadsheet_id = '1MlUuonuo_IcUIHWk-tWnZCHkp97mM-q8xA1qFiZZHew'\n",
    "file_name = 'https://docs.google.com/spreadsheets/d/{}/export?format=csv'.format(spreadsheet_id)\n",
    "r = requests.get(file_name)\n",
    "region = pd.read_csv(BytesIO(r.content))\n",
    "#приведем к нижнему регистру все строки с названием улиц, чтобы соответствовали нашему основному датафрейму\n",
    "region['streetname'] = region['streetname'].str.lower()\n",
    "#и поменяем название столбца streetname\n",
    "region.rename(columns = {'streetname':'street'}, inplace = True)\n",
    "#проверка на дубликаты и их удаление\n",
    "region.duplicated().sum()\n",
    "region = region.drop_duplicates()\n",
    "region.duplicated().sum()"
   ]
  },
  {
   "cell_type": "markdown",
   "metadata": {},
   "source": [
    "Теперь соединим две таблицы по названиям улиц и определим в каких районах расположены ТОП-10 улиц по количеству заведений, которые мы посчитали ранее:"
   ]
  },
  {
   "cell_type": "code",
   "execution_count": 40,
   "metadata": {},
   "outputs": [
    {
     "data": {
      "text/html": [
       "<div>\n",
       "<style scoped>\n",
       "    .dataframe tbody tr th:only-of-type {\n",
       "        vertical-align: middle;\n",
       "    }\n",
       "\n",
       "    .dataframe tbody tr th {\n",
       "        vertical-align: top;\n",
       "    }\n",
       "\n",
       "    .dataframe thead th {\n",
       "        text-align: right;\n",
       "    }\n",
       "</style>\n",
       "<table border=\"1\" class=\"dataframe\">\n",
       "  <thead>\n",
       "    <tr style=\"text-align: right;\">\n",
       "      <th></th>\n",
       "      <th>street</th>\n",
       "      <th>id</th>\n",
       "      <th>areaid</th>\n",
       "      <th>okrug</th>\n",
       "      <th>area</th>\n",
       "    </tr>\n",
       "  </thead>\n",
       "  <tbody>\n",
       "    <tr>\n",
       "      <th>0</th>\n",
       "      <td>кировоградская улица</td>\n",
       "      <td>102</td>\n",
       "      <td>109</td>\n",
       "      <td>ЮАО</td>\n",
       "      <td>Район Чертаново Центральное</td>\n",
       "    </tr>\n",
       "    <tr>\n",
       "      <th>1</th>\n",
       "      <td>кировоградская улица</td>\n",
       "      <td>102</td>\n",
       "      <td>108</td>\n",
       "      <td>ЮАО</td>\n",
       "      <td>Район Чертаново Северное</td>\n",
       "    </tr>\n",
       "    <tr>\n",
       "      <th>2</th>\n",
       "      <td>кировоградская улица</td>\n",
       "      <td>102</td>\n",
       "      <td>110</td>\n",
       "      <td>ЮАО</td>\n",
       "      <td>Район Чертаново Южное</td>\n",
       "    </tr>\n",
       "    <tr>\n",
       "      <th>3</th>\n",
       "      <td>каширское шоссе</td>\n",
       "      <td>107</td>\n",
       "      <td>101</td>\n",
       "      <td>ЮАО</td>\n",
       "      <td>Район Москворечье-Сабурово</td>\n",
       "    </tr>\n",
       "    <tr>\n",
       "      <th>4</th>\n",
       "      <td>каширское шоссе</td>\n",
       "      <td>107</td>\n",
       "      <td>102</td>\n",
       "      <td>ЮАО</td>\n",
       "      <td>Район Нагатино-Садовники</td>\n",
       "    </tr>\n",
       "    <tr>\n",
       "      <th>5</th>\n",
       "      <td>каширское шоссе</td>\n",
       "      <td>107</td>\n",
       "      <td>106</td>\n",
       "      <td>ЮАО</td>\n",
       "      <td>Район Орехово-Борисово Южное</td>\n",
       "    </tr>\n",
       "    <tr>\n",
       "      <th>6</th>\n",
       "      <td>каширское шоссе</td>\n",
       "      <td>107</td>\n",
       "      <td>105</td>\n",
       "      <td>ЮАО</td>\n",
       "      <td>Район Орехово-Борисово Северное</td>\n",
       "    </tr>\n",
       "    <tr>\n",
       "      <th>7</th>\n",
       "      <td>кутузовский проспект</td>\n",
       "      <td>111</td>\n",
       "      <td>38</td>\n",
       "      <td>ЗАО</td>\n",
       "      <td>Район Дорогомилово</td>\n",
       "    </tr>\n",
       "    <tr>\n",
       "      <th>8</th>\n",
       "      <td>кутузовский проспект</td>\n",
       "      <td>111</td>\n",
       "      <td>49</td>\n",
       "      <td>ЗАО</td>\n",
       "      <td>Район Фили-Давыдково</td>\n",
       "    </tr>\n",
       "    <tr>\n",
       "      <th>9</th>\n",
       "      <td>проспект вернадского</td>\n",
       "      <td>125</td>\n",
       "      <td>44</td>\n",
       "      <td>ЗАО</td>\n",
       "      <td>Район Проспект Вернадского</td>\n",
       "    </tr>\n",
       "    <tr>\n",
       "      <th>10</th>\n",
       "      <td>проспект вернадского</td>\n",
       "      <td>125</td>\n",
       "      <td>45</td>\n",
       "      <td>ЗАО</td>\n",
       "      <td>Район Раменки</td>\n",
       "    </tr>\n",
       "    <tr>\n",
       "      <th>11</th>\n",
       "      <td>проспект вернадского</td>\n",
       "      <td>125</td>\n",
       "      <td>47</td>\n",
       "      <td>ЗАО</td>\n",
       "      <td>Район Тропарево-Никулино</td>\n",
       "    </tr>\n",
       "    <tr>\n",
       "      <th>12</th>\n",
       "      <td>проспект вернадского</td>\n",
       "      <td>125</td>\n",
       "      <td>124</td>\n",
       "      <td>ЮЗАО</td>\n",
       "      <td>Район Гагаринский</td>\n",
       "    </tr>\n",
       "    <tr>\n",
       "      <th>13</th>\n",
       "      <td>проспект вернадского</td>\n",
       "      <td>125</td>\n",
       "      <td>128</td>\n",
       "      <td>ЮЗАО</td>\n",
       "      <td>Ломоносовский район</td>\n",
       "    </tr>\n",
       "    <tr>\n",
       "      <th>14</th>\n",
       "      <td>ленинский проспект</td>\n",
       "      <td>142</td>\n",
       "      <td>44</td>\n",
       "      <td>ЗАО</td>\n",
       "      <td>Район Проспект Вернадского</td>\n",
       "    </tr>\n",
       "    <tr>\n",
       "      <th>15</th>\n",
       "      <td>ленинский проспект</td>\n",
       "      <td>142</td>\n",
       "      <td>47</td>\n",
       "      <td>ЗАО</td>\n",
       "      <td>Район Тропарево-Никулино</td>\n",
       "    </tr>\n",
       "    <tr>\n",
       "      <th>16</th>\n",
       "      <td>ленинский проспект</td>\n",
       "      <td>142</td>\n",
       "      <td>99</td>\n",
       "      <td>ЮАО</td>\n",
       "      <td>Донской район</td>\n",
       "    </tr>\n",
       "    <tr>\n",
       "      <th>17</th>\n",
       "      <td>ленинский проспект</td>\n",
       "      <td>142</td>\n",
       "      <td>124</td>\n",
       "      <td>ЮЗАО</td>\n",
       "      <td>Район Гагаринский</td>\n",
       "    </tr>\n",
       "    <tr>\n",
       "      <th>18</th>\n",
       "      <td>ленинский проспект</td>\n",
       "      <td>142</td>\n",
       "      <td>128</td>\n",
       "      <td>ЮЗАО</td>\n",
       "      <td>Ломоносовский район</td>\n",
       "    </tr>\n",
       "    <tr>\n",
       "      <th>19</th>\n",
       "      <td>ленинский проспект</td>\n",
       "      <td>142</td>\n",
       "      <td>129</td>\n",
       "      <td>ЮЗАО</td>\n",
       "      <td>Обручевский район</td>\n",
       "    </tr>\n",
       "    <tr>\n",
       "      <th>20</th>\n",
       "      <td>ленинский проспект</td>\n",
       "      <td>142</td>\n",
       "      <td>131</td>\n",
       "      <td>ЮЗАО</td>\n",
       "      <td>Район Теплый Стан</td>\n",
       "    </tr>\n",
       "    <tr>\n",
       "      <th>21</th>\n",
       "      <td>ленинский проспект</td>\n",
       "      <td>142</td>\n",
       "      <td>21</td>\n",
       "      <td>ЦАО</td>\n",
       "      <td>Район Якиманка</td>\n",
       "    </tr>\n",
       "    <tr>\n",
       "      <th>22</th>\n",
       "      <td>варшавское шоссе</td>\n",
       "      <td>157</td>\n",
       "      <td>109</td>\n",
       "      <td>ЮАО</td>\n",
       "      <td>Район Чертаново Центральное</td>\n",
       "    </tr>\n",
       "    <tr>\n",
       "      <th>23</th>\n",
       "      <td>варшавское шоссе</td>\n",
       "      <td>157</td>\n",
       "      <td>108</td>\n",
       "      <td>ЮАО</td>\n",
       "      <td>Район Чертаново Северное</td>\n",
       "    </tr>\n",
       "    <tr>\n",
       "      <th>24</th>\n",
       "      <td>варшавское шоссе</td>\n",
       "      <td>157</td>\n",
       "      <td>110</td>\n",
       "      <td>ЮАО</td>\n",
       "      <td>Район Чертаново Южное</td>\n",
       "    </tr>\n",
       "    <tr>\n",
       "      <th>25</th>\n",
       "      <td>варшавское шоссе</td>\n",
       "      <td>157</td>\n",
       "      <td>99</td>\n",
       "      <td>ЮАО</td>\n",
       "      <td>Донской район</td>\n",
       "    </tr>\n",
       "    <tr>\n",
       "      <th>26</th>\n",
       "      <td>варшавское шоссе</td>\n",
       "      <td>157</td>\n",
       "      <td>102</td>\n",
       "      <td>ЮАО</td>\n",
       "      <td>Район Нагатино-Садовники</td>\n",
       "    </tr>\n",
       "    <tr>\n",
       "      <th>27</th>\n",
       "      <td>варшавское шоссе</td>\n",
       "      <td>157</td>\n",
       "      <td>104</td>\n",
       "      <td>ЮАО</td>\n",
       "      <td>Нагорный район</td>\n",
       "    </tr>\n",
       "    <tr>\n",
       "      <th>28</th>\n",
       "      <td>варшавское шоссе</td>\n",
       "      <td>157</td>\n",
       "      <td>130</td>\n",
       "      <td>ЮЗАО</td>\n",
       "      <td>Район Северное Бутово</td>\n",
       "    </tr>\n",
       "    <tr>\n",
       "      <th>29</th>\n",
       "      <td>варшавское шоссе</td>\n",
       "      <td>157</td>\n",
       "      <td>133</td>\n",
       "      <td>ЮЗАО</td>\n",
       "      <td>Район Южное Бутово</td>\n",
       "    </tr>\n",
       "    <tr>\n",
       "      <th>30</th>\n",
       "      <td>пресненская набережная</td>\n",
       "      <td>162</td>\n",
       "      <td>17</td>\n",
       "      <td>ЦАО</td>\n",
       "      <td>Пресненский район</td>\n",
       "    </tr>\n",
       "    <tr>\n",
       "      <th>31</th>\n",
       "      <td>ленинградский проспект</td>\n",
       "      <td>168</td>\n",
       "      <td>54</td>\n",
       "      <td>САО</td>\n",
       "      <td>Район Аэропорт</td>\n",
       "    </tr>\n",
       "    <tr>\n",
       "      <th>32</th>\n",
       "      <td>ленинградский проспект</td>\n",
       "      <td>168</td>\n",
       "      <td>55</td>\n",
       "      <td>САО</td>\n",
       "      <td>Район Беговой</td>\n",
       "    </tr>\n",
       "    <tr>\n",
       "      <th>33</th>\n",
       "      <td>ленинградский проспект</td>\n",
       "      <td>168</td>\n",
       "      <td>69</td>\n",
       "      <td>САО</td>\n",
       "      <td>Хорошевский район</td>\n",
       "    </tr>\n",
       "    <tr>\n",
       "      <th>34</th>\n",
       "      <td>ленинградский проспект</td>\n",
       "      <td>168</td>\n",
       "      <td>66</td>\n",
       "      <td>САО</td>\n",
       "      <td>Район Сокол</td>\n",
       "    </tr>\n",
       "    <tr>\n",
       "      <th>35</th>\n",
       "      <td>профсоюзная улица</td>\n",
       "      <td>181</td>\n",
       "      <td>123</td>\n",
       "      <td>ЮЗАО</td>\n",
       "      <td>Академический район</td>\n",
       "    </tr>\n",
       "    <tr>\n",
       "      <th>36</th>\n",
       "      <td>профсоюзная улица</td>\n",
       "      <td>181</td>\n",
       "      <td>132</td>\n",
       "      <td>ЮЗАО</td>\n",
       "      <td>Район Черемушки</td>\n",
       "    </tr>\n",
       "    <tr>\n",
       "      <th>37</th>\n",
       "      <td>профсоюзная улица</td>\n",
       "      <td>181</td>\n",
       "      <td>134</td>\n",
       "      <td>ЮЗАО</td>\n",
       "      <td>Район Ясенево</td>\n",
       "    </tr>\n",
       "    <tr>\n",
       "      <th>38</th>\n",
       "      <td>профсоюзная улица</td>\n",
       "      <td>181</td>\n",
       "      <td>126</td>\n",
       "      <td>ЮЗАО</td>\n",
       "      <td>Район Коньково</td>\n",
       "    </tr>\n",
       "    <tr>\n",
       "      <th>39</th>\n",
       "      <td>профсоюзная улица</td>\n",
       "      <td>181</td>\n",
       "      <td>129</td>\n",
       "      <td>ЮЗАО</td>\n",
       "      <td>Обручевский район</td>\n",
       "    </tr>\n",
       "    <tr>\n",
       "      <th>40</th>\n",
       "      <td>профсоюзная улица</td>\n",
       "      <td>181</td>\n",
       "      <td>131</td>\n",
       "      <td>ЮЗАО</td>\n",
       "      <td>Район Теплый Стан</td>\n",
       "    </tr>\n",
       "    <tr>\n",
       "      <th>41</th>\n",
       "      <td>проспект мира</td>\n",
       "      <td>198</td>\n",
       "      <td>70</td>\n",
       "      <td>СВАО</td>\n",
       "      <td>Алексеевский район</td>\n",
       "    </tr>\n",
       "    <tr>\n",
       "      <th>42</th>\n",
       "      <td>проспект мира</td>\n",
       "      <td>198</td>\n",
       "      <td>86</td>\n",
       "      <td>СВАО</td>\n",
       "      <td>Ярославский Район</td>\n",
       "    </tr>\n",
       "    <tr>\n",
       "      <th>43</th>\n",
       "      <td>проспект мира</td>\n",
       "      <td>198</td>\n",
       "      <td>78</td>\n",
       "      <td>СВАО</td>\n",
       "      <td>Район Марьина роща</td>\n",
       "    </tr>\n",
       "    <tr>\n",
       "      <th>44</th>\n",
       "      <td>проспект мира</td>\n",
       "      <td>198</td>\n",
       "      <td>79</td>\n",
       "      <td>СВАО</td>\n",
       "      <td>Останкинский район</td>\n",
       "    </tr>\n",
       "    <tr>\n",
       "      <th>45</th>\n",
       "      <td>проспект мира</td>\n",
       "      <td>198</td>\n",
       "      <td>81</td>\n",
       "      <td>СВАО</td>\n",
       "      <td>Район Ростокино</td>\n",
       "    </tr>\n",
       "    <tr>\n",
       "      <th>46</th>\n",
       "      <td>проспект мира</td>\n",
       "      <td>198</td>\n",
       "      <td>82</td>\n",
       "      <td>СВАО</td>\n",
       "      <td>Район Свиблово</td>\n",
       "    </tr>\n",
       "    <tr>\n",
       "      <th>47</th>\n",
       "      <td>проспект мира</td>\n",
       "      <td>198</td>\n",
       "      <td>16</td>\n",
       "      <td>ЦАО</td>\n",
       "      <td>Мещанский район</td>\n",
       "    </tr>\n",
       "  </tbody>\n",
       "</table>\n",
       "</div>"
      ],
      "text/plain": [
       "                    street   id  areaid okrug                             area\n",
       "0     кировоградская улица  102     109   ЮАО      Район Чертаново Центральное\n",
       "1     кировоградская улица  102     108   ЮАО         Район Чертаново Северное\n",
       "2     кировоградская улица  102     110   ЮАО            Район Чертаново Южное\n",
       "3          каширское шоссе  107     101   ЮАО       Район Москворечье-Сабурово\n",
       "4          каширское шоссе  107     102   ЮАО         Район Нагатино-Садовники\n",
       "5          каширское шоссе  107     106   ЮАО     Район Орехово-Борисово Южное\n",
       "6          каширское шоссе  107     105   ЮАО  Район Орехово-Борисово Северное\n",
       "7     кутузовский проспект  111      38   ЗАО               Район Дорогомилово\n",
       "8     кутузовский проспект  111      49   ЗАО             Район Фили-Давыдково\n",
       "9     проспект вернадского  125      44   ЗАО       Район Проспект Вернадского\n",
       "10    проспект вернадского  125      45   ЗАО                    Район Раменки\n",
       "11    проспект вернадского  125      47   ЗАО         Район Тропарево-Никулино\n",
       "12    проспект вернадского  125     124  ЮЗАО                Район Гагаринский\n",
       "13    проспект вернадского  125     128  ЮЗАО              Ломоносовский район\n",
       "14      ленинский проспект  142      44   ЗАО       Район Проспект Вернадского\n",
       "15      ленинский проспект  142      47   ЗАО         Район Тропарево-Никулино\n",
       "16      ленинский проспект  142      99   ЮАО                    Донской район\n",
       "17      ленинский проспект  142     124  ЮЗАО                Район Гагаринский\n",
       "18      ленинский проспект  142     128  ЮЗАО              Ломоносовский район\n",
       "19      ленинский проспект  142     129  ЮЗАО                Обручевский район\n",
       "20      ленинский проспект  142     131  ЮЗАО                Район Теплый Стан\n",
       "21      ленинский проспект  142      21   ЦАО                   Район Якиманка\n",
       "22        варшавское шоссе  157     109   ЮАО      Район Чертаново Центральное\n",
       "23        варшавское шоссе  157     108   ЮАО         Район Чертаново Северное\n",
       "24        варшавское шоссе  157     110   ЮАО            Район Чертаново Южное\n",
       "25        варшавское шоссе  157      99   ЮАО                    Донской район\n",
       "26        варшавское шоссе  157     102   ЮАО         Район Нагатино-Садовники\n",
       "27        варшавское шоссе  157     104   ЮАО                   Нагорный район\n",
       "28        варшавское шоссе  157     130  ЮЗАО            Район Северное Бутово\n",
       "29        варшавское шоссе  157     133  ЮЗАО               Район Южное Бутово\n",
       "30  пресненская набережная  162      17   ЦАО                Пресненский район\n",
       "31  ленинградский проспект  168      54   САО                   Район Аэропорт\n",
       "32  ленинградский проспект  168      55   САО                    Район Беговой\n",
       "33  ленинградский проспект  168      69   САО                Хорошевский район\n",
       "34  ленинградский проспект  168      66   САО                      Район Сокол\n",
       "35       профсоюзная улица  181     123  ЮЗАО              Академический район\n",
       "36       профсоюзная улица  181     132  ЮЗАО                  Район Черемушки\n",
       "37       профсоюзная улица  181     134  ЮЗАО                    Район Ясенево\n",
       "38       профсоюзная улица  181     126  ЮЗАО                   Район Коньково\n",
       "39       профсоюзная улица  181     129  ЮЗАО                Обручевский район\n",
       "40       профсоюзная улица  181     131  ЮЗАО                Район Теплый Стан\n",
       "41           проспект мира  198      70  СВАО               Алексеевский район\n",
       "42           проспект мира  198      86  СВАО                Ярославский Район\n",
       "43           проспект мира  198      78  СВАО               Район Марьина роща\n",
       "44           проспект мира  198      79  СВАО               Останкинский район\n",
       "45           проспект мира  198      81  СВАО                  Район Ростокино\n",
       "46           проспект мира  198      82  СВАО                   Район Свиблово\n",
       "47           проспект мира  198      16   ЦАО                  Мещанский район"
      ]
     },
     "execution_count": 40,
     "metadata": {},
     "output_type": "execute_result"
    }
   ],
   "source": [
    "str_reg = top_10.merge(region, on='street', how='left')\n",
    "str_reg"
   ]
  },
  {
   "cell_type": "markdown",
   "metadata": {},
   "source": [
    "И для наглядности сгруппируем данные по районам и выделим ТОП-10 районов, также как сделали это с улицами:"
   ]
  },
  {
   "cell_type": "code",
   "execution_count": 41,
   "metadata": {},
   "outputs": [
    {
     "data": {
      "text/html": [
       "<div>\n",
       "<style scoped>\n",
       "    .dataframe tbody tr th:only-of-type {\n",
       "        vertical-align: middle;\n",
       "    }\n",
       "\n",
       "    .dataframe tbody tr th {\n",
       "        vertical-align: top;\n",
       "    }\n",
       "\n",
       "    .dataframe thead th {\n",
       "        text-align: right;\n",
       "    }\n",
       "</style>\n",
       "<table border=\"1\" class=\"dataframe\">\n",
       "  <thead>\n",
       "    <tr style=\"text-align: right;\">\n",
       "      <th></th>\n",
       "      <th>area</th>\n",
       "      <th>id</th>\n",
       "    </tr>\n",
       "  </thead>\n",
       "  <tbody>\n",
       "    <tr>\n",
       "      <th>9</th>\n",
       "      <td>Район Гагаринский</td>\n",
       "      <td>460</td>\n",
       "    </tr>\n",
       "    <tr>\n",
       "      <th>8</th>\n",
       "      <td>Район Замоскворечье</td>\n",
       "      <td>469</td>\n",
       "    </tr>\n",
       "    <tr>\n",
       "      <th>7</th>\n",
       "      <td>Обручевский район</td>\n",
       "      <td>482</td>\n",
       "    </tr>\n",
       "    <tr>\n",
       "      <th>6</th>\n",
       "      <td>Таганский район</td>\n",
       "      <td>530</td>\n",
       "    </tr>\n",
       "    <tr>\n",
       "      <th>5</th>\n",
       "      <td>Донской район</td>\n",
       "      <td>568</td>\n",
       "    </tr>\n",
       "    <tr>\n",
       "      <th>4</th>\n",
       "      <td>Мещанский район</td>\n",
       "      <td>648</td>\n",
       "    </tr>\n",
       "    <tr>\n",
       "      <th>3</th>\n",
       "      <td>Даниловский район</td>\n",
       "      <td>658</td>\n",
       "    </tr>\n",
       "    <tr>\n",
       "      <th>2</th>\n",
       "      <td>Басманный район</td>\n",
       "      <td>696</td>\n",
       "    </tr>\n",
       "    <tr>\n",
       "      <th>1</th>\n",
       "      <td>Пресненский район</td>\n",
       "      <td>769</td>\n",
       "    </tr>\n",
       "    <tr>\n",
       "      <th>0</th>\n",
       "      <td>Тверской район</td>\n",
       "      <td>1099</td>\n",
       "    </tr>\n",
       "  </tbody>\n",
       "</table>\n",
       "</div>"
      ],
      "text/plain": [
       "                  area    id\n",
       "9    Район Гагаринский   460\n",
       "8  Район Замоскворечье   469\n",
       "7    Обручевский район   482\n",
       "6      Таганский район   530\n",
       "5        Донской район   568\n",
       "4      Мещанский район   648\n",
       "3    Даниловский район   658\n",
       "2      Басманный район   696\n",
       "1    Пресненский район   769\n",
       "0       Тверской район  1099"
      ]
     },
     "execution_count": 41,
     "metadata": {},
     "output_type": "execute_result"
    }
   ],
   "source": [
    "top_10_reg = df.merge(region, on='street', how='left')\n",
    "top_10_reg = top_10_reg.pivot_table(index='area', \n",
    "                           values='id', \n",
    "                           aggfunc='count')\\\n",
    "              .sort_values(by='id', ascending=False)\\\n",
    "              .reset_index()\n",
    "top_10_reg = top_10_reg.head(10)\n",
    "top_10_reg = top_10_reg.sort_values(by='id')\n",
    "top_10_reg"
   ]
  },
  {
   "cell_type": "code",
   "execution_count": 42,
   "metadata": {},
   "outputs": [
    {
     "data": {
      "application/vnd.plotly.v1+json": {
       "config": {
        "plotlyServerURL": "https://plot.ly"
       },
       "data": [
        {
         "alignmentgroup": "True",
         "hovertemplate": "Количество заведений=%{x}<br>Район=%{y}<extra></extra>",
         "legendgroup": "",
         "marker": {
          "color": "#636efa",
          "pattern": {
           "shape": ""
          }
         },
         "name": "",
         "offsetgroup": "",
         "orientation": "h",
         "showlegend": false,
         "textposition": "auto",
         "type": "bar",
         "x": [
          460,
          469,
          482,
          530,
          568,
          648,
          658,
          696,
          769,
          1099
         ],
         "xaxis": "x",
         "y": [
          "Район Гагаринский",
          "Район Замоскворечье",
          "Обручевский район",
          "Таганский район",
          "Донской район",
          "Мещанский район",
          "Даниловский район",
          "Басманный район",
          "Пресненский район",
          "Тверской район"
         ],
         "yaxis": "y"
        }
       ],
       "layout": {
        "barmode": "relative",
        "height": 800,
        "legend": {
         "tracegroupgap": 0
        },
        "margin": {
         "t": 60
        },
        "template": {
         "data": {
          "bar": [
           {
            "error_x": {
             "color": "#2a3f5f"
            },
            "error_y": {
             "color": "#2a3f5f"
            },
            "marker": {
             "line": {
              "color": "#E5ECF6",
              "width": 0.5
             },
             "pattern": {
              "fillmode": "overlay",
              "size": 10,
              "solidity": 0.2
             }
            },
            "type": "bar"
           }
          ],
          "barpolar": [
           {
            "marker": {
             "line": {
              "color": "#E5ECF6",
              "width": 0.5
             },
             "pattern": {
              "fillmode": "overlay",
              "size": 10,
              "solidity": 0.2
             }
            },
            "type": "barpolar"
           }
          ],
          "carpet": [
           {
            "aaxis": {
             "endlinecolor": "#2a3f5f",
             "gridcolor": "white",
             "linecolor": "white",
             "minorgridcolor": "white",
             "startlinecolor": "#2a3f5f"
            },
            "baxis": {
             "endlinecolor": "#2a3f5f",
             "gridcolor": "white",
             "linecolor": "white",
             "minorgridcolor": "white",
             "startlinecolor": "#2a3f5f"
            },
            "type": "carpet"
           }
          ],
          "choropleth": [
           {
            "colorbar": {
             "outlinewidth": 0,
             "ticks": ""
            },
            "type": "choropleth"
           }
          ],
          "contour": [
           {
            "colorbar": {
             "outlinewidth": 0,
             "ticks": ""
            },
            "colorscale": [
             [
              0,
              "#0d0887"
             ],
             [
              0.1111111111111111,
              "#46039f"
             ],
             [
              0.2222222222222222,
              "#7201a8"
             ],
             [
              0.3333333333333333,
              "#9c179e"
             ],
             [
              0.4444444444444444,
              "#bd3786"
             ],
             [
              0.5555555555555556,
              "#d8576b"
             ],
             [
              0.6666666666666666,
              "#ed7953"
             ],
             [
              0.7777777777777778,
              "#fb9f3a"
             ],
             [
              0.8888888888888888,
              "#fdca26"
             ],
             [
              1,
              "#f0f921"
             ]
            ],
            "type": "contour"
           }
          ],
          "contourcarpet": [
           {
            "colorbar": {
             "outlinewidth": 0,
             "ticks": ""
            },
            "type": "contourcarpet"
           }
          ],
          "heatmap": [
           {
            "colorbar": {
             "outlinewidth": 0,
             "ticks": ""
            },
            "colorscale": [
             [
              0,
              "#0d0887"
             ],
             [
              0.1111111111111111,
              "#46039f"
             ],
             [
              0.2222222222222222,
              "#7201a8"
             ],
             [
              0.3333333333333333,
              "#9c179e"
             ],
             [
              0.4444444444444444,
              "#bd3786"
             ],
             [
              0.5555555555555556,
              "#d8576b"
             ],
             [
              0.6666666666666666,
              "#ed7953"
             ],
             [
              0.7777777777777778,
              "#fb9f3a"
             ],
             [
              0.8888888888888888,
              "#fdca26"
             ],
             [
              1,
              "#f0f921"
             ]
            ],
            "type": "heatmap"
           }
          ],
          "heatmapgl": [
           {
            "colorbar": {
             "outlinewidth": 0,
             "ticks": ""
            },
            "colorscale": [
             [
              0,
              "#0d0887"
             ],
             [
              0.1111111111111111,
              "#46039f"
             ],
             [
              0.2222222222222222,
              "#7201a8"
             ],
             [
              0.3333333333333333,
              "#9c179e"
             ],
             [
              0.4444444444444444,
              "#bd3786"
             ],
             [
              0.5555555555555556,
              "#d8576b"
             ],
             [
              0.6666666666666666,
              "#ed7953"
             ],
             [
              0.7777777777777778,
              "#fb9f3a"
             ],
             [
              0.8888888888888888,
              "#fdca26"
             ],
             [
              1,
              "#f0f921"
             ]
            ],
            "type": "heatmapgl"
           }
          ],
          "histogram": [
           {
            "marker": {
             "pattern": {
              "fillmode": "overlay",
              "size": 10,
              "solidity": 0.2
             }
            },
            "type": "histogram"
           }
          ],
          "histogram2d": [
           {
            "colorbar": {
             "outlinewidth": 0,
             "ticks": ""
            },
            "colorscale": [
             [
              0,
              "#0d0887"
             ],
             [
              0.1111111111111111,
              "#46039f"
             ],
             [
              0.2222222222222222,
              "#7201a8"
             ],
             [
              0.3333333333333333,
              "#9c179e"
             ],
             [
              0.4444444444444444,
              "#bd3786"
             ],
             [
              0.5555555555555556,
              "#d8576b"
             ],
             [
              0.6666666666666666,
              "#ed7953"
             ],
             [
              0.7777777777777778,
              "#fb9f3a"
             ],
             [
              0.8888888888888888,
              "#fdca26"
             ],
             [
              1,
              "#f0f921"
             ]
            ],
            "type": "histogram2d"
           }
          ],
          "histogram2dcontour": [
           {
            "colorbar": {
             "outlinewidth": 0,
             "ticks": ""
            },
            "colorscale": [
             [
              0,
              "#0d0887"
             ],
             [
              0.1111111111111111,
              "#46039f"
             ],
             [
              0.2222222222222222,
              "#7201a8"
             ],
             [
              0.3333333333333333,
              "#9c179e"
             ],
             [
              0.4444444444444444,
              "#bd3786"
             ],
             [
              0.5555555555555556,
              "#d8576b"
             ],
             [
              0.6666666666666666,
              "#ed7953"
             ],
             [
              0.7777777777777778,
              "#fb9f3a"
             ],
             [
              0.8888888888888888,
              "#fdca26"
             ],
             [
              1,
              "#f0f921"
             ]
            ],
            "type": "histogram2dcontour"
           }
          ],
          "mesh3d": [
           {
            "colorbar": {
             "outlinewidth": 0,
             "ticks": ""
            },
            "type": "mesh3d"
           }
          ],
          "parcoords": [
           {
            "line": {
             "colorbar": {
              "outlinewidth": 0,
              "ticks": ""
             }
            },
            "type": "parcoords"
           }
          ],
          "pie": [
           {
            "automargin": true,
            "type": "pie"
           }
          ],
          "scatter": [
           {
            "marker": {
             "colorbar": {
              "outlinewidth": 0,
              "ticks": ""
             }
            },
            "type": "scatter"
           }
          ],
          "scatter3d": [
           {
            "line": {
             "colorbar": {
              "outlinewidth": 0,
              "ticks": ""
             }
            },
            "marker": {
             "colorbar": {
              "outlinewidth": 0,
              "ticks": ""
             }
            },
            "type": "scatter3d"
           }
          ],
          "scattercarpet": [
           {
            "marker": {
             "colorbar": {
              "outlinewidth": 0,
              "ticks": ""
             }
            },
            "type": "scattercarpet"
           }
          ],
          "scattergeo": [
           {
            "marker": {
             "colorbar": {
              "outlinewidth": 0,
              "ticks": ""
             }
            },
            "type": "scattergeo"
           }
          ],
          "scattergl": [
           {
            "marker": {
             "colorbar": {
              "outlinewidth": 0,
              "ticks": ""
             }
            },
            "type": "scattergl"
           }
          ],
          "scattermapbox": [
           {
            "marker": {
             "colorbar": {
              "outlinewidth": 0,
              "ticks": ""
             }
            },
            "type": "scattermapbox"
           }
          ],
          "scatterpolar": [
           {
            "marker": {
             "colorbar": {
              "outlinewidth": 0,
              "ticks": ""
             }
            },
            "type": "scatterpolar"
           }
          ],
          "scatterpolargl": [
           {
            "marker": {
             "colorbar": {
              "outlinewidth": 0,
              "ticks": ""
             }
            },
            "type": "scatterpolargl"
           }
          ],
          "scatterternary": [
           {
            "marker": {
             "colorbar": {
              "outlinewidth": 0,
              "ticks": ""
             }
            },
            "type": "scatterternary"
           }
          ],
          "surface": [
           {
            "colorbar": {
             "outlinewidth": 0,
             "ticks": ""
            },
            "colorscale": [
             [
              0,
              "#0d0887"
             ],
             [
              0.1111111111111111,
              "#46039f"
             ],
             [
              0.2222222222222222,
              "#7201a8"
             ],
             [
              0.3333333333333333,
              "#9c179e"
             ],
             [
              0.4444444444444444,
              "#bd3786"
             ],
             [
              0.5555555555555556,
              "#d8576b"
             ],
             [
              0.6666666666666666,
              "#ed7953"
             ],
             [
              0.7777777777777778,
              "#fb9f3a"
             ],
             [
              0.8888888888888888,
              "#fdca26"
             ],
             [
              1,
              "#f0f921"
             ]
            ],
            "type": "surface"
           }
          ],
          "table": [
           {
            "cells": {
             "fill": {
              "color": "#EBF0F8"
             },
             "line": {
              "color": "white"
             }
            },
            "header": {
             "fill": {
              "color": "#C8D4E3"
             },
             "line": {
              "color": "white"
             }
            },
            "type": "table"
           }
          ]
         },
         "layout": {
          "annotationdefaults": {
           "arrowcolor": "#2a3f5f",
           "arrowhead": 0,
           "arrowwidth": 1
          },
          "autotypenumbers": "strict",
          "coloraxis": {
           "colorbar": {
            "outlinewidth": 0,
            "ticks": ""
           }
          },
          "colorscale": {
           "diverging": [
            [
             0,
             "#8e0152"
            ],
            [
             0.1,
             "#c51b7d"
            ],
            [
             0.2,
             "#de77ae"
            ],
            [
             0.3,
             "#f1b6da"
            ],
            [
             0.4,
             "#fde0ef"
            ],
            [
             0.5,
             "#f7f7f7"
            ],
            [
             0.6,
             "#e6f5d0"
            ],
            [
             0.7,
             "#b8e186"
            ],
            [
             0.8,
             "#7fbc41"
            ],
            [
             0.9,
             "#4d9221"
            ],
            [
             1,
             "#276419"
            ]
           ],
           "sequential": [
            [
             0,
             "#0d0887"
            ],
            [
             0.1111111111111111,
             "#46039f"
            ],
            [
             0.2222222222222222,
             "#7201a8"
            ],
            [
             0.3333333333333333,
             "#9c179e"
            ],
            [
             0.4444444444444444,
             "#bd3786"
            ],
            [
             0.5555555555555556,
             "#d8576b"
            ],
            [
             0.6666666666666666,
             "#ed7953"
            ],
            [
             0.7777777777777778,
             "#fb9f3a"
            ],
            [
             0.8888888888888888,
             "#fdca26"
            ],
            [
             1,
             "#f0f921"
            ]
           ],
           "sequentialminus": [
            [
             0,
             "#0d0887"
            ],
            [
             0.1111111111111111,
             "#46039f"
            ],
            [
             0.2222222222222222,
             "#7201a8"
            ],
            [
             0.3333333333333333,
             "#9c179e"
            ],
            [
             0.4444444444444444,
             "#bd3786"
            ],
            [
             0.5555555555555556,
             "#d8576b"
            ],
            [
             0.6666666666666666,
             "#ed7953"
            ],
            [
             0.7777777777777778,
             "#fb9f3a"
            ],
            [
             0.8888888888888888,
             "#fdca26"
            ],
            [
             1,
             "#f0f921"
            ]
           ]
          },
          "colorway": [
           "#636efa",
           "#EF553B",
           "#00cc96",
           "#ab63fa",
           "#FFA15A",
           "#19d3f3",
           "#FF6692",
           "#B6E880",
           "#FF97FF",
           "#FECB52"
          ],
          "font": {
           "color": "#2a3f5f"
          },
          "geo": {
           "bgcolor": "white",
           "lakecolor": "white",
           "landcolor": "#E5ECF6",
           "showlakes": true,
           "showland": true,
           "subunitcolor": "white"
          },
          "hoverlabel": {
           "align": "left"
          },
          "hovermode": "closest",
          "mapbox": {
           "style": "light"
          },
          "paper_bgcolor": "white",
          "plot_bgcolor": "#E5ECF6",
          "polar": {
           "angularaxis": {
            "gridcolor": "white",
            "linecolor": "white",
            "ticks": ""
           },
           "bgcolor": "#E5ECF6",
           "radialaxis": {
            "gridcolor": "white",
            "linecolor": "white",
            "ticks": ""
           }
          },
          "scene": {
           "xaxis": {
            "backgroundcolor": "#E5ECF6",
            "gridcolor": "white",
            "gridwidth": 2,
            "linecolor": "white",
            "showbackground": true,
            "ticks": "",
            "zerolinecolor": "white"
           },
           "yaxis": {
            "backgroundcolor": "#E5ECF6",
            "gridcolor": "white",
            "gridwidth": 2,
            "linecolor": "white",
            "showbackground": true,
            "ticks": "",
            "zerolinecolor": "white"
           },
           "zaxis": {
            "backgroundcolor": "#E5ECF6",
            "gridcolor": "white",
            "gridwidth": 2,
            "linecolor": "white",
            "showbackground": true,
            "ticks": "",
            "zerolinecolor": "white"
           }
          },
          "shapedefaults": {
           "line": {
            "color": "#2a3f5f"
           }
          },
          "ternary": {
           "aaxis": {
            "gridcolor": "white",
            "linecolor": "white",
            "ticks": ""
           },
           "baxis": {
            "gridcolor": "white",
            "linecolor": "white",
            "ticks": ""
           },
           "bgcolor": "#E5ECF6",
           "caxis": {
            "gridcolor": "white",
            "linecolor": "white",
            "ticks": ""
           }
          },
          "title": {
           "x": 0.05
          },
          "xaxis": {
           "automargin": true,
           "gridcolor": "white",
           "linecolor": "white",
           "ticks": "",
           "title": {
            "standoff": 15
           },
           "zerolinecolor": "white",
           "zerolinewidth": 2
          },
          "yaxis": {
           "automargin": true,
           "gridcolor": "white",
           "linecolor": "white",
           "ticks": "",
           "title": {
            "standoff": 15
           },
           "zerolinecolor": "white",
           "zerolinewidth": 2
          }
         }
        },
        "title": {
         "text": "ТОП-10 районов по количеству заведений",
         "x": 0.5
        },
        "width": 800,
        "xaxis": {
         "anchor": "y",
         "domain": [
          0,
          1
         ],
         "title": {
          "text": "Количество заведений"
         }
        },
        "yaxis": {
         "anchor": "x",
         "domain": [
          0,
          1
         ],
         "title": {
          "text": "Район"
         }
        }
       }
      },
      "text/html": [
       "<div>                            <div id=\"c591cb24-6e2a-4fa2-b7ee-0b540bfb3195\" class=\"plotly-graph-div\" style=\"height:800px; width:800px;\"></div>            <script type=\"text/javascript\">                require([\"plotly\"], function(Plotly) {                    window.PLOTLYENV=window.PLOTLYENV || {};                                    if (document.getElementById(\"c591cb24-6e2a-4fa2-b7ee-0b540bfb3195\")) {                    Plotly.newPlot(                        \"c591cb24-6e2a-4fa2-b7ee-0b540bfb3195\",                        [{\"alignmentgroup\":\"True\",\"hovertemplate\":\"\\u041a\\u043e\\u043b\\u0438\\u0447\\u0435\\u0441\\u0442\\u0432\\u043e \\u0437\\u0430\\u0432\\u0435\\u0434\\u0435\\u043d\\u0438\\u0439=%{x}<br>\\u0420\\u0430\\u0439\\u043e\\u043d=%{y}<extra></extra>\",\"legendgroup\":\"\",\"marker\":{\"color\":\"#636efa\",\"pattern\":{\"shape\":\"\"}},\"name\":\"\",\"offsetgroup\":\"\",\"orientation\":\"h\",\"showlegend\":false,\"textposition\":\"auto\",\"x\":[460,469,482,530,568,648,658,696,769,1099],\"xaxis\":\"x\",\"y\":[\"\\u0420\\u0430\\u0439\\u043e\\u043d \\u0413\\u0430\\u0433\\u0430\\u0440\\u0438\\u043d\\u0441\\u043a\\u0438\\u0439\",\"\\u0420\\u0430\\u0439\\u043e\\u043d \\u0417\\u0430\\u043c\\u043e\\u0441\\u043a\\u0432\\u043e\\u0440\\u0435\\u0447\\u044c\\u0435\",\"\\u041e\\u0431\\u0440\\u0443\\u0447\\u0435\\u0432\\u0441\\u043a\\u0438\\u0439 \\u0440\\u0430\\u0439\\u043e\\u043d\",\"\\u0422\\u0430\\u0433\\u0430\\u043d\\u0441\\u043a\\u0438\\u0439 \\u0440\\u0430\\u0439\\u043e\\u043d\",\"\\u0414\\u043e\\u043d\\u0441\\u043a\\u043e\\u0439 \\u0440\\u0430\\u0439\\u043e\\u043d\",\"\\u041c\\u0435\\u0449\\u0430\\u043d\\u0441\\u043a\\u0438\\u0439 \\u0440\\u0430\\u0439\\u043e\\u043d\",\"\\u0414\\u0430\\u043d\\u0438\\u043b\\u043e\\u0432\\u0441\\u043a\\u0438\\u0439 \\u0440\\u0430\\u0439\\u043e\\u043d\",\"\\u0411\\u0430\\u0441\\u043c\\u0430\\u043d\\u043d\\u044b\\u0439 \\u0440\\u0430\\u0439\\u043e\\u043d\",\"\\u041f\\u0440\\u0435\\u0441\\u043d\\u0435\\u043d\\u0441\\u043a\\u0438\\u0439 \\u0440\\u0430\\u0439\\u043e\\u043d\",\"\\u0422\\u0432\\u0435\\u0440\\u0441\\u043a\\u043e\\u0439 \\u0440\\u0430\\u0439\\u043e\\u043d\"],\"yaxis\":\"y\",\"type\":\"bar\"}],                        {\"template\":{\"data\":{\"bar\":[{\"error_x\":{\"color\":\"#2a3f5f\"},\"error_y\":{\"color\":\"#2a3f5f\"},\"marker\":{\"line\":{\"color\":\"#E5ECF6\",\"width\":0.5},\"pattern\":{\"fillmode\":\"overlay\",\"size\":10,\"solidity\":0.2}},\"type\":\"bar\"}],\"barpolar\":[{\"marker\":{\"line\":{\"color\":\"#E5ECF6\",\"width\":0.5},\"pattern\":{\"fillmode\":\"overlay\",\"size\":10,\"solidity\":0.2}},\"type\":\"barpolar\"}],\"carpet\":[{\"aaxis\":{\"endlinecolor\":\"#2a3f5f\",\"gridcolor\":\"white\",\"linecolor\":\"white\",\"minorgridcolor\":\"white\",\"startlinecolor\":\"#2a3f5f\"},\"baxis\":{\"endlinecolor\":\"#2a3f5f\",\"gridcolor\":\"white\",\"linecolor\":\"white\",\"minorgridcolor\":\"white\",\"startlinecolor\":\"#2a3f5f\"},\"type\":\"carpet\"}],\"choropleth\":[{\"colorbar\":{\"outlinewidth\":0,\"ticks\":\"\"},\"type\":\"choropleth\"}],\"contour\":[{\"colorbar\":{\"outlinewidth\":0,\"ticks\":\"\"},\"colorscale\":[[0.0,\"#0d0887\"],[0.1111111111111111,\"#46039f\"],[0.2222222222222222,\"#7201a8\"],[0.3333333333333333,\"#9c179e\"],[0.4444444444444444,\"#bd3786\"],[0.5555555555555556,\"#d8576b\"],[0.6666666666666666,\"#ed7953\"],[0.7777777777777778,\"#fb9f3a\"],[0.8888888888888888,\"#fdca26\"],[1.0,\"#f0f921\"]],\"type\":\"contour\"}],\"contourcarpet\":[{\"colorbar\":{\"outlinewidth\":0,\"ticks\":\"\"},\"type\":\"contourcarpet\"}],\"heatmap\":[{\"colorbar\":{\"outlinewidth\":0,\"ticks\":\"\"},\"colorscale\":[[0.0,\"#0d0887\"],[0.1111111111111111,\"#46039f\"],[0.2222222222222222,\"#7201a8\"],[0.3333333333333333,\"#9c179e\"],[0.4444444444444444,\"#bd3786\"],[0.5555555555555556,\"#d8576b\"],[0.6666666666666666,\"#ed7953\"],[0.7777777777777778,\"#fb9f3a\"],[0.8888888888888888,\"#fdca26\"],[1.0,\"#f0f921\"]],\"type\":\"heatmap\"}],\"heatmapgl\":[{\"colorbar\":{\"outlinewidth\":0,\"ticks\":\"\"},\"colorscale\":[[0.0,\"#0d0887\"],[0.1111111111111111,\"#46039f\"],[0.2222222222222222,\"#7201a8\"],[0.3333333333333333,\"#9c179e\"],[0.4444444444444444,\"#bd3786\"],[0.5555555555555556,\"#d8576b\"],[0.6666666666666666,\"#ed7953\"],[0.7777777777777778,\"#fb9f3a\"],[0.8888888888888888,\"#fdca26\"],[1.0,\"#f0f921\"]],\"type\":\"heatmapgl\"}],\"histogram\":[{\"marker\":{\"pattern\":{\"fillmode\":\"overlay\",\"size\":10,\"solidity\":0.2}},\"type\":\"histogram\"}],\"histogram2d\":[{\"colorbar\":{\"outlinewidth\":0,\"ticks\":\"\"},\"colorscale\":[[0.0,\"#0d0887\"],[0.1111111111111111,\"#46039f\"],[0.2222222222222222,\"#7201a8\"],[0.3333333333333333,\"#9c179e\"],[0.4444444444444444,\"#bd3786\"],[0.5555555555555556,\"#d8576b\"],[0.6666666666666666,\"#ed7953\"],[0.7777777777777778,\"#fb9f3a\"],[0.8888888888888888,\"#fdca26\"],[1.0,\"#f0f921\"]],\"type\":\"histogram2d\"}],\"histogram2dcontour\":[{\"colorbar\":{\"outlinewidth\":0,\"ticks\":\"\"},\"colorscale\":[[0.0,\"#0d0887\"],[0.1111111111111111,\"#46039f\"],[0.2222222222222222,\"#7201a8\"],[0.3333333333333333,\"#9c179e\"],[0.4444444444444444,\"#bd3786\"],[0.5555555555555556,\"#d8576b\"],[0.6666666666666666,\"#ed7953\"],[0.7777777777777778,\"#fb9f3a\"],[0.8888888888888888,\"#fdca26\"],[1.0,\"#f0f921\"]],\"type\":\"histogram2dcontour\"}],\"mesh3d\":[{\"colorbar\":{\"outlinewidth\":0,\"ticks\":\"\"},\"type\":\"mesh3d\"}],\"parcoords\":[{\"line\":{\"colorbar\":{\"outlinewidth\":0,\"ticks\":\"\"}},\"type\":\"parcoords\"}],\"pie\":[{\"automargin\":true,\"type\":\"pie\"}],\"scatter\":[{\"marker\":{\"colorbar\":{\"outlinewidth\":0,\"ticks\":\"\"}},\"type\":\"scatter\"}],\"scatter3d\":[{\"line\":{\"colorbar\":{\"outlinewidth\":0,\"ticks\":\"\"}},\"marker\":{\"colorbar\":{\"outlinewidth\":0,\"ticks\":\"\"}},\"type\":\"scatter3d\"}],\"scattercarpet\":[{\"marker\":{\"colorbar\":{\"outlinewidth\":0,\"ticks\":\"\"}},\"type\":\"scattercarpet\"}],\"scattergeo\":[{\"marker\":{\"colorbar\":{\"outlinewidth\":0,\"ticks\":\"\"}},\"type\":\"scattergeo\"}],\"scattergl\":[{\"marker\":{\"colorbar\":{\"outlinewidth\":0,\"ticks\":\"\"}},\"type\":\"scattergl\"}],\"scattermapbox\":[{\"marker\":{\"colorbar\":{\"outlinewidth\":0,\"ticks\":\"\"}},\"type\":\"scattermapbox\"}],\"scatterpolar\":[{\"marker\":{\"colorbar\":{\"outlinewidth\":0,\"ticks\":\"\"}},\"type\":\"scatterpolar\"}],\"scatterpolargl\":[{\"marker\":{\"colorbar\":{\"outlinewidth\":0,\"ticks\":\"\"}},\"type\":\"scatterpolargl\"}],\"scatterternary\":[{\"marker\":{\"colorbar\":{\"outlinewidth\":0,\"ticks\":\"\"}},\"type\":\"scatterternary\"}],\"surface\":[{\"colorbar\":{\"outlinewidth\":0,\"ticks\":\"\"},\"colorscale\":[[0.0,\"#0d0887\"],[0.1111111111111111,\"#46039f\"],[0.2222222222222222,\"#7201a8\"],[0.3333333333333333,\"#9c179e\"],[0.4444444444444444,\"#bd3786\"],[0.5555555555555556,\"#d8576b\"],[0.6666666666666666,\"#ed7953\"],[0.7777777777777778,\"#fb9f3a\"],[0.8888888888888888,\"#fdca26\"],[1.0,\"#f0f921\"]],\"type\":\"surface\"}],\"table\":[{\"cells\":{\"fill\":{\"color\":\"#EBF0F8\"},\"line\":{\"color\":\"white\"}},\"header\":{\"fill\":{\"color\":\"#C8D4E3\"},\"line\":{\"color\":\"white\"}},\"type\":\"table\"}]},\"layout\":{\"annotationdefaults\":{\"arrowcolor\":\"#2a3f5f\",\"arrowhead\":0,\"arrowwidth\":1},\"autotypenumbers\":\"strict\",\"coloraxis\":{\"colorbar\":{\"outlinewidth\":0,\"ticks\":\"\"}},\"colorscale\":{\"diverging\":[[0,\"#8e0152\"],[0.1,\"#c51b7d\"],[0.2,\"#de77ae\"],[0.3,\"#f1b6da\"],[0.4,\"#fde0ef\"],[0.5,\"#f7f7f7\"],[0.6,\"#e6f5d0\"],[0.7,\"#b8e186\"],[0.8,\"#7fbc41\"],[0.9,\"#4d9221\"],[1,\"#276419\"]],\"sequential\":[[0.0,\"#0d0887\"],[0.1111111111111111,\"#46039f\"],[0.2222222222222222,\"#7201a8\"],[0.3333333333333333,\"#9c179e\"],[0.4444444444444444,\"#bd3786\"],[0.5555555555555556,\"#d8576b\"],[0.6666666666666666,\"#ed7953\"],[0.7777777777777778,\"#fb9f3a\"],[0.8888888888888888,\"#fdca26\"],[1.0,\"#f0f921\"]],\"sequentialminus\":[[0.0,\"#0d0887\"],[0.1111111111111111,\"#46039f\"],[0.2222222222222222,\"#7201a8\"],[0.3333333333333333,\"#9c179e\"],[0.4444444444444444,\"#bd3786\"],[0.5555555555555556,\"#d8576b\"],[0.6666666666666666,\"#ed7953\"],[0.7777777777777778,\"#fb9f3a\"],[0.8888888888888888,\"#fdca26\"],[1.0,\"#f0f921\"]]},\"colorway\":[\"#636efa\",\"#EF553B\",\"#00cc96\",\"#ab63fa\",\"#FFA15A\",\"#19d3f3\",\"#FF6692\",\"#B6E880\",\"#FF97FF\",\"#FECB52\"],\"font\":{\"color\":\"#2a3f5f\"},\"geo\":{\"bgcolor\":\"white\",\"lakecolor\":\"white\",\"landcolor\":\"#E5ECF6\",\"showlakes\":true,\"showland\":true,\"subunitcolor\":\"white\"},\"hoverlabel\":{\"align\":\"left\"},\"hovermode\":\"closest\",\"mapbox\":{\"style\":\"light\"},\"paper_bgcolor\":\"white\",\"plot_bgcolor\":\"#E5ECF6\",\"polar\":{\"angularaxis\":{\"gridcolor\":\"white\",\"linecolor\":\"white\",\"ticks\":\"\"},\"bgcolor\":\"#E5ECF6\",\"radialaxis\":{\"gridcolor\":\"white\",\"linecolor\":\"white\",\"ticks\":\"\"}},\"scene\":{\"xaxis\":{\"backgroundcolor\":\"#E5ECF6\",\"gridcolor\":\"white\",\"gridwidth\":2,\"linecolor\":\"white\",\"showbackground\":true,\"ticks\":\"\",\"zerolinecolor\":\"white\"},\"yaxis\":{\"backgroundcolor\":\"#E5ECF6\",\"gridcolor\":\"white\",\"gridwidth\":2,\"linecolor\":\"white\",\"showbackground\":true,\"ticks\":\"\",\"zerolinecolor\":\"white\"},\"zaxis\":{\"backgroundcolor\":\"#E5ECF6\",\"gridcolor\":\"white\",\"gridwidth\":2,\"linecolor\":\"white\",\"showbackground\":true,\"ticks\":\"\",\"zerolinecolor\":\"white\"}},\"shapedefaults\":{\"line\":{\"color\":\"#2a3f5f\"}},\"ternary\":{\"aaxis\":{\"gridcolor\":\"white\",\"linecolor\":\"white\",\"ticks\":\"\"},\"baxis\":{\"gridcolor\":\"white\",\"linecolor\":\"white\",\"ticks\":\"\"},\"bgcolor\":\"#E5ECF6\",\"caxis\":{\"gridcolor\":\"white\",\"linecolor\":\"white\",\"ticks\":\"\"}},\"title\":{\"x\":0.05},\"xaxis\":{\"automargin\":true,\"gridcolor\":\"white\",\"linecolor\":\"white\",\"ticks\":\"\",\"title\":{\"standoff\":15},\"zerolinecolor\":\"white\",\"zerolinewidth\":2},\"yaxis\":{\"automargin\":true,\"gridcolor\":\"white\",\"linecolor\":\"white\",\"ticks\":\"\",\"title\":{\"standoff\":15},\"zerolinecolor\":\"white\",\"zerolinewidth\":2}}},\"xaxis\":{\"anchor\":\"y\",\"domain\":[0.0,1.0],\"title\":{\"text\":\"\\u041a\\u043e\\u043b\\u0438\\u0447\\u0435\\u0441\\u0442\\u0432\\u043e \\u0437\\u0430\\u0432\\u0435\\u0434\\u0435\\u043d\\u0438\\u0439\"}},\"yaxis\":{\"anchor\":\"x\",\"domain\":[0.0,1.0],\"title\":{\"text\":\"\\u0420\\u0430\\u0439\\u043e\\u043d\"}},\"legend\":{\"tracegroupgap\":0},\"margin\":{\"t\":60},\"barmode\":\"relative\",\"height\":800,\"width\":800,\"title\":{\"text\":\"\\u0422\\u041e\\u041f-10 \\u0440\\u0430\\u0439\\u043e\\u043d\\u043e\\u0432 \\u043f\\u043e \\u043a\\u043e\\u043b\\u0438\\u0447\\u0435\\u0441\\u0442\\u0432\\u0443 \\u0437\\u0430\\u0432\\u0435\\u0434\\u0435\\u043d\\u0438\\u0439\",\"x\":0.5}},                        {\"responsive\": true}                    ).then(function(){\n",
       "                            \n",
       "var gd = document.getElementById('c591cb24-6e2a-4fa2-b7ee-0b540bfb3195');\n",
       "var x = new MutationObserver(function (mutations, observer) {{\n",
       "        var display = window.getComputedStyle(gd).display;\n",
       "        if (!display || display === 'none') {{\n",
       "            console.log([gd, 'removed!']);\n",
       "            Plotly.purge(gd);\n",
       "            observer.disconnect();\n",
       "        }}\n",
       "}});\n",
       "\n",
       "// Listen for the removal of the full notebook cells\n",
       "var notebookContainer = gd.closest('#notebook-container');\n",
       "if (notebookContainer) {{\n",
       "    x.observe(notebookContainer, {childList: true});\n",
       "}}\n",
       "\n",
       "// Listen for the clearing of the current output cell\n",
       "var outputEl = gd.closest('.output');\n",
       "if (outputEl) {{\n",
       "    x.observe(outputEl, {childList: true});\n",
       "}}\n",
       "\n",
       "                        })                };                });            </script>        </div>"
      ]
     },
     "metadata": {},
     "output_type": "display_data"
    }
   ],
   "source": [
    "fig = px.bar(\n",
    "    top_10_reg, x='id', y='area', \n",
    "    labels=dict({'area': 'Район', 'id':'Количество заведений'}),\n",
    "    width=800, height=800\n",
    ")\n",
    "fig.update_layout(title_text='ТОП-10 районов по количеству заведений', title_x=0.5)\n",
    "fig.show() "
   ]
  },
  {
   "cell_type": "markdown",
   "metadata": {},
   "source": [
    "### Районы с небольшим количеством заведений"
   ]
  },
  {
   "cell_type": "markdown",
   "metadata": {},
   "source": [
    "Найдем такие улицы, где количество заведений не превышает 1 и на основе полученных данных посмотрим, в каких районах расположены эти улицы:"
   ]
  },
  {
   "cell_type": "code",
   "execution_count": 43,
   "metadata": {},
   "outputs": [
    {
     "data": {
      "text/html": [
       "<div>\n",
       "<style scoped>\n",
       "    .dataframe tbody tr th:only-of-type {\n",
       "        vertical-align: middle;\n",
       "    }\n",
       "\n",
       "    .dataframe tbody tr th {\n",
       "        vertical-align: top;\n",
       "    }\n",
       "\n",
       "    .dataframe thead th {\n",
       "        text-align: right;\n",
       "    }\n",
       "</style>\n",
       "<table border=\"1\" class=\"dataframe\">\n",
       "  <thead>\n",
       "    <tr style=\"text-align: right;\">\n",
       "      <th></th>\n",
       "      <th>street</th>\n",
       "      <th>total</th>\n",
       "      <th>areaid</th>\n",
       "      <th>okrug</th>\n",
       "      <th>area</th>\n",
       "    </tr>\n",
       "  </thead>\n",
       "  <tbody>\n",
       "    <tr>\n",
       "      <th>0</th>\n",
       "      <td>1-й ботанический проезд</td>\n",
       "      <td>1</td>\n",
       "      <td>82.0</td>\n",
       "      <td>СВАО</td>\n",
       "      <td>Район Свиблово</td>\n",
       "    </tr>\n",
       "    <tr>\n",
       "      <th>1</th>\n",
       "      <td>щёлковский проезд</td>\n",
       "      <td>1</td>\n",
       "      <td>35.0</td>\n",
       "      <td>ВАО</td>\n",
       "      <td>Район Северное Измайлово</td>\n",
       "    </tr>\n",
       "    <tr>\n",
       "      <th>2</th>\n",
       "      <td>1-й спасоналивковский переулок</td>\n",
       "      <td>1</td>\n",
       "      <td>21.0</td>\n",
       "      <td>ЦАО</td>\n",
       "      <td>Район Якиманка</td>\n",
       "    </tr>\n",
       "    <tr>\n",
       "      <th>3</th>\n",
       "      <td>ясногорская улица</td>\n",
       "      <td>1</td>\n",
       "      <td>134.0</td>\n",
       "      <td>ЮЗАО</td>\n",
       "      <td>Район Ясенево</td>\n",
       "    </tr>\n",
       "    <tr>\n",
       "      <th>4</th>\n",
       "      <td>улица медиков</td>\n",
       "      <td>1</td>\n",
       "      <td>107.0</td>\n",
       "      <td>ЮАО</td>\n",
       "      <td>Район Царицыно</td>\n",
       "    </tr>\n",
       "    <tr>\n",
       "      <th>...</th>\n",
       "      <td>...</td>\n",
       "      <td>...</td>\n",
       "      <td>...</td>\n",
       "      <td>...</td>\n",
       "      <td>...</td>\n",
       "    </tr>\n",
       "    <tr>\n",
       "      <th>593</th>\n",
       "      <td>улица академика опарина</td>\n",
       "      <td>1</td>\n",
       "      <td>129.0</td>\n",
       "      <td>ЮЗАО</td>\n",
       "      <td>Обручевский район</td>\n",
       "    </tr>\n",
       "    <tr>\n",
       "      <th>594</th>\n",
       "      <td>улица академика павлова</td>\n",
       "      <td>1</td>\n",
       "      <td>40.0</td>\n",
       "      <td>ЗАО</td>\n",
       "      <td>Район Кунцево</td>\n",
       "    </tr>\n",
       "    <tr>\n",
       "      <th>595</th>\n",
       "      <td>улица академика петровского</td>\n",
       "      <td>1</td>\n",
       "      <td>99.0</td>\n",
       "      <td>ЮАО</td>\n",
       "      <td>Донской район</td>\n",
       "    </tr>\n",
       "    <tr>\n",
       "      <th>596</th>\n",
       "      <td>улица академика петровского</td>\n",
       "      <td>1</td>\n",
       "      <td>21.0</td>\n",
       "      <td>ЦАО</td>\n",
       "      <td>Район Якиманка</td>\n",
       "    </tr>\n",
       "    <tr>\n",
       "      <th>597</th>\n",
       "      <td>яхромская улица</td>\n",
       "      <td>1</td>\n",
       "      <td>60.0</td>\n",
       "      <td>САО</td>\n",
       "      <td>Дмитровский район</td>\n",
       "    </tr>\n",
       "  </tbody>\n",
       "</table>\n",
       "<p>598 rows × 5 columns</p>\n",
       "</div>"
      ],
      "text/plain": [
       "                             street  total  areaid okrug  \\\n",
       "0           1-й ботанический проезд      1    82.0  СВАО   \n",
       "1                 щёлковский проезд      1    35.0   ВАО   \n",
       "2    1-й спасоналивковский переулок      1    21.0   ЦАО   \n",
       "3                 ясногорская улица      1   134.0  ЮЗАО   \n",
       "4                     улица медиков      1   107.0   ЮАО   \n",
       "..                              ...    ...     ...   ...   \n",
       "593         улица академика опарина      1   129.0  ЮЗАО   \n",
       "594         улица академика павлова      1    40.0   ЗАО   \n",
       "595     улица академика петровского      1    99.0   ЮАО   \n",
       "596     улица академика петровского      1    21.0   ЦАО   \n",
       "597                 яхромская улица      1    60.0   САО   \n",
       "\n",
       "                         area  \n",
       "0              Район Свиблово  \n",
       "1    Район Северное Измайлово  \n",
       "2              Район Якиманка  \n",
       "3               Район Ясенево  \n",
       "4              Район Царицыно  \n",
       "..                        ...  \n",
       "593         Обручевский район  \n",
       "594             Район Кунцево  \n",
       "595             Донской район  \n",
       "596            Район Якиманка  \n",
       "597         Дмитровский район  \n",
       "\n",
       "[598 rows x 5 columns]"
      ]
     },
     "execution_count": 43,
     "metadata": {},
     "output_type": "execute_result"
    }
   ],
   "source": [
    "temp2 = df.pivot_table(index='street', values='id', aggfunc='count')\\\n",
    "        .sort_values(by='id', ascending=False)\\\n",
    "        .reset_index()\n",
    "temp2 = temp2.rename(columns={\"id\": \"total\"})\n",
    "# и убираем все попавшие несетевые\n",
    "temp2 = temp2[temp2['total'] == 1]\n",
    "temp2 = temp2.merge(region, on='street', how='left')\n",
    "temp2"
   ]
  },
  {
   "cell_type": "markdown",
   "metadata": {},
   "source": [
    "598 улиц, где всего 1 заведение общественного питания. Сгруппируем по районам, чтобы определить где они расположены:"
   ]
  },
  {
   "cell_type": "code",
   "execution_count": 44,
   "metadata": {},
   "outputs": [],
   "source": [
    "temp2 = temp2.pivot_table(index='area', values='street', aggfunc='count')\\\n",
    "        .sort_values(by='street', ascending=False)\\\n",
    "        .reset_index()"
   ]
  },
  {
   "cell_type": "code",
   "execution_count": 45,
   "metadata": {},
   "outputs": [
    {
     "data": {
      "text/html": [
       "<div>\n",
       "<style scoped>\n",
       "    .dataframe tbody tr th:only-of-type {\n",
       "        vertical-align: middle;\n",
       "    }\n",
       "\n",
       "    .dataframe tbody tr th {\n",
       "        vertical-align: top;\n",
       "    }\n",
       "\n",
       "    .dataframe thead th {\n",
       "        text-align: right;\n",
       "    }\n",
       "</style>\n",
       "<table border=\"1\" class=\"dataframe\">\n",
       "  <thead>\n",
       "    <tr style=\"text-align: right;\">\n",
       "      <th></th>\n",
       "      <th>area</th>\n",
       "      <th>street</th>\n",
       "    </tr>\n",
       "  </thead>\n",
       "  <tbody>\n",
       "    <tr>\n",
       "      <th>9</th>\n",
       "      <td>Район Соколиная Гора</td>\n",
       "      <td>12</td>\n",
       "    </tr>\n",
       "    <tr>\n",
       "      <th>8</th>\n",
       "      <td>Район Замоскворечье</td>\n",
       "      <td>14</td>\n",
       "    </tr>\n",
       "    <tr>\n",
       "      <th>7</th>\n",
       "      <td>Мещанский район</td>\n",
       "      <td>16</td>\n",
       "    </tr>\n",
       "    <tr>\n",
       "      <th>5</th>\n",
       "      <td>Район Марьина роща</td>\n",
       "      <td>17</td>\n",
       "    </tr>\n",
       "    <tr>\n",
       "      <th>6</th>\n",
       "      <td>Район Арбат</td>\n",
       "      <td>17</td>\n",
       "    </tr>\n",
       "    <tr>\n",
       "      <th>4</th>\n",
       "      <td>Пресненский район</td>\n",
       "      <td>19</td>\n",
       "    </tr>\n",
       "    <tr>\n",
       "      <th>3</th>\n",
       "      <td>Тверской район</td>\n",
       "      <td>21</td>\n",
       "    </tr>\n",
       "    <tr>\n",
       "      <th>2</th>\n",
       "      <td>Басманный район</td>\n",
       "      <td>25</td>\n",
       "    </tr>\n",
       "    <tr>\n",
       "      <th>0</th>\n",
       "      <td>Таганский район</td>\n",
       "      <td>27</td>\n",
       "    </tr>\n",
       "    <tr>\n",
       "      <th>1</th>\n",
       "      <td>Район Хамовники</td>\n",
       "      <td>27</td>\n",
       "    </tr>\n",
       "  </tbody>\n",
       "</table>\n",
       "</div>"
      ],
      "text/plain": [
       "                   area  street\n",
       "9  Район Соколиная Гора      12\n",
       "8   Район Замоскворечье      14\n",
       "7       Мещанский район      16\n",
       "5    Район Марьина роща      17\n",
       "6           Район Арбат      17\n",
       "4     Пресненский район      19\n",
       "3        Тверской район      21\n",
       "2       Басманный район      25\n",
       "0       Таганский район      27\n",
       "1       Район Хамовники      27"
      ]
     },
     "execution_count": 45,
     "metadata": {},
     "output_type": "execute_result"
    }
   ],
   "source": [
    "temp2 = temp2.head(10)\n",
    "temp2 = temp2.sort_values(by='street')\n",
    "temp2"
   ]
  },
  {
   "cell_type": "code",
   "execution_count": 46,
   "metadata": {},
   "outputs": [
    {
     "data": {
      "application/vnd.plotly.v1+json": {
       "config": {
        "plotlyServerURL": "https://plot.ly"
       },
       "data": [
        {
         "alignmentgroup": "True",
         "hovertemplate": "Количество улиц=%{x}<br>Район=%{y}<extra></extra>",
         "legendgroup": "",
         "marker": {
          "color": "#636efa",
          "pattern": {
           "shape": ""
          }
         },
         "name": "",
         "offsetgroup": "",
         "orientation": "h",
         "showlegend": false,
         "textposition": "auto",
         "type": "bar",
         "x": [
          12,
          14,
          16,
          17,
          17,
          19,
          21,
          25,
          27,
          27
         ],
         "xaxis": "x",
         "y": [
          "Район Соколиная Гора",
          "Район Замоскворечье",
          "Мещанский район",
          "Район Марьина роща",
          "Район Арбат",
          "Пресненский район",
          "Тверской район",
          "Басманный район",
          "Таганский район",
          "Район Хамовники"
         ],
         "yaxis": "y"
        }
       ],
       "layout": {
        "barmode": "relative",
        "height": 800,
        "legend": {
         "tracegroupgap": 0
        },
        "margin": {
         "t": 60
        },
        "template": {
         "data": {
          "bar": [
           {
            "error_x": {
             "color": "#2a3f5f"
            },
            "error_y": {
             "color": "#2a3f5f"
            },
            "marker": {
             "line": {
              "color": "#E5ECF6",
              "width": 0.5
             },
             "pattern": {
              "fillmode": "overlay",
              "size": 10,
              "solidity": 0.2
             }
            },
            "type": "bar"
           }
          ],
          "barpolar": [
           {
            "marker": {
             "line": {
              "color": "#E5ECF6",
              "width": 0.5
             },
             "pattern": {
              "fillmode": "overlay",
              "size": 10,
              "solidity": 0.2
             }
            },
            "type": "barpolar"
           }
          ],
          "carpet": [
           {
            "aaxis": {
             "endlinecolor": "#2a3f5f",
             "gridcolor": "white",
             "linecolor": "white",
             "minorgridcolor": "white",
             "startlinecolor": "#2a3f5f"
            },
            "baxis": {
             "endlinecolor": "#2a3f5f",
             "gridcolor": "white",
             "linecolor": "white",
             "minorgridcolor": "white",
             "startlinecolor": "#2a3f5f"
            },
            "type": "carpet"
           }
          ],
          "choropleth": [
           {
            "colorbar": {
             "outlinewidth": 0,
             "ticks": ""
            },
            "type": "choropleth"
           }
          ],
          "contour": [
           {
            "colorbar": {
             "outlinewidth": 0,
             "ticks": ""
            },
            "colorscale": [
             [
              0,
              "#0d0887"
             ],
             [
              0.1111111111111111,
              "#46039f"
             ],
             [
              0.2222222222222222,
              "#7201a8"
             ],
             [
              0.3333333333333333,
              "#9c179e"
             ],
             [
              0.4444444444444444,
              "#bd3786"
             ],
             [
              0.5555555555555556,
              "#d8576b"
             ],
             [
              0.6666666666666666,
              "#ed7953"
             ],
             [
              0.7777777777777778,
              "#fb9f3a"
             ],
             [
              0.8888888888888888,
              "#fdca26"
             ],
             [
              1,
              "#f0f921"
             ]
            ],
            "type": "contour"
           }
          ],
          "contourcarpet": [
           {
            "colorbar": {
             "outlinewidth": 0,
             "ticks": ""
            },
            "type": "contourcarpet"
           }
          ],
          "heatmap": [
           {
            "colorbar": {
             "outlinewidth": 0,
             "ticks": ""
            },
            "colorscale": [
             [
              0,
              "#0d0887"
             ],
             [
              0.1111111111111111,
              "#46039f"
             ],
             [
              0.2222222222222222,
              "#7201a8"
             ],
             [
              0.3333333333333333,
              "#9c179e"
             ],
             [
              0.4444444444444444,
              "#bd3786"
             ],
             [
              0.5555555555555556,
              "#d8576b"
             ],
             [
              0.6666666666666666,
              "#ed7953"
             ],
             [
              0.7777777777777778,
              "#fb9f3a"
             ],
             [
              0.8888888888888888,
              "#fdca26"
             ],
             [
              1,
              "#f0f921"
             ]
            ],
            "type": "heatmap"
           }
          ],
          "heatmapgl": [
           {
            "colorbar": {
             "outlinewidth": 0,
             "ticks": ""
            },
            "colorscale": [
             [
              0,
              "#0d0887"
             ],
             [
              0.1111111111111111,
              "#46039f"
             ],
             [
              0.2222222222222222,
              "#7201a8"
             ],
             [
              0.3333333333333333,
              "#9c179e"
             ],
             [
              0.4444444444444444,
              "#bd3786"
             ],
             [
              0.5555555555555556,
              "#d8576b"
             ],
             [
              0.6666666666666666,
              "#ed7953"
             ],
             [
              0.7777777777777778,
              "#fb9f3a"
             ],
             [
              0.8888888888888888,
              "#fdca26"
             ],
             [
              1,
              "#f0f921"
             ]
            ],
            "type": "heatmapgl"
           }
          ],
          "histogram": [
           {
            "marker": {
             "pattern": {
              "fillmode": "overlay",
              "size": 10,
              "solidity": 0.2
             }
            },
            "type": "histogram"
           }
          ],
          "histogram2d": [
           {
            "colorbar": {
             "outlinewidth": 0,
             "ticks": ""
            },
            "colorscale": [
             [
              0,
              "#0d0887"
             ],
             [
              0.1111111111111111,
              "#46039f"
             ],
             [
              0.2222222222222222,
              "#7201a8"
             ],
             [
              0.3333333333333333,
              "#9c179e"
             ],
             [
              0.4444444444444444,
              "#bd3786"
             ],
             [
              0.5555555555555556,
              "#d8576b"
             ],
             [
              0.6666666666666666,
              "#ed7953"
             ],
             [
              0.7777777777777778,
              "#fb9f3a"
             ],
             [
              0.8888888888888888,
              "#fdca26"
             ],
             [
              1,
              "#f0f921"
             ]
            ],
            "type": "histogram2d"
           }
          ],
          "histogram2dcontour": [
           {
            "colorbar": {
             "outlinewidth": 0,
             "ticks": ""
            },
            "colorscale": [
             [
              0,
              "#0d0887"
             ],
             [
              0.1111111111111111,
              "#46039f"
             ],
             [
              0.2222222222222222,
              "#7201a8"
             ],
             [
              0.3333333333333333,
              "#9c179e"
             ],
             [
              0.4444444444444444,
              "#bd3786"
             ],
             [
              0.5555555555555556,
              "#d8576b"
             ],
             [
              0.6666666666666666,
              "#ed7953"
             ],
             [
              0.7777777777777778,
              "#fb9f3a"
             ],
             [
              0.8888888888888888,
              "#fdca26"
             ],
             [
              1,
              "#f0f921"
             ]
            ],
            "type": "histogram2dcontour"
           }
          ],
          "mesh3d": [
           {
            "colorbar": {
             "outlinewidth": 0,
             "ticks": ""
            },
            "type": "mesh3d"
           }
          ],
          "parcoords": [
           {
            "line": {
             "colorbar": {
              "outlinewidth": 0,
              "ticks": ""
             }
            },
            "type": "parcoords"
           }
          ],
          "pie": [
           {
            "automargin": true,
            "type": "pie"
           }
          ],
          "scatter": [
           {
            "marker": {
             "colorbar": {
              "outlinewidth": 0,
              "ticks": ""
             }
            },
            "type": "scatter"
           }
          ],
          "scatter3d": [
           {
            "line": {
             "colorbar": {
              "outlinewidth": 0,
              "ticks": ""
             }
            },
            "marker": {
             "colorbar": {
              "outlinewidth": 0,
              "ticks": ""
             }
            },
            "type": "scatter3d"
           }
          ],
          "scattercarpet": [
           {
            "marker": {
             "colorbar": {
              "outlinewidth": 0,
              "ticks": ""
             }
            },
            "type": "scattercarpet"
           }
          ],
          "scattergeo": [
           {
            "marker": {
             "colorbar": {
              "outlinewidth": 0,
              "ticks": ""
             }
            },
            "type": "scattergeo"
           }
          ],
          "scattergl": [
           {
            "marker": {
             "colorbar": {
              "outlinewidth": 0,
              "ticks": ""
             }
            },
            "type": "scattergl"
           }
          ],
          "scattermapbox": [
           {
            "marker": {
             "colorbar": {
              "outlinewidth": 0,
              "ticks": ""
             }
            },
            "type": "scattermapbox"
           }
          ],
          "scatterpolar": [
           {
            "marker": {
             "colorbar": {
              "outlinewidth": 0,
              "ticks": ""
             }
            },
            "type": "scatterpolar"
           }
          ],
          "scatterpolargl": [
           {
            "marker": {
             "colorbar": {
              "outlinewidth": 0,
              "ticks": ""
             }
            },
            "type": "scatterpolargl"
           }
          ],
          "scatterternary": [
           {
            "marker": {
             "colorbar": {
              "outlinewidth": 0,
              "ticks": ""
             }
            },
            "type": "scatterternary"
           }
          ],
          "surface": [
           {
            "colorbar": {
             "outlinewidth": 0,
             "ticks": ""
            },
            "colorscale": [
             [
              0,
              "#0d0887"
             ],
             [
              0.1111111111111111,
              "#46039f"
             ],
             [
              0.2222222222222222,
              "#7201a8"
             ],
             [
              0.3333333333333333,
              "#9c179e"
             ],
             [
              0.4444444444444444,
              "#bd3786"
             ],
             [
              0.5555555555555556,
              "#d8576b"
             ],
             [
              0.6666666666666666,
              "#ed7953"
             ],
             [
              0.7777777777777778,
              "#fb9f3a"
             ],
             [
              0.8888888888888888,
              "#fdca26"
             ],
             [
              1,
              "#f0f921"
             ]
            ],
            "type": "surface"
           }
          ],
          "table": [
           {
            "cells": {
             "fill": {
              "color": "#EBF0F8"
             },
             "line": {
              "color": "white"
             }
            },
            "header": {
             "fill": {
              "color": "#C8D4E3"
             },
             "line": {
              "color": "white"
             }
            },
            "type": "table"
           }
          ]
         },
         "layout": {
          "annotationdefaults": {
           "arrowcolor": "#2a3f5f",
           "arrowhead": 0,
           "arrowwidth": 1
          },
          "autotypenumbers": "strict",
          "coloraxis": {
           "colorbar": {
            "outlinewidth": 0,
            "ticks": ""
           }
          },
          "colorscale": {
           "diverging": [
            [
             0,
             "#8e0152"
            ],
            [
             0.1,
             "#c51b7d"
            ],
            [
             0.2,
             "#de77ae"
            ],
            [
             0.3,
             "#f1b6da"
            ],
            [
             0.4,
             "#fde0ef"
            ],
            [
             0.5,
             "#f7f7f7"
            ],
            [
             0.6,
             "#e6f5d0"
            ],
            [
             0.7,
             "#b8e186"
            ],
            [
             0.8,
             "#7fbc41"
            ],
            [
             0.9,
             "#4d9221"
            ],
            [
             1,
             "#276419"
            ]
           ],
           "sequential": [
            [
             0,
             "#0d0887"
            ],
            [
             0.1111111111111111,
             "#46039f"
            ],
            [
             0.2222222222222222,
             "#7201a8"
            ],
            [
             0.3333333333333333,
             "#9c179e"
            ],
            [
             0.4444444444444444,
             "#bd3786"
            ],
            [
             0.5555555555555556,
             "#d8576b"
            ],
            [
             0.6666666666666666,
             "#ed7953"
            ],
            [
             0.7777777777777778,
             "#fb9f3a"
            ],
            [
             0.8888888888888888,
             "#fdca26"
            ],
            [
             1,
             "#f0f921"
            ]
           ],
           "sequentialminus": [
            [
             0,
             "#0d0887"
            ],
            [
             0.1111111111111111,
             "#46039f"
            ],
            [
             0.2222222222222222,
             "#7201a8"
            ],
            [
             0.3333333333333333,
             "#9c179e"
            ],
            [
             0.4444444444444444,
             "#bd3786"
            ],
            [
             0.5555555555555556,
             "#d8576b"
            ],
            [
             0.6666666666666666,
             "#ed7953"
            ],
            [
             0.7777777777777778,
             "#fb9f3a"
            ],
            [
             0.8888888888888888,
             "#fdca26"
            ],
            [
             1,
             "#f0f921"
            ]
           ]
          },
          "colorway": [
           "#636efa",
           "#EF553B",
           "#00cc96",
           "#ab63fa",
           "#FFA15A",
           "#19d3f3",
           "#FF6692",
           "#B6E880",
           "#FF97FF",
           "#FECB52"
          ],
          "font": {
           "color": "#2a3f5f"
          },
          "geo": {
           "bgcolor": "white",
           "lakecolor": "white",
           "landcolor": "#E5ECF6",
           "showlakes": true,
           "showland": true,
           "subunitcolor": "white"
          },
          "hoverlabel": {
           "align": "left"
          },
          "hovermode": "closest",
          "mapbox": {
           "style": "light"
          },
          "paper_bgcolor": "white",
          "plot_bgcolor": "#E5ECF6",
          "polar": {
           "angularaxis": {
            "gridcolor": "white",
            "linecolor": "white",
            "ticks": ""
           },
           "bgcolor": "#E5ECF6",
           "radialaxis": {
            "gridcolor": "white",
            "linecolor": "white",
            "ticks": ""
           }
          },
          "scene": {
           "xaxis": {
            "backgroundcolor": "#E5ECF6",
            "gridcolor": "white",
            "gridwidth": 2,
            "linecolor": "white",
            "showbackground": true,
            "ticks": "",
            "zerolinecolor": "white"
           },
           "yaxis": {
            "backgroundcolor": "#E5ECF6",
            "gridcolor": "white",
            "gridwidth": 2,
            "linecolor": "white",
            "showbackground": true,
            "ticks": "",
            "zerolinecolor": "white"
           },
           "zaxis": {
            "backgroundcolor": "#E5ECF6",
            "gridcolor": "white",
            "gridwidth": 2,
            "linecolor": "white",
            "showbackground": true,
            "ticks": "",
            "zerolinecolor": "white"
           }
          },
          "shapedefaults": {
           "line": {
            "color": "#2a3f5f"
           }
          },
          "ternary": {
           "aaxis": {
            "gridcolor": "white",
            "linecolor": "white",
            "ticks": ""
           },
           "baxis": {
            "gridcolor": "white",
            "linecolor": "white",
            "ticks": ""
           },
           "bgcolor": "#E5ECF6",
           "caxis": {
            "gridcolor": "white",
            "linecolor": "white",
            "ticks": ""
           }
          },
          "title": {
           "x": 0.05
          },
          "xaxis": {
           "automargin": true,
           "gridcolor": "white",
           "linecolor": "white",
           "ticks": "",
           "title": {
            "standoff": 15
           },
           "zerolinecolor": "white",
           "zerolinewidth": 2
          },
          "yaxis": {
           "automargin": true,
           "gridcolor": "white",
           "linecolor": "white",
           "ticks": "",
           "title": {
            "standoff": 15
           },
           "zerolinecolor": "white",
           "zerolinewidth": 2
          }
         }
        },
        "title": {
         "text": "ТОП-10 районов, в котором есть улицы с 1 заведением",
         "x": 0.5
        },
        "width": 800,
        "xaxis": {
         "anchor": "y",
         "domain": [
          0,
          1
         ],
         "title": {
          "text": "Количество улиц"
         }
        },
        "yaxis": {
         "anchor": "x",
         "domain": [
          0,
          1
         ],
         "title": {
          "text": "Район"
         }
        }
       }
      },
      "text/html": [
       "<div>                            <div id=\"9dee24b4-468a-4657-b42f-892ba13fad5e\" class=\"plotly-graph-div\" style=\"height:800px; width:800px;\"></div>            <script type=\"text/javascript\">                require([\"plotly\"], function(Plotly) {                    window.PLOTLYENV=window.PLOTLYENV || {};                                    if (document.getElementById(\"9dee24b4-468a-4657-b42f-892ba13fad5e\")) {                    Plotly.newPlot(                        \"9dee24b4-468a-4657-b42f-892ba13fad5e\",                        [{\"alignmentgroup\":\"True\",\"hovertemplate\":\"\\u041a\\u043e\\u043b\\u0438\\u0447\\u0435\\u0441\\u0442\\u0432\\u043e \\u0443\\u043b\\u0438\\u0446=%{x}<br>\\u0420\\u0430\\u0439\\u043e\\u043d=%{y}<extra></extra>\",\"legendgroup\":\"\",\"marker\":{\"color\":\"#636efa\",\"pattern\":{\"shape\":\"\"}},\"name\":\"\",\"offsetgroup\":\"\",\"orientation\":\"h\",\"showlegend\":false,\"textposition\":\"auto\",\"x\":[12,14,16,17,17,19,21,25,27,27],\"xaxis\":\"x\",\"y\":[\"\\u0420\\u0430\\u0439\\u043e\\u043d \\u0421\\u043e\\u043a\\u043e\\u043b\\u0438\\u043d\\u0430\\u044f \\u0413\\u043e\\u0440\\u0430\",\"\\u0420\\u0430\\u0439\\u043e\\u043d \\u0417\\u0430\\u043c\\u043e\\u0441\\u043a\\u0432\\u043e\\u0440\\u0435\\u0447\\u044c\\u0435\",\"\\u041c\\u0435\\u0449\\u0430\\u043d\\u0441\\u043a\\u0438\\u0439 \\u0440\\u0430\\u0439\\u043e\\u043d\",\"\\u0420\\u0430\\u0439\\u043e\\u043d \\u041c\\u0430\\u0440\\u044c\\u0438\\u043d\\u0430 \\u0440\\u043e\\u0449\\u0430\",\"\\u0420\\u0430\\u0439\\u043e\\u043d \\u0410\\u0440\\u0431\\u0430\\u0442\",\"\\u041f\\u0440\\u0435\\u0441\\u043d\\u0435\\u043d\\u0441\\u043a\\u0438\\u0439 \\u0440\\u0430\\u0439\\u043e\\u043d\",\"\\u0422\\u0432\\u0435\\u0440\\u0441\\u043a\\u043e\\u0439 \\u0440\\u0430\\u0439\\u043e\\u043d\",\"\\u0411\\u0430\\u0441\\u043c\\u0430\\u043d\\u043d\\u044b\\u0439 \\u0440\\u0430\\u0439\\u043e\\u043d\",\"\\u0422\\u0430\\u0433\\u0430\\u043d\\u0441\\u043a\\u0438\\u0439 \\u0440\\u0430\\u0439\\u043e\\u043d\",\"\\u0420\\u0430\\u0439\\u043e\\u043d \\u0425\\u0430\\u043c\\u043e\\u0432\\u043d\\u0438\\u043a\\u0438\"],\"yaxis\":\"y\",\"type\":\"bar\"}],                        {\"template\":{\"data\":{\"bar\":[{\"error_x\":{\"color\":\"#2a3f5f\"},\"error_y\":{\"color\":\"#2a3f5f\"},\"marker\":{\"line\":{\"color\":\"#E5ECF6\",\"width\":0.5},\"pattern\":{\"fillmode\":\"overlay\",\"size\":10,\"solidity\":0.2}},\"type\":\"bar\"}],\"barpolar\":[{\"marker\":{\"line\":{\"color\":\"#E5ECF6\",\"width\":0.5},\"pattern\":{\"fillmode\":\"overlay\",\"size\":10,\"solidity\":0.2}},\"type\":\"barpolar\"}],\"carpet\":[{\"aaxis\":{\"endlinecolor\":\"#2a3f5f\",\"gridcolor\":\"white\",\"linecolor\":\"white\",\"minorgridcolor\":\"white\",\"startlinecolor\":\"#2a3f5f\"},\"baxis\":{\"endlinecolor\":\"#2a3f5f\",\"gridcolor\":\"white\",\"linecolor\":\"white\",\"minorgridcolor\":\"white\",\"startlinecolor\":\"#2a3f5f\"},\"type\":\"carpet\"}],\"choropleth\":[{\"colorbar\":{\"outlinewidth\":0,\"ticks\":\"\"},\"type\":\"choropleth\"}],\"contour\":[{\"colorbar\":{\"outlinewidth\":0,\"ticks\":\"\"},\"colorscale\":[[0.0,\"#0d0887\"],[0.1111111111111111,\"#46039f\"],[0.2222222222222222,\"#7201a8\"],[0.3333333333333333,\"#9c179e\"],[0.4444444444444444,\"#bd3786\"],[0.5555555555555556,\"#d8576b\"],[0.6666666666666666,\"#ed7953\"],[0.7777777777777778,\"#fb9f3a\"],[0.8888888888888888,\"#fdca26\"],[1.0,\"#f0f921\"]],\"type\":\"contour\"}],\"contourcarpet\":[{\"colorbar\":{\"outlinewidth\":0,\"ticks\":\"\"},\"type\":\"contourcarpet\"}],\"heatmap\":[{\"colorbar\":{\"outlinewidth\":0,\"ticks\":\"\"},\"colorscale\":[[0.0,\"#0d0887\"],[0.1111111111111111,\"#46039f\"],[0.2222222222222222,\"#7201a8\"],[0.3333333333333333,\"#9c179e\"],[0.4444444444444444,\"#bd3786\"],[0.5555555555555556,\"#d8576b\"],[0.6666666666666666,\"#ed7953\"],[0.7777777777777778,\"#fb9f3a\"],[0.8888888888888888,\"#fdca26\"],[1.0,\"#f0f921\"]],\"type\":\"heatmap\"}],\"heatmapgl\":[{\"colorbar\":{\"outlinewidth\":0,\"ticks\":\"\"},\"colorscale\":[[0.0,\"#0d0887\"],[0.1111111111111111,\"#46039f\"],[0.2222222222222222,\"#7201a8\"],[0.3333333333333333,\"#9c179e\"],[0.4444444444444444,\"#bd3786\"],[0.5555555555555556,\"#d8576b\"],[0.6666666666666666,\"#ed7953\"],[0.7777777777777778,\"#fb9f3a\"],[0.8888888888888888,\"#fdca26\"],[1.0,\"#f0f921\"]],\"type\":\"heatmapgl\"}],\"histogram\":[{\"marker\":{\"pattern\":{\"fillmode\":\"overlay\",\"size\":10,\"solidity\":0.2}},\"type\":\"histogram\"}],\"histogram2d\":[{\"colorbar\":{\"outlinewidth\":0,\"ticks\":\"\"},\"colorscale\":[[0.0,\"#0d0887\"],[0.1111111111111111,\"#46039f\"],[0.2222222222222222,\"#7201a8\"],[0.3333333333333333,\"#9c179e\"],[0.4444444444444444,\"#bd3786\"],[0.5555555555555556,\"#d8576b\"],[0.6666666666666666,\"#ed7953\"],[0.7777777777777778,\"#fb9f3a\"],[0.8888888888888888,\"#fdca26\"],[1.0,\"#f0f921\"]],\"type\":\"histogram2d\"}],\"histogram2dcontour\":[{\"colorbar\":{\"outlinewidth\":0,\"ticks\":\"\"},\"colorscale\":[[0.0,\"#0d0887\"],[0.1111111111111111,\"#46039f\"],[0.2222222222222222,\"#7201a8\"],[0.3333333333333333,\"#9c179e\"],[0.4444444444444444,\"#bd3786\"],[0.5555555555555556,\"#d8576b\"],[0.6666666666666666,\"#ed7953\"],[0.7777777777777778,\"#fb9f3a\"],[0.8888888888888888,\"#fdca26\"],[1.0,\"#f0f921\"]],\"type\":\"histogram2dcontour\"}],\"mesh3d\":[{\"colorbar\":{\"outlinewidth\":0,\"ticks\":\"\"},\"type\":\"mesh3d\"}],\"parcoords\":[{\"line\":{\"colorbar\":{\"outlinewidth\":0,\"ticks\":\"\"}},\"type\":\"parcoords\"}],\"pie\":[{\"automargin\":true,\"type\":\"pie\"}],\"scatter\":[{\"marker\":{\"colorbar\":{\"outlinewidth\":0,\"ticks\":\"\"}},\"type\":\"scatter\"}],\"scatter3d\":[{\"line\":{\"colorbar\":{\"outlinewidth\":0,\"ticks\":\"\"}},\"marker\":{\"colorbar\":{\"outlinewidth\":0,\"ticks\":\"\"}},\"type\":\"scatter3d\"}],\"scattercarpet\":[{\"marker\":{\"colorbar\":{\"outlinewidth\":0,\"ticks\":\"\"}},\"type\":\"scattercarpet\"}],\"scattergeo\":[{\"marker\":{\"colorbar\":{\"outlinewidth\":0,\"ticks\":\"\"}},\"type\":\"scattergeo\"}],\"scattergl\":[{\"marker\":{\"colorbar\":{\"outlinewidth\":0,\"ticks\":\"\"}},\"type\":\"scattergl\"}],\"scattermapbox\":[{\"marker\":{\"colorbar\":{\"outlinewidth\":0,\"ticks\":\"\"}},\"type\":\"scattermapbox\"}],\"scatterpolar\":[{\"marker\":{\"colorbar\":{\"outlinewidth\":0,\"ticks\":\"\"}},\"type\":\"scatterpolar\"}],\"scatterpolargl\":[{\"marker\":{\"colorbar\":{\"outlinewidth\":0,\"ticks\":\"\"}},\"type\":\"scatterpolargl\"}],\"scatterternary\":[{\"marker\":{\"colorbar\":{\"outlinewidth\":0,\"ticks\":\"\"}},\"type\":\"scatterternary\"}],\"surface\":[{\"colorbar\":{\"outlinewidth\":0,\"ticks\":\"\"},\"colorscale\":[[0.0,\"#0d0887\"],[0.1111111111111111,\"#46039f\"],[0.2222222222222222,\"#7201a8\"],[0.3333333333333333,\"#9c179e\"],[0.4444444444444444,\"#bd3786\"],[0.5555555555555556,\"#d8576b\"],[0.6666666666666666,\"#ed7953\"],[0.7777777777777778,\"#fb9f3a\"],[0.8888888888888888,\"#fdca26\"],[1.0,\"#f0f921\"]],\"type\":\"surface\"}],\"table\":[{\"cells\":{\"fill\":{\"color\":\"#EBF0F8\"},\"line\":{\"color\":\"white\"}},\"header\":{\"fill\":{\"color\":\"#C8D4E3\"},\"line\":{\"color\":\"white\"}},\"type\":\"table\"}]},\"layout\":{\"annotationdefaults\":{\"arrowcolor\":\"#2a3f5f\",\"arrowhead\":0,\"arrowwidth\":1},\"autotypenumbers\":\"strict\",\"coloraxis\":{\"colorbar\":{\"outlinewidth\":0,\"ticks\":\"\"}},\"colorscale\":{\"diverging\":[[0,\"#8e0152\"],[0.1,\"#c51b7d\"],[0.2,\"#de77ae\"],[0.3,\"#f1b6da\"],[0.4,\"#fde0ef\"],[0.5,\"#f7f7f7\"],[0.6,\"#e6f5d0\"],[0.7,\"#b8e186\"],[0.8,\"#7fbc41\"],[0.9,\"#4d9221\"],[1,\"#276419\"]],\"sequential\":[[0.0,\"#0d0887\"],[0.1111111111111111,\"#46039f\"],[0.2222222222222222,\"#7201a8\"],[0.3333333333333333,\"#9c179e\"],[0.4444444444444444,\"#bd3786\"],[0.5555555555555556,\"#d8576b\"],[0.6666666666666666,\"#ed7953\"],[0.7777777777777778,\"#fb9f3a\"],[0.8888888888888888,\"#fdca26\"],[1.0,\"#f0f921\"]],\"sequentialminus\":[[0.0,\"#0d0887\"],[0.1111111111111111,\"#46039f\"],[0.2222222222222222,\"#7201a8\"],[0.3333333333333333,\"#9c179e\"],[0.4444444444444444,\"#bd3786\"],[0.5555555555555556,\"#d8576b\"],[0.6666666666666666,\"#ed7953\"],[0.7777777777777778,\"#fb9f3a\"],[0.8888888888888888,\"#fdca26\"],[1.0,\"#f0f921\"]]},\"colorway\":[\"#636efa\",\"#EF553B\",\"#00cc96\",\"#ab63fa\",\"#FFA15A\",\"#19d3f3\",\"#FF6692\",\"#B6E880\",\"#FF97FF\",\"#FECB52\"],\"font\":{\"color\":\"#2a3f5f\"},\"geo\":{\"bgcolor\":\"white\",\"lakecolor\":\"white\",\"landcolor\":\"#E5ECF6\",\"showlakes\":true,\"showland\":true,\"subunitcolor\":\"white\"},\"hoverlabel\":{\"align\":\"left\"},\"hovermode\":\"closest\",\"mapbox\":{\"style\":\"light\"},\"paper_bgcolor\":\"white\",\"plot_bgcolor\":\"#E5ECF6\",\"polar\":{\"angularaxis\":{\"gridcolor\":\"white\",\"linecolor\":\"white\",\"ticks\":\"\"},\"bgcolor\":\"#E5ECF6\",\"radialaxis\":{\"gridcolor\":\"white\",\"linecolor\":\"white\",\"ticks\":\"\"}},\"scene\":{\"xaxis\":{\"backgroundcolor\":\"#E5ECF6\",\"gridcolor\":\"white\",\"gridwidth\":2,\"linecolor\":\"white\",\"showbackground\":true,\"ticks\":\"\",\"zerolinecolor\":\"white\"},\"yaxis\":{\"backgroundcolor\":\"#E5ECF6\",\"gridcolor\":\"white\",\"gridwidth\":2,\"linecolor\":\"white\",\"showbackground\":true,\"ticks\":\"\",\"zerolinecolor\":\"white\"},\"zaxis\":{\"backgroundcolor\":\"#E5ECF6\",\"gridcolor\":\"white\",\"gridwidth\":2,\"linecolor\":\"white\",\"showbackground\":true,\"ticks\":\"\",\"zerolinecolor\":\"white\"}},\"shapedefaults\":{\"line\":{\"color\":\"#2a3f5f\"}},\"ternary\":{\"aaxis\":{\"gridcolor\":\"white\",\"linecolor\":\"white\",\"ticks\":\"\"},\"baxis\":{\"gridcolor\":\"white\",\"linecolor\":\"white\",\"ticks\":\"\"},\"bgcolor\":\"#E5ECF6\",\"caxis\":{\"gridcolor\":\"white\",\"linecolor\":\"white\",\"ticks\":\"\"}},\"title\":{\"x\":0.05},\"xaxis\":{\"automargin\":true,\"gridcolor\":\"white\",\"linecolor\":\"white\",\"ticks\":\"\",\"title\":{\"standoff\":15},\"zerolinecolor\":\"white\",\"zerolinewidth\":2},\"yaxis\":{\"automargin\":true,\"gridcolor\":\"white\",\"linecolor\":\"white\",\"ticks\":\"\",\"title\":{\"standoff\":15},\"zerolinecolor\":\"white\",\"zerolinewidth\":2}}},\"xaxis\":{\"anchor\":\"y\",\"domain\":[0.0,1.0],\"title\":{\"text\":\"\\u041a\\u043e\\u043b\\u0438\\u0447\\u0435\\u0441\\u0442\\u0432\\u043e \\u0443\\u043b\\u0438\\u0446\"}},\"yaxis\":{\"anchor\":\"x\",\"domain\":[0.0,1.0],\"title\":{\"text\":\"\\u0420\\u0430\\u0439\\u043e\\u043d\"}},\"legend\":{\"tracegroupgap\":0},\"margin\":{\"t\":60},\"barmode\":\"relative\",\"height\":800,\"width\":800,\"title\":{\"text\":\"\\u0422\\u041e\\u041f-10 \\u0440\\u0430\\u0439\\u043e\\u043d\\u043e\\u0432, \\u0432 \\u043a\\u043e\\u0442\\u043e\\u0440\\u043e\\u043c \\u0435\\u0441\\u0442\\u044c \\u0443\\u043b\\u0438\\u0446\\u044b \\u0441 1 \\u0437\\u0430\\u0432\\u0435\\u0434\\u0435\\u043d\\u0438\\u0435\\u043c\",\"x\":0.5}},                        {\"responsive\": true}                    ).then(function(){\n",
       "                            \n",
       "var gd = document.getElementById('9dee24b4-468a-4657-b42f-892ba13fad5e');\n",
       "var x = new MutationObserver(function (mutations, observer) {{\n",
       "        var display = window.getComputedStyle(gd).display;\n",
       "        if (!display || display === 'none') {{\n",
       "            console.log([gd, 'removed!']);\n",
       "            Plotly.purge(gd);\n",
       "            observer.disconnect();\n",
       "        }}\n",
       "}});\n",
       "\n",
       "// Listen for the removal of the full notebook cells\n",
       "var notebookContainer = gd.closest('#notebook-container');\n",
       "if (notebookContainer) {{\n",
       "    x.observe(notebookContainer, {childList: true});\n",
       "}}\n",
       "\n",
       "// Listen for the clearing of the current output cell\n",
       "var outputEl = gd.closest('.output');\n",
       "if (outputEl) {{\n",
       "    x.observe(outputEl, {childList: true});\n",
       "}}\n",
       "\n",
       "                        })                };                });            </script>        </div>"
      ]
     },
     "metadata": {},
     "output_type": "display_data"
    }
   ],
   "source": [
    "fig = px.bar(\n",
    "    temp2, x='street', y='area', \n",
    "    labels=dict({'area': 'Район', 'street':'Количество улиц'}),\n",
    "    width=800, height=800\n",
    ")\n",
    "fig.update_layout(title_text='ТОП-10 районов, в котором есть улицы с 1 заведением', title_x=0.5)\n",
    "fig.show() "
   ]
  },
  {
   "cell_type": "markdown",
   "metadata": {},
   "source": [
    "## Вывод"
   ]
  },
  {
   "cell_type": "markdown",
   "metadata": {},
   "source": [
    "Мы провели большое исследование рынка объектов общественного питания в Москве и можем заключить следующее:\n",
    "- В москве очень большее количество предприятий общественного питания, большую часть из которых занимают несетевые компании. В Москве их отношение к сетевым примерно 80/20%.\n",
    "- Самыми популярными являются кафе, столовые, рестораны и предприятия быстрого питания.\n",
    "- Самыми популярными среди несетевых объектов являются кафе, столовые и предприятия быстрого питания, а среди сетевых - кафе, рестораны и предприятия быстрого питания.\n",
    "- Для сетевых заведений характерно малое количество заведений (меньше 3-х) с большим количеством посадочных мест - более 66.\n",
    "- Среднее значение посадочных мест в Москве по всем заведениям - 50 мест, самое большое количество посадочных мест в столовых - порядка 115, меньше всего в отделах кулинарии в магазинах, там в среднем 5-6 посадочных мест.\n",
    "- Мы также определили что больше всего заведений общественного питания расположено на Проспекте мира, также в ТОП-10 вошли Профсоюзная улица, Ленинградский проспект и Пресненская набережная.\n",
    "- Самая большая концентрация заведений общественного питания собрана в Тверском районе - 1107 заведений,  Пресненском районе -771 заведений и  Басманном районе - 697 заведений.\n",
    "- Также мы провели исследование улиц, где меньше всего предприятий общественного питания и определили районы, в которых таких улиц больше всего - это Басманный район, Таганский район, Район Хамовники. \n",
    "\n",
    "В рекомендации бизнесу я бы предложил рассмотреть вариант с открытием кафе, или предприятия быстрого питания, в одном из районов, где есть много заведений общепита - Тверской, Пресненский или Басманный. Количество посадочных мест должно быть порядка 40- 66 или более. В случе успеха предприятия, то можно будет переключиться на формат предприятий быстрого питания и расширить сеть внутри этих трех районов. \n",
    "Стоит подробнее изучить таблицу с улицами, где лишь одно предприятие общественного питания, на это могут быть причины - например низкая проходимость, дорогая аренда и тд. На этих улицах я бы не рекомендовал открывать пилотное заведение с официантами-роботами.\n",
    "\n"
   ]
  }
 ],
 "metadata": {
  "ExecuteTimeLog": [
   {
    "duration": 559,
    "start_time": "2022-08-02T06:42:26.837Z"
   },
   {
    "duration": 148,
    "start_time": "2022-08-02T06:42:34.646Z"
   },
   {
    "duration": 25,
    "start_time": "2022-08-02T06:42:38.774Z"
   },
   {
    "duration": 23,
    "start_time": "2022-08-02T06:42:54.537Z"
   },
   {
    "duration": 23,
    "start_time": "2022-08-02T06:43:14.221Z"
   },
   {
    "duration": 11,
    "start_time": "2022-08-02T06:43:49.645Z"
   },
   {
    "duration": 427,
    "start_time": "2022-08-02T08:36:07.539Z"
   },
   {
    "duration": 1289,
    "start_time": "2022-08-02T08:36:30.866Z"
   },
   {
    "duration": 78,
    "start_time": "2022-08-02T08:37:45.138Z"
   },
   {
    "duration": 116,
    "start_time": "2022-08-02T08:40:33.765Z"
   },
   {
    "duration": 63,
    "start_time": "2022-08-02T08:40:49.397Z"
   },
   {
    "duration": 6,
    "start_time": "2022-08-02T08:53:17.379Z"
   },
   {
    "duration": 14,
    "start_time": "2022-08-02T08:58:37.143Z"
   },
   {
    "duration": 13,
    "start_time": "2022-08-02T08:59:07.868Z"
   },
   {
    "duration": 38,
    "start_time": "2022-08-02T08:59:12.809Z"
   },
   {
    "duration": 13,
    "start_time": "2022-08-02T08:59:17.659Z"
   },
   {
    "duration": 14,
    "start_time": "2022-08-02T08:59:24.258Z"
   },
   {
    "duration": 11,
    "start_time": "2022-08-02T08:59:32.953Z"
   },
   {
    "duration": 8,
    "start_time": "2022-08-02T08:59:40.266Z"
   },
   {
    "duration": 130,
    "start_time": "2022-08-02T09:00:02.947Z"
   },
   {
    "duration": 13,
    "start_time": "2022-08-02T09:00:05.539Z"
   },
   {
    "duration": 11,
    "start_time": "2022-08-02T09:00:18.993Z"
   },
   {
    "duration": 9,
    "start_time": "2022-08-02T09:00:23.574Z"
   },
   {
    "duration": 18,
    "start_time": "2022-08-02T09:01:28.375Z"
   },
   {
    "duration": 1458,
    "start_time": "2022-08-02T09:01:33.107Z"
   },
   {
    "duration": 83,
    "start_time": "2022-08-02T09:01:34.568Z"
   },
   {
    "duration": 59,
    "start_time": "2022-08-02T09:01:34.653Z"
   },
   {
    "duration": 30,
    "start_time": "2022-08-02T09:01:34.719Z"
   },
   {
    "duration": 9,
    "start_time": "2022-08-02T09:01:34.752Z"
   },
   {
    "duration": 13,
    "start_time": "2022-08-02T09:02:16.078Z"
   },
   {
    "duration": 8,
    "start_time": "2022-08-02T09:03:03.676Z"
   },
   {
    "duration": 17,
    "start_time": "2022-08-02T09:03:10.484Z"
   },
   {
    "duration": 15,
    "start_time": "2022-08-02T09:03:23.675Z"
   },
   {
    "duration": 13,
    "start_time": "2022-08-02T09:08:09.202Z"
   },
   {
    "duration": 6,
    "start_time": "2022-08-02T09:08:57.684Z"
   },
   {
    "duration": 114,
    "start_time": "2022-08-02T09:09:31.337Z"
   },
   {
    "duration": 5,
    "start_time": "2022-08-02T09:10:10.980Z"
   },
   {
    "duration": 6,
    "start_time": "2022-08-02T09:13:54.188Z"
   },
   {
    "duration": 9,
    "start_time": "2022-08-02T09:13:58.037Z"
   },
   {
    "duration": 1913,
    "start_time": "2022-08-02T09:19:40.143Z"
   },
   {
    "duration": 8,
    "start_time": "2022-08-02T09:19:46.989Z"
   },
   {
    "duration": 14,
    "start_time": "2022-08-02T09:20:19.043Z"
   },
   {
    "duration": 7,
    "start_time": "2022-08-02T09:20:23.103Z"
   },
   {
    "duration": 21,
    "start_time": "2022-08-02T09:20:46.783Z"
   },
   {
    "duration": 78,
    "start_time": "2022-08-02T09:23:35.284Z"
   },
   {
    "duration": 35,
    "start_time": "2022-08-02T09:23:57.083Z"
   },
   {
    "duration": 91,
    "start_time": "2022-08-02T09:25:06.182Z"
   },
   {
    "duration": 1355,
    "start_time": "2022-08-02T09:25:12.785Z"
   },
   {
    "duration": 81,
    "start_time": "2022-08-02T09:25:14.142Z"
   },
   {
    "duration": 52,
    "start_time": "2022-08-02T09:25:14.227Z"
   },
   {
    "duration": 12,
    "start_time": "2022-08-02T09:25:14.281Z"
   },
   {
    "duration": 32,
    "start_time": "2022-08-02T09:25:14.295Z"
   },
   {
    "duration": 7,
    "start_time": "2022-08-02T09:25:14.330Z"
   },
   {
    "duration": 6,
    "start_time": "2022-08-02T09:25:14.339Z"
   },
   {
    "duration": 6,
    "start_time": "2022-08-02T09:25:14.347Z"
   },
   {
    "duration": 24,
    "start_time": "2022-08-02T09:25:14.355Z"
   },
   {
    "duration": 81,
    "start_time": "2022-08-02T09:25:14.381Z"
   },
   {
    "duration": 39,
    "start_time": "2022-08-02T09:25:25.258Z"
   },
   {
    "duration": 124,
    "start_time": "2022-08-02T09:27:57.852Z"
   },
   {
    "duration": 158,
    "start_time": "2022-08-02T09:28:20.794Z"
   },
   {
    "duration": 7,
    "start_time": "2022-08-02T09:29:18.976Z"
   },
   {
    "duration": 149,
    "start_time": "2022-08-02T09:30:39.186Z"
   },
   {
    "duration": 140,
    "start_time": "2022-08-02T09:30:45.032Z"
   },
   {
    "duration": 7,
    "start_time": "2022-08-02T09:30:47.599Z"
   },
   {
    "duration": 7,
    "start_time": "2022-08-02T09:30:56.094Z"
   },
   {
    "duration": 7,
    "start_time": "2022-08-02T09:31:56.044Z"
   },
   {
    "duration": 5,
    "start_time": "2022-08-02T09:31:59.546Z"
   },
   {
    "duration": 6,
    "start_time": "2022-08-02T09:32:11.159Z"
   },
   {
    "duration": 6,
    "start_time": "2022-08-02T09:32:21.633Z"
   },
   {
    "duration": 7,
    "start_time": "2022-08-02T09:34:25.471Z"
   },
   {
    "duration": 6,
    "start_time": "2022-08-02T09:35:17.194Z"
   },
   {
    "duration": 6,
    "start_time": "2022-08-02T09:35:22.288Z"
   },
   {
    "duration": 5,
    "start_time": "2022-08-02T09:35:25.501Z"
   },
   {
    "duration": 6,
    "start_time": "2022-08-02T09:35:33.690Z"
   },
   {
    "duration": 145,
    "start_time": "2022-08-02T09:36:54.931Z"
   },
   {
    "duration": 23,
    "start_time": "2022-08-02T09:36:59.031Z"
   },
   {
    "duration": 12,
    "start_time": "2022-08-02T09:39:43.932Z"
   },
   {
    "duration": 13,
    "start_time": "2022-08-02T09:39:49.370Z"
   },
   {
    "duration": 13,
    "start_time": "2022-08-02T09:39:52.490Z"
   },
   {
    "duration": 19,
    "start_time": "2022-08-02T09:40:07.069Z"
   },
   {
    "duration": 20,
    "start_time": "2022-08-02T09:40:11.899Z"
   },
   {
    "duration": 23,
    "start_time": "2022-08-02T09:42:36.624Z"
   },
   {
    "duration": 484,
    "start_time": "2022-08-02T09:42:49.833Z"
   },
   {
    "duration": 16,
    "start_time": "2022-08-02T09:43:30.467Z"
   },
   {
    "duration": 15,
    "start_time": "2022-08-02T09:43:33.772Z"
   },
   {
    "duration": 51,
    "start_time": "2022-08-02T09:43:34.833Z"
   },
   {
    "duration": 69,
    "start_time": "2022-08-02T09:43:58.096Z"
   },
   {
    "duration": 144,
    "start_time": "2022-08-02T09:44:36.333Z"
   },
   {
    "duration": 62,
    "start_time": "2022-08-02T09:44:48.346Z"
   },
   {
    "duration": 14,
    "start_time": "2022-08-02T09:45:00.982Z"
   },
   {
    "duration": 54,
    "start_time": "2022-08-02T09:45:04.548Z"
   },
   {
    "duration": 196,
    "start_time": "2022-08-02T09:46:29.166Z"
   },
   {
    "duration": 215,
    "start_time": "2022-08-02T09:46:37.235Z"
   },
   {
    "duration": 60,
    "start_time": "2022-08-02T09:49:14.414Z"
   },
   {
    "duration": 57,
    "start_time": "2022-08-02T09:49:22.492Z"
   },
   {
    "duration": 19,
    "start_time": "2022-08-02T09:49:52.969Z"
   },
   {
    "duration": 55,
    "start_time": "2022-08-02T09:50:32.741Z"
   },
   {
    "duration": 13,
    "start_time": "2022-08-02T09:50:58.774Z"
   },
   {
    "duration": 50,
    "start_time": "2022-08-02T09:51:06.242Z"
   },
   {
    "duration": 50,
    "start_time": "2022-08-02T10:03:52.455Z"
   },
   {
    "duration": 55,
    "start_time": "2022-08-02T10:04:59.794Z"
   },
   {
    "duration": 52,
    "start_time": "2022-08-02T10:05:08.238Z"
   },
   {
    "duration": 58,
    "start_time": "2022-08-02T10:05:30.372Z"
   },
   {
    "duration": 56,
    "start_time": "2022-08-02T10:07:30.140Z"
   },
   {
    "duration": 86,
    "start_time": "2022-08-02T10:07:47.550Z"
   },
   {
    "duration": 14,
    "start_time": "2022-08-02T10:08:25.384Z"
   },
   {
    "duration": 90,
    "start_time": "2022-08-02T10:08:28.958Z"
   },
   {
    "duration": 55,
    "start_time": "2022-08-02T10:08:32.386Z"
   },
   {
    "duration": 14,
    "start_time": "2022-08-02T10:10:13.978Z"
   },
   {
    "duration": 54,
    "start_time": "2022-08-02T10:10:42.040Z"
   },
   {
    "duration": 351,
    "start_time": "2022-08-02T10:11:08.936Z"
   },
   {
    "duration": 16,
    "start_time": "2022-08-02T10:11:59.449Z"
   },
   {
    "duration": 174,
    "start_time": "2022-08-02T10:14:55.354Z"
   },
   {
    "duration": 51,
    "start_time": "2022-08-02T10:15:13.884Z"
   },
   {
    "duration": 10,
    "start_time": "2022-08-02T10:15:58.154Z"
   },
   {
    "duration": 14,
    "start_time": "2022-08-02T10:16:00.849Z"
   },
   {
    "duration": 15,
    "start_time": "2022-08-02T10:16:20.549Z"
   },
   {
    "duration": 63,
    "start_time": "2022-08-02T10:18:33.274Z"
   },
   {
    "duration": 54,
    "start_time": "2022-08-02T10:19:46.015Z"
   },
   {
    "duration": 55,
    "start_time": "2022-08-02T10:19:59.802Z"
   },
   {
    "duration": 37,
    "start_time": "2022-08-02T10:23:48.956Z"
   },
   {
    "duration": 100,
    "start_time": "2022-08-02T10:24:50.975Z"
   },
   {
    "duration": 38,
    "start_time": "2022-08-02T10:24:54.968Z"
   },
   {
    "duration": 39,
    "start_time": "2022-08-02T10:25:56.004Z"
   },
   {
    "duration": 81,
    "start_time": "2022-08-02T10:26:32.465Z"
   },
   {
    "duration": 64,
    "start_time": "2022-08-02T10:27:01.306Z"
   },
   {
    "duration": 41,
    "start_time": "2022-08-02T10:27:17.986Z"
   },
   {
    "duration": 81,
    "start_time": "2022-08-02T10:27:54.945Z"
   },
   {
    "duration": 87,
    "start_time": "2022-08-02T10:28:00.099Z"
   },
   {
    "duration": 19,
    "start_time": "2022-08-02T10:28:11.946Z"
   },
   {
    "duration": 12,
    "start_time": "2022-08-02T10:28:17.257Z"
   },
   {
    "duration": 14,
    "start_time": "2022-08-02T10:28:30.988Z"
   },
   {
    "duration": 28,
    "start_time": "2022-08-02T10:29:25.742Z"
   },
   {
    "duration": 19,
    "start_time": "2022-08-02T10:29:37.267Z"
   },
   {
    "duration": 20,
    "start_time": "2022-08-02T10:29:58.393Z"
   },
   {
    "duration": 44,
    "start_time": "2022-08-02T10:33:35.667Z"
   },
   {
    "duration": 48,
    "start_time": "2022-08-02T10:35:01.574Z"
   },
   {
    "duration": 50,
    "start_time": "2022-08-02T10:35:26.849Z"
   },
   {
    "duration": 42,
    "start_time": "2022-08-02T10:35:32.785Z"
   },
   {
    "duration": 64,
    "start_time": "2022-08-02T10:37:20.938Z"
   },
   {
    "duration": 4,
    "start_time": "2022-08-02T10:38:27.103Z"
   },
   {
    "duration": 39,
    "start_time": "2022-08-02T10:38:28.566Z"
   },
   {
    "duration": 47,
    "start_time": "2022-08-02T10:39:51.542Z"
   },
   {
    "duration": 45,
    "start_time": "2022-08-02T10:39:59.657Z"
   },
   {
    "duration": 61,
    "start_time": "2022-08-02T10:40:05.345Z"
   },
   {
    "duration": 41,
    "start_time": "2022-08-02T10:40:13.581Z"
   },
   {
    "duration": 42,
    "start_time": "2022-08-02T10:41:47.600Z"
   },
   {
    "duration": 13,
    "start_time": "2022-08-02T10:47:39.135Z"
   },
   {
    "duration": 21,
    "start_time": "2022-08-02T10:47:44.743Z"
   },
   {
    "duration": 21,
    "start_time": "2022-08-02T10:48:02.893Z"
   },
   {
    "duration": 77,
    "start_time": "2022-08-02T10:48:20.844Z"
   },
   {
    "duration": 17,
    "start_time": "2022-08-02T10:48:28.735Z"
   },
   {
    "duration": 20,
    "start_time": "2022-08-02T10:48:38.796Z"
   },
   {
    "duration": 22,
    "start_time": "2022-08-02T10:48:45.772Z"
   },
   {
    "duration": 34,
    "start_time": "2022-08-02T10:49:15.146Z"
   },
   {
    "duration": 21,
    "start_time": "2022-08-02T10:49:18.691Z"
   },
   {
    "duration": 20,
    "start_time": "2022-08-02T10:49:49.260Z"
   },
   {
    "duration": 16,
    "start_time": "2022-08-02T10:51:22.644Z"
   },
   {
    "duration": 21,
    "start_time": "2022-08-02T10:51:29.385Z"
   },
   {
    "duration": 300,
    "start_time": "2022-08-02T10:52:32.684Z"
   },
   {
    "duration": 338,
    "start_time": "2022-08-02T10:52:55.142Z"
   },
   {
    "duration": 264,
    "start_time": "2022-08-02T10:53:11.158Z"
   },
   {
    "duration": 541,
    "start_time": "2022-08-02T10:54:50.482Z"
   },
   {
    "duration": 502,
    "start_time": "2022-08-02T10:55:16.995Z"
   },
   {
    "duration": 490,
    "start_time": "2022-08-02T10:55:23.452Z"
   },
   {
    "duration": 16,
    "start_time": "2022-08-02T10:55:37.843Z"
   },
   {
    "duration": 13,
    "start_time": "2022-08-02T10:55:50.962Z"
   },
   {
    "duration": 89,
    "start_time": "2022-08-02T10:56:02.947Z"
   },
   {
    "duration": 429,
    "start_time": "2022-08-02T10:56:10.046Z"
   },
   {
    "duration": 79,
    "start_time": "2022-08-02T10:56:22.246Z"
   },
   {
    "duration": 474,
    "start_time": "2022-08-02T10:56:29.601Z"
   },
   {
    "duration": 566,
    "start_time": "2022-08-02T10:57:16.153Z"
   },
   {
    "duration": 566,
    "start_time": "2022-08-02T10:58:05.068Z"
   },
   {
    "duration": 521,
    "start_time": "2022-08-02T10:58:09.739Z"
   },
   {
    "duration": 530,
    "start_time": "2022-08-02T10:58:39.811Z"
   },
   {
    "duration": 525,
    "start_time": "2022-08-02T10:58:44.240Z"
   },
   {
    "duration": 559,
    "start_time": "2022-08-02T10:58:54.893Z"
   },
   {
    "duration": 674,
    "start_time": "2022-08-02T10:59:07.276Z"
   },
   {
    "duration": 581,
    "start_time": "2022-08-02T10:59:22.040Z"
   },
   {
    "duration": 559,
    "start_time": "2022-08-02T11:00:00.589Z"
   },
   {
    "duration": 705,
    "start_time": "2022-08-02T11:00:11.032Z"
   },
   {
    "duration": 573,
    "start_time": "2022-08-02T11:02:03.559Z"
   },
   {
    "duration": 536,
    "start_time": "2022-08-02T11:02:26.108Z"
   },
   {
    "duration": 522,
    "start_time": "2022-08-02T11:03:45.309Z"
   },
   {
    "duration": 526,
    "start_time": "2022-08-02T11:03:50.894Z"
   },
   {
    "duration": 545,
    "start_time": "2022-08-02T11:03:59.286Z"
   },
   {
    "duration": 551,
    "start_time": "2022-08-02T11:04:21.163Z"
   },
   {
    "duration": 548,
    "start_time": "2022-08-02T11:05:08.053Z"
   },
   {
    "duration": 570,
    "start_time": "2022-08-02T11:05:20.178Z"
   },
   {
    "duration": 535,
    "start_time": "2022-08-02T11:05:27.110Z"
   },
   {
    "duration": 604,
    "start_time": "2022-08-02T11:05:33.895Z"
   },
   {
    "duration": 761,
    "start_time": "2022-08-02T11:05:39.939Z"
   },
   {
    "duration": 632,
    "start_time": "2022-08-02T11:05:48.294Z"
   },
   {
    "duration": 652,
    "start_time": "2022-08-02T11:06:01.408Z"
   },
   {
    "duration": 575,
    "start_time": "2022-08-02T11:07:27.682Z"
   },
   {
    "duration": 633,
    "start_time": "2022-08-02T11:07:31.843Z"
   },
   {
    "duration": 674,
    "start_time": "2022-08-02T11:07:38.584Z"
   },
   {
    "duration": 631,
    "start_time": "2022-08-02T11:07:41.598Z"
   },
   {
    "duration": 587,
    "start_time": "2022-08-02T11:07:46.188Z"
   },
   {
    "duration": 631,
    "start_time": "2022-08-02T11:08:19.960Z"
   },
   {
    "duration": 536,
    "start_time": "2022-08-02T11:10:02.707Z"
   },
   {
    "duration": 554,
    "start_time": "2022-08-02T11:10:41.085Z"
   },
   {
    "duration": 845,
    "start_time": "2022-08-02T11:10:45.294Z"
   },
   {
    "duration": 556,
    "start_time": "2022-08-02T11:10:59.458Z"
   },
   {
    "duration": 643,
    "start_time": "2022-08-02T11:11:05.175Z"
   },
   {
    "duration": 494,
    "start_time": "2022-08-02T11:11:49.041Z"
   },
   {
    "duration": 23,
    "start_time": "2022-08-02T11:12:17.305Z"
   },
   {
    "duration": 21,
    "start_time": "2022-08-02T11:12:24.258Z"
   },
   {
    "duration": 534,
    "start_time": "2022-08-02T11:12:25.171Z"
   },
   {
    "duration": 504,
    "start_time": "2022-08-02T11:13:19.308Z"
   },
   {
    "duration": 948,
    "start_time": "2022-08-02T11:13:28.554Z"
   },
   {
    "duration": 1399,
    "start_time": "2022-08-02T11:13:34.750Z"
   },
   {
    "duration": 541,
    "start_time": "2022-08-02T11:13:42.063Z"
   },
   {
    "duration": 521,
    "start_time": "2022-08-02T11:13:48.170Z"
   },
   {
    "duration": 514,
    "start_time": "2022-08-02T11:14:19.155Z"
   },
   {
    "duration": 347,
    "start_time": "2022-08-02T11:21:28.734Z"
   },
   {
    "duration": 55,
    "start_time": "2022-08-02T11:22:03.542Z"
   },
   {
    "duration": 270,
    "start_time": "2022-08-02T11:22:17.043Z"
   },
   {
    "duration": 56,
    "start_time": "2022-08-02T11:23:51.316Z"
   },
   {
    "duration": 41,
    "start_time": "2022-08-02T11:24:00.236Z"
   },
   {
    "duration": 800,
    "start_time": "2022-08-02T11:25:35.961Z"
   },
   {
    "duration": 755,
    "start_time": "2022-08-02T11:28:26.037Z"
   },
   {
    "duration": 683,
    "start_time": "2022-08-02T11:28:33.104Z"
   },
   {
    "duration": 873,
    "start_time": "2022-08-02T11:28:45.848Z"
   },
   {
    "duration": 768,
    "start_time": "2022-08-02T11:28:54.046Z"
   },
   {
    "duration": 743,
    "start_time": "2022-08-02T11:29:03.549Z"
   },
   {
    "duration": 748,
    "start_time": "2022-08-02T11:29:17.137Z"
   },
   {
    "duration": 822,
    "start_time": "2022-08-02T11:32:22.088Z"
   },
   {
    "duration": 859,
    "start_time": "2022-08-02T11:32:27.618Z"
   },
   {
    "duration": 776,
    "start_time": "2022-08-02T11:32:55.663Z"
   },
   {
    "duration": 79,
    "start_time": "2022-08-02T11:33:16.039Z"
   },
   {
    "duration": 883,
    "start_time": "2022-08-02T11:33:21.689Z"
   },
   {
    "duration": 761,
    "start_time": "2022-08-02T11:33:28.096Z"
   },
   {
    "duration": 1031,
    "start_time": "2022-08-02T11:35:26.553Z"
   },
   {
    "duration": 515,
    "start_time": "2022-08-02T11:37:18.709Z"
   },
   {
    "duration": 67,
    "start_time": "2022-08-02T11:43:31.542Z"
   },
   {
    "duration": 113,
    "start_time": "2022-08-02T11:44:04.509Z"
   },
   {
    "duration": 57,
    "start_time": "2022-08-02T11:44:48.218Z"
   },
   {
    "duration": 476,
    "start_time": "2022-08-02T11:45:02.060Z"
   },
   {
    "duration": 62,
    "start_time": "2022-08-02T11:45:17.239Z"
   },
   {
    "duration": 67,
    "start_time": "2022-08-02T11:45:31.341Z"
   },
   {
    "duration": 72,
    "start_time": "2022-08-02T11:45:37.751Z"
   },
   {
    "duration": 65,
    "start_time": "2022-08-02T11:46:48.041Z"
   },
   {
    "duration": 65,
    "start_time": "2022-08-02T11:47:09.041Z"
   },
   {
    "duration": 85,
    "start_time": "2022-08-02T11:47:38.401Z"
   },
   {
    "duration": 64,
    "start_time": "2022-08-02T11:47:43.509Z"
   },
   {
    "duration": 190,
    "start_time": "2022-08-02T11:48:59.753Z"
   },
   {
    "duration": 69,
    "start_time": "2022-08-02T11:49:46.627Z"
   },
   {
    "duration": 66,
    "start_time": "2022-08-02T11:50:05.161Z"
   },
   {
    "duration": 61,
    "start_time": "2022-08-02T11:52:27.401Z"
   },
   {
    "duration": 75,
    "start_time": "2022-08-02T11:53:39.783Z"
   },
   {
    "duration": 71,
    "start_time": "2022-08-02T11:53:49.902Z"
   },
   {
    "duration": 59,
    "start_time": "2022-08-02T11:54:04.942Z"
   },
   {
    "duration": 1291,
    "start_time": "2022-08-02T11:59:02.548Z"
   },
   {
    "duration": 75,
    "start_time": "2022-08-02T11:59:03.842Z"
   },
   {
    "duration": 51,
    "start_time": "2022-08-02T11:59:03.919Z"
   },
   {
    "duration": 17,
    "start_time": "2022-08-02T11:59:03.973Z"
   },
   {
    "duration": 11,
    "start_time": "2022-08-02T11:59:04.012Z"
   },
   {
    "duration": 10,
    "start_time": "2022-08-02T11:59:04.024Z"
   },
   {
    "duration": 21,
    "start_time": "2022-08-02T11:59:04.036Z"
   },
   {
    "duration": 16,
    "start_time": "2022-08-02T11:59:04.059Z"
   },
   {
    "duration": 34,
    "start_time": "2022-08-02T11:59:04.077Z"
   },
   {
    "duration": 32,
    "start_time": "2022-08-02T11:59:04.113Z"
   },
   {
    "duration": 159,
    "start_time": "2022-08-02T11:59:04.147Z"
   },
   {
    "duration": 7,
    "start_time": "2022-08-02T11:59:04.309Z"
   },
   {
    "duration": 13,
    "start_time": "2022-08-02T11:59:04.318Z"
   },
   {
    "duration": 25,
    "start_time": "2022-08-02T11:59:04.334Z"
   },
   {
    "duration": 17,
    "start_time": "2022-08-02T11:59:04.360Z"
   },
   {
    "duration": 653,
    "start_time": "2022-08-02T11:59:04.379Z"
   },
   {
    "duration": 24,
    "start_time": "2022-08-02T11:59:05.035Z"
   },
   {
    "duration": 88,
    "start_time": "2022-08-02T11:59:05.061Z"
   },
   {
    "duration": 23,
    "start_time": "2022-08-02T11:59:05.151Z"
   },
   {
    "duration": 90,
    "start_time": "2022-08-02T11:59:05.176Z"
   },
   {
    "duration": 16,
    "start_time": "2022-08-02T12:03:38.442Z"
   },
   {
    "duration": 10,
    "start_time": "2022-08-02T12:04:05.615Z"
   },
   {
    "duration": 12,
    "start_time": "2022-08-02T12:05:37.673Z"
   },
   {
    "duration": 194,
    "start_time": "2022-08-02T12:05:57.273Z"
   },
   {
    "duration": 17,
    "start_time": "2022-08-02T12:06:09.062Z"
   },
   {
    "duration": 17,
    "start_time": "2022-08-02T12:06:15.353Z"
   },
   {
    "duration": 16,
    "start_time": "2022-08-02T12:06:38.154Z"
   },
   {
    "duration": 13,
    "start_time": "2022-08-02T12:06:42.857Z"
   },
   {
    "duration": 9,
    "start_time": "2022-08-02T12:07:30.349Z"
   },
   {
    "duration": 11,
    "start_time": "2022-08-02T12:07:35.165Z"
   },
   {
    "duration": 103,
    "start_time": "2022-08-02T12:09:04.812Z"
   },
   {
    "duration": 14,
    "start_time": "2022-08-02T12:09:10.107Z"
   },
   {
    "duration": 16,
    "start_time": "2022-08-02T12:16:45.277Z"
   },
   {
    "duration": 25,
    "start_time": "2022-08-02T12:19:49.975Z"
   },
   {
    "duration": 4,
    "start_time": "2022-08-02T12:20:03.443Z"
   },
   {
    "duration": 0,
    "start_time": "2022-08-02T12:20:17.670Z"
   },
   {
    "duration": 5,
    "start_time": "2022-08-02T12:20:19.164Z"
   },
   {
    "duration": 125,
    "start_time": "2022-08-02T12:20:46.267Z"
   },
   {
    "duration": 104,
    "start_time": "2022-08-02T12:20:54.081Z"
   },
   {
    "duration": 5,
    "start_time": "2022-08-02T12:21:39.474Z"
   },
   {
    "duration": 12647,
    "start_time": "2022-08-02T12:36:23.796Z"
   },
   {
    "duration": 9,
    "start_time": "2022-08-02T12:39:10.800Z"
   },
   {
    "duration": 7,
    "start_time": "2022-08-02T12:39:23.534Z"
   },
   {
    "duration": 7,
    "start_time": "2022-08-02T12:39:38.505Z"
   },
   {
    "duration": 66,
    "start_time": "2022-08-02T12:52:16.797Z"
   },
   {
    "duration": 14,
    "start_time": "2022-08-02T12:52:59.524Z"
   },
   {
    "duration": 12,
    "start_time": "2022-08-02T12:53:15.746Z"
   },
   {
    "duration": 20,
    "start_time": "2022-08-02T12:53:18.778Z"
   },
   {
    "duration": 19,
    "start_time": "2022-08-02T12:53:28.936Z"
   },
   {
    "duration": 20,
    "start_time": "2022-08-02T12:54:08.569Z"
   },
   {
    "duration": 7,
    "start_time": "2022-08-02T12:54:42.849Z"
   },
   {
    "duration": 24,
    "start_time": "2022-08-02T12:54:58.238Z"
   },
   {
    "duration": 16,
    "start_time": "2022-08-02T12:55:05.477Z"
   },
   {
    "duration": 18,
    "start_time": "2022-08-02T12:55:08.186Z"
   },
   {
    "duration": 18,
    "start_time": "2022-08-02T12:55:17.399Z"
   },
   {
    "duration": 7,
    "start_time": "2022-08-02T12:55:20.141Z"
   },
   {
    "duration": 19,
    "start_time": "2022-08-02T12:55:20.683Z"
   },
   {
    "duration": 21,
    "start_time": "2022-08-02T12:55:44.776Z"
   },
   {
    "duration": 16,
    "start_time": "2022-08-02T12:55:51.953Z"
   },
   {
    "duration": 17,
    "start_time": "2022-08-02T12:55:55.433Z"
   },
   {
    "duration": 12,
    "start_time": "2022-08-02T12:56:11.633Z"
   },
   {
    "duration": 25,
    "start_time": "2022-08-02T12:56:21.890Z"
   },
   {
    "duration": 17,
    "start_time": "2022-08-02T12:56:23.803Z"
   },
   {
    "duration": 19,
    "start_time": "2022-08-02T12:56:50.287Z"
   },
   {
    "duration": 17,
    "start_time": "2022-08-02T12:56:55.751Z"
   },
   {
    "duration": 22,
    "start_time": "2022-08-02T12:56:58.872Z"
   },
   {
    "duration": 23,
    "start_time": "2022-08-02T12:57:01.634Z"
   },
   {
    "duration": 17,
    "start_time": "2022-08-02T12:57:05.697Z"
   },
   {
    "duration": 11,
    "start_time": "2022-08-02T12:57:22.601Z"
   },
   {
    "duration": 33,
    "start_time": "2022-08-02T12:57:26.428Z"
   },
   {
    "duration": 16,
    "start_time": "2022-08-02T12:57:43.088Z"
   },
   {
    "duration": 20,
    "start_time": "2022-08-02T12:57:46.228Z"
   },
   {
    "duration": 26,
    "start_time": "2022-08-02T12:59:01.928Z"
   },
   {
    "duration": 17,
    "start_time": "2022-08-02T13:00:24.175Z"
   },
   {
    "duration": 18,
    "start_time": "2022-08-02T13:00:30.829Z"
   },
   {
    "duration": 13,
    "start_time": "2022-08-02T13:00:39.693Z"
   },
   {
    "duration": 14,
    "start_time": "2022-08-02T13:00:51.627Z"
   },
   {
    "duration": 18,
    "start_time": "2022-08-02T13:00:55.927Z"
   },
   {
    "duration": 17,
    "start_time": "2022-08-02T13:01:24.842Z"
   },
   {
    "duration": 19,
    "start_time": "2022-08-02T13:02:07.227Z"
   },
   {
    "duration": 19,
    "start_time": "2022-08-02T13:02:27.842Z"
   },
   {
    "duration": 20,
    "start_time": "2022-08-02T13:02:57.841Z"
   },
   {
    "duration": 16,
    "start_time": "2022-08-02T13:03:12.927Z"
   },
   {
    "duration": 80,
    "start_time": "2022-08-02T13:03:25.247Z"
   },
   {
    "duration": 16,
    "start_time": "2022-08-02T13:03:37.103Z"
   },
   {
    "duration": 21,
    "start_time": "2022-08-02T13:04:08.227Z"
   },
   {
    "duration": 1372,
    "start_time": "2022-08-02T13:04:21.889Z"
   },
   {
    "duration": 75,
    "start_time": "2022-08-02T13:04:23.264Z"
   },
   {
    "duration": 51,
    "start_time": "2022-08-02T13:04:23.341Z"
   },
   {
    "duration": 25,
    "start_time": "2022-08-02T13:04:23.394Z"
   },
   {
    "duration": 26,
    "start_time": "2022-08-02T13:04:23.422Z"
   },
   {
    "duration": 6,
    "start_time": "2022-08-02T13:04:23.450Z"
   },
   {
    "duration": 17,
    "start_time": "2022-08-02T13:04:23.457Z"
   },
   {
    "duration": 19,
    "start_time": "2022-08-02T13:04:23.476Z"
   },
   {
    "duration": 42,
    "start_time": "2022-08-02T13:04:23.497Z"
   },
   {
    "duration": 33,
    "start_time": "2022-08-02T13:04:23.541Z"
   },
   {
    "duration": 154,
    "start_time": "2022-08-02T13:04:23.576Z"
   },
   {
    "duration": 7,
    "start_time": "2022-08-02T13:04:23.733Z"
   },
   {
    "duration": 8,
    "start_time": "2022-08-02T13:04:23.742Z"
   },
   {
    "duration": 22,
    "start_time": "2022-08-02T13:04:23.754Z"
   },
   {
    "duration": 45,
    "start_time": "2022-08-02T13:04:23.778Z"
   },
   {
    "duration": 586,
    "start_time": "2022-08-02T13:04:23.826Z"
   },
   {
    "duration": 17,
    "start_time": "2022-08-02T13:04:24.414Z"
   },
   {
    "duration": 47,
    "start_time": "2022-08-02T13:04:24.433Z"
   },
   {
    "duration": 57,
    "start_time": "2022-08-02T13:04:24.481Z"
   },
   {
    "duration": 80,
    "start_time": "2022-08-02T13:04:24.541Z"
   },
   {
    "duration": 174,
    "start_time": "2022-08-02T13:04:24.623Z"
   },
   {
    "duration": 0,
    "start_time": "2022-08-02T13:04:24.799Z"
   },
   {
    "duration": 0,
    "start_time": "2022-08-02T13:04:24.800Z"
   },
   {
    "duration": 0,
    "start_time": "2022-08-02T13:04:24.801Z"
   },
   {
    "duration": 0,
    "start_time": "2022-08-02T13:04:24.810Z"
   },
   {
    "duration": 0,
    "start_time": "2022-08-02T13:04:24.811Z"
   },
   {
    "duration": 12,
    "start_time": "2022-08-02T13:04:44.547Z"
   },
   {
    "duration": 11,
    "start_time": "2022-08-02T13:04:46.084Z"
   },
   {
    "duration": 5,
    "start_time": "2022-08-02T13:04:48.899Z"
   },
   {
    "duration": 117,
    "start_time": "2022-08-02T13:04:50.328Z"
   },
   {
    "duration": 11,
    "start_time": "2022-08-02T13:04:52.763Z"
   },
   {
    "duration": 19,
    "start_time": "2022-08-02T13:04:53.046Z"
   },
   {
    "duration": 20,
    "start_time": "2022-08-02T13:05:15.488Z"
   },
   {
    "duration": 20,
    "start_time": "2022-08-02T13:05:20.533Z"
   },
   {
    "duration": 17,
    "start_time": "2022-08-02T13:05:36.270Z"
   },
   {
    "duration": 28,
    "start_time": "2022-08-02T13:05:40.523Z"
   },
   {
    "duration": 1355,
    "start_time": "2022-08-02T13:05:50.629Z"
   },
   {
    "duration": 91,
    "start_time": "2022-08-02T13:05:51.987Z"
   },
   {
    "duration": 59,
    "start_time": "2022-08-02T13:05:52.080Z"
   },
   {
    "duration": 13,
    "start_time": "2022-08-02T13:05:52.141Z"
   },
   {
    "duration": 17,
    "start_time": "2022-08-02T13:05:52.156Z"
   },
   {
    "duration": 6,
    "start_time": "2022-08-02T13:05:52.176Z"
   },
   {
    "duration": 9,
    "start_time": "2022-08-02T13:05:52.209Z"
   },
   {
    "duration": 7,
    "start_time": "2022-08-02T13:05:52.220Z"
   },
   {
    "duration": 28,
    "start_time": "2022-08-02T13:05:52.229Z"
   },
   {
    "duration": 51,
    "start_time": "2022-08-02T13:05:52.259Z"
   },
   {
    "duration": 145,
    "start_time": "2022-08-02T13:05:52.312Z"
   },
   {
    "duration": 8,
    "start_time": "2022-08-02T13:05:52.460Z"
   },
   {
    "duration": 8,
    "start_time": "2022-08-02T13:05:52.470Z"
   },
   {
    "duration": 49,
    "start_time": "2022-08-02T13:05:52.481Z"
   },
   {
    "duration": 23,
    "start_time": "2022-08-02T13:05:52.533Z"
   },
   {
    "duration": 559,
    "start_time": "2022-08-02T13:05:52.558Z"
   },
   {
    "duration": 16,
    "start_time": "2022-08-02T13:05:53.119Z"
   },
   {
    "duration": 48,
    "start_time": "2022-08-02T13:05:53.137Z"
   },
   {
    "duration": 43,
    "start_time": "2022-08-02T13:05:53.186Z"
   },
   {
    "duration": 79,
    "start_time": "2022-08-02T13:05:53.231Z"
   },
   {
    "duration": 14,
    "start_time": "2022-08-02T13:05:53.312Z"
   },
   {
    "duration": 19,
    "start_time": "2022-08-02T13:05:53.328Z"
   },
   {
    "duration": 24,
    "start_time": "2022-08-02T13:05:53.349Z"
   },
   {
    "duration": 427,
    "start_time": "2022-08-02T13:05:53.375Z"
   },
   {
    "duration": 593,
    "start_time": "2022-08-02T13:06:14.941Z"
   },
   {
    "duration": 519,
    "start_time": "2022-08-02T13:06:20.897Z"
   },
   {
    "duration": 184,
    "start_time": "2022-08-02T13:20:58.091Z"
   },
   {
    "duration": 579,
    "start_time": "2022-08-02T13:21:21.234Z"
   },
   {
    "duration": 21,
    "start_time": "2022-08-02T13:23:30.271Z"
   },
   {
    "duration": 130,
    "start_time": "2022-08-02T13:24:16.076Z"
   },
   {
    "duration": 272,
    "start_time": "2022-08-02T13:24:34.339Z"
   },
   {
    "duration": 28,
    "start_time": "2022-08-02T13:25:22.648Z"
   },
   {
    "duration": 1447,
    "start_time": "2022-08-02T13:25:28.095Z"
   },
   {
    "duration": 11477,
    "start_time": "2022-08-02T13:25:42.688Z"
   },
   {
    "duration": 19,
    "start_time": "2022-08-02T13:26:42.466Z"
   },
   {
    "duration": 10,
    "start_time": "2022-08-02T13:26:43.738Z"
   },
   {
    "duration": 9,
    "start_time": "2022-08-02T13:26:49.268Z"
   },
   {
    "duration": 518,
    "start_time": "2022-08-02T13:26:49.876Z"
   },
   {
    "duration": 29,
    "start_time": "2022-08-02T13:27:18.238Z"
   },
   {
    "duration": 9,
    "start_time": "2022-08-02T13:28:09.038Z"
   },
   {
    "duration": 1366,
    "start_time": "2022-08-02T13:30:15.766Z"
   },
   {
    "duration": 81,
    "start_time": "2022-08-02T13:30:17.134Z"
   },
   {
    "duration": 59,
    "start_time": "2022-08-02T13:30:17.218Z"
   },
   {
    "duration": 32,
    "start_time": "2022-08-02T13:30:17.278Z"
   },
   {
    "duration": 10,
    "start_time": "2022-08-02T13:30:17.313Z"
   },
   {
    "duration": 9,
    "start_time": "2022-08-02T13:30:17.324Z"
   },
   {
    "duration": 8,
    "start_time": "2022-08-02T13:30:17.334Z"
   },
   {
    "duration": 8,
    "start_time": "2022-08-02T13:30:17.343Z"
   },
   {
    "duration": 22,
    "start_time": "2022-08-02T13:30:17.353Z"
   },
   {
    "duration": 61,
    "start_time": "2022-08-02T13:30:17.377Z"
   },
   {
    "duration": 148,
    "start_time": "2022-08-02T13:30:17.440Z"
   },
   {
    "duration": 7,
    "start_time": "2022-08-02T13:30:17.589Z"
   },
   {
    "duration": 9,
    "start_time": "2022-08-02T13:30:17.610Z"
   },
   {
    "duration": 31,
    "start_time": "2022-08-02T13:30:17.624Z"
   },
   {
    "duration": 17,
    "start_time": "2022-08-02T13:30:17.657Z"
   },
   {
    "duration": 543,
    "start_time": "2022-08-02T13:30:17.709Z"
   },
   {
    "duration": 62,
    "start_time": "2022-08-02T13:30:18.253Z"
   },
   {
    "duration": 50,
    "start_time": "2022-08-02T13:30:18.317Z"
   },
   {
    "duration": 45,
    "start_time": "2022-08-02T13:30:18.369Z"
   },
   {
    "duration": 62,
    "start_time": "2022-08-02T13:30:18.416Z"
   },
   {
    "duration": 31,
    "start_time": "2022-08-02T13:30:18.480Z"
   },
   {
    "duration": 13,
    "start_time": "2022-08-02T13:30:18.513Z"
   },
   {
    "duration": 12,
    "start_time": "2022-08-02T13:30:18.528Z"
   },
   {
    "duration": 534,
    "start_time": "2022-08-02T13:30:18.541Z"
   },
   {
    "duration": 7,
    "start_time": "2022-08-02T13:30:19.077Z"
   },
   {
    "duration": 1702,
    "start_time": "2022-08-02T19:19:22.820Z"
   },
   {
    "duration": 169,
    "start_time": "2022-08-02T19:19:24.524Z"
   },
   {
    "duration": 51,
    "start_time": "2022-08-02T19:19:24.694Z"
   },
   {
    "duration": 12,
    "start_time": "2022-08-02T19:19:24.748Z"
   },
   {
    "duration": 15,
    "start_time": "2022-08-02T19:19:24.761Z"
   },
   {
    "duration": 26,
    "start_time": "2022-08-02T19:19:24.778Z"
   },
   {
    "duration": 45,
    "start_time": "2022-08-02T19:19:24.806Z"
   },
   {
    "duration": 10,
    "start_time": "2022-08-02T19:19:24.853Z"
   },
   {
    "duration": 23,
    "start_time": "2022-08-02T19:19:24.865Z"
   },
   {
    "duration": 47,
    "start_time": "2022-08-02T19:19:24.894Z"
   },
   {
    "duration": 157,
    "start_time": "2022-08-02T19:19:24.943Z"
   },
   {
    "duration": 9,
    "start_time": "2022-08-02T19:19:25.102Z"
   },
   {
    "duration": 41,
    "start_time": "2022-08-02T19:19:25.112Z"
   },
   {
    "duration": 22,
    "start_time": "2022-08-02T19:19:25.154Z"
   },
   {
    "duration": 35,
    "start_time": "2022-08-02T19:19:25.178Z"
   },
   {
    "duration": 643,
    "start_time": "2022-08-02T19:19:25.215Z"
   },
   {
    "duration": 17,
    "start_time": "2022-08-02T19:19:25.860Z"
   },
   {
    "duration": 97,
    "start_time": "2022-08-02T19:19:25.879Z"
   },
   {
    "duration": 19,
    "start_time": "2022-08-02T19:19:25.978Z"
   },
   {
    "duration": 75,
    "start_time": "2022-08-02T19:19:25.999Z"
   },
   {
    "duration": 10,
    "start_time": "2022-08-02T19:19:26.076Z"
   },
   {
    "duration": 63,
    "start_time": "2022-08-02T19:19:26.088Z"
   },
   {
    "duration": 11,
    "start_time": "2022-08-02T19:19:26.153Z"
   },
   {
    "duration": 606,
    "start_time": "2022-08-02T19:19:26.166Z"
   },
   {
    "duration": 576,
    "start_time": "2022-08-02T19:20:49.993Z"
   },
   {
    "duration": 585,
    "start_time": "2022-08-02T19:20:58.695Z"
   },
   {
    "duration": 1158,
    "start_time": "2022-08-02T19:24:32.941Z"
   },
   {
    "duration": 65,
    "start_time": "2022-08-02T19:24:34.103Z"
   },
   {
    "duration": 57,
    "start_time": "2022-08-02T19:24:34.170Z"
   },
   {
    "duration": 16,
    "start_time": "2022-08-02T19:24:34.229Z"
   },
   {
    "duration": 11,
    "start_time": "2022-08-02T19:24:34.247Z"
   },
   {
    "duration": 6,
    "start_time": "2022-08-02T19:24:34.260Z"
   },
   {
    "duration": 12,
    "start_time": "2022-08-02T19:24:34.268Z"
   },
   {
    "duration": 20,
    "start_time": "2022-08-02T19:24:34.304Z"
   },
   {
    "duration": 19,
    "start_time": "2022-08-02T19:24:34.326Z"
   },
   {
    "duration": 50,
    "start_time": "2022-08-02T19:24:34.349Z"
   },
   {
    "duration": 137,
    "start_time": "2022-08-02T19:24:34.401Z"
   },
   {
    "duration": 6,
    "start_time": "2022-08-02T19:24:34.540Z"
   },
   {
    "duration": 8,
    "start_time": "2022-08-02T19:24:34.548Z"
   },
   {
    "duration": 19,
    "start_time": "2022-08-02T19:24:34.558Z"
   },
   {
    "duration": 22,
    "start_time": "2022-08-02T19:24:34.603Z"
   },
   {
    "duration": 514,
    "start_time": "2022-08-02T19:24:34.627Z"
   },
   {
    "duration": 17,
    "start_time": "2022-08-02T19:24:35.143Z"
   },
   {
    "duration": 88,
    "start_time": "2022-08-02T19:24:35.162Z"
   },
   {
    "duration": 21,
    "start_time": "2022-08-02T19:24:35.252Z"
   },
   {
    "duration": 83,
    "start_time": "2022-08-02T19:24:35.275Z"
   },
   {
    "duration": 10,
    "start_time": "2022-08-02T19:24:35.360Z"
   },
   {
    "duration": 36,
    "start_time": "2022-08-02T19:24:35.372Z"
   },
   {
    "duration": 13,
    "start_time": "2022-08-02T19:24:35.415Z"
   },
   {
    "duration": 511,
    "start_time": "2022-08-02T19:24:35.430Z"
   },
   {
    "duration": 189,
    "start_time": "2022-08-02T19:24:35.942Z"
   },
   {
    "duration": 486,
    "start_time": "2022-08-02T19:24:52.242Z"
   },
   {
    "duration": 586,
    "start_time": "2022-08-02T19:25:45.449Z"
   },
   {
    "duration": 560,
    "start_time": "2022-08-02T19:25:53.362Z"
   },
   {
    "duration": 813,
    "start_time": "2022-08-02T19:26:17.630Z"
   },
   {
    "duration": 468,
    "start_time": "2022-08-02T19:26:29.992Z"
   },
   {
    "duration": 503,
    "start_time": "2022-08-02T19:26:53.917Z"
   },
   {
    "duration": 188,
    "start_time": "2022-08-02T19:27:00.557Z"
   },
   {
    "duration": 499,
    "start_time": "2022-08-02T19:28:29.328Z"
   },
   {
    "duration": 489,
    "start_time": "2022-08-02T19:28:33.729Z"
   },
   {
    "duration": 613,
    "start_time": "2022-08-02T19:28:55.853Z"
   },
   {
    "duration": 495,
    "start_time": "2022-08-02T19:29:02.430Z"
   },
   {
    "duration": 526,
    "start_time": "2022-08-02T19:29:07.232Z"
   },
   {
    "duration": 373,
    "start_time": "2022-08-02T19:29:40.849Z"
   },
   {
    "duration": 458,
    "start_time": "2022-08-02T19:29:58.764Z"
   },
   {
    "duration": 569,
    "start_time": "2022-08-02T19:30:07.092Z"
   },
   {
    "duration": 605,
    "start_time": "2022-08-02T19:30:11.754Z"
   },
   {
    "duration": 486,
    "start_time": "2022-08-02T19:30:16.864Z"
   },
   {
    "duration": 470,
    "start_time": "2022-08-02T19:30:23.868Z"
   },
   {
    "duration": 497,
    "start_time": "2022-08-02T19:30:30.643Z"
   },
   {
    "duration": 496,
    "start_time": "2022-08-02T19:30:37.977Z"
   },
   {
    "duration": 510,
    "start_time": "2022-08-02T19:32:29.371Z"
   },
   {
    "duration": 765,
    "start_time": "2022-08-02T19:32:57.495Z"
   },
   {
    "duration": 536,
    "start_time": "2022-08-02T19:34:11.832Z"
   },
   {
    "duration": 506,
    "start_time": "2022-08-02T19:35:40.479Z"
   },
   {
    "duration": 499,
    "start_time": "2022-08-02T19:36:29.364Z"
   },
   {
    "duration": 537,
    "start_time": "2022-08-02T19:36:46.981Z"
   },
   {
    "duration": 694,
    "start_time": "2022-08-02T19:36:56.183Z"
   },
   {
    "duration": 514,
    "start_time": "2022-08-02T19:37:05.075Z"
   },
   {
    "duration": 516,
    "start_time": "2022-08-02T19:37:42.571Z"
   },
   {
    "duration": 517,
    "start_time": "2022-08-02T19:42:01.594Z"
   },
   {
    "duration": 564,
    "start_time": "2022-08-02T19:42:12.918Z"
   },
   {
    "duration": 632,
    "start_time": "2022-08-02T19:43:31.482Z"
   },
   {
    "duration": 792,
    "start_time": "2022-08-02T19:44:50.532Z"
   },
   {
    "duration": 617,
    "start_time": "2022-08-02T19:44:58.120Z"
   },
   {
    "duration": 567,
    "start_time": "2022-08-02T19:45:04.044Z"
   },
   {
    "duration": 1186,
    "start_time": "2022-08-02T19:45:14.355Z"
   },
   {
    "duration": 69,
    "start_time": "2022-08-02T19:45:15.543Z"
   },
   {
    "duration": 49,
    "start_time": "2022-08-02T19:45:15.615Z"
   },
   {
    "duration": 15,
    "start_time": "2022-08-02T19:45:15.666Z"
   },
   {
    "duration": 30,
    "start_time": "2022-08-02T19:45:15.683Z"
   },
   {
    "duration": 20,
    "start_time": "2022-08-02T19:45:15.715Z"
   },
   {
    "duration": 8,
    "start_time": "2022-08-02T19:45:15.737Z"
   },
   {
    "duration": 9,
    "start_time": "2022-08-02T19:45:15.747Z"
   },
   {
    "duration": 18,
    "start_time": "2022-08-02T19:45:15.758Z"
   },
   {
    "duration": 44,
    "start_time": "2022-08-02T19:45:15.778Z"
   },
   {
    "duration": 122,
    "start_time": "2022-08-02T19:45:15.824Z"
   },
   {
    "duration": 7,
    "start_time": "2022-08-02T19:45:15.947Z"
   },
   {
    "duration": 9,
    "start_time": "2022-08-02T19:45:15.956Z"
   },
   {
    "duration": 40,
    "start_time": "2022-08-02T19:45:15.967Z"
   },
   {
    "duration": 16,
    "start_time": "2022-08-02T19:45:16.015Z"
   },
   {
    "duration": 507,
    "start_time": "2022-08-02T19:45:16.033Z"
   },
   {
    "duration": 17,
    "start_time": "2022-08-02T19:45:16.542Z"
   },
   {
    "duration": 102,
    "start_time": "2022-08-02T19:45:16.561Z"
   },
   {
    "duration": 22,
    "start_time": "2022-08-02T19:45:16.664Z"
   },
   {
    "duration": 77,
    "start_time": "2022-08-02T19:45:16.687Z"
   },
   {
    "duration": 12,
    "start_time": "2022-08-02T19:45:16.765Z"
   },
   {
    "duration": 55,
    "start_time": "2022-08-02T19:45:16.779Z"
   },
   {
    "duration": 12,
    "start_time": "2022-08-02T19:45:16.836Z"
   },
   {
    "duration": 601,
    "start_time": "2022-08-02T19:45:16.850Z"
   },
   {
    "duration": 572,
    "start_time": "2022-08-02T19:46:27.066Z"
   },
   {
    "duration": 543,
    "start_time": "2022-08-02T19:46:42.636Z"
   },
   {
    "duration": 796,
    "start_time": "2022-08-02T19:47:11.995Z"
   },
   {
    "duration": 26,
    "start_time": "2022-08-02T19:47:42.129Z"
   },
   {
    "duration": 15,
    "start_time": "2022-08-02T19:47:48.920Z"
   },
   {
    "duration": 1522,
    "start_time": "2022-08-03T06:32:58.327Z"
   },
   {
    "duration": 179,
    "start_time": "2022-08-03T06:32:59.852Z"
   },
   {
    "duration": 96,
    "start_time": "2022-08-03T06:33:00.033Z"
   },
   {
    "duration": 13,
    "start_time": "2022-08-03T06:33:00.131Z"
   },
   {
    "duration": 65,
    "start_time": "2022-08-03T06:33:00.146Z"
   },
   {
    "duration": 5,
    "start_time": "2022-08-03T06:33:00.213Z"
   },
   {
    "duration": 15,
    "start_time": "2022-08-03T06:33:00.220Z"
   },
   {
    "duration": 11,
    "start_time": "2022-08-03T06:33:00.237Z"
   },
   {
    "duration": 77,
    "start_time": "2022-08-03T06:33:00.250Z"
   },
   {
    "duration": 83,
    "start_time": "2022-08-03T06:33:00.329Z"
   },
   {
    "duration": 238,
    "start_time": "2022-08-03T06:33:00.414Z"
   },
   {
    "duration": 61,
    "start_time": "2022-08-03T06:33:00.654Z"
   },
   {
    "duration": 21,
    "start_time": "2022-08-03T06:33:00.716Z"
   },
   {
    "duration": 20,
    "start_time": "2022-08-03T06:33:00.740Z"
   },
   {
    "duration": 16,
    "start_time": "2022-08-03T06:33:00.810Z"
   },
   {
    "duration": 1021,
    "start_time": "2022-08-03T06:33:00.827Z"
   },
   {
    "duration": 62,
    "start_time": "2022-08-03T06:33:01.850Z"
   },
   {
    "duration": 69,
    "start_time": "2022-08-03T06:33:01.914Z"
   },
   {
    "duration": 39,
    "start_time": "2022-08-03T06:33:01.985Z"
   },
   {
    "duration": 115,
    "start_time": "2022-08-03T06:33:02.027Z"
   },
   {
    "duration": 12,
    "start_time": "2022-08-03T06:33:02.144Z"
   },
   {
    "duration": 15,
    "start_time": "2022-08-03T06:33:02.158Z"
   },
   {
    "duration": 35,
    "start_time": "2022-08-03T06:33:02.175Z"
   },
   {
    "duration": 639,
    "start_time": "2022-08-03T06:33:02.212Z"
   },
   {
    "duration": 12,
    "start_time": "2022-08-03T06:39:18.769Z"
   },
   {
    "duration": 14,
    "start_time": "2022-08-03T06:39:46.043Z"
   },
   {
    "duration": 13,
    "start_time": "2022-08-03T06:40:50.958Z"
   },
   {
    "duration": 13,
    "start_time": "2022-08-03T06:40:59.534Z"
   },
   {
    "duration": 587,
    "start_time": "2022-08-03T06:41:43.529Z"
   },
   {
    "duration": 12,
    "start_time": "2022-08-03T06:52:59.936Z"
   },
   {
    "duration": 9,
    "start_time": "2022-08-03T06:53:29.846Z"
   },
   {
    "duration": 77,
    "start_time": "2022-08-03T06:53:50.441Z"
   },
   {
    "duration": 174,
    "start_time": "2022-08-03T06:54:01.575Z"
   },
   {
    "duration": 12,
    "start_time": "2022-08-03T06:54:08.462Z"
   },
   {
    "duration": 14,
    "start_time": "2022-08-03T06:54:39.570Z"
   },
   {
    "duration": 10,
    "start_time": "2022-08-03T06:54:49.991Z"
   },
   {
    "duration": 28,
    "start_time": "2022-08-03T06:55:00.823Z"
   },
   {
    "duration": 28,
    "start_time": "2022-08-03T06:55:08.796Z"
   },
   {
    "duration": 22,
    "start_time": "2022-08-03T06:55:20.684Z"
   },
   {
    "duration": 71,
    "start_time": "2022-08-03T06:55:26.942Z"
   },
   {
    "duration": 78,
    "start_time": "2022-08-03T06:55:30.922Z"
   },
   {
    "duration": 15,
    "start_time": "2022-08-03T06:55:37.082Z"
   },
   {
    "duration": 16,
    "start_time": "2022-08-03T06:55:40.565Z"
   },
   {
    "duration": 18,
    "start_time": "2022-08-03T06:56:15.588Z"
   },
   {
    "duration": 184,
    "start_time": "2022-08-03T06:56:37.564Z"
   },
   {
    "duration": 184,
    "start_time": "2022-08-03T06:56:44.828Z"
   },
   {
    "duration": 18,
    "start_time": "2022-08-03T06:57:09.424Z"
   },
   {
    "duration": 19,
    "start_time": "2022-08-03T06:57:47.224Z"
   },
   {
    "duration": 23,
    "start_time": "2022-08-03T06:58:07.824Z"
   },
   {
    "duration": 67,
    "start_time": "2022-08-03T06:58:09.897Z"
   },
   {
    "duration": 51,
    "start_time": "2022-08-03T06:58:36.742Z"
   },
   {
    "duration": 62,
    "start_time": "2022-08-03T06:58:45.453Z"
   },
   {
    "duration": 51,
    "start_time": "2022-08-03T06:58:58.301Z"
   },
   {
    "duration": 2,
    "start_time": "2022-08-03T07:06:29.076Z"
   },
   {
    "duration": 3,
    "start_time": "2022-08-03T07:06:47.788Z"
   },
   {
    "duration": 6,
    "start_time": "2022-08-03T07:06:50.435Z"
   },
   {
    "duration": 100,
    "start_time": "2022-08-03T07:06:55.325Z"
   },
   {
    "duration": 83,
    "start_time": "2022-08-03T07:07:01.665Z"
   },
   {
    "duration": 70,
    "start_time": "2022-08-03T07:07:06.042Z"
   },
   {
    "duration": 10,
    "start_time": "2022-08-03T07:07:13.076Z"
   },
   {
    "duration": 1372,
    "start_time": "2022-08-03T07:08:05.178Z"
   },
   {
    "duration": 19,
    "start_time": "2022-08-03T07:08:11.275Z"
   },
   {
    "duration": 19,
    "start_time": "2022-08-03T07:08:31.761Z"
   },
   {
    "duration": 20,
    "start_time": "2022-08-03T07:09:00.092Z"
   },
   {
    "duration": 21,
    "start_time": "2022-08-03T07:09:54.385Z"
   },
   {
    "duration": 16,
    "start_time": "2022-08-03T07:10:00.963Z"
   },
   {
    "duration": 19,
    "start_time": "2022-08-03T07:10:19.834Z"
   },
   {
    "duration": 20,
    "start_time": "2022-08-03T07:12:58.116Z"
   },
   {
    "duration": 18,
    "start_time": "2022-08-03T07:13:04.690Z"
   },
   {
    "duration": 19,
    "start_time": "2022-08-03T07:13:19.421Z"
   },
   {
    "duration": 9,
    "start_time": "2022-08-03T07:13:26.016Z"
   },
   {
    "duration": 17,
    "start_time": "2022-08-03T07:13:37.380Z"
   },
   {
    "duration": 15,
    "start_time": "2022-08-03T07:14:16.150Z"
   },
   {
    "duration": 10,
    "start_time": "2022-08-03T07:14:25.194Z"
   },
   {
    "duration": 9,
    "start_time": "2022-08-03T07:14:31.719Z"
   },
   {
    "duration": 9,
    "start_time": "2022-08-03T07:14:37.620Z"
   },
   {
    "duration": 7,
    "start_time": "2022-08-03T07:14:47.391Z"
   },
   {
    "duration": 5,
    "start_time": "2022-08-03T07:14:50.873Z"
   },
   {
    "duration": 25,
    "start_time": "2022-08-03T07:14:57.466Z"
   },
   {
    "duration": 16,
    "start_time": "2022-08-03T07:15:03.130Z"
   },
   {
    "duration": 14,
    "start_time": "2022-08-03T07:15:09.185Z"
   },
   {
    "duration": 21,
    "start_time": "2022-08-03T07:15:16.520Z"
   },
   {
    "duration": 4,
    "start_time": "2022-08-03T07:15:22.870Z"
   },
   {
    "duration": 4,
    "start_time": "2022-08-03T07:15:25.573Z"
   },
   {
    "duration": 91,
    "start_time": "2022-08-03T07:17:05.321Z"
   },
   {
    "duration": 14,
    "start_time": "2022-08-03T07:17:10.761Z"
   },
   {
    "duration": 15,
    "start_time": "2022-08-03T07:17:22.356Z"
   },
   {
    "duration": 14,
    "start_time": "2022-08-03T07:17:30.589Z"
   },
   {
    "duration": 14,
    "start_time": "2022-08-03T07:17:37.076Z"
   },
   {
    "duration": 15,
    "start_time": "2022-08-03T07:18:17.513Z"
   },
   {
    "duration": 14,
    "start_time": "2022-08-03T07:18:27.720Z"
   },
   {
    "duration": 81,
    "start_time": "2022-08-03T07:19:04.845Z"
   },
   {
    "duration": 78,
    "start_time": "2022-08-03T07:19:11.933Z"
   },
   {
    "duration": 6,
    "start_time": "2022-08-03T07:19:14.546Z"
   },
   {
    "duration": 7,
    "start_time": "2022-08-03T07:19:21.296Z"
   },
   {
    "duration": 6,
    "start_time": "2022-08-03T07:21:09.921Z"
   },
   {
    "duration": 5,
    "start_time": "2022-08-03T07:21:16.425Z"
   },
   {
    "duration": 8,
    "start_time": "2022-08-03T07:21:21.369Z"
   },
   {
    "duration": 6,
    "start_time": "2022-08-03T07:22:03.460Z"
   },
   {
    "duration": 6,
    "start_time": "2022-08-03T07:22:07.468Z"
   },
   {
    "duration": 6,
    "start_time": "2022-08-03T07:22:12.341Z"
   },
   {
    "duration": 7,
    "start_time": "2022-08-03T07:22:19.861Z"
   },
   {
    "duration": 5,
    "start_time": "2022-08-03T07:22:23.471Z"
   },
   {
    "duration": 12,
    "start_time": "2022-08-03T07:23:25.084Z"
   },
   {
    "duration": 14,
    "start_time": "2022-08-03T07:33:36.196Z"
   },
   {
    "duration": 12,
    "start_time": "2022-08-03T07:33:45.900Z"
   },
   {
    "duration": 6,
    "start_time": "2022-08-03T07:34:17.687Z"
   },
   {
    "duration": 13,
    "start_time": "2022-08-03T07:36:11.766Z"
   },
   {
    "duration": 76,
    "start_time": "2022-08-03T07:43:56.068Z"
   },
   {
    "duration": 80,
    "start_time": "2022-08-03T07:44:00.107Z"
   },
   {
    "duration": 76,
    "start_time": "2022-08-03T07:44:04.726Z"
   },
   {
    "duration": 75,
    "start_time": "2022-08-03T07:44:10.529Z"
   },
   {
    "duration": 3,
    "start_time": "2022-08-03T07:45:48.613Z"
   },
   {
    "duration": 79,
    "start_time": "2022-08-03T07:46:44.303Z"
   },
   {
    "duration": 196,
    "start_time": "2022-08-03T07:47:19.829Z"
   },
   {
    "duration": 301,
    "start_time": "2022-08-03T07:47:24.163Z"
   },
   {
    "duration": 198,
    "start_time": "2022-08-03T07:47:29.697Z"
   },
   {
    "duration": 197,
    "start_time": "2022-08-03T07:48:16.899Z"
   },
   {
    "duration": 23,
    "start_time": "2022-08-03T07:52:50.433Z"
   },
   {
    "duration": 21,
    "start_time": "2022-08-03T07:53:05.783Z"
   },
   {
    "duration": 17,
    "start_time": "2022-08-03T07:53:17.387Z"
   },
   {
    "duration": 19,
    "start_time": "2022-08-03T07:53:21.178Z"
   },
   {
    "duration": 56,
    "start_time": "2022-08-03T07:54:25.546Z"
   },
   {
    "duration": 20,
    "start_time": "2022-08-03T07:54:37.338Z"
   },
   {
    "duration": 54,
    "start_time": "2022-08-03T07:54:38.599Z"
   },
   {
    "duration": 22,
    "start_time": "2022-08-03T07:54:46.913Z"
   },
   {
    "duration": 54,
    "start_time": "2022-08-03T07:54:49.033Z"
   },
   {
    "duration": 20,
    "start_time": "2022-08-03T07:59:30.484Z"
   },
   {
    "duration": 50,
    "start_time": "2022-08-03T07:59:44.950Z"
   },
   {
    "duration": 22,
    "start_time": "2022-08-03T08:00:16.340Z"
   },
   {
    "duration": 16,
    "start_time": "2022-08-03T08:00:24.770Z"
   },
   {
    "duration": 20,
    "start_time": "2022-08-03T08:00:29.503Z"
   },
   {
    "duration": 20,
    "start_time": "2022-08-03T08:00:34.875Z"
   },
   {
    "duration": 50,
    "start_time": "2022-08-03T08:00:37.624Z"
   },
   {
    "duration": 50,
    "start_time": "2022-08-03T08:01:25.700Z"
   },
   {
    "duration": 50,
    "start_time": "2022-08-03T08:01:36.132Z"
   },
   {
    "duration": 49,
    "start_time": "2022-08-03T08:01:51.240Z"
   },
   {
    "duration": 47,
    "start_time": "2022-08-03T08:02:01.607Z"
   },
   {
    "duration": 182,
    "start_time": "2022-08-03T08:21:59.296Z"
   },
   {
    "duration": 130,
    "start_time": "2022-08-03T08:22:49.736Z"
   },
   {
    "duration": 94,
    "start_time": "2022-08-03T08:24:37.550Z"
   },
   {
    "duration": 161,
    "start_time": "2022-08-03T08:24:47.745Z"
   },
   {
    "duration": 517,
    "start_time": "2022-08-03T08:25:49.634Z"
   },
   {
    "duration": 535,
    "start_time": "2022-08-03T08:26:20.560Z"
   },
   {
    "duration": 503,
    "start_time": "2022-08-03T08:27:14.804Z"
   },
   {
    "duration": 389,
    "start_time": "2022-08-03T08:27:50.962Z"
   },
   {
    "duration": 401,
    "start_time": "2022-08-03T08:29:54.799Z"
   },
   {
    "duration": 313,
    "start_time": "2022-08-03T08:32:35.554Z"
   },
   {
    "duration": 336,
    "start_time": "2022-08-03T08:32:47.654Z"
   },
   {
    "duration": 297,
    "start_time": "2022-08-03T08:32:51.004Z"
   },
   {
    "duration": 315,
    "start_time": "2022-08-03T08:32:57.879Z"
   },
   {
    "duration": 310,
    "start_time": "2022-08-03T08:34:18.876Z"
   },
   {
    "duration": 542,
    "start_time": "2022-08-03T08:34:58.881Z"
   },
   {
    "duration": 320,
    "start_time": "2022-08-03T08:35:27.273Z"
   },
   {
    "duration": 276,
    "start_time": "2022-08-03T08:35:37.926Z"
   },
   {
    "duration": 574,
    "start_time": "2022-08-03T08:40:14.061Z"
   },
   {
    "duration": 403,
    "start_time": "2022-08-03T08:41:52.246Z"
   },
   {
    "duration": 1278,
    "start_time": "2022-08-03T08:42:12.935Z"
   },
   {
    "duration": 74,
    "start_time": "2022-08-03T08:42:14.215Z"
   },
   {
    "duration": 50,
    "start_time": "2022-08-03T08:42:14.291Z"
   },
   {
    "duration": 11,
    "start_time": "2022-08-03T08:42:14.344Z"
   },
   {
    "duration": 16,
    "start_time": "2022-08-03T08:42:14.357Z"
   },
   {
    "duration": 6,
    "start_time": "2022-08-03T08:42:14.375Z"
   },
   {
    "duration": 30,
    "start_time": "2022-08-03T08:42:14.383Z"
   },
   {
    "duration": 7,
    "start_time": "2022-08-03T08:42:14.415Z"
   },
   {
    "duration": 26,
    "start_time": "2022-08-03T08:42:14.424Z"
   },
   {
    "duration": 27,
    "start_time": "2022-08-03T08:42:14.453Z"
   },
   {
    "duration": 178,
    "start_time": "2022-08-03T08:42:14.481Z"
   },
   {
    "duration": 7,
    "start_time": "2022-08-03T08:42:14.661Z"
   },
   {
    "duration": 9,
    "start_time": "2022-08-03T08:42:14.670Z"
   },
   {
    "duration": 50,
    "start_time": "2022-08-03T08:42:14.680Z"
   },
   {
    "duration": 21,
    "start_time": "2022-08-03T08:42:14.732Z"
   },
   {
    "duration": 593,
    "start_time": "2022-08-03T08:42:14.755Z"
   },
   {
    "duration": 60,
    "start_time": "2022-08-03T08:42:15.350Z"
   },
   {
    "duration": 66,
    "start_time": "2022-08-03T08:42:15.412Z"
   },
   {
    "duration": 40,
    "start_time": "2022-08-03T08:42:15.480Z"
   },
   {
    "duration": 63,
    "start_time": "2022-08-03T08:42:15.522Z"
   },
   {
    "duration": 31,
    "start_time": "2022-08-03T08:42:15.587Z"
   },
   {
    "duration": 12,
    "start_time": "2022-08-03T08:42:15.620Z"
   },
   {
    "duration": 11,
    "start_time": "2022-08-03T08:42:15.634Z"
   },
   {
    "duration": 763,
    "start_time": "2022-08-03T08:42:15.647Z"
   },
   {
    "duration": 14,
    "start_time": "2022-08-03T08:42:16.413Z"
   },
   {
    "duration": 25,
    "start_time": "2022-08-03T08:42:16.430Z"
   },
   {
    "duration": 109,
    "start_time": "2022-08-03T08:42:16.513Z"
   },
   {
    "duration": 409,
    "start_time": "2022-08-03T08:42:16.627Z"
   },
   {
    "duration": 85,
    "start_time": "2022-08-03T08:42:17.038Z"
   },
   {
    "duration": 110,
    "start_time": "2022-08-03T08:42:17.126Z"
   },
   {
    "duration": 475,
    "start_time": "2022-08-03T08:42:17.238Z"
   },
   {
    "duration": 331,
    "start_time": "2022-08-03T08:43:29.439Z"
   },
   {
    "duration": 414,
    "start_time": "2022-08-03T08:43:49.546Z"
   },
   {
    "duration": 309,
    "start_time": "2022-08-03T08:45:37.051Z"
   },
   {
    "duration": 417,
    "start_time": "2022-08-03T08:45:45.981Z"
   },
   {
    "duration": 366,
    "start_time": "2022-08-03T08:47:52.881Z"
   },
   {
    "duration": 367,
    "start_time": "2022-08-03T08:48:02.782Z"
   },
   {
    "duration": 401,
    "start_time": "2022-08-03T08:48:13.004Z"
   },
   {
    "duration": 348,
    "start_time": "2022-08-03T08:49:22.869Z"
   },
   {
    "duration": 1023,
    "start_time": "2022-08-03T08:52:14.705Z"
   },
   {
    "duration": 15,
    "start_time": "2022-08-03T09:05:31.639Z"
   },
   {
    "duration": 1382,
    "start_time": "2022-08-03T09:06:28.542Z"
   },
   {
    "duration": 804,
    "start_time": "2022-08-03T09:08:40.606Z"
   },
   {
    "duration": 2335,
    "start_time": "2022-08-03T09:10:21.584Z"
   },
   {
    "duration": 2156,
    "start_time": "2022-08-03T09:10:25.132Z"
   },
   {
    "duration": 1386,
    "start_time": "2022-08-03T09:10:52.242Z"
   },
   {
    "duration": 2238,
    "start_time": "2022-08-03T09:11:09.433Z"
   },
   {
    "duration": 841,
    "start_time": "2022-08-03T09:11:17.588Z"
   },
   {
    "duration": 1398,
    "start_time": "2022-08-03T09:11:34.203Z"
   },
   {
    "duration": 829,
    "start_time": "2022-08-03T09:11:40.683Z"
   },
   {
    "duration": 789,
    "start_time": "2022-08-03T09:15:52.169Z"
   },
   {
    "duration": 36,
    "start_time": "2022-08-03T09:16:13.036Z"
   },
   {
    "duration": 34,
    "start_time": "2022-08-03T09:16:21.181Z"
   },
   {
    "duration": 37,
    "start_time": "2022-08-03T09:16:31.930Z"
   },
   {
    "duration": 27,
    "start_time": "2022-08-03T09:16:50.750Z"
   },
   {
    "duration": 14,
    "start_time": "2022-08-03T09:17:29.274Z"
   },
   {
    "duration": 18,
    "start_time": "2022-08-03T09:17:34.128Z"
   },
   {
    "duration": 20,
    "start_time": "2022-08-03T09:18:19.353Z"
   },
   {
    "duration": 16,
    "start_time": "2022-08-03T09:18:23.628Z"
   },
   {
    "duration": 18,
    "start_time": "2022-08-03T09:20:36.185Z"
   },
   {
    "duration": 17,
    "start_time": "2022-08-03T09:20:46.536Z"
   },
   {
    "duration": 24,
    "start_time": "2022-08-03T09:34:38.878Z"
   },
   {
    "duration": 20,
    "start_time": "2022-08-03T09:35:31.396Z"
   },
   {
    "duration": 34,
    "start_time": "2022-08-03T09:35:36.044Z"
   },
   {
    "duration": 36,
    "start_time": "2022-08-03T09:36:05.041Z"
   },
   {
    "duration": 34,
    "start_time": "2022-08-03T09:36:28.469Z"
   },
   {
    "duration": 63,
    "start_time": "2022-08-03T09:36:49.264Z"
   },
   {
    "duration": 51,
    "start_time": "2022-08-03T09:37:07.853Z"
   },
   {
    "duration": 15,
    "start_time": "2022-08-03T09:38:04.835Z"
   },
   {
    "duration": 16,
    "start_time": "2022-08-03T09:38:18.720Z"
   },
   {
    "duration": 46,
    "start_time": "2022-08-03T09:38:22.724Z"
   },
   {
    "duration": 1425,
    "start_time": "2022-08-03T09:39:37.678Z"
   },
   {
    "duration": 83,
    "start_time": "2022-08-03T09:39:39.105Z"
   },
   {
    "duration": 52,
    "start_time": "2022-08-03T09:39:39.189Z"
   },
   {
    "duration": 13,
    "start_time": "2022-08-03T09:39:39.243Z"
   },
   {
    "duration": 12,
    "start_time": "2022-08-03T09:39:39.259Z"
   },
   {
    "duration": 6,
    "start_time": "2022-08-03T09:39:39.292Z"
   },
   {
    "duration": 9,
    "start_time": "2022-08-03T09:39:39.300Z"
   },
   {
    "duration": 9,
    "start_time": "2022-08-03T09:39:39.311Z"
   },
   {
    "duration": 24,
    "start_time": "2022-08-03T09:39:39.322Z"
   },
   {
    "duration": 55,
    "start_time": "2022-08-03T09:39:39.348Z"
   },
   {
    "duration": 154,
    "start_time": "2022-08-03T09:39:39.404Z"
   },
   {
    "duration": 7,
    "start_time": "2022-08-03T09:39:39.560Z"
   },
   {
    "duration": 22,
    "start_time": "2022-08-03T09:39:39.569Z"
   },
   {
    "duration": 25,
    "start_time": "2022-08-03T09:39:39.595Z"
   },
   {
    "duration": 15,
    "start_time": "2022-08-03T09:39:39.621Z"
   },
   {
    "duration": 530,
    "start_time": "2022-08-03T09:39:39.638Z"
   },
   {
    "duration": 26,
    "start_time": "2022-08-03T09:39:40.169Z"
   },
   {
    "duration": 116,
    "start_time": "2022-08-03T09:39:40.197Z"
   },
   {
    "duration": 24,
    "start_time": "2022-08-03T09:39:40.316Z"
   },
   {
    "duration": 115,
    "start_time": "2022-08-03T09:39:40.342Z"
   },
   {
    "duration": 33,
    "start_time": "2022-08-03T09:39:40.459Z"
   },
   {
    "duration": 14,
    "start_time": "2022-08-03T09:39:40.494Z"
   },
   {
    "duration": 11,
    "start_time": "2022-08-03T09:39:40.509Z"
   },
   {
    "duration": 603,
    "start_time": "2022-08-03T09:39:40.522Z"
   },
   {
    "duration": 10,
    "start_time": "2022-08-03T09:39:41.127Z"
   },
   {
    "duration": 23,
    "start_time": "2022-08-03T09:39:41.138Z"
   },
   {
    "duration": 65,
    "start_time": "2022-08-03T09:39:41.163Z"
   },
   {
    "duration": 216,
    "start_time": "2022-08-03T09:39:41.230Z"
   },
   {
    "duration": 23,
    "start_time": "2022-08-03T09:39:41.448Z"
   },
   {
    "duration": 64,
    "start_time": "2022-08-03T09:39:41.473Z"
   },
   {
    "duration": 1201,
    "start_time": "2022-08-03T09:39:41.539Z"
   },
   {
    "duration": 18,
    "start_time": "2022-08-03T09:39:42.741Z"
   },
   {
    "duration": 46,
    "start_time": "2022-08-03T09:39:42.761Z"
   },
   {
    "duration": 50,
    "start_time": "2022-08-03T09:39:42.809Z"
   },
   {
    "duration": 57,
    "start_time": "2022-08-03T09:39:42.862Z"
   },
   {
    "duration": 1326,
    "start_time": "2022-08-03T09:40:40.649Z"
   },
   {
    "duration": 84,
    "start_time": "2022-08-03T09:40:41.977Z"
   },
   {
    "duration": 61,
    "start_time": "2022-08-03T09:40:42.066Z"
   },
   {
    "duration": 13,
    "start_time": "2022-08-03T09:40:42.129Z"
   },
   {
    "duration": 20,
    "start_time": "2022-08-03T09:40:42.145Z"
   },
   {
    "duration": 12,
    "start_time": "2022-08-03T09:40:42.167Z"
   },
   {
    "duration": 16,
    "start_time": "2022-08-03T09:40:42.181Z"
   },
   {
    "duration": 10,
    "start_time": "2022-08-03T09:40:42.199Z"
   },
   {
    "duration": 22,
    "start_time": "2022-08-03T09:40:42.211Z"
   },
   {
    "duration": 31,
    "start_time": "2022-08-03T09:40:42.235Z"
   },
   {
    "duration": 144,
    "start_time": "2022-08-03T09:40:42.292Z"
   },
   {
    "duration": 7,
    "start_time": "2022-08-03T09:40:42.438Z"
   },
   {
    "duration": 10,
    "start_time": "2022-08-03T09:40:42.447Z"
   },
   {
    "duration": 39,
    "start_time": "2022-08-03T09:40:42.460Z"
   },
   {
    "duration": 16,
    "start_time": "2022-08-03T09:40:42.501Z"
   },
   {
    "duration": 527,
    "start_time": "2022-08-03T09:40:42.519Z"
   },
   {
    "duration": 21,
    "start_time": "2022-08-03T09:40:43.047Z"
   },
   {
    "duration": 127,
    "start_time": "2022-08-03T09:40:43.070Z"
   },
   {
    "duration": 22,
    "start_time": "2022-08-03T09:40:43.198Z"
   },
   {
    "duration": 97,
    "start_time": "2022-08-03T09:40:43.221Z"
   },
   {
    "duration": 11,
    "start_time": "2022-08-03T09:40:43.319Z"
   },
   {
    "duration": 14,
    "start_time": "2022-08-03T09:40:43.331Z"
   },
   {
    "duration": 45,
    "start_time": "2022-08-03T09:40:43.347Z"
   },
   {
    "duration": 612,
    "start_time": "2022-08-03T09:40:43.393Z"
   },
   {
    "duration": 10,
    "start_time": "2022-08-03T09:40:44.007Z"
   },
   {
    "duration": 22,
    "start_time": "2022-08-03T09:40:44.019Z"
   },
   {
    "duration": 75,
    "start_time": "2022-08-03T09:40:44.043Z"
   },
   {
    "duration": 207,
    "start_time": "2022-08-03T09:40:44.120Z"
   },
   {
    "duration": 24,
    "start_time": "2022-08-03T09:40:44.329Z"
   },
   {
    "duration": 71,
    "start_time": "2022-08-03T09:40:44.354Z"
   },
   {
    "duration": 1019,
    "start_time": "2022-08-03T09:40:44.426Z"
   },
   {
    "duration": 19,
    "start_time": "2022-08-03T09:40:45.446Z"
   },
   {
    "duration": 46,
    "start_time": "2022-08-03T09:40:45.467Z"
   },
   {
    "duration": 51,
    "start_time": "2022-08-03T09:40:45.515Z"
   },
   {
    "duration": 27,
    "start_time": "2022-08-03T09:40:45.568Z"
   },
   {
    "duration": 16,
    "start_time": "2022-08-03T09:41:08.871Z"
   },
   {
    "duration": 19,
    "start_time": "2022-08-03T09:41:28.440Z"
   },
   {
    "duration": 20,
    "start_time": "2022-08-03T09:41:40.621Z"
   },
   {
    "duration": 22,
    "start_time": "2022-08-03T09:41:43.646Z"
   },
   {
    "duration": 23,
    "start_time": "2022-08-03T09:41:55.152Z"
   },
   {
    "duration": 29,
    "start_time": "2022-08-03T09:42:19.264Z"
   },
   {
    "duration": 32,
    "start_time": "2022-08-03T09:42:24.164Z"
   },
   {
    "duration": 17,
    "start_time": "2022-08-03T09:44:35.985Z"
   },
   {
    "duration": 19,
    "start_time": "2022-08-03T09:45:29.877Z"
   },
   {
    "duration": 196,
    "start_time": "2022-08-03T09:45:37.496Z"
   },
   {
    "duration": 26,
    "start_time": "2022-08-03T09:45:42.050Z"
   },
   {
    "duration": 23,
    "start_time": "2022-08-03T09:45:48.277Z"
   },
   {
    "duration": 19,
    "start_time": "2022-08-03T09:45:57.438Z"
   },
   {
    "duration": 10,
    "start_time": "2022-08-03T09:46:07.403Z"
   },
   {
    "duration": 16,
    "start_time": "2022-08-03T09:46:10.132Z"
   },
   {
    "duration": 16,
    "start_time": "2022-08-03T09:46:13.829Z"
   },
   {
    "duration": 14,
    "start_time": "2022-08-03T09:46:23.945Z"
   },
   {
    "duration": 14,
    "start_time": "2022-08-03T09:46:29.542Z"
   },
   {
    "duration": 1369,
    "start_time": "2022-08-03T09:46:35.370Z"
   },
   {
    "duration": 79,
    "start_time": "2022-08-03T09:46:36.741Z"
   },
   {
    "duration": 56,
    "start_time": "2022-08-03T09:46:36.822Z"
   },
   {
    "duration": 31,
    "start_time": "2022-08-03T09:46:36.880Z"
   },
   {
    "duration": 16,
    "start_time": "2022-08-03T09:46:36.914Z"
   },
   {
    "duration": 5,
    "start_time": "2022-08-03T09:46:36.933Z"
   },
   {
    "duration": 9,
    "start_time": "2022-08-03T09:46:36.940Z"
   },
   {
    "duration": 6,
    "start_time": "2022-08-03T09:46:36.952Z"
   },
   {
    "duration": 47,
    "start_time": "2022-08-03T09:46:36.960Z"
   },
   {
    "duration": 29,
    "start_time": "2022-08-03T09:46:37.009Z"
   },
   {
    "duration": 156,
    "start_time": "2022-08-03T09:46:37.040Z"
   },
   {
    "duration": 7,
    "start_time": "2022-08-03T09:46:37.198Z"
   },
   {
    "duration": 14,
    "start_time": "2022-08-03T09:46:37.206Z"
   },
   {
    "duration": 23,
    "start_time": "2022-08-03T09:46:37.223Z"
   },
   {
    "duration": 49,
    "start_time": "2022-08-03T09:46:37.248Z"
   },
   {
    "duration": 491,
    "start_time": "2022-08-03T09:46:37.298Z"
   },
   {
    "duration": 15,
    "start_time": "2022-08-03T09:46:37.791Z"
   },
   {
    "duration": 90,
    "start_time": "2022-08-03T09:46:37.808Z"
   },
   {
    "duration": 22,
    "start_time": "2022-08-03T09:46:37.900Z"
   },
   {
    "duration": 116,
    "start_time": "2022-08-03T09:46:37.924Z"
   },
   {
    "duration": 12,
    "start_time": "2022-08-03T09:46:38.042Z"
   },
   {
    "duration": 38,
    "start_time": "2022-08-03T09:46:38.055Z"
   },
   {
    "duration": 12,
    "start_time": "2022-08-03T09:46:38.095Z"
   },
   {
    "duration": 638,
    "start_time": "2022-08-03T09:46:38.109Z"
   },
   {
    "duration": 9,
    "start_time": "2022-08-03T09:46:38.749Z"
   },
   {
    "duration": 33,
    "start_time": "2022-08-03T09:46:38.760Z"
   },
   {
    "duration": 51,
    "start_time": "2022-08-03T09:46:38.795Z"
   },
   {
    "duration": 218,
    "start_time": "2022-08-03T09:46:38.848Z"
   },
   {
    "duration": 26,
    "start_time": "2022-08-03T09:46:39.068Z"
   },
   {
    "duration": 51,
    "start_time": "2022-08-03T09:46:39.096Z"
   },
   {
    "duration": 1062,
    "start_time": "2022-08-03T09:46:39.149Z"
   },
   {
    "duration": 21,
    "start_time": "2022-08-03T09:46:40.213Z"
   },
   {
    "duration": 157,
    "start_time": "2022-08-03T09:46:40.236Z"
   },
   {
    "duration": 116,
    "start_time": "2022-08-03T09:46:40.395Z"
   },
   {
    "duration": 84,
    "start_time": "2022-08-03T09:46:40.513Z"
   },
   {
    "duration": 18,
    "start_time": "2022-08-03T09:46:40.599Z"
   },
   {
    "duration": 255,
    "start_time": "2022-08-03T09:47:16.165Z"
   },
   {
    "duration": 15,
    "start_time": "2022-08-03T09:47:24.897Z"
   },
   {
    "duration": 14,
    "start_time": "2022-08-03T09:47:36.248Z"
   },
   {
    "duration": 1275,
    "start_time": "2022-08-03T09:47:43.742Z"
   },
   {
    "duration": 81,
    "start_time": "2022-08-03T09:47:45.019Z"
   },
   {
    "duration": 70,
    "start_time": "2022-08-03T09:47:45.102Z"
   },
   {
    "duration": 26,
    "start_time": "2022-08-03T09:47:45.174Z"
   },
   {
    "duration": 14,
    "start_time": "2022-08-03T09:47:45.204Z"
   },
   {
    "duration": 7,
    "start_time": "2022-08-03T09:47:45.220Z"
   },
   {
    "duration": 17,
    "start_time": "2022-08-03T09:47:45.229Z"
   },
   {
    "duration": 12,
    "start_time": "2022-08-03T09:47:45.248Z"
   },
   {
    "duration": 46,
    "start_time": "2022-08-03T09:47:45.262Z"
   },
   {
    "duration": 30,
    "start_time": "2022-08-03T09:47:45.310Z"
   },
   {
    "duration": 165,
    "start_time": "2022-08-03T09:47:45.342Z"
   },
   {
    "duration": 8,
    "start_time": "2022-08-03T09:47:45.508Z"
   },
   {
    "duration": 11,
    "start_time": "2022-08-03T09:47:45.517Z"
   },
   {
    "duration": 22,
    "start_time": "2022-08-03T09:47:45.531Z"
   },
   {
    "duration": 45,
    "start_time": "2022-08-03T09:47:45.554Z"
   },
   {
    "duration": 514,
    "start_time": "2022-08-03T09:47:45.601Z"
   },
   {
    "duration": 16,
    "start_time": "2022-08-03T09:47:46.116Z"
   },
   {
    "duration": 79,
    "start_time": "2022-08-03T09:47:46.134Z"
   },
   {
    "duration": 21,
    "start_time": "2022-08-03T09:47:46.215Z"
   },
   {
    "duration": 111,
    "start_time": "2022-08-03T09:47:46.237Z"
   },
   {
    "duration": 11,
    "start_time": "2022-08-03T09:47:46.350Z"
   },
   {
    "duration": 38,
    "start_time": "2022-08-03T09:47:46.362Z"
   },
   {
    "duration": 11,
    "start_time": "2022-08-03T09:47:46.402Z"
   },
   {
    "duration": 611,
    "start_time": "2022-08-03T09:47:46.415Z"
   },
   {
    "duration": 10,
    "start_time": "2022-08-03T09:47:47.028Z"
   },
   {
    "duration": 36,
    "start_time": "2022-08-03T09:47:47.040Z"
   },
   {
    "duration": 85,
    "start_time": "2022-08-03T09:47:47.078Z"
   },
   {
    "duration": 235,
    "start_time": "2022-08-03T09:47:47.165Z"
   },
   {
    "duration": 26,
    "start_time": "2022-08-03T09:47:47.402Z"
   },
   {
    "duration": 66,
    "start_time": "2022-08-03T09:47:47.430Z"
   },
   {
    "duration": 1035,
    "start_time": "2022-08-03T09:47:47.498Z"
   },
   {
    "duration": 18,
    "start_time": "2022-08-03T09:47:48.535Z"
   },
   {
    "duration": 62,
    "start_time": "2022-08-03T09:47:48.554Z"
   },
   {
    "duration": 105,
    "start_time": "2022-08-03T09:47:48.618Z"
   },
   {
    "duration": 90,
    "start_time": "2022-08-03T09:47:48.725Z"
   },
   {
    "duration": 17,
    "start_time": "2022-08-03T09:47:48.817Z"
   },
   {
    "duration": 15,
    "start_time": "2022-08-03T09:47:57.441Z"
   },
   {
    "duration": 18,
    "start_time": "2022-08-03T09:48:00.892Z"
   },
   {
    "duration": 18,
    "start_time": "2022-08-03T09:48:17.459Z"
   },
   {
    "duration": 16,
    "start_time": "2022-08-03T09:48:23.632Z"
   },
   {
    "duration": 13,
    "start_time": "2022-08-03T09:48:34.474Z"
   },
   {
    "duration": 1381,
    "start_time": "2022-08-03T09:48:42.648Z"
   },
   {
    "duration": 72,
    "start_time": "2022-08-03T09:48:44.032Z"
   },
   {
    "duration": 50,
    "start_time": "2022-08-03T09:48:44.106Z"
   },
   {
    "duration": 13,
    "start_time": "2022-08-03T09:48:44.159Z"
   },
   {
    "duration": 10,
    "start_time": "2022-08-03T09:48:44.192Z"
   },
   {
    "duration": 7,
    "start_time": "2022-08-03T09:48:44.204Z"
   },
   {
    "duration": 13,
    "start_time": "2022-08-03T09:48:44.213Z"
   },
   {
    "duration": 23,
    "start_time": "2022-08-03T09:48:44.228Z"
   },
   {
    "duration": 35,
    "start_time": "2022-08-03T09:48:44.253Z"
   },
   {
    "duration": 43,
    "start_time": "2022-08-03T09:48:44.290Z"
   },
   {
    "duration": 138,
    "start_time": "2022-08-03T09:48:44.335Z"
   },
   {
    "duration": 7,
    "start_time": "2022-08-03T09:48:44.474Z"
   },
   {
    "duration": 8,
    "start_time": "2022-08-03T09:48:44.492Z"
   },
   {
    "duration": 45,
    "start_time": "2022-08-03T09:48:44.503Z"
   },
   {
    "duration": 18,
    "start_time": "2022-08-03T09:48:44.550Z"
   },
   {
    "duration": 472,
    "start_time": "2022-08-03T09:48:44.570Z"
   },
   {
    "duration": 22,
    "start_time": "2022-08-03T09:48:45.043Z"
   },
   {
    "duration": 156,
    "start_time": "2022-08-03T09:48:45.067Z"
   },
   {
    "duration": 35,
    "start_time": "2022-08-03T09:48:45.225Z"
   },
   {
    "duration": 106,
    "start_time": "2022-08-03T09:48:45.262Z"
   },
   {
    "duration": 26,
    "start_time": "2022-08-03T09:48:45.371Z"
   },
   {
    "duration": 14,
    "start_time": "2022-08-03T09:48:45.399Z"
   },
   {
    "duration": 14,
    "start_time": "2022-08-03T09:48:45.415Z"
   },
   {
    "duration": 607,
    "start_time": "2022-08-03T09:48:45.431Z"
   },
   {
    "duration": 10,
    "start_time": "2022-08-03T09:48:46.091Z"
   },
   {
    "duration": 23,
    "start_time": "2022-08-03T09:48:46.103Z"
   },
   {
    "duration": 105,
    "start_time": "2022-08-03T09:48:46.128Z"
   },
   {
    "duration": 413,
    "start_time": "2022-08-03T09:48:46.291Z"
   },
   {
    "duration": 22,
    "start_time": "2022-08-03T09:48:46.706Z"
   },
   {
    "duration": 163,
    "start_time": "2022-08-03T09:48:46.730Z"
   },
   {
    "duration": 1123,
    "start_time": "2022-08-03T09:48:46.895Z"
   },
   {
    "duration": 23,
    "start_time": "2022-08-03T09:48:48.020Z"
   },
   {
    "duration": 55,
    "start_time": "2022-08-03T09:48:48.045Z"
   },
   {
    "duration": 49,
    "start_time": "2022-08-03T09:48:48.102Z"
   },
   {
    "duration": 52,
    "start_time": "2022-08-03T09:48:48.153Z"
   },
   {
    "duration": 10,
    "start_time": "2022-08-03T09:48:48.206Z"
   },
   {
    "duration": 17,
    "start_time": "2022-08-03T09:48:56.941Z"
   },
   {
    "duration": 9,
    "start_time": "2022-08-03T09:49:10.932Z"
   },
   {
    "duration": 1371,
    "start_time": "2022-08-03T09:49:17.031Z"
   },
   {
    "duration": 74,
    "start_time": "2022-08-03T09:49:18.404Z"
   },
   {
    "duration": 116,
    "start_time": "2022-08-03T09:49:18.492Z"
   },
   {
    "duration": 13,
    "start_time": "2022-08-03T09:49:18.610Z"
   },
   {
    "duration": 68,
    "start_time": "2022-08-03T09:49:18.627Z"
   },
   {
    "duration": 7,
    "start_time": "2022-08-03T09:49:18.698Z"
   },
   {
    "duration": 8,
    "start_time": "2022-08-03T09:49:18.707Z"
   },
   {
    "duration": 7,
    "start_time": "2022-08-03T09:49:18.717Z"
   },
   {
    "duration": 71,
    "start_time": "2022-08-03T09:49:18.726Z"
   },
   {
    "duration": 28,
    "start_time": "2022-08-03T09:49:18.799Z"
   },
   {
    "duration": 290,
    "start_time": "2022-08-03T09:49:18.829Z"
   },
   {
    "duration": 7,
    "start_time": "2022-08-03T09:49:19.121Z"
   },
   {
    "duration": 62,
    "start_time": "2022-08-03T09:49:19.130Z"
   },
   {
    "duration": 21,
    "start_time": "2022-08-03T09:49:19.195Z"
   },
   {
    "duration": 74,
    "start_time": "2022-08-03T09:49:19.218Z"
   },
   {
    "duration": 943,
    "start_time": "2022-08-03T09:49:19.295Z"
   },
   {
    "duration": 65,
    "start_time": "2022-08-03T09:49:20.240Z"
   },
   {
    "duration": 97,
    "start_time": "2022-08-03T09:49:20.306Z"
   },
   {
    "duration": 23,
    "start_time": "2022-08-03T09:49:20.405Z"
   },
   {
    "duration": 175,
    "start_time": "2022-08-03T09:49:20.429Z"
   },
   {
    "duration": 10,
    "start_time": "2022-08-03T09:49:20.606Z"
   },
   {
    "duration": 13,
    "start_time": "2022-08-03T09:49:20.618Z"
   },
   {
    "duration": 66,
    "start_time": "2022-08-03T09:49:20.632Z"
   },
   {
    "duration": 675,
    "start_time": "2022-08-03T09:49:20.700Z"
   },
   {
    "duration": 19,
    "start_time": "2022-08-03T09:49:21.377Z"
   },
   {
    "duration": 22,
    "start_time": "2022-08-03T09:49:21.398Z"
   },
   {
    "duration": 73,
    "start_time": "2022-08-03T09:49:21.422Z"
   },
   {
    "duration": 248,
    "start_time": "2022-08-03T09:49:21.498Z"
   },
   {
    "duration": 24,
    "start_time": "2022-08-03T09:49:21.748Z"
   },
   {
    "duration": 78,
    "start_time": "2022-08-03T09:49:21.796Z"
   },
   {
    "duration": 992,
    "start_time": "2022-08-03T09:49:21.877Z"
   },
   {
    "duration": 18,
    "start_time": "2022-08-03T09:49:22.872Z"
   },
   {
    "duration": 40,
    "start_time": "2022-08-03T09:49:22.892Z"
   },
   {
    "duration": 62,
    "start_time": "2022-08-03T09:49:22.934Z"
   },
   {
    "duration": 30,
    "start_time": "2022-08-03T09:49:22.999Z"
   },
   {
    "duration": 10,
    "start_time": "2022-08-03T09:49:23.031Z"
   },
   {
    "duration": 13,
    "start_time": "2022-08-03T09:49:23.043Z"
   },
   {
    "duration": 7,
    "start_time": "2022-08-03T09:49:34.958Z"
   },
   {
    "duration": 3,
    "start_time": "2022-08-03T09:49:39.853Z"
   },
   {
    "duration": 9,
    "start_time": "2022-08-03T09:49:42.906Z"
   },
   {
    "duration": 53,
    "start_time": "2022-08-03T09:50:25.374Z"
   },
   {
    "duration": 10,
    "start_time": "2022-08-03T09:50:54.933Z"
   },
   {
    "duration": 9,
    "start_time": "2022-08-03T09:51:00.348Z"
   },
   {
    "duration": 49,
    "start_time": "2022-08-03T09:51:03.033Z"
   },
   {
    "duration": 54,
    "start_time": "2022-08-03T09:52:31.482Z"
   },
   {
    "duration": 51,
    "start_time": "2022-08-03T09:52:44.799Z"
   },
   {
    "duration": 1326,
    "start_time": "2022-08-03T09:58:46.570Z"
   },
   {
    "duration": 76,
    "start_time": "2022-08-03T09:58:47.899Z"
   },
   {
    "duration": 65,
    "start_time": "2022-08-03T09:58:47.977Z"
   },
   {
    "duration": 12,
    "start_time": "2022-08-03T09:58:48.044Z"
   },
   {
    "duration": 17,
    "start_time": "2022-08-03T09:58:48.059Z"
   },
   {
    "duration": 7,
    "start_time": "2022-08-03T09:58:48.092Z"
   },
   {
    "duration": 10,
    "start_time": "2022-08-03T09:58:48.101Z"
   },
   {
    "duration": 10,
    "start_time": "2022-08-03T09:58:48.114Z"
   },
   {
    "duration": 38,
    "start_time": "2022-08-03T09:58:48.126Z"
   },
   {
    "duration": 50,
    "start_time": "2022-08-03T09:58:48.168Z"
   },
   {
    "duration": 151,
    "start_time": "2022-08-03T09:58:48.220Z"
   },
   {
    "duration": 21,
    "start_time": "2022-08-03T09:58:48.373Z"
   },
   {
    "duration": 8,
    "start_time": "2022-08-03T09:58:48.396Z"
   },
   {
    "duration": 25,
    "start_time": "2022-08-03T09:58:48.405Z"
   },
   {
    "duration": 17,
    "start_time": "2022-08-03T09:58:48.431Z"
   },
   {
    "duration": 580,
    "start_time": "2022-08-03T09:58:48.450Z"
   },
   {
    "duration": 62,
    "start_time": "2022-08-03T09:58:49.031Z"
   },
   {
    "duration": 48,
    "start_time": "2022-08-03T09:58:49.095Z"
   },
   {
    "duration": 48,
    "start_time": "2022-08-03T09:58:49.145Z"
   },
   {
    "duration": 59,
    "start_time": "2022-08-03T09:58:49.195Z"
   },
   {
    "duration": 10,
    "start_time": "2022-08-03T09:58:49.256Z"
   },
   {
    "duration": 16,
    "start_time": "2022-08-03T09:58:49.292Z"
   },
   {
    "duration": 43,
    "start_time": "2022-08-03T09:58:49.310Z"
   },
   {
    "duration": 655,
    "start_time": "2022-08-03T09:58:49.355Z"
   },
   {
    "duration": 11,
    "start_time": "2022-08-03T09:58:50.013Z"
   },
   {
    "duration": 38,
    "start_time": "2022-08-03T09:58:50.025Z"
   },
   {
    "duration": 91,
    "start_time": "2022-08-03T09:58:50.065Z"
   },
   {
    "duration": 207,
    "start_time": "2022-08-03T09:58:50.159Z"
   },
   {
    "duration": 28,
    "start_time": "2022-08-03T09:58:50.368Z"
   },
   {
    "duration": 51,
    "start_time": "2022-08-03T09:58:50.398Z"
   },
   {
    "duration": 1283,
    "start_time": "2022-08-03T09:58:50.451Z"
   },
   {
    "duration": 18,
    "start_time": "2022-08-03T09:58:51.736Z"
   },
   {
    "duration": 58,
    "start_time": "2022-08-03T09:58:51.756Z"
   },
   {
    "duration": 83,
    "start_time": "2022-08-03T09:58:51.816Z"
   },
   {
    "duration": 42,
    "start_time": "2022-08-03T09:58:51.901Z"
   },
   {
    "duration": 19,
    "start_time": "2022-08-03T09:58:51.946Z"
   },
   {
    "duration": 44,
    "start_time": "2022-08-03T09:58:51.968Z"
   },
   {
    "duration": 125,
    "start_time": "2022-08-03T09:58:52.014Z"
   },
   {
    "duration": 1310,
    "start_time": "2022-08-03T10:08:27.757Z"
   },
   {
    "duration": 74,
    "start_time": "2022-08-03T10:08:29.069Z"
   },
   {
    "duration": 59,
    "start_time": "2022-08-03T10:08:29.145Z"
   },
   {
    "duration": 13,
    "start_time": "2022-08-03T10:08:29.208Z"
   },
   {
    "duration": 13,
    "start_time": "2022-08-03T10:08:29.223Z"
   },
   {
    "duration": 6,
    "start_time": "2022-08-03T10:08:29.238Z"
   },
   {
    "duration": 10,
    "start_time": "2022-08-03T10:08:29.246Z"
   },
   {
    "duration": 35,
    "start_time": "2022-08-03T10:08:29.258Z"
   },
   {
    "duration": 30,
    "start_time": "2022-08-03T10:08:29.295Z"
   },
   {
    "duration": 40,
    "start_time": "2022-08-03T10:08:29.327Z"
   },
   {
    "duration": 168,
    "start_time": "2022-08-03T10:08:29.369Z"
   },
   {
    "duration": 7,
    "start_time": "2022-08-03T10:08:29.538Z"
   },
   {
    "duration": 7,
    "start_time": "2022-08-03T10:08:29.547Z"
   },
   {
    "duration": 43,
    "start_time": "2022-08-03T10:08:29.556Z"
   },
   {
    "duration": 15,
    "start_time": "2022-08-03T10:08:29.601Z"
   },
   {
    "duration": 584,
    "start_time": "2022-08-03T10:08:29.618Z"
   },
   {
    "duration": 15,
    "start_time": "2022-08-03T10:08:30.204Z"
   },
   {
    "duration": 63,
    "start_time": "2022-08-03T10:08:30.221Z"
   },
   {
    "duration": 26,
    "start_time": "2022-08-03T10:08:30.286Z"
   },
   {
    "duration": 79,
    "start_time": "2022-08-03T10:08:30.314Z"
   },
   {
    "duration": 11,
    "start_time": "2022-08-03T10:08:30.395Z"
   },
   {
    "duration": 27,
    "start_time": "2022-08-03T10:08:30.408Z"
   },
   {
    "duration": 54,
    "start_time": "2022-08-03T10:08:30.437Z"
   },
   {
    "duration": 610,
    "start_time": "2022-08-03T10:08:30.493Z"
   },
   {
    "duration": 10,
    "start_time": "2022-08-03T10:08:31.105Z"
   },
   {
    "duration": 48,
    "start_time": "2022-08-03T10:08:31.116Z"
   },
   {
    "duration": 65,
    "start_time": "2022-08-03T10:08:31.167Z"
   },
   {
    "duration": 195,
    "start_time": "2022-08-03T10:08:31.235Z"
   },
   {
    "duration": 21,
    "start_time": "2022-08-03T10:08:31.432Z"
   },
   {
    "duration": 63,
    "start_time": "2022-08-03T10:08:31.454Z"
   },
   {
    "duration": 1112,
    "start_time": "2022-08-03T10:08:31.519Z"
   },
   {
    "duration": 19,
    "start_time": "2022-08-03T10:08:32.633Z"
   },
   {
    "duration": 62,
    "start_time": "2022-08-03T10:08:32.654Z"
   },
   {
    "duration": 61,
    "start_time": "2022-08-03T10:08:32.718Z"
   },
   {
    "duration": 30,
    "start_time": "2022-08-03T10:08:32.792Z"
   },
   {
    "duration": 11,
    "start_time": "2022-08-03T10:08:32.823Z"
   },
   {
    "duration": 10,
    "start_time": "2022-08-03T10:08:32.835Z"
   },
   {
    "duration": 100,
    "start_time": "2022-08-03T10:08:32.847Z"
   },
   {
    "duration": 1333,
    "start_time": "2022-08-03T10:34:41.348Z"
   },
   {
    "duration": 81,
    "start_time": "2022-08-03T10:34:42.684Z"
   },
   {
    "duration": 58,
    "start_time": "2022-08-03T10:34:42.767Z"
   },
   {
    "duration": 17,
    "start_time": "2022-08-03T10:34:42.827Z"
   },
   {
    "duration": 16,
    "start_time": "2022-08-03T10:34:42.846Z"
   },
   {
    "duration": 6,
    "start_time": "2022-08-03T10:34:42.864Z"
   },
   {
    "duration": 24,
    "start_time": "2022-08-03T10:34:42.872Z"
   },
   {
    "duration": 10,
    "start_time": "2022-08-03T10:34:42.897Z"
   },
   {
    "duration": 28,
    "start_time": "2022-08-03T10:34:42.909Z"
   },
   {
    "duration": 57,
    "start_time": "2022-08-03T10:34:42.940Z"
   },
   {
    "duration": 167,
    "start_time": "2022-08-03T10:34:42.999Z"
   },
   {
    "duration": 8,
    "start_time": "2022-08-03T10:34:43.168Z"
   },
   {
    "duration": 18,
    "start_time": "2022-08-03T10:34:43.178Z"
   },
   {
    "duration": 24,
    "start_time": "2022-08-03T10:34:43.197Z"
   },
   {
    "duration": 16,
    "start_time": "2022-08-03T10:34:43.223Z"
   },
   {
    "duration": 561,
    "start_time": "2022-08-03T10:34:43.240Z"
   },
   {
    "duration": 16,
    "start_time": "2022-08-03T10:34:43.803Z"
   },
   {
    "duration": 44,
    "start_time": "2022-08-03T10:34:43.821Z"
   },
   {
    "duration": 21,
    "start_time": "2022-08-03T10:34:43.892Z"
   },
   {
    "duration": 80,
    "start_time": "2022-08-03T10:34:43.915Z"
   },
   {
    "duration": 12,
    "start_time": "2022-08-03T10:34:43.996Z"
   },
   {
    "duration": 14,
    "start_time": "2022-08-03T10:34:44.010Z"
   },
   {
    "duration": 11,
    "start_time": "2022-08-03T10:34:44.026Z"
   },
   {
    "duration": 600,
    "start_time": "2022-08-03T10:34:44.039Z"
   },
   {
    "duration": 10,
    "start_time": "2022-08-03T10:34:44.640Z"
   },
   {
    "duration": 20,
    "start_time": "2022-08-03T10:34:44.652Z"
   },
   {
    "duration": 64,
    "start_time": "2022-08-03T10:34:44.674Z"
   },
   {
    "duration": 209,
    "start_time": "2022-08-03T10:34:44.741Z"
   },
   {
    "duration": 21,
    "start_time": "2022-08-03T10:34:44.951Z"
   },
   {
    "duration": 57,
    "start_time": "2022-08-03T10:34:44.973Z"
   },
   {
    "duration": 1096,
    "start_time": "2022-08-03T10:34:45.032Z"
   },
   {
    "duration": 17,
    "start_time": "2022-08-03T10:34:46.130Z"
   },
   {
    "duration": 51,
    "start_time": "2022-08-03T10:34:46.149Z"
   },
   {
    "duration": 48,
    "start_time": "2022-08-03T10:34:46.202Z"
   },
   {
    "duration": 53,
    "start_time": "2022-08-03T10:34:46.252Z"
   },
   {
    "duration": 10,
    "start_time": "2022-08-03T10:34:46.306Z"
   },
   {
    "duration": 18,
    "start_time": "2022-08-03T10:34:46.318Z"
   },
   {
    "duration": 62,
    "start_time": "2022-08-03T10:34:46.338Z"
   },
   {
    "duration": 6,
    "start_time": "2022-08-03T10:41:38.531Z"
   },
   {
    "duration": 1378,
    "start_time": "2022-08-03T11:45:11.830Z"
   },
   {
    "duration": 74,
    "start_time": "2022-08-03T11:45:13.211Z"
   },
   {
    "duration": 54,
    "start_time": "2022-08-03T11:45:13.288Z"
   },
   {
    "duration": 16,
    "start_time": "2022-08-03T11:45:13.344Z"
   },
   {
    "duration": 31,
    "start_time": "2022-08-03T11:45:13.362Z"
   },
   {
    "duration": 7,
    "start_time": "2022-08-03T11:45:13.395Z"
   },
   {
    "duration": 20,
    "start_time": "2022-08-03T11:45:13.404Z"
   },
   {
    "duration": 6,
    "start_time": "2022-08-03T11:45:13.426Z"
   },
   {
    "duration": 25,
    "start_time": "2022-08-03T11:45:13.434Z"
   },
   {
    "duration": 58,
    "start_time": "2022-08-03T11:45:13.461Z"
   },
   {
    "duration": 150,
    "start_time": "2022-08-03T11:45:13.520Z"
   },
   {
    "duration": 7,
    "start_time": "2022-08-03T11:45:13.671Z"
   },
   {
    "duration": 7,
    "start_time": "2022-08-03T11:45:13.692Z"
   },
   {
    "duration": 26,
    "start_time": "2022-08-03T11:45:13.703Z"
   },
   {
    "duration": 16,
    "start_time": "2022-08-03T11:45:13.731Z"
   },
   {
    "duration": 553,
    "start_time": "2022-08-03T11:45:13.749Z"
   },
   {
    "duration": 16,
    "start_time": "2022-08-03T11:45:14.304Z"
   },
   {
    "duration": 97,
    "start_time": "2022-08-03T11:45:14.322Z"
   },
   {
    "duration": 76,
    "start_time": "2022-08-03T11:45:14.421Z"
   },
   {
    "duration": 105,
    "start_time": "2022-08-03T11:45:14.499Z"
   },
   {
    "duration": 10,
    "start_time": "2022-08-03T11:45:14.607Z"
   },
   {
    "duration": 14,
    "start_time": "2022-08-03T11:45:14.619Z"
   },
   {
    "duration": 13,
    "start_time": "2022-08-03T11:45:14.635Z"
   },
   {
    "duration": 662,
    "start_time": "2022-08-03T11:45:14.650Z"
   },
   {
    "duration": 11,
    "start_time": "2022-08-03T11:45:15.314Z"
   },
   {
    "duration": 65,
    "start_time": "2022-08-03T11:45:15.326Z"
   },
   {
    "duration": 42,
    "start_time": "2022-08-03T11:45:15.393Z"
   },
   {
    "duration": 58,
    "start_time": "2022-08-03T11:45:15.438Z"
   },
   {
    "duration": 204,
    "start_time": "2022-08-03T11:45:15.497Z"
   },
   {
    "duration": 23,
    "start_time": "2022-08-03T11:45:15.703Z"
   },
   {
    "duration": 74,
    "start_time": "2022-08-03T11:45:15.728Z"
   },
   {
    "duration": 1219,
    "start_time": "2022-08-03T11:45:15.804Z"
   },
   {
    "duration": 28,
    "start_time": "2022-08-03T11:45:17.025Z"
   },
   {
    "duration": 55,
    "start_time": "2022-08-03T11:45:17.055Z"
   },
   {
    "duration": 83,
    "start_time": "2022-08-03T11:45:17.113Z"
   },
   {
    "duration": 38,
    "start_time": "2022-08-03T11:45:17.198Z"
   },
   {
    "duration": 11,
    "start_time": "2022-08-03T11:45:17.239Z"
   },
   {
    "duration": 41,
    "start_time": "2022-08-03T11:45:17.252Z"
   },
   {
    "duration": 66,
    "start_time": "2022-08-03T11:45:17.296Z"
   },
   {
    "duration": 118,
    "start_time": "2022-08-03T14:33:28.367Z"
   },
   {
    "duration": 74,
    "start_time": "2022-08-03T14:33:28.989Z"
   },
   {
    "duration": 54,
    "start_time": "2022-08-03T14:52:22.575Z"
   },
   {
    "duration": 1206,
    "start_time": "2022-08-03T14:52:27.657Z"
   },
   {
    "duration": 70,
    "start_time": "2022-08-03T14:52:28.864Z"
   },
   {
    "duration": 51,
    "start_time": "2022-08-03T14:52:28.936Z"
   },
   {
    "duration": 11,
    "start_time": "2022-08-03T14:52:28.989Z"
   },
   {
    "duration": 10,
    "start_time": "2022-08-03T14:52:29.010Z"
   },
   {
    "duration": 5,
    "start_time": "2022-08-03T14:52:29.022Z"
   },
   {
    "duration": 6,
    "start_time": "2022-08-03T14:52:29.028Z"
   },
   {
    "duration": 4,
    "start_time": "2022-08-03T14:52:29.036Z"
   },
   {
    "duration": 18,
    "start_time": "2022-08-03T14:52:29.042Z"
   },
   {
    "duration": 66,
    "start_time": "2022-08-03T14:52:29.063Z"
   },
   {
    "duration": 122,
    "start_time": "2022-08-03T14:52:29.131Z"
   },
   {
    "duration": 6,
    "start_time": "2022-08-03T14:52:29.254Z"
   },
   {
    "duration": 6,
    "start_time": "2022-08-03T14:52:29.261Z"
   },
   {
    "duration": 19,
    "start_time": "2022-08-03T14:52:29.269Z"
   },
   {
    "duration": 31,
    "start_time": "2022-08-03T14:52:29.290Z"
   },
   {
    "duration": 1894,
    "start_time": "2022-08-03T14:52:29.323Z"
   },
   {
    "duration": 14,
    "start_time": "2022-08-03T14:52:31.219Z"
   },
   {
    "duration": 57,
    "start_time": "2022-08-03T14:52:31.234Z"
   },
   {
    "duration": 27,
    "start_time": "2022-08-03T14:52:31.293Z"
   },
   {
    "duration": 57,
    "start_time": "2022-08-03T14:52:31.322Z"
   },
   {
    "duration": 9,
    "start_time": "2022-08-03T14:52:31.380Z"
   },
   {
    "duration": 14,
    "start_time": "2022-08-03T14:52:31.411Z"
   },
   {
    "duration": 52,
    "start_time": "2022-08-03T14:52:31.427Z"
   },
   {
    "duration": 538,
    "start_time": "2022-08-03T14:52:31.481Z"
   },
   {
    "duration": 10,
    "start_time": "2022-08-03T14:52:32.020Z"
   },
   {
    "duration": 15,
    "start_time": "2022-08-03T14:52:32.031Z"
   },
   {
    "duration": 23,
    "start_time": "2022-08-03T14:52:32.047Z"
   },
   {
    "duration": 86,
    "start_time": "2022-08-03T14:52:32.075Z"
   },
   {
    "duration": 165,
    "start_time": "2022-08-03T14:52:32.162Z"
   },
   {
    "duration": 6,
    "start_time": "2022-08-03T14:52:32.329Z"
   },
   {
    "duration": 37,
    "start_time": "2022-08-03T14:52:32.337Z"
   },
   {
    "duration": 64,
    "start_time": "2022-08-03T14:52:32.376Z"
   },
   {
    "duration": 1110,
    "start_time": "2022-08-03T14:52:32.442Z"
   },
   {
    "duration": 15,
    "start_time": "2022-08-03T14:52:33.554Z"
   },
   {
    "duration": 44,
    "start_time": "2022-08-03T14:52:33.570Z"
   },
   {
    "duration": 42,
    "start_time": "2022-08-03T14:52:33.615Z"
   },
   {
    "duration": 24,
    "start_time": "2022-08-03T14:52:33.658Z"
   },
   {
    "duration": 28,
    "start_time": "2022-08-03T14:52:33.684Z"
   },
   {
    "duration": 10,
    "start_time": "2022-08-03T14:52:33.714Z"
   },
   {
    "duration": 50,
    "start_time": "2022-08-03T14:52:33.725Z"
   },
   {
    "duration": 7,
    "start_time": "2022-08-03T14:53:28.883Z"
   },
   {
    "duration": 74,
    "start_time": "2022-08-03T14:55:00.751Z"
   },
   {
    "duration": 161,
    "start_time": "2022-08-03T14:55:01.956Z"
   },
   {
    "duration": 48,
    "start_time": "2022-08-04T06:15:10.642Z"
   },
   {
    "duration": 1474,
    "start_time": "2022-08-04T06:15:15.146Z"
   },
   {
    "duration": 280,
    "start_time": "2022-08-04T06:15:16.623Z"
   },
   {
    "duration": 58,
    "start_time": "2022-08-04T06:15:16.905Z"
   },
   {
    "duration": 11,
    "start_time": "2022-08-04T06:15:16.966Z"
   },
   {
    "duration": 33,
    "start_time": "2022-08-04T06:15:16.980Z"
   },
   {
    "duration": 6,
    "start_time": "2022-08-04T06:15:17.015Z"
   },
   {
    "duration": 7,
    "start_time": "2022-08-04T06:15:17.023Z"
   },
   {
    "duration": 9,
    "start_time": "2022-08-04T06:15:17.033Z"
   },
   {
    "duration": 29,
    "start_time": "2022-08-04T06:15:17.045Z"
   },
   {
    "duration": 41,
    "start_time": "2022-08-04T06:15:17.076Z"
   },
   {
    "duration": 173,
    "start_time": "2022-08-04T06:15:17.119Z"
   },
   {
    "duration": 10,
    "start_time": "2022-08-04T06:15:17.294Z"
   },
   {
    "duration": 14,
    "start_time": "2022-08-04T06:15:17.306Z"
   },
   {
    "duration": 28,
    "start_time": "2022-08-04T06:15:17.325Z"
   },
   {
    "duration": 16,
    "start_time": "2022-08-04T06:15:17.355Z"
   },
   {
    "duration": 500,
    "start_time": "2022-08-04T06:15:17.373Z"
   },
   {
    "duration": 28,
    "start_time": "2022-08-04T06:15:17.875Z"
   },
   {
    "duration": 104,
    "start_time": "2022-08-04T06:15:17.906Z"
   },
   {
    "duration": 22,
    "start_time": "2022-08-04T06:15:18.011Z"
   },
   {
    "duration": 105,
    "start_time": "2022-08-04T06:15:18.035Z"
   },
   {
    "duration": 11,
    "start_time": "2022-08-04T06:15:18.141Z"
   },
   {
    "duration": 14,
    "start_time": "2022-08-04T06:15:18.154Z"
   },
   {
    "duration": 41,
    "start_time": "2022-08-04T06:15:18.169Z"
   },
   {
    "duration": 636,
    "start_time": "2022-08-04T06:15:18.212Z"
   },
   {
    "duration": 15,
    "start_time": "2022-08-04T06:15:18.850Z"
   },
   {
    "duration": 17,
    "start_time": "2022-08-04T06:15:18.866Z"
   },
   {
    "duration": 37,
    "start_time": "2022-08-04T06:15:18.886Z"
   },
   {
    "duration": 79,
    "start_time": "2022-08-04T06:15:18.925Z"
   },
   {
    "duration": 220,
    "start_time": "2022-08-04T06:15:19.007Z"
   },
   {
    "duration": 7,
    "start_time": "2022-08-04T06:15:19.230Z"
   },
   {
    "duration": 46,
    "start_time": "2022-08-04T06:15:19.239Z"
   },
   {
    "duration": 66,
    "start_time": "2022-08-04T06:15:19.287Z"
   },
   {
    "duration": 1064,
    "start_time": "2022-08-04T06:15:19.355Z"
   },
   {
    "duration": 22,
    "start_time": "2022-08-04T06:15:20.421Z"
   },
   {
    "duration": 57,
    "start_time": "2022-08-04T06:15:20.446Z"
   },
   {
    "duration": 50,
    "start_time": "2022-08-04T06:15:20.505Z"
   },
   {
    "duration": 57,
    "start_time": "2022-08-04T06:15:20.557Z"
   },
   {
    "duration": 11,
    "start_time": "2022-08-04T06:15:20.616Z"
   },
   {
    "duration": 9,
    "start_time": "2022-08-04T06:15:20.629Z"
   },
   {
    "duration": 71,
    "start_time": "2022-08-04T06:15:20.640Z"
   },
   {
    "duration": 50,
    "start_time": "2022-08-04T06:16:01.673Z"
   },
   {
    "duration": 59,
    "start_time": "2022-08-04T06:18:22.738Z"
   },
   {
    "duration": 55,
    "start_time": "2022-08-04T06:18:27.519Z"
   },
   {
    "duration": 65,
    "start_time": "2022-08-04T06:20:38.895Z"
   },
   {
    "duration": 58,
    "start_time": "2022-08-04T06:21:37.278Z"
   },
   {
    "duration": 62,
    "start_time": "2022-08-04T06:29:04.596Z"
   },
   {
    "duration": 6,
    "start_time": "2022-08-04T06:30:03.491Z"
   },
   {
    "duration": 3,
    "start_time": "2022-08-04T06:30:08.619Z"
   },
   {
    "duration": 182,
    "start_time": "2022-08-04T06:30:14.967Z"
   },
   {
    "duration": 54,
    "start_time": "2022-08-04T06:30:38.091Z"
   },
   {
    "duration": 83,
    "start_time": "2022-08-04T06:32:56.431Z"
   },
   {
    "duration": 3,
    "start_time": "2022-08-04T06:34:55.128Z"
   },
   {
    "duration": 15,
    "start_time": "2022-08-04T06:35:15.182Z"
   },
   {
    "duration": 53,
    "start_time": "2022-08-04T06:36:10.329Z"
   },
   {
    "duration": 17,
    "start_time": "2022-08-04T06:40:11.695Z"
   },
   {
    "duration": 5,
    "start_time": "2022-08-04T06:41:04.532Z"
   },
   {
    "duration": 55,
    "start_time": "2022-08-04T06:41:06.621Z"
   },
   {
    "duration": 5,
    "start_time": "2022-08-04T06:41:13.324Z"
   },
   {
    "duration": 137,
    "start_time": "2022-08-04T06:41:15.021Z"
   },
   {
    "duration": 49,
    "start_time": "2022-08-04T06:41:26.568Z"
   },
   {
    "duration": 4,
    "start_time": "2022-08-04T06:42:19.465Z"
   },
   {
    "duration": 6,
    "start_time": "2022-08-04T06:42:24.436Z"
   },
   {
    "duration": 26,
    "start_time": "2022-08-04T06:42:33.518Z"
   },
   {
    "duration": 18,
    "start_time": "2022-08-04T06:42:42.776Z"
   },
   {
    "duration": 4,
    "start_time": "2022-08-04T06:43:02.800Z"
   },
   {
    "duration": 49,
    "start_time": "2022-08-04T06:43:06.130Z"
   },
   {
    "duration": 4,
    "start_time": "2022-08-04T06:44:20.781Z"
   },
   {
    "duration": 54,
    "start_time": "2022-08-04T06:44:22.627Z"
   },
   {
    "duration": 48,
    "start_time": "2022-08-04T06:44:30.098Z"
   },
   {
    "duration": 49,
    "start_time": "2022-08-04T06:44:47.936Z"
   },
   {
    "duration": 7,
    "start_time": "2022-08-04T06:45:55.280Z"
   },
   {
    "duration": 50,
    "start_time": "2022-08-04T06:46:20.203Z"
   },
   {
    "duration": 6,
    "start_time": "2022-08-04T06:46:42.529Z"
   },
   {
    "duration": 50,
    "start_time": "2022-08-04T06:46:43.867Z"
   },
   {
    "duration": 5,
    "start_time": "2022-08-04T06:47:06.742Z"
   },
   {
    "duration": 47,
    "start_time": "2022-08-04T06:47:08.006Z"
   },
   {
    "duration": 50,
    "start_time": "2022-08-04T06:47:27.146Z"
   },
   {
    "duration": 5,
    "start_time": "2022-08-04T06:47:33.345Z"
   },
   {
    "duration": 50,
    "start_time": "2022-08-04T06:47:33.860Z"
   },
   {
    "duration": 9,
    "start_time": "2022-08-04T06:47:58.881Z"
   },
   {
    "duration": 5,
    "start_time": "2022-08-04T06:48:36.710Z"
   },
   {
    "duration": 4,
    "start_time": "2022-08-04T06:48:43.731Z"
   },
   {
    "duration": 6,
    "start_time": "2022-08-04T06:48:51.765Z"
   },
   {
    "duration": 1307,
    "start_time": "2022-08-04T06:48:57.706Z"
   },
   {
    "duration": 75,
    "start_time": "2022-08-04T06:48:59.016Z"
   },
   {
    "duration": 55,
    "start_time": "2022-08-04T06:48:59.093Z"
   },
   {
    "duration": 11,
    "start_time": "2022-08-04T06:48:59.150Z"
   },
   {
    "duration": 11,
    "start_time": "2022-08-04T06:48:59.164Z"
   },
   {
    "duration": 28,
    "start_time": "2022-08-04T06:48:59.177Z"
   },
   {
    "duration": 5,
    "start_time": "2022-08-04T06:48:59.207Z"
   },
   {
    "duration": 7,
    "start_time": "2022-08-04T06:48:59.214Z"
   },
   {
    "duration": 21,
    "start_time": "2022-08-04T06:48:59.223Z"
   },
   {
    "duration": 17,
    "start_time": "2022-08-04T06:48:59.246Z"
   },
   {
    "duration": 154,
    "start_time": "2022-08-04T06:48:59.265Z"
   },
   {
    "duration": 7,
    "start_time": "2022-08-04T06:48:59.421Z"
   },
   {
    "duration": 10,
    "start_time": "2022-08-04T06:48:59.429Z"
   },
   {
    "duration": 21,
    "start_time": "2022-08-04T06:48:59.442Z"
   },
   {
    "duration": 44,
    "start_time": "2022-08-04T06:48:59.465Z"
   },
   {
    "duration": 311,
    "start_time": "2022-08-04T06:48:59.511Z"
   },
   {
    "duration": 0,
    "start_time": "2022-08-04T06:48:59.824Z"
   },
   {
    "duration": 0,
    "start_time": "2022-08-04T06:48:59.826Z"
   },
   {
    "duration": 0,
    "start_time": "2022-08-04T06:48:59.827Z"
   },
   {
    "duration": 0,
    "start_time": "2022-08-04T06:48:59.829Z"
   },
   {
    "duration": 0,
    "start_time": "2022-08-04T06:48:59.830Z"
   },
   {
    "duration": 0,
    "start_time": "2022-08-04T06:48:59.832Z"
   },
   {
    "duration": 0,
    "start_time": "2022-08-04T06:48:59.832Z"
   },
   {
    "duration": 0,
    "start_time": "2022-08-04T06:48:59.834Z"
   },
   {
    "duration": 0,
    "start_time": "2022-08-04T06:48:59.835Z"
   },
   {
    "duration": 0,
    "start_time": "2022-08-04T06:48:59.836Z"
   },
   {
    "duration": 0,
    "start_time": "2022-08-04T06:48:59.837Z"
   },
   {
    "duration": 0,
    "start_time": "2022-08-04T06:48:59.838Z"
   },
   {
    "duration": 0,
    "start_time": "2022-08-04T06:48:59.839Z"
   },
   {
    "duration": 0,
    "start_time": "2022-08-04T06:48:59.840Z"
   },
   {
    "duration": 0,
    "start_time": "2022-08-04T06:48:59.841Z"
   },
   {
    "duration": 0,
    "start_time": "2022-08-04T06:48:59.842Z"
   },
   {
    "duration": 0,
    "start_time": "2022-08-04T06:48:59.843Z"
   },
   {
    "duration": 0,
    "start_time": "2022-08-04T06:48:59.844Z"
   },
   {
    "duration": 0,
    "start_time": "2022-08-04T06:48:59.845Z"
   },
   {
    "duration": 0,
    "start_time": "2022-08-04T06:48:59.846Z"
   },
   {
    "duration": 0,
    "start_time": "2022-08-04T06:48:59.847Z"
   },
   {
    "duration": 0,
    "start_time": "2022-08-04T06:48:59.848Z"
   },
   {
    "duration": 0,
    "start_time": "2022-08-04T06:48:59.849Z"
   },
   {
    "duration": 0,
    "start_time": "2022-08-04T06:48:59.851Z"
   },
   {
    "duration": 0,
    "start_time": "2022-08-04T06:48:59.852Z"
   },
   {
    "duration": 6,
    "start_time": "2022-08-04T06:50:02.847Z"
   },
   {
    "duration": 7,
    "start_time": "2022-08-04T06:50:11.223Z"
   },
   {
    "duration": 438,
    "start_time": "2022-08-04T06:50:13.696Z"
   },
   {
    "duration": 4,
    "start_time": "2022-08-04T06:52:28.636Z"
   },
   {
    "duration": 50,
    "start_time": "2022-08-04T06:52:31.695Z"
   },
   {
    "duration": 7,
    "start_time": "2022-08-04T06:52:41.145Z"
   },
   {
    "duration": 1255,
    "start_time": "2022-08-04T06:53:32.845Z"
   },
   {
    "duration": 82,
    "start_time": "2022-08-04T06:53:34.102Z"
   },
   {
    "duration": 47,
    "start_time": "2022-08-04T06:53:34.186Z"
   },
   {
    "duration": 13,
    "start_time": "2022-08-04T06:53:34.235Z"
   },
   {
    "duration": 15,
    "start_time": "2022-08-04T06:53:34.250Z"
   },
   {
    "duration": 7,
    "start_time": "2022-08-04T06:53:34.268Z"
   },
   {
    "duration": 27,
    "start_time": "2022-08-04T06:53:34.277Z"
   },
   {
    "duration": 7,
    "start_time": "2022-08-04T06:53:34.306Z"
   },
   {
    "duration": 21,
    "start_time": "2022-08-04T06:53:34.314Z"
   },
   {
    "duration": 19,
    "start_time": "2022-08-04T06:53:34.339Z"
   },
   {
    "duration": 175,
    "start_time": "2022-08-04T06:53:34.359Z"
   },
   {
    "duration": 7,
    "start_time": "2022-08-04T06:53:34.537Z"
   },
   {
    "duration": 7,
    "start_time": "2022-08-04T06:53:34.546Z"
   },
   {
    "duration": 22,
    "start_time": "2022-08-04T06:53:34.555Z"
   },
   {
    "duration": 17,
    "start_time": "2022-08-04T06:53:34.603Z"
   },
   {
    "duration": 7,
    "start_time": "2022-08-04T06:53:34.622Z"
   },
   {
    "duration": 490,
    "start_time": "2022-08-04T06:53:34.631Z"
   },
   {
    "duration": 16,
    "start_time": "2022-08-04T06:53:35.123Z"
   },
   {
    "duration": 87,
    "start_time": "2022-08-04T06:53:35.141Z"
   },
   {
    "duration": 26,
    "start_time": "2022-08-04T06:53:35.230Z"
   },
   {
    "duration": 60,
    "start_time": "2022-08-04T06:53:35.309Z"
   },
   {
    "duration": 10,
    "start_time": "2022-08-04T06:53:35.371Z"
   },
   {
    "duration": 29,
    "start_time": "2022-08-04T06:53:35.383Z"
   },
   {
    "duration": 19,
    "start_time": "2022-08-04T06:53:35.414Z"
   },
   {
    "duration": 585,
    "start_time": "2022-08-04T06:53:35.436Z"
   },
   {
    "duration": 11,
    "start_time": "2022-08-04T06:53:36.023Z"
   },
   {
    "duration": 9,
    "start_time": "2022-08-04T06:53:36.036Z"
   },
   {
    "duration": 20,
    "start_time": "2022-08-04T06:53:36.048Z"
   },
   {
    "duration": 77,
    "start_time": "2022-08-04T06:53:36.070Z"
   },
   {
    "duration": 229,
    "start_time": "2022-08-04T06:53:36.149Z"
   },
   {
    "duration": 4,
    "start_time": "2022-08-04T06:53:36.380Z"
   },
   {
    "duration": 43,
    "start_time": "2022-08-04T06:53:36.386Z"
   },
   {
    "duration": 54,
    "start_time": "2022-08-04T06:53:36.432Z"
   },
   {
    "duration": 1229,
    "start_time": "2022-08-04T06:53:36.488Z"
   },
   {
    "duration": 18,
    "start_time": "2022-08-04T06:53:37.718Z"
   },
   {
    "duration": 40,
    "start_time": "2022-08-04T06:53:37.737Z"
   },
   {
    "duration": 74,
    "start_time": "2022-08-04T06:53:37.779Z"
   },
   {
    "duration": 50,
    "start_time": "2022-08-04T06:53:37.855Z"
   },
   {
    "duration": 16,
    "start_time": "2022-08-04T06:53:37.908Z"
   },
   {
    "duration": 12,
    "start_time": "2022-08-04T06:53:37.927Z"
   },
   {
    "duration": 73,
    "start_time": "2022-08-04T06:53:37.940Z"
   },
   {
    "duration": 14,
    "start_time": "2022-08-04T07:02:31.943Z"
   },
   {
    "duration": 1509,
    "start_time": "2022-08-04T07:08:06.674Z"
   },
   {
    "duration": 799,
    "start_time": "2022-08-04T07:08:11.756Z"
   },
   {
    "duration": 19,
    "start_time": "2022-08-04T07:08:16.157Z"
   },
   {
    "duration": 808,
    "start_time": "2022-08-04T07:08:27.844Z"
   },
   {
    "duration": 858,
    "start_time": "2022-08-04T07:08:36.468Z"
   },
   {
    "duration": 5,
    "start_time": "2022-08-04T07:09:04.102Z"
   },
   {
    "duration": 794,
    "start_time": "2022-08-04T07:09:06.112Z"
   },
   {
    "duration": 884,
    "start_time": "2022-08-04T07:09:44.560Z"
   },
   {
    "duration": 912,
    "start_time": "2022-08-04T07:09:49.258Z"
   },
   {
    "duration": 17,
    "start_time": "2022-08-04T07:10:00.885Z"
   },
   {
    "duration": 20,
    "start_time": "2022-08-04T07:10:40.169Z"
   },
   {
    "duration": 53,
    "start_time": "2022-08-04T07:13:29.316Z"
   },
   {
    "duration": 51,
    "start_time": "2022-08-04T07:13:41.294Z"
   },
   {
    "duration": 50,
    "start_time": "2022-08-04T07:13:48.705Z"
   },
   {
    "duration": 46,
    "start_time": "2022-08-04T07:13:58.354Z"
   },
   {
    "duration": 64,
    "start_time": "2022-08-04T07:14:14.083Z"
   },
   {
    "duration": 48,
    "start_time": "2022-08-04T07:14:31.581Z"
   },
   {
    "duration": 58,
    "start_time": "2022-08-04T07:14:38.659Z"
   },
   {
    "duration": 129,
    "start_time": "2022-08-04T07:14:43.856Z"
   },
   {
    "duration": 50,
    "start_time": "2022-08-04T07:15:00.633Z"
   },
   {
    "duration": 1323,
    "start_time": "2022-08-04T07:15:10.967Z"
   },
   {
    "duration": 72,
    "start_time": "2022-08-04T07:15:12.291Z"
   },
   {
    "duration": 48,
    "start_time": "2022-08-04T07:15:12.364Z"
   },
   {
    "duration": 12,
    "start_time": "2022-08-04T07:15:12.415Z"
   },
   {
    "duration": 14,
    "start_time": "2022-08-04T07:15:12.429Z"
   },
   {
    "duration": 5,
    "start_time": "2022-08-04T07:15:12.445Z"
   },
   {
    "duration": 14,
    "start_time": "2022-08-04T07:15:12.452Z"
   },
   {
    "duration": 6,
    "start_time": "2022-08-04T07:15:12.468Z"
   },
   {
    "duration": 46,
    "start_time": "2022-08-04T07:15:12.476Z"
   },
   {
    "duration": 20,
    "start_time": "2022-08-04T07:15:12.525Z"
   },
   {
    "duration": 157,
    "start_time": "2022-08-04T07:15:12.547Z"
   },
   {
    "duration": 6,
    "start_time": "2022-08-04T07:15:12.706Z"
   },
   {
    "duration": 8,
    "start_time": "2022-08-04T07:15:12.714Z"
   },
   {
    "duration": 21,
    "start_time": "2022-08-04T07:15:12.724Z"
   },
   {
    "duration": 16,
    "start_time": "2022-08-04T07:15:12.747Z"
   },
   {
    "duration": 39,
    "start_time": "2022-08-04T07:15:12.765Z"
   },
   {
    "duration": 446,
    "start_time": "2022-08-04T07:15:12.806Z"
   },
   {
    "duration": 15,
    "start_time": "2022-08-04T07:15:13.254Z"
   },
   {
    "duration": 64,
    "start_time": "2022-08-04T07:15:13.271Z"
   },
   {
    "duration": 74,
    "start_time": "2022-08-04T07:15:13.337Z"
   },
   {
    "duration": 60,
    "start_time": "2022-08-04T07:15:13.413Z"
   },
   {
    "duration": 40,
    "start_time": "2022-08-04T07:15:13.475Z"
   },
   {
    "duration": 54,
    "start_time": "2022-08-04T07:15:13.517Z"
   },
   {
    "duration": 0,
    "start_time": "2022-08-04T07:15:13.574Z"
   },
   {
    "duration": 0,
    "start_time": "2022-08-04T07:15:13.575Z"
   },
   {
    "duration": 0,
    "start_time": "2022-08-04T07:15:13.577Z"
   },
   {
    "duration": 0,
    "start_time": "2022-08-04T07:15:13.578Z"
   },
   {
    "duration": 0,
    "start_time": "2022-08-04T07:15:13.579Z"
   },
   {
    "duration": 0,
    "start_time": "2022-08-04T07:15:13.580Z"
   },
   {
    "duration": 0,
    "start_time": "2022-08-04T07:15:13.582Z"
   },
   {
    "duration": 0,
    "start_time": "2022-08-04T07:15:13.583Z"
   },
   {
    "duration": 0,
    "start_time": "2022-08-04T07:15:13.584Z"
   },
   {
    "duration": 0,
    "start_time": "2022-08-04T07:15:13.585Z"
   },
   {
    "duration": 0,
    "start_time": "2022-08-04T07:15:13.586Z"
   },
   {
    "duration": 0,
    "start_time": "2022-08-04T07:15:13.588Z"
   },
   {
    "duration": 0,
    "start_time": "2022-08-04T07:15:13.589Z"
   },
   {
    "duration": 0,
    "start_time": "2022-08-04T07:15:13.590Z"
   },
   {
    "duration": 0,
    "start_time": "2022-08-04T07:15:13.592Z"
   },
   {
    "duration": 0,
    "start_time": "2022-08-04T07:15:13.593Z"
   },
   {
    "duration": 0,
    "start_time": "2022-08-04T07:15:13.594Z"
   },
   {
    "duration": 0,
    "start_time": "2022-08-04T07:15:13.595Z"
   },
   {
    "duration": 169,
    "start_time": "2022-08-04T07:15:42.768Z"
   },
   {
    "duration": 54,
    "start_time": "2022-08-04T07:15:53.551Z"
   },
   {
    "duration": 16,
    "start_time": "2022-08-04T07:15:57.893Z"
   },
   {
    "duration": 24,
    "start_time": "2022-08-04T07:16:02.993Z"
   },
   {
    "duration": 28,
    "start_time": "2022-08-04T07:16:10.207Z"
   },
   {
    "duration": 66,
    "start_time": "2022-08-04T07:16:44.308Z"
   },
   {
    "duration": 53,
    "start_time": "2022-08-04T07:16:48.933Z"
   },
   {
    "duration": 68,
    "start_time": "2022-08-04T07:16:56.883Z"
   },
   {
    "duration": 27,
    "start_time": "2022-08-04T07:17:01.499Z"
   },
   {
    "duration": 34,
    "start_time": "2022-08-04T07:17:19.033Z"
   },
   {
    "duration": 48,
    "start_time": "2022-08-04T07:17:29.766Z"
   },
   {
    "duration": 28,
    "start_time": "2022-08-04T07:17:42.707Z"
   },
   {
    "duration": 12,
    "start_time": "2022-08-04T07:24:59.224Z"
   },
   {
    "duration": 1008,
    "start_time": "2022-08-04T07:25:11.989Z"
   },
   {
    "duration": 1012,
    "start_time": "2022-08-04T07:25:21.328Z"
   },
   {
    "duration": 5,
    "start_time": "2022-08-04T07:25:32.910Z"
   },
   {
    "duration": 6,
    "start_time": "2022-08-04T07:25:49.431Z"
   },
   {
    "duration": 5,
    "start_time": "2022-08-04T07:25:55.939Z"
   },
   {
    "duration": 6,
    "start_time": "2022-08-04T07:25:59.946Z"
   },
   {
    "duration": 5,
    "start_time": "2022-08-04T07:26:04.324Z"
   },
   {
    "duration": 4,
    "start_time": "2022-08-04T07:27:31.800Z"
   },
   {
    "duration": 4,
    "start_time": "2022-08-04T07:27:45.552Z"
   },
   {
    "duration": 6,
    "start_time": "2022-08-04T07:27:55.848Z"
   },
   {
    "duration": 20,
    "start_time": "2022-08-04T07:33:18.621Z"
   },
   {
    "duration": 17,
    "start_time": "2022-08-04T07:33:26.034Z"
   },
   {
    "duration": 20,
    "start_time": "2022-08-04T07:34:03.095Z"
   },
   {
    "duration": 5,
    "start_time": "2022-08-04T07:34:59.980Z"
   },
   {
    "duration": 8,
    "start_time": "2022-08-04T07:35:40.552Z"
   },
   {
    "duration": 25,
    "start_time": "2022-08-04T07:35:48.631Z"
   },
   {
    "duration": 1229,
    "start_time": "2022-08-04T07:35:56.721Z"
   },
   {
    "duration": 67,
    "start_time": "2022-08-04T07:35:57.952Z"
   },
   {
    "duration": 44,
    "start_time": "2022-08-04T07:35:58.021Z"
   },
   {
    "duration": 11,
    "start_time": "2022-08-04T07:35:58.067Z"
   },
   {
    "duration": 10,
    "start_time": "2022-08-04T07:35:58.102Z"
   },
   {
    "duration": 5,
    "start_time": "2022-08-04T07:35:58.114Z"
   },
   {
    "duration": 6,
    "start_time": "2022-08-04T07:35:58.121Z"
   },
   {
    "duration": 7,
    "start_time": "2022-08-04T07:35:58.129Z"
   },
   {
    "duration": 21,
    "start_time": "2022-08-04T07:35:58.138Z"
   },
   {
    "duration": 50,
    "start_time": "2022-08-04T07:35:58.161Z"
   },
   {
    "duration": 132,
    "start_time": "2022-08-04T07:35:58.213Z"
   },
   {
    "duration": 6,
    "start_time": "2022-08-04T07:35:58.347Z"
   },
   {
    "duration": 8,
    "start_time": "2022-08-04T07:35:58.355Z"
   },
   {
    "duration": 40,
    "start_time": "2022-08-04T07:35:58.367Z"
   },
   {
    "duration": 17,
    "start_time": "2022-08-04T07:35:58.409Z"
   },
   {
    "duration": 6,
    "start_time": "2022-08-04T07:35:58.428Z"
   },
   {
    "duration": 483,
    "start_time": "2022-08-04T07:35:58.436Z"
   },
   {
    "duration": 18,
    "start_time": "2022-08-04T07:35:58.922Z"
   },
   {
    "duration": 110,
    "start_time": "2022-08-04T07:35:58.942Z"
   },
   {
    "duration": 70,
    "start_time": "2022-08-04T07:35:59.055Z"
   },
   {
    "duration": 76,
    "start_time": "2022-08-04T07:35:59.127Z"
   },
   {
    "duration": 13,
    "start_time": "2022-08-04T07:35:59.205Z"
   },
   {
    "duration": 32,
    "start_time": "2022-08-04T07:35:59.220Z"
   },
   {
    "duration": 5,
    "start_time": "2022-08-04T07:35:59.253Z"
   },
   {
    "duration": 10,
    "start_time": "2022-08-04T07:35:59.259Z"
   },
   {
    "duration": 50,
    "start_time": "2022-08-04T07:35:59.271Z"
   },
   {
    "duration": 416,
    "start_time": "2022-08-04T07:35:59.323Z"
   },
   {
    "duration": 0,
    "start_time": "2022-08-04T07:35:59.742Z"
   },
   {
    "duration": 0,
    "start_time": "2022-08-04T07:35:59.743Z"
   },
   {
    "duration": 0,
    "start_time": "2022-08-04T07:35:59.744Z"
   },
   {
    "duration": 0,
    "start_time": "2022-08-04T07:35:59.745Z"
   },
   {
    "duration": 0,
    "start_time": "2022-08-04T07:35:59.746Z"
   },
   {
    "duration": 0,
    "start_time": "2022-08-04T07:35:59.747Z"
   },
   {
    "duration": 0,
    "start_time": "2022-08-04T07:35:59.748Z"
   },
   {
    "duration": 0,
    "start_time": "2022-08-04T07:35:59.749Z"
   },
   {
    "duration": 0,
    "start_time": "2022-08-04T07:35:59.750Z"
   },
   {
    "duration": 0,
    "start_time": "2022-08-04T07:35:59.751Z"
   },
   {
    "duration": 0,
    "start_time": "2022-08-04T07:35:59.752Z"
   },
   {
    "duration": 0,
    "start_time": "2022-08-04T07:35:59.753Z"
   },
   {
    "duration": 0,
    "start_time": "2022-08-04T07:35:59.755Z"
   },
   {
    "duration": 0,
    "start_time": "2022-08-04T07:35:59.756Z"
   },
   {
    "duration": 0,
    "start_time": "2022-08-04T07:35:59.757Z"
   },
   {
    "duration": 0,
    "start_time": "2022-08-04T07:35:59.758Z"
   },
   {
    "duration": 64,
    "start_time": "2022-08-04T07:43:28.682Z"
   },
   {
    "duration": 17,
    "start_time": "2022-08-04T07:43:32.993Z"
   },
   {
    "duration": 18,
    "start_time": "2022-08-04T07:44:03.864Z"
   },
   {
    "duration": 1276,
    "start_time": "2022-08-04T07:44:13.433Z"
   },
   {
    "duration": 71,
    "start_time": "2022-08-04T07:44:14.711Z"
   },
   {
    "duration": 51,
    "start_time": "2022-08-04T07:44:14.783Z"
   },
   {
    "duration": 12,
    "start_time": "2022-08-04T07:44:14.837Z"
   },
   {
    "duration": 23,
    "start_time": "2022-08-04T07:44:14.851Z"
   },
   {
    "duration": 11,
    "start_time": "2022-08-04T07:44:14.876Z"
   },
   {
    "duration": 23,
    "start_time": "2022-08-04T07:44:14.890Z"
   },
   {
    "duration": 11,
    "start_time": "2022-08-04T07:44:14.915Z"
   },
   {
    "duration": 24,
    "start_time": "2022-08-04T07:44:14.928Z"
   },
   {
    "duration": 21,
    "start_time": "2022-08-04T07:44:14.956Z"
   },
   {
    "duration": 139,
    "start_time": "2022-08-04T07:44:14.979Z"
   },
   {
    "duration": 7,
    "start_time": "2022-08-04T07:44:15.120Z"
   },
   {
    "duration": 11,
    "start_time": "2022-08-04T07:44:15.129Z"
   },
   {
    "duration": 24,
    "start_time": "2022-08-04T07:44:15.142Z"
   },
   {
    "duration": 36,
    "start_time": "2022-08-04T07:44:15.167Z"
   },
   {
    "duration": 6,
    "start_time": "2022-08-04T07:44:15.205Z"
   },
   {
    "duration": 456,
    "start_time": "2022-08-04T07:44:15.213Z"
   },
   {
    "duration": 14,
    "start_time": "2022-08-04T07:44:15.671Z"
   },
   {
    "duration": 57,
    "start_time": "2022-08-04T07:44:15.686Z"
   },
   {
    "duration": 75,
    "start_time": "2022-08-04T07:44:15.744Z"
   },
   {
    "duration": 86,
    "start_time": "2022-08-04T07:44:15.820Z"
   },
   {
    "duration": 15,
    "start_time": "2022-08-04T07:44:15.907Z"
   },
   {
    "duration": 31,
    "start_time": "2022-08-04T07:44:15.924Z"
   },
   {
    "duration": 5,
    "start_time": "2022-08-04T07:44:15.957Z"
   },
   {
    "duration": 14,
    "start_time": "2022-08-04T07:44:15.964Z"
   },
   {
    "duration": 43,
    "start_time": "2022-08-04T07:44:15.980Z"
   },
   {
    "duration": 20,
    "start_time": "2022-08-04T07:44:16.025Z"
   },
   {
    "duration": 449,
    "start_time": "2022-08-04T07:44:16.049Z"
   },
   {
    "duration": 0,
    "start_time": "2022-08-04T07:44:16.502Z"
   },
   {
    "duration": 0,
    "start_time": "2022-08-04T07:44:16.504Z"
   },
   {
    "duration": 0,
    "start_time": "2022-08-04T07:44:16.505Z"
   },
   {
    "duration": 0,
    "start_time": "2022-08-04T07:44:16.506Z"
   },
   {
    "duration": 0,
    "start_time": "2022-08-04T07:44:16.507Z"
   },
   {
    "duration": 0,
    "start_time": "2022-08-04T07:44:16.508Z"
   },
   {
    "duration": 0,
    "start_time": "2022-08-04T07:44:16.509Z"
   },
   {
    "duration": 0,
    "start_time": "2022-08-04T07:44:16.510Z"
   },
   {
    "duration": 0,
    "start_time": "2022-08-04T07:44:16.511Z"
   },
   {
    "duration": 0,
    "start_time": "2022-08-04T07:44:16.512Z"
   },
   {
    "duration": 0,
    "start_time": "2022-08-04T07:44:16.513Z"
   },
   {
    "duration": 0,
    "start_time": "2022-08-04T07:44:16.514Z"
   },
   {
    "duration": 0,
    "start_time": "2022-08-04T07:44:16.515Z"
   },
   {
    "duration": 0,
    "start_time": "2022-08-04T07:44:16.516Z"
   },
   {
    "duration": 0,
    "start_time": "2022-08-04T07:44:16.518Z"
   },
   {
    "duration": 0,
    "start_time": "2022-08-04T07:44:16.519Z"
   },
   {
    "duration": 104,
    "start_time": "2022-08-04T07:44:53.347Z"
   },
   {
    "duration": 19,
    "start_time": "2022-08-04T07:44:57.953Z"
   },
   {
    "duration": 19,
    "start_time": "2022-08-04T07:45:10.265Z"
   },
   {
    "duration": 9,
    "start_time": "2022-08-04T07:45:16.744Z"
   },
   {
    "duration": 1244,
    "start_time": "2022-08-04T07:45:21.968Z"
   },
   {
    "duration": 70,
    "start_time": "2022-08-04T07:45:23.214Z"
   },
   {
    "duration": 48,
    "start_time": "2022-08-04T07:45:23.286Z"
   },
   {
    "duration": 17,
    "start_time": "2022-08-04T07:45:23.336Z"
   },
   {
    "duration": 13,
    "start_time": "2022-08-04T07:45:23.356Z"
   },
   {
    "duration": 7,
    "start_time": "2022-08-04T07:45:23.372Z"
   },
   {
    "duration": 25,
    "start_time": "2022-08-04T07:45:23.381Z"
   },
   {
    "duration": 7,
    "start_time": "2022-08-04T07:45:23.408Z"
   },
   {
    "duration": 19,
    "start_time": "2022-08-04T07:45:23.417Z"
   },
   {
    "duration": 18,
    "start_time": "2022-08-04T07:45:23.438Z"
   },
   {
    "duration": 161,
    "start_time": "2022-08-04T07:45:23.457Z"
   },
   {
    "duration": 7,
    "start_time": "2022-08-04T07:45:23.620Z"
   },
   {
    "duration": 9,
    "start_time": "2022-08-04T07:45:23.628Z"
   },
   {
    "duration": 26,
    "start_time": "2022-08-04T07:45:23.640Z"
   },
   {
    "duration": 42,
    "start_time": "2022-08-04T07:45:23.669Z"
   },
   {
    "duration": 7,
    "start_time": "2022-08-04T07:45:23.712Z"
   },
   {
    "duration": 460,
    "start_time": "2022-08-04T07:45:23.721Z"
   },
   {
    "duration": 15,
    "start_time": "2022-08-04T07:45:24.183Z"
   },
   {
    "duration": 100,
    "start_time": "2022-08-04T07:45:24.203Z"
   },
   {
    "duration": 21,
    "start_time": "2022-08-04T07:45:24.305Z"
   },
   {
    "duration": 86,
    "start_time": "2022-08-04T07:45:24.328Z"
   },
   {
    "duration": 14,
    "start_time": "2022-08-04T07:45:24.416Z"
   },
   {
    "duration": 32,
    "start_time": "2022-08-04T07:45:24.432Z"
   },
   {
    "duration": 5,
    "start_time": "2022-08-04T07:45:24.466Z"
   },
   {
    "duration": 33,
    "start_time": "2022-08-04T07:45:24.472Z"
   },
   {
    "duration": 24,
    "start_time": "2022-08-04T07:45:24.507Z"
   },
   {
    "duration": 19,
    "start_time": "2022-08-04T07:45:24.533Z"
   },
   {
    "duration": 17,
    "start_time": "2022-08-04T07:45:24.554Z"
   },
   {
    "duration": 407,
    "start_time": "2022-08-04T07:45:24.602Z"
   },
   {
    "duration": 0,
    "start_time": "2022-08-04T07:45:25.011Z"
   },
   {
    "duration": 0,
    "start_time": "2022-08-04T07:45:25.013Z"
   },
   {
    "duration": 0,
    "start_time": "2022-08-04T07:45:25.014Z"
   },
   {
    "duration": 0,
    "start_time": "2022-08-04T07:45:25.016Z"
   },
   {
    "duration": 0,
    "start_time": "2022-08-04T07:45:25.018Z"
   },
   {
    "duration": 0,
    "start_time": "2022-08-04T07:45:25.019Z"
   },
   {
    "duration": 0,
    "start_time": "2022-08-04T07:45:25.021Z"
   },
   {
    "duration": 0,
    "start_time": "2022-08-04T07:45:25.023Z"
   },
   {
    "duration": 0,
    "start_time": "2022-08-04T07:45:25.024Z"
   },
   {
    "duration": 0,
    "start_time": "2022-08-04T07:45:25.026Z"
   },
   {
    "duration": 0,
    "start_time": "2022-08-04T07:45:25.027Z"
   },
   {
    "duration": 0,
    "start_time": "2022-08-04T07:45:25.028Z"
   },
   {
    "duration": 0,
    "start_time": "2022-08-04T07:45:25.030Z"
   },
   {
    "duration": 0,
    "start_time": "2022-08-04T07:45:25.031Z"
   },
   {
    "duration": 0,
    "start_time": "2022-08-04T07:45:25.033Z"
   },
   {
    "duration": 0,
    "start_time": "2022-08-04T07:45:25.034Z"
   },
   {
    "duration": 14,
    "start_time": "2022-08-04T07:45:36.513Z"
   },
   {
    "duration": 8,
    "start_time": "2022-08-04T07:45:37.674Z"
   },
   {
    "duration": 9,
    "start_time": "2022-08-04T07:45:40.461Z"
   },
   {
    "duration": 19,
    "start_time": "2022-08-04T07:48:11.054Z"
   },
   {
    "duration": 22,
    "start_time": "2022-08-04T07:48:21.250Z"
   },
   {
    "duration": 30,
    "start_time": "2022-08-04T07:48:47.722Z"
   },
   {
    "duration": 67,
    "start_time": "2022-08-04T07:48:58.456Z"
   },
   {
    "duration": 49,
    "start_time": "2022-08-04T07:49:48.025Z"
   },
   {
    "duration": 1310,
    "start_time": "2022-08-04T08:01:30.777Z"
   },
   {
    "duration": 70,
    "start_time": "2022-08-04T08:01:32.089Z"
   },
   {
    "duration": 50,
    "start_time": "2022-08-04T08:01:32.161Z"
   },
   {
    "duration": 13,
    "start_time": "2022-08-04T08:01:32.213Z"
   },
   {
    "duration": 10,
    "start_time": "2022-08-04T08:01:32.229Z"
   },
   {
    "duration": 8,
    "start_time": "2022-08-04T08:01:32.241Z"
   },
   {
    "duration": 7,
    "start_time": "2022-08-04T08:01:32.251Z"
   },
   {
    "duration": 12,
    "start_time": "2022-08-04T08:01:32.260Z"
   },
   {
    "duration": 21,
    "start_time": "2022-08-04T08:01:32.304Z"
   },
   {
    "duration": 20,
    "start_time": "2022-08-04T08:01:32.327Z"
   },
   {
    "duration": 171,
    "start_time": "2022-08-04T08:01:32.349Z"
   },
   {
    "duration": 7,
    "start_time": "2022-08-04T08:01:32.522Z"
   },
   {
    "duration": 12,
    "start_time": "2022-08-04T08:01:32.531Z"
   },
   {
    "duration": 29,
    "start_time": "2022-08-04T08:01:32.548Z"
   },
   {
    "duration": 37,
    "start_time": "2022-08-04T08:01:32.578Z"
   },
   {
    "duration": 6,
    "start_time": "2022-08-04T08:01:32.617Z"
   },
   {
    "duration": 480,
    "start_time": "2022-08-04T08:01:32.625Z"
   },
   {
    "duration": 15,
    "start_time": "2022-08-04T08:01:33.107Z"
   },
   {
    "duration": 101,
    "start_time": "2022-08-04T08:01:33.124Z"
   },
   {
    "duration": 77,
    "start_time": "2022-08-04T08:01:33.227Z"
   },
   {
    "duration": 63,
    "start_time": "2022-08-04T08:01:33.306Z"
   },
   {
    "duration": 33,
    "start_time": "2022-08-04T08:01:33.371Z"
   },
   {
    "duration": 29,
    "start_time": "2022-08-04T08:01:33.406Z"
   },
   {
    "duration": 4,
    "start_time": "2022-08-04T08:01:33.437Z"
   },
   {
    "duration": 6,
    "start_time": "2022-08-04T08:01:33.443Z"
   },
   {
    "duration": 52,
    "start_time": "2022-08-04T08:01:33.451Z"
   },
   {
    "duration": 18,
    "start_time": "2022-08-04T08:01:33.506Z"
   },
   {
    "duration": 11,
    "start_time": "2022-08-04T08:01:33.526Z"
   },
   {
    "duration": 11,
    "start_time": "2022-08-04T08:01:33.539Z"
   },
   {
    "duration": 11,
    "start_time": "2022-08-04T08:01:33.552Z"
   },
   {
    "duration": 46,
    "start_time": "2022-08-04T08:01:33.565Z"
   },
   {
    "duration": 50,
    "start_time": "2022-08-04T08:01:33.612Z"
   },
   {
    "duration": 195,
    "start_time": "2022-08-04T08:01:33.664Z"
   },
   {
    "duration": 5,
    "start_time": "2022-08-04T08:01:33.861Z"
   },
   {
    "duration": 38,
    "start_time": "2022-08-04T08:01:33.868Z"
   },
   {
    "duration": 49,
    "start_time": "2022-08-04T08:01:33.908Z"
   },
   {
    "duration": 1369,
    "start_time": "2022-08-04T08:01:33.958Z"
   },
   {
    "duration": 22,
    "start_time": "2022-08-04T08:01:35.329Z"
   },
   {
    "duration": 54,
    "start_time": "2022-08-04T08:01:35.352Z"
   },
   {
    "duration": 57,
    "start_time": "2022-08-04T08:01:35.408Z"
   },
   {
    "duration": 47,
    "start_time": "2022-08-04T08:01:35.469Z"
   },
   {
    "duration": 10,
    "start_time": "2022-08-04T08:01:35.518Z"
   },
   {
    "duration": 31,
    "start_time": "2022-08-04T08:01:35.530Z"
   },
   {
    "duration": 73,
    "start_time": "2022-08-04T08:01:35.563Z"
   },
   {
    "duration": 1324,
    "start_time": "2022-08-04T08:09:58.286Z"
   },
   {
    "duration": 70,
    "start_time": "2022-08-04T08:09:59.612Z"
   },
   {
    "duration": 47,
    "start_time": "2022-08-04T08:09:59.684Z"
   },
   {
    "duration": 12,
    "start_time": "2022-08-04T08:09:59.733Z"
   },
   {
    "duration": 14,
    "start_time": "2022-08-04T08:09:59.748Z"
   },
   {
    "duration": 6,
    "start_time": "2022-08-04T08:09:59.764Z"
   },
   {
    "duration": 33,
    "start_time": "2022-08-04T08:09:59.771Z"
   },
   {
    "duration": 14,
    "start_time": "2022-08-04T08:09:59.806Z"
   },
   {
    "duration": 21,
    "start_time": "2022-08-04T08:09:59.821Z"
   },
   {
    "duration": 24,
    "start_time": "2022-08-04T08:09:59.844Z"
   },
   {
    "duration": 153,
    "start_time": "2022-08-04T08:09:59.870Z"
   },
   {
    "duration": 6,
    "start_time": "2022-08-04T08:10:00.025Z"
   },
   {
    "duration": 16,
    "start_time": "2022-08-04T08:10:00.033Z"
   },
   {
    "duration": 26,
    "start_time": "2022-08-04T08:10:00.053Z"
   },
   {
    "duration": 30,
    "start_time": "2022-08-04T08:10:00.081Z"
   },
   {
    "duration": 7,
    "start_time": "2022-08-04T08:10:00.112Z"
   },
   {
    "duration": 496,
    "start_time": "2022-08-04T08:10:00.121Z"
   },
   {
    "duration": 15,
    "start_time": "2022-08-04T08:10:00.619Z"
   },
   {
    "duration": 103,
    "start_time": "2022-08-04T08:10:00.635Z"
   },
   {
    "duration": 20,
    "start_time": "2022-08-04T08:10:00.740Z"
   },
   {
    "duration": 97,
    "start_time": "2022-08-04T08:10:00.761Z"
   },
   {
    "duration": 19,
    "start_time": "2022-08-04T08:10:00.860Z"
   },
   {
    "duration": 89,
    "start_time": "2022-08-04T08:10:00.881Z"
   },
   {
    "duration": 19,
    "start_time": "2022-08-04T08:10:00.972Z"
   },
   {
    "duration": 25,
    "start_time": "2022-08-04T08:10:00.993Z"
   },
   {
    "duration": 57,
    "start_time": "2022-08-04T08:10:01.020Z"
   },
   {
    "duration": 31,
    "start_time": "2022-08-04T08:10:01.079Z"
   },
   {
    "duration": 36,
    "start_time": "2022-08-04T08:10:01.112Z"
   },
   {
    "duration": 25,
    "start_time": "2022-08-04T08:10:01.150Z"
   },
   {
    "duration": 26,
    "start_time": "2022-08-04T08:10:01.177Z"
   },
   {
    "duration": 23,
    "start_time": "2022-08-04T08:10:01.204Z"
   },
   {
    "duration": 75,
    "start_time": "2022-08-04T08:10:01.229Z"
   },
   {
    "duration": 183,
    "start_time": "2022-08-04T08:10:01.306Z"
   },
   {
    "duration": 5,
    "start_time": "2022-08-04T08:10:01.491Z"
   },
   {
    "duration": 22,
    "start_time": "2022-08-04T08:10:01.503Z"
   },
   {
    "duration": 50,
    "start_time": "2022-08-04T08:10:01.527Z"
   },
   {
    "duration": 1228,
    "start_time": "2022-08-04T08:10:01.579Z"
   },
   {
    "duration": 16,
    "start_time": "2022-08-04T08:10:02.809Z"
   },
   {
    "duration": 99,
    "start_time": "2022-08-04T08:10:02.828Z"
   },
   {
    "duration": 53,
    "start_time": "2022-08-04T08:10:02.929Z"
   },
   {
    "duration": 44,
    "start_time": "2022-08-04T08:10:02.987Z"
   },
   {
    "duration": 10,
    "start_time": "2022-08-04T08:10:03.033Z"
   },
   {
    "duration": 18,
    "start_time": "2022-08-04T08:10:03.045Z"
   },
   {
    "duration": 65,
    "start_time": "2022-08-04T08:10:03.065Z"
   },
   {
    "duration": 142,
    "start_time": "2022-08-04T11:16:56.790Z"
   },
   {
    "duration": 44,
    "start_time": "2022-08-04T11:20:00.581Z"
   },
   {
    "duration": 1163,
    "start_time": "2022-08-04T11:20:03.351Z"
   },
   {
    "duration": 69,
    "start_time": "2022-08-04T11:20:04.517Z"
   },
   {
    "duration": 45,
    "start_time": "2022-08-04T11:20:04.588Z"
   },
   {
    "duration": 10,
    "start_time": "2022-08-04T11:20:04.635Z"
   },
   {
    "duration": 11,
    "start_time": "2022-08-04T11:20:04.646Z"
   },
   {
    "duration": 11,
    "start_time": "2022-08-04T11:20:04.659Z"
   },
   {
    "duration": 7,
    "start_time": "2022-08-04T11:20:04.671Z"
   },
   {
    "duration": 9,
    "start_time": "2022-08-04T11:20:04.680Z"
   },
   {
    "duration": 33,
    "start_time": "2022-08-04T11:20:04.690Z"
   },
   {
    "duration": 16,
    "start_time": "2022-08-04T11:20:04.726Z"
   },
   {
    "duration": 136,
    "start_time": "2022-08-04T11:20:04.743Z"
   },
   {
    "duration": 6,
    "start_time": "2022-08-04T11:20:04.880Z"
   },
   {
    "duration": 9,
    "start_time": "2022-08-04T11:20:04.887Z"
   },
   {
    "duration": 19,
    "start_time": "2022-08-04T11:20:04.908Z"
   },
   {
    "duration": 14,
    "start_time": "2022-08-04T11:20:04.929Z"
   },
   {
    "duration": 6,
    "start_time": "2022-08-04T11:20:04.945Z"
   },
   {
    "duration": 615,
    "start_time": "2022-08-04T11:20:04.952Z"
   },
   {
    "duration": 83,
    "start_time": "2022-08-04T11:20:05.569Z"
   },
   {
    "duration": 67,
    "start_time": "2022-08-04T11:20:05.653Z"
   },
   {
    "duration": 62,
    "start_time": "2022-08-04T11:20:05.721Z"
   },
   {
    "duration": 18,
    "start_time": "2022-08-04T11:20:05.784Z"
   },
   {
    "duration": 49,
    "start_time": "2022-08-04T11:20:05.804Z"
   },
   {
    "duration": 11,
    "start_time": "2022-08-04T11:20:05.854Z"
   },
   {
    "duration": 46,
    "start_time": "2022-08-04T11:20:05.867Z"
   },
   {
    "duration": 4,
    "start_time": "2022-08-04T11:20:05.915Z"
   },
   {
    "duration": 6,
    "start_time": "2022-08-04T11:20:05.921Z"
   },
   {
    "duration": 23,
    "start_time": "2022-08-04T11:20:05.929Z"
   },
   {
    "duration": 22,
    "start_time": "2022-08-04T11:20:05.957Z"
   },
   {
    "duration": 30,
    "start_time": "2022-08-04T11:20:05.981Z"
   },
   {
    "duration": 11,
    "start_time": "2022-08-04T11:20:06.013Z"
   },
   {
    "duration": 15,
    "start_time": "2022-08-04T11:20:06.026Z"
   },
   {
    "duration": 33,
    "start_time": "2022-08-04T11:20:06.042Z"
   },
   {
    "duration": 46,
    "start_time": "2022-08-04T11:20:06.077Z"
   },
   {
    "duration": 177,
    "start_time": "2022-08-04T11:20:06.125Z"
   },
   {
    "duration": 8,
    "start_time": "2022-08-04T11:20:06.304Z"
   },
   {
    "duration": 26,
    "start_time": "2022-08-04T11:20:06.314Z"
   },
   {
    "duration": 45,
    "start_time": "2022-08-04T11:20:06.342Z"
   },
   {
    "duration": 1618,
    "start_time": "2022-08-04T11:20:06.388Z"
   },
   {
    "duration": 16,
    "start_time": "2022-08-04T11:20:08.008Z"
   },
   {
    "duration": 34,
    "start_time": "2022-08-04T11:20:08.026Z"
   },
   {
    "duration": 72,
    "start_time": "2022-08-04T11:20:08.063Z"
   },
   {
    "duration": 28,
    "start_time": "2022-08-04T11:20:08.137Z"
   },
   {
    "duration": 9,
    "start_time": "2022-08-04T11:20:08.167Z"
   },
   {
    "duration": 34,
    "start_time": "2022-08-04T11:20:08.178Z"
   },
   {
    "duration": 54,
    "start_time": "2022-08-04T11:20:08.214Z"
   },
   {
    "duration": 47,
    "start_time": "2022-08-04T11:20:27.072Z"
   },
   {
    "duration": 46,
    "start_time": "2022-08-04T11:20:34.614Z"
   },
   {
    "duration": 131,
    "start_time": "2022-08-04T11:21:41.969Z"
   },
   {
    "duration": 10,
    "start_time": "2022-08-04T11:21:59.892Z"
   },
   {
    "duration": 11,
    "start_time": "2022-08-04T11:22:03.719Z"
   },
   {
    "duration": 168,
    "start_time": "2022-08-04T11:22:06.658Z"
   },
   {
    "duration": 47,
    "start_time": "2022-08-04T11:22:43.124Z"
   },
   {
    "duration": 6,
    "start_time": "2022-08-04T11:24:06.090Z"
   },
   {
    "duration": 6,
    "start_time": "2022-08-04T11:24:11.420Z"
   },
   {
    "duration": 6,
    "start_time": "2022-08-04T11:24:15.587Z"
   },
   {
    "duration": 6,
    "start_time": "2022-08-04T11:24:45.321Z"
   },
   {
    "duration": 5,
    "start_time": "2022-08-04T11:24:47.987Z"
   },
   {
    "duration": 5,
    "start_time": "2022-08-04T11:24:50.639Z"
   },
   {
    "duration": 5,
    "start_time": "2022-08-04T11:24:58.245Z"
   },
   {
    "duration": 14,
    "start_time": "2022-08-04T11:27:35.371Z"
   },
   {
    "duration": 11,
    "start_time": "2022-08-04T11:27:44.582Z"
   },
   {
    "duration": 13,
    "start_time": "2022-08-04T11:27:54.814Z"
   },
   {
    "duration": 11,
    "start_time": "2022-08-04T11:28:21.588Z"
   },
   {
    "duration": 9,
    "start_time": "2022-08-04T11:28:25.158Z"
   },
   {
    "duration": 8,
    "start_time": "2022-08-04T11:28:32.112Z"
   },
   {
    "duration": 1366,
    "start_time": "2022-08-04T17:47:21.132Z"
   },
   {
    "duration": 110,
    "start_time": "2022-08-04T17:47:22.500Z"
   },
   {
    "duration": 64,
    "start_time": "2022-08-04T17:47:22.612Z"
   },
   {
    "duration": 17,
    "start_time": "2022-08-04T17:47:22.678Z"
   },
   {
    "duration": 8,
    "start_time": "2022-08-04T17:47:22.699Z"
   },
   {
    "duration": 5,
    "start_time": "2022-08-04T17:47:22.708Z"
   },
   {
    "duration": 8,
    "start_time": "2022-08-04T17:47:22.715Z"
   },
   {
    "duration": 31,
    "start_time": "2022-08-04T17:47:22.725Z"
   },
   {
    "duration": 27,
    "start_time": "2022-08-04T17:47:22.758Z"
   },
   {
    "duration": 27,
    "start_time": "2022-08-04T17:47:22.787Z"
   },
   {
    "duration": 132,
    "start_time": "2022-08-04T17:47:22.817Z"
   },
   {
    "duration": 9,
    "start_time": "2022-08-04T17:47:22.951Z"
   },
   {
    "duration": 13,
    "start_time": "2022-08-04T17:47:22.962Z"
   },
   {
    "duration": 27,
    "start_time": "2022-08-04T17:47:22.979Z"
   },
   {
    "duration": 14,
    "start_time": "2022-08-04T17:47:23.008Z"
   },
   {
    "duration": 32,
    "start_time": "2022-08-04T17:47:23.024Z"
   },
   {
    "duration": 422,
    "start_time": "2022-08-04T17:47:23.058Z"
   },
   {
    "duration": 118,
    "start_time": "2022-08-04T17:47:23.483Z"
   },
   {
    "duration": 15,
    "start_time": "2022-08-04T17:47:23.602Z"
   },
   {
    "duration": 86,
    "start_time": "2022-08-04T17:47:23.618Z"
   },
   {
    "duration": 18,
    "start_time": "2022-08-04T17:47:23.706Z"
   },
   {
    "duration": 67,
    "start_time": "2022-08-04T17:47:23.726Z"
   },
   {
    "duration": 136,
    "start_time": "2022-08-04T17:47:23.794Z"
   },
   {
    "duration": 26,
    "start_time": "2022-08-04T17:47:23.931Z"
   },
   {
    "duration": 33,
    "start_time": "2022-08-04T17:47:23.959Z"
   },
   {
    "duration": 62,
    "start_time": "2022-08-04T17:47:23.995Z"
   },
   {
    "duration": 9,
    "start_time": "2022-08-04T17:47:24.059Z"
   },
   {
    "duration": 32,
    "start_time": "2022-08-04T17:47:24.070Z"
   },
   {
    "duration": 17,
    "start_time": "2022-08-04T17:47:24.105Z"
   },
   {
    "duration": 32,
    "start_time": "2022-08-04T17:47:24.124Z"
   },
   {
    "duration": 19,
    "start_time": "2022-08-04T17:47:24.159Z"
   },
   {
    "duration": 10,
    "start_time": "2022-08-04T17:47:24.180Z"
   },
   {
    "duration": 8,
    "start_time": "2022-08-04T17:47:24.192Z"
   },
   {
    "duration": 17,
    "start_time": "2022-08-04T17:47:24.202Z"
   },
   {
    "duration": 73,
    "start_time": "2022-08-04T17:47:24.221Z"
   },
   {
    "duration": 154,
    "start_time": "2022-08-04T17:47:24.296Z"
   },
   {
    "duration": 6,
    "start_time": "2022-08-04T17:47:24.451Z"
   },
   {
    "duration": 22,
    "start_time": "2022-08-04T17:47:24.459Z"
   },
   {
    "duration": 41,
    "start_time": "2022-08-04T17:47:24.483Z"
   },
   {
    "duration": 992,
    "start_time": "2022-08-04T17:47:24.526Z"
   },
   {
    "duration": 15,
    "start_time": "2022-08-04T17:47:25.521Z"
   },
   {
    "duration": 32,
    "start_time": "2022-08-04T17:47:25.538Z"
   },
   {
    "duration": 43,
    "start_time": "2022-08-04T17:47:25.573Z"
   },
   {
    "duration": 38,
    "start_time": "2022-08-04T17:47:25.617Z"
   },
   {
    "duration": 10,
    "start_time": "2022-08-04T17:47:25.657Z"
   },
   {
    "duration": 13,
    "start_time": "2022-08-04T17:47:25.668Z"
   },
   {
    "duration": 54,
    "start_time": "2022-08-04T17:47:25.682Z"
   },
   {
    "duration": 46,
    "start_time": "2022-08-09T11:41:46.699Z"
   },
   {
    "duration": 8,
    "start_time": "2022-08-09T11:41:53.410Z"
   },
   {
    "duration": 1451,
    "start_time": "2022-08-09T11:41:56.406Z"
   },
   {
    "duration": 244,
    "start_time": "2022-08-09T11:42:40.849Z"
   },
   {
    "duration": 1221,
    "start_time": "2022-08-09T19:37:15.398Z"
   },
   {
    "duration": 263,
    "start_time": "2022-08-09T19:37:16.621Z"
   },
   {
    "duration": 67,
    "start_time": "2022-08-09T19:37:16.886Z"
   },
   {
    "duration": 12,
    "start_time": "2022-08-09T19:37:16.955Z"
   },
   {
    "duration": 15,
    "start_time": "2022-08-09T19:37:16.970Z"
   },
   {
    "duration": 7,
    "start_time": "2022-08-09T19:37:17.003Z"
   },
   {
    "duration": 9,
    "start_time": "2022-08-09T19:37:17.012Z"
   },
   {
    "duration": 6,
    "start_time": "2022-08-09T19:37:17.023Z"
   },
   {
    "duration": 22,
    "start_time": "2022-08-09T19:37:17.031Z"
   },
   {
    "duration": 49,
    "start_time": "2022-08-09T19:37:17.056Z"
   },
   {
    "duration": 142,
    "start_time": "2022-08-09T19:37:17.107Z"
   },
   {
    "duration": 7,
    "start_time": "2022-08-09T19:37:17.251Z"
   },
   {
    "duration": 7,
    "start_time": "2022-08-09T19:37:17.259Z"
   },
   {
    "duration": 49,
    "start_time": "2022-08-09T19:37:17.269Z"
   },
   {
    "duration": 15,
    "start_time": "2022-08-09T19:37:17.320Z"
   },
   {
    "duration": 7,
    "start_time": "2022-08-09T19:37:17.337Z"
   },
   {
    "duration": 496,
    "start_time": "2022-08-09T19:37:17.345Z"
   },
   {
    "duration": 82,
    "start_time": "2022-08-09T19:37:17.843Z"
   },
   {
    "duration": 18,
    "start_time": "2022-08-09T19:37:17.928Z"
   },
   {
    "duration": 93,
    "start_time": "2022-08-09T19:37:17.948Z"
   },
   {
    "duration": 21,
    "start_time": "2022-08-09T19:37:18.043Z"
   },
   {
    "duration": 84,
    "start_time": "2022-08-09T19:37:18.066Z"
   },
   {
    "duration": 170,
    "start_time": "2022-08-09T19:37:18.152Z"
   },
   {
    "duration": 14,
    "start_time": "2022-08-09T19:37:18.324Z"
   },
   {
    "duration": 76,
    "start_time": "2022-08-09T19:37:18.339Z"
   },
   {
    "duration": 6,
    "start_time": "2022-08-09T19:37:18.417Z"
   },
   {
    "duration": 11,
    "start_time": "2022-08-09T19:37:18.424Z"
   },
   {
    "duration": 43,
    "start_time": "2022-08-09T19:37:18.437Z"
   },
   {
    "duration": 29,
    "start_time": "2022-08-09T19:37:18.483Z"
   },
   {
    "duration": 14,
    "start_time": "2022-08-09T19:37:18.514Z"
   },
   {
    "duration": 12,
    "start_time": "2022-08-09T19:37:18.529Z"
   },
   {
    "duration": 14,
    "start_time": "2022-08-09T19:37:18.542Z"
   },
   {
    "duration": 6,
    "start_time": "2022-08-09T19:37:18.558Z"
   },
   {
    "duration": 49,
    "start_time": "2022-08-09T19:37:18.565Z"
   },
   {
    "duration": 51,
    "start_time": "2022-08-09T19:37:18.615Z"
   },
   {
    "duration": 194,
    "start_time": "2022-08-09T19:37:18.668Z"
   },
   {
    "duration": 5,
    "start_time": "2022-08-09T19:37:18.864Z"
   },
   {
    "duration": 42,
    "start_time": "2022-08-09T19:37:18.871Z"
   },
   {
    "duration": 63,
    "start_time": "2022-08-09T19:37:18.916Z"
   },
   {
    "duration": 1042,
    "start_time": "2022-08-09T19:37:18.981Z"
   },
   {
    "duration": 19,
    "start_time": "2022-08-09T19:37:20.028Z"
   },
   {
    "duration": 42,
    "start_time": "2022-08-09T19:37:20.104Z"
   },
   {
    "duration": 185,
    "start_time": "2022-08-09T19:37:20.148Z"
   },
   {
    "duration": 95,
    "start_time": "2022-08-09T19:37:20.335Z"
   },
   {
    "duration": 11,
    "start_time": "2022-08-09T19:37:20.431Z"
   },
   {
    "duration": 67,
    "start_time": "2022-08-09T19:37:20.443Z"
   },
   {
    "duration": 103,
    "start_time": "2022-08-09T19:37:20.511Z"
   }
  ],
  "kernelspec": {
   "display_name": "Python 3 (ipykernel)",
   "language": "python",
   "name": "python3"
  },
  "language_info": {
   "codemirror_mode": {
    "name": "ipython",
    "version": 3
   },
   "file_extension": ".py",
   "mimetype": "text/x-python",
   "name": "python",
   "nbconvert_exporter": "python",
   "pygments_lexer": "ipython3",
   "version": "3.9.13"
  },
  "toc": {
   "base_numbering": 1,
   "nav_menu": {},
   "number_sections": true,
   "sideBar": true,
   "skip_h1_title": true,
   "title_cell": "Table of Contents",
   "title_sidebar": "Contents",
   "toc_cell": false,
   "toc_position": {
    "height": "calc(100% - 180px)",
    "left": "10px",
    "top": "150px",
    "width": "366px"
   },
   "toc_section_display": true,
   "toc_window_display": true
  }
 },
 "nbformat": 4,
 "nbformat_minor": 2
}
