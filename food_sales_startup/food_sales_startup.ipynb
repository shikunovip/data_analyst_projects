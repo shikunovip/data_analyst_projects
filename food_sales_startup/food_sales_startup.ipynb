{
 "cells": [
  {
   "cell_type": "markdown",
   "metadata": {},
   "source": [
    "# Аналитика стартапа по продаже продуктов питания"
   ]
  },
  {
   "cell_type": "markdown",
   "metadata": {},
   "source": [
    "**Содержание:**\n",
    "* [1. Исследование данных и их предобработка](#Исследование-данных-и-их-предобработка)\n",
    " * [1.1 Загрузка данных и извлечение информации](#)\n",
    " * [1.2 Промежуточный вывод](#Промежуточный-вывод)\n",
    "* [2. Изучение и проверка данных](#Изучение-и-проверка-данных)\n",
    "* [3. Изучение воронки событий](#Изучение-воронки-событий)\n",
    "* [4. Исследование результатов эксперимента](#Исследование-результатов-эксперимента)\n",
    "* [5. Вывод](#Вывод)"
   ]
  },
  {
   "cell_type": "markdown",
   "metadata": {},
   "source": [
    "Мы работаем в стартапе, который продаёт продукты питания. Нужно разобраться, как ведут себя пользователи нашего мобильного приложения.  \n",
    "Изучим воронку продаж. Узнаем, как пользователи доходят до покупки. Сколько пользователей доходит до покупки, а сколько — «застревает» на предыдущих шагах? На каких именно?  \n",
    "После этого исследуем результаты A/A/B-эксперимента. Дизайнеры захотели поменять шрифты во всём приложении, а менеджеры испугались, что пользователям будет непривычно. Договорились принять решение по результатам A/A/B-теста. Пользователей разбили на 3 группы: 2 контрольные со старыми шрифтами и одну экспериментальную — с новыми. Выясним, какой шрифт лучше.  \n",
    "\n",
    "Целью настоящего исследования является изучение поведения пользоваталей и анализ результатов А/А/В-тестов."
   ]
  },
  {
   "cell_type": "markdown",
   "metadata": {},
   "source": [
    "**Полученные данные хранятся в файле:**  \n",
    "`logs_exp.csv`"
   ]
  },
  {
   "cell_type": "markdown",
   "metadata": {},
   "source": [
    "**Описание данных:**\n",
    "\n",
    "Каждая запись в логе — это действие пользователя, или событие.  \n",
    "- `EventName` — название события;\n",
    "- `DeviceIDHash` — уникальный идентификатор пользователя;\n",
    "- `EventTimestam`p — время события;\n",
    "- `ExpId` — номер эксперимента: 246 и 247 — контрольные группы, а 248 — экспериментальная."
   ]
  },
  {
   "cell_type": "markdown",
   "metadata": {},
   "source": [
    "## Исследование данных и их предобработка "
   ]
  },
  {
   "cell_type": "markdown",
   "metadata": {},
   "source": [
    "### Загрузка данных и извлечение информации"
   ]
  },
  {
   "cell_type": "markdown",
   "metadata": {},
   "source": [
    "Начнем с импорта необходимых для работы библиотек"
   ]
  },
  {
   "cell_type": "code",
   "execution_count": 1,
   "metadata": {},
   "outputs": [],
   "source": [
    "import pandas as pd\n",
    "import datetime as dt\n",
    "import numpy as np\n",
    "import matplotlib.pyplot as plt\n",
    "import plotly.express as px\n",
    "from plotly import graph_objects as go\n",
    "import seaborn as sns\n",
    "from scipy import stats as st\n",
    "import math as mth\n",
    "import warnings\n",
    "warnings.simplefilter('ignore')"
   ]
  },
  {
   "cell_type": "code",
   "execution_count": 2,
   "metadata": {},
   "outputs": [],
   "source": [
    "import plotly.io as pio\n",
    "pio.renderers.default = \"svg\""
   ]
  },
  {
   "cell_type": "markdown",
   "metadata": {},
   "source": [
    "Импортируем предоставленныый файл и сохраним его в переменной df"
   ]
  },
  {
   "cell_type": "code",
   "execution_count": 3,
   "metadata": {},
   "outputs": [],
   "source": [
    "try:\n",
    "    df = pd.read_csv('/datasets/logs_exp.csv', sep='\\t')\n",
    "except:\n",
    "    df = pd.read_csv('logs_exp.csv', sep='\\t')"
   ]
  },
  {
   "cell_type": "markdown",
   "metadata": {},
   "source": [
    "Изучим данные в файле, выведем на экран первые 5 строк датафрейма, общую информацию, информацию о доли пропущенных значений и колчестве явных дубликатов:"
   ]
  },
  {
   "cell_type": "code",
   "execution_count": 4,
   "metadata": {},
   "outputs": [
    {
     "name": "stdout",
     "output_type": "stream",
     "text": [
      "Внешний вид датафрейма:\n"
     ]
    },
    {
     "data": {
      "text/html": [
       "<div>\n",
       "<style scoped>\n",
       "    .dataframe tbody tr th:only-of-type {\n",
       "        vertical-align: middle;\n",
       "    }\n",
       "\n",
       "    .dataframe tbody tr th {\n",
       "        vertical-align: top;\n",
       "    }\n",
       "\n",
       "    .dataframe thead th {\n",
       "        text-align: right;\n",
       "    }\n",
       "</style>\n",
       "<table border=\"1\" class=\"dataframe\">\n",
       "  <thead>\n",
       "    <tr style=\"text-align: right;\">\n",
       "      <th></th>\n",
       "      <th>EventName</th>\n",
       "      <th>DeviceIDHash</th>\n",
       "      <th>EventTimestamp</th>\n",
       "      <th>ExpId</th>\n",
       "    </tr>\n",
       "  </thead>\n",
       "  <tbody>\n",
       "    <tr>\n",
       "      <th>0</th>\n",
       "      <td>MainScreenAppear</td>\n",
       "      <td>4575588528974610257</td>\n",
       "      <td>1564029816</td>\n",
       "      <td>246</td>\n",
       "    </tr>\n",
       "    <tr>\n",
       "      <th>1</th>\n",
       "      <td>MainScreenAppear</td>\n",
       "      <td>7416695313311560658</td>\n",
       "      <td>1564053102</td>\n",
       "      <td>246</td>\n",
       "    </tr>\n",
       "    <tr>\n",
       "      <th>2</th>\n",
       "      <td>PaymentScreenSuccessful</td>\n",
       "      <td>3518123091307005509</td>\n",
       "      <td>1564054127</td>\n",
       "      <td>248</td>\n",
       "    </tr>\n",
       "    <tr>\n",
       "      <th>3</th>\n",
       "      <td>CartScreenAppear</td>\n",
       "      <td>3518123091307005509</td>\n",
       "      <td>1564054127</td>\n",
       "      <td>248</td>\n",
       "    </tr>\n",
       "    <tr>\n",
       "      <th>4</th>\n",
       "      <td>PaymentScreenSuccessful</td>\n",
       "      <td>6217807653094995999</td>\n",
       "      <td>1564055322</td>\n",
       "      <td>248</td>\n",
       "    </tr>\n",
       "  </tbody>\n",
       "</table>\n",
       "</div>"
      ],
      "text/plain": [
       "                 EventName         DeviceIDHash  EventTimestamp  ExpId\n",
       "0         MainScreenAppear  4575588528974610257      1564029816    246\n",
       "1         MainScreenAppear  7416695313311560658      1564053102    246\n",
       "2  PaymentScreenSuccessful  3518123091307005509      1564054127    248\n",
       "3         CartScreenAppear  3518123091307005509      1564054127    248\n",
       "4  PaymentScreenSuccessful  6217807653094995999      1564055322    248"
      ]
     },
     "metadata": {},
     "output_type": "display_data"
    },
    {
     "name": "stdout",
     "output_type": "stream",
     "text": [
      "``````````````````````````````````````````````````\n",
      "Типы данных, кол-во строк и столбцов:\n",
      "<class 'pandas.core.frame.DataFrame'>\n",
      "RangeIndex: 244126 entries, 0 to 244125\n",
      "Data columns (total 4 columns):\n",
      " #   Column          Non-Null Count   Dtype \n",
      "---  ------          --------------   ----- \n",
      " 0   EventName       244126 non-null  object\n",
      " 1   DeviceIDHash    244126 non-null  int64 \n",
      " 2   EventTimestamp  244126 non-null  int64 \n",
      " 3   ExpId           244126 non-null  int64 \n",
      "dtypes: int64(3), object(1)\n",
      "memory usage: 7.5+ MB\n",
      "None\n",
      "``````````````````````````````````````````````````\n",
      "Доля пропущенных значений:\n",
      "EventName         0.0\n",
      "DeviceIDHash      0.0\n",
      "EventTimestamp    0.0\n",
      "ExpId             0.0\n",
      "dtype: float64\n",
      "``````````````````````````````````````````````````\n",
      "Количество явных дубликатов:\n",
      "0.17 %\n",
      "``````````````````````````````````````````````````\n"
     ]
    }
   ],
   "source": [
    "print('Внешний вид датафрейма:')\n",
    "display(df.head(5))\n",
    "print('``````````````````````````````````````````````````')\n",
    "print('Типы данных, кол-во строк и столбцов:')\n",
    "print(df.info())\n",
    "print('``````````````````````````````````````````````````')\n",
    "print('Доля пропущенных значений:')    \n",
    "print(df.isnull().mean())\n",
    "print('``````````````````````````````````````````````````')\n",
    "print('Количество явных дубликатов:')\n",
    "print(round(df.duplicated().sum()/len(df)*100,2), '%')\n",
    "print('``````````````````````````````````````````````````')"
   ]
  },
  {
   "cell_type": "markdown",
   "metadata": {},
   "source": [
    "Изменим названия колонок на привычный нам змеиный регистр:"
   ]
  },
  {
   "cell_type": "code",
   "execution_count": 5,
   "metadata": {},
   "outputs": [
    {
     "data": {
      "text/html": [
       "<div>\n",
       "<style scoped>\n",
       "    .dataframe tbody tr th:only-of-type {\n",
       "        vertical-align: middle;\n",
       "    }\n",
       "\n",
       "    .dataframe tbody tr th {\n",
       "        vertical-align: top;\n",
       "    }\n",
       "\n",
       "    .dataframe thead th {\n",
       "        text-align: right;\n",
       "    }\n",
       "</style>\n",
       "<table border=\"1\" class=\"dataframe\">\n",
       "  <thead>\n",
       "    <tr style=\"text-align: right;\">\n",
       "      <th></th>\n",
       "      <th>event_name</th>\n",
       "      <th>device_id_hash</th>\n",
       "      <th>event_timestamp</th>\n",
       "      <th>exp_id</th>\n",
       "    </tr>\n",
       "  </thead>\n",
       "  <tbody>\n",
       "    <tr>\n",
       "      <th>0</th>\n",
       "      <td>MainScreenAppear</td>\n",
       "      <td>4575588528974610257</td>\n",
       "      <td>1564029816</td>\n",
       "      <td>246</td>\n",
       "    </tr>\n",
       "    <tr>\n",
       "      <th>1</th>\n",
       "      <td>MainScreenAppear</td>\n",
       "      <td>7416695313311560658</td>\n",
       "      <td>1564053102</td>\n",
       "      <td>246</td>\n",
       "    </tr>\n",
       "    <tr>\n",
       "      <th>2</th>\n",
       "      <td>PaymentScreenSuccessful</td>\n",
       "      <td>3518123091307005509</td>\n",
       "      <td>1564054127</td>\n",
       "      <td>248</td>\n",
       "    </tr>\n",
       "    <tr>\n",
       "      <th>3</th>\n",
       "      <td>CartScreenAppear</td>\n",
       "      <td>3518123091307005509</td>\n",
       "      <td>1564054127</td>\n",
       "      <td>248</td>\n",
       "    </tr>\n",
       "    <tr>\n",
       "      <th>4</th>\n",
       "      <td>PaymentScreenSuccessful</td>\n",
       "      <td>6217807653094995999</td>\n",
       "      <td>1564055322</td>\n",
       "      <td>248</td>\n",
       "    </tr>\n",
       "  </tbody>\n",
       "</table>\n",
       "</div>"
      ],
      "text/plain": [
       "                event_name       device_id_hash  event_timestamp  exp_id\n",
       "0         MainScreenAppear  4575588528974610257       1564029816     246\n",
       "1         MainScreenAppear  7416695313311560658       1564053102     246\n",
       "2  PaymentScreenSuccessful  3518123091307005509       1564054127     248\n",
       "3         CartScreenAppear  3518123091307005509       1564054127     248\n",
       "4  PaymentScreenSuccessful  6217807653094995999       1564055322     248"
      ]
     },
     "metadata": {},
     "output_type": "display_data"
    }
   ],
   "source": [
    "df = df.rename(columns = {'EventName' : 'event_name', \n",
    "                         'DeviceIDHash' : 'device_id_hash',\n",
    "                         'EventTimestamp' : 'event_timestamp',\n",
    "                         'ExpId' : 'exp_id'})\n",
    "display(df.head(5))"
   ]
  },
  {
   "cell_type": "markdown",
   "metadata": {},
   "source": [
    "Теперь удалим дубликаты:"
   ]
  },
  {
   "cell_type": "code",
   "execution_count": 6,
   "metadata": {},
   "outputs": [
    {
     "data": {
      "text/plain": [
       "0"
      ]
     },
     "execution_count": 6,
     "metadata": {},
     "output_type": "execute_result"
    }
   ],
   "source": [
    "df = df.drop_duplicates()\n",
    "df.duplicated().sum()"
   ]
  },
  {
   "cell_type": "markdown",
   "metadata": {},
   "source": [
    "Данные в колонке event_timestamp скорее всего хранятся в типе данных unix timestamp, создадим отделькые колонки date_time и date,  которые понадобятся нам в нашем исследовании, и приведем данные к виду, понятные простому пользователю:"
   ]
  },
  {
   "cell_type": "code",
   "execution_count": 7,
   "metadata": {},
   "outputs": [],
   "source": [
    "df['date_time'] = pd.to_datetime(df['event_timestamp'],unit='s')\n",
    "df['date'] = df['date_time'].dt.floor(\"D\")"
   ]
  },
  {
   "cell_type": "code",
   "execution_count": 8,
   "metadata": {},
   "outputs": [
    {
     "name": "stdout",
     "output_type": "stream",
     "text": [
      "<class 'pandas.core.frame.DataFrame'>\n",
      "Int64Index: 243713 entries, 0 to 244125\n",
      "Data columns (total 6 columns):\n",
      " #   Column           Non-Null Count   Dtype         \n",
      "---  ------           --------------   -----         \n",
      " 0   event_name       243713 non-null  object        \n",
      " 1   device_id_hash   243713 non-null  int64         \n",
      " 2   event_timestamp  243713 non-null  int64         \n",
      " 3   exp_id           243713 non-null  int64         \n",
      " 4   date_time        243713 non-null  datetime64[ns]\n",
      " 5   date             243713 non-null  datetime64[ns]\n",
      "dtypes: datetime64[ns](2), int64(3), object(1)\n",
      "memory usage: 13.0+ MB\n"
     ]
    }
   ],
   "source": [
    "df.info()"
   ]
  },
  {
   "cell_type": "code",
   "execution_count": 9,
   "metadata": {},
   "outputs": [
    {
     "data": {
      "text/html": [
       "<div>\n",
       "<style scoped>\n",
       "    .dataframe tbody tr th:only-of-type {\n",
       "        vertical-align: middle;\n",
       "    }\n",
       "\n",
       "    .dataframe tbody tr th {\n",
       "        vertical-align: top;\n",
       "    }\n",
       "\n",
       "    .dataframe thead th {\n",
       "        text-align: right;\n",
       "    }\n",
       "</style>\n",
       "<table border=\"1\" class=\"dataframe\">\n",
       "  <thead>\n",
       "    <tr style=\"text-align: right;\">\n",
       "      <th></th>\n",
       "      <th>event_name</th>\n",
       "      <th>device_id_hash</th>\n",
       "      <th>event_timestamp</th>\n",
       "      <th>exp_id</th>\n",
       "      <th>date_time</th>\n",
       "      <th>date</th>\n",
       "    </tr>\n",
       "  </thead>\n",
       "  <tbody>\n",
       "    <tr>\n",
       "      <th>0</th>\n",
       "      <td>MainScreenAppear</td>\n",
       "      <td>4575588528974610257</td>\n",
       "      <td>1564029816</td>\n",
       "      <td>246</td>\n",
       "      <td>2019-07-25 04:43:36</td>\n",
       "      <td>2019-07-25</td>\n",
       "    </tr>\n",
       "    <tr>\n",
       "      <th>1</th>\n",
       "      <td>MainScreenAppear</td>\n",
       "      <td>7416695313311560658</td>\n",
       "      <td>1564053102</td>\n",
       "      <td>246</td>\n",
       "      <td>2019-07-25 11:11:42</td>\n",
       "      <td>2019-07-25</td>\n",
       "    </tr>\n",
       "    <tr>\n",
       "      <th>2</th>\n",
       "      <td>PaymentScreenSuccessful</td>\n",
       "      <td>3518123091307005509</td>\n",
       "      <td>1564054127</td>\n",
       "      <td>248</td>\n",
       "      <td>2019-07-25 11:28:47</td>\n",
       "      <td>2019-07-25</td>\n",
       "    </tr>\n",
       "    <tr>\n",
       "      <th>3</th>\n",
       "      <td>CartScreenAppear</td>\n",
       "      <td>3518123091307005509</td>\n",
       "      <td>1564054127</td>\n",
       "      <td>248</td>\n",
       "      <td>2019-07-25 11:28:47</td>\n",
       "      <td>2019-07-25</td>\n",
       "    </tr>\n",
       "    <tr>\n",
       "      <th>4</th>\n",
       "      <td>PaymentScreenSuccessful</td>\n",
       "      <td>6217807653094995999</td>\n",
       "      <td>1564055322</td>\n",
       "      <td>248</td>\n",
       "      <td>2019-07-25 11:48:42</td>\n",
       "      <td>2019-07-25</td>\n",
       "    </tr>\n",
       "  </tbody>\n",
       "</table>\n",
       "</div>"
      ],
      "text/plain": [
       "                event_name       device_id_hash  event_timestamp  exp_id  \\\n",
       "0         MainScreenAppear  4575588528974610257       1564029816     246   \n",
       "1         MainScreenAppear  7416695313311560658       1564053102     246   \n",
       "2  PaymentScreenSuccessful  3518123091307005509       1564054127     248   \n",
       "3         CartScreenAppear  3518123091307005509       1564054127     248   \n",
       "4  PaymentScreenSuccessful  6217807653094995999       1564055322     248   \n",
       "\n",
       "            date_time       date  \n",
       "0 2019-07-25 04:43:36 2019-07-25  \n",
       "1 2019-07-25 11:11:42 2019-07-25  \n",
       "2 2019-07-25 11:28:47 2019-07-25  \n",
       "3 2019-07-25 11:28:47 2019-07-25  \n",
       "4 2019-07-25 11:48:42 2019-07-25  "
      ]
     },
     "metadata": {},
     "output_type": "display_data"
    }
   ],
   "source": [
    "display(df.head(5))"
   ]
  },
  {
   "cell_type": "markdown",
   "metadata": {},
   "source": [
    "Посмотрим, какие данные у нас в колонке event_time, нет ли там неявных дубликатов, если нет, то можно перейти к следующему разделу нашего исследования:"
   ]
  },
  {
   "cell_type": "code",
   "execution_count": 10,
   "metadata": {},
   "outputs": [
    {
     "data": {
      "text/plain": [
       "array(['MainScreenAppear', 'PaymentScreenSuccessful', 'CartScreenAppear',\n",
       "       'OffersScreenAppear', 'Tutorial'], dtype=object)"
      ]
     },
     "execution_count": 10,
     "metadata": {},
     "output_type": "execute_result"
    }
   ],
   "source": [
    "df['event_name'].unique()"
   ]
  },
  {
   "cell_type": "markdown",
   "metadata": {},
   "source": [
    "### Промежуточный вывод"
   ]
  },
  {
   "cell_type": "markdown",
   "metadata": {},
   "source": [
    "Мы обработали входные данные, привели все названия к нижнему регистру, избавились от явных дубликатов, добавили колонки с датой и временем, а также проверили названия событий на наличие неявных дубликатов."
   ]
  },
  {
   "cell_type": "markdown",
   "metadata": {},
   "source": [
    "## Изучение и проверка данных"
   ]
  },
  {
   "cell_type": "markdown",
   "metadata": {},
   "source": [
    "Теперь изучим данные, в полученном датафрейме.  \n",
    "\n",
    "Посмотрим и посчитаем количество событий в колонке `event_name`:"
   ]
  },
  {
   "cell_type": "code",
   "execution_count": 11,
   "metadata": {},
   "outputs": [
    {
     "name": "stdout",
     "output_type": "stream",
     "text": [
      "Всего 5 названий событий, которые назваются: ['MainScreenAppear' 'PaymentScreenSuccessful' 'CartScreenAppear'\n",
      " 'OffersScreenAppear' 'Tutorial']\n",
      "Всего в датафрейме - 243713 событий\n"
     ]
    }
   ],
   "source": [
    "b = df['event_name'].unique()\n",
    "a = len(df['event_name'].unique())\n",
    "c = len(df['event_name'])\n",
    "print(f'Всего {a} названий событий, которые назваются: {b}')\n",
    "\n",
    "print(f'Всего в датафрейме - {c} событий')\n"
   ]
  },
  {
   "cell_type": "markdown",
   "metadata": {},
   "source": [
    "Посмотрим сколько всего пользователей в полученном логе событий:"
   ]
  },
  {
   "cell_type": "code",
   "execution_count": 12,
   "metadata": {},
   "outputs": [
    {
     "data": {
      "text/plain": [
       "7551"
      ]
     },
     "execution_count": 12,
     "metadata": {},
     "output_type": "execute_result"
    }
   ],
   "source": [
    "len(df['device_id_hash'].unique())"
   ]
  },
  {
   "cell_type": "markdown",
   "metadata": {},
   "source": [
    "Получим информацию о том, сколько в среднем приходится событий на одного уникального пользователия:"
   ]
  },
  {
   "cell_type": "code",
   "execution_count": 13,
   "metadata": {},
   "outputs": [
    {
     "data": {
      "text/plain": [
       "32"
      ]
     },
     "execution_count": 13,
     "metadata": {},
     "output_type": "execute_result"
    }
   ],
   "source": [
    "round(len(df['event_timestamp'])/len(df['device_id_hash'].unique()))"
   ]
  },
  {
   "cell_type": "markdown",
   "metadata": {},
   "source": [
    "Проверим -  данными за какой период мы располагаем? Найдем максимальную и минимальную дату и узнаем сколько дней длилось тестирование. Построим гистограмму по дате и времени и изучим их."
   ]
  },
  {
   "cell_type": "code",
   "execution_count": 14,
   "metadata": {},
   "outputs": [
    {
     "name": "stdout",
     "output_type": "stream",
     "text": [
      "Минимальная дата 2019-07-25 00:00:00\n",
      "Максимальная дата 2019-08-07 00:00:00\n"
     ]
    }
   ],
   "source": [
    "min_date = min(df['date'])\n",
    "max_date = max(df['date'])\n",
    "print(f'Минимальная дата {min_date}')\n",
    "print(f'Максимальная дата {max_date}')"
   ]
  },
  {
   "cell_type": "code",
   "execution_count": 15,
   "metadata": {},
   "outputs": [
    {
     "name": "stdout",
     "output_type": "stream",
     "text": [
      "13 days 00:00:00\n"
     ]
    }
   ],
   "source": [
    "print(max_date-min_date)"
   ]
  },
  {
   "cell_type": "code",
   "execution_count": 16,
   "metadata": {},
   "outputs": [
    {
     "data": {
      "image/png": "[encoded data removed]",
      "text/plain": [
       "<Figure size 1080x720 with 1 Axes>"
      ]
     },
     "metadata": {
      "needs_background": "light"
     },
     "output_type": "display_data"
    }
   ],
   "source": [
    "ax = df['date_time'].hist(figsize = (15,10), bins=(13*24));\n",
    "plt.suptitle('Количество событий по дням', fontsize = 20);\n",
    "ax.set_xlabel('Дата')\n",
    "ax.set_ylabel('Количество событий');"
   ]
  },
  {
   "cell_type": "markdown",
   "metadata": {},
   "source": [
    "Судя по построенному графику, можно предположить, что технически в логи новых дней по некоторым пользователям могут «доезжать» события из прошлого — это может «перекашивать данные». \n",
    "Наиболее полные данные начинаются с 1 августа, поэтому посмотрим, сколько у нас событий, которые произошли до этой даты."
   ]
  },
  {
   "cell_type": "code",
   "execution_count": 17,
   "metadata": {},
   "outputs": [
    {
     "name": "stdout",
     "output_type": "stream",
     "text": [
      "Количество записей до 1 августа составляет:      1.16 %\n"
     ]
    }
   ],
   "source": [
    "print(f\"Количество записей до 1 августа составляет:\\\n",
    "      {round(len(df[df['date'] < '2019-08-01'])/len(df)*100,2)} %\")"
   ]
  },
  {
   "cell_type": "code",
   "execution_count": 18,
   "metadata": {
    "code_folding": []
   },
   "outputs": [
    {
     "name": "stdout",
     "output_type": "stream",
     "text": [
      "Количество пользователей, который попадают в эти 1.16% составляет 0.6 % от всех пользователей\n"
     ]
    }
   ],
   "source": [
    "a = len(df[df['date'] < '2019-08-01']['device_id_hash'].unique())\n",
    "b = a/(len(df))*100\n",
    "print(f'Количество пользователей, который попадают в эти 1.16% составляет {round(b,2)} % от всех пользователей'\n",
    "    )"
   ]
  },
  {
   "cell_type": "markdown",
   "metadata": {},
   "source": [
    "Всего 1.16% записей, которые искажают график, удалим их, чтобы не мешали дальнейшему исследованию и зададим новые значения миннимальной и максимальной дат."
   ]
  },
  {
   "cell_type": "code",
   "execution_count": 19,
   "metadata": {},
   "outputs": [
    {
     "name": "stdout",
     "output_type": "stream",
     "text": [
      "Минимальная дата 2019-08-01 00:07:28\n",
      "Максимальная дата 2019-08-07 21:15:17\n"
     ]
    }
   ],
   "source": [
    "df = df.query('date >= \"2019-08-01\"')\n",
    "min_date = min(df['date_time'])\n",
    "max_date = max(df['date_time'])\n",
    "print(f'Минимальная дата {min_date}')\n",
    "print(f'Максимальная дата {max_date}')"
   ]
  },
  {
   "cell_type": "markdown",
   "metadata": {},
   "source": [
    "Теперь у нас развернутые данные за период одной недели - с 1 августа по 7 августа."
   ]
  },
  {
   "cell_type": "markdown",
   "metadata": {},
   "source": [
    "Проверим, есть ли пользователи в каждой из трех групп теста, не получилось ли так, что в какой-то группе никого нет."
   ]
  },
  {
   "cell_type": "code",
   "execution_count": 20,
   "metadata": {},
   "outputs": [
    {
     "data": {
      "text/html": [
       "<div>\n",
       "<style scoped>\n",
       "    .dataframe tbody tr th:only-of-type {\n",
       "        vertical-align: middle;\n",
       "    }\n",
       "\n",
       "    .dataframe tbody tr th {\n",
       "        vertical-align: top;\n",
       "    }\n",
       "\n",
       "    .dataframe thead th {\n",
       "        text-align: right;\n",
       "    }\n",
       "</style>\n",
       "<table border=\"1\" class=\"dataframe\">\n",
       "  <thead>\n",
       "    <tr style=\"text-align: right;\">\n",
       "      <th></th>\n",
       "      <th>event_name</th>\n",
       "      <th>device_id_hash</th>\n",
       "      <th>event_timestamp</th>\n",
       "      <th>exp_id</th>\n",
       "      <th>date_time</th>\n",
       "      <th>date</th>\n",
       "    </tr>\n",
       "  </thead>\n",
       "  <tbody>\n",
       "    <tr>\n",
       "      <th>2828</th>\n",
       "      <td>Tutorial</td>\n",
       "      <td>3737462046622621720</td>\n",
       "      <td>1564618048</td>\n",
       "      <td>246</td>\n",
       "      <td>2019-08-01 00:07:28</td>\n",
       "      <td>2019-08-01</td>\n",
       "    </tr>\n",
       "    <tr>\n",
       "      <th>2829</th>\n",
       "      <td>MainScreenAppear</td>\n",
       "      <td>3737462046622621720</td>\n",
       "      <td>1564618080</td>\n",
       "      <td>246</td>\n",
       "      <td>2019-08-01 00:08:00</td>\n",
       "      <td>2019-08-01</td>\n",
       "    </tr>\n",
       "    <tr>\n",
       "      <th>2830</th>\n",
       "      <td>MainScreenAppear</td>\n",
       "      <td>3737462046622621720</td>\n",
       "      <td>1564618135</td>\n",
       "      <td>246</td>\n",
       "      <td>2019-08-01 00:08:55</td>\n",
       "      <td>2019-08-01</td>\n",
       "    </tr>\n",
       "    <tr>\n",
       "      <th>2831</th>\n",
       "      <td>OffersScreenAppear</td>\n",
       "      <td>3737462046622621720</td>\n",
       "      <td>1564618138</td>\n",
       "      <td>246</td>\n",
       "      <td>2019-08-01 00:08:58</td>\n",
       "      <td>2019-08-01</td>\n",
       "    </tr>\n",
       "    <tr>\n",
       "      <th>2832</th>\n",
       "      <td>MainScreenAppear</td>\n",
       "      <td>1433840883824088890</td>\n",
       "      <td>1564618139</td>\n",
       "      <td>247</td>\n",
       "      <td>2019-08-01 00:08:59</td>\n",
       "      <td>2019-08-01</td>\n",
       "    </tr>\n",
       "  </tbody>\n",
       "</table>\n",
       "</div>"
      ],
      "text/plain": [
       "              event_name       device_id_hash  event_timestamp  exp_id  \\\n",
       "2828            Tutorial  3737462046622621720       1564618048     246   \n",
       "2829    MainScreenAppear  3737462046622621720       1564618080     246   \n",
       "2830    MainScreenAppear  3737462046622621720       1564618135     246   \n",
       "2831  OffersScreenAppear  3737462046622621720       1564618138     246   \n",
       "2832    MainScreenAppear  1433840883824088890       1564618139     247   \n",
       "\n",
       "               date_time       date  \n",
       "2828 2019-08-01 00:07:28 2019-08-01  \n",
       "2829 2019-08-01 00:08:00 2019-08-01  \n",
       "2830 2019-08-01 00:08:55 2019-08-01  \n",
       "2831 2019-08-01 00:08:58 2019-08-01  \n",
       "2832 2019-08-01 00:08:59 2019-08-01  "
      ]
     },
     "execution_count": 20,
     "metadata": {},
     "output_type": "execute_result"
    }
   ],
   "source": [
    "df.head(5)"
   ]
  },
  {
   "cell_type": "code",
   "execution_count": 21,
   "metadata": {},
   "outputs": [
    {
     "data": {
      "text/html": [
       "<div>\n",
       "<style scoped>\n",
       "    .dataframe tbody tr th:only-of-type {\n",
       "        vertical-align: middle;\n",
       "    }\n",
       "\n",
       "    .dataframe tbody tr th {\n",
       "        vertical-align: top;\n",
       "    }\n",
       "\n",
       "    .dataframe thead th {\n",
       "        text-align: right;\n",
       "    }\n",
       "</style>\n",
       "<table border=\"1\" class=\"dataframe\">\n",
       "  <thead>\n",
       "    <tr style=\"text-align: right;\">\n",
       "      <th></th>\n",
       "      <th>count</th>\n",
       "      <th>nunique</th>\n",
       "    </tr>\n",
       "    <tr>\n",
       "      <th>exp_id</th>\n",
       "      <th></th>\n",
       "      <th></th>\n",
       "    </tr>\n",
       "  </thead>\n",
       "  <tbody>\n",
       "    <tr>\n",
       "      <th>246</th>\n",
       "      <td>79302</td>\n",
       "      <td>2484</td>\n",
       "    </tr>\n",
       "    <tr>\n",
       "      <th>247</th>\n",
       "      <td>77022</td>\n",
       "      <td>2513</td>\n",
       "    </tr>\n",
       "    <tr>\n",
       "      <th>248</th>\n",
       "      <td>84563</td>\n",
       "      <td>2537</td>\n",
       "    </tr>\n",
       "  </tbody>\n",
       "</table>\n",
       "</div>"
      ],
      "text/plain": [
       "        count  nunique\n",
       "exp_id                \n",
       "246     79302     2484\n",
       "247     77022     2513\n",
       "248     84563     2537"
      ]
     },
     "execution_count": 21,
     "metadata": {},
     "output_type": "execute_result"
    }
   ],
   "source": [
    "df.pivot_table(index='exp_id', values='device_id_hash', aggfunc=('count', 'nunique'))"
   ]
  },
  {
   "cell_type": "markdown",
   "metadata": {},
   "source": [
    "Пользователи есть в каждой из 3-х групп, в двух контрольных и одной экспериментальной."
   ]
  },
  {
   "cell_type": "markdown",
   "metadata": {},
   "source": [
    "## Изучение воронки событий"
   ]
  },
  {
   "cell_type": "markdown",
   "metadata": {},
   "source": [
    "Посмотрим, какие события есть в логах, как часто они встречаются: "
   ]
  },
  {
   "cell_type": "code",
   "execution_count": 22,
   "metadata": {},
   "outputs": [
    {
     "data": {
      "text/html": [
       "<div>\n",
       "<style scoped>\n",
       "    .dataframe tbody tr th:only-of-type {\n",
       "        vertical-align: middle;\n",
       "    }\n",
       "\n",
       "    .dataframe tbody tr th {\n",
       "        vertical-align: top;\n",
       "    }\n",
       "\n",
       "    .dataframe thead th {\n",
       "        text-align: right;\n",
       "    }\n",
       "</style>\n",
       "<table border=\"1\" class=\"dataframe\">\n",
       "  <thead>\n",
       "    <tr style=\"text-align: right;\">\n",
       "      <th></th>\n",
       "      <th>event_name</th>\n",
       "      <th>device_id_hash</th>\n",
       "    </tr>\n",
       "  </thead>\n",
       "  <tbody>\n",
       "    <tr>\n",
       "      <th>0</th>\n",
       "      <td>MainScreenAppear</td>\n",
       "      <td>117328</td>\n",
       "    </tr>\n",
       "    <tr>\n",
       "      <th>1</th>\n",
       "      <td>OffersScreenAppear</td>\n",
       "      <td>46333</td>\n",
       "    </tr>\n",
       "    <tr>\n",
       "      <th>2</th>\n",
       "      <td>CartScreenAppear</td>\n",
       "      <td>42303</td>\n",
       "    </tr>\n",
       "    <tr>\n",
       "      <th>3</th>\n",
       "      <td>PaymentScreenSuccessful</td>\n",
       "      <td>33918</td>\n",
       "    </tr>\n",
       "    <tr>\n",
       "      <th>4</th>\n",
       "      <td>Tutorial</td>\n",
       "      <td>1005</td>\n",
       "    </tr>\n",
       "  </tbody>\n",
       "</table>\n",
       "</div>"
      ],
      "text/plain": [
       "                event_name  device_id_hash\n",
       "0         MainScreenAppear          117328\n",
       "1       OffersScreenAppear           46333\n",
       "2         CartScreenAppear           42303\n",
       "3  PaymentScreenSuccessful           33918\n",
       "4                 Tutorial            1005"
      ]
     },
     "metadata": {},
     "output_type": "display_data"
    }
   ],
   "source": [
    "events = df.pivot_table(index='event_name', values='device_id_hash', aggfunc='count')\\\n",
    "         .sort_values(by='device_id_hash', ascending=False)\\\n",
    "         .reset_index()\n",
    "display(events)"
   ]
  },
  {
   "cell_type": "markdown",
   "metadata": {},
   "source": [
    "Теперь посчитаем сколько пользователей совершали события и какова доля пользователей, которые хоть раз совершали то или иное событие:"
   ]
  },
  {
   "cell_type": "code",
   "execution_count": 23,
   "metadata": {},
   "outputs": [
    {
     "data": {
      "text/html": [
       "<div>\n",
       "<style scoped>\n",
       "    .dataframe tbody tr th:only-of-type {\n",
       "        vertical-align: middle;\n",
       "    }\n",
       "\n",
       "    .dataframe tbody tr th {\n",
       "        vertical-align: top;\n",
       "    }\n",
       "\n",
       "    .dataframe thead th {\n",
       "        text-align: right;\n",
       "    }\n",
       "</style>\n",
       "<table border=\"1\" class=\"dataframe\">\n",
       "  <thead>\n",
       "    <tr style=\"text-align: right;\">\n",
       "      <th></th>\n",
       "      <th>event_name</th>\n",
       "      <th>device_id_hash</th>\n",
       "      <th>event_timestamp</th>\n",
       "      <th>exp_id</th>\n",
       "      <th>date_time</th>\n",
       "      <th>date</th>\n",
       "    </tr>\n",
       "  </thead>\n",
       "  <tbody>\n",
       "    <tr>\n",
       "      <th>2828</th>\n",
       "      <td>Tutorial</td>\n",
       "      <td>3737462046622621720</td>\n",
       "      <td>1564618048</td>\n",
       "      <td>246</td>\n",
       "      <td>2019-08-01 00:07:28</td>\n",
       "      <td>2019-08-01</td>\n",
       "    </tr>\n",
       "    <tr>\n",
       "      <th>2829</th>\n",
       "      <td>MainScreenAppear</td>\n",
       "      <td>3737462046622621720</td>\n",
       "      <td>1564618080</td>\n",
       "      <td>246</td>\n",
       "      <td>2019-08-01 00:08:00</td>\n",
       "      <td>2019-08-01</td>\n",
       "    </tr>\n",
       "    <tr>\n",
       "      <th>2830</th>\n",
       "      <td>MainScreenAppear</td>\n",
       "      <td>3737462046622621720</td>\n",
       "      <td>1564618135</td>\n",
       "      <td>246</td>\n",
       "      <td>2019-08-01 00:08:55</td>\n",
       "      <td>2019-08-01</td>\n",
       "    </tr>\n",
       "    <tr>\n",
       "      <th>2831</th>\n",
       "      <td>OffersScreenAppear</td>\n",
       "      <td>3737462046622621720</td>\n",
       "      <td>1564618138</td>\n",
       "      <td>246</td>\n",
       "      <td>2019-08-01 00:08:58</td>\n",
       "      <td>2019-08-01</td>\n",
       "    </tr>\n",
       "    <tr>\n",
       "      <th>2832</th>\n",
       "      <td>MainScreenAppear</td>\n",
       "      <td>1433840883824088890</td>\n",
       "      <td>1564618139</td>\n",
       "      <td>247</td>\n",
       "      <td>2019-08-01 00:08:59</td>\n",
       "      <td>2019-08-01</td>\n",
       "    </tr>\n",
       "  </tbody>\n",
       "</table>\n",
       "</div>"
      ],
      "text/plain": [
       "              event_name       device_id_hash  event_timestamp  exp_id  \\\n",
       "2828            Tutorial  3737462046622621720       1564618048     246   \n",
       "2829    MainScreenAppear  3737462046622621720       1564618080     246   \n",
       "2830    MainScreenAppear  3737462046622621720       1564618135     246   \n",
       "2831  OffersScreenAppear  3737462046622621720       1564618138     246   \n",
       "2832    MainScreenAppear  1433840883824088890       1564618139     247   \n",
       "\n",
       "               date_time       date  \n",
       "2828 2019-08-01 00:07:28 2019-08-01  \n",
       "2829 2019-08-01 00:08:00 2019-08-01  \n",
       "2830 2019-08-01 00:08:55 2019-08-01  \n",
       "2831 2019-08-01 00:08:58 2019-08-01  \n",
       "2832 2019-08-01 00:08:59 2019-08-01  "
      ]
     },
     "execution_count": 23,
     "metadata": {},
     "output_type": "execute_result"
    }
   ],
   "source": [
    "df.head()"
   ]
  },
  {
   "cell_type": "code",
   "execution_count": 24,
   "metadata": {},
   "outputs": [
    {
     "data": {
      "text/html": [
       "<div>\n",
       "<style scoped>\n",
       "    .dataframe tbody tr th:only-of-type {\n",
       "        vertical-align: middle;\n",
       "    }\n",
       "\n",
       "    .dataframe tbody tr th {\n",
       "        vertical-align: top;\n",
       "    }\n",
       "\n",
       "    .dataframe thead th {\n",
       "        text-align: right;\n",
       "    }\n",
       "</style>\n",
       "<table border=\"1\" class=\"dataframe\">\n",
       "  <thead>\n",
       "    <tr style=\"text-align: right;\">\n",
       "      <th></th>\n",
       "      <th>event_name</th>\n",
       "      <th>count</th>\n",
       "      <th>nunique</th>\n",
       "      <th>percentage</th>\n",
       "    </tr>\n",
       "  </thead>\n",
       "  <tbody>\n",
       "    <tr>\n",
       "      <th>0</th>\n",
       "      <td>MainScreenAppear</td>\n",
       "      <td>117328</td>\n",
       "      <td>7419</td>\n",
       "      <td>98.47</td>\n",
       "    </tr>\n",
       "    <tr>\n",
       "      <th>1</th>\n",
       "      <td>OffersScreenAppear</td>\n",
       "      <td>46333</td>\n",
       "      <td>4593</td>\n",
       "      <td>60.96</td>\n",
       "    </tr>\n",
       "    <tr>\n",
       "      <th>2</th>\n",
       "      <td>CartScreenAppear</td>\n",
       "      <td>42303</td>\n",
       "      <td>3734</td>\n",
       "      <td>49.56</td>\n",
       "    </tr>\n",
       "    <tr>\n",
       "      <th>3</th>\n",
       "      <td>PaymentScreenSuccessful</td>\n",
       "      <td>33918</td>\n",
       "      <td>3539</td>\n",
       "      <td>46.97</td>\n",
       "    </tr>\n",
       "    <tr>\n",
       "      <th>4</th>\n",
       "      <td>Tutorial</td>\n",
       "      <td>1005</td>\n",
       "      <td>840</td>\n",
       "      <td>11.15</td>\n",
       "    </tr>\n",
       "  </tbody>\n",
       "</table>\n",
       "</div>"
      ],
      "text/plain": [
       "                event_name   count  nunique  percentage\n",
       "0         MainScreenAppear  117328     7419       98.47\n",
       "1       OffersScreenAppear   46333     4593       60.96\n",
       "2         CartScreenAppear   42303     3734       49.56\n",
       "3  PaymentScreenSuccessful   33918     3539       46.97\n",
       "4                 Tutorial    1005      840       11.15"
      ]
     },
     "metadata": {},
     "output_type": "display_data"
    }
   ],
   "source": [
    "events_users = df.pivot_table(index='event_name', values='device_id_hash', aggfunc=('count', 'nunique'))\\\n",
    "               .sort_values(by='nunique', ascending=False)\\\n",
    "               .reset_index()\n",
    "events_users['percentage'] = round((events_users['nunique']/len(df['device_id_hash'].unique())*100), 2)\n",
    "display(events_users)"
   ]
  },
  {
   "cell_type": "code",
   "execution_count": 25,
   "metadata": {},
   "outputs": [
    {
     "data": {
      "image/svg+xml": [
       "<svg class=\"main-svg\" xmlns=\"http://www.w3.org/2000/svg\" xmlns:xlink=\"http://www.w3.org/1999/xlink\" width=\"800\" height=\"800\" style=\"\" viewBox=\"0 0 800 800\"><rect x=\"0\" y=\"0\" width=\"800\" height=\"800\" style=\"fill: rgb(255, 255, 255); fill-opacity: 1;\"/><defs id=\"defs-7eba6e\"><g class=\"clips\"><clipPath id=\"clip7eba6exyplot\" class=\"plotclip\"><rect width=\"640\" height=\"579\"/></clipPath><clipPath class=\"axesclip\" id=\"clip7eba6ex\"><rect x=\"80\" y=\"0\" width=\"640\" height=\"800\"/></clipPath><clipPath class=\"axesclip\" id=\"clip7eba6ey\"><rect x=\"0\" y=\"60\" width=\"800\" height=\"579\"/></clipPath><clipPath class=\"axesclip\" id=\"clip7eba6exy\"><rect x=\"80\" y=\"60\" width=\"640\" height=\"579\"/></clipPath></g><g class=\"gradients\"/><g class=\"patterns\"/></defs><g class=\"bglayer\"><rect class=\"bg\" x=\"80\" y=\"60\" width=\"640\" height=\"579\" style=\"fill: rgb(229, 236, 246); fill-opacity: 1; stroke-width: 0;\"/></g><g class=\"layer-below\"><g class=\"imagelayer\"/><g class=\"shapelayer\"/></g><g class=\"cartesianlayer\"><g class=\"subplot xy\"><g class=\"layer-subplot\"><g class=\"shapelayer\"/><g class=\"imagelayer\"/></g><g class=\"gridlayer\"><g class=\"x\"/><g class=\"y\"><path class=\"ygrid crisp\" transform=\"translate(0,545.24)\" d=\"M80,0h640\" style=\"stroke: rgb(255, 255, 255); stroke-opacity: 1; stroke-width: 1px;\"/><path class=\"ygrid crisp\" transform=\"translate(0,451.47)\" d=\"M80,0h640\" style=\"stroke: rgb(255, 255, 255); stroke-opacity: 1; stroke-width: 1px;\"/><path class=\"ygrid crisp\" transform=\"translate(0,357.71)\" d=\"M80,0h640\" style=\"stroke: rgb(255, 255, 255); stroke-opacity: 1; stroke-width: 1px;\"/><path class=\"ygrid crisp\" transform=\"translate(0,263.95)\" d=\"M80,0h640\" style=\"stroke: rgb(255, 255, 255); stroke-opacity: 1; stroke-width: 1px;\"/><path class=\"ygrid crisp\" transform=\"translate(0,170.19)\" d=\"M80,0h640\" style=\"stroke: rgb(255, 255, 255); stroke-opacity: 1; stroke-width: 1px;\"/><path class=\"ygrid crisp\" transform=\"translate(0,76.42)\" d=\"M80,0h640\" style=\"stroke: rgb(255, 255, 255); stroke-opacity: 1; stroke-width: 1px;\"/></g></g><g class=\"zerolinelayer\"><path class=\"yzl zl crisp\" transform=\"translate(0,639)\" d=\"M80,0h640\" style=\"stroke: rgb(255, 255, 255); stroke-opacity: 1; stroke-width: 2px;\"/></g><path class=\"xlines-below\"/><path class=\"ylines-below\"/><g class=\"overlines-below\"/><g class=\"xaxislayer-below\"/><g class=\"yaxislayer-below\"/><g class=\"overaxes-below\"/><g class=\"plot\" transform=\"translate(80,60)\" clip-path=\"url(#clip7eba6exyplot)\"><g class=\"barlayer mlayer\"><g class=\"trace bars\" style=\"opacity: 1;\"><g class=\"points\"><g class=\"point\"><path d=\"M12.8,579V28.95H115.2V579Z\" style=\"vector-effect: non-scaling-stroke; opacity: 1; stroke-width: 0.5px; fill: rgb(99, 110, 250); fill-opacity: 1; stroke: rgb(229, 236, 246); stroke-opacity: 1;\"/></g><g class=\"point\"><path d=\"M140.8,579V361.78H243.2V579Z\" style=\"vector-effect: non-scaling-stroke; opacity: 1; stroke-width: 0.5px; fill: rgb(99, 110, 250); fill-opacity: 1; stroke: rgb(229, 236, 246); stroke-opacity: 1;\"/></g><g class=\"point\"><path d=\"M268.8,579V380.68H371.2V579Z\" style=\"vector-effect: non-scaling-stroke; opacity: 1; stroke-width: 0.5px; fill: rgb(99, 110, 250); fill-opacity: 1; stroke: rgb(229, 236, 246); stroke-opacity: 1;\"/></g><g class=\"point\"><path d=\"M396.8,579V419.99H499.2V579Z\" style=\"vector-effect: non-scaling-stroke; opacity: 1; stroke-width: 0.5px; fill: rgb(99, 110, 250); fill-opacity: 1; stroke: rgb(229, 236, 246); stroke-opacity: 1;\"/></g><g class=\"point\"><path d=\"M524.8,579V574.29H627.2V579Z\" style=\"vector-effect: non-scaling-stroke; opacity: 1; stroke-width: 0.5px; fill: rgb(99, 110, 250); fill-opacity: 1; stroke: rgb(229, 236, 246); stroke-opacity: 1;\"/></g></g></g></g></g><g class=\"overplot\"/><path class=\"xlines-above crisp\" d=\"M0,0\" style=\"fill: none;\"/><path class=\"ylines-above crisp\" d=\"M0,0\" style=\"fill: none;\"/><g class=\"overlines-above\"/><g class=\"xaxislayer-above\"><g class=\"xtick\"><text text-anchor=\"start\" x=\"0\" y=\"652\" transform=\"translate(144,0) rotate(45,0,646)\" style=\"font-family: 'Open Sans', verdana, arial, sans-serif; font-size: 12px; fill: rgb(42, 63, 95); fill-opacity: 1; white-space: pre; opacity: 1;\">MainScreenAppear</text></g><g class=\"xtick\"><text text-anchor=\"start\" x=\"0\" y=\"652\" transform=\"translate(272,0) rotate(45,0,646)\" style=\"font-family: 'Open Sans', verdana, arial, sans-serif; font-size: 12px; fill: rgb(42, 63, 95); fill-opacity: 1; white-space: pre; opacity: 1;\">OffersScreenAppear</text></g><g class=\"xtick\"><text text-anchor=\"start\" x=\"0\" y=\"652\" transform=\"translate(400,0) rotate(45,0,646)\" style=\"font-family: 'Open Sans', verdana, arial, sans-serif; font-size: 12px; fill: rgb(42, 63, 95); fill-opacity: 1; white-space: pre; opacity: 1;\">CartScreenAppear</text></g><g class=\"xtick\"><text text-anchor=\"start\" x=\"0\" y=\"652\" transform=\"translate(528,0) rotate(45,0,646)\" style=\"font-family: 'Open Sans', verdana, arial, sans-serif; font-size: 12px; fill: rgb(42, 63, 95); fill-opacity: 1; white-space: pre; opacity: 1;\">PaymentScreenSuccessful</text></g><g class=\"xtick\"><text text-anchor=\"start\" x=\"0\" y=\"652\" transform=\"translate(656,0) rotate(45,0,646)\" style=\"font-family: 'Open Sans', verdana, arial, sans-serif; font-size: 12px; fill: rgb(42, 63, 95); fill-opacity: 1; white-space: pre; opacity: 1;\">Tutorial</text></g></g><g class=\"yaxislayer-above\"><g class=\"ytick\"><text text-anchor=\"end\" x=\"79\" y=\"4.199999999999999\" transform=\"translate(0,639)\" style=\"font-family: 'Open Sans', verdana, arial, sans-serif; font-size: 12px; fill: rgb(42, 63, 95); fill-opacity: 1; white-space: pre; opacity: 1;\">0</text></g><g class=\"ytick\"><text text-anchor=\"end\" x=\"79\" y=\"4.199999999999999\" style=\"font-family: 'Open Sans', verdana, arial, sans-serif; font-size: 12px; fill: rgb(42, 63, 95); fill-opacity: 1; white-space: pre; opacity: 1;\" transform=\"translate(0,545.24)\">20k</text></g><g class=\"ytick\"><text text-anchor=\"end\" x=\"79\" y=\"4.199999999999999\" style=\"font-family: 'Open Sans', verdana, arial, sans-serif; font-size: 12px; fill: rgb(42, 63, 95); fill-opacity: 1; white-space: pre; opacity: 1;\" transform=\"translate(0,451.47)\">40k</text></g><g class=\"ytick\"><text text-anchor=\"end\" x=\"79\" y=\"4.199999999999999\" style=\"font-family: 'Open Sans', verdana, arial, sans-serif; font-size: 12px; fill: rgb(42, 63, 95); fill-opacity: 1; white-space: pre; opacity: 1;\" transform=\"translate(0,357.71)\">60k</text></g><g class=\"ytick\"><text text-anchor=\"end\" x=\"79\" y=\"4.199999999999999\" style=\"font-family: 'Open Sans', verdana, arial, sans-serif; font-size: 12px; fill: rgb(42, 63, 95); fill-opacity: 1; white-space: pre; opacity: 1;\" transform=\"translate(0,263.95)\">80k</text></g><g class=\"ytick\"><text text-anchor=\"end\" x=\"79\" y=\"4.199999999999999\" style=\"font-family: 'Open Sans', verdana, arial, sans-serif; font-size: 12px; fill: rgb(42, 63, 95); fill-opacity: 1; white-space: pre; opacity: 1;\" transform=\"translate(0,170.19)\">100k</text></g><g class=\"ytick\"><text text-anchor=\"end\" x=\"79\" y=\"4.199999999999999\" style=\"font-family: 'Open Sans', verdana, arial, sans-serif; font-size: 12px; fill: rgb(42, 63, 95); fill-opacity: 1; white-space: pre; opacity: 1;\" transform=\"translate(0,76.42)\">120k</text></g></g><g class=\"overaxes-above\"/></g></g><g class=\"polarlayer\"/><g class=\"smithlayer\"/><g class=\"ternarylayer\"/><g class=\"geolayer\"/><g class=\"funnelarealayer\"/><g class=\"pielayer\"/><g class=\"iciclelayer\"/><g class=\"treemaplayer\"/><g class=\"sunburstlayer\"/><g class=\"glimages\"/><defs id=\"topdefs-7eba6e\"><g class=\"clips\"/></defs><g class=\"layer-above\"><g class=\"imagelayer\"/><g class=\"shapelayer\"/></g><g class=\"infolayer\"><g class=\"g-gtitle\"><text class=\"gtitle\" x=\"400\" y=\"30\" text-anchor=\"middle\" dy=\"0em\" style=\"font-family: 'Open Sans', verdana, arial, sans-serif; font-size: 17px; fill: rgb(42, 63, 95); opacity: 1; font-weight: normal; white-space: pre;\">Количество событий в логах</text></g><g class=\"g-xtitle\"><text class=\"xtitle\" x=\"400\" y=\"787.9806640625\" text-anchor=\"middle\" style=\"font-family: 'Open Sans', verdana, arial, sans-serif; font-size: 14px; fill: rgb(42, 63, 95); opacity: 1; font-weight: normal; white-space: pre;\">Событие</text></g><g class=\"g-ytitle\"><text class=\"ytitle\" transform=\"rotate(-90,24.200000000000003,349.5)\" x=\"24.200000000000003\" y=\"349.5\" text-anchor=\"middle\" style=\"font-family: 'Open Sans', verdana, arial, sans-serif; font-size: 14px; fill: rgb(42, 63, 95); opacity: 1; font-weight: normal; white-space: pre;\">Количество</text></g></g></svg>"
      ]
     },
     "metadata": {},
     "output_type": "display_data"
    }
   ],
   "source": [
    "fig = px.bar(\n",
    "    events, x='event_name', y='device_id_hash', \n",
    "    labels=dict({'event_name': 'Событие', 'device_id_hash':'Количество'}),\n",
    "    width=800, height=800\n",
    ")\n",
    "fig.update_xaxes(tickangle=45)\n",
    "fig.update_layout(title_text='Количество событий в логах', title_x=0.5, \n",
    "                 )\n",
    "fig.show() "
   ]
  },
  {
   "cell_type": "markdown",
   "metadata": {},
   "source": [
    "По получившимся данным можно сказать следующее: \n",
    "Мы определили порядок в воронке событий в наших данных, а именно:\n",
    "- **MainScreenAppear** - показ главного экрана\n",
    "- **OffersScreenAppear** - показ страницы с предложением\n",
    "- **CartScreenAppear** - показ страницы корзины\n",
    "- **PaymentScreenSuccessful** - показ страницы с подтвержденной оплатой\n",
    "- **Tutorial** - страница с инструкцией\n",
    "\n",
    "На страницу с показом инструкции попадает наименьшее количество пользователей, вероятнее всего из-за того, что многие пользователи попросту ее пропускают, поэтому можно исключить эти данные из дальнейшего анализа, поскольку они никак не влияют в схеме наших логов на переход к странице оплаты."
   ]
  },
  {
   "cell_type": "markdown",
   "metadata": {},
   "source": [
    "Визуализируем воронку событий в правильном порядке и посчитаем, какая доля пользователей проходит на следующий шаг воронки (от числа пользователей на предыдущем)."
   ]
  },
  {
   "cell_type": "code",
   "execution_count": 26,
   "metadata": {},
   "outputs": [
    {
     "data": {
      "image/svg+xml": [
       "<svg class=\"main-svg\" xmlns=\"http://www.w3.org/2000/svg\" xmlns:xlink=\"http://www.w3.org/1999/xlink\" width=\"700\" height=\"500\" style=\"\" viewBox=\"0 0 700 500\"><rect x=\"0\" y=\"0\" width=\"700\" height=\"500\" style=\"fill: rgb(255, 255, 255); fill-opacity: 1;\"/><defs id=\"defs-13e6d5\"><g class=\"clips\"><clipPath id=\"clip13e6d5xyplot\" class=\"plotclip\"><rect width=\"450\" height=\"320\"/></clipPath><clipPath class=\"axesclip\" id=\"clip13e6d5x\"><rect x=\"170\" y=\"0\" width=\"450\" height=\"500\"/></clipPath><clipPath class=\"axesclip\" id=\"clip13e6d5y\"><rect x=\"0\" y=\"100\" width=\"700\" height=\"320\"/></clipPath><clipPath class=\"axesclip\" id=\"clip13e6d5xy\"><rect x=\"170\" y=\"100\" width=\"450\" height=\"320\"/></clipPath></g><g class=\"gradients\"/><g class=\"patterns\"/></defs><g class=\"bglayer\"><rect class=\"bg\" x=\"170\" y=\"100\" width=\"450\" height=\"320\" style=\"fill: rgb(229, 236, 246); fill-opacity: 1; stroke-width: 0;\"/></g><g class=\"layer-below\"><g class=\"imagelayer\"/><g class=\"shapelayer\"/></g><g class=\"cartesianlayer\"><g class=\"subplot xy\"><g class=\"layer-subplot\"><g class=\"shapelayer\"/><g class=\"imagelayer\"/></g><g class=\"gridlayer\"><g class=\"x\"/><g class=\"y\"/></g><g class=\"zerolinelayer\"/><path class=\"xlines-below\"/><path class=\"ylines-below\"/><g class=\"overlines-below\"/><g class=\"xaxislayer-below\"/><g class=\"yaxislayer-below\"/><g class=\"overaxes-below\"/><g class=\"plot\" transform=\"translate(170,100)\" clip-path=\"url(#clip13e6d5xyplot)\"><g class=\"funnellayer mlayer\"><g class=\"trace bars\" style=\"opacity: 1;\"><g class=\"regions\"><g class=\"region\"><path d=\"M22.5,72L99.64,88H350.36L427.5,72Z\" style=\"stroke-width: 0; fill: rgb(99, 110, 250); fill-opacity: 0.5;\"/></g><g class=\"region\"><path d=\"M99.64,152L123.08,168H326.92L350.36,152Z\" style=\"stroke-width: 0; fill: rgb(99, 110, 250); fill-opacity: 0.5;\"/></g><g class=\"region\"><path d=\"M123.08,232L128.4,248H321.6L326.92,232Z\" style=\"stroke-width: 0; fill: rgb(99, 110, 250); fill-opacity: 0.5;\"/></g><g class=\"region\"><path d=\"M0,0Z\" style=\"stroke-width: 0; fill: rgb(99, 110, 250); fill-opacity: 0.5;\"/></g></g><g class=\"points\"><g class=\"point\"><path d=\"M22.5,8V72H427.5V8Z\" style=\"vector-effect: non-scaling-stroke; fill: rgb(99, 110, 250); fill-opacity: 1; stroke: rgb(68, 68, 68); stroke-opacity: 1; stroke-width: 0px; opacity: 1;\"/><text class=\"bartext bartext-inside\" text-anchor=\"middle\" data-notex=\"1\" x=\"0\" y=\"0\" style=\"font-family: 'Open Sans', verdana, arial, sans-serif; font-size: 12px; fill: rgb(255, 255, 255); fill-opacity: 1; white-space: pre;\" transform=\"translate(225,29.1484375)\"><tspan class=\"line\" dy=\"0em\" x=\"0\" y=\"0\">7419</tspan><tspan class=\"line\" dy=\"1.3em\" x=\"0\" y=\"0\">100% of initial</tspan><tspan class=\"line\" dy=\"2.6em\" x=\"0\" y=\"0\">100% of previous</tspan></text></g><g class=\"point\"><path d=\"M99.64,88V152H350.36V88Z\" style=\"vector-effect: non-scaling-stroke; fill: rgb(99, 110, 250); fill-opacity: 1; stroke: rgb(68, 68, 68); stroke-opacity: 1; stroke-width: 0px; opacity: 1;\"/><text class=\"bartext bartext-inside\" text-anchor=\"middle\" data-notex=\"1\" x=\"0\" y=\"0\" style=\"font-family: 'Open Sans', verdana, arial, sans-serif; font-size: 12px; fill: rgb(255, 255, 255); fill-opacity: 1; white-space: pre;\" transform=\"translate(225,109.1484375)\"><tspan class=\"line\" dy=\"0em\" x=\"0\" y=\"0\">4593</tspan><tspan class=\"line\" dy=\"1.3em\" x=\"0\" y=\"0\">62% of initial</tspan><tspan class=\"line\" dy=\"2.6em\" x=\"0\" y=\"0\">62% of previous</tspan></text></g><g class=\"point\"><path d=\"M123.08,168V232H326.92V168Z\" style=\"vector-effect: non-scaling-stroke; fill: rgb(99, 110, 250); fill-opacity: 1; stroke: rgb(68, 68, 68); stroke-opacity: 1; stroke-width: 0px; opacity: 1;\"/><text class=\"bartext bartext-inside\" text-anchor=\"middle\" data-notex=\"1\" x=\"0\" y=\"0\" style=\"font-family: 'Open Sans', verdana, arial, sans-serif; font-size: 12px; fill: rgb(255, 255, 255); fill-opacity: 1; white-space: pre;\" transform=\"translate(225,189.1484375)\"><tspan class=\"line\" dy=\"0em\" x=\"0\" y=\"0\">3734</tspan><tspan class=\"line\" dy=\"1.3em\" x=\"0\" y=\"0\">50% of initial</tspan><tspan class=\"line\" dy=\"2.6em\" x=\"0\" y=\"0\">81% of previous</tspan></text></g><g class=\"point\"><path d=\"M128.4,248V312H321.6V248Z\" style=\"vector-effect: non-scaling-stroke; fill: rgb(99, 110, 250); fill-opacity: 1; stroke: rgb(68, 68, 68); stroke-opacity: 1; stroke-width: 0px; opacity: 1;\"/><text class=\"bartext bartext-inside\" text-anchor=\"middle\" data-notex=\"1\" x=\"0\" y=\"0\" style=\"font-family: 'Open Sans', verdana, arial, sans-serif; font-size: 12px; fill: rgb(255, 255, 255); fill-opacity: 1; white-space: pre;\" transform=\"translate(225,269.1484375)\"><tspan class=\"line\" dy=\"0em\" x=\"0\" y=\"0\">3539</tspan><tspan class=\"line\" dy=\"1.3em\" x=\"0\" y=\"0\">48% of initial</tspan><tspan class=\"line\" dy=\"2.6em\" x=\"0\" y=\"0\">95% of previous</tspan></text></g></g></g></g></g><g class=\"overplot\"/><path class=\"xlines-above crisp\" d=\"M0,0\" style=\"fill: none;\"/><path class=\"ylines-above crisp\" d=\"M0,0\" style=\"fill: none;\"/><g class=\"overlines-above\"/><g class=\"xaxislayer-above\"/><g class=\"yaxislayer-above\"><g class=\"ytick\"><text text-anchor=\"end\" x=\"169\" y=\"4.199999999999999\" transform=\"translate(0,380)\" style=\"font-family: 'Open Sans', verdana, arial, sans-serif; font-size: 12px; fill: rgb(42, 63, 95); fill-opacity: 1; white-space: pre; opacity: 1;\">PaymentScreenSuccessful</text></g><g class=\"ytick\"><text text-anchor=\"end\" x=\"169\" y=\"4.199999999999999\" transform=\"translate(0,300)\" style=\"font-family: 'Open Sans', verdana, arial, sans-serif; font-size: 12px; fill: rgb(42, 63, 95); fill-opacity: 1; white-space: pre; opacity: 1;\">CartScreenAppear</text></g><g class=\"ytick\"><text text-anchor=\"end\" x=\"169\" y=\"4.199999999999999\" transform=\"translate(0,220)\" style=\"font-family: 'Open Sans', verdana, arial, sans-serif; font-size: 12px; fill: rgb(42, 63, 95); fill-opacity: 1; white-space: pre; opacity: 1;\">OffersScreenAppear</text></g><g class=\"ytick\"><text text-anchor=\"end\" x=\"169\" y=\"4.199999999999999\" transform=\"translate(0,140)\" style=\"font-family: 'Open Sans', verdana, arial, sans-serif; font-size: 12px; fill: rgb(42, 63, 95); fill-opacity: 1; white-space: pre; opacity: 1;\">MainScreenAppear</text></g></g><g class=\"overaxes-above\"/></g></g><g class=\"polarlayer\"/><g class=\"smithlayer\"/><g class=\"ternarylayer\"/><g class=\"geolayer\"/><g class=\"funnelarealayer\"/><g class=\"pielayer\"/><g class=\"iciclelayer\"/><g class=\"treemaplayer\"/><g class=\"sunburstlayer\"/><g class=\"glimages\"/><defs id=\"topdefs-13e6d5\"><g class=\"clips\"/></defs><g class=\"layer-above\"><g class=\"imagelayer\"/><g class=\"shapelayer\"/></g><g class=\"infolayer\"><g class=\"g-gtitle\"><text class=\"gtitle\" x=\"350\" y=\"50\" text-anchor=\"middle\" dy=\"0em\" style=\"font-family: 'Open Sans', verdana, arial, sans-serif; font-size: 17px; fill: rgb(42, 63, 95); opacity: 1; font-weight: normal; white-space: pre;\">Воронка событий</text></g><g class=\"g-ytitle\"/></g></svg>"
      ]
     },
     "metadata": {},
     "output_type": "display_data"
    }
   ],
   "source": [
    "events_users = events_users.query('event_name != \"Tutorial\"')\n",
    "fig = go.Figure(go.Funnel(x= events_users['nunique'], y=events_users['event_name'],\n",
    "               textposition = \"inside\",\n",
    "               textinfo = \"value+percent previous+percent initial\",)\n",
    "               )\n",
    "fig.update_layout(title_text='Воронка событий', title_x=0.5, \n",
    "                 )\n",
    "fig.show()"
   ]
  },
  {
   "cell_type": "markdown",
   "metadata": {},
   "source": [
    "По получившемуся графику мы видим, что от первого события(попадания на главный экран) до окна с оплатой доходят 48% пользователей, а больше всего пользователей теряется на шаге перехода с главного экрана на страницу с предложением - более 30%.  \n",
    "После того, как пользователь попал на страницу с предложением, до оплаты доходит большая часть из них - 95%."
   ]
  },
  {
   "cell_type": "markdown",
   "metadata": {},
   "source": [
    "## Исследование результатов эксперимента"
   ]
  },
  {
   "cell_type": "markdown",
   "metadata": {},
   "source": [
    "Проведем исследование результатов А/А/В теста, для начала еще раз посмотрим, сколько пользователей в каждой группе теста:"
   ]
  },
  {
   "cell_type": "code",
   "execution_count": 27,
   "metadata": {},
   "outputs": [
    {
     "data": {
      "text/html": [
       "<div>\n",
       "<style scoped>\n",
       "    .dataframe tbody tr th:only-of-type {\n",
       "        vertical-align: middle;\n",
       "    }\n",
       "\n",
       "    .dataframe tbody tr th {\n",
       "        vertical-align: top;\n",
       "    }\n",
       "\n",
       "    .dataframe thead th {\n",
       "        text-align: right;\n",
       "    }\n",
       "</style>\n",
       "<table border=\"1\" class=\"dataframe\">\n",
       "  <thead>\n",
       "    <tr style=\"text-align: right;\">\n",
       "      <th></th>\n",
       "      <th>device_id_hash</th>\n",
       "    </tr>\n",
       "    <tr>\n",
       "      <th>exp_id</th>\n",
       "      <th></th>\n",
       "    </tr>\n",
       "  </thead>\n",
       "  <tbody>\n",
       "    <tr>\n",
       "      <th>246</th>\n",
       "      <td>2484</td>\n",
       "    </tr>\n",
       "    <tr>\n",
       "      <th>247</th>\n",
       "      <td>2513</td>\n",
       "    </tr>\n",
       "    <tr>\n",
       "      <th>248</th>\n",
       "      <td>2537</td>\n",
       "    </tr>\n",
       "  </tbody>\n",
       "</table>\n",
       "</div>"
      ],
      "text/plain": [
       "        device_id_hash\n",
       "exp_id                \n",
       "246               2484\n",
       "247               2513\n",
       "248               2537"
      ]
     },
     "execution_count": 27,
     "metadata": {},
     "output_type": "execute_result"
    }
   ],
   "source": [
    "users_total = df.pivot_table(index='exp_id', values='device_id_hash', aggfunc='nunique')\n",
    "users_total"
   ]
  },
  {
   "cell_type": "markdown",
   "metadata": {},
   "source": [
    "Проверим, не попал ли кто-то из пользователей в две разные группы?"
   ]
  },
  {
   "cell_type": "code",
   "execution_count": 28,
   "metadata": {},
   "outputs": [],
   "source": [
    "#Функция для сверки одинаковых пользователей в группах:\n",
    "def dif_users(one, two):\n",
    "\n",
    "    orders_a = df.query('exp_id == \"one\"')\n",
    "    orders_b = df.query('exp_id == \"two\"')\n",
    "    c = []\n",
    "    for i in orders_a['device_id_hash'].unique():\n",
    "        for j in orders_b['device_id_hash'].unique():\n",
    "            if i == j:\n",
    "                c.append(i)\n",
    "                break\n",
    " \n",
    "    print(f'Количество одинаковых пользователей в группах {one} и {two} = {len(c)}')"
   ]
  },
  {
   "cell_type": "code",
   "execution_count": 29,
   "metadata": {},
   "outputs": [
    {
     "name": "stdout",
     "output_type": "stream",
     "text": [
      "Количество одинаковых пользователей в группах 246 и 247 = 0\n",
      "Количество одинаковых пользователей в группах 246 и 248 = 0\n",
      "Количество одинаковых пользователей в группах 247 и 248 = 0\n"
     ]
    }
   ],
   "source": [
    "dif_users(246, 247)\n",
    "dif_users(246, 248)\n",
    "dif_users(247, 248)"
   ]
  },
  {
   "cell_type": "markdown",
   "metadata": {},
   "source": [
    "Создадим функцию, которая будет принимать событие и считать число пользователей, совершивших это событие в каждой из контрольных групп. Потом она посчитает долю пользователей совершивших это событие. И проведет четыре проверки на то - является отличие между группами статистически достоверным - между группами А и В, А и С, В и С, и суммой контрольных А+В и С.  \n",
    "Проверку будем проводить z-тестом Фишера на равенство долей.   \n",
    "\n",
    "Зададим следующие Н0 и Н1 гипотезы:\n",
    "\n",
    "* H0 - доли пользователей совершивших событие в сравниваемых группах одинаковы\n",
    "\n",
    "* H1 - доли пользователей совершивших событие в сравниваемых группах отличаются \n",
    "\n",
    "* Критический уровень статистической значимости альфа - зададим равным 0.05 поделенным на 12, применяя поправку на множественную проверку гипотез Поправка Бонферрони"
   ]
  },
  {
   "cell_type": "code",
   "execution_count": 30,
   "metadata": {},
   "outputs": [],
   "source": [
    "sample_A = df.query('exp_id == 246')\n",
    "sample_B = df.query('exp_id == 247')\n",
    "sample_C = df.query('exp_id == 248')"
   ]
  },
  {
   "cell_type": "code",
   "execution_count": 31,
   "metadata": {},
   "outputs": [],
   "source": [
    "def func(name):\n",
    "    global sample_A, sample_B, sample_C, users_total\n",
    "    sample_AA = sample_A[sample_A['event_name'] == name]\n",
    "    sample_BB = sample_B[sample_B['event_name'] == name]\n",
    "    sample_CC = sample_C[sample_C['event_name'] == name]\n",
    "    a = len((sample_AA[\"device_id_hash\"].unique()))\n",
    "    b = len((sample_BB[\"device_id_hash\"].unique()))\n",
    "    c = len((sample_CC[\"device_id_hash\"].unique()))\n",
    "    a_total = users_total['device_id_hash'].iloc[0]\n",
    "    b_total = users_total['device_id_hash'].iloc[1]\n",
    "    c_total = users_total['device_id_hash'].iloc[2]\n",
    "    print(f'Количество пользователей в группе А, которые совершили событие {name} = {a}')\n",
    "    print(f'Количество пользователей в группе B, которые совершили событие {name} = {b}')\n",
    "    print(f'Количество пользователей в группе C, которые совершили событие {name} = {c}')\n",
    "    print()\n",
    "    print('-------------------------------------------------')\n",
    "    print(f'Проведение z-тестов по событию {name}')\n",
    "    \n",
    "    alpha = 0.05/12  # критический уровень статистической значимости\n",
    "    \n",
    "    # пропорция в первой группе:\n",
    "    p1 = a / a_total\n",
    "\n",
    "    # пропорция во второй группе:\n",
    "    p2 = b / b_total\n",
    "    \n",
    "    # пропорция в третьей группе:\n",
    "    p3 = c / c_total\n",
    "    \n",
    "    print()\n",
    "    print('-------------------------------------------------')\n",
    "    print('Тест 1. Между группами А и В')    \n",
    "    print('-------------------------------------------------')\n",
    "    \n",
    "    # пропорция успехов в комбинированном датасете:\n",
    "    p_combined = (a + b) / (a_total + b_total)\n",
    "    \n",
    "    # разница пропорций в датасетах\n",
    "    difference = p1 - p2 \n",
    "\n",
    "    # считаем статистику в ст.отклонениях стандартного нормального распределения\n",
    "    z_value = difference / mth.sqrt(p_combined * (1 - p_combined) * (1/a_total + 1/b_total))\n",
    "\n",
    "    # задаем стандартное нормальное распределение (среднее 0, ст.отклонение 1)\n",
    "    distr = st.norm(0, 1)\n",
    "\n",
    "    p_value = (1 - distr.cdf(abs(z_value))) * 2 \n",
    "\n",
    "    print('p-значение: ', p_value)\n",
    "\n",
    "    if p_value < alpha:\n",
    "        print('Отвергаем нулевую гипотезу: между долями есть значимая разница')\n",
    "    else:\n",
    "        print(\n",
    "            'Не получилось отвергнуть нулевую гипотезу, нет оснований считать доли разными'\n",
    "        )\n",
    "    print()    \n",
    "    print('-------------------------------------------------')\n",
    "    print('Тест 2. Между группами А и C')    \n",
    "    print('-------------------------------------------------')\n",
    "\n",
    "    # пропорция успехов в комбинированном датасете:\n",
    "    p_combined = (a + c) / (a_total + c_total)\n",
    "    \n",
    "    # разница пропорций в датасетах\n",
    "    difference = p1 - p3 \n",
    "\n",
    "    # считаем статистику в ст.отклонениях стандартного нормального распределения\n",
    "    z_value = difference / mth.sqrt(p_combined * (1 - p_combined) * (1/a_total + 1/c_total))\n",
    "\n",
    "    # задаем стандартное нормальное распределение (среднее 0, ст.отклонение 1)\n",
    "    distr = st.norm(0, 1)\n",
    "\n",
    "    p_value = (1 - distr.cdf(abs(z_value))) * 2\n",
    "\n",
    "    print('p-значение: ', p_value)\n",
    "\n",
    "    if p_value < alpha:\n",
    "        print('Отвергаем нулевую гипотезу: между долями есть значимая разница')\n",
    "    else:\n",
    "        print(\n",
    "            'Не получилось отвергнуть нулевую гипотезу, нет оснований считать доли разными'\n",
    "        )\n",
    "    print()    \n",
    "    print('-------------------------------------------------')\n",
    "    print('Тест 3. Между группами B и C')    \n",
    "    print('-------------------------------------------------')\n",
    "\n",
    "    # пропорция успехов в комбинированном датасете:\n",
    "    p_combined = (b + c) / (b_total + c_total)\n",
    "    \n",
    "    # разница пропорций в датасетах\n",
    "    difference = p2 - p3 \n",
    "\n",
    "    # считаем статистику в ст.отклонениях стандартного нормального распределения\n",
    "    z_value = difference / mth.sqrt(p_combined * (1 - p_combined) * (1/b_total + 1/c_total))\n",
    "\n",
    "    # задаем стандартное нормальное распределение (среднее 0, ст.отклонение 1)\n",
    "    distr = st.norm(0, 1)\n",
    "\n",
    "    p_value = (1 - distr.cdf(abs(z_value))) * 2 \n",
    "\n",
    "    print('p-значение: ', p_value)\n",
    "\n",
    "    if p_value < alpha:\n",
    "        print('Отвергаем нулевую гипотезу: между долями есть значимая разница')\n",
    "    else:\n",
    "        print(\n",
    "            'Не получилось отвергнуть нулевую гипотезу, нет оснований считать доли разными'\n",
    "        )\n",
    "        \n",
    "    print()    \n",
    "    print('-------------------------------------------------')\n",
    "    print('Тест 4. Между группами А+B и C')    \n",
    "    print('-------------------------------------------------')\n",
    "\n",
    "    # пропорция в первой группе:\n",
    "    p1_sum = (a+b) / (a_total + b_total)\n",
    "\n",
    "    # пропорция во второй группе:\n",
    "    p3 = c / c_total\n",
    " \n",
    "    # пропорция успехов в комбинированном датасете:\n",
    "    p_combined = (a + b + c ) / (a_total + b_total + c_total)\n",
    "\n",
    "    # разница пропорций в датасетах\n",
    "    difference = p1_sum - p3 \n",
    "\n",
    "    # считаем статистику в ст.отклонениях стандартного нормального распределения\n",
    "    z_value = difference / mth.sqrt(p_combined * (1 - p_combined) * ((1/(a_total+b_total)) + 1/c_total))\n",
    "\n",
    "    # задаем стандартное нормальное распределение (среднее 0, ст.отклонение 1)\n",
    "    distr = st.norm(0, 1)\n",
    "\n",
    "    p_value = (1 - distr.cdf(z_value)) * 2 \n",
    "\n",
    "    print('p-значение: ', p_value)\n",
    "\n",
    "    if p_value < alpha:\n",
    "        print('Отвергаем нулевую гипотезу: между долями есть значимая разница')\n",
    "    else:\n",
    "        print(\n",
    "            'Не получилось отвергнуть нулевую гипотезу, нет оснований считать доли разными'\n",
    "        )\n"
   ]
  },
  {
   "cell_type": "markdown",
   "metadata": {},
   "source": [
    "И теперь применим получившуюся функцию к каждому из событий:"
   ]
  },
  {
   "cell_type": "code",
   "execution_count": 32,
   "metadata": {},
   "outputs": [
    {
     "name": "stdout",
     "output_type": "stream",
     "text": [
      "Количество пользователей в группе А, которые совершили событие MainScreenAppear = 2450\n",
      "Количество пользователей в группе B, которые совершили событие MainScreenAppear = 2476\n",
      "Количество пользователей в группе C, которые совершили событие MainScreenAppear = 2493\n",
      "\n",
      "-------------------------------------------------\n",
      "Проведение z-тестов по событию MainScreenAppear\n",
      "\n",
      "-------------------------------------------------\n",
      "Тест 1. Между группами А и В\n",
      "-------------------------------------------------\n",
      "p-значение:  0.7570597232046099\n",
      "Не получилось отвергнуть нулевую гипотезу, нет оснований считать доли разными\n",
      "\n",
      "-------------------------------------------------\n",
      "Тест 2. Между группами А и C\n",
      "-------------------------------------------------\n",
      "p-значение:  0.2949721933554552\n",
      "Не получилось отвергнуть нулевую гипотезу, нет оснований считать доли разными\n",
      "\n",
      "-------------------------------------------------\n",
      "Тест 3. Между группами B и C\n",
      "-------------------------------------------------\n",
      "p-значение:  0.4587053616621515\n",
      "Не получилось отвергнуть нулевую гипотезу, нет оснований считать доли разными\n",
      "\n",
      "-------------------------------------------------\n",
      "Тест 4. Между группами А+B и C\n",
      "-------------------------------------------------\n",
      "p-значение:  0.29424526837179577\n",
      "Не получилось отвергнуть нулевую гипотезу, нет оснований считать доли разными\n"
     ]
    }
   ],
   "source": [
    "func('MainScreenAppear')"
   ]
  },
  {
   "cell_type": "code",
   "execution_count": 33,
   "metadata": {
    "scrolled": false
   },
   "outputs": [
    {
     "name": "stdout",
     "output_type": "stream",
     "text": [
      "Количество пользователей в группе А, которые совершили событие OffersScreenAppear = 1542\n",
      "Количество пользователей в группе B, которые совершили событие OffersScreenAppear = 1520\n",
      "Количество пользователей в группе C, которые совершили событие OffersScreenAppear = 1531\n",
      "\n",
      "-------------------------------------------------\n",
      "Проведение z-тестов по событию OffersScreenAppear\n",
      "\n",
      "-------------------------------------------------\n",
      "Тест 1. Между группами А и В\n",
      "-------------------------------------------------\n",
      "p-значение:  0.2480954578522181\n",
      "Не получилось отвергнуть нулевую гипотезу, нет оснований считать доли разными\n",
      "\n",
      "-------------------------------------------------\n",
      "Тест 2. Между группами А и C\n",
      "-------------------------------------------------\n",
      "p-значение:  0.20836205402738917\n",
      "Не получилось отвергнуть нулевую гипотезу, нет оснований считать доли разными\n",
      "\n",
      "-------------------------------------------------\n",
      "Тест 3. Между группами B и C\n",
      "-------------------------------------------------\n",
      "p-значение:  0.9197817830592261\n",
      "Не получилось отвергнуть нулевую гипотезу, нет оснований считать доли разными\n",
      "\n",
      "-------------------------------------------------\n",
      "Тест 4. Между группами А+B и C\n",
      "-------------------------------------------------\n",
      "p-значение:  0.43425549655188256\n",
      "Не получилось отвергнуть нулевую гипотезу, нет оснований считать доли разными\n"
     ]
    }
   ],
   "source": [
    "func('OffersScreenAppear')"
   ]
  },
  {
   "cell_type": "code",
   "execution_count": 34,
   "metadata": {},
   "outputs": [
    {
     "name": "stdout",
     "output_type": "stream",
     "text": [
      "Количество пользователей в группе А, которые совершили событие CartScreenAppear = 1266\n",
      "Количество пользователей в группе B, которые совершили событие CartScreenAppear = 1238\n",
      "Количество пользователей в группе C, которые совершили событие CartScreenAppear = 1230\n",
      "\n",
      "-------------------------------------------------\n",
      "Проведение z-тестов по событию CartScreenAppear\n",
      "\n",
      "-------------------------------------------------\n",
      "Тест 1. Между группами А и В\n",
      "-------------------------------------------------\n",
      "p-значение:  0.22883372237997213\n",
      "Не получилось отвергнуть нулевую гипотезу, нет оснований считать доли разными\n",
      "\n",
      "-------------------------------------------------\n",
      "Тест 2. Между группами А и C\n",
      "-------------------------------------------------\n",
      "p-значение:  0.07842923237520116\n",
      "Не получилось отвергнуть нулевую гипотезу, нет оснований считать доли разными\n",
      "\n",
      "-------------------------------------------------\n",
      "Тест 3. Между группами B и C\n",
      "-------------------------------------------------\n",
      "p-значение:  0.5786197879539783\n",
      "Не получилось отвергнуть нулевую гипотезу, нет оснований считать доли разными\n",
      "\n",
      "-------------------------------------------------\n",
      "Тест 4. Между группами А+B и C\n",
      "-------------------------------------------------\n",
      "p-значение:  0.18175875284404386\n",
      "Не получилось отвергнуть нулевую гипотезу, нет оснований считать доли разными\n"
     ]
    }
   ],
   "source": [
    "func('CartScreenAppear')"
   ]
  },
  {
   "cell_type": "code",
   "execution_count": 35,
   "metadata": {},
   "outputs": [
    {
     "name": "stdout",
     "output_type": "stream",
     "text": [
      "Количество пользователей в группе А, которые совершили событие PaymentScreenSuccessful = 1200\n",
      "Количество пользователей в группе B, которые совершили событие PaymentScreenSuccessful = 1158\n",
      "Количество пользователей в группе C, которые совершили событие PaymentScreenSuccessful = 1181\n",
      "\n",
      "-------------------------------------------------\n",
      "Проведение z-тестов по событию PaymentScreenSuccessful\n",
      "\n",
      "-------------------------------------------------\n",
      "Тест 1. Между группами А и В\n",
      "-------------------------------------------------\n",
      "p-значение:  0.11456679313141849\n",
      "Не получилось отвергнуть нулевую гипотезу, нет оснований считать доли разными\n",
      "\n",
      "-------------------------------------------------\n",
      "Тест 2. Между группами А и C\n",
      "-------------------------------------------------\n",
      "p-значение:  0.2122553275697796\n",
      "Не получилось отвергнуть нулевую гипотезу, нет оснований считать доли разными\n",
      "\n",
      "-------------------------------------------------\n",
      "Тест 3. Между группами B и C\n",
      "-------------------------------------------------\n",
      "p-значение:  0.7373415053803964\n",
      "Не получилось отвергнуть нулевую гипотезу, нет оснований считать доли разными\n",
      "\n",
      "-------------------------------------------------\n",
      "Тест 4. Между группами А+B и C\n",
      "-------------------------------------------------\n",
      "p-значение:  0.6004294282308704\n",
      "Не получилось отвергнуть нулевую гипотезу, нет оснований считать доли разными\n"
     ]
    }
   ],
   "source": [
    "func('PaymentScreenSuccessful')"
   ]
  },
  {
   "cell_type": "markdown",
   "metadata": {},
   "source": [
    "## Вывод"
   ]
  },
  {
   "cell_type": "markdown",
   "metadata": {},
   "source": [
    "Мы провели большое исследование для стартапа, который продает продукты питания.  \n",
    "В результате проделанной работы, мы привели полученные данные в порядок и избавились от дубликатов, изучили вороки событий в логах, и обнаружили, что от первого события(попадания на главный экран) до окна с оплатой доходят 48% пользователей, а больше всего пользователей теряется на шаге перехода с главного экрана на страницу с предложением - более 30%.  \n",
    "После того, как пользователь попал на страницу с предложением, до оплаты доходит большая часть из них - 95%.\n",
    "Страницу с инструкцией большинство пользователей попросту пропускают.  \n",
    "Изучив данные о проведенном А/А/В-тестировании можно сделать следующий вывод:  \n",
    "ни один z-test не показал значимые отличия в долях пользователей по всем группам, а это значит, что каких-либо изменений пользовательской активности от внедрения нового шрифта - нет.  \n",
    "Принципиально, шрифт может быть изменен, но каких-либо приростов в количестве пользователей или в прибыли ожидать не стоит. "
   ]
  }
 ],
 "metadata": {
  "ExecuteTimeLog": [
   {
    "duration": 397,
    "start_time": "2022-08-08T12:25:35.372Z"
   },
   {
    "duration": 1178,
    "start_time": "2022-08-08T12:25:53.213Z"
   },
   {
    "duration": 15,
    "start_time": "2022-08-08T12:25:56.632Z"
   },
   {
    "duration": 83,
    "start_time": "2022-08-08T12:26:05.181Z"
   },
   {
    "duration": 84,
    "start_time": "2022-08-08T12:26:09.202Z"
   },
   {
    "duration": 678,
    "start_time": "2022-08-08T12:26:16.506Z"
   },
   {
    "duration": 170,
    "start_time": "2022-08-08T12:26:21.122Z"
   },
   {
    "duration": 8,
    "start_time": "2022-08-08T12:26:23.001Z"
   },
   {
    "duration": 12,
    "start_time": "2022-08-08T12:27:47.642Z"
   },
   {
    "duration": 11,
    "start_time": "2022-08-08T12:27:50.475Z"
   },
   {
    "duration": 30,
    "start_time": "2022-08-08T12:28:07.914Z"
   },
   {
    "duration": 32,
    "start_time": "2022-08-08T12:28:27.402Z"
   },
   {
    "duration": 1643,
    "start_time": "2022-08-08T12:28:46.288Z"
   },
   {
    "duration": 8,
    "start_time": "2022-08-08T12:29:03.429Z"
   },
   {
    "duration": 414,
    "start_time": "2022-08-09T11:40:44.704Z"
   },
   {
    "duration": 686,
    "start_time": "2022-08-09T11:41:00.047Z"
   },
   {
    "duration": 14,
    "start_time": "2022-08-09T11:41:00.890Z"
   },
   {
    "duration": 63,
    "start_time": "2022-08-09T11:42:24.068Z"
   },
   {
    "duration": 168,
    "start_time": "2022-08-09T11:42:29.206Z"
   },
   {
    "duration": 162,
    "start_time": "2022-08-09T11:42:44.500Z"
   },
   {
    "duration": 95,
    "start_time": "2022-08-09T11:42:52.682Z"
   },
   {
    "duration": 63,
    "start_time": "2022-08-09T11:47:45.824Z"
   },
   {
    "duration": 88,
    "start_time": "2022-08-09T11:47:51.373Z"
   },
   {
    "duration": 113,
    "start_time": "2022-08-09T11:47:59.364Z"
   },
   {
    "duration": 119,
    "start_time": "2022-08-09T11:48:05.684Z"
   },
   {
    "duration": 85,
    "start_time": "2022-08-09T11:48:11.554Z"
   },
   {
    "duration": 71,
    "start_time": "2022-08-09T11:48:25.404Z"
   },
   {
    "duration": 35,
    "start_time": "2022-08-09T11:48:33.445Z"
   },
   {
    "duration": 84,
    "start_time": "2022-08-09T11:48:42.591Z"
   },
   {
    "duration": 84,
    "start_time": "2022-08-09T11:49:09.713Z"
   },
   {
    "duration": 84,
    "start_time": "2022-08-09T11:49:19.275Z"
   },
   {
    "duration": 45,
    "start_time": "2022-08-09T11:54:25.582Z"
   },
   {
    "duration": 395,
    "start_time": "2022-08-09T11:54:27.576Z"
   },
   {
    "duration": 160,
    "start_time": "2022-08-09T11:54:27.973Z"
   },
   {
    "duration": 118,
    "start_time": "2022-08-09T11:54:28.135Z"
   },
   {
    "duration": 47,
    "start_time": "2022-08-09T11:54:28.255Z"
   },
   {
    "duration": 0,
    "start_time": "2022-08-09T11:54:28.303Z"
   },
   {
    "duration": 0,
    "start_time": "2022-08-09T11:54:28.304Z"
   },
   {
    "duration": 0,
    "start_time": "2022-08-09T11:54:28.305Z"
   },
   {
    "duration": 45,
    "start_time": "2022-08-09T11:54:58.809Z"
   },
   {
    "duration": 74,
    "start_time": "2022-08-09T11:55:10.069Z"
   },
   {
    "duration": 62,
    "start_time": "2022-08-09T11:55:15.137Z"
   },
   {
    "duration": 72,
    "start_time": "2022-08-09T11:55:19.160Z"
   },
   {
    "duration": 54,
    "start_time": "2022-08-09T11:57:47.075Z"
   },
   {
    "duration": 50,
    "start_time": "2022-08-09T11:57:55.672Z"
   },
   {
    "duration": 7,
    "start_time": "2022-08-09T11:58:54.411Z"
   },
   {
    "duration": 17,
    "start_time": "2022-08-09T11:58:57.427Z"
   },
   {
    "duration": 99,
    "start_time": "2022-08-09T11:59:23.594Z"
   },
   {
    "duration": 48,
    "start_time": "2022-08-09T11:59:29.335Z"
   },
   {
    "duration": 13,
    "start_time": "2022-08-09T11:59:38.331Z"
   },
   {
    "duration": 15,
    "start_time": "2022-08-09T11:59:44.853Z"
   },
   {
    "duration": 9,
    "start_time": "2022-08-09T11:59:51.132Z"
   },
   {
    "duration": 418,
    "start_time": "2022-08-09T11:59:56.585Z"
   },
   {
    "duration": 154,
    "start_time": "2022-08-09T11:59:57.005Z"
   },
   {
    "duration": 137,
    "start_time": "2022-08-09T11:59:57.160Z"
   },
   {
    "duration": 18,
    "start_time": "2022-08-09T11:59:57.300Z"
   },
   {
    "duration": 30,
    "start_time": "2022-08-09T11:59:57.321Z"
   },
   {
    "duration": 17,
    "start_time": "2022-08-09T11:59:57.353Z"
   },
   {
    "duration": 16,
    "start_time": "2022-08-09T11:59:57.372Z"
   },
   {
    "duration": 64,
    "start_time": "2022-08-09T12:00:18.613Z"
   },
   {
    "duration": 8,
    "start_time": "2022-08-09T12:00:22.147Z"
   },
   {
    "duration": 10,
    "start_time": "2022-08-09T12:00:27.380Z"
   },
   {
    "duration": 19,
    "start_time": "2022-08-09T12:00:31.037Z"
   },
   {
    "duration": 0,
    "start_time": "2022-08-09T12:03:33.382Z"
   },
   {
    "duration": 0,
    "start_time": "2022-08-09T12:03:33.383Z"
   },
   {
    "duration": 0,
    "start_time": "2022-08-09T12:03:33.384Z"
   },
   {
    "duration": 0,
    "start_time": "2022-08-09T12:03:33.386Z"
   },
   {
    "duration": 0,
    "start_time": "2022-08-09T12:03:33.387Z"
   },
   {
    "duration": 0,
    "start_time": "2022-08-09T12:03:33.388Z"
   },
   {
    "duration": 0,
    "start_time": "2022-08-09T12:03:33.390Z"
   },
   {
    "duration": 406,
    "start_time": "2022-08-09T12:04:06.408Z"
   },
   {
    "duration": 154,
    "start_time": "2022-08-09T12:04:06.816Z"
   },
   {
    "duration": 117,
    "start_time": "2022-08-09T12:04:06.972Z"
   },
   {
    "duration": 17,
    "start_time": "2022-08-09T12:04:07.092Z"
   },
   {
    "duration": 2,
    "start_time": "2022-08-09T12:04:07.111Z"
   },
   {
    "duration": 19,
    "start_time": "2022-08-09T12:04:07.115Z"
   },
   {
    "duration": 1384,
    "start_time": "2022-08-09T12:04:07.136Z"
   },
   {
    "duration": 15,
    "start_time": "2022-08-09T12:04:14.020Z"
   },
   {
    "duration": 13,
    "start_time": "2022-08-09T12:04:24.362Z"
   },
   {
    "duration": 430,
    "start_time": "2022-08-09T12:04:36.203Z"
   },
   {
    "duration": 169,
    "start_time": "2022-08-09T12:04:36.635Z"
   },
   {
    "duration": 123,
    "start_time": "2022-08-09T12:04:36.807Z"
   },
   {
    "duration": 11,
    "start_time": "2022-08-09T12:04:36.933Z"
   },
   {
    "duration": 2,
    "start_time": "2022-08-09T12:04:36.946Z"
   },
   {
    "duration": 18,
    "start_time": "2022-08-09T12:04:36.950Z"
   },
   {
    "duration": 998,
    "start_time": "2022-08-09T12:04:36.969Z"
   },
   {
    "duration": 387,
    "start_time": "2022-08-09T12:05:41.925Z"
   },
   {
    "duration": 159,
    "start_time": "2022-08-09T12:05:42.314Z"
   },
   {
    "duration": 115,
    "start_time": "2022-08-09T12:05:42.475Z"
   },
   {
    "duration": 22,
    "start_time": "2022-08-09T12:05:42.592Z"
   },
   {
    "duration": 2,
    "start_time": "2022-08-09T12:05:42.616Z"
   },
   {
    "duration": 126,
    "start_time": "2022-08-09T12:07:20.240Z"
   },
   {
    "duration": 7,
    "start_time": "2022-08-09T12:09:52.004Z"
   },
   {
    "duration": 12,
    "start_time": "2022-08-09T12:09:55.671Z"
   },
   {
    "duration": 8,
    "start_time": "2022-08-09T12:10:36.955Z"
   },
   {
    "duration": 15,
    "start_time": "2022-08-09T12:10:38.150Z"
   },
   {
    "duration": 60,
    "start_time": "2022-08-09T12:11:38.835Z"
   },
   {
    "duration": 8,
    "start_time": "2022-08-09T12:11:43.050Z"
   },
   {
    "duration": 11,
    "start_time": "2022-08-09T12:11:47.280Z"
   },
   {
    "duration": 3,
    "start_time": "2022-08-09T12:13:02.922Z"
   },
   {
    "duration": 67,
    "start_time": "2022-08-09T12:13:07.476Z"
   },
   {
    "duration": 63,
    "start_time": "2022-08-09T12:13:10.611Z"
   },
   {
    "duration": 15,
    "start_time": "2022-08-09T12:13:13.033Z"
   },
   {
    "duration": 30,
    "start_time": "2022-08-09T12:13:22.666Z"
   },
   {
    "duration": 10,
    "start_time": "2022-08-09T12:14:57.527Z"
   },
   {
    "duration": 13,
    "start_time": "2022-08-09T12:15:02.628Z"
   },
   {
    "duration": 21,
    "start_time": "2022-08-09T12:15:07.613Z"
   },
   {
    "duration": 338,
    "start_time": "2022-08-09T12:33:51.467Z"
   },
   {
    "duration": 153,
    "start_time": "2022-08-09T12:33:51.808Z"
   },
   {
    "duration": 109,
    "start_time": "2022-08-09T12:33:51.963Z"
   },
   {
    "duration": 11,
    "start_time": "2022-08-09T12:33:52.074Z"
   },
   {
    "duration": 128,
    "start_time": "2022-08-09T12:33:52.087Z"
   },
   {
    "duration": 12,
    "start_time": "2022-08-09T12:33:52.217Z"
   },
   {
    "duration": 20,
    "start_time": "2022-08-09T12:33:52.231Z"
   },
   {
    "duration": 9,
    "start_time": "2022-08-09T12:34:16.259Z"
   },
   {
    "duration": 16,
    "start_time": "2022-08-09T12:35:29.937Z"
   },
   {
    "duration": 365,
    "start_time": "2022-08-09T13:08:58.046Z"
   },
   {
    "duration": 164,
    "start_time": "2022-08-09T13:08:58.413Z"
   },
   {
    "duration": 109,
    "start_time": "2022-08-09T13:08:58.578Z"
   },
   {
    "duration": 29,
    "start_time": "2022-08-09T13:08:58.689Z"
   },
   {
    "duration": 128,
    "start_time": "2022-08-09T13:08:58.719Z"
   },
   {
    "duration": 13,
    "start_time": "2022-08-09T13:08:58.849Z"
   },
   {
    "duration": 20,
    "start_time": "2022-08-09T13:08:58.863Z"
   },
   {
    "duration": 27,
    "start_time": "2022-08-09T13:08:58.885Z"
   },
   {
    "duration": 23,
    "start_time": "2022-08-09T13:08:58.914Z"
   },
   {
    "duration": 46,
    "start_time": "2022-08-09T13:08:58.940Z"
   },
   {
    "duration": 96,
    "start_time": "2022-08-09T13:09:32.090Z"
   },
   {
    "duration": 31,
    "start_time": "2022-08-09T13:09:36.988Z"
   },
   {
    "duration": 29,
    "start_time": "2022-08-09T13:09:44.496Z"
   },
   {
    "duration": 31,
    "start_time": "2022-08-09T13:09:51.758Z"
   },
   {
    "duration": 29,
    "start_time": "2022-08-09T13:10:42.035Z"
   },
   {
    "duration": 61,
    "start_time": "2022-08-09T13:10:48.386Z"
   },
   {
    "duration": 31,
    "start_time": "2022-08-09T13:10:53.940Z"
   },
   {
    "duration": 31,
    "start_time": "2022-08-09T13:11:03.914Z"
   },
   {
    "duration": 30,
    "start_time": "2022-08-09T13:11:11.442Z"
   },
   {
    "duration": 31,
    "start_time": "2022-08-09T13:11:23.646Z"
   },
   {
    "duration": 4,
    "start_time": "2022-08-09T13:12:09.666Z"
   },
   {
    "duration": 7,
    "start_time": "2022-08-09T13:12:17.299Z"
   },
   {
    "duration": 90,
    "start_time": "2022-08-09T13:13:36.677Z"
   },
   {
    "duration": 907,
    "start_time": "2022-08-09T13:13:39.304Z"
   },
   {
    "duration": 5,
    "start_time": "2022-08-09T13:13:47.219Z"
   },
   {
    "duration": 6,
    "start_time": "2022-08-09T13:14:22.316Z"
   },
   {
    "duration": 1396,
    "start_time": "2022-08-09T13:14:37.326Z"
   },
   {
    "duration": 6,
    "start_time": "2022-08-09T13:14:48.510Z"
   },
   {
    "duration": 6,
    "start_time": "2022-08-09T13:15:42.800Z"
   },
   {
    "duration": 6,
    "start_time": "2022-08-09T13:18:08.652Z"
   },
   {
    "duration": 278,
    "start_time": "2022-08-09T13:18:33.994Z"
   },
   {
    "duration": 479,
    "start_time": "2022-08-09T13:18:44.830Z"
   },
   {
    "duration": 466,
    "start_time": "2022-08-09T13:18:59.279Z"
   },
   {
    "duration": 49,
    "start_time": "2022-08-09T13:19:33.202Z"
   },
   {
    "duration": 55,
    "start_time": "2022-08-09T13:19:56.988Z"
   },
   {
    "duration": 52,
    "start_time": "2022-08-09T13:19:59.945Z"
   },
   {
    "duration": 73,
    "start_time": "2022-08-09T13:20:10.598Z"
   },
   {
    "duration": 127,
    "start_time": "2022-08-09T13:29:11.886Z"
   },
   {
    "duration": 72,
    "start_time": "2022-08-09T13:30:33.587Z"
   },
   {
    "duration": 74,
    "start_time": "2022-08-09T13:30:39.999Z"
   },
   {
    "duration": 74,
    "start_time": "2022-08-09T13:30:47.645Z"
   },
   {
    "duration": 272,
    "start_time": "2022-08-09T13:32:38.891Z"
   },
   {
    "duration": 469,
    "start_time": "2022-08-09T13:32:51.970Z"
   },
   {
    "duration": 474,
    "start_time": "2022-08-09T13:33:09.780Z"
   },
   {
    "duration": 483,
    "start_time": "2022-08-09T13:33:46.612Z"
   },
   {
    "duration": 505,
    "start_time": "2022-08-09T13:34:03.050Z"
   },
   {
    "duration": 180,
    "start_time": "2022-08-09T13:34:38.560Z"
   },
   {
    "duration": 196,
    "start_time": "2022-08-09T13:34:53.915Z"
   },
   {
    "duration": 184,
    "start_time": "2022-08-09T13:35:00.641Z"
   },
   {
    "duration": 188,
    "start_time": "2022-08-09T13:35:35.737Z"
   },
   {
    "duration": 214,
    "start_time": "2022-08-09T13:35:40.031Z"
   },
   {
    "duration": 302,
    "start_time": "2022-08-09T13:37:15.893Z"
   },
   {
    "duration": 56,
    "start_time": "2022-08-09T13:37:27.183Z"
   },
   {
    "duration": 209,
    "start_time": "2022-08-09T13:37:29.812Z"
   },
   {
    "duration": 22,
    "start_time": "2022-08-09T13:40:14.536Z"
   },
   {
    "duration": 13,
    "start_time": "2022-08-09T13:40:22.227Z"
   },
   {
    "duration": 13,
    "start_time": "2022-08-09T13:40:29.468Z"
   },
   {
    "duration": 18,
    "start_time": "2022-08-09T13:40:52.938Z"
   },
   {
    "duration": 13,
    "start_time": "2022-08-09T13:40:57.030Z"
   },
   {
    "duration": 12,
    "start_time": "2022-08-09T13:41:07.027Z"
   },
   {
    "duration": 6,
    "start_time": "2022-08-09T13:41:26.453Z"
   },
   {
    "duration": 6,
    "start_time": "2022-08-09T13:41:31.089Z"
   },
   {
    "duration": 3,
    "start_time": "2022-08-09T13:42:02.743Z"
   },
   {
    "duration": 5,
    "start_time": "2022-08-09T13:42:34.793Z"
   },
   {
    "duration": 5,
    "start_time": "2022-08-09T13:42:44.639Z"
   },
   {
    "duration": 46,
    "start_time": "2022-08-09T13:43:09.407Z"
   },
   {
    "duration": 5,
    "start_time": "2022-08-09T13:43:13.365Z"
   },
   {
    "duration": 5,
    "start_time": "2022-08-09T13:43:40.136Z"
   },
   {
    "duration": 6,
    "start_time": "2022-08-09T13:44:04.137Z"
   },
   {
    "duration": 21,
    "start_time": "2022-08-09T13:44:52.621Z"
   },
   {
    "duration": 615,
    "start_time": "2022-08-09T13:45:01.860Z"
   },
   {
    "duration": 11,
    "start_time": "2022-08-09T13:47:07.239Z"
   },
   {
    "duration": 17,
    "start_time": "2022-08-09T13:47:37.997Z"
   },
   {
    "duration": 14,
    "start_time": "2022-08-09T13:47:46.378Z"
   },
   {
    "duration": 426,
    "start_time": "2022-08-09T19:23:08.126Z"
   },
   {
    "duration": 583,
    "start_time": "2022-08-09T19:23:08.554Z"
   },
   {
    "duration": 131,
    "start_time": "2022-08-09T19:23:09.140Z"
   },
   {
    "duration": 12,
    "start_time": "2022-08-09T19:23:09.273Z"
   },
   {
    "duration": 148,
    "start_time": "2022-08-09T19:23:09.288Z"
   },
   {
    "duration": 12,
    "start_time": "2022-08-09T19:23:09.437Z"
   },
   {
    "duration": 21,
    "start_time": "2022-08-09T19:23:09.451Z"
   },
   {
    "duration": 36,
    "start_time": "2022-08-09T19:23:09.474Z"
   },
   {
    "duration": 34,
    "start_time": "2022-08-09T19:23:09.512Z"
   },
   {
    "duration": 35,
    "start_time": "2022-08-09T19:23:09.547Z"
   },
   {
    "duration": 6,
    "start_time": "2022-08-09T19:23:09.583Z"
   },
   {
    "duration": 13,
    "start_time": "2022-08-09T19:23:09.591Z"
   },
   {
    "duration": 575,
    "start_time": "2022-08-09T19:23:09.606Z"
   },
   {
    "duration": 781,
    "start_time": "2022-08-09T19:23:10.183Z"
   },
   {
    "duration": 9,
    "start_time": "2022-08-09T19:23:10.966Z"
   },
   {
    "duration": 745,
    "start_time": "2022-08-09T19:23:10.977Z"
   },
   {
    "duration": 13,
    "start_time": "2022-08-09T19:23:11.724Z"
   },
   {
    "duration": 81,
    "start_time": "2022-08-09T19:23:11.739Z"
   },
   {
    "duration": 201,
    "start_time": "2022-08-09T19:23:24.974Z"
   },
   {
    "duration": 83,
    "start_time": "2022-08-09T19:23:43.448Z"
   },
   {
    "duration": 125,
    "start_time": "2022-08-09T19:23:57.024Z"
   },
   {
    "duration": 17,
    "start_time": "2022-08-09T19:25:14.878Z"
   },
   {
    "duration": 200,
    "start_time": "2022-08-09T19:25:21.419Z"
   },
   {
    "duration": 225,
    "start_time": "2022-08-09T19:25:33.647Z"
   },
   {
    "duration": 209,
    "start_time": "2022-08-09T19:25:49.924Z"
   },
   {
    "duration": 9,
    "start_time": "2022-08-09T19:25:56.359Z"
   },
   {
    "duration": 214,
    "start_time": "2022-08-09T19:26:01.726Z"
   },
   {
    "duration": 642,
    "start_time": "2022-08-09T19:30:04.096Z"
   },
   {
    "duration": 10,
    "start_time": "2022-08-09T19:31:14.872Z"
   },
   {
    "duration": 41,
    "start_time": "2022-08-09T19:31:39.238Z"
   },
   {
    "duration": 9,
    "start_time": "2022-08-09T19:31:43.688Z"
   },
   {
    "duration": 44,
    "start_time": "2022-08-09T19:31:48.354Z"
   },
   {
    "duration": 36,
    "start_time": "2022-08-09T19:32:18.479Z"
   },
   {
    "duration": 37,
    "start_time": "2022-08-09T19:32:43.771Z"
   },
   {
    "duration": 125,
    "start_time": "2022-08-09T19:33:04.995Z"
   },
   {
    "duration": 39,
    "start_time": "2022-08-09T19:33:47.717Z"
   },
   {
    "duration": 39,
    "start_time": "2022-08-09T19:33:57.706Z"
   },
   {
    "duration": 148,
    "start_time": "2022-08-09T19:34:25.830Z"
   },
   {
    "duration": 152,
    "start_time": "2022-08-09T19:34:32.539Z"
   },
   {
    "duration": 152,
    "start_time": "2022-08-09T19:34:54.875Z"
   },
   {
    "duration": 153,
    "start_time": "2022-08-09T19:35:47.544Z"
   },
   {
    "duration": 156,
    "start_time": "2022-08-09T19:35:51.113Z"
   },
   {
    "duration": 144,
    "start_time": "2022-08-09T19:36:03.969Z"
   },
   {
    "duration": 155,
    "start_time": "2022-08-09T19:36:16.381Z"
   },
   {
    "duration": 149,
    "start_time": "2022-08-09T19:36:23.930Z"
   },
   {
    "duration": 289,
    "start_time": "2022-08-09T19:36:49.284Z"
   },
   {
    "duration": 175,
    "start_time": "2022-08-09T19:36:57.018Z"
   },
   {
    "duration": 161,
    "start_time": "2022-08-09T19:37:05.620Z"
   },
   {
    "duration": 495,
    "start_time": "2022-08-09T19:38:31.167Z"
   },
   {
    "duration": 85,
    "start_time": "2022-08-09T19:39:33.647Z"
   },
   {
    "duration": 82,
    "start_time": "2022-08-09T19:39:41.051Z"
   },
   {
    "duration": 85,
    "start_time": "2022-08-09T19:40:26.037Z"
   },
   {
    "duration": 74,
    "start_time": "2022-08-09T19:40:30.322Z"
   },
   {
    "duration": 63,
    "start_time": "2022-08-09T19:45:13.793Z"
   },
   {
    "duration": 33,
    "start_time": "2022-08-09T19:45:16.951Z"
   },
   {
    "duration": 48,
    "start_time": "2022-08-09T19:45:51.154Z"
   },
   {
    "duration": 52,
    "start_time": "2022-08-09T19:46:01.759Z"
   },
   {
    "duration": 53,
    "start_time": "2022-08-09T19:46:06.115Z"
   },
   {
    "duration": 49,
    "start_time": "2022-08-09T19:46:22.225Z"
   },
   {
    "duration": 87,
    "start_time": "2022-08-09T19:46:28.726Z"
   },
   {
    "duration": 68,
    "start_time": "2022-08-09T19:46:33.534Z"
   },
   {
    "duration": 67,
    "start_time": "2022-08-09T19:48:42.546Z"
   },
   {
    "duration": 66,
    "start_time": "2022-08-09T19:48:50.887Z"
   },
   {
    "duration": 52,
    "start_time": "2022-08-09T19:49:00.577Z"
   },
   {
    "duration": 1263,
    "start_time": "2022-08-09T19:49:07.906Z"
   },
   {
    "duration": 157,
    "start_time": "2022-08-09T19:49:09.171Z"
   },
   {
    "duration": 107,
    "start_time": "2022-08-09T19:49:09.329Z"
   },
   {
    "duration": 13,
    "start_time": "2022-08-09T19:49:09.437Z"
   },
   {
    "duration": 132,
    "start_time": "2022-08-09T19:49:09.453Z"
   },
   {
    "duration": 23,
    "start_time": "2022-08-09T19:49:09.587Z"
   },
   {
    "duration": 19,
    "start_time": "2022-08-09T19:49:09.611Z"
   },
   {
    "duration": 9,
    "start_time": "2022-08-09T19:49:09.632Z"
   },
   {
    "duration": 21,
    "start_time": "2022-08-09T19:49:09.643Z"
   },
   {
    "duration": 51,
    "start_time": "2022-08-09T19:49:09.666Z"
   },
   {
    "duration": 8,
    "start_time": "2022-08-09T19:49:09.719Z"
   },
   {
    "duration": 7,
    "start_time": "2022-08-09T19:49:09.729Z"
   },
   {
    "duration": 643,
    "start_time": "2022-08-09T19:49:09.737Z"
   },
   {
    "duration": 324,
    "start_time": "2022-08-09T19:49:10.383Z"
   },
   {
    "duration": 10,
    "start_time": "2022-08-09T19:49:10.708Z"
   },
   {
    "duration": 658,
    "start_time": "2022-08-09T19:49:10.720Z"
   },
   {
    "duration": 9,
    "start_time": "2022-08-09T19:49:11.380Z"
   },
   {
    "duration": 28,
    "start_time": "2022-08-09T19:49:11.391Z"
   },
   {
    "duration": 97,
    "start_time": "2022-08-09T19:49:11.420Z"
   },
   {
    "duration": 423,
    "start_time": "2022-08-09T19:49:11.519Z"
   },
   {
    "duration": 72,
    "start_time": "2022-08-09T19:49:40.653Z"
   },
   {
    "duration": 48,
    "start_time": "2022-08-09T19:49:49.811Z"
   },
   {
    "duration": 316,
    "start_time": "2022-08-09T20:05:28.908Z"
   },
   {
    "duration": 54,
    "start_time": "2022-08-09T20:05:38.881Z"
   },
   {
    "duration": 1326,
    "start_time": "2022-08-09T20:05:48.774Z"
   },
   {
    "duration": 170,
    "start_time": "2022-08-09T20:05:50.102Z"
   },
   {
    "duration": 109,
    "start_time": "2022-08-09T20:05:50.273Z"
   },
   {
    "duration": 24,
    "start_time": "2022-08-09T20:05:50.384Z"
   },
   {
    "duration": 145,
    "start_time": "2022-08-09T20:05:50.411Z"
   },
   {
    "duration": 12,
    "start_time": "2022-08-09T20:05:50.558Z"
   },
   {
    "duration": 20,
    "start_time": "2022-08-09T20:05:50.571Z"
   },
   {
    "duration": 10,
    "start_time": "2022-08-09T20:05:50.603Z"
   },
   {
    "duration": 30,
    "start_time": "2022-08-09T20:05:50.615Z"
   },
   {
    "duration": 32,
    "start_time": "2022-08-09T20:05:50.647Z"
   },
   {
    "duration": 22,
    "start_time": "2022-08-09T20:05:50.681Z"
   },
   {
    "duration": 7,
    "start_time": "2022-08-09T20:05:50.705Z"
   },
   {
    "duration": 672,
    "start_time": "2022-08-09T20:05:50.713Z"
   },
   {
    "duration": 326,
    "start_time": "2022-08-09T20:05:51.389Z"
   },
   {
    "duration": 11,
    "start_time": "2022-08-09T20:05:51.717Z"
   },
   {
    "duration": 1298,
    "start_time": "2022-08-09T20:05:51.730Z"
   },
   {
    "duration": 10,
    "start_time": "2022-08-09T20:05:53.029Z"
   },
   {
    "duration": 74,
    "start_time": "2022-08-09T20:05:53.041Z"
   },
   {
    "duration": 295,
    "start_time": "2022-08-09T20:05:53.117Z"
   },
   {
    "duration": 0,
    "start_time": "2022-08-09T20:05:53.414Z"
   },
   {
    "duration": 32,
    "start_time": "2022-08-09T20:06:51.685Z"
   },
   {
    "duration": 106,
    "start_time": "2022-08-09T20:08:21.979Z"
   },
   {
    "duration": 46,
    "start_time": "2022-08-09T20:08:29.813Z"
   },
   {
    "duration": 59,
    "start_time": "2022-08-09T20:08:37.718Z"
   },
   {
    "duration": 50,
    "start_time": "2022-08-09T20:08:54.476Z"
   },
   {
    "duration": 46,
    "start_time": "2022-08-09T20:08:59.143Z"
   },
   {
    "duration": 83,
    "start_time": "2022-08-09T20:09:07.413Z"
   },
   {
    "duration": 48,
    "start_time": "2022-08-09T20:09:20.924Z"
   },
   {
    "duration": 66,
    "start_time": "2022-08-09T20:09:26.806Z"
   },
   {
    "duration": 525,
    "start_time": "2022-08-09T20:09:58.521Z"
   },
   {
    "duration": 16,
    "start_time": "2022-08-09T20:10:49.748Z"
   },
   {
    "duration": 1061,
    "start_time": "2022-08-09T20:10:59.909Z"
   },
   {
    "duration": 859,
    "start_time": "2022-08-09T20:11:12.639Z"
   },
   {
    "duration": 79,
    "start_time": "2022-08-09T20:11:27.252Z"
   },
   {
    "duration": 83,
    "start_time": "2022-08-09T20:11:39.339Z"
   },
   {
    "duration": 11,
    "start_time": "2022-08-09T20:11:49.464Z"
   },
   {
    "duration": 11,
    "start_time": "2022-08-09T20:11:55.054Z"
   },
   {
    "duration": 5,
    "start_time": "2022-08-09T20:12:03.878Z"
   },
   {
    "duration": 11,
    "start_time": "2022-08-09T20:12:10.788Z"
   },
   {
    "duration": 6,
    "start_time": "2022-08-09T20:12:29.764Z"
   },
   {
    "duration": 90,
    "start_time": "2022-08-09T20:12:40.272Z"
   },
   {
    "duration": 48,
    "start_time": "2022-08-09T20:12:57.084Z"
   },
   {
    "duration": 86,
    "start_time": "2022-08-09T20:13:16.941Z"
   },
   {
    "duration": 78,
    "start_time": "2022-08-09T20:13:57.981Z"
   },
   {
    "duration": 5,
    "start_time": "2022-08-09T20:14:08.277Z"
   },
   {
    "duration": 83,
    "start_time": "2022-08-09T20:14:23.568Z"
   },
   {
    "duration": 97,
    "start_time": "2022-08-09T20:14:40.355Z"
   },
   {
    "duration": 82,
    "start_time": "2022-08-09T20:14:46.911Z"
   },
   {
    "duration": 105,
    "start_time": "2022-08-09T20:15:19.054Z"
   },
   {
    "duration": 1186,
    "start_time": "2022-08-09T20:15:33.961Z"
   },
   {
    "duration": 164,
    "start_time": "2022-08-09T20:15:35.149Z"
   },
   {
    "duration": 121,
    "start_time": "2022-08-09T20:15:35.314Z"
   },
   {
    "duration": 12,
    "start_time": "2022-08-09T20:15:35.437Z"
   },
   {
    "duration": 165,
    "start_time": "2022-08-09T20:15:35.451Z"
   },
   {
    "duration": 12,
    "start_time": "2022-08-09T20:15:35.618Z"
   },
   {
    "duration": 21,
    "start_time": "2022-08-09T20:15:35.632Z"
   },
   {
    "duration": 11,
    "start_time": "2022-08-09T20:15:35.655Z"
   },
   {
    "duration": 52,
    "start_time": "2022-08-09T20:15:35.668Z"
   },
   {
    "duration": 32,
    "start_time": "2022-08-09T20:15:35.723Z"
   },
   {
    "duration": 6,
    "start_time": "2022-08-09T20:15:35.757Z"
   },
   {
    "duration": 8,
    "start_time": "2022-08-09T20:15:35.764Z"
   },
   {
    "duration": 680,
    "start_time": "2022-08-09T20:15:35.773Z"
   },
   {
    "duration": 341,
    "start_time": "2022-08-09T20:15:36.454Z"
   },
   {
    "duration": 13,
    "start_time": "2022-08-09T20:15:36.796Z"
   },
   {
    "duration": 701,
    "start_time": "2022-08-09T20:15:36.811Z"
   },
   {
    "duration": 11,
    "start_time": "2022-08-09T20:15:37.517Z"
   },
   {
    "duration": 26,
    "start_time": "2022-08-09T20:15:37.531Z"
   },
   {
    "duration": 71,
    "start_time": "2022-08-09T20:15:37.560Z"
   },
   {
    "duration": 10,
    "start_time": "2022-08-09T20:15:37.633Z"
   },
   {
    "duration": 97,
    "start_time": "2022-08-09T20:15:37.645Z"
   },
   {
    "duration": 445,
    "start_time": "2022-08-09T20:15:37.744Z"
   },
   {
    "duration": 1304,
    "start_time": "2022-08-10T13:02:36.881Z"
   },
   {
    "duration": 723,
    "start_time": "2022-08-10T13:02:38.187Z"
   },
   {
    "duration": 88,
    "start_time": "2022-08-10T13:02:38.911Z"
   },
   {
    "duration": 11,
    "start_time": "2022-08-10T13:02:39.002Z"
   },
   {
    "duration": 120,
    "start_time": "2022-08-10T13:02:39.015Z"
   },
   {
    "duration": 23,
    "start_time": "2022-08-10T13:02:39.137Z"
   },
   {
    "duration": 18,
    "start_time": "2022-08-10T13:02:39.161Z"
   },
   {
    "duration": 8,
    "start_time": "2022-08-10T13:02:39.181Z"
   },
   {
    "duration": 19,
    "start_time": "2022-08-10T13:02:39.191Z"
   },
   {
    "duration": 45,
    "start_time": "2022-08-10T13:02:39.213Z"
   },
   {
    "duration": 5,
    "start_time": "2022-08-10T13:02:39.260Z"
   },
   {
    "duration": 6,
    "start_time": "2022-08-10T13:02:39.266Z"
   },
   {
    "duration": 545,
    "start_time": "2022-08-10T13:02:39.273Z"
   },
   {
    "duration": 278,
    "start_time": "2022-08-10T13:02:39.819Z"
   },
   {
    "duration": 8,
    "start_time": "2022-08-10T13:02:40.099Z"
   },
   {
    "duration": 588,
    "start_time": "2022-08-10T13:02:40.108Z"
   },
   {
    "duration": 8,
    "start_time": "2022-08-10T13:02:40.698Z"
   },
   {
    "duration": 21,
    "start_time": "2022-08-10T13:02:40.708Z"
   },
   {
    "duration": 37,
    "start_time": "2022-08-10T13:02:40.731Z"
   },
   {
    "duration": 8,
    "start_time": "2022-08-10T13:02:40.769Z"
   },
   {
    "duration": 79,
    "start_time": "2022-08-10T13:02:40.778Z"
   },
   {
    "duration": 455,
    "start_time": "2022-08-10T13:02:40.859Z"
   },
   {
    "duration": 14,
    "start_time": "2022-08-10T13:02:41.315Z"
   },
   {
    "duration": 57,
    "start_time": "2022-08-10T13:02:41.330Z"
   },
   {
    "duration": 74,
    "start_time": "2022-08-10T13:02:41.388Z"
   },
   {
    "duration": 12,
    "start_time": "2022-08-10T13:02:41.463Z"
   },
   {
    "duration": 35,
    "start_time": "2022-08-10T13:02:41.477Z"
   },
   {
    "duration": 40,
    "start_time": "2022-08-10T13:02:41.515Z"
   },
   {
    "duration": 29,
    "start_time": "2022-08-10T13:02:41.557Z"
   },
   {
    "duration": 22,
    "start_time": "2022-08-10T13:02:41.587Z"
   },
   {
    "duration": 6,
    "start_time": "2022-08-10T13:24:24.297Z"
   },
   {
    "duration": 42,
    "start_time": "2022-08-10T19:28:42.198Z"
   },
   {
    "duration": 1278,
    "start_time": "2022-08-10T19:28:50.441Z"
   },
   {
    "duration": 695,
    "start_time": "2022-08-10T19:28:51.721Z"
   },
   {
    "duration": 86,
    "start_time": "2022-08-10T19:28:52.418Z"
   },
   {
    "duration": 11,
    "start_time": "2022-08-10T19:28:52.506Z"
   },
   {
    "duration": 120,
    "start_time": "2022-08-10T19:28:52.519Z"
   },
   {
    "duration": 16,
    "start_time": "2022-08-10T19:28:52.640Z"
   },
   {
    "duration": 16,
    "start_time": "2022-08-10T19:28:52.657Z"
   },
   {
    "duration": 7,
    "start_time": "2022-08-10T19:28:52.675Z"
   },
   {
    "duration": 16,
    "start_time": "2022-08-10T19:28:52.684Z"
   },
   {
    "duration": 145,
    "start_time": "2022-08-10T19:28:52.701Z"
   },
   {
    "duration": 0,
    "start_time": "2022-08-10T19:28:52.848Z"
   },
   {
    "duration": 0,
    "start_time": "2022-08-10T19:28:52.849Z"
   },
   {
    "duration": 0,
    "start_time": "2022-08-10T19:28:52.854Z"
   },
   {
    "duration": 0,
    "start_time": "2022-08-10T19:28:52.855Z"
   },
   {
    "duration": 0,
    "start_time": "2022-08-10T19:28:52.856Z"
   },
   {
    "duration": 0,
    "start_time": "2022-08-10T19:28:52.857Z"
   },
   {
    "duration": 0,
    "start_time": "2022-08-10T19:28:52.857Z"
   },
   {
    "duration": 0,
    "start_time": "2022-08-10T19:28:52.858Z"
   },
   {
    "duration": 0,
    "start_time": "2022-08-10T19:28:52.859Z"
   },
   {
    "duration": 0,
    "start_time": "2022-08-10T19:28:52.860Z"
   },
   {
    "duration": 0,
    "start_time": "2022-08-10T19:28:52.861Z"
   },
   {
    "duration": 0,
    "start_time": "2022-08-10T19:28:52.862Z"
   },
   {
    "duration": 0,
    "start_time": "2022-08-10T19:28:52.862Z"
   },
   {
    "duration": 0,
    "start_time": "2022-08-10T19:28:52.863Z"
   },
   {
    "duration": 0,
    "start_time": "2022-08-10T19:28:52.864Z"
   },
   {
    "duration": 0,
    "start_time": "2022-08-10T19:28:52.865Z"
   },
   {
    "duration": 0,
    "start_time": "2022-08-10T19:28:52.865Z"
   },
   {
    "duration": 0,
    "start_time": "2022-08-10T19:28:52.866Z"
   },
   {
    "duration": 0,
    "start_time": "2022-08-10T19:28:52.867Z"
   },
   {
    "duration": 0,
    "start_time": "2022-08-10T19:28:52.868Z"
   },
   {
    "duration": 33,
    "start_time": "2022-08-10T19:29:32.441Z"
   },
   {
    "duration": 35,
    "start_time": "2022-08-10T19:29:40.947Z"
   },
   {
    "duration": 27,
    "start_time": "2022-08-10T19:30:05.061Z"
   },
   {
    "duration": 29,
    "start_time": "2022-08-10T19:30:08.661Z"
   },
   {
    "duration": 28,
    "start_time": "2022-08-10T19:30:16.159Z"
   },
   {
    "duration": 27,
    "start_time": "2022-08-10T19:30:54.174Z"
   },
   {
    "duration": 1135,
    "start_time": "2022-08-10T19:31:28.790Z"
   },
   {
    "duration": 140,
    "start_time": "2022-08-10T19:31:29.927Z"
   },
   {
    "duration": 94,
    "start_time": "2022-08-10T19:31:30.069Z"
   },
   {
    "duration": 11,
    "start_time": "2022-08-10T19:31:30.165Z"
   },
   {
    "duration": 124,
    "start_time": "2022-08-10T19:31:30.177Z"
   },
   {
    "duration": 10,
    "start_time": "2022-08-10T19:31:30.303Z"
   },
   {
    "duration": 22,
    "start_time": "2022-08-10T19:31:30.314Z"
   },
   {
    "duration": 19,
    "start_time": "2022-08-10T19:31:30.338Z"
   },
   {
    "duration": 20,
    "start_time": "2022-08-10T19:31:30.358Z"
   },
   {
    "duration": 28,
    "start_time": "2022-08-10T19:31:30.380Z"
   },
   {
    "duration": 6,
    "start_time": "2022-08-10T19:31:30.409Z"
   },
   {
    "duration": 13,
    "start_time": "2022-08-10T19:31:30.416Z"
   },
   {
    "duration": 565,
    "start_time": "2022-08-10T19:31:30.430Z"
   },
   {
    "duration": 265,
    "start_time": "2022-08-10T19:31:30.997Z"
   },
   {
    "duration": 8,
    "start_time": "2022-08-10T19:31:31.264Z"
   },
   {
    "duration": 540,
    "start_time": "2022-08-10T19:31:31.274Z"
   },
   {
    "duration": 8,
    "start_time": "2022-08-10T19:31:31.815Z"
   },
   {
    "duration": 16,
    "start_time": "2022-08-10T19:31:31.824Z"
   },
   {
    "duration": 37,
    "start_time": "2022-08-10T19:31:31.841Z"
   },
   {
    "duration": 7,
    "start_time": "2022-08-10T19:31:31.879Z"
   },
   {
    "duration": 89,
    "start_time": "2022-08-10T19:31:31.888Z"
   },
   {
    "duration": 4,
    "start_time": "2022-08-10T19:33:44.314Z"
   },
   {
    "duration": 137,
    "start_time": "2022-08-10T19:33:44.320Z"
   },
   {
    "duration": 71,
    "start_time": "2022-08-10T19:33:44.459Z"
   },
   {
    "duration": 28,
    "start_time": "2022-08-10T19:33:44.531Z"
   },
   {
    "duration": 86,
    "start_time": "2022-08-10T19:33:44.560Z"
   },
   {
    "duration": 10,
    "start_time": "2022-08-10T19:33:44.654Z"
   },
   {
    "duration": 17,
    "start_time": "2022-08-10T19:33:44.666Z"
   },
   {
    "duration": 8,
    "start_time": "2022-08-10T19:33:44.684Z"
   },
   {
    "duration": 16,
    "start_time": "2022-08-10T19:33:44.694Z"
   },
   {
    "duration": 54,
    "start_time": "2022-08-10T19:33:44.711Z"
   },
   {
    "duration": 5,
    "start_time": "2022-08-10T19:33:44.767Z"
   },
   {
    "duration": 5,
    "start_time": "2022-08-10T19:33:44.773Z"
   },
   {
    "duration": 641,
    "start_time": "2022-08-10T19:33:44.779Z"
   },
   {
    "duration": 3,
    "start_time": "2022-08-10T19:33:45.421Z"
   },
   {
    "duration": 4,
    "start_time": "2022-08-10T19:33:45.426Z"
   },
   {
    "duration": 9,
    "start_time": "2022-08-10T19:33:45.431Z"
   },
   {
    "duration": 620,
    "start_time": "2022-08-10T19:33:45.442Z"
   },
   {
    "duration": 8,
    "start_time": "2022-08-10T19:33:46.064Z"
   },
   {
    "duration": 14,
    "start_time": "2022-08-10T19:33:46.074Z"
   },
   {
    "duration": 26,
    "start_time": "2022-08-10T19:33:46.090Z"
   },
   {
    "duration": 7,
    "start_time": "2022-08-10T19:33:46.118Z"
   },
   {
    "duration": 95,
    "start_time": "2022-08-10T19:33:46.127Z"
   },
   {
    "duration": 47,
    "start_time": "2022-08-10T19:33:46.224Z"
   },
   {
    "duration": 11,
    "start_time": "2022-08-10T19:33:46.273Z"
   },
   {
    "duration": 36,
    "start_time": "2022-08-10T19:33:46.285Z"
   },
   {
    "duration": 47,
    "start_time": "2022-08-10T19:33:46.322Z"
   },
   {
    "duration": 12,
    "start_time": "2022-08-10T19:33:46.370Z"
   },
   {
    "duration": 34,
    "start_time": "2022-08-10T19:33:46.384Z"
   },
   {
    "duration": 36,
    "start_time": "2022-08-10T19:33:46.420Z"
   },
   {
    "duration": 27,
    "start_time": "2022-08-10T19:33:46.457Z"
   },
   {
    "duration": 23,
    "start_time": "2022-08-10T19:33:46.485Z"
   },
   {
    "duration": 132,
    "start_time": "2022-08-10T19:34:08.939Z"
   },
   {
    "duration": 10,
    "start_time": "2022-08-10T19:34:16.280Z"
   },
   {
    "duration": 672,
    "start_time": "2022-08-10T19:35:01.533Z"
   },
   {
    "duration": 9,
    "start_time": "2022-08-10T19:35:03.133Z"
   },
   {
    "duration": 4,
    "start_time": "2022-08-10T19:35:16.677Z"
   },
   {
    "duration": 3,
    "start_time": "2022-08-10T19:35:31.941Z"
   },
   {
    "duration": 3,
    "start_time": "2022-08-10T19:35:35.733Z"
   },
   {
    "duration": 449,
    "start_time": "2022-08-10T19:36:00.392Z"
   },
   {
    "duration": 3,
    "start_time": "2022-08-10T19:36:12.240Z"
   },
   {
    "duration": 1197,
    "start_time": "2022-08-10T19:36:25.424Z"
   },
   {
    "duration": 167,
    "start_time": "2022-08-10T19:36:26.623Z"
   },
   {
    "duration": 93,
    "start_time": "2022-08-10T19:36:26.791Z"
   },
   {
    "duration": 13,
    "start_time": "2022-08-10T19:36:26.885Z"
   },
   {
    "duration": 132,
    "start_time": "2022-08-10T19:36:26.900Z"
   },
   {
    "duration": 11,
    "start_time": "2022-08-10T19:36:27.034Z"
   },
   {
    "duration": 25,
    "start_time": "2022-08-10T19:36:27.047Z"
   },
   {
    "duration": 9,
    "start_time": "2022-08-10T19:36:27.073Z"
   },
   {
    "duration": 17,
    "start_time": "2022-08-10T19:36:27.083Z"
   },
   {
    "duration": 26,
    "start_time": "2022-08-10T19:36:27.101Z"
   },
   {
    "duration": 30,
    "start_time": "2022-08-10T19:36:27.129Z"
   },
   {
    "duration": 5,
    "start_time": "2022-08-10T19:36:27.160Z"
   },
   {
    "duration": 629,
    "start_time": "2022-08-10T19:36:27.167Z"
   },
   {
    "duration": 3,
    "start_time": "2022-08-10T19:36:27.799Z"
   },
   {
    "duration": 461,
    "start_time": "2022-08-10T19:36:27.803Z"
   },
   {
    "duration": 9,
    "start_time": "2022-08-10T19:36:28.265Z"
   },
   {
    "duration": 594,
    "start_time": "2022-08-10T19:36:28.276Z"
   },
   {
    "duration": 10,
    "start_time": "2022-08-10T19:36:28.871Z"
   },
   {
    "duration": 16,
    "start_time": "2022-08-10T19:36:28.882Z"
   },
   {
    "duration": 26,
    "start_time": "2022-08-10T19:36:28.900Z"
   },
   {
    "duration": 28,
    "start_time": "2022-08-10T19:36:28.928Z"
   },
   {
    "duration": 73,
    "start_time": "2022-08-10T19:36:28.957Z"
   },
   {
    "duration": 402,
    "start_time": "2022-08-10T19:36:29.031Z"
   },
   {
    "duration": 13,
    "start_time": "2022-08-10T19:36:29.435Z"
   },
   {
    "duration": 37,
    "start_time": "2022-08-10T19:36:29.450Z"
   },
   {
    "duration": 77,
    "start_time": "2022-08-10T19:36:29.488Z"
   },
   {
    "duration": 11,
    "start_time": "2022-08-10T19:36:29.567Z"
   },
   {
    "duration": 33,
    "start_time": "2022-08-10T19:36:29.580Z"
   },
   {
    "duration": 43,
    "start_time": "2022-08-10T19:36:29.615Z"
   },
   {
    "duration": 25,
    "start_time": "2022-08-10T19:36:29.660Z"
   },
   {
    "duration": 23,
    "start_time": "2022-08-10T19:36:29.687Z"
   },
   {
    "duration": 512,
    "start_time": "2022-08-10T19:36:45.929Z"
   },
   {
    "duration": 579,
    "start_time": "2022-08-10T19:37:58.167Z"
   },
   {
    "duration": 505,
    "start_time": "2022-08-10T19:38:05.689Z"
   },
   {
    "duration": 130,
    "start_time": "2022-08-10T19:38:14.238Z"
   },
   {
    "duration": 284,
    "start_time": "2022-08-10T19:40:28.336Z"
   },
   {
    "duration": 1170,
    "start_time": "2022-08-10T19:40:54.863Z"
   },
   {
    "duration": 708,
    "start_time": "2022-08-10T19:40:56.035Z"
   },
   {
    "duration": 110,
    "start_time": "2022-08-10T19:40:56.747Z"
   },
   {
    "duration": 12,
    "start_time": "2022-08-10T19:40:56.859Z"
   },
   {
    "duration": 132,
    "start_time": "2022-08-10T19:40:56.874Z"
   },
   {
    "duration": 12,
    "start_time": "2022-08-10T19:40:57.008Z"
   },
   {
    "duration": 22,
    "start_time": "2022-08-10T19:40:57.022Z"
   },
   {
    "duration": 8,
    "start_time": "2022-08-10T19:40:57.055Z"
   },
   {
    "duration": 30,
    "start_time": "2022-08-10T19:40:57.064Z"
   },
   {
    "duration": 34,
    "start_time": "2022-08-10T19:40:57.096Z"
   },
   {
    "duration": 5,
    "start_time": "2022-08-10T19:40:57.131Z"
   },
   {
    "duration": 8,
    "start_time": "2022-08-10T19:40:57.137Z"
   },
   {
    "duration": 607,
    "start_time": "2022-08-10T19:40:57.146Z"
   },
   {
    "duration": 2,
    "start_time": "2022-08-10T19:40:57.756Z"
   },
   {
    "duration": 50,
    "start_time": "2022-08-10T19:41:17.369Z"
   },
   {
    "duration": 6,
    "start_time": "2022-08-10T19:41:31.549Z"
   },
   {
    "duration": 1217,
    "start_time": "2022-08-10T19:41:37.693Z"
   },
   {
    "duration": 711,
    "start_time": "2022-08-10T19:41:38.912Z"
   },
   {
    "duration": 84,
    "start_time": "2022-08-10T19:41:39.625Z"
   },
   {
    "duration": 13,
    "start_time": "2022-08-10T19:41:39.711Z"
   },
   {
    "duration": 115,
    "start_time": "2022-08-10T19:41:39.725Z"
   },
   {
    "duration": 17,
    "start_time": "2022-08-10T19:41:39.841Z"
   },
   {
    "duration": 17,
    "start_time": "2022-08-10T19:41:39.860Z"
   },
   {
    "duration": 8,
    "start_time": "2022-08-10T19:41:39.878Z"
   },
   {
    "duration": 23,
    "start_time": "2022-08-10T19:41:39.888Z"
   },
   {
    "duration": 42,
    "start_time": "2022-08-10T19:41:39.913Z"
   },
   {
    "duration": 5,
    "start_time": "2022-08-10T19:41:39.957Z"
   },
   {
    "duration": 32,
    "start_time": "2022-08-10T19:41:39.963Z"
   },
   {
    "duration": 587,
    "start_time": "2022-08-10T19:41:39.996Z"
   },
   {
    "duration": 4,
    "start_time": "2022-08-10T19:41:40.584Z"
   },
   {
    "duration": 535,
    "start_time": "2022-08-10T19:41:40.589Z"
   },
   {
    "duration": 7,
    "start_time": "2022-08-10T19:41:41.126Z"
   },
   {
    "duration": 646,
    "start_time": "2022-08-10T19:41:41.134Z"
   },
   {
    "duration": 10,
    "start_time": "2022-08-10T19:41:41.781Z"
   },
   {
    "duration": 18,
    "start_time": "2022-08-10T19:41:41.793Z"
   },
   {
    "duration": 49,
    "start_time": "2022-08-10T19:41:41.812Z"
   },
   {
    "duration": 9,
    "start_time": "2022-08-10T19:41:41.863Z"
   },
   {
    "duration": 86,
    "start_time": "2022-08-10T19:41:41.873Z"
   },
   {
    "duration": 319,
    "start_time": "2022-08-10T19:41:41.961Z"
   },
   {
    "duration": 13,
    "start_time": "2022-08-10T19:41:42.283Z"
   },
   {
    "duration": 73,
    "start_time": "2022-08-10T19:41:42.298Z"
   },
   {
    "duration": 28,
    "start_time": "2022-08-10T19:41:42.373Z"
   },
   {
    "duration": 12,
    "start_time": "2022-08-10T19:41:42.403Z"
   },
   {
    "duration": 30,
    "start_time": "2022-08-10T19:41:42.456Z"
   },
   {
    "duration": 23,
    "start_time": "2022-08-10T19:41:42.487Z"
   },
   {
    "duration": 45,
    "start_time": "2022-08-10T19:41:42.512Z"
   },
   {
    "duration": 24,
    "start_time": "2022-08-10T19:41:42.559Z"
   },
   {
    "duration": 590,
    "start_time": "2022-08-10T19:41:57.965Z"
   },
   {
    "duration": 662,
    "start_time": "2022-08-10T19:43:17.059Z"
   },
   {
    "duration": 501,
    "start_time": "2022-08-10T19:43:33.838Z"
   },
   {
    "duration": 13,
    "start_time": "2022-08-10T19:44:30.139Z"
   },
   {
    "duration": 13,
    "start_time": "2022-08-10T19:45:00.969Z"
   },
   {
    "duration": 12,
    "start_time": "2022-08-10T19:46:03.932Z"
   },
   {
    "duration": 3,
    "start_time": "2022-08-10T19:46:56.874Z"
   },
   {
    "duration": 10,
    "start_time": "2022-08-10T19:47:09.675Z"
   },
   {
    "duration": 9,
    "start_time": "2022-08-10T19:47:20.230Z"
   },
   {
    "duration": 11,
    "start_time": "2022-08-10T19:47:28.330Z"
   },
   {
    "duration": 4,
    "start_time": "2022-08-10T19:47:31.883Z"
   },
   {
    "duration": 225,
    "start_time": "2022-08-10T19:48:42.987Z"
   },
   {
    "duration": 504,
    "start_time": "2022-08-10T19:50:13.836Z"
   },
   {
    "duration": 541,
    "start_time": "2022-08-10T19:50:38.782Z"
   },
   {
    "duration": 602,
    "start_time": "2022-08-10T19:50:43.289Z"
   },
   {
    "duration": 512,
    "start_time": "2022-08-10T19:51:09.663Z"
   },
   {
    "duration": 553,
    "start_time": "2022-08-10T19:51:26.875Z"
   },
   {
    "duration": 685,
    "start_time": "2022-08-10T19:53:06.547Z"
   },
   {
    "duration": 528,
    "start_time": "2022-08-10T19:53:35.966Z"
   },
   {
    "duration": 760,
    "start_time": "2022-08-10T19:54:17.157Z"
   },
   {
    "duration": 508,
    "start_time": "2022-08-10T19:54:43.239Z"
   },
   {
    "duration": 537,
    "start_time": "2022-08-10T19:54:51.456Z"
   },
   {
    "duration": 660,
    "start_time": "2022-08-10T19:54:59.059Z"
   },
   {
    "duration": 4,
    "start_time": "2022-08-10T19:56:29.152Z"
   },
   {
    "duration": 1179,
    "start_time": "2022-08-10T19:57:57.039Z"
   },
   {
    "duration": 139,
    "start_time": "2022-08-10T19:57:58.220Z"
   },
   {
    "duration": 85,
    "start_time": "2022-08-10T19:57:58.361Z"
   },
   {
    "duration": 11,
    "start_time": "2022-08-10T19:57:58.455Z"
   },
   {
    "duration": 124,
    "start_time": "2022-08-10T19:57:58.468Z"
   },
   {
    "duration": 10,
    "start_time": "2022-08-10T19:57:58.594Z"
   },
   {
    "duration": 17,
    "start_time": "2022-08-10T19:57:58.606Z"
   },
   {
    "duration": 8,
    "start_time": "2022-08-10T19:57:58.624Z"
   },
   {
    "duration": 32,
    "start_time": "2022-08-10T19:57:58.633Z"
   },
   {
    "duration": 27,
    "start_time": "2022-08-10T19:57:58.666Z"
   },
   {
    "duration": 5,
    "start_time": "2022-08-10T19:57:58.695Z"
   },
   {
    "duration": 5,
    "start_time": "2022-08-10T19:57:58.701Z"
   },
   {
    "duration": 582,
    "start_time": "2022-08-10T19:57:58.708Z"
   },
   {
    "duration": 3,
    "start_time": "2022-08-10T19:57:59.292Z"
   },
   {
    "duration": 573,
    "start_time": "2022-08-10T19:57:59.296Z"
   },
   {
    "duration": 8,
    "start_time": "2022-08-10T19:57:59.871Z"
   },
   {
    "duration": 720,
    "start_time": "2022-08-10T19:57:59.881Z"
   },
   {
    "duration": 9,
    "start_time": "2022-08-10T19:58:00.602Z"
   },
   {
    "duration": 22,
    "start_time": "2022-08-10T19:58:00.613Z"
   },
   {
    "duration": 37,
    "start_time": "2022-08-10T19:58:00.637Z"
   },
   {
    "duration": 8,
    "start_time": "2022-08-10T19:58:00.676Z"
   },
   {
    "duration": 90,
    "start_time": "2022-08-10T19:58:00.686Z"
   },
   {
    "duration": 343,
    "start_time": "2022-08-10T19:58:00.777Z"
   },
   {
    "duration": 13,
    "start_time": "2022-08-10T19:58:01.122Z"
   },
   {
    "duration": 47,
    "start_time": "2022-08-10T19:58:01.137Z"
   },
   {
    "duration": 69,
    "start_time": "2022-08-10T19:58:01.186Z"
   },
   {
    "duration": 13,
    "start_time": "2022-08-10T19:58:01.257Z"
   },
   {
    "duration": 36,
    "start_time": "2022-08-10T19:58:01.271Z"
   },
   {
    "duration": 24,
    "start_time": "2022-08-10T19:58:01.308Z"
   },
   {
    "duration": 42,
    "start_time": "2022-08-10T19:58:01.334Z"
   },
   {
    "duration": 23,
    "start_time": "2022-08-10T19:58:01.378Z"
   },
   {
    "duration": 5,
    "start_time": "2022-08-10T20:00:08.500Z"
   },
   {
    "duration": 10,
    "start_time": "2022-08-10T20:00:50.143Z"
   },
   {
    "duration": 6,
    "start_time": "2022-08-10T20:01:04.352Z"
   },
   {
    "duration": 6,
    "start_time": "2022-08-10T20:01:09.168Z"
   },
   {
    "duration": 5,
    "start_time": "2022-08-10T20:01:15.031Z"
   },
   {
    "duration": 5,
    "start_time": "2022-08-10T20:01:29.225Z"
   },
   {
    "duration": 5,
    "start_time": "2022-08-10T20:01:36.330Z"
   },
   {
    "duration": 5,
    "start_time": "2022-08-10T20:01:40.490Z"
   },
   {
    "duration": 5,
    "start_time": "2022-08-10T20:01:43.730Z"
   },
   {
    "duration": 80,
    "start_time": "2022-08-10T20:02:40.728Z"
   },
   {
    "duration": 7,
    "start_time": "2022-08-10T20:02:55.670Z"
   },
   {
    "duration": 7,
    "start_time": "2022-08-10T20:03:00.042Z"
   },
   {
    "duration": 703,
    "start_time": "2022-08-10T20:03:42.673Z"
   },
   {
    "duration": 9,
    "start_time": "2022-08-10T20:04:04.029Z"
   },
   {
    "duration": 14,
    "start_time": "2022-08-10T20:04:06.832Z"
   },
   {
    "duration": 70,
    "start_time": "2022-08-10T20:04:28.673Z"
   },
   {
    "duration": 51,
    "start_time": "2022-08-10T20:04:32.426Z"
   },
   {
    "duration": 12,
    "start_time": "2022-08-10T20:05:29.510Z"
   },
   {
    "duration": 12,
    "start_time": "2022-08-10T20:06:45.200Z"
   },
   {
    "duration": 24,
    "start_time": "2022-08-10T20:09:41.602Z"
   },
   {
    "duration": 24,
    "start_time": "2022-08-10T20:09:59.469Z"
   },
   {
    "duration": 24,
    "start_time": "2022-08-10T20:10:06.267Z"
   },
   {
    "duration": 137,
    "start_time": "2022-08-10T20:12:48.101Z"
   },
   {
    "duration": 17,
    "start_time": "2022-08-10T20:12:59.288Z"
   },
   {
    "duration": 21,
    "start_time": "2022-08-10T20:13:27.352Z"
   },
   {
    "duration": 20,
    "start_time": "2022-08-10T20:13:41.121Z"
   },
   {
    "duration": 16,
    "start_time": "2022-08-10T20:13:45.061Z"
   },
   {
    "duration": 20,
    "start_time": "2022-08-10T20:13:52.256Z"
   },
   {
    "duration": 1115,
    "start_time": "2022-08-10T20:14:29.078Z"
   },
   {
    "duration": 146,
    "start_time": "2022-08-10T20:14:30.195Z"
   },
   {
    "duration": 95,
    "start_time": "2022-08-10T20:14:30.343Z"
   },
   {
    "duration": 22,
    "start_time": "2022-08-10T20:14:30.440Z"
   },
   {
    "duration": 130,
    "start_time": "2022-08-10T20:14:30.464Z"
   },
   {
    "duration": 12,
    "start_time": "2022-08-10T20:14:30.595Z"
   },
   {
    "duration": 24,
    "start_time": "2022-08-10T20:14:30.608Z"
   },
   {
    "duration": 22,
    "start_time": "2022-08-10T20:14:30.634Z"
   },
   {
    "duration": 16,
    "start_time": "2022-08-10T20:14:30.658Z"
   },
   {
    "duration": 42,
    "start_time": "2022-08-10T20:14:30.676Z"
   },
   {
    "duration": 7,
    "start_time": "2022-08-10T20:14:30.720Z"
   },
   {
    "duration": 34,
    "start_time": "2022-08-10T20:14:30.728Z"
   },
   {
    "duration": 608,
    "start_time": "2022-08-10T20:14:30.764Z"
   },
   {
    "duration": 3,
    "start_time": "2022-08-10T20:14:31.373Z"
   },
   {
    "duration": 594,
    "start_time": "2022-08-10T20:14:31.377Z"
   },
   {
    "duration": 9,
    "start_time": "2022-08-10T20:14:31.973Z"
   },
   {
    "duration": 4,
    "start_time": "2022-08-10T20:14:31.984Z"
   },
   {
    "duration": 668,
    "start_time": "2022-08-10T20:14:31.989Z"
   },
   {
    "duration": 8,
    "start_time": "2022-08-10T20:14:32.659Z"
   },
   {
    "duration": 52,
    "start_time": "2022-08-10T20:14:32.669Z"
   },
   {
    "duration": 42,
    "start_time": "2022-08-10T20:14:32.722Z"
   },
   {
    "duration": 8,
    "start_time": "2022-08-10T20:14:32.765Z"
   },
   {
    "duration": 60,
    "start_time": "2022-08-10T20:14:32.774Z"
   },
   {
    "duration": 409,
    "start_time": "2022-08-10T20:14:32.836Z"
   },
   {
    "duration": 15,
    "start_time": "2022-08-10T20:14:33.247Z"
   },
   {
    "duration": 35,
    "start_time": "2022-08-10T20:14:33.263Z"
   },
   {
    "duration": 1106,
    "start_time": "2022-08-10T20:15:39.694Z"
   },
   {
    "duration": 140,
    "start_time": "2022-08-10T20:15:40.802Z"
   },
   {
    "duration": 90,
    "start_time": "2022-08-10T20:15:40.943Z"
   },
   {
    "duration": 21,
    "start_time": "2022-08-10T20:15:41.035Z"
   },
   {
    "duration": 118,
    "start_time": "2022-08-10T20:15:41.058Z"
   },
   {
    "duration": 10,
    "start_time": "2022-08-10T20:15:41.178Z"
   },
   {
    "duration": 18,
    "start_time": "2022-08-10T20:15:41.189Z"
   },
   {
    "duration": 9,
    "start_time": "2022-08-10T20:15:41.208Z"
   },
   {
    "duration": 40,
    "start_time": "2022-08-10T20:15:41.219Z"
   },
   {
    "duration": 29,
    "start_time": "2022-08-10T20:15:41.260Z"
   },
   {
    "duration": 7,
    "start_time": "2022-08-10T20:15:41.291Z"
   },
   {
    "duration": 6,
    "start_time": "2022-08-10T20:15:41.300Z"
   },
   {
    "duration": 568,
    "start_time": "2022-08-10T20:15:41.308Z"
   },
   {
    "duration": 3,
    "start_time": "2022-08-10T20:15:41.878Z"
   },
   {
    "duration": 584,
    "start_time": "2022-08-10T20:15:41.882Z"
   },
   {
    "duration": 9,
    "start_time": "2022-08-10T20:15:42.467Z"
   },
   {
    "duration": 6,
    "start_time": "2022-08-10T20:15:42.477Z"
   },
   {
    "duration": 653,
    "start_time": "2022-08-10T20:15:42.484Z"
   },
   {
    "duration": 9,
    "start_time": "2022-08-10T20:15:43.138Z"
   },
   {
    "duration": 56,
    "start_time": "2022-08-10T20:15:43.148Z"
   },
   {
    "duration": 27,
    "start_time": "2022-08-10T20:15:43.206Z"
   },
   {
    "duration": 25,
    "start_time": "2022-08-10T20:15:43.235Z"
   },
   {
    "duration": 60,
    "start_time": "2022-08-10T20:15:43.262Z"
   },
   {
    "duration": 373,
    "start_time": "2022-08-10T20:15:43.323Z"
   },
   {
    "duration": 15,
    "start_time": "2022-08-10T20:15:43.697Z"
   },
   {
    "duration": 56,
    "start_time": "2022-08-10T20:15:43.713Z"
   },
   {
    "duration": 17,
    "start_time": "2022-08-10T20:15:43.771Z"
   },
   {
    "duration": 67,
    "start_time": "2022-08-10T20:15:43.789Z"
   },
   {
    "duration": 11,
    "start_time": "2022-08-10T20:15:43.858Z"
   },
   {
    "duration": 36,
    "start_time": "2022-08-10T20:15:43.870Z"
   },
   {
    "duration": 24,
    "start_time": "2022-08-10T20:15:43.908Z"
   },
   {
    "duration": 41,
    "start_time": "2022-08-10T20:15:43.933Z"
   },
   {
    "duration": 23,
    "start_time": "2022-08-10T20:15:43.975Z"
   },
   {
    "duration": 1636,
    "start_time": "2022-08-10T20:15:59.284Z"
   },
   {
    "duration": 1228,
    "start_time": "2022-08-11T05:57:49.295Z"
   },
   {
    "duration": 708,
    "start_time": "2022-08-11T05:57:50.524Z"
   },
   {
    "duration": 88,
    "start_time": "2022-08-11T05:57:51.234Z"
   },
   {
    "duration": 11,
    "start_time": "2022-08-11T05:57:51.323Z"
   },
   {
    "duration": 119,
    "start_time": "2022-08-11T05:57:51.336Z"
   },
   {
    "duration": 10,
    "start_time": "2022-08-11T05:57:51.457Z"
   },
   {
    "duration": 15,
    "start_time": "2022-08-11T05:57:51.469Z"
   },
   {
    "duration": 8,
    "start_time": "2022-08-11T05:57:51.485Z"
   },
   {
    "duration": 19,
    "start_time": "2022-08-11T05:57:51.494Z"
   },
   {
    "duration": 50,
    "start_time": "2022-08-11T05:57:51.514Z"
   },
   {
    "duration": 4,
    "start_time": "2022-08-11T05:57:51.566Z"
   },
   {
    "duration": 5,
    "start_time": "2022-08-11T05:57:51.572Z"
   },
   {
    "duration": 553,
    "start_time": "2022-08-11T05:57:51.578Z"
   },
   {
    "duration": 3,
    "start_time": "2022-08-11T05:57:52.134Z"
   },
   {
    "duration": 571,
    "start_time": "2022-08-11T05:57:52.138Z"
   },
   {
    "duration": 9,
    "start_time": "2022-08-11T05:57:52.711Z"
   },
   {
    "duration": 5,
    "start_time": "2022-08-11T05:57:52.721Z"
   },
   {
    "duration": 574,
    "start_time": "2022-08-11T05:57:52.727Z"
   },
   {
    "duration": 8,
    "start_time": "2022-08-11T05:57:53.302Z"
   },
   {
    "duration": 57,
    "start_time": "2022-08-11T05:57:53.312Z"
   },
   {
    "duration": 25,
    "start_time": "2022-08-11T05:57:53.370Z"
   },
   {
    "duration": 7,
    "start_time": "2022-08-11T05:57:53.397Z"
   },
   {
    "duration": 75,
    "start_time": "2022-08-11T05:57:53.405Z"
   },
   {
    "duration": 366,
    "start_time": "2022-08-11T05:57:53.481Z"
   },
   {
    "duration": 14,
    "start_time": "2022-08-11T05:57:53.848Z"
   },
   {
    "duration": 33,
    "start_time": "2022-08-11T05:57:53.864Z"
   },
   {
    "duration": 1702,
    "start_time": "2022-08-11T05:57:53.898Z"
   },
   {
    "duration": 25,
    "start_time": "2022-08-11T05:57:55.602Z"
   },
   {
    "duration": 12,
    "start_time": "2022-08-11T05:57:55.628Z"
   },
   {
    "duration": 31,
    "start_time": "2022-08-11T05:57:55.655Z"
   },
   {
    "duration": 22,
    "start_time": "2022-08-11T05:57:55.687Z"
   },
   {
    "duration": 24,
    "start_time": "2022-08-11T05:57:55.710Z"
   },
   {
    "duration": 36,
    "start_time": "2022-08-11T05:57:55.735Z"
   },
   {
    "duration": 77,
    "start_time": "2022-08-11T05:58:43.729Z"
   },
   {
    "duration": 75,
    "start_time": "2022-08-11T05:58:56.768Z"
   },
   {
    "duration": 73,
    "start_time": "2022-08-11T05:59:22.288Z"
   },
   {
    "duration": 72,
    "start_time": "2022-08-11T05:59:40.953Z"
   },
   {
    "duration": 74,
    "start_time": "2022-08-11T05:59:57.709Z"
   },
   {
    "duration": 99,
    "start_time": "2022-08-11T06:00:02.754Z"
   },
   {
    "duration": 82,
    "start_time": "2022-08-11T06:00:42.403Z"
   },
   {
    "duration": 4,
    "start_time": "2022-08-11T06:01:32.107Z"
   },
   {
    "duration": 3,
    "start_time": "2022-08-11T06:01:37.839Z"
   },
   {
    "duration": 148,
    "start_time": "2022-08-11T06:01:52.674Z"
   },
   {
    "duration": 3,
    "start_time": "2022-08-11T06:02:01.404Z"
   },
   {
    "duration": 4,
    "start_time": "2022-08-11T06:02:17.218Z"
   },
   {
    "duration": 30,
    "start_time": "2022-08-11T06:02:20.424Z"
   },
   {
    "duration": 4,
    "start_time": "2022-08-11T06:02:35.114Z"
   },
   {
    "duration": 21,
    "start_time": "2022-08-11T06:02:36.207Z"
   },
   {
    "duration": 4,
    "start_time": "2022-08-11T06:03:19.950Z"
   },
   {
    "duration": 18,
    "start_time": "2022-08-11T06:03:20.444Z"
   },
   {
    "duration": 32,
    "start_time": "2022-08-11T06:04:12.638Z"
   },
   {
    "duration": 48,
    "start_time": "2022-08-11T06:04:19.459Z"
   },
   {
    "duration": 23,
    "start_time": "2022-08-11T06:05:22.223Z"
   },
   {
    "duration": 6,
    "start_time": "2022-08-11T06:05:22.514Z"
   },
   {
    "duration": 1074,
    "start_time": "2022-08-11T06:08:33.928Z"
   },
   {
    "duration": 148,
    "start_time": "2022-08-11T06:08:35.003Z"
   },
   {
    "duration": 83,
    "start_time": "2022-08-11T06:08:35.154Z"
   },
   {
    "duration": 22,
    "start_time": "2022-08-11T06:08:35.239Z"
   },
   {
    "duration": 116,
    "start_time": "2022-08-11T06:08:35.262Z"
   },
   {
    "duration": 11,
    "start_time": "2022-08-11T06:08:35.379Z"
   },
   {
    "duration": 17,
    "start_time": "2022-08-11T06:08:35.391Z"
   },
   {
    "duration": 8,
    "start_time": "2022-08-11T06:08:35.410Z"
   },
   {
    "duration": 38,
    "start_time": "2022-08-11T06:08:35.419Z"
   },
   {
    "duration": 27,
    "start_time": "2022-08-11T06:08:35.460Z"
   },
   {
    "duration": 5,
    "start_time": "2022-08-11T06:08:35.489Z"
   },
   {
    "duration": 9,
    "start_time": "2022-08-11T06:08:35.495Z"
   },
   {
    "duration": 570,
    "start_time": "2022-08-11T06:08:35.505Z"
   },
   {
    "duration": 2,
    "start_time": "2022-08-11T06:08:36.077Z"
   },
   {
    "duration": 588,
    "start_time": "2022-08-11T06:08:36.081Z"
   },
   {
    "duration": 10,
    "start_time": "2022-08-11T06:08:36.671Z"
   },
   {
    "duration": 11,
    "start_time": "2022-08-11T06:08:36.683Z"
   },
   {
    "duration": 660,
    "start_time": "2022-08-11T06:08:36.696Z"
   },
   {
    "duration": 11,
    "start_time": "2022-08-11T06:08:37.358Z"
   },
   {
    "duration": 75,
    "start_time": "2022-08-11T06:08:37.370Z"
   },
   {
    "duration": 34,
    "start_time": "2022-08-11T06:08:37.447Z"
   },
   {
    "duration": 9,
    "start_time": "2022-08-11T06:08:37.483Z"
   },
   {
    "duration": 73,
    "start_time": "2022-08-11T06:08:37.494Z"
   },
   {
    "duration": 393,
    "start_time": "2022-08-11T06:08:37.568Z"
   },
   {
    "duration": 13,
    "start_time": "2022-08-11T06:08:37.963Z"
   },
   {
    "duration": 86,
    "start_time": "2022-08-11T06:08:37.978Z"
   },
   {
    "duration": 4,
    "start_time": "2022-08-11T06:08:38.065Z"
   },
   {
    "duration": 83,
    "start_time": "2022-08-11T06:08:38.072Z"
   },
   {
    "duration": 21,
    "start_time": "2022-08-11T06:08:38.157Z"
   },
   {
    "duration": 6,
    "start_time": "2022-08-11T06:08:38.180Z"
   },
   {
    "duration": 14,
    "start_time": "2022-08-11T06:08:38.188Z"
   },
   {
    "duration": 56,
    "start_time": "2022-08-11T06:08:38.204Z"
   },
   {
    "duration": 26,
    "start_time": "2022-08-11T06:08:38.262Z"
   },
   {
    "duration": 29,
    "start_time": "2022-08-11T06:08:38.289Z"
   },
   {
    "duration": 56,
    "start_time": "2022-08-11T06:08:38.320Z"
   },
   {
    "duration": 20,
    "start_time": "2022-08-11T06:12:02.752Z"
   },
   {
    "duration": 1128,
    "start_time": "2022-08-11T06:13:11.650Z"
   },
   {
    "duration": 147,
    "start_time": "2022-08-11T06:13:12.780Z"
   },
   {
    "duration": 91,
    "start_time": "2022-08-11T06:13:12.929Z"
   },
   {
    "duration": 11,
    "start_time": "2022-08-11T06:13:13.021Z"
   },
   {
    "duration": 122,
    "start_time": "2022-08-11T06:13:13.033Z"
   },
   {
    "duration": 10,
    "start_time": "2022-08-11T06:13:13.156Z"
   },
   {
    "duration": 17,
    "start_time": "2022-08-11T06:13:13.167Z"
   },
   {
    "duration": 7,
    "start_time": "2022-08-11T06:13:13.185Z"
   },
   {
    "duration": 17,
    "start_time": "2022-08-11T06:13:13.194Z"
   },
   {
    "duration": 53,
    "start_time": "2022-08-11T06:13:13.212Z"
   },
   {
    "duration": 5,
    "start_time": "2022-08-11T06:13:13.267Z"
   },
   {
    "duration": 5,
    "start_time": "2022-08-11T06:13:13.273Z"
   },
   {
    "duration": 540,
    "start_time": "2022-08-11T06:13:13.279Z"
   },
   {
    "duration": 3,
    "start_time": "2022-08-11T06:13:13.821Z"
   },
   {
    "duration": 603,
    "start_time": "2022-08-11T06:13:13.825Z"
   },
   {
    "duration": 8,
    "start_time": "2022-08-11T06:13:14.430Z"
   },
   {
    "duration": 15,
    "start_time": "2022-08-11T06:13:14.440Z"
   },
   {
    "duration": 595,
    "start_time": "2022-08-11T06:13:14.456Z"
   },
   {
    "duration": 8,
    "start_time": "2022-08-11T06:13:15.053Z"
   },
   {
    "duration": 48,
    "start_time": "2022-08-11T06:13:15.063Z"
   },
   {
    "duration": 43,
    "start_time": "2022-08-11T06:13:15.113Z"
   },
   {
    "duration": 8,
    "start_time": "2022-08-11T06:13:15.158Z"
   },
   {
    "duration": 61,
    "start_time": "2022-08-11T06:13:15.167Z"
   },
   {
    "duration": 380,
    "start_time": "2022-08-11T06:13:15.229Z"
   },
   {
    "duration": 13,
    "start_time": "2022-08-11T06:13:15.611Z"
   },
   {
    "duration": 45,
    "start_time": "2022-08-11T06:13:15.625Z"
   },
   {
    "duration": 3,
    "start_time": "2022-08-11T06:13:15.671Z"
   },
   {
    "duration": 42,
    "start_time": "2022-08-11T06:13:15.676Z"
   },
   {
    "duration": 18,
    "start_time": "2022-08-11T06:13:15.755Z"
   },
   {
    "duration": 11,
    "start_time": "2022-08-11T06:13:15.775Z"
   },
   {
    "duration": 30,
    "start_time": "2022-08-11T06:13:15.788Z"
   },
   {
    "duration": 38,
    "start_time": "2022-08-11T06:13:15.819Z"
   },
   {
    "duration": 23,
    "start_time": "2022-08-11T06:13:15.858Z"
   },
   {
    "duration": 21,
    "start_time": "2022-08-11T06:13:15.882Z"
   },
   {
    "duration": 1162,
    "start_time": "2022-08-11T06:16:32.247Z"
   },
   {
    "duration": 144,
    "start_time": "2022-08-11T06:16:33.411Z"
   },
   {
    "duration": 85,
    "start_time": "2022-08-11T06:16:33.557Z"
   },
   {
    "duration": 18,
    "start_time": "2022-08-11T06:16:33.643Z"
   },
   {
    "duration": 120,
    "start_time": "2022-08-11T06:16:33.663Z"
   },
   {
    "duration": 11,
    "start_time": "2022-08-11T06:16:33.784Z"
   },
   {
    "duration": 16,
    "start_time": "2022-08-11T06:16:33.796Z"
   },
   {
    "duration": 8,
    "start_time": "2022-08-11T06:16:33.814Z"
   },
   {
    "duration": 35,
    "start_time": "2022-08-11T06:16:33.823Z"
   },
   {
    "duration": 27,
    "start_time": "2022-08-11T06:16:33.859Z"
   },
   {
    "duration": 5,
    "start_time": "2022-08-11T06:16:33.887Z"
   },
   {
    "duration": 5,
    "start_time": "2022-08-11T06:16:33.893Z"
   },
   {
    "duration": 585,
    "start_time": "2022-08-11T06:16:33.899Z"
   },
   {
    "duration": 4,
    "start_time": "2022-08-11T06:16:34.486Z"
   },
   {
    "duration": 1271,
    "start_time": "2022-08-11T06:16:34.491Z"
   },
   {
    "duration": 9,
    "start_time": "2022-08-11T06:16:35.764Z"
   },
   {
    "duration": 5,
    "start_time": "2022-08-11T06:16:35.774Z"
   },
   {
    "duration": 836,
    "start_time": "2022-08-11T06:16:35.781Z"
   },
   {
    "duration": 9,
    "start_time": "2022-08-11T06:16:36.618Z"
   },
   {
    "duration": 62,
    "start_time": "2022-08-11T06:16:36.628Z"
   },
   {
    "duration": 28,
    "start_time": "2022-08-11T06:16:36.692Z"
   },
   {
    "duration": 9,
    "start_time": "2022-08-11T06:16:36.721Z"
   },
   {
    "duration": 90,
    "start_time": "2022-08-11T06:16:36.732Z"
   },
   {
    "duration": 398,
    "start_time": "2022-08-11T06:16:36.823Z"
   },
   {
    "duration": 34,
    "start_time": "2022-08-11T06:16:37.223Z"
   },
   {
    "duration": 101,
    "start_time": "2022-08-11T06:16:37.260Z"
   },
   {
    "duration": 4,
    "start_time": "2022-08-11T06:16:37.363Z"
   },
   {
    "duration": 64,
    "start_time": "2022-08-11T06:16:37.369Z"
   },
   {
    "duration": 34,
    "start_time": "2022-08-11T06:16:37.435Z"
   },
   {
    "duration": 16,
    "start_time": "2022-08-11T06:16:37.471Z"
   },
   {
    "duration": 44,
    "start_time": "2022-08-11T06:16:37.489Z"
   },
   {
    "duration": 30,
    "start_time": "2022-08-11T06:16:37.534Z"
   },
   {
    "duration": 30,
    "start_time": "2022-08-11T06:16:37.565Z"
   },
   {
    "duration": 32,
    "start_time": "2022-08-11T06:16:37.596Z"
   },
   {
    "duration": 14,
    "start_time": "2022-08-11T06:17:07.180Z"
   },
   {
    "duration": 20,
    "start_time": "2022-08-11T06:17:19.755Z"
   },
   {
    "duration": 12,
    "start_time": "2022-08-11T06:17:23.006Z"
   },
   {
    "duration": 25,
    "start_time": "2022-08-11T06:17:25.384Z"
   },
   {
    "duration": 23,
    "start_time": "2022-08-11T06:17:27.687Z"
   },
   {
    "duration": 23,
    "start_time": "2022-08-11T06:17:29.112Z"
   },
   {
    "duration": 23,
    "start_time": "2022-08-11T06:17:30.792Z"
   },
   {
    "duration": 1155,
    "start_time": "2022-08-11T06:17:36.762Z"
   },
   {
    "duration": 145,
    "start_time": "2022-08-11T06:17:37.919Z"
   },
   {
    "duration": 107,
    "start_time": "2022-08-11T06:17:38.065Z"
   },
   {
    "duration": 11,
    "start_time": "2022-08-11T06:17:38.173Z"
   },
   {
    "duration": 121,
    "start_time": "2022-08-11T06:17:38.186Z"
   },
   {
    "duration": 10,
    "start_time": "2022-08-11T06:17:38.309Z"
   },
   {
    "duration": 16,
    "start_time": "2022-08-11T06:17:38.321Z"
   },
   {
    "duration": 23,
    "start_time": "2022-08-11T06:17:38.339Z"
   },
   {
    "duration": 20,
    "start_time": "2022-08-11T06:17:38.363Z"
   },
   {
    "duration": 28,
    "start_time": "2022-08-11T06:17:38.384Z"
   },
   {
    "duration": 5,
    "start_time": "2022-08-11T06:17:38.413Z"
   },
   {
    "duration": 5,
    "start_time": "2022-08-11T06:17:38.419Z"
   },
   {
    "duration": 580,
    "start_time": "2022-08-11T06:17:38.425Z"
   },
   {
    "duration": 3,
    "start_time": "2022-08-11T06:17:39.008Z"
   },
   {
    "duration": 614,
    "start_time": "2022-08-11T06:17:39.013Z"
   },
   {
    "duration": 9,
    "start_time": "2022-08-11T06:17:39.628Z"
   },
   {
    "duration": 18,
    "start_time": "2022-08-11T06:17:39.639Z"
   },
   {
    "duration": 629,
    "start_time": "2022-08-11T06:17:39.659Z"
   },
   {
    "duration": 9,
    "start_time": "2022-08-11T06:17:40.289Z"
   },
   {
    "duration": 64,
    "start_time": "2022-08-11T06:17:40.300Z"
   },
   {
    "duration": 29,
    "start_time": "2022-08-11T06:17:40.366Z"
   },
   {
    "duration": 9,
    "start_time": "2022-08-11T06:17:40.397Z"
   },
   {
    "duration": 86,
    "start_time": "2022-08-11T06:17:40.408Z"
   },
   {
    "duration": 413,
    "start_time": "2022-08-11T06:17:40.495Z"
   },
   {
    "duration": 15,
    "start_time": "2022-08-11T06:17:40.909Z"
   },
   {
    "duration": 54,
    "start_time": "2022-08-11T06:17:40.925Z"
   },
   {
    "duration": 5,
    "start_time": "2022-08-11T06:17:40.980Z"
   },
   {
    "duration": 93,
    "start_time": "2022-08-11T06:17:40.986Z"
   },
   {
    "duration": 19,
    "start_time": "2022-08-11T06:17:41.080Z"
   },
   {
    "duration": 12,
    "start_time": "2022-08-11T06:17:41.100Z"
   },
   {
    "duration": 45,
    "start_time": "2022-08-11T06:17:41.113Z"
   },
   {
    "duration": 21,
    "start_time": "2022-08-11T06:17:41.160Z"
   },
   {
    "duration": 23,
    "start_time": "2022-08-11T06:17:41.183Z"
   },
   {
    "duration": 49,
    "start_time": "2022-08-11T06:17:41.207Z"
   }
  ],
  "kernelspec": {
   "display_name": "Python 3 (ipykernel)",
   "language": "python",
   "name": "python3"
  },
  "language_info": {
   "codemirror_mode": {
    "name": "ipython",
    "version": 3
   },
   "file_extension": ".py",
   "mimetype": "text/x-python",
   "name": "python",
   "nbconvert_exporter": "python",
   "pygments_lexer": "ipython3",
   "version": "3.9.13"
  },
  "toc": {
   "base_numbering": 1,
   "nav_menu": {},
   "number_sections": true,
   "sideBar": true,
   "skip_h1_title": true,
   "title_cell": "Table of Contents",
   "title_sidebar": "Contents",
   "toc_cell": false,
   "toc_position": {},
   "toc_section_display": true,
   "toc_window_display": true
  }
 },
 "nbformat": 4,
 "nbformat_minor": 2
}
