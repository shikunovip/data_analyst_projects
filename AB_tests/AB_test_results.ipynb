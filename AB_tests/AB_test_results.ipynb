{
 "cells": [
  {
   "cell_type": "markdown",
   "metadata": {},
   "source": [
    "# Аналитика для крупного интернет-магазина"
   ]
  },
  {
   "cell_type": "markdown",
   "metadata": {},
   "source": [
    "Вместе с отделом маркетинга мы подготовили список гипотез для увеличения выручки.  \n",
    "В данном исследовании необходимо провести приоритезацию гипотез, запустить A/B-тест и проанализировать результаты.\n",
    "\n",
    "**Данные хранятся в следующих файлах:**  \n",
    "- `hypothesis.csv`\n",
    "- `orders.csv`\n",
    "- `visitors.csv`\n",
    "\n",
    "**Описание данных**\n",
    "\n",
    "Файл `hypothesis.csv` Хранит 9 гипотез по увеличению выручки интернет-магазина:  \n",
    "\n",
    "    Hypothesis — краткое описание гипотезы;  \n",
    "    Reach — охват пользователей по 10-балльной шкале;\n",
    "    Impact — влияние на пользователей по 10-балльной шкале;\n",
    "    Confidence — уверенность в гипотезе по 10-балльной шкале;\n",
    "    Efforts — затраты ресурсов на проверку гипотезы по 10-балльной шкале. Чем больше значение Efforts, тем дороже проверка гипотезы.  \n",
    "    \n",
    "Файл `orders.csv` с результатами А/В-теста:  \n",
    "\n",
    "    transactionId — идентификатор заказа;\n",
    "    visitorId — идентификатор пользователя, совершившего заказ;\n",
    "    date — дата, когда был совершён заказ;\n",
    "    revenue — выручка заказа;\n",
    "    group — группа A/B-теста, в которую попал заказ.\n",
    "Файл `visitors.csv` с результатами А/В-теста:  \n",
    "\n",
    "    date — дата;\n",
    "    group — группа A/B-теста;\n",
    "    visitors — количество пользователей в указанную дату в указанной группе A/B-теста\n",
    "\n"
   ]
  },
  {
   "cell_type": "markdown",
   "metadata": {},
   "source": [
    "## Исследование данных и их предобработка"
   ]
  },
  {
   "cell_type": "markdown",
   "metadata": {},
   "source": [
    "Начнем с импорта необходимых для работы библиотек"
   ]
  },
  {
   "cell_type": "code",
   "execution_count": 1,
   "metadata": {},
   "outputs": [],
   "source": [
    "import pandas as pd\n",
    "import matplotlib.pyplot as plt\n",
    "import seaborn as sns\n",
    "import scipy.stats as stats\n",
    "import datetime as dt\n",
    "import numpy as np\n",
    "from pandas.plotting import register_matplotlib_converters\n",
    "import warnings"
   ]
  },
  {
   "cell_type": "markdown",
   "metadata": {},
   "source": [
    "Испортируем предоставленные файлы и сохраним в переменных с такими же названиями:"
   ]
  },
  {
   "cell_type": "code",
   "execution_count": 2,
   "metadata": {},
   "outputs": [],
   "source": [
    "try:\n",
    "    hypothesis, orders, visitors = (pd.read_csv('/datasets/hypothesis.csv'),\n",
    "                       pd.read_csv('/datasets/orders.csv'),\n",
    "                       pd.read_csv('/datasets/visitors.csv'))\n",
    "except:\n",
    "    hypothesis, orders, visitors = (pd.read_csv('hypothesis.csv'),\n",
    "                       pd.read_csv('orders.csv'),\n",
    "                       pd.read_csv('visitors.csv'))"
   ]
  },
  {
   "cell_type": "markdown",
   "metadata": {},
   "source": [
    "Поскольку у нас 3 датафрейма, напишем небольшую обзорную функцию, которая даст нам все первичные сведения о датафрейме:"
   ]
  },
  {
   "cell_type": "code",
   "execution_count": 3,
   "metadata": {},
   "outputs": [],
   "source": [
    "def view_func(data):\n",
    "    '''\n",
    "    Обзорная функция для получения первичной информации о датафрейме\n",
    "    -Вывод первых пяти строк\n",
    "    -Применение функции info()\n",
    "    -Доля пропущенных значений по столбцам\n",
    "    -Сумма явных дубликатов\n",
    "    '''\n",
    "    print('Внешний вид датафрейма:')\n",
    "    display(data.head(5))\n",
    "    print('``````````````````````````````````````````````````')\n",
    "    print('Типы данных, кол-во строк и столбцов:')\n",
    "    print(data.info())\n",
    "    print('``````````````````````````````````````````````````')\n",
    "    print('Доля пропущенных значений:')    \n",
    "    print(data.isnull().mean())\n",
    "    print('``````````````````````````````````````````````````')\n",
    "    print('Количество явных дубликатов:')\n",
    "    print(data.duplicated().sum())\n",
    "    print('``````````````````````````````````````````````````')"
   ]
  },
  {
   "cell_type": "markdown",
   "metadata": {},
   "source": [
    "### Предобработка данных таблицы hypothesis"
   ]
  },
  {
   "cell_type": "markdown",
   "metadata": {},
   "source": [
    "Изучим данные файла `hypothesis`"
   ]
  },
  {
   "cell_type": "code",
   "execution_count": 4,
   "metadata": {},
   "outputs": [
    {
     "name": "stdout",
     "output_type": "stream",
     "text": [
      "Внешний вид датафрейма:\n"
     ]
    },
    {
     "data": {
      "text/html": [
       "<div>\n",
       "<style scoped>\n",
       "    .dataframe tbody tr th:only-of-type {\n",
       "        vertical-align: middle;\n",
       "    }\n",
       "\n",
       "    .dataframe tbody tr th {\n",
       "        vertical-align: top;\n",
       "    }\n",
       "\n",
       "    .dataframe thead th {\n",
       "        text-align: right;\n",
       "    }\n",
       "</style>\n",
       "<table border=\"1\" class=\"dataframe\">\n",
       "  <thead>\n",
       "    <tr style=\"text-align: right;\">\n",
       "      <th></th>\n",
       "      <th>Hypothesis</th>\n",
       "      <th>Reach</th>\n",
       "      <th>Impact</th>\n",
       "      <th>Confidence</th>\n",
       "      <th>Efforts</th>\n",
       "    </tr>\n",
       "  </thead>\n",
       "  <tbody>\n",
       "    <tr>\n",
       "      <th>0</th>\n",
       "      <td>Добавить два новых канала привлечения трафика,...</td>\n",
       "      <td>3</td>\n",
       "      <td>10</td>\n",
       "      <td>8</td>\n",
       "      <td>6</td>\n",
       "    </tr>\n",
       "    <tr>\n",
       "      <th>1</th>\n",
       "      <td>Запустить собственную службу доставки, что сок...</td>\n",
       "      <td>2</td>\n",
       "      <td>5</td>\n",
       "      <td>4</td>\n",
       "      <td>10</td>\n",
       "    </tr>\n",
       "    <tr>\n",
       "      <th>2</th>\n",
       "      <td>Добавить блоки рекомендаций товаров на сайт ин...</td>\n",
       "      <td>8</td>\n",
       "      <td>3</td>\n",
       "      <td>7</td>\n",
       "      <td>3</td>\n",
       "    </tr>\n",
       "    <tr>\n",
       "      <th>3</th>\n",
       "      <td>Изменить структура категорий, что увеличит кон...</td>\n",
       "      <td>8</td>\n",
       "      <td>3</td>\n",
       "      <td>3</td>\n",
       "      <td>8</td>\n",
       "    </tr>\n",
       "    <tr>\n",
       "      <th>4</th>\n",
       "      <td>Изменить цвет фона главной страницы, чтобы уве...</td>\n",
       "      <td>3</td>\n",
       "      <td>1</td>\n",
       "      <td>1</td>\n",
       "      <td>1</td>\n",
       "    </tr>\n",
       "  </tbody>\n",
       "</table>\n",
       "</div>"
      ],
      "text/plain": [
       "                                          Hypothesis  Reach  Impact  \\\n",
       "0  Добавить два новых канала привлечения трафика,...      3      10   \n",
       "1  Запустить собственную службу доставки, что сок...      2       5   \n",
       "2  Добавить блоки рекомендаций товаров на сайт ин...      8       3   \n",
       "3  Изменить структура категорий, что увеличит кон...      8       3   \n",
       "4  Изменить цвет фона главной страницы, чтобы уве...      3       1   \n",
       "\n",
       "   Confidence  Efforts  \n",
       "0           8        6  \n",
       "1           4       10  \n",
       "2           7        3  \n",
       "3           3        8  \n",
       "4           1        1  "
      ]
     },
     "metadata": {},
     "output_type": "display_data"
    },
    {
     "name": "stdout",
     "output_type": "stream",
     "text": [
      "``````````````````````````````````````````````````\n",
      "Типы данных, кол-во строк и столбцов:\n",
      "<class 'pandas.core.frame.DataFrame'>\n",
      "RangeIndex: 9 entries, 0 to 8\n",
      "Data columns (total 5 columns):\n",
      " #   Column      Non-Null Count  Dtype \n",
      "---  ------      --------------  ----- \n",
      " 0   Hypothesis  9 non-null      object\n",
      " 1   Reach       9 non-null      int64 \n",
      " 2   Impact      9 non-null      int64 \n",
      " 3   Confidence  9 non-null      int64 \n",
      " 4   Efforts     9 non-null      int64 \n",
      "dtypes: int64(4), object(1)\n",
      "memory usage: 488.0+ bytes\n",
      "None\n",
      "``````````````````````````````````````````````````\n",
      "Доля пропущенных значений:\n",
      "Hypothesis    0.0\n",
      "Reach         0.0\n",
      "Impact        0.0\n",
      "Confidence    0.0\n",
      "Efforts       0.0\n",
      "dtype: float64\n",
      "``````````````````````````````````````````````````\n",
      "Количество явных дубликатов:\n",
      "0\n",
      "``````````````````````````````````````````````````\n"
     ]
    }
   ],
   "source": [
    "view_func(hypothesis)"
   ]
  },
  {
   "cell_type": "markdown",
   "metadata": {},
   "source": [
    "Данные без пропусков и дубликатов, однако приведем названия колонок к нижнему регистру:"
   ]
  },
  {
   "cell_type": "code",
   "execution_count": 5,
   "metadata": {},
   "outputs": [
    {
     "data": {
      "text/html": [
       "<div>\n",
       "<style scoped>\n",
       "    .dataframe tbody tr th:only-of-type {\n",
       "        vertical-align: middle;\n",
       "    }\n",
       "\n",
       "    .dataframe tbody tr th {\n",
       "        vertical-align: top;\n",
       "    }\n",
       "\n",
       "    .dataframe thead th {\n",
       "        text-align: right;\n",
       "    }\n",
       "</style>\n",
       "<table border=\"1\" class=\"dataframe\">\n",
       "  <thead>\n",
       "    <tr style=\"text-align: right;\">\n",
       "      <th></th>\n",
       "      <th>hypothesis</th>\n",
       "      <th>reach</th>\n",
       "      <th>impact</th>\n",
       "      <th>confidence</th>\n",
       "      <th>efforts</th>\n",
       "    </tr>\n",
       "  </thead>\n",
       "  <tbody>\n",
       "    <tr>\n",
       "      <th>0</th>\n",
       "      <td>Добавить два новых канала привлечения трафика,...</td>\n",
       "      <td>3</td>\n",
       "      <td>10</td>\n",
       "      <td>8</td>\n",
       "      <td>6</td>\n",
       "    </tr>\n",
       "    <tr>\n",
       "      <th>1</th>\n",
       "      <td>Запустить собственную службу доставки, что сок...</td>\n",
       "      <td>2</td>\n",
       "      <td>5</td>\n",
       "      <td>4</td>\n",
       "      <td>10</td>\n",
       "    </tr>\n",
       "    <tr>\n",
       "      <th>2</th>\n",
       "      <td>Добавить блоки рекомендаций товаров на сайт ин...</td>\n",
       "      <td>8</td>\n",
       "      <td>3</td>\n",
       "      <td>7</td>\n",
       "      <td>3</td>\n",
       "    </tr>\n",
       "    <tr>\n",
       "      <th>3</th>\n",
       "      <td>Изменить структура категорий, что увеличит кон...</td>\n",
       "      <td>8</td>\n",
       "      <td>3</td>\n",
       "      <td>3</td>\n",
       "      <td>8</td>\n",
       "    </tr>\n",
       "    <tr>\n",
       "      <th>4</th>\n",
       "      <td>Изменить цвет фона главной страницы, чтобы уве...</td>\n",
       "      <td>3</td>\n",
       "      <td>1</td>\n",
       "      <td>1</td>\n",
       "      <td>1</td>\n",
       "    </tr>\n",
       "  </tbody>\n",
       "</table>\n",
       "</div>"
      ],
      "text/plain": [
       "                                          hypothesis  reach  impact  \\\n",
       "0  Добавить два новых канала привлечения трафика,...      3      10   \n",
       "1  Запустить собственную службу доставки, что сок...      2       5   \n",
       "2  Добавить блоки рекомендаций товаров на сайт ин...      8       3   \n",
       "3  Изменить структура категорий, что увеличит кон...      8       3   \n",
       "4  Изменить цвет фона главной страницы, чтобы уве...      3       1   \n",
       "\n",
       "   confidence  efforts  \n",
       "0           8        6  \n",
       "1           4       10  \n",
       "2           7        3  \n",
       "3           3        8  \n",
       "4           1        1  "
      ]
     },
     "execution_count": 5,
     "metadata": {},
     "output_type": "execute_result"
    }
   ],
   "source": [
    "hypothesis = hypothesis.rename(columns=str.lower)\n",
    "hypothesis.head(5)"
   ]
  },
  {
   "cell_type": "markdown",
   "metadata": {},
   "source": [
    "### Предобработка данных таблицы orders"
   ]
  },
  {
   "cell_type": "markdown",
   "metadata": {},
   "source": [
    "Изучим данные файла `orders`"
   ]
  },
  {
   "cell_type": "code",
   "execution_count": 6,
   "metadata": {},
   "outputs": [
    {
     "name": "stdout",
     "output_type": "stream",
     "text": [
      "Внешний вид датафрейма:\n"
     ]
    },
    {
     "data": {
      "text/html": [
       "<div>\n",
       "<style scoped>\n",
       "    .dataframe tbody tr th:only-of-type {\n",
       "        vertical-align: middle;\n",
       "    }\n",
       "\n",
       "    .dataframe tbody tr th {\n",
       "        vertical-align: top;\n",
       "    }\n",
       "\n",
       "    .dataframe thead th {\n",
       "        text-align: right;\n",
       "    }\n",
       "</style>\n",
       "<table border=\"1\" class=\"dataframe\">\n",
       "  <thead>\n",
       "    <tr style=\"text-align: right;\">\n",
       "      <th></th>\n",
       "      <th>transactionId</th>\n",
       "      <th>visitorId</th>\n",
       "      <th>date</th>\n",
       "      <th>revenue</th>\n",
       "      <th>group</th>\n",
       "    </tr>\n",
       "  </thead>\n",
       "  <tbody>\n",
       "    <tr>\n",
       "      <th>0</th>\n",
       "      <td>3667963787</td>\n",
       "      <td>3312258926</td>\n",
       "      <td>2019-08-15</td>\n",
       "      <td>1650</td>\n",
       "      <td>B</td>\n",
       "    </tr>\n",
       "    <tr>\n",
       "      <th>1</th>\n",
       "      <td>2804400009</td>\n",
       "      <td>3642806036</td>\n",
       "      <td>2019-08-15</td>\n",
       "      <td>730</td>\n",
       "      <td>B</td>\n",
       "    </tr>\n",
       "    <tr>\n",
       "      <th>2</th>\n",
       "      <td>2961555356</td>\n",
       "      <td>4069496402</td>\n",
       "      <td>2019-08-15</td>\n",
       "      <td>400</td>\n",
       "      <td>A</td>\n",
       "    </tr>\n",
       "    <tr>\n",
       "      <th>3</th>\n",
       "      <td>3797467345</td>\n",
       "      <td>1196621759</td>\n",
       "      <td>2019-08-15</td>\n",
       "      <td>9759</td>\n",
       "      <td>B</td>\n",
       "    </tr>\n",
       "    <tr>\n",
       "      <th>4</th>\n",
       "      <td>2282983706</td>\n",
       "      <td>2322279887</td>\n",
       "      <td>2019-08-15</td>\n",
       "      <td>2308</td>\n",
       "      <td>B</td>\n",
       "    </tr>\n",
       "  </tbody>\n",
       "</table>\n",
       "</div>"
      ],
      "text/plain": [
       "   transactionId   visitorId        date  revenue group\n",
       "0     3667963787  3312258926  2019-08-15     1650     B\n",
       "1     2804400009  3642806036  2019-08-15      730     B\n",
       "2     2961555356  4069496402  2019-08-15      400     A\n",
       "3     3797467345  1196621759  2019-08-15     9759     B\n",
       "4     2282983706  2322279887  2019-08-15     2308     B"
      ]
     },
     "metadata": {},
     "output_type": "display_data"
    },
    {
     "name": "stdout",
     "output_type": "stream",
     "text": [
      "``````````````````````````````````````````````````\n",
      "Типы данных, кол-во строк и столбцов:\n",
      "<class 'pandas.core.frame.DataFrame'>\n",
      "RangeIndex: 1197 entries, 0 to 1196\n",
      "Data columns (total 5 columns):\n",
      " #   Column         Non-Null Count  Dtype \n",
      "---  ------         --------------  ----- \n",
      " 0   transactionId  1197 non-null   int64 \n",
      " 1   visitorId      1197 non-null   int64 \n",
      " 2   date           1197 non-null   object\n",
      " 3   revenue        1197 non-null   int64 \n",
      " 4   group          1197 non-null   object\n",
      "dtypes: int64(3), object(2)\n",
      "memory usage: 46.9+ KB\n",
      "None\n",
      "``````````````````````````````````````````````````\n",
      "Доля пропущенных значений:\n",
      "transactionId    0.0\n",
      "visitorId        0.0\n",
      "date             0.0\n",
      "revenue          0.0\n",
      "group            0.0\n",
      "dtype: float64\n",
      "``````````````````````````````````````````````````\n",
      "Количество явных дубликатов:\n",
      "0\n",
      "``````````````````````````````````````````````````\n"
     ]
    }
   ],
   "source": [
    "view_func(orders)"
   ]
  },
  {
   "cell_type": "markdown",
   "metadata": {},
   "source": [
    "Данные без пропусков и дубликатов, однако приведем названия колонок к нормальному виду, и поменяем тип данных в колонке date:"
   ]
  },
  {
   "cell_type": "code",
   "execution_count": 7,
   "metadata": {},
   "outputs": [],
   "source": [
    "orders = orders.rename(columns={'transactionId' : 'transaction_id',\n",
    "                                'visitorId' : 'visitor_id'})\n",
    "orders['date'] = orders['date'].map(\n",
    "    lambda x: dt.datetime.strptime(x, '%Y-%m-%d'))"
   ]
  },
  {
   "cell_type": "code",
   "execution_count": 8,
   "metadata": {},
   "outputs": [
    {
     "data": {
      "text/html": [
       "<div>\n",
       "<style scoped>\n",
       "    .dataframe tbody tr th:only-of-type {\n",
       "        vertical-align: middle;\n",
       "    }\n",
       "\n",
       "    .dataframe tbody tr th {\n",
       "        vertical-align: top;\n",
       "    }\n",
       "\n",
       "    .dataframe thead th {\n",
       "        text-align: right;\n",
       "    }\n",
       "</style>\n",
       "<table border=\"1\" class=\"dataframe\">\n",
       "  <thead>\n",
       "    <tr style=\"text-align: right;\">\n",
       "      <th></th>\n",
       "      <th>transaction_id</th>\n",
       "      <th>visitor_id</th>\n",
       "      <th>date</th>\n",
       "      <th>revenue</th>\n",
       "      <th>group</th>\n",
       "    </tr>\n",
       "  </thead>\n",
       "  <tbody>\n",
       "    <tr>\n",
       "      <th>0</th>\n",
       "      <td>3667963787</td>\n",
       "      <td>3312258926</td>\n",
       "      <td>2019-08-15</td>\n",
       "      <td>1650</td>\n",
       "      <td>B</td>\n",
       "    </tr>\n",
       "    <tr>\n",
       "      <th>1</th>\n",
       "      <td>2804400009</td>\n",
       "      <td>3642806036</td>\n",
       "      <td>2019-08-15</td>\n",
       "      <td>730</td>\n",
       "      <td>B</td>\n",
       "    </tr>\n",
       "    <tr>\n",
       "      <th>2</th>\n",
       "      <td>2961555356</td>\n",
       "      <td>4069496402</td>\n",
       "      <td>2019-08-15</td>\n",
       "      <td>400</td>\n",
       "      <td>A</td>\n",
       "    </tr>\n",
       "    <tr>\n",
       "      <th>3</th>\n",
       "      <td>3797467345</td>\n",
       "      <td>1196621759</td>\n",
       "      <td>2019-08-15</td>\n",
       "      <td>9759</td>\n",
       "      <td>B</td>\n",
       "    </tr>\n",
       "    <tr>\n",
       "      <th>4</th>\n",
       "      <td>2282983706</td>\n",
       "      <td>2322279887</td>\n",
       "      <td>2019-08-15</td>\n",
       "      <td>2308</td>\n",
       "      <td>B</td>\n",
       "    </tr>\n",
       "  </tbody>\n",
       "</table>\n",
       "</div>"
      ],
      "text/plain": [
       "   transaction_id  visitor_id       date  revenue group\n",
       "0      3667963787  3312258926 2019-08-15     1650     B\n",
       "1      2804400009  3642806036 2019-08-15      730     B\n",
       "2      2961555356  4069496402 2019-08-15      400     A\n",
       "3      3797467345  1196621759 2019-08-15     9759     B\n",
       "4      2282983706  2322279887 2019-08-15     2308     B"
      ]
     },
     "metadata": {},
     "output_type": "display_data"
    },
    {
     "name": "stdout",
     "output_type": "stream",
     "text": [
      "<class 'pandas.core.frame.DataFrame'>\n",
      "RangeIndex: 1197 entries, 0 to 1196\n",
      "Data columns (total 5 columns):\n",
      " #   Column          Non-Null Count  Dtype         \n",
      "---  ------          --------------  -----         \n",
      " 0   transaction_id  1197 non-null   int64         \n",
      " 1   visitor_id      1197 non-null   int64         \n",
      " 2   date            1197 non-null   datetime64[ns]\n",
      " 3   revenue         1197 non-null   int64         \n",
      " 4   group           1197 non-null   object        \n",
      "dtypes: datetime64[ns](1), int64(3), object(1)\n",
      "memory usage: 46.9+ KB\n"
     ]
    }
   ],
   "source": [
    "display(orders.head(5))\n",
    "orders.info()"
   ]
  },
  {
   "cell_type": "markdown",
   "metadata": {},
   "source": [
    "### Предобработка данных таблицы visitors"
   ]
  },
  {
   "cell_type": "code",
   "execution_count": 9,
   "metadata": {},
   "outputs": [
    {
     "name": "stdout",
     "output_type": "stream",
     "text": [
      "Внешний вид датафрейма:\n"
     ]
    },
    {
     "data": {
      "text/html": [
       "<div>\n",
       "<style scoped>\n",
       "    .dataframe tbody tr th:only-of-type {\n",
       "        vertical-align: middle;\n",
       "    }\n",
       "\n",
       "    .dataframe tbody tr th {\n",
       "        vertical-align: top;\n",
       "    }\n",
       "\n",
       "    .dataframe thead th {\n",
       "        text-align: right;\n",
       "    }\n",
       "</style>\n",
       "<table border=\"1\" class=\"dataframe\">\n",
       "  <thead>\n",
       "    <tr style=\"text-align: right;\">\n",
       "      <th></th>\n",
       "      <th>date</th>\n",
       "      <th>group</th>\n",
       "      <th>visitors</th>\n",
       "    </tr>\n",
       "  </thead>\n",
       "  <tbody>\n",
       "    <tr>\n",
       "      <th>0</th>\n",
       "      <td>2019-08-01</td>\n",
       "      <td>A</td>\n",
       "      <td>719</td>\n",
       "    </tr>\n",
       "    <tr>\n",
       "      <th>1</th>\n",
       "      <td>2019-08-02</td>\n",
       "      <td>A</td>\n",
       "      <td>619</td>\n",
       "    </tr>\n",
       "    <tr>\n",
       "      <th>2</th>\n",
       "      <td>2019-08-03</td>\n",
       "      <td>A</td>\n",
       "      <td>507</td>\n",
       "    </tr>\n",
       "    <tr>\n",
       "      <th>3</th>\n",
       "      <td>2019-08-04</td>\n",
       "      <td>A</td>\n",
       "      <td>717</td>\n",
       "    </tr>\n",
       "    <tr>\n",
       "      <th>4</th>\n",
       "      <td>2019-08-05</td>\n",
       "      <td>A</td>\n",
       "      <td>756</td>\n",
       "    </tr>\n",
       "  </tbody>\n",
       "</table>\n",
       "</div>"
      ],
      "text/plain": [
       "         date group  visitors\n",
       "0  2019-08-01     A       719\n",
       "1  2019-08-02     A       619\n",
       "2  2019-08-03     A       507\n",
       "3  2019-08-04     A       717\n",
       "4  2019-08-05     A       756"
      ]
     },
     "metadata": {},
     "output_type": "display_data"
    },
    {
     "name": "stdout",
     "output_type": "stream",
     "text": [
      "``````````````````````````````````````````````````\n",
      "Типы данных, кол-во строк и столбцов:\n",
      "<class 'pandas.core.frame.DataFrame'>\n",
      "RangeIndex: 62 entries, 0 to 61\n",
      "Data columns (total 3 columns):\n",
      " #   Column    Non-Null Count  Dtype \n",
      "---  ------    --------------  ----- \n",
      " 0   date      62 non-null     object\n",
      " 1   group     62 non-null     object\n",
      " 2   visitors  62 non-null     int64 \n",
      "dtypes: int64(1), object(2)\n",
      "memory usage: 1.6+ KB\n",
      "None\n",
      "``````````````````````````````````````````````````\n",
      "Доля пропущенных значений:\n",
      "date        0.0\n",
      "group       0.0\n",
      "visitors    0.0\n",
      "dtype: float64\n",
      "``````````````````````````````````````````````````\n",
      "Количество явных дубликатов:\n",
      "0\n",
      "``````````````````````````````````````````````````\n"
     ]
    }
   ],
   "source": [
    "view_func(visitors)"
   ]
  },
  {
   "cell_type": "markdown",
   "metadata": {},
   "source": [
    "Данные без пропусков и дубликатов, как и в таблице orders, поменяем тип данных в колонке date:"
   ]
  },
  {
   "cell_type": "code",
   "execution_count": 10,
   "metadata": {},
   "outputs": [],
   "source": [
    "visitors['date'] = visitors['date'].map(\n",
    "    lambda x: dt.datetime.strptime(x, '%Y-%m-%d'))"
   ]
  },
  {
   "cell_type": "code",
   "execution_count": 11,
   "metadata": {},
   "outputs": [
    {
     "data": {
      "text/html": [
       "<div>\n",
       "<style scoped>\n",
       "    .dataframe tbody tr th:only-of-type {\n",
       "        vertical-align: middle;\n",
       "    }\n",
       "\n",
       "    .dataframe tbody tr th {\n",
       "        vertical-align: top;\n",
       "    }\n",
       "\n",
       "    .dataframe thead th {\n",
       "        text-align: right;\n",
       "    }\n",
       "</style>\n",
       "<table border=\"1\" class=\"dataframe\">\n",
       "  <thead>\n",
       "    <tr style=\"text-align: right;\">\n",
       "      <th></th>\n",
       "      <th>date</th>\n",
       "      <th>group</th>\n",
       "      <th>visitors</th>\n",
       "    </tr>\n",
       "  </thead>\n",
       "  <tbody>\n",
       "    <tr>\n",
       "      <th>0</th>\n",
       "      <td>2019-08-01</td>\n",
       "      <td>A</td>\n",
       "      <td>719</td>\n",
       "    </tr>\n",
       "    <tr>\n",
       "      <th>1</th>\n",
       "      <td>2019-08-02</td>\n",
       "      <td>A</td>\n",
       "      <td>619</td>\n",
       "    </tr>\n",
       "    <tr>\n",
       "      <th>2</th>\n",
       "      <td>2019-08-03</td>\n",
       "      <td>A</td>\n",
       "      <td>507</td>\n",
       "    </tr>\n",
       "    <tr>\n",
       "      <th>3</th>\n",
       "      <td>2019-08-04</td>\n",
       "      <td>A</td>\n",
       "      <td>717</td>\n",
       "    </tr>\n",
       "    <tr>\n",
       "      <th>4</th>\n",
       "      <td>2019-08-05</td>\n",
       "      <td>A</td>\n",
       "      <td>756</td>\n",
       "    </tr>\n",
       "  </tbody>\n",
       "</table>\n",
       "</div>"
      ],
      "text/plain": [
       "        date group  visitors\n",
       "0 2019-08-01     A       719\n",
       "1 2019-08-02     A       619\n",
       "2 2019-08-03     A       507\n",
       "3 2019-08-04     A       717\n",
       "4 2019-08-05     A       756"
      ]
     },
     "metadata": {},
     "output_type": "display_data"
    },
    {
     "name": "stdout",
     "output_type": "stream",
     "text": [
      "<class 'pandas.core.frame.DataFrame'>\n",
      "RangeIndex: 62 entries, 0 to 61\n",
      "Data columns (total 3 columns):\n",
      " #   Column    Non-Null Count  Dtype         \n",
      "---  ------    --------------  -----         \n",
      " 0   date      62 non-null     datetime64[ns]\n",
      " 1   group     62 non-null     object        \n",
      " 2   visitors  62 non-null     int64         \n",
      "dtypes: datetime64[ns](1), int64(1), object(1)\n",
      "memory usage: 1.6+ KB\n"
     ]
    }
   ],
   "source": [
    "display(visitors.head(5))\n",
    "visitors.info()"
   ]
  },
  {
   "cell_type": "markdown",
   "metadata": {},
   "source": [
    "### Промежуточный вывод"
   ]
  },
  {
   "cell_type": "markdown",
   "metadata": {},
   "source": [
    "В предоставленных таблицах мы исправили типы данных в колонках с датами для удобства будущих вычислений, а также привели все названия столбцов в однообразному виду.\n",
    "Явных дубликатов не обнаружено."
   ]
  },
  {
   "cell_type": "markdown",
   "metadata": {},
   "source": [
    "##  Приоритизация гипотез"
   ]
  },
  {
   "cell_type": "markdown",
   "metadata": {},
   "source": [
    "### Расчеты"
   ]
  },
  {
   "cell_type": "markdown",
   "metadata": {},
   "source": [
    "Применим фреймворк ICE для приоритизации гипотез и отсортируем их по убыванию приоритета"
   ]
  },
  {
   "cell_type": "code",
   "execution_count": 12,
   "metadata": {},
   "outputs": [
    {
     "data": {
      "text/html": [
       "<div>\n",
       "<style scoped>\n",
       "    .dataframe tbody tr th:only-of-type {\n",
       "        vertical-align: middle;\n",
       "    }\n",
       "\n",
       "    .dataframe tbody tr th {\n",
       "        vertical-align: top;\n",
       "    }\n",
       "\n",
       "    .dataframe thead th {\n",
       "        text-align: right;\n",
       "    }\n",
       "</style>\n",
       "<table border=\"1\" class=\"dataframe\">\n",
       "  <thead>\n",
       "    <tr style=\"text-align: right;\">\n",
       "      <th></th>\n",
       "      <th>hypothesis</th>\n",
       "      <th>reach</th>\n",
       "      <th>impact</th>\n",
       "      <th>confidence</th>\n",
       "      <th>efforts</th>\n",
       "    </tr>\n",
       "  </thead>\n",
       "  <tbody>\n",
       "    <tr>\n",
       "      <th>0</th>\n",
       "      <td>Добавить два новых канала привлечения трафика, что позволит привлекать на 30% больше пользователей</td>\n",
       "      <td>3</td>\n",
       "      <td>10</td>\n",
       "      <td>8</td>\n",
       "      <td>6</td>\n",
       "    </tr>\n",
       "    <tr>\n",
       "      <th>1</th>\n",
       "      <td>Запустить собственную службу доставки, что сократит срок доставки заказов</td>\n",
       "      <td>2</td>\n",
       "      <td>5</td>\n",
       "      <td>4</td>\n",
       "      <td>10</td>\n",
       "    </tr>\n",
       "    <tr>\n",
       "      <th>2</th>\n",
       "      <td>Добавить блоки рекомендаций товаров на сайт интернет магазина, чтобы повысить конверсию и средний чек заказа</td>\n",
       "      <td>8</td>\n",
       "      <td>3</td>\n",
       "      <td>7</td>\n",
       "      <td>3</td>\n",
       "    </tr>\n",
       "    <tr>\n",
       "      <th>3</th>\n",
       "      <td>Изменить структура категорий, что увеличит конверсию, т.к. пользователи быстрее найдут нужный товар</td>\n",
       "      <td>8</td>\n",
       "      <td>3</td>\n",
       "      <td>3</td>\n",
       "      <td>8</td>\n",
       "    </tr>\n",
       "    <tr>\n",
       "      <th>4</th>\n",
       "      <td>Изменить цвет фона главной страницы, чтобы увеличить вовлеченность пользователей</td>\n",
       "      <td>3</td>\n",
       "      <td>1</td>\n",
       "      <td>1</td>\n",
       "      <td>1</td>\n",
       "    </tr>\n",
       "    <tr>\n",
       "      <th>5</th>\n",
       "      <td>Добавить страницу отзывов клиентов о магазине, что позволит увеличить количество заказов</td>\n",
       "      <td>3</td>\n",
       "      <td>2</td>\n",
       "      <td>2</td>\n",
       "      <td>3</td>\n",
       "    </tr>\n",
       "    <tr>\n",
       "      <th>6</th>\n",
       "      <td>Показать на главной странице баннеры с актуальными акциями и распродажами, чтобы увеличить конверсию</td>\n",
       "      <td>5</td>\n",
       "      <td>3</td>\n",
       "      <td>8</td>\n",
       "      <td>3</td>\n",
       "    </tr>\n",
       "    <tr>\n",
       "      <th>7</th>\n",
       "      <td>Добавить форму подписки на все основные страницы, чтобы собрать базу клиентов для email-рассылок</td>\n",
       "      <td>10</td>\n",
       "      <td>7</td>\n",
       "      <td>8</td>\n",
       "      <td>5</td>\n",
       "    </tr>\n",
       "    <tr>\n",
       "      <th>8</th>\n",
       "      <td>Запустить акцию, дающую скидку на товар в день рождения</td>\n",
       "      <td>1</td>\n",
       "      <td>9</td>\n",
       "      <td>9</td>\n",
       "      <td>5</td>\n",
       "    </tr>\n",
       "  </tbody>\n",
       "</table>\n",
       "</div>"
      ],
      "text/plain": [
       "                                                                                                     hypothesis  \\\n",
       "0            Добавить два новых канала привлечения трафика, что позволит привлекать на 30% больше пользователей   \n",
       "1                                     Запустить собственную службу доставки, что сократит срок доставки заказов   \n",
       "2  Добавить блоки рекомендаций товаров на сайт интернет магазина, чтобы повысить конверсию и средний чек заказа   \n",
       "3           Изменить структура категорий, что увеличит конверсию, т.к. пользователи быстрее найдут нужный товар   \n",
       "4                              Изменить цвет фона главной страницы, чтобы увеличить вовлеченность пользователей   \n",
       "5                      Добавить страницу отзывов клиентов о магазине, что позволит увеличить количество заказов   \n",
       "6          Показать на главной странице баннеры с актуальными акциями и распродажами, чтобы увеличить конверсию   \n",
       "7              Добавить форму подписки на все основные страницы, чтобы собрать базу клиентов для email-рассылок   \n",
       "8                                                       Запустить акцию, дающую скидку на товар в день рождения   \n",
       "\n",
       "   reach  impact  confidence  efforts  \n",
       "0      3      10           8        6  \n",
       "1      2       5           4       10  \n",
       "2      8       3           7        3  \n",
       "3      8       3           3        8  \n",
       "4      3       1           1        1  \n",
       "5      3       2           2        3  \n",
       "6      5       3           8        3  \n",
       "7     10       7           8        5  \n",
       "8      1       9           9        5  "
      ]
     },
     "execution_count": 12,
     "metadata": {},
     "output_type": "execute_result"
    }
   ],
   "source": [
    "pd.set_option(\"display.max_colwidth\", 1000)\n",
    "hypothesis"
   ]
  },
  {
   "cell_type": "code",
   "execution_count": 13,
   "metadata": {},
   "outputs": [
    {
     "data": {
      "text/html": [
       "<div>\n",
       "<style scoped>\n",
       "    .dataframe tbody tr th:only-of-type {\n",
       "        vertical-align: middle;\n",
       "    }\n",
       "\n",
       "    .dataframe tbody tr th {\n",
       "        vertical-align: top;\n",
       "    }\n",
       "\n",
       "    .dataframe thead th {\n",
       "        text-align: right;\n",
       "    }\n",
       "</style>\n",
       "<table border=\"1\" class=\"dataframe\">\n",
       "  <thead>\n",
       "    <tr style=\"text-align: right;\">\n",
       "      <th></th>\n",
       "      <th>hypothesis</th>\n",
       "      <th>ICE</th>\n",
       "    </tr>\n",
       "  </thead>\n",
       "  <tbody>\n",
       "    <tr>\n",
       "      <th>8</th>\n",
       "      <td>Запустить акцию, дающую скидку на товар в день рождения</td>\n",
       "      <td>16.20</td>\n",
       "    </tr>\n",
       "    <tr>\n",
       "      <th>0</th>\n",
       "      <td>Добавить два новых канала привлечения трафика, что позволит привлекать на 30% больше пользователей</td>\n",
       "      <td>13.33</td>\n",
       "    </tr>\n",
       "    <tr>\n",
       "      <th>7</th>\n",
       "      <td>Добавить форму подписки на все основные страницы, чтобы собрать базу клиентов для email-рассылок</td>\n",
       "      <td>11.20</td>\n",
       "    </tr>\n",
       "    <tr>\n",
       "      <th>6</th>\n",
       "      <td>Показать на главной странице баннеры с актуальными акциями и распродажами, чтобы увеличить конверсию</td>\n",
       "      <td>8.00</td>\n",
       "    </tr>\n",
       "    <tr>\n",
       "      <th>2</th>\n",
       "      <td>Добавить блоки рекомендаций товаров на сайт интернет магазина, чтобы повысить конверсию и средний чек заказа</td>\n",
       "      <td>7.00</td>\n",
       "    </tr>\n",
       "    <tr>\n",
       "      <th>1</th>\n",
       "      <td>Запустить собственную службу доставки, что сократит срок доставки заказов</td>\n",
       "      <td>2.00</td>\n",
       "    </tr>\n",
       "    <tr>\n",
       "      <th>5</th>\n",
       "      <td>Добавить страницу отзывов клиентов о магазине, что позволит увеличить количество заказов</td>\n",
       "      <td>1.33</td>\n",
       "    </tr>\n",
       "    <tr>\n",
       "      <th>3</th>\n",
       "      <td>Изменить структура категорий, что увеличит конверсию, т.к. пользователи быстрее найдут нужный товар</td>\n",
       "      <td>1.12</td>\n",
       "    </tr>\n",
       "    <tr>\n",
       "      <th>4</th>\n",
       "      <td>Изменить цвет фона главной страницы, чтобы увеличить вовлеченность пользователей</td>\n",
       "      <td>1.00</td>\n",
       "    </tr>\n",
       "  </tbody>\n",
       "</table>\n",
       "</div>"
      ],
      "text/plain": [
       "                                                                                                     hypothesis  \\\n",
       "8                                                       Запустить акцию, дающую скидку на товар в день рождения   \n",
       "0            Добавить два новых канала привлечения трафика, что позволит привлекать на 30% больше пользователей   \n",
       "7              Добавить форму подписки на все основные страницы, чтобы собрать базу клиентов для email-рассылок   \n",
       "6          Показать на главной странице баннеры с актуальными акциями и распродажами, чтобы увеличить конверсию   \n",
       "2  Добавить блоки рекомендаций товаров на сайт интернет магазина, чтобы повысить конверсию и средний чек заказа   \n",
       "1                                     Запустить собственную службу доставки, что сократит срок доставки заказов   \n",
       "5                      Добавить страницу отзывов клиентов о магазине, что позволит увеличить количество заказов   \n",
       "3           Изменить структура категорий, что увеличит конверсию, т.к. пользователи быстрее найдут нужный товар   \n",
       "4                              Изменить цвет фона главной страницы, чтобы увеличить вовлеченность пользователей   \n",
       "\n",
       "     ICE  \n",
       "8  16.20  \n",
       "0  13.33  \n",
       "7  11.20  \n",
       "6   8.00  \n",
       "2   7.00  \n",
       "1   2.00  \n",
       "5   1.33  \n",
       "3   1.12  \n",
       "4   1.00  "
      ]
     },
     "metadata": {},
     "output_type": "display_data"
    }
   ],
   "source": [
    "hypothesis['ICE'] = (hypothesis['impact'] * hypothesis['confidence']) / hypothesis['efforts']\n",
    "hypothesis['ICE'] = round(hypothesis['ICE'],2)\n",
    "display(hypothesis[['hypothesis', 'ICE']].sort_values(by='ICE', ascending=False))"
   ]
  },
  {
   "cell_type": "markdown",
   "metadata": {},
   "source": [
    "Применим фреймворк RICE для приоритизации гипотез и отсортируйте их по убыванию приоритета"
   ]
  },
  {
   "cell_type": "code",
   "execution_count": 14,
   "metadata": {},
   "outputs": [
    {
     "data": {
      "text/html": [
       "<div>\n",
       "<style scoped>\n",
       "    .dataframe tbody tr th:only-of-type {\n",
       "        vertical-align: middle;\n",
       "    }\n",
       "\n",
       "    .dataframe tbody tr th {\n",
       "        vertical-align: top;\n",
       "    }\n",
       "\n",
       "    .dataframe thead th {\n",
       "        text-align: right;\n",
       "    }\n",
       "</style>\n",
       "<table border=\"1\" class=\"dataframe\">\n",
       "  <thead>\n",
       "    <tr style=\"text-align: right;\">\n",
       "      <th></th>\n",
       "      <th>hypothesis</th>\n",
       "      <th>RICE</th>\n",
       "    </tr>\n",
       "  </thead>\n",
       "  <tbody>\n",
       "    <tr>\n",
       "      <th>7</th>\n",
       "      <td>Добавить форму подписки на все основные страницы, чтобы собрать базу клиентов для email-рассылок</td>\n",
       "      <td>112.0</td>\n",
       "    </tr>\n",
       "    <tr>\n",
       "      <th>2</th>\n",
       "      <td>Добавить блоки рекомендаций товаров на сайт интернет магазина, чтобы повысить конверсию и средний чек заказа</td>\n",
       "      <td>56.0</td>\n",
       "    </tr>\n",
       "    <tr>\n",
       "      <th>0</th>\n",
       "      <td>Добавить два новых канала привлечения трафика, что позволит привлекать на 30% больше пользователей</td>\n",
       "      <td>40.0</td>\n",
       "    </tr>\n",
       "    <tr>\n",
       "      <th>6</th>\n",
       "      <td>Показать на главной странице баннеры с актуальными акциями и распродажами, чтобы увеличить конверсию</td>\n",
       "      <td>40.0</td>\n",
       "    </tr>\n",
       "    <tr>\n",
       "      <th>8</th>\n",
       "      <td>Запустить акцию, дающую скидку на товар в день рождения</td>\n",
       "      <td>16.2</td>\n",
       "    </tr>\n",
       "    <tr>\n",
       "      <th>3</th>\n",
       "      <td>Изменить структура категорий, что увеличит конверсию, т.к. пользователи быстрее найдут нужный товар</td>\n",
       "      <td>9.0</td>\n",
       "    </tr>\n",
       "    <tr>\n",
       "      <th>1</th>\n",
       "      <td>Запустить собственную службу доставки, что сократит срок доставки заказов</td>\n",
       "      <td>4.0</td>\n",
       "    </tr>\n",
       "    <tr>\n",
       "      <th>5</th>\n",
       "      <td>Добавить страницу отзывов клиентов о магазине, что позволит увеличить количество заказов</td>\n",
       "      <td>4.0</td>\n",
       "    </tr>\n",
       "    <tr>\n",
       "      <th>4</th>\n",
       "      <td>Изменить цвет фона главной страницы, чтобы увеличить вовлеченность пользователей</td>\n",
       "      <td>3.0</td>\n",
       "    </tr>\n",
       "  </tbody>\n",
       "</table>\n",
       "</div>"
      ],
      "text/plain": [
       "                                                                                                     hypothesis  \\\n",
       "7              Добавить форму подписки на все основные страницы, чтобы собрать базу клиентов для email-рассылок   \n",
       "2  Добавить блоки рекомендаций товаров на сайт интернет магазина, чтобы повысить конверсию и средний чек заказа   \n",
       "0            Добавить два новых канала привлечения трафика, что позволит привлекать на 30% больше пользователей   \n",
       "6          Показать на главной странице баннеры с актуальными акциями и распродажами, чтобы увеличить конверсию   \n",
       "8                                                       Запустить акцию, дающую скидку на товар в день рождения   \n",
       "3           Изменить структура категорий, что увеличит конверсию, т.к. пользователи быстрее найдут нужный товар   \n",
       "1                                     Запустить собственную службу доставки, что сократит срок доставки заказов   \n",
       "5                      Добавить страницу отзывов клиентов о магазине, что позволит увеличить количество заказов   \n",
       "4                              Изменить цвет фона главной страницы, чтобы увеличить вовлеченность пользователей   \n",
       "\n",
       "    RICE  \n",
       "7  112.0  \n",
       "2   56.0  \n",
       "0   40.0  \n",
       "6   40.0  \n",
       "8   16.2  \n",
       "3    9.0  \n",
       "1    4.0  \n",
       "5    4.0  \n",
       "4    3.0  "
      ]
     },
     "metadata": {},
     "output_type": "display_data"
    }
   ],
   "source": [
    "hypothesis['RICE'] = (hypothesis['reach'] * \n",
    "                      hypothesis['impact'] *\n",
    "                      hypothesis['confidence']) / hypothesis['efforts']\n",
    "display(hypothesis[['hypothesis', 'RICE']].sort_values(by='RICE', ascending=False))"
   ]
  },
  {
   "cell_type": "markdown",
   "metadata": {},
   "source": [
    "### Промежуточный вывод"
   ]
  },
  {
   "cell_type": "markdown",
   "metadata": {},
   "source": [
    "Наиболее перспективные гипотезы по ICE - 8,0,7,6  \n",
    "Однако по RICE наиболее перспективными стали гипотезы - 7,2,0,6.  \n",
    "Это связано с тем, что в фреймворке RICE появляется аргумент reach, который учитывает количество пользователей, которая она затронет, а у гипотезы №7, которая стала самой популярной reach равен 10."
   ]
  },
  {
   "cell_type": "markdown",
   "metadata": {},
   "source": [
    "## Анализ A/B-теста"
   ]
  },
  {
   "cell_type": "markdown",
   "metadata": {},
   "source": [
    "### Подготовка данных"
   ]
  },
  {
   "cell_type": "markdown",
   "metadata": {},
   "source": [
    "#### Изучение получившихся данных"
   ]
  },
  {
   "cell_type": "markdown",
   "metadata": {},
   "source": [
    "Изучим данные, которые получились в результате проведения А/В-тестов."
   ]
  },
  {
   "cell_type": "code",
   "execution_count": 15,
   "metadata": {},
   "outputs": [
    {
     "data": {
      "text/plain": [
       "array(['B', 'A'], dtype=object)"
      ]
     },
     "metadata": {},
     "output_type": "display_data"
    },
    {
     "data": {
      "text/plain": [
       "array(['A', 'B'], dtype=object)"
      ]
     },
     "metadata": {},
     "output_type": "display_data"
    }
   ],
   "source": [
    "display(orders['group'].unique())\n",
    "display(visitors['group'].unique())"
   ]
  },
  {
   "cell_type": "markdown",
   "metadata": {},
   "source": [
    "В тесте 2 группы - А и В"
   ]
  },
  {
   "cell_type": "markdown",
   "metadata": {},
   "source": [
    "Изучим период проведения теста:"
   ]
  },
  {
   "cell_type": "code",
   "execution_count": 16,
   "metadata": {},
   "outputs": [
    {
     "name": "stdout",
     "output_type": "stream",
     "text": [
      "2019-08-01 00:00:00\n",
      "2019-08-31 00:00:00\n"
     ]
    }
   ],
   "source": [
    "print(orders['date'].min())\n",
    "print(orders['date'].max())"
   ]
  },
  {
   "cell_type": "markdown",
   "metadata": {},
   "source": [
    "Период проведения теста - 1 месяц с 1 августа по 31 августа 2019 года."
   ]
  },
  {
   "cell_type": "markdown",
   "metadata": {},
   "source": [
    "Проверим количество пользователей в каждой группе, а также есть ли у нас пользователи, которые попали в обе группы:"
   ]
  },
  {
   "cell_type": "code",
   "execution_count": 17,
   "metadata": {},
   "outputs": [
    {
     "data": {
      "text/html": [
       "<div>\n",
       "<style scoped>\n",
       "    .dataframe tbody tr th:only-of-type {\n",
       "        vertical-align: middle;\n",
       "    }\n",
       "\n",
       "    .dataframe tbody tr th {\n",
       "        vertical-align: top;\n",
       "    }\n",
       "\n",
       "    .dataframe thead th {\n",
       "        text-align: right;\n",
       "    }\n",
       "</style>\n",
       "<table border=\"1\" class=\"dataframe\">\n",
       "  <thead>\n",
       "    <tr style=\"text-align: right;\">\n",
       "      <th></th>\n",
       "      <th>transaction_id</th>\n",
       "      <th>visitor_id</th>\n",
       "      <th>date</th>\n",
       "      <th>revenue</th>\n",
       "      <th>group</th>\n",
       "    </tr>\n",
       "  </thead>\n",
       "  <tbody>\n",
       "    <tr>\n",
       "      <th>0</th>\n",
       "      <td>3667963787</td>\n",
       "      <td>3312258926</td>\n",
       "      <td>2019-08-15</td>\n",
       "      <td>1650</td>\n",
       "      <td>B</td>\n",
       "    </tr>\n",
       "    <tr>\n",
       "      <th>1</th>\n",
       "      <td>2804400009</td>\n",
       "      <td>3642806036</td>\n",
       "      <td>2019-08-15</td>\n",
       "      <td>730</td>\n",
       "      <td>B</td>\n",
       "    </tr>\n",
       "    <tr>\n",
       "      <th>2</th>\n",
       "      <td>2961555356</td>\n",
       "      <td>4069496402</td>\n",
       "      <td>2019-08-15</td>\n",
       "      <td>400</td>\n",
       "      <td>A</td>\n",
       "    </tr>\n",
       "    <tr>\n",
       "      <th>3</th>\n",
       "      <td>3797467345</td>\n",
       "      <td>1196621759</td>\n",
       "      <td>2019-08-15</td>\n",
       "      <td>9759</td>\n",
       "      <td>B</td>\n",
       "    </tr>\n",
       "    <tr>\n",
       "      <th>4</th>\n",
       "      <td>2282983706</td>\n",
       "      <td>2322279887</td>\n",
       "      <td>2019-08-15</td>\n",
       "      <td>2308</td>\n",
       "      <td>B</td>\n",
       "    </tr>\n",
       "  </tbody>\n",
       "</table>\n",
       "</div>"
      ],
      "text/plain": [
       "   transaction_id  visitor_id       date  revenue group\n",
       "0      3667963787  3312258926 2019-08-15     1650     B\n",
       "1      2804400009  3642806036 2019-08-15      730     B\n",
       "2      2961555356  4069496402 2019-08-15      400     A\n",
       "3      3797467345  1196621759 2019-08-15     9759     B\n",
       "4      2282983706  2322279887 2019-08-15     2308     B"
      ]
     },
     "execution_count": 17,
     "metadata": {},
     "output_type": "execute_result"
    }
   ],
   "source": [
    "orders.head(5)"
   ]
  },
  {
   "cell_type": "code",
   "execution_count": 18,
   "metadata": {},
   "outputs": [
    {
     "data": {
      "text/html": [
       "<div>\n",
       "<style scoped>\n",
       "    .dataframe tbody tr th:only-of-type {\n",
       "        vertical-align: middle;\n",
       "    }\n",
       "\n",
       "    .dataframe tbody tr th {\n",
       "        vertical-align: top;\n",
       "    }\n",
       "\n",
       "    .dataframe thead th {\n",
       "        text-align: right;\n",
       "    }\n",
       "</style>\n",
       "<table border=\"1\" class=\"dataframe\">\n",
       "  <thead>\n",
       "    <tr style=\"text-align: right;\">\n",
       "      <th></th>\n",
       "      <th>visitor_id</th>\n",
       "    </tr>\n",
       "    <tr>\n",
       "      <th>group</th>\n",
       "      <th></th>\n",
       "    </tr>\n",
       "  </thead>\n",
       "  <tbody>\n",
       "    <tr>\n",
       "      <th>A</th>\n",
       "      <td>557</td>\n",
       "    </tr>\n",
       "    <tr>\n",
       "      <th>B</th>\n",
       "      <td>640</td>\n",
       "    </tr>\n",
       "  </tbody>\n",
       "</table>\n",
       "</div>"
      ],
      "text/plain": [
       "       visitor_id\n",
       "group            \n",
       "A             557\n",
       "B             640"
      ]
     },
     "execution_count": 18,
     "metadata": {},
     "output_type": "execute_result"
    }
   ],
   "source": [
    "orders.pivot_table(index='group',\n",
    "                  values='visitor_id',\n",
    "                  aggfunc='count')"
   ]
  },
  {
   "cell_type": "code",
   "execution_count": 19,
   "metadata": {},
   "outputs": [
    {
     "name": "stdout",
     "output_type": "stream",
     "text": [
      "89\n"
     ]
    }
   ],
   "source": [
    "orders_a = orders.query('group == \"A\"')\n",
    "orders_b = orders.query('group == \"B\"')\n",
    "c = []\n",
    "for i in orders_a['visitor_id']:\n",
    "    for j in orders_b['visitor_id']:\n",
    "        if i == j:\n",
    "            c.append(i)\n",
    "            break\n",
    " \n",
    "print(len(c))"
   ]
  },
  {
   "cell_type": "markdown",
   "metadata": {},
   "source": [
    "Мы обнаружили, что у нас две группы А и В по 557 и 640 пользователей соответственно, а также 89 пользователей, которые встречаются в обеих группах."
   ]
  },
  {
   "cell_type": "markdown",
   "metadata": {},
   "source": [
    "#### Обработка данных"
   ]
  },
  {
   "cell_type": "markdown",
   "metadata": {},
   "source": [
    "Обработаем результаты orders и visits и сделаем выводы на основании полученных данных.\n",
    "\n",
    "- Создадим датафрейм datesGroups с уникальными парами значений 'date' и 'group', таблицы orders. Избавьтесь от дубликатов методом drop_duplicates()  \n",
    "\n",
    "- Объявим переменную ordersAggregated, содержащую:\n",
    "\n",
    "    дату;  \n",
    "    группу A/B-теста;  \n",
    "    число уникальных заказов в группе теста по указанную дату включительно;  \n",
    "    число уникальных пользователей, совершивших хотя бы 1 заказ в группе теста по указанную дату включительно;  \n",
    "    суммарную выручку заказов в группе теста по указанную дату включительно\n",
    "    \n",
    "- Объявим переменную visitorsAggregated, содержащую:\n",
    "\n",
    "    дату;  \n",
    "    группу A/B-теста;  \n",
    "    количество уникальных посетителей в группе теста по указанную дату включительно  \n",
    "\n",
    "- Определим переменную cumulativeData, объединив ordersAggregated и visitorsAggregated по колонкам 'date', 'group' методом merge()\n"
   ]
  },
  {
   "cell_type": "code",
   "execution_count": 20,
   "metadata": {},
   "outputs": [
    {
     "data": {
      "text/html": [
       "<div>\n",
       "<style scoped>\n",
       "    .dataframe tbody tr th:only-of-type {\n",
       "        vertical-align: middle;\n",
       "    }\n",
       "\n",
       "    .dataframe tbody tr th {\n",
       "        vertical-align: top;\n",
       "    }\n",
       "\n",
       "    .dataframe thead th {\n",
       "        text-align: right;\n",
       "    }\n",
       "</style>\n",
       "<table border=\"1\" class=\"dataframe\">\n",
       "  <thead>\n",
       "    <tr style=\"text-align: right;\">\n",
       "      <th></th>\n",
       "      <th>transaction_id</th>\n",
       "      <th>visitor_id</th>\n",
       "      <th>date</th>\n",
       "      <th>revenue</th>\n",
       "      <th>group</th>\n",
       "    </tr>\n",
       "  </thead>\n",
       "  <tbody>\n",
       "    <tr>\n",
       "      <th>0</th>\n",
       "      <td>3667963787</td>\n",
       "      <td>3312258926</td>\n",
       "      <td>2019-08-15</td>\n",
       "      <td>1650</td>\n",
       "      <td>B</td>\n",
       "    </tr>\n",
       "    <tr>\n",
       "      <th>1</th>\n",
       "      <td>2804400009</td>\n",
       "      <td>3642806036</td>\n",
       "      <td>2019-08-15</td>\n",
       "      <td>730</td>\n",
       "      <td>B</td>\n",
       "    </tr>\n",
       "    <tr>\n",
       "      <th>2</th>\n",
       "      <td>2961555356</td>\n",
       "      <td>4069496402</td>\n",
       "      <td>2019-08-15</td>\n",
       "      <td>400</td>\n",
       "      <td>A</td>\n",
       "    </tr>\n",
       "    <tr>\n",
       "      <th>3</th>\n",
       "      <td>3797467345</td>\n",
       "      <td>1196621759</td>\n",
       "      <td>2019-08-15</td>\n",
       "      <td>9759</td>\n",
       "      <td>B</td>\n",
       "    </tr>\n",
       "    <tr>\n",
       "      <th>4</th>\n",
       "      <td>2282983706</td>\n",
       "      <td>2322279887</td>\n",
       "      <td>2019-08-15</td>\n",
       "      <td>2308</td>\n",
       "      <td>B</td>\n",
       "    </tr>\n",
       "  </tbody>\n",
       "</table>\n",
       "</div>"
      ],
      "text/plain": [
       "   transaction_id  visitor_id       date  revenue group\n",
       "0      3667963787  3312258926 2019-08-15     1650     B\n",
       "1      2804400009  3642806036 2019-08-15      730     B\n",
       "2      2961555356  4069496402 2019-08-15      400     A\n",
       "3      3797467345  1196621759 2019-08-15     9759     B\n",
       "4      2282983706  2322279887 2019-08-15     2308     B"
      ]
     },
     "metadata": {},
     "output_type": "display_data"
    },
    {
     "data": {
      "text/html": [
       "<div>\n",
       "<style scoped>\n",
       "    .dataframe tbody tr th:only-of-type {\n",
       "        vertical-align: middle;\n",
       "    }\n",
       "\n",
       "    .dataframe tbody tr th {\n",
       "        vertical-align: top;\n",
       "    }\n",
       "\n",
       "    .dataframe thead th {\n",
       "        text-align: right;\n",
       "    }\n",
       "</style>\n",
       "<table border=\"1\" class=\"dataframe\">\n",
       "  <thead>\n",
       "    <tr style=\"text-align: right;\">\n",
       "      <th></th>\n",
       "      <th>date</th>\n",
       "      <th>group</th>\n",
       "      <th>visitors</th>\n",
       "    </tr>\n",
       "  </thead>\n",
       "  <tbody>\n",
       "    <tr>\n",
       "      <th>0</th>\n",
       "      <td>2019-08-01</td>\n",
       "      <td>A</td>\n",
       "      <td>719</td>\n",
       "    </tr>\n",
       "    <tr>\n",
       "      <th>1</th>\n",
       "      <td>2019-08-02</td>\n",
       "      <td>A</td>\n",
       "      <td>619</td>\n",
       "    </tr>\n",
       "    <tr>\n",
       "      <th>2</th>\n",
       "      <td>2019-08-03</td>\n",
       "      <td>A</td>\n",
       "      <td>507</td>\n",
       "    </tr>\n",
       "    <tr>\n",
       "      <th>3</th>\n",
       "      <td>2019-08-04</td>\n",
       "      <td>A</td>\n",
       "      <td>717</td>\n",
       "    </tr>\n",
       "    <tr>\n",
       "      <th>4</th>\n",
       "      <td>2019-08-05</td>\n",
       "      <td>A</td>\n",
       "      <td>756</td>\n",
       "    </tr>\n",
       "  </tbody>\n",
       "</table>\n",
       "</div>"
      ],
      "text/plain": [
       "        date group  visitors\n",
       "0 2019-08-01     A       719\n",
       "1 2019-08-02     A       619\n",
       "2 2019-08-03     A       507\n",
       "3 2019-08-04     A       717\n",
       "4 2019-08-05     A       756"
      ]
     },
     "metadata": {},
     "output_type": "display_data"
    }
   ],
   "source": [
    "display(orders.head(5))\n",
    "display(visitors.head(5))"
   ]
  },
  {
   "cell_type": "code",
   "execution_count": 21,
   "metadata": {},
   "outputs": [
    {
     "name": "stdout",
     "output_type": "stream",
     "text": [
      "        date group  orders  buyers  revenue  visitors\n",
      "0 2019-08-01     A      24      20   148579       719\n",
      "1 2019-08-01     B      21      20   101217       713\n",
      "2 2019-08-02     A      44      38   242401      1338\n",
      "3 2019-08-02     B      45      43   266748      1294\n",
      "4 2019-08-03     A      68      62   354874      1845\n"
     ]
    }
   ],
   "source": [
    "# создаем массив уникальных пар значений дат и групп теста\n",
    "datesGroups = orders[['date','group']].drop_duplicates()\n",
    "\n",
    "# получаем агрегированные кумулятивные по дням данные о заказах \n",
    "ordersAggregated = datesGroups.apply(\n",
    "    lambda x: orders[\n",
    "        np.logical_and(\n",
    "            orders['date'] <= x['date'], orders['group'] == x['group']\n",
    "        )\n",
    "    ].agg(\n",
    "        {\n",
    "            'date': 'max',\n",
    "            'group': 'max',\n",
    "            'transaction_id': 'nunique',\n",
    "            'visitor_id': 'nunique',\n",
    "            'revenue': 'sum',\n",
    "        }\n",
    "    ),\n",
    "    axis=1,\n",
    ").sort_values(by=['date', 'group'])\n",
    "\n",
    "\n",
    "# получаем агрегированные кумулятивные по дням данные о посетителях интернет-магазина \n",
    "visitorsAggregated = datesGroups.apply(\n",
    "    lambda x: visitors[\n",
    "        np.logical_and(\n",
    "            visitors['date'] <= x['date'], visitors['group'] == x['group']\n",
    "        )\n",
    "    ].agg({'date': 'max', 'group': 'max', 'visitors': 'sum'}),\n",
    "    axis=1,\n",
    ").sort_values(by=['date', 'group'])\n",
    "\n",
    "# объединяем кумулятивные данные в одной таблице и присваиваем ее столбцам понятные названия\n",
    "cumulativeData = ordersAggregated.merge(\n",
    "    visitorsAggregated, left_on=['date', 'group'], right_on=['date', 'group']\n",
    ")\n",
    "\n",
    "cumulativeData.columns = [\n",
    "    'date',\n",
    "    'group',\n",
    "    'orders',\n",
    "    'buyers',\n",
    "    'revenue',\n",
    "    'visitors',\n",
    "]\n",
    "print(cumulativeData.head(5)) \n"
   ]
  },
  {
   "cell_type": "markdown",
   "metadata": {},
   "source": [
    "Объявим переменные cumulativeRevenueA и cumulativeRevenueB, в которых сохраним данные о датах, выручке и числе заказов в группах A и B.\n",
    "Построим графики кумулятивной выручки по дням по группам."
   ]
  },
  {
   "cell_type": "code",
   "execution_count": 22,
   "metadata": {},
   "outputs": [
    {
     "data": {
      "image/png": "[encoded data removed]",
      "text/plain": [
       "<Figure size 1080x720 with 1 Axes>"
      ]
     },
     "metadata": {
      "needs_background": "light"
     },
     "output_type": "display_data"
    }
   ],
   "source": [
    "# конвертеры, которые позволяют использовать типы pandas в matplotlib  \n",
    "register_matplotlib_converters()\n",
    "\n",
    "# датафрейм с кумулятивным количеством заказов и кумулятивной выручкой по дням в группе А\n",
    "cumulativeRevenueA = cumulativeData[cumulativeData['group']=='A'][['date','revenue', 'orders']]\n",
    "\n",
    "# датафрейм с кумулятивным количеством заказов и кумулятивной выручкой по дням в группе B\n",
    "cumulativeRevenueB = cumulativeData[cumulativeData['group']=='B'][['date','revenue', 'orders']]\n",
    "\n",
    "# Строим график выручки группы А\n",
    "plt.figure(figsize=(15,10))\n",
    "plt.title('Графики кумулятивной выручки по дням по группам тестирования',fontsize = 15)\n",
    "plt.xlabel('дата',fontsize = 15)\n",
    "plt.ylabel('кумулятивная выручка', fontsize = 15)\n",
    "plt.plot(cumulativeRevenueA['date'], cumulativeRevenueA['revenue'], label='A')\n",
    "\n",
    "# Строим график выручки группы B\n",
    "plt.plot(cumulativeRevenueB['date'], cumulativeRevenueB['revenue'], label='B')\n",
    "plt.legend();"
   ]
  },
  {
   "cell_type": "markdown",
   "metadata": {},
   "source": [
    "В середине теста сегмент В вырвался вперед и продолжал лидировать в течении всего теста. Похоже, что аномально большие заказы влияют на результаты тестирования, и в будущем анализе от них нужно будет избавиться."
   ]
  },
  {
   "cell_type": "markdown",
   "metadata": {},
   "source": [
    "Для каждой группы построим графики кумулятивного среднего чека по дням"
   ]
  },
  {
   "cell_type": "code",
   "execution_count": 23,
   "metadata": {},
   "outputs": [
    {
     "data": {
      "image/png": "[encoded data removed]",
      "text/plain": [
       "<Figure size 1080x720 with 1 Axes>"
      ]
     },
     "metadata": {
      "needs_background": "light"
     },
     "output_type": "display_data"
    }
   ],
   "source": [
    "plt.figure(figsize=(15,10))\n",
    "plt.title('Графики кумулятивного среднего чека по дням по группам тестирования',fontsize = 15)\n",
    "plt.xlabel('дата',fontsize = 15)\n",
    "plt.ylabel('кумулятивная средний чек', fontsize = 15)\n",
    "plt.plot(cumulativeRevenueA['date'], cumulativeRevenueA['revenue']/cumulativeRevenueA['orders'], label='A')\n",
    "plt.plot(cumulativeRevenueB['date'], cumulativeRevenueB['revenue']/cumulativeRevenueB['orders'], label='B')\n",
    "plt.legend();"
   ]
  },
  {
   "cell_type": "markdown",
   "metadata": {},
   "source": [
    "Средние комулятивные значения очень колеблются, из-за присутствия выбросов и аномалий, делать какие-то выводы по этим показателям рано.  "
   ]
  },
  {
   "cell_type": "markdown",
   "metadata": {},
   "source": [
    "Построим график относительно различия кумулятивного среднего чека группы B к группе A."
   ]
  },
  {
   "cell_type": "code",
   "execution_count": 24,
   "metadata": {},
   "outputs": [
    {
     "data": {
      "image/png": "[encoded data removed]",
      "text/plain": [
       "<Figure size 1080x720 with 1 Axes>"
      ]
     },
     "metadata": {
      "needs_background": "light"
     },
     "output_type": "display_data"
    }
   ],
   "source": [
    "# собираем данные в одном датафрейме\n",
    "mergedCumulativeRevenue = cumulativeRevenueA.merge(cumulativeRevenueB, left_on='date', right_on='date', how='left', suffixes=['A', 'B'])\n",
    "\n",
    "# cтроим отношение средних чеков\n",
    "plt.figure(figsize=(15,10))\n",
    "plt.title('График относительно различия кумулятивного среднего чека группы B к группе A',fontsize = 15)\n",
    "plt.xlabel('дата',fontsize = 15)\n",
    "plt.ylabel('отношение', fontsize = 15)\n",
    "plt.plot(mergedCumulativeRevenue['date'], (mergedCumulativeRevenue['revenueB']/mergedCumulativeRevenue['ordersB'])/(mergedCumulativeRevenue['revenueA']/mergedCumulativeRevenue['ordersA'])-1)\n",
    "\n",
    "# добавляем ось X\n",
    "plt.axhline(y=0, color='black', linestyle='--');"
   ]
  },
  {
   "cell_type": "markdown",
   "metadata": {},
   "source": [
    "График отражает зависимость размера среднего чека группы В к группе А. На графике есть несколько резких изменений, вероятно в эти дни как раз и происходили аномальные заказы.  "
   ]
  },
  {
   "cell_type": "markdown",
   "metadata": {},
   "source": [
    "Построим графики кумулятивной конверсии по дням по группам."
   ]
  },
  {
   "cell_type": "code",
   "execution_count": 25,
   "metadata": {},
   "outputs": [
    {
     "data": {
      "image/png": "[encoded data removed]",
      "text/plain": [
       "<Figure size 1080x360 with 1 Axes>"
      ]
     },
     "metadata": {
      "needs_background": "light"
     },
     "output_type": "display_data"
    }
   ],
   "source": [
    "# считаем кумулятивную конверсию\n",
    "cumulativeData['conversion'] = cumulativeData['orders']/cumulativeData['visitors']\n",
    "\n",
    "# отделяем данные по группе A\n",
    "cumulativeDataA = cumulativeData[cumulativeData['group']=='A']\n",
    "\n",
    "# отделяем данные по группе B\n",
    "cumulativeDataB = cumulativeData[cumulativeData['group']=='B']\n",
    "\n",
    "# строим графики\n",
    "plt.figure(figsize=(15,5))\n",
    "plt.title('График кумулятивной конверсии по дням',fontsize = 15)\n",
    "plt.xlabel('дата',fontsize = 15)\n",
    "plt.ylabel('кумулятивная конверсия', fontsize = 15)\n",
    "plt.plot(cumulativeDataA['date'], cumulativeDataA['conversion'], label='A')\n",
    "plt.plot(cumulativeDataB['date'], cumulativeDataB['conversion'], label='B')\n",
    "plt.legend()\n",
    "# задаем масштаб осей\n",
    "plt.axis([dt.datetime(2019, 8, 1), dt.datetime(2019, 9, 1), 0, 0.05]);"
   ]
  },
  {
   "cell_type": "markdown",
   "metadata": {},
   "source": [
    "В самом начале теста сегмент А имел большую конверисию, но постепенно сегемент В выравнялся у некого среднего значения, превышающего средню конверсию в сегменте А. "
   ]
  },
  {
   "cell_type": "markdown",
   "metadata": {},
   "source": [
    "Построим график относительного различия кумулятивной конверсии группы B к группе A"
   ]
  },
  {
   "cell_type": "code",
   "execution_count": 26,
   "metadata": {},
   "outputs": [
    {
     "data": {
      "image/png": "[encoded data removed]",
      "text/plain": [
       "<Figure size 720x720 with 1 Axes>"
      ]
     },
     "metadata": {
      "needs_background": "light"
     },
     "output_type": "display_data"
    }
   ],
   "source": [
    "mergedCumulativeConversions = cumulativeDataA[['date','conversion']].merge(cumulativeDataB[['date','conversion']], left_on='date', right_on='date', how='left', suffixes=['A', 'B'])\n",
    "plt.figure(figsize=(10,10))\n",
    "plt.title('График отношения кумулятивной конверсии группы В к А',fontsize = 15)\n",
    "plt.xlabel('дата',fontsize = 15)\n",
    "plt.ylabel('отношение', fontsize = 15)\n",
    "plt.plot(mergedCumulativeConversions['date'], mergedCumulativeConversions['conversionB']/mergedCumulativeConversions['conversionA']-1, label=\"Относительный прирост конверсии группы B относительно группы A\")\n",
    "plt.legend()\n",
    "\n",
    "plt.axhline(y=0, color='black', linestyle='--')\n",
    "plt.axhline(y=0.2, color='grey', linestyle='--')\n",
    "plt.axis([\"2019-08-01\", '2019-09-01', -0.5, 0.5]);"
   ]
  },
  {
   "cell_type": "markdown",
   "metadata": {},
   "source": [
    "Относительный прирост конверсии группы В к группе А сильно колеблется в самом начале теста, но на 12 день устанавливается в районе прироста в 20% и постепенно снижается к концу теста."
   ]
  },
  {
   "cell_type": "markdown",
   "metadata": {},
   "source": [
    "Построим точечный график количества заказов по пользователям. "
   ]
  },
  {
   "cell_type": "code",
   "execution_count": 27,
   "metadata": {},
   "outputs": [
    {
     "name": "stdout",
     "output_type": "stream",
     "text": [
      "          userId  orders\n",
      "1023  4256040402      11\n",
      "591   2458001652      11\n",
      "569   2378935119       9\n",
      "487   2038680547       8\n",
      "44     199603092       5\n",
      "744   3062433592       5\n",
      "55     237748145       5\n",
      "917   3803269165       5\n",
      "299   1230306981       5\n",
      "897   3717692402       5\n"
     ]
    },
    {
     "data": {
      "image/png": "[encoded data removed]",
      "text/plain": [
       "<Figure size 720x720 with 1 Axes>"
      ]
     },
     "metadata": {
      "needs_background": "light"
     },
     "output_type": "display_data"
    }
   ],
   "source": [
    "ordersByUsers = (\n",
    "    orders.groupby('visitor_id', as_index=False)\n",
    "    .agg({'transaction_id': 'nunique'})\n",
    ")\n",
    "ordersByUsers.columns = ['userId', 'orders']\n",
    "\n",
    "print(ordersByUsers.sort_values(by='orders', ascending=False).head(10))\n",
    "\n",
    "\n",
    "x_values = pd.Series(range(0,len(ordersByUsers)))\n",
    "plt.figure(figsize=(10,10))\n",
    "plt.title('Количество заказов по пользователям',fontsize = 15)\n",
    "plt.xlabel('пользователь',fontsize = 15)\n",
    "plt.ylabel('количество заказов', fontsize = 15)\n",
    "plt.scatter(x_values, ordersByUsers['orders']) \n",
    "# серия из чисел от 0 до количества наблюдений в ordersByUsers\n",
    "x_values = pd.Series(range(0, len(ordersByUsers)))"
   ]
  },
  {
   "cell_type": "markdown",
   "metadata": {},
   "source": [
    "По получившемуся графику можно сказать, что пользователей совершивших более 2-х заказов очень мало, посчитаем 95-й и 99-й перцентили количества заказов на пользователя для точного определения границы аномальных пользователей."
   ]
  },
  {
   "cell_type": "code",
   "execution_count": 28,
   "metadata": {},
   "outputs": [
    {
     "name": "stdout",
     "output_type": "stream",
     "text": [
      "[1. 2. 4.]\n"
     ]
    }
   ],
   "source": [
    "print(np.percentile(ordersByUsers['orders'], [90, 95, 99])) "
   ]
  },
  {
   "cell_type": "markdown",
   "metadata": {},
   "source": [
    "Всего 5% пользователей, совершивших 2 и более заказов, и всего 1%, которые совершили больше 4."
   ]
  },
  {
   "cell_type": "markdown",
   "metadata": {},
   "source": [
    "Посмотрим на распределение данных по стоимости заказов на графике и посчитаем 95 и 99 перцентили для них:"
   ]
  },
  {
   "cell_type": "code",
   "execution_count": 29,
   "metadata": {},
   "outputs": [
    {
     "name": "stdout",
     "output_type": "stream",
     "text": [
      "      transaction_id  visitor_id       date  revenue group\n",
      "425        590470918  1920142716 2019-08-19  1294500     B\n",
      "1196      3936777065  2108080724 2019-08-15   202740     B\n",
      "858        192721366  1316129916 2019-08-27    93940     A\n",
      "1136       666610489  1307669133 2019-08-13    92550     A\n",
      "744       3668308183   888512513 2019-08-27    86620     B\n",
      "682       1216533772  4266935830 2019-08-29    78990     B\n",
      "662       1811671147  4266935830 2019-08-29    78990     A\n",
      "743       3603576309  4133034833 2019-08-09    67990     A\n",
      "1103      1348774318  1164614297 2019-08-12    66350     A\n",
      "1099       316924019   148427295 2019-08-12    65710     A\n"
     ]
    },
    {
     "data": {
      "image/png": "[encoded data removed]",
      "text/plain": [
       "<Figure size 720x720 with 1 Axes>"
      ]
     },
     "metadata": {
      "needs_background": "light"
     },
     "output_type": "display_data"
    }
   ],
   "source": [
    "print(orders.sort_values(by='revenue', ascending=False).head(10))\n",
    "\n",
    "x_values = pd.Series(range(0, len(orders['revenue'])))\n",
    "plt.figure(figsize=(10,10))\n",
    "plt.title('График стоимости заказов', fontsize = 15)\n",
    "plt.xlabel('пользователи',fontsize = 15)\n",
    "plt.ylabel('стоимость заказа', fontsize = 15)\n",
    "plt.scatter(x_values, orders['revenue']);\n"
   ]
  },
  {
   "cell_type": "markdown",
   "metadata": {},
   "source": [
    "Посмотрим на этот же график, немного смасштабировав его:"
   ]
  },
  {
   "cell_type": "code",
   "execution_count": 30,
   "metadata": {},
   "outputs": [
    {
     "data": {
      "image/png": "[encoded data removed]",
      "text/plain": [
       "<Figure size 720x720 with 1 Axes>"
      ]
     },
     "metadata": {
      "needs_background": "light"
     },
     "output_type": "display_data"
    }
   ],
   "source": [
    "x_values = pd.Series(range(0, len(orders['revenue'])))\n",
    "plt.figure(figsize=(10,10))\n",
    "plt.title('График стоимости заказов', fontsize = 15)\n",
    "plt.xlabel('пользователи',fontsize = 15)\n",
    "plt.ylabel('стоимость заказа', fontsize = 15)\n",
    "plt.ylim(0, 200)\n",
    "plt.scatter(x_values, orders['revenue']/1000);\n"
   ]
  },
  {
   "cell_type": "code",
   "execution_count": 31,
   "metadata": {},
   "outputs": [
    {
     "name": "stdout",
     "output_type": "stream",
     "text": [
      "[18168.  28000.  58233.2]\n"
     ]
    }
   ],
   "source": [
    "print(np.percentile(orders['revenue'], [90,95,99]))"
   ]
  },
  {
   "cell_type": "markdown",
   "metadata": {},
   "source": [
    "Мы установили, что всего 5% заказов стоимостью более 28000 и 1%, которые дороже 58000. "
   ]
  },
  {
   "cell_type": "markdown",
   "metadata": {},
   "source": [
    "### Статистические тесты по \"сырым\" данным"
   ]
  },
  {
   "cell_type": "markdown",
   "metadata": {},
   "source": [
    "Теперь посчитаем статистическую значимость различий в конверсии между группами по «сырым» данным, без удаления аномалий. Для этого объявим переменные sampleA и sampleB, в которых пользователям с заказами будет соответствовать число заказов пользователя. А пользователям без заказов — нули.  "
   ]
  },
  {
   "cell_type": "code",
   "execution_count": 32,
   "metadata": {},
   "outputs": [],
   "source": [
    "ordersByUsersA = (\n",
    "    orders[orders['group'] == 'A']\n",
    "    .groupby('visitor_id', as_index=False)\n",
    "    .agg({'transaction_id': pd.Series.nunique})\n",
    ")\n",
    "ordersByUsersA.columns = ['userId', 'orders']\n",
    "\n",
    "ordersByUsersB = (\n",
    "    orders[orders['group'] == 'B']\n",
    "    .groupby('visitor_id', as_index=False)\n",
    "    .agg({'transaction_id': pd.Series.nunique})\n",
    ")\n",
    "ordersByUsersB.columns = ['userId', 'orders']\n",
    "\n",
    "pd.Series(0, index=np.arange(visitors['visitors'].sum() - len(ordersByUsersA['orders'])), name='orders')\n",
    "\n",
    "[ordersByUsersA['orders'],pd.Series(0, index=np.arange(visitors['visitors'].sum() - len(ordersByUsersA['orders'])), name='orders')] \n",
    "\n",
    "sampleA = pd.concat([ordersByUsersA['orders'],pd.Series(0, index=np.arange((visitors['visitors'][visitors['group']== 'A']).sum() - len(ordersByUsersA['orders'])), name='orders')],axis=0)\n",
    "\n",
    "sampleB = pd.concat([ordersByUsersB['orders'],pd.Series(0, index=np.arange((visitors['visitors'][visitors['group']== 'B']).sum() - len(ordersByUsersB['orders'])), name='orders')],axis=0)\n",
    "\n",
    "\n",
    "sampleA = pd.concat(\n",
    "    [\n",
    "        ordersByUsersA['orders'],\n",
    "        pd.Series(\n",
    "            0,\n",
    "            index=np.arange(\n",
    "                (visitors['visitors'][visitors['group']== 'A']).sum() - len(ordersByUsersA['orders'])\n",
    "            ),\n",
    "            name='orders',\n",
    "        ),\n",
    "    ],\n",
    "    axis=0,\n",
    ")\n",
    "\n",
    "sampleB = pd.concat(\n",
    "    [\n",
    "        ordersByUsersB['orders'],\n",
    "        pd.Series(\n",
    "            0,\n",
    "            index=np.arange(\n",
    "                (visitors['visitors'][visitors['group']== 'B']).sum() - len(ordersByUsersB['orders'])\n",
    "            ),\n",
    "            name='orders',\n",
    "        ),\n",
    "    ],\n",
    "    axis=0,\n",
    ")"
   ]
  },
  {
   "cell_type": "markdown",
   "metadata": {},
   "source": [
    "Проведем проверки критерием Манна-Уитни, который применяется для оценки различий между двумя независимыми выборками по уровню какого-либо признака, измеренного количественно.  \n",
    "\n",
    "`Сформулируем гипотезы.` \n",
    "\n",
    "**Нулевая**: различий в среднем количестве заказов между группами нет\n",
    "\n",
    "**Альтернативная**: различия в среднем между группами есть\n",
    "\n",
    "Уровень статистической значимости alpha зададим = 0.05. \n"
   ]
  },
  {
   "cell_type": "code",
   "execution_count": 33,
   "metadata": {},
   "outputs": [
    {
     "name": "stdout",
     "output_type": "stream",
     "text": [
      "0.01679\n",
      "0.138\n"
     ]
    }
   ],
   "source": [
    "print(\"{0:.5f}\".format(stats.mannwhitneyu(sampleA, sampleB)[1]))\n",
    "\n",
    "print(\"{0:.3f}\".format(sampleB.mean() / sampleA.mean() - 1))"
   ]
  },
  {
   "cell_type": "markdown",
   "metadata": {},
   "source": [
    "p-value меньше чем 0.05, значит нулевую гипотезу можно отвергнуть и предположить, что есть статистически значимые различия в среднем количестве заказов между группами А и В.  \n",
    "Относительный прирост среднего группы В к конверсии группы А равен 13,8%.  \n"
   ]
  },
  {
   "cell_type": "markdown",
   "metadata": {},
   "source": [
    "Теперь сравним средние чеки по \"сырым\" данным.  \n",
    "\n",
    "**Нулевая гипотеза**: различий в среднем чеке между группами нет.\n",
    "\n",
    "**Альтернативная гипотеза**: различия в среднем чеке между группами есть.\n",
    "\n",
    "Уровень статистической значимости alpha зададим = 0.05."
   ]
  },
  {
   "cell_type": "code",
   "execution_count": 34,
   "metadata": {},
   "outputs": [
    {
     "name": "stdout",
     "output_type": "stream",
     "text": [
      "0.729\n",
      "0.259\n"
     ]
    }
   ],
   "source": [
    "print('{0:.3f}'.format(stats.mannwhitneyu(orders[orders['group']=='A']['revenue'], orders[orders['group']=='B']['revenue'])[1]))\n",
    "print('{0:.3f}'.format(orders[orders['group']=='B']['revenue'].mean()/orders[orders['group']=='A']['revenue'].mean()-1)) "
   ]
  },
  {
   "cell_type": "markdown",
   "metadata": {},
   "source": [
    "P-value больше 0.05 - значит статистически значимого различия между средними чеками в друх группах нет, нулевую гипотезу не отвергаем.  \n",
    "А вот относительное среднее между двумя группами разнится почти на 26%. "
   ]
  },
  {
   "cell_type": "markdown",
   "metadata": {},
   "source": [
    "### Статистические тесты по \"очищенным\" данным"
   ]
  },
  {
   "cell_type": "markdown",
   "metadata": {},
   "source": [
    "Приступим к подготовке очищенных от аномалий данных.\n",
    "Как мы уже выяснили, 95-й и 99-й перцентили средних чеков равны 28000 и 58233 рублям. А 95-й и 99-й перцентили числа заказов на одного пользователя равны 2 и 4 заказам на пользователя.\n",
    "Принимаем за аномальных пользователей тех, кто совершил более 2 заказов, или совершил заказ на сумму свыше 28000 рублей. Так мы уберём 5% пользователей с наибольшим числом заказов и 5% заказов с наибольшей стоимостью."
   ]
  },
  {
   "cell_type": "code",
   "execution_count": 35,
   "metadata": {},
   "outputs": [
    {
     "name": "stdout",
     "output_type": "stream",
     "text": [
      "1099    148427295\n",
      "18      199603092\n",
      "928     204675465\n",
      "23      237748145\n",
      "37      249864742\n",
      "dtype: int64\n"
     ]
    }
   ],
   "source": [
    "ab = np.percentile(ordersByUsers['orders'], 95)\n",
    "ac = np.percentile(orders['revenue'], 95)\n",
    "\n",
    "usersWithManyOrders = pd.concat(\n",
    "    [\n",
    "        ordersByUsersA[ordersByUsersA['orders'] > ab]['userId'],\n",
    "        ordersByUsersB[ordersByUsersB['orders'] > ab]['userId'],\n",
    "    ],\n",
    "    axis=0,\n",
    ")\n",
    "usersWithExpensiveOrders = orders[orders['revenue'] > ac]['visitor_id']\n",
    "abnormalUsers = (\n",
    "    pd.concat([usersWithManyOrders, usersWithExpensiveOrders], axis=0)\n",
    "    .drop_duplicates()\n",
    "    .sort_values()\n",
    ")\n",
    "print(abnormalUsers.head(5))"
   ]
  },
  {
   "cell_type": "markdown",
   "metadata": {},
   "source": [
    "Посчитаем статистическую значимость различия среднего количества заказов после удаления аномальных пользователей. Как и ранее, сформулируем гипотезы. \n",
    "\n",
    "**Нулевая гипотеза**: различий в среднем количестве заказов между группами нет.  \n",
    "\n",
    "**Альтернативная гипотеза**: различия в среднем между группами есть.  \n",
    "\n",
    "Уровень статистической значимости alpha, как и ранее = 0.05."
   ]
  },
  {
   "cell_type": "code",
   "execution_count": 36,
   "metadata": {},
   "outputs": [
    {
     "name": "stdout",
     "output_type": "stream",
     "text": [
      "0.01304\n",
      "0.173\n"
     ]
    }
   ],
   "source": [
    "sampleAFiltered = pd.concat(\n",
    "    [\n",
    "        ordersByUsersA[\n",
    "            np.logical_not(ordersByUsersA['userId'].isin(abnormalUsers))\n",
    "        ]['orders'],\n",
    "        pd.Series(\n",
    "            0,\n",
    "            index=np.arange(\n",
    "                (visitors['visitors'][visitors['group']== 'A']).sum() - len(ordersByUsersA['orders'])\n",
    "            ),\n",
    "            name='orders',\n",
    "        ),\n",
    "    ],\n",
    "    axis=0,\n",
    ")\n",
    "\n",
    "sampleBFiltered = pd.concat(\n",
    "    [\n",
    "        ordersByUsersB[\n",
    "            np.logical_not(ordersByUsersB['userId'].isin(abnormalUsers))\n",
    "        ]['orders'],\n",
    "        pd.Series(\n",
    "            0,\n",
    "            index=np.arange(\n",
    "                (visitors['visitors'][visitors['group']== 'B']).sum() - len(ordersByUsersB['orders'])\n",
    "            ),\n",
    "            name='orders',\n",
    "        ),\n",
    "    ],\n",
    "    axis=0,\n",
    ") \n",
    "print('{0:.5f}'.format(stats.mannwhitneyu(sampleAFiltered, sampleBFiltered)[1]))\n",
    "print('{0:.3f}'.format(sampleBFiltered.mean()/sampleAFiltered.mean()-1))"
   ]
  },
  {
   "cell_type": "markdown",
   "metadata": {},
   "source": [
    "Как и в случае с \"сырыми\" данными, статистическая значимость достигнута,  нулевую гипотезу можно отвергнуть и предположить, что есть статистически значимые различия в среднем количестве заказов между группами А и В. А сегмент В значительно лучше сегмента А."
   ]
  },
  {
   "cell_type": "markdown",
   "metadata": {},
   "source": [
    "Посчитаем статистическую значимость различия средних чеков после удаления аномальных пользователей.  \n",
    "\n",
    "**Нулевая гипотеза**: различий в среднем чеке между группами нет. \n",
    "\n",
    "**Альтернативная гипотеза**: различия в среднем чеке между группами есть.\n",
    "\n",
    "Уровень статистической значимости alpha, как и ранее = 0.05."
   ]
  },
  {
   "cell_type": "code",
   "execution_count": 37,
   "metadata": {},
   "outputs": [
    {
     "name": "stdout",
     "output_type": "stream",
     "text": [
      "0.738\n",
      "-0.020\n"
     ]
    }
   ],
   "source": [
    "\n",
    "print(\n",
    "    '{0:.3f}'.format(\n",
    "        stats.mannwhitneyu(\n",
    "            orders[\n",
    "                np.logical_and(\n",
    "                    orders['group'] == 'A',\n",
    "                    np.logical_not(orders['visitor_id'].isin(abnormalUsers)),\n",
    "                )\n",
    "            ]['revenue'],\n",
    "            orders[\n",
    "                np.logical_and(\n",
    "                    orders['group'] == 'B',\n",
    "                    np.logical_not(orders['visitor_id'].isin(abnormalUsers)),\n",
    "                )\n",
    "            ]['revenue'],\n",
    "        )[1]\n",
    "    )\n",
    ")\n",
    "\n",
    "print(\n",
    "    \"{0:.3f}\".format(\n",
    "        orders[\n",
    "            np.logical_and(\n",
    "                orders['group'] == 'B',\n",
    "                np.logical_not(orders['visitor_id'].isin(abnormalUsers)),\n",
    "            )\n",
    "        ]['revenue'].mean()\n",
    "        / orders[\n",
    "            np.logical_and(\n",
    "                orders['group'] == 'A',\n",
    "                np.logical_not(orders['visitor_id'].isin(abnormalUsers)),\n",
    "            )\n",
    "        ]['revenue'].mean()\n",
    "        - 1\n",
    "    )\n",
    ") "
   ]
  },
  {
   "cell_type": "markdown",
   "metadata": {},
   "source": [
    "P-value почти не изменился, но разница между сегментами сократилась с 25% до -2%.  \n",
    "Общие выводы не изменились, результаты теста такие же, как и в \"сырых\" данных"
   ]
  },
  {
   "cell_type": "markdown",
   "metadata": {},
   "source": [
    "## Вывод"
   ]
  },
  {
   "cell_type": "markdown",
   "metadata": {},
   "source": [
    "По результатам проведенного А/В-теста можно сделать следующие выводы:  \n",
    "- Есть статистически значимое различия по среднему количеству заказов как между группами по «сырым», так и по данным после фильтрации аномалий;\n",
    "- Нет статистически значимого различия по среднему чеку между группами ни по «сырым», ни по данным после фильтрации аномалий;\n"
   ]
  },
  {
   "cell_type": "markdown",
   "metadata": {},
   "source": [
    "Исходя из обнаруженных фактов, тест следует остановить и признать его успешным. \n",
    "Мы определили, что при статистически одинаковых стредних чеках в группах А и В, количество заказов в группе В больше, чем в группе А.   \n",
    "Проведенные тесты так же подтверждают данные, которые мы получили по кумулятивной конверсии группы В к группе А."
   ]
  }
 ],
 "metadata": {
  "ExecuteTimeLog": [
   {
    "duration": 1085,
    "start_time": "2022-07-15T08:08:46.064Z"
   },
   {
    "duration": 168,
    "start_time": "2022-07-15T08:11:43.436Z"
   },
   {
    "duration": 5,
    "start_time": "2022-07-15T08:12:13.800Z"
   },
   {
    "duration": 24,
    "start_time": "2022-07-15T08:13:01.540Z"
   },
   {
    "duration": 9,
    "start_time": "2022-07-15T08:14:44.363Z"
   },
   {
    "duration": 22,
    "start_time": "2022-07-15T08:15:14.151Z"
   },
   {
    "duration": 21,
    "start_time": "2022-07-15T08:17:42.017Z"
   },
   {
    "duration": 4,
    "start_time": "2022-07-15T08:23:11.846Z"
   },
   {
    "duration": 1078,
    "start_time": "2022-07-15T08:23:24.266Z"
   },
   {
    "duration": 84,
    "start_time": "2022-07-15T08:23:25.346Z"
   },
   {
    "duration": 6,
    "start_time": "2022-07-15T08:23:25.432Z"
   },
   {
    "duration": 24,
    "start_time": "2022-07-15T08:23:25.440Z"
   },
   {
    "duration": 8,
    "start_time": "2022-07-15T08:23:25.465Z"
   },
   {
    "duration": 24,
    "start_time": "2022-07-15T08:23:25.475Z"
   },
   {
    "duration": 4,
    "start_time": "2022-07-15T08:23:25.501Z"
   },
   {
    "duration": 4,
    "start_time": "2022-07-15T08:24:01.965Z"
   },
   {
    "duration": 11,
    "start_time": "2022-07-15T08:24:10.634Z"
   },
   {
    "duration": 49,
    "start_time": "2022-07-15T08:26:16.382Z"
   },
   {
    "duration": 327,
    "start_time": "2022-07-15T08:26:27.350Z"
   },
   {
    "duration": 2,
    "start_time": "2022-07-15T08:26:49.576Z"
   },
   {
    "duration": 257,
    "start_time": "2022-07-15T08:26:55.511Z"
   },
   {
    "duration": 314,
    "start_time": "2022-07-15T08:27:19.175Z"
   },
   {
    "duration": 20,
    "start_time": "2022-07-15T08:27:39.466Z"
   },
   {
    "duration": 52,
    "start_time": "2022-07-15T08:27:54.548Z"
   },
   {
    "duration": 228,
    "start_time": "2022-07-15T08:27:58.745Z"
   },
   {
    "duration": 277,
    "start_time": "2022-07-15T08:28:04.487Z"
   },
   {
    "duration": 9,
    "start_time": "2022-07-15T08:28:23.368Z"
   },
   {
    "duration": 1143,
    "start_time": "2022-07-15T08:29:22.106Z"
   },
   {
    "duration": 76,
    "start_time": "2022-07-15T08:29:23.251Z"
   },
   {
    "duration": 4,
    "start_time": "2022-07-15T08:29:23.329Z"
   },
   {
    "duration": 27,
    "start_time": "2022-07-15T08:29:23.334Z"
   },
   {
    "duration": 7,
    "start_time": "2022-07-15T08:29:23.363Z"
   },
   {
    "duration": 29,
    "start_time": "2022-07-15T08:29:23.371Z"
   },
   {
    "duration": 27,
    "start_time": "2022-07-15T08:29:23.402Z"
   },
   {
    "duration": 309,
    "start_time": "2022-07-15T08:29:39.276Z"
   },
   {
    "duration": 19,
    "start_time": "2022-07-15T08:29:57.513Z"
   },
   {
    "duration": 20,
    "start_time": "2022-07-15T08:30:01.221Z"
   },
   {
    "duration": 15,
    "start_time": "2022-07-15T08:30:13.428Z"
   },
   {
    "duration": 1211,
    "start_time": "2022-07-15T08:30:22.523Z"
   },
   {
    "duration": 78,
    "start_time": "2022-07-15T08:30:23.736Z"
   },
   {
    "duration": 4,
    "start_time": "2022-07-15T08:30:23.816Z"
   },
   {
    "duration": 53,
    "start_time": "2022-07-15T08:30:23.822Z"
   },
   {
    "duration": 8,
    "start_time": "2022-07-15T08:30:23.877Z"
   },
   {
    "duration": 43,
    "start_time": "2022-07-15T08:30:23.887Z"
   },
   {
    "duration": 14,
    "start_time": "2022-07-15T08:30:23.932Z"
   },
   {
    "duration": 46,
    "start_time": "2022-07-15T08:30:23.948Z"
   },
   {
    "duration": 94,
    "start_time": "2022-07-15T08:36:01.943Z"
   },
   {
    "duration": 75,
    "start_time": "2022-07-15T08:36:21.220Z"
   },
   {
    "duration": 19,
    "start_time": "2022-07-15T08:36:24.943Z"
   },
   {
    "duration": 12,
    "start_time": "2022-07-15T08:37:14.377Z"
   },
   {
    "duration": 4,
    "start_time": "2022-07-15T08:37:39.949Z"
   },
   {
    "duration": 18,
    "start_time": "2022-07-15T08:37:49.105Z"
   },
   {
    "duration": 784,
    "start_time": "2022-07-15T08:40:51.497Z"
   },
   {
    "duration": 845,
    "start_time": "2022-07-15T08:41:30.215Z"
   },
   {
    "duration": 885,
    "start_time": "2022-07-15T08:42:46.382Z"
   },
   {
    "duration": 13,
    "start_time": "2022-07-15T08:42:56.138Z"
   },
   {
    "duration": 1072,
    "start_time": "2022-07-15T08:43:35.109Z"
   },
   {
    "duration": 76,
    "start_time": "2022-07-15T08:43:36.183Z"
   },
   {
    "duration": 4,
    "start_time": "2022-07-15T08:43:36.261Z"
   },
   {
    "duration": 31,
    "start_time": "2022-07-15T08:43:36.267Z"
   },
   {
    "duration": 8,
    "start_time": "2022-07-15T08:43:36.300Z"
   },
   {
    "duration": 23,
    "start_time": "2022-07-15T08:43:36.309Z"
   },
   {
    "duration": 12,
    "start_time": "2022-07-15T08:43:36.333Z"
   },
   {
    "duration": 16,
    "start_time": "2022-07-15T08:43:36.363Z"
   },
   {
    "duration": 17,
    "start_time": "2022-07-15T08:43:36.380Z"
   },
   {
    "duration": 4,
    "start_time": "2022-07-15T08:43:36.398Z"
   },
   {
    "duration": 18,
    "start_time": "2022-07-15T08:43:36.403Z"
   },
   {
    "duration": 41,
    "start_time": "2022-07-15T08:43:36.423Z"
   },
   {
    "duration": 9,
    "start_time": "2022-07-15T08:43:47.316Z"
   },
   {
    "duration": 8,
    "start_time": "2022-07-15T08:45:32.086Z"
   },
   {
    "duration": 11,
    "start_time": "2022-07-15T08:48:34.209Z"
   },
   {
    "duration": 12,
    "start_time": "2022-07-15T08:50:03.703Z"
   },
   {
    "duration": 13,
    "start_time": "2022-07-15T08:50:13.303Z"
   },
   {
    "duration": 54,
    "start_time": "2022-07-18T05:24:45.369Z"
   },
   {
    "duration": 1321,
    "start_time": "2022-07-18T05:24:52.776Z"
   },
   {
    "duration": 189,
    "start_time": "2022-07-18T05:24:54.099Z"
   },
   {
    "duration": 5,
    "start_time": "2022-07-18T05:24:54.290Z"
   },
   {
    "duration": 45,
    "start_time": "2022-07-18T05:24:54.297Z"
   },
   {
    "duration": 8,
    "start_time": "2022-07-18T05:24:54.345Z"
   },
   {
    "duration": 34,
    "start_time": "2022-07-18T05:24:54.355Z"
   },
   {
    "duration": 15,
    "start_time": "2022-07-18T05:24:54.391Z"
   },
   {
    "duration": 25,
    "start_time": "2022-07-18T05:24:54.408Z"
   },
   {
    "duration": 31,
    "start_time": "2022-07-18T05:24:54.435Z"
   },
   {
    "duration": 4,
    "start_time": "2022-07-18T05:24:54.468Z"
   },
   {
    "duration": 18,
    "start_time": "2022-07-18T05:24:54.473Z"
   },
   {
    "duration": 12,
    "start_time": "2022-07-18T05:24:54.493Z"
   },
   {
    "duration": 19,
    "start_time": "2022-07-18T05:24:54.507Z"
   },
   {
    "duration": 15,
    "start_time": "2022-07-18T05:24:54.529Z"
   },
   {
    "duration": 142,
    "start_time": "2022-07-18T05:24:54.546Z"
   },
   {
    "duration": 13,
    "start_time": "2022-07-18T05:25:32.043Z"
   },
   {
    "duration": 267,
    "start_time": "2022-07-18T05:26:26.600Z"
   },
   {
    "duration": 275,
    "start_time": "2022-07-18T05:26:35.371Z"
   },
   {
    "duration": 4,
    "start_time": "2022-07-18T05:27:34.644Z"
   },
   {
    "duration": 49,
    "start_time": "2022-07-18T05:30:05.572Z"
   },
   {
    "duration": 267,
    "start_time": "2022-07-18T05:30:25.882Z"
   },
   {
    "duration": 250,
    "start_time": "2022-07-18T05:30:41.917Z"
   },
   {
    "duration": 15,
    "start_time": "2022-07-18T05:31:04.272Z"
   },
   {
    "duration": 17,
    "start_time": "2022-07-18T05:31:17.579Z"
   },
   {
    "duration": 180,
    "start_time": "2022-07-18T05:31:24.818Z"
   },
   {
    "duration": 200,
    "start_time": "2022-07-18T05:32:10.841Z"
   },
   {
    "duration": 176,
    "start_time": "2022-07-18T05:36:22.349Z"
   },
   {
    "duration": 159,
    "start_time": "2022-07-18T05:36:32.963Z"
   },
   {
    "duration": 222,
    "start_time": "2022-07-18T05:36:41.339Z"
   },
   {
    "duration": 292,
    "start_time": "2022-07-18T05:36:47.793Z"
   },
   {
    "duration": 224,
    "start_time": "2022-07-18T05:36:53.817Z"
   },
   {
    "duration": 223,
    "start_time": "2022-07-18T05:37:00.969Z"
   },
   {
    "duration": 284,
    "start_time": "2022-07-18T05:39:31.602Z"
   },
   {
    "duration": 314,
    "start_time": "2022-07-18T05:39:44.030Z"
   },
   {
    "duration": 296,
    "start_time": "2022-07-18T05:39:53.128Z"
   },
   {
    "duration": 145,
    "start_time": "2022-07-18T05:42:55.212Z"
   },
   {
    "duration": 186,
    "start_time": "2022-07-18T05:43:04.571Z"
   },
   {
    "duration": 237,
    "start_time": "2022-07-18T05:44:24.783Z"
   },
   {
    "duration": 201,
    "start_time": "2022-07-18T05:44:46.683Z"
   },
   {
    "duration": 154,
    "start_time": "2022-07-18T05:44:59.411Z"
   },
   {
    "duration": 195,
    "start_time": "2022-07-18T05:45:03.612Z"
   },
   {
    "duration": 273,
    "start_time": "2022-07-18T05:45:08.669Z"
   },
   {
    "duration": 182,
    "start_time": "2022-07-18T05:45:14.567Z"
   },
   {
    "duration": 170,
    "start_time": "2022-07-18T05:45:49.132Z"
   },
   {
    "duration": 282,
    "start_time": "2022-07-18T05:48:06.143Z"
   },
   {
    "duration": 346,
    "start_time": "2022-07-18T05:48:12.372Z"
   },
   {
    "duration": 325,
    "start_time": "2022-07-18T05:48:56.438Z"
   },
   {
    "duration": 332,
    "start_time": "2022-07-18T05:49:02.634Z"
   },
   {
    "duration": 1144,
    "start_time": "2022-07-18T06:17:30.423Z"
   },
   {
    "duration": 72,
    "start_time": "2022-07-18T06:17:31.569Z"
   },
   {
    "duration": 4,
    "start_time": "2022-07-18T06:17:31.643Z"
   },
   {
    "duration": 34,
    "start_time": "2022-07-18T06:17:31.649Z"
   },
   {
    "duration": 8,
    "start_time": "2022-07-18T06:17:31.686Z"
   },
   {
    "duration": 26,
    "start_time": "2022-07-18T06:17:31.695Z"
   },
   {
    "duration": 18,
    "start_time": "2022-07-18T06:17:31.723Z"
   },
   {
    "duration": 47,
    "start_time": "2022-07-18T06:17:31.743Z"
   },
   {
    "duration": 18,
    "start_time": "2022-07-18T06:17:31.792Z"
   },
   {
    "duration": 8,
    "start_time": "2022-07-18T06:17:31.811Z"
   },
   {
    "duration": 25,
    "start_time": "2022-07-18T06:17:31.820Z"
   },
   {
    "duration": 27,
    "start_time": "2022-07-18T06:17:31.847Z"
   },
   {
    "duration": 23,
    "start_time": "2022-07-18T06:17:31.876Z"
   },
   {
    "duration": 31,
    "start_time": "2022-07-18T06:17:31.903Z"
   },
   {
    "duration": 28,
    "start_time": "2022-07-18T06:17:31.936Z"
   },
   {
    "duration": 323,
    "start_time": "2022-07-18T06:17:31.966Z"
   },
   {
    "duration": 327,
    "start_time": "2022-07-18T06:17:32.290Z"
   },
   {
    "duration": 259,
    "start_time": "2022-07-18T06:17:32.619Z"
   },
   {
    "duration": 337,
    "start_time": "2022-07-18T06:17:32.879Z"
   },
   {
    "duration": 188,
    "start_time": "2022-07-18T06:17:33.218Z"
   },
   {
    "duration": 292,
    "start_time": "2022-07-18T06:17:33.408Z"
   },
   {
    "duration": 115,
    "start_time": "2022-07-18T06:17:33.701Z"
   },
   {
    "duration": 127,
    "start_time": "2022-07-18T06:18:09.199Z"
   },
   {
    "duration": 5,
    "start_time": "2022-07-18T06:20:21.215Z"
   },
   {
    "duration": 103,
    "start_time": "2022-07-18T06:23:31.535Z"
   },
   {
    "duration": 14,
    "start_time": "2022-07-18T06:23:40.306Z"
   },
   {
    "duration": 200,
    "start_time": "2022-07-18T06:23:47.859Z"
   },
   {
    "duration": 146,
    "start_time": "2022-07-18T06:24:08.592Z"
   },
   {
    "duration": 153,
    "start_time": "2022-07-18T06:25:47.933Z"
   },
   {
    "duration": 154,
    "start_time": "2022-07-18T06:25:53.219Z"
   },
   {
    "duration": 164,
    "start_time": "2022-07-18T06:26:00.426Z"
   },
   {
    "duration": 9,
    "start_time": "2022-07-18T06:26:07.312Z"
   },
   {
    "duration": 4,
    "start_time": "2022-07-18T06:26:12.127Z"
   },
   {
    "duration": 20,
    "start_time": "2022-07-18T06:39:40.678Z"
   },
   {
    "duration": 21,
    "start_time": "2022-07-18T06:40:04.067Z"
   },
   {
    "duration": 90,
    "start_time": "2022-07-18T06:42:49.670Z"
   },
   {
    "duration": 139,
    "start_time": "2022-07-18T06:43:21.383Z"
   },
   {
    "duration": 158,
    "start_time": "2022-07-18T06:44:06.228Z"
   },
   {
    "duration": 123,
    "start_time": "2022-07-18T06:47:51.460Z"
   },
   {
    "duration": 365,
    "start_time": "2022-07-18T06:49:57.059Z"
   },
   {
    "duration": 1231,
    "start_time": "2022-07-18T06:53:11.457Z"
   },
   {
    "duration": 80,
    "start_time": "2022-07-18T06:53:12.690Z"
   },
   {
    "duration": 5,
    "start_time": "2022-07-18T06:53:12.772Z"
   },
   {
    "duration": 1200,
    "start_time": "2022-07-18T06:54:04.613Z"
   },
   {
    "duration": 89,
    "start_time": "2022-07-18T06:54:05.816Z"
   },
   {
    "duration": 5,
    "start_time": "2022-07-18T06:54:05.907Z"
   },
   {
    "duration": 38,
    "start_time": "2022-07-18T06:54:05.915Z"
   },
   {
    "duration": 18,
    "start_time": "2022-07-18T06:54:05.955Z"
   },
   {
    "duration": 51,
    "start_time": "2022-07-18T06:54:05.979Z"
   },
   {
    "duration": 17,
    "start_time": "2022-07-18T06:54:06.032Z"
   },
   {
    "duration": 27,
    "start_time": "2022-07-18T06:54:06.051Z"
   },
   {
    "duration": 25,
    "start_time": "2022-07-18T06:54:06.083Z"
   },
   {
    "duration": 4,
    "start_time": "2022-07-18T06:54:06.111Z"
   },
   {
    "duration": 18,
    "start_time": "2022-07-18T06:54:06.116Z"
   },
   {
    "duration": 32,
    "start_time": "2022-07-18T06:54:06.136Z"
   },
   {
    "duration": 14,
    "start_time": "2022-07-18T06:54:06.170Z"
   },
   {
    "duration": 13,
    "start_time": "2022-07-18T06:54:06.186Z"
   },
   {
    "duration": 16,
    "start_time": "2022-07-18T06:54:06.200Z"
   },
   {
    "duration": 303,
    "start_time": "2022-07-18T06:54:06.217Z"
   },
   {
    "duration": 383,
    "start_time": "2022-07-18T06:54:06.522Z"
   },
   {
    "duration": 226,
    "start_time": "2022-07-18T06:54:06.908Z"
   },
   {
    "duration": 393,
    "start_time": "2022-07-18T06:54:07.136Z"
   },
   {
    "duration": 196,
    "start_time": "2022-07-18T06:54:07.531Z"
   },
   {
    "duration": 366,
    "start_time": "2022-07-18T06:54:07.729Z"
   },
   {
    "duration": 155,
    "start_time": "2022-07-18T06:54:08.097Z"
   },
   {
    "duration": 15,
    "start_time": "2022-07-18T06:54:08.254Z"
   },
   {
    "duration": 173,
    "start_time": "2022-07-18T06:54:08.273Z"
   },
   {
    "duration": 4,
    "start_time": "2022-07-18T06:54:08.448Z"
   },
   {
    "duration": 623,
    "start_time": "2022-07-18T06:54:08.454Z"
   },
   {
    "duration": 16,
    "start_time": "2022-07-18T07:00:22.672Z"
   },
   {
    "duration": 1245,
    "start_time": "2022-07-18T07:07:57.180Z"
   },
   {
    "duration": 1245,
    "start_time": "2022-07-18T07:09:05.197Z"
   },
   {
    "duration": 203,
    "start_time": "2022-07-18T07:10:59.938Z"
   },
   {
    "duration": 9,
    "start_time": "2022-07-18T07:16:59.893Z"
   },
   {
    "duration": 29,
    "start_time": "2022-07-18T07:17:46.486Z"
   },
   {
    "duration": 1550,
    "start_time": "2022-07-18T07:20:17.090Z"
   },
   {
    "duration": 14,
    "start_time": "2022-07-18T07:20:53.919Z"
   },
   {
    "duration": 278,
    "start_time": "2022-07-18T07:30:58.002Z"
   },
   {
    "duration": 362,
    "start_time": "2022-07-18T07:32:13.439Z"
   },
   {
    "duration": 1400,
    "start_time": "2022-07-18T10:42:28.720Z"
   },
   {
    "duration": 76,
    "start_time": "2022-07-18T10:42:30.121Z"
   },
   {
    "duration": 4,
    "start_time": "2022-07-18T10:42:30.199Z"
   },
   {
    "duration": 38,
    "start_time": "2022-07-18T10:42:30.205Z"
   },
   {
    "duration": 10,
    "start_time": "2022-07-18T10:42:30.244Z"
   },
   {
    "duration": 37,
    "start_time": "2022-07-18T10:42:30.257Z"
   },
   {
    "duration": 20,
    "start_time": "2022-07-18T10:42:30.296Z"
   },
   {
    "duration": 52,
    "start_time": "2022-07-18T10:42:30.318Z"
   },
   {
    "duration": 36,
    "start_time": "2022-07-18T10:42:30.372Z"
   },
   {
    "duration": 8,
    "start_time": "2022-07-18T10:42:30.412Z"
   },
   {
    "duration": 40,
    "start_time": "2022-07-18T10:42:30.422Z"
   },
   {
    "duration": 17,
    "start_time": "2022-07-18T10:42:30.466Z"
   },
   {
    "duration": 12,
    "start_time": "2022-07-18T10:42:30.485Z"
   },
   {
    "duration": 19,
    "start_time": "2022-07-18T10:42:30.499Z"
   },
   {
    "duration": 27,
    "start_time": "2022-07-18T10:42:30.520Z"
   },
   {
    "duration": 316,
    "start_time": "2022-07-18T10:42:30.549Z"
   },
   {
    "duration": 305,
    "start_time": "2022-07-18T10:42:30.868Z"
   },
   {
    "duration": 216,
    "start_time": "2022-07-18T10:42:31.175Z"
   },
   {
    "duration": 300,
    "start_time": "2022-07-18T10:42:31.392Z"
   },
   {
    "duration": 189,
    "start_time": "2022-07-18T10:42:31.694Z"
   },
   {
    "duration": 290,
    "start_time": "2022-07-18T10:42:31.885Z"
   },
   {
    "duration": 134,
    "start_time": "2022-07-18T10:42:32.176Z"
   },
   {
    "duration": 5,
    "start_time": "2022-07-18T10:42:32.311Z"
   },
   {
    "duration": 167,
    "start_time": "2022-07-18T10:42:32.318Z"
   },
   {
    "duration": 4,
    "start_time": "2022-07-18T10:42:32.487Z"
   },
   {
    "duration": 301,
    "start_time": "2022-07-18T10:42:32.492Z"
   },
   {
    "duration": 287,
    "start_time": "2022-07-18T10:42:32.795Z"
   },
   {
    "duration": 10,
    "start_time": "2022-07-18T10:42:33.084Z"
   },
   {
    "duration": 170,
    "start_time": "2022-07-18T10:42:33.095Z"
   },
   {
    "duration": 24,
    "start_time": "2022-07-18T10:42:33.266Z"
   },
   {
    "duration": 12,
    "start_time": "2022-07-18T10:42:33.292Z"
   },
   {
    "duration": 289,
    "start_time": "2022-07-18T10:42:33.305Z"
   },
   {
    "duration": 290,
    "start_time": "2022-07-18T10:42:33.595Z"
   },
   {
    "duration": 1349,
    "start_time": "2022-07-18T11:58:46.139Z"
   },
   {
    "duration": 265,
    "start_time": "2022-07-18T11:58:47.490Z"
   },
   {
    "duration": 7,
    "start_time": "2022-07-18T11:58:47.757Z"
   },
   {
    "duration": 43,
    "start_time": "2022-07-18T11:58:47.766Z"
   },
   {
    "duration": 38,
    "start_time": "2022-07-18T11:58:47.812Z"
   },
   {
    "duration": 28,
    "start_time": "2022-07-18T11:58:47.852Z"
   },
   {
    "duration": 40,
    "start_time": "2022-07-18T11:58:47.883Z"
   },
   {
    "duration": 36,
    "start_time": "2022-07-18T11:58:47.936Z"
   },
   {
    "duration": 23,
    "start_time": "2022-07-18T11:58:47.974Z"
   },
   {
    "duration": 27,
    "start_time": "2022-07-18T11:58:47.999Z"
   },
   {
    "duration": 27,
    "start_time": "2022-07-18T11:58:48.030Z"
   },
   {
    "duration": 9,
    "start_time": "2022-07-18T11:58:48.059Z"
   },
   {
    "duration": 10,
    "start_time": "2022-07-18T11:58:48.071Z"
   },
   {
    "duration": 8,
    "start_time": "2022-07-18T11:58:48.084Z"
   },
   {
    "duration": 46,
    "start_time": "2022-07-18T11:58:48.093Z"
   },
   {
    "duration": 300,
    "start_time": "2022-07-18T11:58:48.141Z"
   },
   {
    "duration": 338,
    "start_time": "2022-07-18T11:58:48.442Z"
   },
   {
    "duration": 231,
    "start_time": "2022-07-18T11:58:48.781Z"
   },
   {
    "duration": 367,
    "start_time": "2022-07-18T11:58:49.020Z"
   },
   {
    "duration": 243,
    "start_time": "2022-07-18T11:58:49.389Z"
   },
   {
    "duration": 312,
    "start_time": "2022-07-18T11:58:49.635Z"
   },
   {
    "duration": 161,
    "start_time": "2022-07-18T11:58:49.948Z"
   },
   {
    "duration": 9,
    "start_time": "2022-07-18T11:58:50.118Z"
   },
   {
    "duration": 164,
    "start_time": "2022-07-18T11:58:50.130Z"
   },
   {
    "duration": 18,
    "start_time": "2022-07-18T11:58:50.295Z"
   },
   {
    "duration": 338,
    "start_time": "2022-07-18T11:58:50.315Z"
   },
   {
    "duration": 317,
    "start_time": "2022-07-18T11:58:50.655Z"
   },
   {
    "duration": 10,
    "start_time": "2022-07-18T11:58:50.974Z"
   },
   {
    "duration": 172,
    "start_time": "2022-07-18T11:58:50.985Z"
   },
   {
    "duration": 23,
    "start_time": "2022-07-18T11:58:51.159Z"
   },
   {
    "duration": 32,
    "start_time": "2022-07-18T11:58:51.184Z"
   },
   {
    "duration": 324,
    "start_time": "2022-07-18T11:58:51.218Z"
   },
   {
    "duration": 316,
    "start_time": "2022-07-18T11:58:51.543Z"
   },
   {
    "duration": 110,
    "start_time": "2022-07-18T12:03:28.785Z"
   },
   {
    "duration": 13,
    "start_time": "2022-07-18T12:05:03.068Z"
   },
   {
    "duration": 13,
    "start_time": "2022-07-18T12:05:13.426Z"
   },
   {
    "duration": 9,
    "start_time": "2022-07-18T12:05:32.241Z"
   },
   {
    "duration": 1396,
    "start_time": "2022-07-20T06:08:10.770Z"
   },
   {
    "duration": 273,
    "start_time": "2022-07-20T06:08:12.173Z"
   },
   {
    "duration": 8,
    "start_time": "2022-07-20T06:08:12.449Z"
   },
   {
    "duration": 39,
    "start_time": "2022-07-20T06:08:12.463Z"
   },
   {
    "duration": 9,
    "start_time": "2022-07-20T06:08:12.504Z"
   },
   {
    "duration": 32,
    "start_time": "2022-07-20T06:08:12.514Z"
   },
   {
    "duration": 22,
    "start_time": "2022-07-20T06:08:12.554Z"
   },
   {
    "duration": 17,
    "start_time": "2022-07-20T06:08:12.578Z"
   },
   {
    "duration": 18,
    "start_time": "2022-07-20T06:08:12.596Z"
   },
   {
    "duration": 4,
    "start_time": "2022-07-20T06:08:12.616Z"
   },
   {
    "duration": 34,
    "start_time": "2022-07-20T06:08:12.653Z"
   },
   {
    "duration": 8,
    "start_time": "2022-07-20T06:08:12.688Z"
   },
   {
    "duration": 11,
    "start_time": "2022-07-20T06:08:12.698Z"
   },
   {
    "duration": 10,
    "start_time": "2022-07-20T06:08:12.711Z"
   },
   {
    "duration": 35,
    "start_time": "2022-07-20T06:08:12.723Z"
   },
   {
    "duration": 345,
    "start_time": "2022-07-20T06:08:12.759Z"
   },
   {
    "duration": 398,
    "start_time": "2022-07-20T06:08:13.105Z"
   },
   {
    "duration": 283,
    "start_time": "2022-07-20T06:08:13.505Z"
   },
   {
    "duration": 573,
    "start_time": "2022-07-20T06:08:13.789Z"
   },
   {
    "duration": 615,
    "start_time": "2022-07-20T06:08:14.364Z"
   },
   {
    "duration": 671,
    "start_time": "2022-07-20T06:08:14.981Z"
   },
   {
    "duration": 400,
    "start_time": "2022-07-20T06:08:15.654Z"
   },
   {
    "duration": 7,
    "start_time": "2022-07-20T06:08:16.060Z"
   },
   {
    "duration": 489,
    "start_time": "2022-07-20T06:08:16.073Z"
   },
   {
    "duration": 7,
    "start_time": "2022-07-20T06:08:16.564Z"
   },
   {
    "duration": 805,
    "start_time": "2022-07-20T06:08:16.573Z"
   },
   {
    "duration": 413,
    "start_time": "2022-07-20T06:08:17.381Z"
   },
   {
    "duration": 14,
    "start_time": "2022-07-20T06:08:17.799Z"
   },
   {
    "duration": 256,
    "start_time": "2022-07-20T06:08:17.816Z"
   },
   {
    "duration": 45,
    "start_time": "2022-07-20T06:08:18.075Z"
   },
   {
    "duration": 28,
    "start_time": "2022-07-20T06:08:18.123Z"
   },
   {
    "duration": 325,
    "start_time": "2022-07-20T06:08:18.159Z"
   },
   {
    "duration": 378,
    "start_time": "2022-07-20T06:08:18.485Z"
   },
   {
    "duration": 30,
    "start_time": "2022-07-20T06:08:40.439Z"
   },
   {
    "duration": 11,
    "start_time": "2022-07-20T06:08:50.095Z"
   },
   {
    "duration": 11,
    "start_time": "2022-07-20T06:09:37.675Z"
   },
   {
    "duration": 264,
    "start_time": "2022-07-20T06:10:14.276Z"
   },
   {
    "duration": 12,
    "start_time": "2022-07-20T06:13:25.210Z"
   },
   {
    "duration": 6,
    "start_time": "2022-07-20T06:13:38.487Z"
   },
   {
    "duration": 5,
    "start_time": "2022-07-20T06:13:52.125Z"
   },
   {
    "duration": 6,
    "start_time": "2022-07-20T06:14:02.577Z"
   },
   {
    "duration": 8,
    "start_time": "2022-07-20T06:15:48.318Z"
   },
   {
    "duration": 7,
    "start_time": "2022-07-20T06:16:00.042Z"
   },
   {
    "duration": 10,
    "start_time": "2022-07-20T06:16:08.259Z"
   },
   {
    "duration": 4,
    "start_time": "2022-07-20T06:16:19.092Z"
   },
   {
    "duration": 11,
    "start_time": "2022-07-20T06:18:33.205Z"
   },
   {
    "duration": 122,
    "start_time": "2022-07-20T06:18:45.257Z"
   },
   {
    "duration": 12,
    "start_time": "2022-07-20T06:18:49.907Z"
   },
   {
    "duration": 11,
    "start_time": "2022-07-20T06:22:10.268Z"
   },
   {
    "duration": 6,
    "start_time": "2022-07-20T06:22:22.298Z"
   },
   {
    "duration": 95,
    "start_time": "2022-07-20T06:23:09.203Z"
   },
   {
    "duration": 74,
    "start_time": "2022-07-20T06:23:18.510Z"
   },
   {
    "duration": 3,
    "start_time": "2022-07-20T06:23:49.467Z"
   },
   {
    "duration": 8,
    "start_time": "2022-07-20T06:25:30.868Z"
   },
   {
    "duration": 9,
    "start_time": "2022-07-20T06:25:48.981Z"
   },
   {
    "duration": 13,
    "start_time": "2022-07-20T06:26:20.268Z"
   },
   {
    "duration": 12,
    "start_time": "2022-07-20T06:26:33.896Z"
   },
   {
    "duration": 1332,
    "start_time": "2022-07-20T06:26:52.573Z"
   },
   {
    "duration": 4,
    "start_time": "2022-07-20T06:27:01.523Z"
   },
   {
    "duration": 4,
    "start_time": "2022-07-20T06:27:05.972Z"
   },
   {
    "duration": 17,
    "start_time": "2022-07-20T06:30:13.316Z"
   },
   {
    "duration": 18,
    "start_time": "2022-07-20T06:30:22.779Z"
   },
   {
    "duration": 297,
    "start_time": "2022-07-20T06:30:25.309Z"
   },
   {
    "duration": 325,
    "start_time": "2022-07-20T06:30:51.920Z"
   },
   {
    "duration": 301,
    "start_time": "2022-07-20T06:30:58.070Z"
   },
   {
    "duration": 277,
    "start_time": "2022-07-20T06:31:43.174Z"
   },
   {
    "duration": 281,
    "start_time": "2022-07-20T06:31:51.813Z"
   },
   {
    "duration": 198,
    "start_time": "2022-07-20T06:33:06.094Z"
   },
   {
    "duration": 289,
    "start_time": "2022-07-20T06:33:10.980Z"
   },
   {
    "duration": 272,
    "start_time": "2022-07-20T06:33:28.467Z"
   },
   {
    "duration": 275,
    "start_time": "2022-07-20T06:33:34.262Z"
   },
   {
    "duration": 286,
    "start_time": "2022-07-20T06:33:54.289Z"
   },
   {
    "duration": 289,
    "start_time": "2022-07-20T06:35:54.771Z"
   },
   {
    "duration": 291,
    "start_time": "2022-07-20T06:36:02.107Z"
   },
   {
    "duration": 375,
    "start_time": "2022-07-20T06:43:53.071Z"
   },
   {
    "duration": 382,
    "start_time": "2022-07-20T06:44:12.203Z"
   },
   {
    "duration": 238,
    "start_time": "2022-07-20T06:45:41.937Z"
   },
   {
    "duration": 237,
    "start_time": "2022-07-20T06:45:54.656Z"
   },
   {
    "duration": 341,
    "start_time": "2022-07-20T06:46:45.365Z"
   },
   {
    "duration": 368,
    "start_time": "2022-07-20T06:46:54.855Z"
   },
   {
    "duration": 182,
    "start_time": "2022-07-20T06:49:04.125Z"
   },
   {
    "duration": 191,
    "start_time": "2022-07-20T06:49:46.137Z"
   },
   {
    "duration": 188,
    "start_time": "2022-07-20T06:50:17.643Z"
   },
   {
    "duration": 201,
    "start_time": "2022-07-20T06:50:27.251Z"
   },
   {
    "duration": 185,
    "start_time": "2022-07-20T06:50:39.322Z"
   },
   {
    "duration": 193,
    "start_time": "2022-07-20T06:50:48.227Z"
   },
   {
    "duration": 205,
    "start_time": "2022-07-20T06:50:57.305Z"
   },
   {
    "duration": 198,
    "start_time": "2022-07-20T06:51:09.135Z"
   },
   {
    "duration": 171,
    "start_time": "2022-07-20T06:51:16.364Z"
   },
   {
    "duration": 185,
    "start_time": "2022-07-20T06:51:20.873Z"
   },
   {
    "duration": 194,
    "start_time": "2022-07-20T06:51:28.935Z"
   },
   {
    "duration": 202,
    "start_time": "2022-07-20T06:51:43.180Z"
   },
   {
    "duration": 451,
    "start_time": "2022-07-20T06:52:16.831Z"
   },
   {
    "duration": 195,
    "start_time": "2022-07-20T06:53:13.410Z"
   },
   {
    "duration": 198,
    "start_time": "2022-07-20T06:53:21.258Z"
   },
   {
    "duration": 191,
    "start_time": "2022-07-20T06:53:32.402Z"
   },
   {
    "duration": 159,
    "start_time": "2022-07-20T06:53:47.574Z"
   },
   {
    "duration": 196,
    "start_time": "2022-07-20T06:54:04.266Z"
   },
   {
    "duration": 210,
    "start_time": "2022-07-20T06:54:15.054Z"
   },
   {
    "duration": 326,
    "start_time": "2022-07-20T06:55:52.168Z"
   },
   {
    "duration": 377,
    "start_time": "2022-07-20T06:56:57.951Z"
   },
   {
    "duration": 21,
    "start_time": "2022-07-20T06:57:04.238Z"
   },
   {
    "duration": 10,
    "start_time": "2022-07-20T06:57:52.893Z"
   },
   {
    "duration": 9,
    "start_time": "2022-07-20T06:57:56.074Z"
   },
   {
    "duration": 14,
    "start_time": "2022-07-20T06:59:31.239Z"
   },
   {
    "duration": 9,
    "start_time": "2022-07-20T06:59:34.779Z"
   },
   {
    "duration": 28,
    "start_time": "2022-07-20T06:59:39.159Z"
   },
   {
    "duration": 17,
    "start_time": "2022-07-20T06:59:41.437Z"
   },
   {
    "duration": 9,
    "start_time": "2022-07-20T07:00:05.567Z"
   },
   {
    "duration": 9,
    "start_time": "2022-07-20T07:00:12.779Z"
   },
   {
    "duration": 27,
    "start_time": "2022-07-20T07:00:15.484Z"
   },
   {
    "duration": 32,
    "start_time": "2022-07-20T07:00:18.330Z"
   },
   {
    "duration": 15,
    "start_time": "2022-07-20T07:00:21.278Z"
   },
   {
    "duration": 11,
    "start_time": "2022-07-20T07:00:31.244Z"
   },
   {
    "duration": 9,
    "start_time": "2022-07-20T07:03:34.894Z"
   },
   {
    "duration": 33,
    "start_time": "2022-07-20T07:03:38.030Z"
   },
   {
    "duration": 15,
    "start_time": "2022-07-20T07:03:40.511Z"
   },
   {
    "duration": 318,
    "start_time": "2022-07-20T07:05:34.909Z"
   },
   {
    "duration": 24,
    "start_time": "2022-07-20T07:05:35.557Z"
   },
   {
    "duration": 12,
    "start_time": "2022-07-20T07:12:42.616Z"
   },
   {
    "duration": 10,
    "start_time": "2022-07-20T07:12:45.810Z"
   },
   {
    "duration": 52,
    "start_time": "2022-07-20T07:12:51.138Z"
   },
   {
    "duration": 10,
    "start_time": "2022-07-20T07:13:35.495Z"
   },
   {
    "duration": 36,
    "start_time": "2022-07-20T07:13:41.463Z"
   },
   {
    "duration": 16,
    "start_time": "2022-07-20T07:13:46.111Z"
   },
   {
    "duration": 22,
    "start_time": "2022-07-20T07:27:34.088Z"
   },
   {
    "duration": 1217,
    "start_time": "2022-07-20T07:45:51.134Z"
   },
   {
    "duration": 165,
    "start_time": "2022-07-20T07:45:52.353Z"
   },
   {
    "duration": 4,
    "start_time": "2022-07-20T07:45:52.520Z"
   },
   {
    "duration": 33,
    "start_time": "2022-07-20T07:45:52.526Z"
   },
   {
    "duration": 8,
    "start_time": "2022-07-20T07:45:52.561Z"
   },
   {
    "duration": 24,
    "start_time": "2022-07-20T07:45:52.570Z"
   },
   {
    "duration": 13,
    "start_time": "2022-07-20T07:45:52.596Z"
   },
   {
    "duration": 49,
    "start_time": "2022-07-20T07:45:52.610Z"
   },
   {
    "duration": 21,
    "start_time": "2022-07-20T07:45:52.661Z"
   },
   {
    "duration": 5,
    "start_time": "2022-07-20T07:45:52.684Z"
   },
   {
    "duration": 20,
    "start_time": "2022-07-20T07:45:52.691Z"
   },
   {
    "duration": 32,
    "start_time": "2022-07-20T07:45:52.713Z"
   },
   {
    "duration": 15,
    "start_time": "2022-07-20T07:45:52.746Z"
   },
   {
    "duration": 17,
    "start_time": "2022-07-20T07:45:52.763Z"
   },
   {
    "duration": 16,
    "start_time": "2022-07-20T07:45:52.782Z"
   },
   {
    "duration": 7,
    "start_time": "2022-07-20T07:45:52.800Z"
   },
   {
    "duration": 13,
    "start_time": "2022-07-20T07:45:52.808Z"
   },
   {
    "duration": 14,
    "start_time": "2022-07-20T07:45:52.846Z"
   },
   {
    "duration": 59,
    "start_time": "2022-07-20T07:45:52.862Z"
   },
   {
    "duration": 23,
    "start_time": "2022-07-20T07:45:52.923Z"
   },
   {
    "duration": 317,
    "start_time": "2022-07-20T07:45:52.947Z"
   },
   {
    "duration": 366,
    "start_time": "2022-07-20T07:45:53.266Z"
   },
   {
    "duration": 279,
    "start_time": "2022-07-20T07:45:53.633Z"
   },
   {
    "duration": 392,
    "start_time": "2022-07-20T07:45:53.914Z"
   },
   {
    "duration": 231,
    "start_time": "2022-07-20T07:45:54.307Z"
   },
   {
    "duration": 359,
    "start_time": "2022-07-20T07:45:54.540Z"
   },
   {
    "duration": 201,
    "start_time": "2022-07-20T07:45:54.901Z"
   },
   {
    "duration": 4,
    "start_time": "2022-07-20T07:45:55.107Z"
   },
   {
    "duration": 244,
    "start_time": "2022-07-20T07:45:55.114Z"
   },
   {
    "duration": 270,
    "start_time": "2022-07-20T07:45:55.359Z"
   },
   {
    "duration": 11,
    "start_time": "2022-07-20T07:45:55.631Z"
   },
   {
    "duration": 261,
    "start_time": "2022-07-20T07:45:55.648Z"
   },
   {
    "duration": 0,
    "start_time": "2022-07-20T07:45:55.910Z"
   },
   {
    "duration": 0,
    "start_time": "2022-07-20T07:45:55.912Z"
   },
   {
    "duration": 0,
    "start_time": "2022-07-20T07:45:55.913Z"
   },
   {
    "duration": 0,
    "start_time": "2022-07-20T07:45:55.914Z"
   },
   {
    "duration": 0,
    "start_time": "2022-07-20T07:45:55.915Z"
   },
   {
    "duration": 1307,
    "start_time": "2022-07-20T08:43:06.912Z"
   },
   {
    "duration": 82,
    "start_time": "2022-07-20T08:43:08.221Z"
   },
   {
    "duration": 4,
    "start_time": "2022-07-20T08:43:08.304Z"
   },
   {
    "duration": 27,
    "start_time": "2022-07-20T08:43:08.311Z"
   },
   {
    "duration": 14,
    "start_time": "2022-07-20T08:43:08.339Z"
   },
   {
    "duration": 32,
    "start_time": "2022-07-20T08:43:08.354Z"
   },
   {
    "duration": 13,
    "start_time": "2022-07-20T08:43:08.388Z"
   },
   {
    "duration": 25,
    "start_time": "2022-07-20T08:43:08.403Z"
   },
   {
    "duration": 22,
    "start_time": "2022-07-20T08:43:08.450Z"
   },
   {
    "duration": 4,
    "start_time": "2022-07-20T08:43:08.476Z"
   },
   {
    "duration": 25,
    "start_time": "2022-07-20T08:43:08.482Z"
   },
   {
    "duration": 37,
    "start_time": "2022-07-20T08:43:08.509Z"
   },
   {
    "duration": 16,
    "start_time": "2022-07-20T08:43:08.554Z"
   },
   {
    "duration": 10,
    "start_time": "2022-07-20T08:43:08.572Z"
   },
   {
    "duration": 13,
    "start_time": "2022-07-20T08:43:08.584Z"
   },
   {
    "duration": 4,
    "start_time": "2022-07-20T08:43:08.599Z"
   },
   {
    "duration": 11,
    "start_time": "2022-07-20T08:43:08.605Z"
   },
   {
    "duration": 36,
    "start_time": "2022-07-20T08:43:08.618Z"
   },
   {
    "duration": 50,
    "start_time": "2022-07-20T08:43:08.655Z"
   },
   {
    "duration": 35,
    "start_time": "2022-07-20T08:43:08.707Z"
   },
   {
    "duration": 379,
    "start_time": "2022-07-20T08:43:08.748Z"
   },
   {
    "duration": 399,
    "start_time": "2022-07-20T08:43:09.128Z"
   },
   {
    "duration": 283,
    "start_time": "2022-07-20T08:43:09.528Z"
   },
   {
    "duration": 403,
    "start_time": "2022-07-20T08:43:09.813Z"
   },
   {
    "duration": 251,
    "start_time": "2022-07-20T08:43:10.218Z"
   },
   {
    "duration": 349,
    "start_time": "2022-07-20T08:43:10.471Z"
   },
   {
    "duration": 192,
    "start_time": "2022-07-20T08:43:10.822Z"
   },
   {
    "duration": 5,
    "start_time": "2022-07-20T08:43:11.018Z"
   },
   {
    "duration": 209,
    "start_time": "2022-07-20T08:43:11.025Z"
   },
   {
    "duration": 295,
    "start_time": "2022-07-20T08:43:11.240Z"
   },
   {
    "duration": 5,
    "start_time": "2022-07-20T08:43:11.537Z"
   },
   {
    "duration": 320,
    "start_time": "2022-07-20T08:43:11.543Z"
   },
   {
    "duration": 0,
    "start_time": "2022-07-20T08:43:11.865Z"
   },
   {
    "duration": 0,
    "start_time": "2022-07-20T08:43:11.866Z"
   },
   {
    "duration": 0,
    "start_time": "2022-07-20T08:43:11.867Z"
   },
   {
    "duration": 0,
    "start_time": "2022-07-20T08:43:11.868Z"
   },
   {
    "duration": 0,
    "start_time": "2022-07-20T08:43:11.870Z"
   },
   {
    "duration": 181,
    "start_time": "2022-07-20T08:48:14.290Z"
   },
   {
    "duration": 208,
    "start_time": "2022-07-20T08:49:22.955Z"
   },
   {
    "duration": 177,
    "start_time": "2022-07-20T08:49:53.054Z"
   },
   {
    "duration": 152,
    "start_time": "2022-07-20T08:49:57.051Z"
   },
   {
    "duration": 64,
    "start_time": "2022-07-20T08:50:00.127Z"
   },
   {
    "duration": 7,
    "start_time": "2022-07-20T08:50:54.054Z"
   },
   {
    "duration": 4,
    "start_time": "2022-07-20T08:51:13.593Z"
   },
   {
    "duration": 4,
    "start_time": "2022-07-20T08:51:22.982Z"
   },
   {
    "duration": 84,
    "start_time": "2022-07-20T08:53:39.557Z"
   },
   {
    "duration": 185,
    "start_time": "2022-07-20T08:54:16.280Z"
   },
   {
    "duration": 5,
    "start_time": "2022-07-20T08:54:19.972Z"
   },
   {
    "duration": 23,
    "start_time": "2022-07-20T08:54:22.283Z"
   },
   {
    "duration": 1176,
    "start_time": "2022-07-20T08:54:31.808Z"
   },
   {
    "duration": 83,
    "start_time": "2022-07-20T08:54:32.986Z"
   },
   {
    "duration": 5,
    "start_time": "2022-07-20T08:54:33.070Z"
   },
   {
    "duration": 38,
    "start_time": "2022-07-20T08:54:33.078Z"
   },
   {
    "duration": 9,
    "start_time": "2022-07-20T08:54:33.118Z"
   },
   {
    "duration": 34,
    "start_time": "2022-07-20T08:54:33.128Z"
   },
   {
    "duration": 13,
    "start_time": "2022-07-20T08:54:33.163Z"
   },
   {
    "duration": 19,
    "start_time": "2022-07-20T08:54:33.178Z"
   },
   {
    "duration": 18,
    "start_time": "2022-07-20T08:54:33.199Z"
   },
   {
    "duration": 13,
    "start_time": "2022-07-20T08:54:33.242Z"
   },
   {
    "duration": 18,
    "start_time": "2022-07-20T08:54:33.257Z"
   },
   {
    "duration": 8,
    "start_time": "2022-07-20T08:54:33.276Z"
   },
   {
    "duration": 16,
    "start_time": "2022-07-20T08:54:33.286Z"
   },
   {
    "duration": 45,
    "start_time": "2022-07-20T08:54:33.304Z"
   },
   {
    "duration": 11,
    "start_time": "2022-07-20T08:54:33.353Z"
   },
   {
    "duration": 6,
    "start_time": "2022-07-20T08:54:33.366Z"
   },
   {
    "duration": 21,
    "start_time": "2022-07-20T08:54:33.374Z"
   },
   {
    "duration": 16,
    "start_time": "2022-07-20T08:54:33.397Z"
   },
   {
    "duration": 71,
    "start_time": "2022-07-20T08:54:33.415Z"
   },
   {
    "duration": 14,
    "start_time": "2022-07-20T08:54:33.487Z"
   },
   {
    "duration": 335,
    "start_time": "2022-07-20T08:54:33.503Z"
   },
   {
    "duration": 384,
    "start_time": "2022-07-20T08:54:33.839Z"
   },
   {
    "duration": 279,
    "start_time": "2022-07-20T08:54:34.225Z"
   },
   {
    "duration": 431,
    "start_time": "2022-07-20T08:54:34.506Z"
   },
   {
    "duration": 263,
    "start_time": "2022-07-20T08:54:34.940Z"
   },
   {
    "duration": 420,
    "start_time": "2022-07-20T08:54:35.205Z"
   },
   {
    "duration": 191,
    "start_time": "2022-07-20T08:54:35.627Z"
   },
   {
    "duration": 5,
    "start_time": "2022-07-20T08:54:35.821Z"
   },
   {
    "duration": 237,
    "start_time": "2022-07-20T08:54:35.828Z"
   },
   {
    "duration": 285,
    "start_time": "2022-07-20T08:54:36.067Z"
   },
   {
    "duration": 5,
    "start_time": "2022-07-20T08:54:36.357Z"
   },
   {
    "duration": 161,
    "start_time": "2022-07-20T08:54:36.364Z"
   },
   {
    "duration": 30,
    "start_time": "2022-07-20T08:54:36.527Z"
   },
   {
    "duration": 11,
    "start_time": "2022-07-20T08:54:36.559Z"
   },
   {
    "duration": 10,
    "start_time": "2022-07-20T08:54:36.571Z"
   },
   {
    "duration": 139,
    "start_time": "2022-07-20T08:54:36.582Z"
   },
   {
    "duration": 0,
    "start_time": "2022-07-20T08:54:36.723Z"
   },
   {
    "duration": 36,
    "start_time": "2022-07-20T08:55:21.027Z"
   },
   {
    "duration": 1187,
    "start_time": "2022-07-20T08:55:33.673Z"
   },
   {
    "duration": 75,
    "start_time": "2022-07-20T08:55:34.862Z"
   },
   {
    "duration": 10,
    "start_time": "2022-07-20T08:55:34.938Z"
   },
   {
    "duration": 37,
    "start_time": "2022-07-20T08:55:34.950Z"
   },
   {
    "duration": 9,
    "start_time": "2022-07-20T08:55:34.989Z"
   },
   {
    "duration": 54,
    "start_time": "2022-07-20T08:55:35.000Z"
   },
   {
    "duration": 18,
    "start_time": "2022-07-20T08:55:35.056Z"
   },
   {
    "duration": 32,
    "start_time": "2022-07-20T08:55:35.076Z"
   },
   {
    "duration": 39,
    "start_time": "2022-07-20T08:55:35.111Z"
   },
   {
    "duration": 7,
    "start_time": "2022-07-20T08:55:35.161Z"
   },
   {
    "duration": 27,
    "start_time": "2022-07-20T08:55:35.170Z"
   },
   {
    "duration": 10,
    "start_time": "2022-07-20T08:55:35.200Z"
   },
   {
    "duration": 42,
    "start_time": "2022-07-20T08:55:35.212Z"
   },
   {
    "duration": 16,
    "start_time": "2022-07-20T08:55:35.257Z"
   },
   {
    "duration": 10,
    "start_time": "2022-07-20T08:55:35.275Z"
   },
   {
    "duration": 5,
    "start_time": "2022-07-20T08:55:35.287Z"
   },
   {
    "duration": 17,
    "start_time": "2022-07-20T08:55:35.294Z"
   },
   {
    "duration": 37,
    "start_time": "2022-07-20T08:55:35.313Z"
   },
   {
    "duration": 77,
    "start_time": "2022-07-20T08:55:35.354Z"
   },
   {
    "duration": 19,
    "start_time": "2022-07-20T08:55:35.432Z"
   },
   {
    "duration": 311,
    "start_time": "2022-07-20T08:55:35.452Z"
   },
   {
    "duration": 383,
    "start_time": "2022-07-20T08:55:35.765Z"
   },
   {
    "duration": 275,
    "start_time": "2022-07-20T08:55:36.152Z"
   },
   {
    "duration": 403,
    "start_time": "2022-07-20T08:55:36.429Z"
   },
   {
    "duration": 237,
    "start_time": "2022-07-20T08:55:36.840Z"
   },
   {
    "duration": 340,
    "start_time": "2022-07-20T08:55:37.079Z"
   },
   {
    "duration": 186,
    "start_time": "2022-07-20T08:55:37.421Z"
   },
   {
    "duration": 5,
    "start_time": "2022-07-20T08:55:37.610Z"
   },
   {
    "duration": 229,
    "start_time": "2022-07-20T08:55:37.617Z"
   },
   {
    "duration": 332,
    "start_time": "2022-07-20T08:55:37.850Z"
   },
   {
    "duration": 8,
    "start_time": "2022-07-20T08:55:38.184Z"
   },
   {
    "duration": 186,
    "start_time": "2022-07-20T08:55:38.194Z"
   },
   {
    "duration": 22,
    "start_time": "2022-07-20T08:55:38.382Z"
   },
   {
    "duration": 15,
    "start_time": "2022-07-20T08:55:38.406Z"
   },
   {
    "duration": 33,
    "start_time": "2022-07-20T08:55:38.423Z"
   },
   {
    "duration": 30,
    "start_time": "2022-07-20T08:55:38.458Z"
   },
   {
    "duration": 15,
    "start_time": "2022-07-20T08:55:38.489Z"
   },
   {
    "duration": 1246,
    "start_time": "2022-07-20T08:57:00.125Z"
   },
   {
    "duration": 84,
    "start_time": "2022-07-20T08:57:01.373Z"
   },
   {
    "duration": 7,
    "start_time": "2022-07-20T08:57:01.459Z"
   },
   {
    "duration": 63,
    "start_time": "2022-07-20T08:57:01.469Z"
   },
   {
    "duration": 20,
    "start_time": "2022-07-20T08:57:01.535Z"
   },
   {
    "duration": 62,
    "start_time": "2022-07-20T08:57:01.557Z"
   },
   {
    "duration": 15,
    "start_time": "2022-07-20T08:57:01.622Z"
   },
   {
    "duration": 50,
    "start_time": "2022-07-20T08:57:01.639Z"
   },
   {
    "duration": 32,
    "start_time": "2022-07-20T08:57:01.692Z"
   },
   {
    "duration": 5,
    "start_time": "2022-07-20T08:57:01.728Z"
   },
   {
    "duration": 41,
    "start_time": "2022-07-20T08:57:01.735Z"
   },
   {
    "duration": 10,
    "start_time": "2022-07-20T08:57:01.779Z"
   },
   {
    "duration": 27,
    "start_time": "2022-07-20T08:57:01.790Z"
   },
   {
    "duration": 12,
    "start_time": "2022-07-20T08:57:01.819Z"
   },
   {
    "duration": 30,
    "start_time": "2022-07-20T08:57:01.833Z"
   },
   {
    "duration": 15,
    "start_time": "2022-07-20T08:57:01.865Z"
   },
   {
    "duration": 25,
    "start_time": "2022-07-20T08:57:01.883Z"
   },
   {
    "duration": 22,
    "start_time": "2022-07-20T08:57:01.911Z"
   },
   {
    "duration": 107,
    "start_time": "2022-07-20T08:57:01.934Z"
   },
   {
    "duration": 18,
    "start_time": "2022-07-20T08:57:02.044Z"
   },
   {
    "duration": 323,
    "start_time": "2022-07-20T08:57:02.064Z"
   },
   {
    "duration": 378,
    "start_time": "2022-07-20T08:57:02.388Z"
   },
   {
    "duration": 503,
    "start_time": "2022-07-20T08:57:02.767Z"
   },
   {
    "duration": 711,
    "start_time": "2022-07-20T08:57:03.272Z"
   },
   {
    "duration": 496,
    "start_time": "2022-07-20T08:57:03.985Z"
   },
   {
    "duration": 600,
    "start_time": "2022-07-20T08:57:04.483Z"
   },
   {
    "duration": 404,
    "start_time": "2022-07-20T08:57:05.085Z"
   },
   {
    "duration": 5,
    "start_time": "2022-07-20T08:57:05.494Z"
   },
   {
    "duration": 202,
    "start_time": "2022-07-20T08:57:05.500Z"
   },
   {
    "duration": 286,
    "start_time": "2022-07-20T08:57:05.703Z"
   },
   {
    "duration": 6,
    "start_time": "2022-07-20T08:57:05.990Z"
   },
   {
    "duration": 205,
    "start_time": "2022-07-20T08:57:05.997Z"
   },
   {
    "duration": 22,
    "start_time": "2022-07-20T08:57:06.204Z"
   },
   {
    "duration": 16,
    "start_time": "2022-07-20T08:57:06.242Z"
   },
   {
    "duration": 19,
    "start_time": "2022-07-20T08:57:06.260Z"
   },
   {
    "duration": 33,
    "start_time": "2022-07-20T08:57:06.281Z"
   },
   {
    "duration": 34,
    "start_time": "2022-07-20T08:57:06.315Z"
   },
   {
    "duration": 1311,
    "start_time": "2022-07-20T08:58:14.308Z"
   },
   {
    "duration": 80,
    "start_time": "2022-07-20T08:58:15.622Z"
   },
   {
    "duration": 5,
    "start_time": "2022-07-20T08:58:15.704Z"
   },
   {
    "duration": 33,
    "start_time": "2022-07-20T08:58:15.711Z"
   },
   {
    "duration": 14,
    "start_time": "2022-07-20T08:58:15.747Z"
   },
   {
    "duration": 36,
    "start_time": "2022-07-20T08:58:15.763Z"
   },
   {
    "duration": 14,
    "start_time": "2022-07-20T08:58:15.801Z"
   },
   {
    "duration": 42,
    "start_time": "2022-07-20T08:58:15.817Z"
   },
   {
    "duration": 19,
    "start_time": "2022-07-20T08:58:15.861Z"
   },
   {
    "duration": 4,
    "start_time": "2022-07-20T08:58:15.883Z"
   },
   {
    "duration": 20,
    "start_time": "2022-07-20T08:58:15.889Z"
   },
   {
    "duration": 40,
    "start_time": "2022-07-20T08:58:15.911Z"
   },
   {
    "duration": 28,
    "start_time": "2022-07-20T08:58:15.952Z"
   },
   {
    "duration": 14,
    "start_time": "2022-07-20T08:58:15.982Z"
   },
   {
    "duration": 11,
    "start_time": "2022-07-20T08:58:15.998Z"
   },
   {
    "duration": 8,
    "start_time": "2022-07-20T08:58:16.012Z"
   },
   {
    "duration": 36,
    "start_time": "2022-07-20T08:58:16.023Z"
   },
   {
    "duration": 17,
    "start_time": "2022-07-20T08:58:16.061Z"
   },
   {
    "duration": 75,
    "start_time": "2022-07-20T08:58:16.080Z"
   },
   {
    "duration": 18,
    "start_time": "2022-07-20T08:58:16.158Z"
   },
   {
    "duration": 335,
    "start_time": "2022-07-20T08:58:16.178Z"
   },
   {
    "duration": 397,
    "start_time": "2022-07-20T08:58:16.515Z"
   },
   {
    "duration": 294,
    "start_time": "2022-07-20T08:58:16.914Z"
   },
   {
    "duration": 413,
    "start_time": "2022-07-20T08:58:17.210Z"
   },
   {
    "duration": 276,
    "start_time": "2022-07-20T08:58:17.624Z"
   },
   {
    "duration": 385,
    "start_time": "2022-07-20T08:58:17.902Z"
   },
   {
    "duration": 185,
    "start_time": "2022-07-20T08:58:18.289Z"
   },
   {
    "duration": 5,
    "start_time": "2022-07-20T08:58:18.477Z"
   },
   {
    "duration": 204,
    "start_time": "2022-07-20T08:58:18.484Z"
   },
   {
    "duration": 285,
    "start_time": "2022-07-20T08:58:18.689Z"
   },
   {
    "duration": 5,
    "start_time": "2022-07-20T08:58:18.976Z"
   },
   {
    "duration": 263,
    "start_time": "2022-07-20T08:58:18.982Z"
   },
   {
    "duration": 32,
    "start_time": "2022-07-20T08:58:19.248Z"
   },
   {
    "duration": 12,
    "start_time": "2022-07-20T08:58:19.282Z"
   },
   {
    "duration": 14,
    "start_time": "2022-07-20T08:58:19.297Z"
   },
   {
    "duration": 64,
    "start_time": "2022-07-20T08:58:19.313Z"
   },
   {
    "duration": 19,
    "start_time": "2022-07-20T08:58:19.379Z"
   }
  ],
  "kernelspec": {
   "display_name": "Python 3 (ipykernel)",
   "language": "python",
   "name": "python3"
  },
  "language_info": {
   "codemirror_mode": {
    "name": "ipython",
    "version": 3
   },
   "file_extension": ".py",
   "mimetype": "text/x-python",
   "name": "python",
   "nbconvert_exporter": "python",
   "pygments_lexer": "ipython3",
   "version": "3.9.13"
  },
  "toc": {
   "base_numbering": 1,
   "nav_menu": {},
   "number_sections": true,
   "sideBar": true,
   "skip_h1_title": true,
   "title_cell": "Table of Contents",
   "title_sidebar": "Contents",
   "toc_cell": false,
   "toc_position": {
    "height": "calc(100% - 180px)",
    "left": "10px",
    "top": "150px",
    "width": "310.1875px"
   },
   "toc_section_display": true,
   "toc_window_display": true
  }
 },
 "nbformat": 4,
 "nbformat_minor": 2
}
