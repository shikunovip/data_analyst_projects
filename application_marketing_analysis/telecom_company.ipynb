{
 "cells": [
  {
   "cell_type": "markdown",
   "metadata": {},
   "source": [
    "# Определение перспективного тарифа для телеком-компании"
   ]
  },
  {
   "cell_type": "markdown",
   "metadata": {},
   "source": [
    "В вашем распоряжении данные 500 пользователей «Мегалайна»: кто они, откуда, каким тарифом пользуются, сколько звонков и сообщений каждый отправил за 2018 год.  \n",
    "Нужно проанализировать поведение клиентов и сделать вывод — какой тариф лучше, а имеено проверить две гипотезы:\n",
    "1. Средняя выручка пользователей тарифов «Ультра» и «Смарт» различаются;\n",
    "2. Средняя выручка пользователей из Москвы отличается от выручки пользователей из других регионов.\n"
   ]
  },
  {
   "cell_type": "markdown",
   "metadata": {},
   "source": [
    "**Описание тарифов**  \n",
    "\n",
    "*Тариф «Смарт»*\n",
    "- Ежемесячная плата: 550 рублей\n",
    "- Включено 500 минут разговора, 50 сообщений и 15 Гб интернет-трафика\n",
    "- Стоимость услуг сверх тарифного пакета:\n",
    "- минута разговора: 3 рубля\n",
    "- сообщение: 3 рубля\n",
    "- 1 Гб интернет-трафика: 200 рублей  \n",
    "\n",
    "*Тариф «Ультра»*  \n",
    "- Ежемесячная плата: 1950 рублей\n",
    "- Включено 3000 минут разговора, 1000 сообщений и 30 Гб интернет-трафика\n",
    "- Стоимость услуг сверх тарифного пакета:\n",
    "- минута разговора: 1 рубль\n",
    "- сообщение: 1 рубль\n",
    "- 1 Гб интернет-трафика: 150 рублей"
   ]
  },
  {
   "cell_type": "markdown",
   "metadata": {},
   "source": [
    "***Примечание***  \n",
    "«Мегалайн» всегда округляет секунды до минут, а мегабайты — до гигабайт. Каждый звонок округляется отдельно: даже если он длился всего 1 секунду, будет засчитан как 1 минута.\n",
    "Для веб-трафика отдельные сессии не считаются. Вместо этого общая сумма за месяц округляется в бо́льшую сторону. Если абонент использует 1025 мегабайт в этом месяце, с него возьмут плату за 2 гигабайта. Примите, что неиспользованные за предыдущий месяц звонки, смс, интернет на следующий месяц не переносятся."
   ]
  },
  {
   "cell_type": "markdown",
   "metadata": {},
   "source": [
    "***Описание данных***  \n",
    "Таблица *users* (информация о пользователях):  \n",
    "`user_id` — уникальный идентификатор пользователя  \n",
    "`first_name` — имя пользователя  \n",
    "`last_name` — фамилия пользователя  \n",
    "`age` — возраст пользователя (годы)  \n",
    "`reg_date` — дата подключения тарифа (день, месяц, год)  \n",
    "`churn_date` — дата прекращения пользования тарифом (если значение пропущено, то тариф ещё действовал на момент выгрузки данных)   \n",
    "`city` — город проживания пользователя  \n",
    "`tariff` — название тарифного плана  \n",
    "\n",
    "Таблица *calls* (информация о звонках):  \n",
    "`id` — уникальный номер звонка  \n",
    "`call_date` — дата звонка  \n",
    "`duration` — длительность звонка в минутах  \n",
    "`user_id` — идентификатор пользователя, сделавшего звонок  \n",
    "\n",
    "Таблица *messages* (информация о сообщениях):  \n",
    "`id` — уникальный номер сообщения  \n",
    "`message_date` — дата сообщения  \n",
    "`user_id` — идентификатор пользователя, отправившего сообщение \n",
    "\n",
    "Таблица *internet* (информация об интернет-сессиях): \n",
    "`id` — уникальный номер сессии  \n",
    "`mb_used` — объём потраченного за сессию интернет-трафика (в мегабайтах)  \n",
    "`session_date` — дата интернет-сессии  \n",
    "`user_id` — идентификатор пользователя  \n",
    "\n",
    "Таблица *tariffs* (информация о тарифах):  \n",
    "`tariff_name` — название тарифа  \n",
    "`rub_monthly_fee` — ежемесячная абонентская плата в рублях  \n",
    "`minutes_included` — количество минут разговора в месяц, включённых в абонентскую плату  \n",
    "`messages_included` — количество сообщений в месяц, включённых в абонентскую плату  \n",
    "`mb_per_month_included` — объём интернет-трафика, включённого в абонентскую плату (в мегабайтах)  \n",
    "`rub_per_minute` — стоимость минуты разговора сверх тарифного пакета (например, если в тарифе 100 минут разговора в месяц, то со 101 минуты будет взиматься плата)  \n",
    "`rub_per_message` — стоимость отправки сообщения сверх тарифного пакета  \n",
    "`rub_per_gb` — стоимость дополнительного гигабайта интернет-трафика сверх тарифного пакета (1 гигабайт = 1024 мегабайта)  "
   ]
  },
  {
   "cell_type": "markdown",
   "metadata": {},
   "source": [
    "## Исследование данных и их предобработка"
   ]
  },
  {
   "cell_type": "markdown",
   "metadata": {},
   "source": [
    "Начнем с импорта необходимых нам библиотек:"
   ]
  },
  {
   "cell_type": "code",
   "execution_count": 1,
   "metadata": {},
   "outputs": [],
   "source": [
    "import pandas as pd\n",
    "import matplotlib.pyplot as plt\n",
    "import seaborn as sns\n",
    "import numpy as np\n",
    "from scipy import stats as st"
   ]
  },
  {
   "cell_type": "markdown",
   "metadata": {},
   "source": [
    "Импортируем все предоставленные *csv-файлы* и сохраним их в датафреймы со схожими названиями:"
   ]
  },
  {
   "cell_type": "code",
   "execution_count": 2,
   "metadata": {},
   "outputs": [],
   "source": [
    "try:\n",
    "    calls = pd.read_csv('/datasets/calls.csv')\n",
    "    internet = pd.read_csv('/datasets/internet.csv')\n",
    "    messages = pd.read_csv('/datasets/messages.csv')\n",
    "    tariffs = pd.read_csv('/datasets/tariffs.csv')\n",
    "    users = pd.read_csv('/datasets/users.csv')\n",
    "except:\n",
    "    calls = pd.read_csv('calls.csv')\n",
    "    internet = pd.read_csv('internet.csv')\n",
    "    messages = pd.read_csv('messages.csv')\n",
    "    tariffs = pd.read_csv('tariffs.csv')\n",
    "    users = pd.read_csv('users.csv')"
   ]
  },
  {
   "cell_type": "markdown",
   "metadata": {},
   "source": [
    "Поскольку у нас 5 таблиц, с которыми придется работать, создадим обзорную функцию, которая будет выводить основную информацию от предоставленных данных"
   ]
  },
  {
   "cell_type": "code",
   "execution_count": 3,
   "metadata": {},
   "outputs": [],
   "source": [
    "def view_func(data):\n",
    "    '''\n",
    "    Обзорная функция для получения первичной информации о датафрейме\n",
    "    -Вывод первых пяти строк\n",
    "    -Применение функции info()\n",
    "    -Доля пропущенных значений по столбцам\n",
    "    -Сумма явных дубликатов\n",
    "    '''\n",
    "    print('Внешний вид датафрейма:')\n",
    "    print(data.head(5))\n",
    "    print('``````````````````````````````````````````````````')\n",
    "    print('Типы данных, кол-во строк и столбцов:')\n",
    "    print(data.info())\n",
    "    print('``````````````````````````````````````````````````')\n",
    "    print('Доля пропущенных значений:')    \n",
    "    print(data.isnull().mean())\n",
    "    print('``````````````````````````````````````````````````')\n",
    "    print('Количество явных дубликатов:')\n",
    "    print(data.duplicated().sum())\n",
    "    print('``````````````````````````````````````````````````')"
   ]
  },
  {
   "cell_type": "markdown",
   "metadata": {},
   "source": [
    "### Предобработка таблицы calls"
   ]
  },
  {
   "cell_type": "markdown",
   "metadata": {},
   "source": [
    "Посмотрим данные в таблице `cells`"
   ]
  },
  {
   "cell_type": "code",
   "execution_count": 4,
   "metadata": {},
   "outputs": [
    {
     "name": "stdout",
     "output_type": "stream",
     "text": [
      "Внешний вид датафрейма:\n",
      "       id   call_date  duration  user_id\n",
      "0  1000_0  2018-07-25      0.00     1000\n",
      "1  1000_1  2018-08-17      0.00     1000\n",
      "2  1000_2  2018-06-11      2.85     1000\n",
      "3  1000_3  2018-09-21     13.80     1000\n",
      "4  1000_4  2018-12-15      5.18     1000\n",
      "``````````````````````````````````````````````````\n",
      "Типы данных, кол-во строк и столбцов:\n",
      "<class 'pandas.core.frame.DataFrame'>\n",
      "RangeIndex: 202607 entries, 0 to 202606\n",
      "Data columns (total 4 columns):\n",
      " #   Column     Non-Null Count   Dtype  \n",
      "---  ------     --------------   -----  \n",
      " 0   id         202607 non-null  object \n",
      " 1   call_date  202607 non-null  object \n",
      " 2   duration   202607 non-null  float64\n",
      " 3   user_id    202607 non-null  int64  \n",
      "dtypes: float64(1), int64(1), object(2)\n",
      "memory usage: 6.2+ MB\n",
      "None\n",
      "``````````````````````````````````````````````````\n",
      "Доля пропущенных значений:\n",
      "id           0.0\n",
      "call_date    0.0\n",
      "duration     0.0\n",
      "user_id      0.0\n",
      "dtype: float64\n",
      "``````````````````````````````````````````````````\n",
      "Количество явных дубликатов:\n",
      "0\n",
      "``````````````````````````````````````````````````\n"
     ]
    }
   ],
   "source": [
    "view_func(calls)"
   ]
  },
  {
   "cell_type": "markdown",
   "metadata": {},
   "source": [
    "Пропусков нет, дубликатов нет, поменяем тип данных в столбце `call_date` на **datetime**:"
   ]
  },
  {
   "cell_type": "code",
   "execution_count": 5,
   "metadata": {},
   "outputs": [
    {
     "name": "stdout",
     "output_type": "stream",
     "text": [
      "<class 'pandas.core.frame.DataFrame'>\n",
      "RangeIndex: 202607 entries, 0 to 202606\n",
      "Data columns (total 4 columns):\n",
      " #   Column     Non-Null Count   Dtype         \n",
      "---  ------     --------------   -----         \n",
      " 0   id         202607 non-null  object        \n",
      " 1   call_date  202607 non-null  datetime64[ns]\n",
      " 2   duration   202607 non-null  float64       \n",
      " 3   user_id    202607 non-null  int64         \n",
      "dtypes: datetime64[ns](1), float64(1), int64(1), object(1)\n",
      "memory usage: 6.2+ MB\n"
     ]
    }
   ],
   "source": [
    "calls['call_date'] = pd.to_datetime(calls['call_date'], format='%Y-%m-%d')\n",
    "calls.info()"
   ]
  },
  {
   "cell_type": "markdown",
   "metadata": {},
   "source": [
    "Поскольку в нашем исследовании нужно будет проводить исследования по месяцам, добавим столбец `call_month` в наш датафрейм:"
   ]
  },
  {
   "cell_type": "code",
   "execution_count": 6,
   "metadata": {},
   "outputs": [
    {
     "data": {
      "text/html": [
       "<div>\n",
       "<style scoped>\n",
       "    .dataframe tbody tr th:only-of-type {\n",
       "        vertical-align: middle;\n",
       "    }\n",
       "\n",
       "    .dataframe tbody tr th {\n",
       "        vertical-align: top;\n",
       "    }\n",
       "\n",
       "    .dataframe thead th {\n",
       "        text-align: right;\n",
       "    }\n",
       "</style>\n",
       "<table border=\"1\" class=\"dataframe\">\n",
       "  <thead>\n",
       "    <tr style=\"text-align: right;\">\n",
       "      <th></th>\n",
       "      <th>id</th>\n",
       "      <th>call_date</th>\n",
       "      <th>duration</th>\n",
       "      <th>user_id</th>\n",
       "      <th>call_month</th>\n",
       "    </tr>\n",
       "  </thead>\n",
       "  <tbody>\n",
       "    <tr>\n",
       "      <th>0</th>\n",
       "      <td>1000_0</td>\n",
       "      <td>2018-07-25</td>\n",
       "      <td>0.00</td>\n",
       "      <td>1000</td>\n",
       "      <td>7</td>\n",
       "    </tr>\n",
       "    <tr>\n",
       "      <th>1</th>\n",
       "      <td>1000_1</td>\n",
       "      <td>2018-08-17</td>\n",
       "      <td>0.00</td>\n",
       "      <td>1000</td>\n",
       "      <td>8</td>\n",
       "    </tr>\n",
       "    <tr>\n",
       "      <th>2</th>\n",
       "      <td>1000_2</td>\n",
       "      <td>2018-06-11</td>\n",
       "      <td>2.85</td>\n",
       "      <td>1000</td>\n",
       "      <td>6</td>\n",
       "    </tr>\n",
       "    <tr>\n",
       "      <th>3</th>\n",
       "      <td>1000_3</td>\n",
       "      <td>2018-09-21</td>\n",
       "      <td>13.80</td>\n",
       "      <td>1000</td>\n",
       "      <td>9</td>\n",
       "    </tr>\n",
       "    <tr>\n",
       "      <th>4</th>\n",
       "      <td>1000_4</td>\n",
       "      <td>2018-12-15</td>\n",
       "      <td>5.18</td>\n",
       "      <td>1000</td>\n",
       "      <td>12</td>\n",
       "    </tr>\n",
       "    <tr>\n",
       "      <th>...</th>\n",
       "      <td>...</td>\n",
       "      <td>...</td>\n",
       "      <td>...</td>\n",
       "      <td>...</td>\n",
       "      <td>...</td>\n",
       "    </tr>\n",
       "    <tr>\n",
       "      <th>202602</th>\n",
       "      <td>1499_215</td>\n",
       "      <td>2018-12-26</td>\n",
       "      <td>0.76</td>\n",
       "      <td>1499</td>\n",
       "      <td>12</td>\n",
       "    </tr>\n",
       "    <tr>\n",
       "      <th>202603</th>\n",
       "      <td>1499_216</td>\n",
       "      <td>2018-10-18</td>\n",
       "      <td>18.83</td>\n",
       "      <td>1499</td>\n",
       "      <td>10</td>\n",
       "    </tr>\n",
       "    <tr>\n",
       "      <th>202604</th>\n",
       "      <td>1499_217</td>\n",
       "      <td>2018-11-10</td>\n",
       "      <td>10.81</td>\n",
       "      <td>1499</td>\n",
       "      <td>11</td>\n",
       "    </tr>\n",
       "    <tr>\n",
       "      <th>202605</th>\n",
       "      <td>1499_218</td>\n",
       "      <td>2018-10-06</td>\n",
       "      <td>4.27</td>\n",
       "      <td>1499</td>\n",
       "      <td>10</td>\n",
       "    </tr>\n",
       "    <tr>\n",
       "      <th>202606</th>\n",
       "      <td>1499_219</td>\n",
       "      <td>2018-12-14</td>\n",
       "      <td>19.62</td>\n",
       "      <td>1499</td>\n",
       "      <td>12</td>\n",
       "    </tr>\n",
       "  </tbody>\n",
       "</table>\n",
       "<p>202607 rows × 5 columns</p>\n",
       "</div>"
      ],
      "text/plain": [
       "              id  call_date  duration  user_id  call_month\n",
       "0         1000_0 2018-07-25      0.00     1000           7\n",
       "1         1000_1 2018-08-17      0.00     1000           8\n",
       "2         1000_2 2018-06-11      2.85     1000           6\n",
       "3         1000_3 2018-09-21     13.80     1000           9\n",
       "4         1000_4 2018-12-15      5.18     1000          12\n",
       "...          ...        ...       ...      ...         ...\n",
       "202602  1499_215 2018-12-26      0.76     1499          12\n",
       "202603  1499_216 2018-10-18     18.83     1499          10\n",
       "202604  1499_217 2018-11-10     10.81     1499          11\n",
       "202605  1499_218 2018-10-06      4.27     1499          10\n",
       "202606  1499_219 2018-12-14     19.62     1499          12\n",
       "\n",
       "[202607 rows x 5 columns]"
      ]
     },
     "execution_count": 6,
     "metadata": {},
     "output_type": "execute_result"
    }
   ],
   "source": [
    "calls['call_month'] = calls['call_date'].dt.month\n",
    "calls"
   ]
  },
  {
   "cell_type": "markdown",
   "metadata": {},
   "source": [
    "Посмотрим расброс данных и присутствие аномалий:"
   ]
  },
  {
   "cell_type": "code",
   "execution_count": 7,
   "metadata": {},
   "outputs": [
    {
     "data": {
      "text/html": [
       "<div>\n",
       "<style scoped>\n",
       "    .dataframe tbody tr th:only-of-type {\n",
       "        vertical-align: middle;\n",
       "    }\n",
       "\n",
       "    .dataframe tbody tr th {\n",
       "        vertical-align: top;\n",
       "    }\n",
       "\n",
       "    .dataframe thead th {\n",
       "        text-align: right;\n",
       "    }\n",
       "</style>\n",
       "<table border=\"1\" class=\"dataframe\">\n",
       "  <thead>\n",
       "    <tr style=\"text-align: right;\">\n",
       "      <th></th>\n",
       "      <th>duration</th>\n",
       "      <th>user_id</th>\n",
       "      <th>call_month</th>\n",
       "    </tr>\n",
       "  </thead>\n",
       "  <tbody>\n",
       "    <tr>\n",
       "      <th>count</th>\n",
       "      <td>202607.000000</td>\n",
       "      <td>202607.000000</td>\n",
       "      <td>202607.000000</td>\n",
       "    </tr>\n",
       "    <tr>\n",
       "      <th>mean</th>\n",
       "      <td>6.755887</td>\n",
       "      <td>1253.940619</td>\n",
       "      <td>8.574067</td>\n",
       "    </tr>\n",
       "    <tr>\n",
       "      <th>std</th>\n",
       "      <td>5.843365</td>\n",
       "      <td>144.722751</td>\n",
       "      <td>2.787093</td>\n",
       "    </tr>\n",
       "    <tr>\n",
       "      <th>min</th>\n",
       "      <td>0.000000</td>\n",
       "      <td>1000.000000</td>\n",
       "      <td>1.000000</td>\n",
       "    </tr>\n",
       "    <tr>\n",
       "      <th>25%</th>\n",
       "      <td>1.300000</td>\n",
       "      <td>1126.000000</td>\n",
       "      <td>7.000000</td>\n",
       "    </tr>\n",
       "    <tr>\n",
       "      <th>50%</th>\n",
       "      <td>6.000000</td>\n",
       "      <td>1260.000000</td>\n",
       "      <td>9.000000</td>\n",
       "    </tr>\n",
       "    <tr>\n",
       "      <th>75%</th>\n",
       "      <td>10.700000</td>\n",
       "      <td>1379.000000</td>\n",
       "      <td>11.000000</td>\n",
       "    </tr>\n",
       "    <tr>\n",
       "      <th>max</th>\n",
       "      <td>38.000000</td>\n",
       "      <td>1499.000000</td>\n",
       "      <td>12.000000</td>\n",
       "    </tr>\n",
       "  </tbody>\n",
       "</table>\n",
       "</div>"
      ],
      "text/plain": [
       "            duration        user_id     call_month\n",
       "count  202607.000000  202607.000000  202607.000000\n",
       "mean        6.755887    1253.940619       8.574067\n",
       "std         5.843365     144.722751       2.787093\n",
       "min         0.000000    1000.000000       1.000000\n",
       "25%         1.300000    1126.000000       7.000000\n",
       "50%         6.000000    1260.000000       9.000000\n",
       "75%        10.700000    1379.000000      11.000000\n",
       "max        38.000000    1499.000000      12.000000"
      ]
     },
     "execution_count": 7,
     "metadata": {},
     "output_type": "execute_result"
    }
   ],
   "source": [
    "calls.describe()"
   ]
  },
  {
   "cell_type": "code",
   "execution_count": 8,
   "metadata": {},
   "outputs": [
    {
     "data": {
      "image/png": "[encoded data removed]",
      "text/plain": [
       "<Figure size 432x288 with 1 Axes>"
      ]
     },
     "metadata": {
      "needs_background": "light"
     },
     "output_type": "display_data"
    }
   ],
   "source": [
    "calls['call_date'].hist();"
   ]
  },
  {
   "cell_type": "code",
   "execution_count": 9,
   "metadata": {},
   "outputs": [
    {
     "data": {
      "image/png": "[encoded data removed]",
      "text/plain": [
       "<Figure size 432x288 with 1 Axes>"
      ]
     },
     "metadata": {
      "needs_background": "light"
     },
     "output_type": "display_data"
    }
   ],
   "source": [
    "calls.boxplot('duration');"
   ]
  },
  {
   "cell_type": "code",
   "execution_count": 10,
   "metadata": {},
   "outputs": [
    {
     "data": {
      "text/html": [
       "<div>\n",
       "<style scoped>\n",
       "    .dataframe tbody tr th:only-of-type {\n",
       "        vertical-align: middle;\n",
       "    }\n",
       "\n",
       "    .dataframe tbody tr th {\n",
       "        vertical-align: top;\n",
       "    }\n",
       "\n",
       "    .dataframe thead th {\n",
       "        text-align: right;\n",
       "    }\n",
       "</style>\n",
       "<table border=\"1\" class=\"dataframe\">\n",
       "  <thead>\n",
       "    <tr style=\"text-align: right;\">\n",
       "      <th></th>\n",
       "      <th>id</th>\n",
       "      <th>call_date</th>\n",
       "      <th>duration</th>\n",
       "      <th>user_id</th>\n",
       "      <th>call_month</th>\n",
       "    </tr>\n",
       "  </thead>\n",
       "  <tbody>\n",
       "    <tr>\n",
       "      <th>508</th>\n",
       "      <td>1002_18</td>\n",
       "      <td>2018-07-16</td>\n",
       "      <td>26.44</td>\n",
       "      <td>1002</td>\n",
       "      <td>7</td>\n",
       "    </tr>\n",
       "    <tr>\n",
       "      <th>766</th>\n",
       "      <td>1003_59</td>\n",
       "      <td>2018-11-06</td>\n",
       "      <td>26.99</td>\n",
       "      <td>1003</td>\n",
       "      <td>11</td>\n",
       "    </tr>\n",
       "    <tr>\n",
       "      <th>1753</th>\n",
       "      <td>1005_350</td>\n",
       "      <td>2018-06-26</td>\n",
       "      <td>25.82</td>\n",
       "      <td>1005</td>\n",
       "      <td>6</td>\n",
       "    </tr>\n",
       "    <tr>\n",
       "      <th>1832</th>\n",
       "      <td>1005_429</td>\n",
       "      <td>2018-08-03</td>\n",
       "      <td>25.57</td>\n",
       "      <td>1005</td>\n",
       "      <td>8</td>\n",
       "    </tr>\n",
       "    <tr>\n",
       "      <th>1844</th>\n",
       "      <td>1005_441</td>\n",
       "      <td>2018-11-27</td>\n",
       "      <td>25.29</td>\n",
       "      <td>1005</td>\n",
       "      <td>11</td>\n",
       "    </tr>\n",
       "    <tr>\n",
       "      <th>...</th>\n",
       "      <td>...</td>\n",
       "      <td>...</td>\n",
       "      <td>...</td>\n",
       "      <td>...</td>\n",
       "      <td>...</td>\n",
       "    </tr>\n",
       "    <tr>\n",
       "      <th>199501</th>\n",
       "      <td>1491_460</td>\n",
       "      <td>2018-11-24</td>\n",
       "      <td>27.29</td>\n",
       "      <td>1491</td>\n",
       "      <td>11</td>\n",
       "    </tr>\n",
       "    <tr>\n",
       "      <th>199516</th>\n",
       "      <td>1491_475</td>\n",
       "      <td>2018-12-10</td>\n",
       "      <td>26.36</td>\n",
       "      <td>1491</td>\n",
       "      <td>12</td>\n",
       "    </tr>\n",
       "    <tr>\n",
       "      <th>200421</th>\n",
       "      <td>1494_83</td>\n",
       "      <td>2018-09-02</td>\n",
       "      <td>26.12</td>\n",
       "      <td>1494</td>\n",
       "      <td>9</td>\n",
       "    </tr>\n",
       "    <tr>\n",
       "      <th>201599</th>\n",
       "      <td>1496_421</td>\n",
       "      <td>2018-10-19</td>\n",
       "      <td>26.15</td>\n",
       "      <td>1496</td>\n",
       "      <td>10</td>\n",
       "    </tr>\n",
       "    <tr>\n",
       "      <th>202044</th>\n",
       "      <td>1497_38</td>\n",
       "      <td>2018-10-09</td>\n",
       "      <td>26.90</td>\n",
       "      <td>1497</td>\n",
       "      <td>10</td>\n",
       "    </tr>\n",
       "  </tbody>\n",
       "</table>\n",
       "<p>678 rows × 5 columns</p>\n",
       "</div>"
      ],
      "text/plain": [
       "              id  call_date  duration  user_id  call_month\n",
       "508      1002_18 2018-07-16     26.44     1002           7\n",
       "766      1003_59 2018-11-06     26.99     1003          11\n",
       "1753    1005_350 2018-06-26     25.82     1005           6\n",
       "1832    1005_429 2018-08-03     25.57     1005           8\n",
       "1844    1005_441 2018-11-27     25.29     1005          11\n",
       "...          ...        ...       ...      ...         ...\n",
       "199501  1491_460 2018-11-24     27.29     1491          11\n",
       "199516  1491_475 2018-12-10     26.36     1491          12\n",
       "200421   1494_83 2018-09-02     26.12     1494           9\n",
       "201599  1496_421 2018-10-19     26.15     1496          10\n",
       "202044   1497_38 2018-10-09     26.90     1497          10\n",
       "\n",
       "[678 rows x 5 columns]"
      ]
     },
     "execution_count": 10,
     "metadata": {},
     "output_type": "execute_result"
    }
   ],
   "source": [
    "calls[calls['duration'] > 25]"
   ]
  },
  {
   "cell_type": "markdown",
   "metadata": {},
   "source": [
    "В целом все не так уж и плохо, есть 678 значений длительности звонков более 25 минут, что, с одной стороны, кажется выбросами, но с другой стороны, это в полне себе возможно в реальной жизни.  \n",
    "На данном этапе решаю их оставить,  если при проверке гипотез будет мешать выполнению функций - то уберу.  \n",
    "Нулевые значения в `duration` тоже оставляем, потому что в инструкции написано, что это пропущенные звонки"
   ]
  },
  {
   "cell_type": "markdown",
   "metadata": {},
   "source": [
    "### Предобработка таблицы internet"
   ]
  },
  {
   "cell_type": "markdown",
   "metadata": {},
   "source": [
    "Проверим данные в таблице `internet`"
   ]
  },
  {
   "cell_type": "code",
   "execution_count": 11,
   "metadata": {},
   "outputs": [
    {
     "name": "stdout",
     "output_type": "stream",
     "text": [
      "Внешний вид датафрейма:\n",
      "   Unnamed: 0      id  mb_used session_date  user_id\n",
      "0           0  1000_0   112.95   2018-11-25     1000\n",
      "1           1  1000_1  1052.81   2018-09-07     1000\n",
      "2           2  1000_2  1197.26   2018-06-25     1000\n",
      "3           3  1000_3   550.27   2018-08-22     1000\n",
      "4           4  1000_4   302.56   2018-09-24     1000\n",
      "``````````````````````````````````````````````````\n",
      "Типы данных, кол-во строк и столбцов:\n",
      "<class 'pandas.core.frame.DataFrame'>\n",
      "RangeIndex: 149396 entries, 0 to 149395\n",
      "Data columns (total 5 columns):\n",
      " #   Column        Non-Null Count   Dtype  \n",
      "---  ------        --------------   -----  \n",
      " 0   Unnamed: 0    149396 non-null  int64  \n",
      " 1   id            149396 non-null  object \n",
      " 2   mb_used       149396 non-null  float64\n",
      " 3   session_date  149396 non-null  object \n",
      " 4   user_id       149396 non-null  int64  \n",
      "dtypes: float64(1), int64(2), object(2)\n",
      "memory usage: 5.7+ MB\n",
      "None\n",
      "``````````````````````````````````````````````````\n",
      "Доля пропущенных значений:\n",
      "Unnamed: 0      0.0\n",
      "id              0.0\n",
      "mb_used         0.0\n",
      "session_date    0.0\n",
      "user_id         0.0\n",
      "dtype: float64\n",
      "``````````````````````````````````````````````````\n",
      "Количество явных дубликатов:\n",
      "0\n",
      "``````````````````````````````````````````````````\n"
     ]
    }
   ],
   "source": [
    "view_func(internet)"
   ]
  },
  {
   "cell_type": "markdown",
   "metadata": {},
   "source": [
    "Пропусков и дубликатов нет, тоже поменяем `session_date` на **datetime** формат и удалим непонятный столбец `Unnamed: 0`, который не имеет названия и дублирует индексы датафрейма"
   ]
  },
  {
   "cell_type": "code",
   "execution_count": 12,
   "metadata": {},
   "outputs": [
    {
     "name": "stdout",
     "output_type": "stream",
     "text": [
      "<class 'pandas.core.frame.DataFrame'>\n",
      "RangeIndex: 149396 entries, 0 to 149395\n",
      "Data columns (total 4 columns):\n",
      " #   Column        Non-Null Count   Dtype         \n",
      "---  ------        --------------   -----         \n",
      " 0   id            149396 non-null  object        \n",
      " 1   mb_used       149396 non-null  float64       \n",
      " 2   session_date  149396 non-null  datetime64[ns]\n",
      " 3   user_id       149396 non-null  int64         \n",
      "dtypes: datetime64[ns](1), float64(1), int64(1), object(1)\n",
      "memory usage: 4.6+ MB\n"
     ]
    }
   ],
   "source": [
    "internet['session_date'] = pd.to_datetime(internet['session_date'], format='%Y-%m-%d')\n",
    "internet = internet.drop(columns = ['Unnamed: 0'],axis = 1)\n",
    "internet.info()"
   ]
  },
  {
   "cell_type": "markdown",
   "metadata": {},
   "source": [
    "Тоже добавим столбец `session_month` для будущего исследования:"
   ]
  },
  {
   "cell_type": "code",
   "execution_count": 13,
   "metadata": {},
   "outputs": [
    {
     "data": {
      "text/html": [
       "<div>\n",
       "<style scoped>\n",
       "    .dataframe tbody tr th:only-of-type {\n",
       "        vertical-align: middle;\n",
       "    }\n",
       "\n",
       "    .dataframe tbody tr th {\n",
       "        vertical-align: top;\n",
       "    }\n",
       "\n",
       "    .dataframe thead th {\n",
       "        text-align: right;\n",
       "    }\n",
       "</style>\n",
       "<table border=\"1\" class=\"dataframe\">\n",
       "  <thead>\n",
       "    <tr style=\"text-align: right;\">\n",
       "      <th></th>\n",
       "      <th>id</th>\n",
       "      <th>mb_used</th>\n",
       "      <th>session_date</th>\n",
       "      <th>user_id</th>\n",
       "      <th>session_month</th>\n",
       "    </tr>\n",
       "  </thead>\n",
       "  <tbody>\n",
       "    <tr>\n",
       "      <th>0</th>\n",
       "      <td>1000_0</td>\n",
       "      <td>112.95</td>\n",
       "      <td>2018-11-25</td>\n",
       "      <td>1000</td>\n",
       "      <td>11</td>\n",
       "    </tr>\n",
       "    <tr>\n",
       "      <th>1</th>\n",
       "      <td>1000_1</td>\n",
       "      <td>1052.81</td>\n",
       "      <td>2018-09-07</td>\n",
       "      <td>1000</td>\n",
       "      <td>9</td>\n",
       "    </tr>\n",
       "    <tr>\n",
       "      <th>2</th>\n",
       "      <td>1000_2</td>\n",
       "      <td>1197.26</td>\n",
       "      <td>2018-06-25</td>\n",
       "      <td>1000</td>\n",
       "      <td>6</td>\n",
       "    </tr>\n",
       "    <tr>\n",
       "      <th>3</th>\n",
       "      <td>1000_3</td>\n",
       "      <td>550.27</td>\n",
       "      <td>2018-08-22</td>\n",
       "      <td>1000</td>\n",
       "      <td>8</td>\n",
       "    </tr>\n",
       "    <tr>\n",
       "      <th>4</th>\n",
       "      <td>1000_4</td>\n",
       "      <td>302.56</td>\n",
       "      <td>2018-09-24</td>\n",
       "      <td>1000</td>\n",
       "      <td>9</td>\n",
       "    </tr>\n",
       "    <tr>\n",
       "      <th>...</th>\n",
       "      <td>...</td>\n",
       "      <td>...</td>\n",
       "      <td>...</td>\n",
       "      <td>...</td>\n",
       "      <td>...</td>\n",
       "    </tr>\n",
       "    <tr>\n",
       "      <th>149391</th>\n",
       "      <td>1499_152</td>\n",
       "      <td>318.90</td>\n",
       "      <td>2018-10-03</td>\n",
       "      <td>1499</td>\n",
       "      <td>10</td>\n",
       "    </tr>\n",
       "    <tr>\n",
       "      <th>149392</th>\n",
       "      <td>1499_153</td>\n",
       "      <td>490.13</td>\n",
       "      <td>2018-12-14</td>\n",
       "      <td>1499</td>\n",
       "      <td>12</td>\n",
       "    </tr>\n",
       "    <tr>\n",
       "      <th>149393</th>\n",
       "      <td>1499_154</td>\n",
       "      <td>0.00</td>\n",
       "      <td>2018-10-27</td>\n",
       "      <td>1499</td>\n",
       "      <td>10</td>\n",
       "    </tr>\n",
       "    <tr>\n",
       "      <th>149394</th>\n",
       "      <td>1499_155</td>\n",
       "      <td>1246.32</td>\n",
       "      <td>2018-11-26</td>\n",
       "      <td>1499</td>\n",
       "      <td>11</td>\n",
       "    </tr>\n",
       "    <tr>\n",
       "      <th>149395</th>\n",
       "      <td>1499_156</td>\n",
       "      <td>544.37</td>\n",
       "      <td>2018-10-26</td>\n",
       "      <td>1499</td>\n",
       "      <td>10</td>\n",
       "    </tr>\n",
       "  </tbody>\n",
       "</table>\n",
       "<p>149396 rows × 5 columns</p>\n",
       "</div>"
      ],
      "text/plain": [
       "              id  mb_used session_date  user_id  session_month\n",
       "0         1000_0   112.95   2018-11-25     1000             11\n",
       "1         1000_1  1052.81   2018-09-07     1000              9\n",
       "2         1000_2  1197.26   2018-06-25     1000              6\n",
       "3         1000_3   550.27   2018-08-22     1000              8\n",
       "4         1000_4   302.56   2018-09-24     1000              9\n",
       "...          ...      ...          ...      ...            ...\n",
       "149391  1499_152   318.90   2018-10-03     1499             10\n",
       "149392  1499_153   490.13   2018-12-14     1499             12\n",
       "149393  1499_154     0.00   2018-10-27     1499             10\n",
       "149394  1499_155  1246.32   2018-11-26     1499             11\n",
       "149395  1499_156   544.37   2018-10-26     1499             10\n",
       "\n",
       "[149396 rows x 5 columns]"
      ]
     },
     "execution_count": 13,
     "metadata": {},
     "output_type": "execute_result"
    }
   ],
   "source": [
    "internet['session_month'] = internet['session_date'].dt.month\n",
    "internet"
   ]
  },
  {
   "cell_type": "markdown",
   "metadata": {},
   "source": [
    "Посмотрим расброс данных и присутствие аномалий:"
   ]
  },
  {
   "cell_type": "code",
   "execution_count": 14,
   "metadata": {},
   "outputs": [
    {
     "data": {
      "text/html": [
       "<div>\n",
       "<style scoped>\n",
       "    .dataframe tbody tr th:only-of-type {\n",
       "        vertical-align: middle;\n",
       "    }\n",
       "\n",
       "    .dataframe tbody tr th {\n",
       "        vertical-align: top;\n",
       "    }\n",
       "\n",
       "    .dataframe thead th {\n",
       "        text-align: right;\n",
       "    }\n",
       "</style>\n",
       "<table border=\"1\" class=\"dataframe\">\n",
       "  <thead>\n",
       "    <tr style=\"text-align: right;\">\n",
       "      <th></th>\n",
       "      <th>mb_used</th>\n",
       "      <th>user_id</th>\n",
       "      <th>session_month</th>\n",
       "    </tr>\n",
       "  </thead>\n",
       "  <tbody>\n",
       "    <tr>\n",
       "      <th>count</th>\n",
       "      <td>149396.000000</td>\n",
       "      <td>149396.000000</td>\n",
       "      <td>149396.000000</td>\n",
       "    </tr>\n",
       "    <tr>\n",
       "      <th>mean</th>\n",
       "      <td>370.192426</td>\n",
       "      <td>1252.099842</td>\n",
       "      <td>8.563315</td>\n",
       "    </tr>\n",
       "    <tr>\n",
       "      <th>std</th>\n",
       "      <td>278.300951</td>\n",
       "      <td>144.050823</td>\n",
       "      <td>2.788717</td>\n",
       "    </tr>\n",
       "    <tr>\n",
       "      <th>min</th>\n",
       "      <td>0.000000</td>\n",
       "      <td>1000.000000</td>\n",
       "      <td>1.000000</td>\n",
       "    </tr>\n",
       "    <tr>\n",
       "      <th>25%</th>\n",
       "      <td>138.187500</td>\n",
       "      <td>1130.000000</td>\n",
       "      <td>7.000000</td>\n",
       "    </tr>\n",
       "    <tr>\n",
       "      <th>50%</th>\n",
       "      <td>348.015000</td>\n",
       "      <td>1251.000000</td>\n",
       "      <td>9.000000</td>\n",
       "    </tr>\n",
       "    <tr>\n",
       "      <th>75%</th>\n",
       "      <td>559.552500</td>\n",
       "      <td>1380.000000</td>\n",
       "      <td>11.000000</td>\n",
       "    </tr>\n",
       "    <tr>\n",
       "      <th>max</th>\n",
       "      <td>1724.830000</td>\n",
       "      <td>1499.000000</td>\n",
       "      <td>12.000000</td>\n",
       "    </tr>\n",
       "  </tbody>\n",
       "</table>\n",
       "</div>"
      ],
      "text/plain": [
       "             mb_used        user_id  session_month\n",
       "count  149396.000000  149396.000000  149396.000000\n",
       "mean      370.192426    1252.099842       8.563315\n",
       "std       278.300951     144.050823       2.788717\n",
       "min         0.000000    1000.000000       1.000000\n",
       "25%       138.187500    1130.000000       7.000000\n",
       "50%       348.015000    1251.000000       9.000000\n",
       "75%       559.552500    1380.000000      11.000000\n",
       "max      1724.830000    1499.000000      12.000000"
      ]
     },
     "execution_count": 14,
     "metadata": {},
     "output_type": "execute_result"
    }
   ],
   "source": [
    "internet.describe()"
   ]
  },
  {
   "cell_type": "code",
   "execution_count": 15,
   "metadata": {},
   "outputs": [
    {
     "data": {
      "image/png": "[encoded data removed]",
      "text/plain": [
       "<Figure size 432x288 with 1 Axes>"
      ]
     },
     "metadata": {
      "needs_background": "light"
     },
     "output_type": "display_data"
    }
   ],
   "source": [
    "internet.boxplot('mb_used');"
   ]
  },
  {
   "cell_type": "markdown",
   "metadata": {},
   "source": [
    "Я особых аномалий не вижу, есть юзеры, которые вообще не пользуются интернетом, есть те, у кого сессии более 1гб, что тоже вполне себе применимо в реальной жизни."
   ]
  },
  {
   "cell_type": "markdown",
   "metadata": {},
   "source": [
    "### Предобработка таблицы messages"
   ]
  },
  {
   "cell_type": "markdown",
   "metadata": {},
   "source": [
    "Проверим данные в таблице `messages`"
   ]
  },
  {
   "cell_type": "code",
   "execution_count": 16,
   "metadata": {},
   "outputs": [
    {
     "name": "stdout",
     "output_type": "stream",
     "text": [
      "Внешний вид датафрейма:\n",
      "       id message_date  user_id\n",
      "0  1000_0   2018-06-27     1000\n",
      "1  1000_1   2018-10-08     1000\n",
      "2  1000_2   2018-08-04     1000\n",
      "3  1000_3   2018-06-16     1000\n",
      "4  1000_4   2018-12-05     1000\n",
      "``````````````````````````````````````````````````\n",
      "Типы данных, кол-во строк и столбцов:\n",
      "<class 'pandas.core.frame.DataFrame'>\n",
      "RangeIndex: 123036 entries, 0 to 123035\n",
      "Data columns (total 3 columns):\n",
      " #   Column        Non-Null Count   Dtype \n",
      "---  ------        --------------   ----- \n",
      " 0   id            123036 non-null  object\n",
      " 1   message_date  123036 non-null  object\n",
      " 2   user_id       123036 non-null  int64 \n",
      "dtypes: int64(1), object(2)\n",
      "memory usage: 2.8+ MB\n",
      "None\n",
      "``````````````````````````````````````````````````\n",
      "Доля пропущенных значений:\n",
      "id              0.0\n",
      "message_date    0.0\n",
      "user_id         0.0\n",
      "dtype: float64\n",
      "``````````````````````````````````````````````````\n",
      "Количество явных дубликатов:\n",
      "0\n",
      "``````````````````````````````````````````````````\n"
     ]
    }
   ],
   "source": [
    "view_func(messages)"
   ]
  },
  {
   "cell_type": "markdown",
   "metadata": {},
   "source": [
    "Также как и в предыдущих таблицах, поменяем тип данных в `message_date` на **datetime**"
   ]
  },
  {
   "cell_type": "code",
   "execution_count": 17,
   "metadata": {},
   "outputs": [
    {
     "name": "stdout",
     "output_type": "stream",
     "text": [
      "<class 'pandas.core.frame.DataFrame'>\n",
      "RangeIndex: 123036 entries, 0 to 123035\n",
      "Data columns (total 3 columns):\n",
      " #   Column        Non-Null Count   Dtype         \n",
      "---  ------        --------------   -----         \n",
      " 0   id            123036 non-null  object        \n",
      " 1   message_date  123036 non-null  datetime64[ns]\n",
      " 2   user_id       123036 non-null  int64         \n",
      "dtypes: datetime64[ns](1), int64(1), object(1)\n",
      "memory usage: 2.8+ MB\n"
     ]
    }
   ],
   "source": [
    "messages['message_date'] = pd.to_datetime(messages['message_date'], format='%Y-%m-%d')\n",
    "messages.info()"
   ]
  },
  {
   "cell_type": "markdown",
   "metadata": {},
   "source": [
    "Добавим столбец с номером месяца:"
   ]
  },
  {
   "cell_type": "code",
   "execution_count": 18,
   "metadata": {},
   "outputs": [
    {
     "data": {
      "text/html": [
       "<div>\n",
       "<style scoped>\n",
       "    .dataframe tbody tr th:only-of-type {\n",
       "        vertical-align: middle;\n",
       "    }\n",
       "\n",
       "    .dataframe tbody tr th {\n",
       "        vertical-align: top;\n",
       "    }\n",
       "\n",
       "    .dataframe thead th {\n",
       "        text-align: right;\n",
       "    }\n",
       "</style>\n",
       "<table border=\"1\" class=\"dataframe\">\n",
       "  <thead>\n",
       "    <tr style=\"text-align: right;\">\n",
       "      <th></th>\n",
       "      <th>id</th>\n",
       "      <th>message_date</th>\n",
       "      <th>user_id</th>\n",
       "      <th>message_month</th>\n",
       "    </tr>\n",
       "  </thead>\n",
       "  <tbody>\n",
       "    <tr>\n",
       "      <th>0</th>\n",
       "      <td>1000_0</td>\n",
       "      <td>2018-06-27</td>\n",
       "      <td>1000</td>\n",
       "      <td>6</td>\n",
       "    </tr>\n",
       "    <tr>\n",
       "      <th>1</th>\n",
       "      <td>1000_1</td>\n",
       "      <td>2018-10-08</td>\n",
       "      <td>1000</td>\n",
       "      <td>10</td>\n",
       "    </tr>\n",
       "    <tr>\n",
       "      <th>2</th>\n",
       "      <td>1000_2</td>\n",
       "      <td>2018-08-04</td>\n",
       "      <td>1000</td>\n",
       "      <td>8</td>\n",
       "    </tr>\n",
       "    <tr>\n",
       "      <th>3</th>\n",
       "      <td>1000_3</td>\n",
       "      <td>2018-06-16</td>\n",
       "      <td>1000</td>\n",
       "      <td>6</td>\n",
       "    </tr>\n",
       "    <tr>\n",
       "      <th>4</th>\n",
       "      <td>1000_4</td>\n",
       "      <td>2018-12-05</td>\n",
       "      <td>1000</td>\n",
       "      <td>12</td>\n",
       "    </tr>\n",
       "    <tr>\n",
       "      <th>...</th>\n",
       "      <td>...</td>\n",
       "      <td>...</td>\n",
       "      <td>...</td>\n",
       "      <td>...</td>\n",
       "    </tr>\n",
       "    <tr>\n",
       "      <th>123031</th>\n",
       "      <td>1499_179</td>\n",
       "      <td>2018-12-12</td>\n",
       "      <td>1499</td>\n",
       "      <td>12</td>\n",
       "    </tr>\n",
       "    <tr>\n",
       "      <th>123032</th>\n",
       "      <td>1499_180</td>\n",
       "      <td>2018-09-28</td>\n",
       "      <td>1499</td>\n",
       "      <td>9</td>\n",
       "    </tr>\n",
       "    <tr>\n",
       "      <th>123033</th>\n",
       "      <td>1499_181</td>\n",
       "      <td>2018-09-27</td>\n",
       "      <td>1499</td>\n",
       "      <td>9</td>\n",
       "    </tr>\n",
       "    <tr>\n",
       "      <th>123034</th>\n",
       "      <td>1499_182</td>\n",
       "      <td>2018-11-15</td>\n",
       "      <td>1499</td>\n",
       "      <td>11</td>\n",
       "    </tr>\n",
       "    <tr>\n",
       "      <th>123035</th>\n",
       "      <td>1499_183</td>\n",
       "      <td>2018-11-16</td>\n",
       "      <td>1499</td>\n",
       "      <td>11</td>\n",
       "    </tr>\n",
       "  </tbody>\n",
       "</table>\n",
       "<p>123036 rows × 4 columns</p>\n",
       "</div>"
      ],
      "text/plain": [
       "              id message_date  user_id  message_month\n",
       "0         1000_0   2018-06-27     1000              6\n",
       "1         1000_1   2018-10-08     1000             10\n",
       "2         1000_2   2018-08-04     1000              8\n",
       "3         1000_3   2018-06-16     1000              6\n",
       "4         1000_4   2018-12-05     1000             12\n",
       "...          ...          ...      ...            ...\n",
       "123031  1499_179   2018-12-12     1499             12\n",
       "123032  1499_180   2018-09-28     1499              9\n",
       "123033  1499_181   2018-09-27     1499              9\n",
       "123034  1499_182   2018-11-15     1499             11\n",
       "123035  1499_183   2018-11-16     1499             11\n",
       "\n",
       "[123036 rows x 4 columns]"
      ]
     },
     "execution_count": 18,
     "metadata": {},
     "output_type": "execute_result"
    }
   ],
   "source": [
    "messages['message_month'] = messages['message_date'].dt.month\n",
    "messages"
   ]
  },
  {
   "cell_type": "markdown",
   "metadata": {},
   "source": [
    "### Предобработка таблицы tariffs"
   ]
  },
  {
   "cell_type": "markdown",
   "metadata": {},
   "source": [
    "Посмотрим таблицу `tariffs`"
   ]
  },
  {
   "cell_type": "code",
   "execution_count": 19,
   "metadata": {},
   "outputs": [
    {
     "name": "stdout",
     "output_type": "stream",
     "text": [
      "Внешний вид датафрейма:\n",
      "   messages_included  mb_per_month_included  minutes_included  \\\n",
      "0                 50                  15360               500   \n",
      "1               1000                  30720              3000   \n",
      "\n",
      "   rub_monthly_fee  rub_per_gb  rub_per_message  rub_per_minute tariff_name  \n",
      "0              550         200                3               3       smart  \n",
      "1             1950         150                1               1       ultra  \n",
      "``````````````````````````````````````````````````\n",
      "Типы данных, кол-во строк и столбцов:\n",
      "<class 'pandas.core.frame.DataFrame'>\n",
      "RangeIndex: 2 entries, 0 to 1\n",
      "Data columns (total 8 columns):\n",
      " #   Column                 Non-Null Count  Dtype \n",
      "---  ------                 --------------  ----- \n",
      " 0   messages_included      2 non-null      int64 \n",
      " 1   mb_per_month_included  2 non-null      int64 \n",
      " 2   minutes_included       2 non-null      int64 \n",
      " 3   rub_monthly_fee        2 non-null      int64 \n",
      " 4   rub_per_gb             2 non-null      int64 \n",
      " 5   rub_per_message        2 non-null      int64 \n",
      " 6   rub_per_minute         2 non-null      int64 \n",
      " 7   tariff_name            2 non-null      object\n",
      "dtypes: int64(7), object(1)\n",
      "memory usage: 256.0+ bytes\n",
      "None\n",
      "``````````````````````````````````````````````````\n",
      "Доля пропущенных значений:\n",
      "messages_included        0.0\n",
      "mb_per_month_included    0.0\n",
      "minutes_included         0.0\n",
      "rub_monthly_fee          0.0\n",
      "rub_per_gb               0.0\n",
      "rub_per_message          0.0\n",
      "rub_per_minute           0.0\n",
      "tariff_name              0.0\n",
      "dtype: float64\n",
      "``````````````````````````````````````````````````\n",
      "Количество явных дубликатов:\n",
      "0\n",
      "``````````````````````````````````````````````````\n"
     ]
    }
   ],
   "source": [
    "view_func(tariffs)"
   ]
  },
  {
   "cell_type": "markdown",
   "metadata": {},
   "source": [
    "Это просто описательная таблица для 2-х тарифов, менять нечего. "
   ]
  },
  {
   "cell_type": "markdown",
   "metadata": {},
   "source": [
    "### Предобработка таблицы users"
   ]
  },
  {
   "cell_type": "markdown",
   "metadata": {},
   "source": [
    "Посмотрим таблицу `users`"
   ]
  },
  {
   "cell_type": "code",
   "execution_count": 20,
   "metadata": {},
   "outputs": [
    {
     "name": "stdout",
     "output_type": "stream",
     "text": [
      "Внешний вид датафрейма:\n",
      "   user_id  age churn_date         city first_name  last_name    reg_date  \\\n",
      "0     1000   52        NaN    Краснодар     Рафаил  Верещагин  2018-05-25   \n",
      "1     1001   41        NaN       Москва       Иван       Ежов  2018-11-01   \n",
      "2     1002   59        NaN  Стерлитамак    Евгений  Абрамович  2018-06-17   \n",
      "3     1003   23        NaN       Москва      Белла   Белякова  2018-08-17   \n",
      "4     1004   68        NaN  Новокузнецк    Татьяна   Авдеенко  2018-05-14   \n",
      "\n",
      "  tariff  \n",
      "0  ultra  \n",
      "1  smart  \n",
      "2  smart  \n",
      "3  ultra  \n",
      "4  ultra  \n",
      "``````````````````````````````````````````````````\n",
      "Типы данных, кол-во строк и столбцов:\n",
      "<class 'pandas.core.frame.DataFrame'>\n",
      "RangeIndex: 500 entries, 0 to 499\n",
      "Data columns (total 8 columns):\n",
      " #   Column      Non-Null Count  Dtype \n",
      "---  ------      --------------  ----- \n",
      " 0   user_id     500 non-null    int64 \n",
      " 1   age         500 non-null    int64 \n",
      " 2   churn_date  38 non-null     object\n",
      " 3   city        500 non-null    object\n",
      " 4   first_name  500 non-null    object\n",
      " 5   last_name   500 non-null    object\n",
      " 6   reg_date    500 non-null    object\n",
      " 7   tariff      500 non-null    object\n",
      "dtypes: int64(2), object(6)\n",
      "memory usage: 31.4+ KB\n",
      "None\n",
      "``````````````````````````````````````````````````\n",
      "Доля пропущенных значений:\n",
      "user_id       0.000\n",
      "age           0.000\n",
      "churn_date    0.924\n",
      "city          0.000\n",
      "first_name    0.000\n",
      "last_name     0.000\n",
      "reg_date      0.000\n",
      "tariff        0.000\n",
      "dtype: float64\n",
      "``````````````````````````````````````````````````\n",
      "Количество явных дубликатов:\n",
      "0\n",
      "``````````````````````````````````````````````````\n"
     ]
    }
   ],
   "source": [
    "view_func(users)"
   ]
  },
  {
   "cell_type": "markdown",
   "metadata": {},
   "source": [
    "Датафрейм по абонентам, всего 500 абонентов, для начала приведем `churn_date`и `reg_date` к **datetime** формату:"
   ]
  },
  {
   "cell_type": "code",
   "execution_count": 21,
   "metadata": {},
   "outputs": [
    {
     "name": "stdout",
     "output_type": "stream",
     "text": [
      "<class 'pandas.core.frame.DataFrame'>\n",
      "RangeIndex: 500 entries, 0 to 499\n",
      "Data columns (total 8 columns):\n",
      " #   Column      Non-Null Count  Dtype         \n",
      "---  ------      --------------  -----         \n",
      " 0   user_id     500 non-null    int64         \n",
      " 1   age         500 non-null    int64         \n",
      " 2   churn_date  38 non-null     datetime64[ns]\n",
      " 3   city        500 non-null    object        \n",
      " 4   first_name  500 non-null    object        \n",
      " 5   last_name   500 non-null    object        \n",
      " 6   reg_date    500 non-null    datetime64[ns]\n",
      " 7   tariff      500 non-null    object        \n",
      "dtypes: datetime64[ns](2), int64(2), object(4)\n",
      "memory usage: 31.4+ KB\n"
     ]
    }
   ],
   "source": [
    "users['churn_date'] = pd.to_datetime(users['churn_date'], format='%Y-%m-%d')\n",
    "users['reg_date'] = pd.to_datetime(users['reg_date'], format='%Y-%m-%d')\n",
    "users.info()"
   ]
  },
  {
   "cell_type": "markdown",
   "metadata": {},
   "source": [
    "Есть пропуски в столбце `churn_date`, но они полезные и говорят нам о том, что абонент еще был подключен к данному тарифу"
   ]
  },
  {
   "cell_type": "markdown",
   "metadata": {},
   "source": [
    "Изучим столбец `city`:"
   ]
  },
  {
   "cell_type": "code",
   "execution_count": 22,
   "metadata": {},
   "outputs": [
    {
     "data": {
      "text/plain": [
       "array(['Архангельск', 'Астрахань', 'Балашиха', 'Барнаул', 'Белгород',\n",
       "       'Брянск', 'Владивосток', 'Владикавказ', 'Владимир', 'Волгоград',\n",
       "       'Волжский', 'Вологда', 'Воронеж', 'Грозный', 'Екатеринбург',\n",
       "       'Иваново', 'Ижевск', 'Иркутск', 'Казань', 'Калининград', 'Калуга',\n",
       "       'Кемерово', 'Киров', 'Кострома', 'Краснодар', 'Красноярск',\n",
       "       'Курган', 'Курск', 'Липецк', 'Магнитогорск', 'Махачкала', 'Москва',\n",
       "       'Мурманск', 'Набережные Челны', 'Нижневартовск', 'Нижний Новгород',\n",
       "       'Нижний Тагил', 'Новокузнецк', 'Новороссийск', 'Новосибирск',\n",
       "       'Омск', 'Оренбург', 'Орёл', 'Пенза', 'Пермь', 'Петрозаводск',\n",
       "       'Подольск', 'Ростов-на-Дону', 'Рязань', 'Самара',\n",
       "       'Санкт-Петербург', 'Саранск', 'Саратов', 'Севастополь', 'Смоленск',\n",
       "       'Сочи', 'Ставрополь', 'Стерлитамак', 'Сургут', 'Тамбов', 'Тверь',\n",
       "       'Тольятти', 'Томск', 'Тула', 'Тюмень', 'Улан-Удэ', 'Ульяновск',\n",
       "       'Уфа', 'Хабаровск', 'Химки', 'Чебоксары', 'Челябинск', 'Череповец',\n",
       "       'Чита', 'Якутск', 'Ярославль'], dtype=object)"
      ]
     },
     "execution_count": 22,
     "metadata": {},
     "output_type": "execute_result"
    }
   ],
   "source": [
    "users['city'].sort_values().unique()"
   ]
  },
  {
   "cell_type": "markdown",
   "metadata": {},
   "source": [
    "Все хорошо, неявных дубликатов не замечено. "
   ]
  },
  {
   "cell_type": "markdown",
   "metadata": {},
   "source": [
    "### Промежуточный вывод"
   ]
  },
  {
   "cell_type": "markdown",
   "metadata": {},
   "source": [
    "Мы проверили все 5 представленных баз данных на правильность типов данных и привели их к нужному формату, проверили на выбросы и аномалии там, где это необходимо, проверили на дубликаты и пропущенные значения. \n",
    "Теперь все 5 датафреймов приведены к единому стилю, что позволит нам проводить наши дальнейшие исследования."
   ]
  },
  {
   "cell_type": "markdown",
   "metadata": {},
   "source": [
    "## Сводные таблицы и расчеты"
   ]
  },
  {
   "cell_type": "markdown",
   "metadata": {},
   "source": [
    "### Подготовка данных"
   ]
  },
  {
   "cell_type": "markdown",
   "metadata": {},
   "source": [
    "Для нашего иследования нам необходимо сагрегировать наши данные, соотнеся одни значения к другим"
   ]
  },
  {
   "cell_type": "markdown",
   "metadata": {},
   "source": [
    "Посчитаем для каждого пользователя количество сделанных звонков и израсходованных минут разговора по месяцам. \n",
    "По условиям оператора \"Мегалайн\" все звонки округляются до минут в большую сторону, сделаем и это тоже"
   ]
  },
  {
   "cell_type": "code",
   "execution_count": 23,
   "metadata": {},
   "outputs": [
    {
     "data": {
      "text/html": [
       "<div>\n",
       "<style scoped>\n",
       "    .dataframe tbody tr th:only-of-type {\n",
       "        vertical-align: middle;\n",
       "    }\n",
       "\n",
       "    .dataframe tbody tr th {\n",
       "        vertical-align: top;\n",
       "    }\n",
       "\n",
       "    .dataframe thead th {\n",
       "        text-align: right;\n",
       "    }\n",
       "</style>\n",
       "<table border=\"1\" class=\"dataframe\">\n",
       "  <thead>\n",
       "    <tr style=\"text-align: right;\">\n",
       "      <th></th>\n",
       "      <th>id</th>\n",
       "      <th>call_date</th>\n",
       "      <th>duration</th>\n",
       "      <th>user_id</th>\n",
       "      <th>call_month</th>\n",
       "    </tr>\n",
       "  </thead>\n",
       "  <tbody>\n",
       "    <tr>\n",
       "      <th>0</th>\n",
       "      <td>1000_0</td>\n",
       "      <td>2018-07-25</td>\n",
       "      <td>0.00</td>\n",
       "      <td>1000</td>\n",
       "      <td>7</td>\n",
       "    </tr>\n",
       "    <tr>\n",
       "      <th>1</th>\n",
       "      <td>1000_1</td>\n",
       "      <td>2018-08-17</td>\n",
       "      <td>0.00</td>\n",
       "      <td>1000</td>\n",
       "      <td>8</td>\n",
       "    </tr>\n",
       "    <tr>\n",
       "      <th>2</th>\n",
       "      <td>1000_2</td>\n",
       "      <td>2018-06-11</td>\n",
       "      <td>2.85</td>\n",
       "      <td>1000</td>\n",
       "      <td>6</td>\n",
       "    </tr>\n",
       "    <tr>\n",
       "      <th>3</th>\n",
       "      <td>1000_3</td>\n",
       "      <td>2018-09-21</td>\n",
       "      <td>13.80</td>\n",
       "      <td>1000</td>\n",
       "      <td>9</td>\n",
       "    </tr>\n",
       "    <tr>\n",
       "      <th>4</th>\n",
       "      <td>1000_4</td>\n",
       "      <td>2018-12-15</td>\n",
       "      <td>5.18</td>\n",
       "      <td>1000</td>\n",
       "      <td>12</td>\n",
       "    </tr>\n",
       "    <tr>\n",
       "      <th>...</th>\n",
       "      <td>...</td>\n",
       "      <td>...</td>\n",
       "      <td>...</td>\n",
       "      <td>...</td>\n",
       "      <td>...</td>\n",
       "    </tr>\n",
       "    <tr>\n",
       "      <th>202602</th>\n",
       "      <td>1499_215</td>\n",
       "      <td>2018-12-26</td>\n",
       "      <td>0.76</td>\n",
       "      <td>1499</td>\n",
       "      <td>12</td>\n",
       "    </tr>\n",
       "    <tr>\n",
       "      <th>202603</th>\n",
       "      <td>1499_216</td>\n",
       "      <td>2018-10-18</td>\n",
       "      <td>18.83</td>\n",
       "      <td>1499</td>\n",
       "      <td>10</td>\n",
       "    </tr>\n",
       "    <tr>\n",
       "      <th>202604</th>\n",
       "      <td>1499_217</td>\n",
       "      <td>2018-11-10</td>\n",
       "      <td>10.81</td>\n",
       "      <td>1499</td>\n",
       "      <td>11</td>\n",
       "    </tr>\n",
       "    <tr>\n",
       "      <th>202605</th>\n",
       "      <td>1499_218</td>\n",
       "      <td>2018-10-06</td>\n",
       "      <td>4.27</td>\n",
       "      <td>1499</td>\n",
       "      <td>10</td>\n",
       "    </tr>\n",
       "    <tr>\n",
       "      <th>202606</th>\n",
       "      <td>1499_219</td>\n",
       "      <td>2018-12-14</td>\n",
       "      <td>19.62</td>\n",
       "      <td>1499</td>\n",
       "      <td>12</td>\n",
       "    </tr>\n",
       "  </tbody>\n",
       "</table>\n",
       "<p>202607 rows × 5 columns</p>\n",
       "</div>"
      ],
      "text/plain": [
       "              id  call_date  duration  user_id  call_month\n",
       "0         1000_0 2018-07-25      0.00     1000           7\n",
       "1         1000_1 2018-08-17      0.00     1000           8\n",
       "2         1000_2 2018-06-11      2.85     1000           6\n",
       "3         1000_3 2018-09-21     13.80     1000           9\n",
       "4         1000_4 2018-12-15      5.18     1000          12\n",
       "...          ...        ...       ...      ...         ...\n",
       "202602  1499_215 2018-12-26      0.76     1499          12\n",
       "202603  1499_216 2018-10-18     18.83     1499          10\n",
       "202604  1499_217 2018-11-10     10.81     1499          11\n",
       "202605  1499_218 2018-10-06      4.27     1499          10\n",
       "202606  1499_219 2018-12-14     19.62     1499          12\n",
       "\n",
       "[202607 rows x 5 columns]"
      ]
     },
     "execution_count": 23,
     "metadata": {},
     "output_type": "execute_result"
    }
   ],
   "source": [
    "calls"
   ]
  },
  {
   "cell_type": "code",
   "execution_count": 24,
   "metadata": {},
   "outputs": [
    {
     "data": {
      "text/html": [
       "<div>\n",
       "<style scoped>\n",
       "    .dataframe tbody tr th:only-of-type {\n",
       "        vertical-align: middle;\n",
       "    }\n",
       "\n",
       "    .dataframe tbody tr th {\n",
       "        vertical-align: top;\n",
       "    }\n",
       "\n",
       "    .dataframe thead th {\n",
       "        text-align: right;\n",
       "    }\n",
       "</style>\n",
       "<table border=\"1\" class=\"dataframe\">\n",
       "  <thead>\n",
       "    <tr style=\"text-align: right;\">\n",
       "      <th></th>\n",
       "      <th>id</th>\n",
       "      <th>call_date</th>\n",
       "      <th>duration</th>\n",
       "      <th>user_id</th>\n",
       "      <th>call_month</th>\n",
       "    </tr>\n",
       "  </thead>\n",
       "  <tbody>\n",
       "    <tr>\n",
       "      <th>0</th>\n",
       "      <td>1000_0</td>\n",
       "      <td>2018-07-25</td>\n",
       "      <td>0.0</td>\n",
       "      <td>1000</td>\n",
       "      <td>7</td>\n",
       "    </tr>\n",
       "    <tr>\n",
       "      <th>1</th>\n",
       "      <td>1000_1</td>\n",
       "      <td>2018-08-17</td>\n",
       "      <td>0.0</td>\n",
       "      <td>1000</td>\n",
       "      <td>8</td>\n",
       "    </tr>\n",
       "    <tr>\n",
       "      <th>2</th>\n",
       "      <td>1000_2</td>\n",
       "      <td>2018-06-11</td>\n",
       "      <td>3.0</td>\n",
       "      <td>1000</td>\n",
       "      <td>6</td>\n",
       "    </tr>\n",
       "    <tr>\n",
       "      <th>3</th>\n",
       "      <td>1000_3</td>\n",
       "      <td>2018-09-21</td>\n",
       "      <td>14.0</td>\n",
       "      <td>1000</td>\n",
       "      <td>9</td>\n",
       "    </tr>\n",
       "    <tr>\n",
       "      <th>4</th>\n",
       "      <td>1000_4</td>\n",
       "      <td>2018-12-15</td>\n",
       "      <td>6.0</td>\n",
       "      <td>1000</td>\n",
       "      <td>12</td>\n",
       "    </tr>\n",
       "    <tr>\n",
       "      <th>...</th>\n",
       "      <td>...</td>\n",
       "      <td>...</td>\n",
       "      <td>...</td>\n",
       "      <td>...</td>\n",
       "      <td>...</td>\n",
       "    </tr>\n",
       "    <tr>\n",
       "      <th>202602</th>\n",
       "      <td>1499_215</td>\n",
       "      <td>2018-12-26</td>\n",
       "      <td>1.0</td>\n",
       "      <td>1499</td>\n",
       "      <td>12</td>\n",
       "    </tr>\n",
       "    <tr>\n",
       "      <th>202603</th>\n",
       "      <td>1499_216</td>\n",
       "      <td>2018-10-18</td>\n",
       "      <td>19.0</td>\n",
       "      <td>1499</td>\n",
       "      <td>10</td>\n",
       "    </tr>\n",
       "    <tr>\n",
       "      <th>202604</th>\n",
       "      <td>1499_217</td>\n",
       "      <td>2018-11-10</td>\n",
       "      <td>11.0</td>\n",
       "      <td>1499</td>\n",
       "      <td>11</td>\n",
       "    </tr>\n",
       "    <tr>\n",
       "      <th>202605</th>\n",
       "      <td>1499_218</td>\n",
       "      <td>2018-10-06</td>\n",
       "      <td>5.0</td>\n",
       "      <td>1499</td>\n",
       "      <td>10</td>\n",
       "    </tr>\n",
       "    <tr>\n",
       "      <th>202606</th>\n",
       "      <td>1499_219</td>\n",
       "      <td>2018-12-14</td>\n",
       "      <td>20.0</td>\n",
       "      <td>1499</td>\n",
       "      <td>12</td>\n",
       "    </tr>\n",
       "  </tbody>\n",
       "</table>\n",
       "<p>202607 rows × 5 columns</p>\n",
       "</div>"
      ],
      "text/plain": [
       "              id  call_date  duration  user_id  call_month\n",
       "0         1000_0 2018-07-25       0.0     1000           7\n",
       "1         1000_1 2018-08-17       0.0     1000           8\n",
       "2         1000_2 2018-06-11       3.0     1000           6\n",
       "3         1000_3 2018-09-21      14.0     1000           9\n",
       "4         1000_4 2018-12-15       6.0     1000          12\n",
       "...          ...        ...       ...      ...         ...\n",
       "202602  1499_215 2018-12-26       1.0     1499          12\n",
       "202603  1499_216 2018-10-18      19.0     1499          10\n",
       "202604  1499_217 2018-11-10      11.0     1499          11\n",
       "202605  1499_218 2018-10-06       5.0     1499          10\n",
       "202606  1499_219 2018-12-14      20.0     1499          12\n",
       "\n",
       "[202607 rows x 5 columns]"
      ]
     },
     "execution_count": 24,
     "metadata": {},
     "output_type": "execute_result"
    }
   ],
   "source": [
    "calls['duration'] = np.ceil(calls['duration'])\n",
    "calls"
   ]
  },
  {
   "cell_type": "code",
   "execution_count": 25,
   "metadata": {},
   "outputs": [
    {
     "data": {
      "text/html": [
       "<div>\n",
       "<style scoped>\n",
       "    .dataframe tbody tr th:only-of-type {\n",
       "        vertical-align: middle;\n",
       "    }\n",
       "\n",
       "    .dataframe tbody tr th {\n",
       "        vertical-align: top;\n",
       "    }\n",
       "\n",
       "    .dataframe thead th {\n",
       "        text-align: right;\n",
       "    }\n",
       "</style>\n",
       "<table border=\"1\" class=\"dataframe\">\n",
       "  <thead>\n",
       "    <tr style=\"text-align: right;\">\n",
       "      <th></th>\n",
       "      <th>month</th>\n",
       "      <th>total_calls</th>\n",
       "      <th>total_duration</th>\n",
       "    </tr>\n",
       "    <tr>\n",
       "      <th>user_id</th>\n",
       "      <th></th>\n",
       "      <th></th>\n",
       "      <th></th>\n",
       "    </tr>\n",
       "  </thead>\n",
       "  <tbody>\n",
       "    <tr>\n",
       "      <th>1000</th>\n",
       "      <td>5</td>\n",
       "      <td>22</td>\n",
       "      <td>159.0</td>\n",
       "    </tr>\n",
       "    <tr>\n",
       "      <th>1000</th>\n",
       "      <td>6</td>\n",
       "      <td>43</td>\n",
       "      <td>172.0</td>\n",
       "    </tr>\n",
       "    <tr>\n",
       "      <th>1000</th>\n",
       "      <td>7</td>\n",
       "      <td>47</td>\n",
       "      <td>340.0</td>\n",
       "    </tr>\n",
       "    <tr>\n",
       "      <th>1000</th>\n",
       "      <td>8</td>\n",
       "      <td>52</td>\n",
       "      <td>408.0</td>\n",
       "    </tr>\n",
       "    <tr>\n",
       "      <th>1000</th>\n",
       "      <td>9</td>\n",
       "      <td>58</td>\n",
       "      <td>466.0</td>\n",
       "    </tr>\n",
       "    <tr>\n",
       "      <th>...</th>\n",
       "      <td>...</td>\n",
       "      <td>...</td>\n",
       "      <td>...</td>\n",
       "    </tr>\n",
       "    <tr>\n",
       "      <th>1498</th>\n",
       "      <td>10</td>\n",
       "      <td>41</td>\n",
       "      <td>247.0</td>\n",
       "    </tr>\n",
       "    <tr>\n",
       "      <th>1499</th>\n",
       "      <td>9</td>\n",
       "      <td>9</td>\n",
       "      <td>70.0</td>\n",
       "    </tr>\n",
       "    <tr>\n",
       "      <th>1499</th>\n",
       "      <td>10</td>\n",
       "      <td>68</td>\n",
       "      <td>449.0</td>\n",
       "    </tr>\n",
       "    <tr>\n",
       "      <th>1499</th>\n",
       "      <td>11</td>\n",
       "      <td>74</td>\n",
       "      <td>612.0</td>\n",
       "    </tr>\n",
       "    <tr>\n",
       "      <th>1499</th>\n",
       "      <td>12</td>\n",
       "      <td>69</td>\n",
       "      <td>492.0</td>\n",
       "    </tr>\n",
       "  </tbody>\n",
       "</table>\n",
       "<p>3174 rows × 3 columns</p>\n",
       "</div>"
      ],
      "text/plain": [
       "         month  total_calls  total_duration\n",
       "user_id                                    \n",
       "1000         5           22           159.0\n",
       "1000         6           43           172.0\n",
       "1000         7           47           340.0\n",
       "1000         8           52           408.0\n",
       "1000         9           58           466.0\n",
       "...        ...          ...             ...\n",
       "1498        10           41           247.0\n",
       "1499         9            9            70.0\n",
       "1499        10           68           449.0\n",
       "1499        11           74           612.0\n",
       "1499        12           69           492.0\n",
       "\n",
       "[3174 rows x 3 columns]"
      ]
     },
     "execution_count": 25,
     "metadata": {},
     "output_type": "execute_result"
    }
   ],
   "source": [
    "calls_pivot = calls.pivot_table(\n",
    "    index = ['user_id', 'call_month'],\n",
    "    values='duration',\n",
    "    aggfunc=['count','sum'])\\\n",
    "    .reset_index(level=1)\n",
    "calls_pivot.columns=['month','total_calls','total_duration']\n",
    "calls_pivot"
   ]
  },
  {
   "cell_type": "markdown",
   "metadata": {},
   "source": [
    "Посчитаем для каждого пользователя количество отправленных сообщений по месяцам:"
   ]
  },
  {
   "cell_type": "code",
   "execution_count": 26,
   "metadata": {},
   "outputs": [
    {
     "data": {
      "text/html": [
       "<div>\n",
       "<style scoped>\n",
       "    .dataframe tbody tr th:only-of-type {\n",
       "        vertical-align: middle;\n",
       "    }\n",
       "\n",
       "    .dataframe tbody tr th {\n",
       "        vertical-align: top;\n",
       "    }\n",
       "\n",
       "    .dataframe thead th {\n",
       "        text-align: right;\n",
       "    }\n",
       "</style>\n",
       "<table border=\"1\" class=\"dataframe\">\n",
       "  <thead>\n",
       "    <tr style=\"text-align: right;\">\n",
       "      <th></th>\n",
       "      <th>id</th>\n",
       "      <th>message_date</th>\n",
       "      <th>user_id</th>\n",
       "      <th>message_month</th>\n",
       "    </tr>\n",
       "  </thead>\n",
       "  <tbody>\n",
       "    <tr>\n",
       "      <th>0</th>\n",
       "      <td>1000_0</td>\n",
       "      <td>2018-06-27</td>\n",
       "      <td>1000</td>\n",
       "      <td>6</td>\n",
       "    </tr>\n",
       "    <tr>\n",
       "      <th>1</th>\n",
       "      <td>1000_1</td>\n",
       "      <td>2018-10-08</td>\n",
       "      <td>1000</td>\n",
       "      <td>10</td>\n",
       "    </tr>\n",
       "    <tr>\n",
       "      <th>2</th>\n",
       "      <td>1000_2</td>\n",
       "      <td>2018-08-04</td>\n",
       "      <td>1000</td>\n",
       "      <td>8</td>\n",
       "    </tr>\n",
       "    <tr>\n",
       "      <th>3</th>\n",
       "      <td>1000_3</td>\n",
       "      <td>2018-06-16</td>\n",
       "      <td>1000</td>\n",
       "      <td>6</td>\n",
       "    </tr>\n",
       "    <tr>\n",
       "      <th>4</th>\n",
       "      <td>1000_4</td>\n",
       "      <td>2018-12-05</td>\n",
       "      <td>1000</td>\n",
       "      <td>12</td>\n",
       "    </tr>\n",
       "    <tr>\n",
       "      <th>...</th>\n",
       "      <td>...</td>\n",
       "      <td>...</td>\n",
       "      <td>...</td>\n",
       "      <td>...</td>\n",
       "    </tr>\n",
       "    <tr>\n",
       "      <th>123031</th>\n",
       "      <td>1499_179</td>\n",
       "      <td>2018-12-12</td>\n",
       "      <td>1499</td>\n",
       "      <td>12</td>\n",
       "    </tr>\n",
       "    <tr>\n",
       "      <th>123032</th>\n",
       "      <td>1499_180</td>\n",
       "      <td>2018-09-28</td>\n",
       "      <td>1499</td>\n",
       "      <td>9</td>\n",
       "    </tr>\n",
       "    <tr>\n",
       "      <th>123033</th>\n",
       "      <td>1499_181</td>\n",
       "      <td>2018-09-27</td>\n",
       "      <td>1499</td>\n",
       "      <td>9</td>\n",
       "    </tr>\n",
       "    <tr>\n",
       "      <th>123034</th>\n",
       "      <td>1499_182</td>\n",
       "      <td>2018-11-15</td>\n",
       "      <td>1499</td>\n",
       "      <td>11</td>\n",
       "    </tr>\n",
       "    <tr>\n",
       "      <th>123035</th>\n",
       "      <td>1499_183</td>\n",
       "      <td>2018-11-16</td>\n",
       "      <td>1499</td>\n",
       "      <td>11</td>\n",
       "    </tr>\n",
       "  </tbody>\n",
       "</table>\n",
       "<p>123036 rows × 4 columns</p>\n",
       "</div>"
      ],
      "text/plain": [
       "              id message_date  user_id  message_month\n",
       "0         1000_0   2018-06-27     1000              6\n",
       "1         1000_1   2018-10-08     1000             10\n",
       "2         1000_2   2018-08-04     1000              8\n",
       "3         1000_3   2018-06-16     1000              6\n",
       "4         1000_4   2018-12-05     1000             12\n",
       "...          ...          ...      ...            ...\n",
       "123031  1499_179   2018-12-12     1499             12\n",
       "123032  1499_180   2018-09-28     1499              9\n",
       "123033  1499_181   2018-09-27     1499              9\n",
       "123034  1499_182   2018-11-15     1499             11\n",
       "123035  1499_183   2018-11-16     1499             11\n",
       "\n",
       "[123036 rows x 4 columns]"
      ]
     },
     "execution_count": 26,
     "metadata": {},
     "output_type": "execute_result"
    }
   ],
   "source": [
    "messages"
   ]
  },
  {
   "cell_type": "code",
   "execution_count": 27,
   "metadata": {},
   "outputs": [
    {
     "data": {
      "text/html": [
       "<div>\n",
       "<style scoped>\n",
       "    .dataframe tbody tr th:only-of-type {\n",
       "        vertical-align: middle;\n",
       "    }\n",
       "\n",
       "    .dataframe tbody tr th {\n",
       "        vertical-align: top;\n",
       "    }\n",
       "\n",
       "    .dataframe thead th {\n",
       "        text-align: right;\n",
       "    }\n",
       "</style>\n",
       "<table border=\"1\" class=\"dataframe\">\n",
       "  <thead>\n",
       "    <tr style=\"text-align: right;\">\n",
       "      <th></th>\n",
       "      <th>month</th>\n",
       "      <th>total_messages</th>\n",
       "    </tr>\n",
       "    <tr>\n",
       "      <th>user_id</th>\n",
       "      <th></th>\n",
       "      <th></th>\n",
       "    </tr>\n",
       "  </thead>\n",
       "  <tbody>\n",
       "    <tr>\n",
       "      <th>1000</th>\n",
       "      <td>5</td>\n",
       "      <td>22</td>\n",
       "    </tr>\n",
       "    <tr>\n",
       "      <th>1000</th>\n",
       "      <td>6</td>\n",
       "      <td>60</td>\n",
       "    </tr>\n",
       "    <tr>\n",
       "      <th>1000</th>\n",
       "      <td>7</td>\n",
       "      <td>75</td>\n",
       "    </tr>\n",
       "    <tr>\n",
       "      <th>1000</th>\n",
       "      <td>8</td>\n",
       "      <td>81</td>\n",
       "    </tr>\n",
       "    <tr>\n",
       "      <th>1000</th>\n",
       "      <td>9</td>\n",
       "      <td>57</td>\n",
       "    </tr>\n",
       "    <tr>\n",
       "      <th>...</th>\n",
       "      <td>...</td>\n",
       "      <td>...</td>\n",
       "    </tr>\n",
       "    <tr>\n",
       "      <th>1498</th>\n",
       "      <td>10</td>\n",
       "      <td>42</td>\n",
       "    </tr>\n",
       "    <tr>\n",
       "      <th>1499</th>\n",
       "      <td>9</td>\n",
       "      <td>11</td>\n",
       "    </tr>\n",
       "    <tr>\n",
       "      <th>1499</th>\n",
       "      <td>10</td>\n",
       "      <td>48</td>\n",
       "    </tr>\n",
       "    <tr>\n",
       "      <th>1499</th>\n",
       "      <td>11</td>\n",
       "      <td>59</td>\n",
       "    </tr>\n",
       "    <tr>\n",
       "      <th>1499</th>\n",
       "      <td>12</td>\n",
       "      <td>66</td>\n",
       "    </tr>\n",
       "  </tbody>\n",
       "</table>\n",
       "<p>2717 rows × 2 columns</p>\n",
       "</div>"
      ],
      "text/plain": [
       "         month  total_messages\n",
       "user_id                       \n",
       "1000         5              22\n",
       "1000         6              60\n",
       "1000         7              75\n",
       "1000         8              81\n",
       "1000         9              57\n",
       "...        ...             ...\n",
       "1498        10              42\n",
       "1499         9              11\n",
       "1499        10              48\n",
       "1499        11              59\n",
       "1499        12              66\n",
       "\n",
       "[2717 rows x 2 columns]"
      ]
     },
     "execution_count": 27,
     "metadata": {},
     "output_type": "execute_result"
    }
   ],
   "source": [
    "messages_pivot = messages.pivot_table(\n",
    "    index = ['user_id', 'message_month'],\n",
    "    values='id',\n",
    "    aggfunc=['count'])\\\n",
    "    .reset_index(level=1)\n",
    "messages_pivot.columns=['month','total_messages']\n",
    "messages_pivot"
   ]
  },
  {
   "cell_type": "markdown",
   "metadata": {},
   "source": [
    "Посчитаем для каждого пользователя объем израсходованного интернет-трафика по месяцам, переведем в гигабайты и округлим общуюю сумму трафика за месяц в большую сторону, как это диктуют правила \"Мегалайн\""
   ]
  },
  {
   "cell_type": "code",
   "execution_count": 28,
   "metadata": {},
   "outputs": [
    {
     "data": {
      "text/html": [
       "<div>\n",
       "<style scoped>\n",
       "    .dataframe tbody tr th:only-of-type {\n",
       "        vertical-align: middle;\n",
       "    }\n",
       "\n",
       "    .dataframe tbody tr th {\n",
       "        vertical-align: top;\n",
       "    }\n",
       "\n",
       "    .dataframe thead th {\n",
       "        text-align: right;\n",
       "    }\n",
       "</style>\n",
       "<table border=\"1\" class=\"dataframe\">\n",
       "  <thead>\n",
       "    <tr style=\"text-align: right;\">\n",
       "      <th></th>\n",
       "      <th>id</th>\n",
       "      <th>mb_used</th>\n",
       "      <th>session_date</th>\n",
       "      <th>user_id</th>\n",
       "      <th>session_month</th>\n",
       "    </tr>\n",
       "  </thead>\n",
       "  <tbody>\n",
       "    <tr>\n",
       "      <th>0</th>\n",
       "      <td>1000_0</td>\n",
       "      <td>112.95</td>\n",
       "      <td>2018-11-25</td>\n",
       "      <td>1000</td>\n",
       "      <td>11</td>\n",
       "    </tr>\n",
       "    <tr>\n",
       "      <th>1</th>\n",
       "      <td>1000_1</td>\n",
       "      <td>1052.81</td>\n",
       "      <td>2018-09-07</td>\n",
       "      <td>1000</td>\n",
       "      <td>9</td>\n",
       "    </tr>\n",
       "    <tr>\n",
       "      <th>2</th>\n",
       "      <td>1000_2</td>\n",
       "      <td>1197.26</td>\n",
       "      <td>2018-06-25</td>\n",
       "      <td>1000</td>\n",
       "      <td>6</td>\n",
       "    </tr>\n",
       "    <tr>\n",
       "      <th>3</th>\n",
       "      <td>1000_3</td>\n",
       "      <td>550.27</td>\n",
       "      <td>2018-08-22</td>\n",
       "      <td>1000</td>\n",
       "      <td>8</td>\n",
       "    </tr>\n",
       "    <tr>\n",
       "      <th>4</th>\n",
       "      <td>1000_4</td>\n",
       "      <td>302.56</td>\n",
       "      <td>2018-09-24</td>\n",
       "      <td>1000</td>\n",
       "      <td>9</td>\n",
       "    </tr>\n",
       "    <tr>\n",
       "      <th>...</th>\n",
       "      <td>...</td>\n",
       "      <td>...</td>\n",
       "      <td>...</td>\n",
       "      <td>...</td>\n",
       "      <td>...</td>\n",
       "    </tr>\n",
       "    <tr>\n",
       "      <th>149391</th>\n",
       "      <td>1499_152</td>\n",
       "      <td>318.90</td>\n",
       "      <td>2018-10-03</td>\n",
       "      <td>1499</td>\n",
       "      <td>10</td>\n",
       "    </tr>\n",
       "    <tr>\n",
       "      <th>149392</th>\n",
       "      <td>1499_153</td>\n",
       "      <td>490.13</td>\n",
       "      <td>2018-12-14</td>\n",
       "      <td>1499</td>\n",
       "      <td>12</td>\n",
       "    </tr>\n",
       "    <tr>\n",
       "      <th>149393</th>\n",
       "      <td>1499_154</td>\n",
       "      <td>0.00</td>\n",
       "      <td>2018-10-27</td>\n",
       "      <td>1499</td>\n",
       "      <td>10</td>\n",
       "    </tr>\n",
       "    <tr>\n",
       "      <th>149394</th>\n",
       "      <td>1499_155</td>\n",
       "      <td>1246.32</td>\n",
       "      <td>2018-11-26</td>\n",
       "      <td>1499</td>\n",
       "      <td>11</td>\n",
       "    </tr>\n",
       "    <tr>\n",
       "      <th>149395</th>\n",
       "      <td>1499_156</td>\n",
       "      <td>544.37</td>\n",
       "      <td>2018-10-26</td>\n",
       "      <td>1499</td>\n",
       "      <td>10</td>\n",
       "    </tr>\n",
       "  </tbody>\n",
       "</table>\n",
       "<p>149396 rows × 5 columns</p>\n",
       "</div>"
      ],
      "text/plain": [
       "              id  mb_used session_date  user_id  session_month\n",
       "0         1000_0   112.95   2018-11-25     1000             11\n",
       "1         1000_1  1052.81   2018-09-07     1000              9\n",
       "2         1000_2  1197.26   2018-06-25     1000              6\n",
       "3         1000_3   550.27   2018-08-22     1000              8\n",
       "4         1000_4   302.56   2018-09-24     1000              9\n",
       "...          ...      ...          ...      ...            ...\n",
       "149391  1499_152   318.90   2018-10-03     1499             10\n",
       "149392  1499_153   490.13   2018-12-14     1499             12\n",
       "149393  1499_154     0.00   2018-10-27     1499             10\n",
       "149394  1499_155  1246.32   2018-11-26     1499             11\n",
       "149395  1499_156   544.37   2018-10-26     1499             10\n",
       "\n",
       "[149396 rows x 5 columns]"
      ]
     },
     "execution_count": 28,
     "metadata": {},
     "output_type": "execute_result"
    }
   ],
   "source": [
    "internet"
   ]
  },
  {
   "cell_type": "code",
   "execution_count": 29,
   "metadata": {},
   "outputs": [
    {
     "data": {
      "text/html": [
       "<div>\n",
       "<style scoped>\n",
       "    .dataframe tbody tr th:only-of-type {\n",
       "        vertical-align: middle;\n",
       "    }\n",
       "\n",
       "    .dataframe tbody tr th {\n",
       "        vertical-align: top;\n",
       "    }\n",
       "\n",
       "    .dataframe thead th {\n",
       "        text-align: right;\n",
       "    }\n",
       "</style>\n",
       "<table border=\"1\" class=\"dataframe\">\n",
       "  <thead>\n",
       "    <tr style=\"text-align: right;\">\n",
       "      <th></th>\n",
       "      <th>month</th>\n",
       "      <th>total_traffic</th>\n",
       "    </tr>\n",
       "    <tr>\n",
       "      <th>user_id</th>\n",
       "      <th></th>\n",
       "      <th></th>\n",
       "    </tr>\n",
       "  </thead>\n",
       "  <tbody>\n",
       "    <tr>\n",
       "      <th>1000</th>\n",
       "      <td>5</td>\n",
       "      <td>2253.49</td>\n",
       "    </tr>\n",
       "    <tr>\n",
       "      <th>1000</th>\n",
       "      <td>6</td>\n",
       "      <td>23233.77</td>\n",
       "    </tr>\n",
       "    <tr>\n",
       "      <th>1000</th>\n",
       "      <td>7</td>\n",
       "      <td>14003.64</td>\n",
       "    </tr>\n",
       "    <tr>\n",
       "      <th>1000</th>\n",
       "      <td>8</td>\n",
       "      <td>14055.93</td>\n",
       "    </tr>\n",
       "    <tr>\n",
       "      <th>1000</th>\n",
       "      <td>9</td>\n",
       "      <td>14568.91</td>\n",
       "    </tr>\n",
       "    <tr>\n",
       "      <th>...</th>\n",
       "      <td>...</td>\n",
       "      <td>...</td>\n",
       "    </tr>\n",
       "    <tr>\n",
       "      <th>1498</th>\n",
       "      <td>10</td>\n",
       "      <td>20579.36</td>\n",
       "    </tr>\n",
       "    <tr>\n",
       "      <th>1499</th>\n",
       "      <td>9</td>\n",
       "      <td>1845.75</td>\n",
       "    </tr>\n",
       "    <tr>\n",
       "      <th>1499</th>\n",
       "      <td>10</td>\n",
       "      <td>17788.51</td>\n",
       "    </tr>\n",
       "    <tr>\n",
       "      <th>1499</th>\n",
       "      <td>11</td>\n",
       "      <td>17963.31</td>\n",
       "    </tr>\n",
       "    <tr>\n",
       "      <th>1499</th>\n",
       "      <td>12</td>\n",
       "      <td>13055.58</td>\n",
       "    </tr>\n",
       "  </tbody>\n",
       "</table>\n",
       "<p>3203 rows × 2 columns</p>\n",
       "</div>"
      ],
      "text/plain": [
       "         month  total_traffic\n",
       "user_id                      \n",
       "1000         5        2253.49\n",
       "1000         6       23233.77\n",
       "1000         7       14003.64\n",
       "1000         8       14055.93\n",
       "1000         9       14568.91\n",
       "...        ...            ...\n",
       "1498        10       20579.36\n",
       "1499         9        1845.75\n",
       "1499        10       17788.51\n",
       "1499        11       17963.31\n",
       "1499        12       13055.58\n",
       "\n",
       "[3203 rows x 2 columns]"
      ]
     },
     "execution_count": 29,
     "metadata": {},
     "output_type": "execute_result"
    }
   ],
   "source": [
    "internet_pivot = internet.pivot_table(\n",
    "    index = ['user_id', 'session_month'],\n",
    "    values='mb_used',\n",
    "    aggfunc=['sum'])\\\n",
    "    .reset_index(level=1)\n",
    "internet_pivot.columns=['month','total_traffic']\n",
    "internet_pivot"
   ]
  },
  {
   "cell_type": "code",
   "execution_count": 30,
   "metadata": {},
   "outputs": [
    {
     "data": {
      "text/html": [
       "<div>\n",
       "<style scoped>\n",
       "    .dataframe tbody tr th:only-of-type {\n",
       "        vertical-align: middle;\n",
       "    }\n",
       "\n",
       "    .dataframe tbody tr th {\n",
       "        vertical-align: top;\n",
       "    }\n",
       "\n",
       "    .dataframe thead th {\n",
       "        text-align: right;\n",
       "    }\n",
       "</style>\n",
       "<table border=\"1\" class=\"dataframe\">\n",
       "  <thead>\n",
       "    <tr style=\"text-align: right;\">\n",
       "      <th></th>\n",
       "      <th>month</th>\n",
       "      <th>total_traffic</th>\n",
       "    </tr>\n",
       "    <tr>\n",
       "      <th>user_id</th>\n",
       "      <th></th>\n",
       "      <th></th>\n",
       "    </tr>\n",
       "  </thead>\n",
       "  <tbody>\n",
       "    <tr>\n",
       "      <th>1000</th>\n",
       "      <td>5</td>\n",
       "      <td>3.0</td>\n",
       "    </tr>\n",
       "    <tr>\n",
       "      <th>1000</th>\n",
       "      <td>6</td>\n",
       "      <td>23.0</td>\n",
       "    </tr>\n",
       "    <tr>\n",
       "      <th>1000</th>\n",
       "      <td>7</td>\n",
       "      <td>14.0</td>\n",
       "    </tr>\n",
       "    <tr>\n",
       "      <th>1000</th>\n",
       "      <td>8</td>\n",
       "      <td>14.0</td>\n",
       "    </tr>\n",
       "    <tr>\n",
       "      <th>1000</th>\n",
       "      <td>9</td>\n",
       "      <td>15.0</td>\n",
       "    </tr>\n",
       "    <tr>\n",
       "      <th>...</th>\n",
       "      <td>...</td>\n",
       "      <td>...</td>\n",
       "    </tr>\n",
       "    <tr>\n",
       "      <th>1498</th>\n",
       "      <td>10</td>\n",
       "      <td>21.0</td>\n",
       "    </tr>\n",
       "    <tr>\n",
       "      <th>1499</th>\n",
       "      <td>9</td>\n",
       "      <td>2.0</td>\n",
       "    </tr>\n",
       "    <tr>\n",
       "      <th>1499</th>\n",
       "      <td>10</td>\n",
       "      <td>18.0</td>\n",
       "    </tr>\n",
       "    <tr>\n",
       "      <th>1499</th>\n",
       "      <td>11</td>\n",
       "      <td>18.0</td>\n",
       "    </tr>\n",
       "    <tr>\n",
       "      <th>1499</th>\n",
       "      <td>12</td>\n",
       "      <td>13.0</td>\n",
       "    </tr>\n",
       "  </tbody>\n",
       "</table>\n",
       "<p>3203 rows × 2 columns</p>\n",
       "</div>"
      ],
      "text/plain": [
       "         month  total_traffic\n",
       "user_id                      \n",
       "1000         5            3.0\n",
       "1000         6           23.0\n",
       "1000         7           14.0\n",
       "1000         8           14.0\n",
       "1000         9           15.0\n",
       "...        ...            ...\n",
       "1498        10           21.0\n",
       "1499         9            2.0\n",
       "1499        10           18.0\n",
       "1499        11           18.0\n",
       "1499        12           13.0\n",
       "\n",
       "[3203 rows x 2 columns]"
      ]
     },
     "execution_count": 30,
     "metadata": {},
     "output_type": "execute_result"
    }
   ],
   "source": [
    "internet_pivot['total_traffic'] = np.ceil(internet_pivot['total_traffic']/1024)\n",
    "internet_pivot"
   ]
  },
  {
   "cell_type": "markdown",
   "metadata": {},
   "source": [
    "Теперь соберем все в одну таблицу `users_df`"
   ]
  },
  {
   "cell_type": "code",
   "execution_count": 31,
   "metadata": {},
   "outputs": [
    {
     "data": {
      "text/html": [
       "<div>\n",
       "<style scoped>\n",
       "    .dataframe tbody tr th:only-of-type {\n",
       "        vertical-align: middle;\n",
       "    }\n",
       "\n",
       "    .dataframe tbody tr th {\n",
       "        vertical-align: top;\n",
       "    }\n",
       "\n",
       "    .dataframe thead th {\n",
       "        text-align: right;\n",
       "    }\n",
       "</style>\n",
       "<table border=\"1\" class=\"dataframe\">\n",
       "  <thead>\n",
       "    <tr style=\"text-align: right;\">\n",
       "      <th></th>\n",
       "      <th>user_id</th>\n",
       "      <th>age</th>\n",
       "      <th>churn_date</th>\n",
       "      <th>city</th>\n",
       "      <th>first_name</th>\n",
       "      <th>last_name</th>\n",
       "      <th>reg_date</th>\n",
       "      <th>tariff</th>\n",
       "      <th>month</th>\n",
       "      <th>total_calls</th>\n",
       "      <th>total_duration</th>\n",
       "      <th>total_messages</th>\n",
       "      <th>total_traffic</th>\n",
       "    </tr>\n",
       "  </thead>\n",
       "  <tbody>\n",
       "    <tr>\n",
       "      <th>0</th>\n",
       "      <td>1000</td>\n",
       "      <td>52</td>\n",
       "      <td>NaT</td>\n",
       "      <td>Краснодар</td>\n",
       "      <td>Рафаил</td>\n",
       "      <td>Верещагин</td>\n",
       "      <td>2018-05-25</td>\n",
       "      <td>ultra</td>\n",
       "      <td>5.0</td>\n",
       "      <td>22.0</td>\n",
       "      <td>159.0</td>\n",
       "      <td>22.0</td>\n",
       "      <td>3.0</td>\n",
       "    </tr>\n",
       "    <tr>\n",
       "      <th>1</th>\n",
       "      <td>1000</td>\n",
       "      <td>52</td>\n",
       "      <td>NaT</td>\n",
       "      <td>Краснодар</td>\n",
       "      <td>Рафаил</td>\n",
       "      <td>Верещагин</td>\n",
       "      <td>2018-05-25</td>\n",
       "      <td>ultra</td>\n",
       "      <td>6.0</td>\n",
       "      <td>43.0</td>\n",
       "      <td>172.0</td>\n",
       "      <td>60.0</td>\n",
       "      <td>23.0</td>\n",
       "    </tr>\n",
       "    <tr>\n",
       "      <th>2</th>\n",
       "      <td>1000</td>\n",
       "      <td>52</td>\n",
       "      <td>NaT</td>\n",
       "      <td>Краснодар</td>\n",
       "      <td>Рафаил</td>\n",
       "      <td>Верещагин</td>\n",
       "      <td>2018-05-25</td>\n",
       "      <td>ultra</td>\n",
       "      <td>7.0</td>\n",
       "      <td>47.0</td>\n",
       "      <td>340.0</td>\n",
       "      <td>75.0</td>\n",
       "      <td>14.0</td>\n",
       "    </tr>\n",
       "    <tr>\n",
       "      <th>3</th>\n",
       "      <td>1000</td>\n",
       "      <td>52</td>\n",
       "      <td>NaT</td>\n",
       "      <td>Краснодар</td>\n",
       "      <td>Рафаил</td>\n",
       "      <td>Верещагин</td>\n",
       "      <td>2018-05-25</td>\n",
       "      <td>ultra</td>\n",
       "      <td>8.0</td>\n",
       "      <td>52.0</td>\n",
       "      <td>408.0</td>\n",
       "      <td>81.0</td>\n",
       "      <td>14.0</td>\n",
       "    </tr>\n",
       "    <tr>\n",
       "      <th>4</th>\n",
       "      <td>1000</td>\n",
       "      <td>52</td>\n",
       "      <td>NaT</td>\n",
       "      <td>Краснодар</td>\n",
       "      <td>Рафаил</td>\n",
       "      <td>Верещагин</td>\n",
       "      <td>2018-05-25</td>\n",
       "      <td>ultra</td>\n",
       "      <td>9.0</td>\n",
       "      <td>58.0</td>\n",
       "      <td>466.0</td>\n",
       "      <td>57.0</td>\n",
       "      <td>15.0</td>\n",
       "    </tr>\n",
       "    <tr>\n",
       "      <th>...</th>\n",
       "      <td>...</td>\n",
       "      <td>...</td>\n",
       "      <td>...</td>\n",
       "      <td>...</td>\n",
       "      <td>...</td>\n",
       "      <td>...</td>\n",
       "      <td>...</td>\n",
       "      <td>...</td>\n",
       "      <td>...</td>\n",
       "      <td>...</td>\n",
       "      <td>...</td>\n",
       "      <td>...</td>\n",
       "      <td>...</td>\n",
       "    </tr>\n",
       "    <tr>\n",
       "      <th>3211</th>\n",
       "      <td>1498</td>\n",
       "      <td>68</td>\n",
       "      <td>2018-10-25</td>\n",
       "      <td>Владикавказ</td>\n",
       "      <td>Всеволод</td>\n",
       "      <td>Акимчин</td>\n",
       "      <td>2018-07-19</td>\n",
       "      <td>smart</td>\n",
       "      <td>10.0</td>\n",
       "      <td>41.0</td>\n",
       "      <td>247.0</td>\n",
       "      <td>42.0</td>\n",
       "      <td>21.0</td>\n",
       "    </tr>\n",
       "    <tr>\n",
       "      <th>3212</th>\n",
       "      <td>1499</td>\n",
       "      <td>35</td>\n",
       "      <td>NaT</td>\n",
       "      <td>Пермь</td>\n",
       "      <td>Гектор</td>\n",
       "      <td>Корнилов</td>\n",
       "      <td>2018-09-27</td>\n",
       "      <td>smart</td>\n",
       "      <td>9.0</td>\n",
       "      <td>9.0</td>\n",
       "      <td>70.0</td>\n",
       "      <td>11.0</td>\n",
       "      <td>2.0</td>\n",
       "    </tr>\n",
       "    <tr>\n",
       "      <th>3213</th>\n",
       "      <td>1499</td>\n",
       "      <td>35</td>\n",
       "      <td>NaT</td>\n",
       "      <td>Пермь</td>\n",
       "      <td>Гектор</td>\n",
       "      <td>Корнилов</td>\n",
       "      <td>2018-09-27</td>\n",
       "      <td>smart</td>\n",
       "      <td>10.0</td>\n",
       "      <td>68.0</td>\n",
       "      <td>449.0</td>\n",
       "      <td>48.0</td>\n",
       "      <td>18.0</td>\n",
       "    </tr>\n",
       "    <tr>\n",
       "      <th>3214</th>\n",
       "      <td>1499</td>\n",
       "      <td>35</td>\n",
       "      <td>NaT</td>\n",
       "      <td>Пермь</td>\n",
       "      <td>Гектор</td>\n",
       "      <td>Корнилов</td>\n",
       "      <td>2018-09-27</td>\n",
       "      <td>smart</td>\n",
       "      <td>11.0</td>\n",
       "      <td>74.0</td>\n",
       "      <td>612.0</td>\n",
       "      <td>59.0</td>\n",
       "      <td>18.0</td>\n",
       "    </tr>\n",
       "    <tr>\n",
       "      <th>3215</th>\n",
       "      <td>1499</td>\n",
       "      <td>35</td>\n",
       "      <td>NaT</td>\n",
       "      <td>Пермь</td>\n",
       "      <td>Гектор</td>\n",
       "      <td>Корнилов</td>\n",
       "      <td>2018-09-27</td>\n",
       "      <td>smart</td>\n",
       "      <td>12.0</td>\n",
       "      <td>69.0</td>\n",
       "      <td>492.0</td>\n",
       "      <td>66.0</td>\n",
       "      <td>13.0</td>\n",
       "    </tr>\n",
       "  </tbody>\n",
       "</table>\n",
       "<p>3216 rows × 13 columns</p>\n",
       "</div>"
      ],
      "text/plain": [
       "      user_id  age churn_date         city first_name  last_name   reg_date  \\\n",
       "0        1000   52        NaT    Краснодар     Рафаил  Верещагин 2018-05-25   \n",
       "1        1000   52        NaT    Краснодар     Рафаил  Верещагин 2018-05-25   \n",
       "2        1000   52        NaT    Краснодар     Рафаил  Верещагин 2018-05-25   \n",
       "3        1000   52        NaT    Краснодар     Рафаил  Верещагин 2018-05-25   \n",
       "4        1000   52        NaT    Краснодар     Рафаил  Верещагин 2018-05-25   \n",
       "...       ...  ...        ...          ...        ...        ...        ...   \n",
       "3211     1498   68 2018-10-25  Владикавказ   Всеволод    Акимчин 2018-07-19   \n",
       "3212     1499   35        NaT        Пермь     Гектор   Корнилов 2018-09-27   \n",
       "3213     1499   35        NaT        Пермь     Гектор   Корнилов 2018-09-27   \n",
       "3214     1499   35        NaT        Пермь     Гектор   Корнилов 2018-09-27   \n",
       "3215     1499   35        NaT        Пермь     Гектор   Корнилов 2018-09-27   \n",
       "\n",
       "     tariff  month  total_calls  total_duration  total_messages  total_traffic  \n",
       "0     ultra    5.0         22.0           159.0            22.0            3.0  \n",
       "1     ultra    6.0         43.0           172.0            60.0           23.0  \n",
       "2     ultra    7.0         47.0           340.0            75.0           14.0  \n",
       "3     ultra    8.0         52.0           408.0            81.0           14.0  \n",
       "4     ultra    9.0         58.0           466.0            57.0           15.0  \n",
       "...     ...    ...          ...             ...             ...            ...  \n",
       "3211  smart   10.0         41.0           247.0            42.0           21.0  \n",
       "3212  smart    9.0          9.0            70.0            11.0            2.0  \n",
       "3213  smart   10.0         68.0           449.0            48.0           18.0  \n",
       "3214  smart   11.0         74.0           612.0            59.0           18.0  \n",
       "3215  smart   12.0         69.0           492.0            66.0           13.0  \n",
       "\n",
       "[3216 rows x 13 columns]"
      ]
     },
     "execution_count": 31,
     "metadata": {},
     "output_type": "execute_result"
    }
   ],
   "source": [
    "df = calls_pivot.merge(messages_pivot, on=['user_id', 'month'], how='outer')\n",
    "df = df.merge(internet_pivot, on=['user_id', 'month'], how='outer')\n",
    "df.reset_index()\n",
    "users_df = users.merge(df, on='user_id', how='outer')\n",
    "users_df"
   ]
  },
  {
   "cell_type": "markdown",
   "metadata": {},
   "source": [
    "Изучим характеристики получившейся таблицы, с помощью функции, которую создали в начале проекта:"
   ]
  },
  {
   "cell_type": "code",
   "execution_count": 32,
   "metadata": {},
   "outputs": [
    {
     "name": "stdout",
     "output_type": "stream",
     "text": [
      "Внешний вид датафрейма:\n",
      "   user_id  age churn_date       city first_name  last_name   reg_date tariff  \\\n",
      "0     1000   52        NaT  Краснодар     Рафаил  Верещагин 2018-05-25  ultra   \n",
      "1     1000   52        NaT  Краснодар     Рафаил  Верещагин 2018-05-25  ultra   \n",
      "2     1000   52        NaT  Краснодар     Рафаил  Верещагин 2018-05-25  ultra   \n",
      "3     1000   52        NaT  Краснодар     Рафаил  Верещагин 2018-05-25  ultra   \n",
      "4     1000   52        NaT  Краснодар     Рафаил  Верещагин 2018-05-25  ultra   \n",
      "\n",
      "   month  total_calls  total_duration  total_messages  total_traffic  \n",
      "0    5.0         22.0           159.0            22.0            3.0  \n",
      "1    6.0         43.0           172.0            60.0           23.0  \n",
      "2    7.0         47.0           340.0            75.0           14.0  \n",
      "3    8.0         52.0           408.0            81.0           14.0  \n",
      "4    9.0         58.0           466.0            57.0           15.0  \n",
      "``````````````````````````````````````````````````\n",
      "Типы данных, кол-во строк и столбцов:\n",
      "<class 'pandas.core.frame.DataFrame'>\n",
      "Int64Index: 3216 entries, 0 to 3215\n",
      "Data columns (total 13 columns):\n",
      " #   Column          Non-Null Count  Dtype         \n",
      "---  ------          --------------  -----         \n",
      " 0   user_id         3216 non-null   int64         \n",
      " 1   age             3216 non-null   int64         \n",
      " 2   churn_date      189 non-null    datetime64[ns]\n",
      " 3   city            3216 non-null   object        \n",
      " 4   first_name      3216 non-null   object        \n",
      " 5   last_name       3216 non-null   object        \n",
      " 6   reg_date        3216 non-null   datetime64[ns]\n",
      " 7   tariff          3216 non-null   object        \n",
      " 8   month           3214 non-null   float64       \n",
      " 9   total_calls     3174 non-null   float64       \n",
      " 10  total_duration  3174 non-null   float64       \n",
      " 11  total_messages  2717 non-null   float64       \n",
      " 12  total_traffic   3203 non-null   float64       \n",
      "dtypes: datetime64[ns](2), float64(5), int64(2), object(4)\n",
      "memory usage: 351.8+ KB\n",
      "None\n",
      "``````````````````````````````````````````````````\n",
      "Доля пропущенных значений:\n",
      "user_id           0.000000\n",
      "age               0.000000\n",
      "churn_date        0.941231\n",
      "city              0.000000\n",
      "first_name        0.000000\n",
      "last_name         0.000000\n",
      "reg_date          0.000000\n",
      "tariff            0.000000\n",
      "month             0.000622\n",
      "total_calls       0.013060\n",
      "total_duration    0.013060\n",
      "total_messages    0.155162\n",
      "total_traffic     0.004042\n",
      "dtype: float64\n",
      "``````````````````````````````````````````````````\n",
      "Количество явных дубликатов:\n",
      "0\n",
      "``````````````````````````````````````````````````\n"
     ]
    }
   ],
   "source": [
    "view_func(users_df)"
   ]
  },
  {
   "cell_type": "markdown",
   "metadata": {},
   "source": [
    "У нас появилось небольшое количество пропусков в столбце `month` посмотрим, что это за пропуски и откуда они взялись:"
   ]
  },
  {
   "cell_type": "code",
   "execution_count": 33,
   "metadata": {},
   "outputs": [
    {
     "data": {
      "text/html": [
       "<div>\n",
       "<style scoped>\n",
       "    .dataframe tbody tr th:only-of-type {\n",
       "        vertical-align: middle;\n",
       "    }\n",
       "\n",
       "    .dataframe tbody tr th {\n",
       "        vertical-align: top;\n",
       "    }\n",
       "\n",
       "    .dataframe thead th {\n",
       "        text-align: right;\n",
       "    }\n",
       "</style>\n",
       "<table border=\"1\" class=\"dataframe\">\n",
       "  <thead>\n",
       "    <tr style=\"text-align: right;\">\n",
       "      <th></th>\n",
       "      <th>user_id</th>\n",
       "      <th>age</th>\n",
       "      <th>churn_date</th>\n",
       "      <th>city</th>\n",
       "      <th>first_name</th>\n",
       "      <th>last_name</th>\n",
       "      <th>reg_date</th>\n",
       "      <th>tariff</th>\n",
       "      <th>month</th>\n",
       "      <th>total_calls</th>\n",
       "      <th>total_duration</th>\n",
       "      <th>total_messages</th>\n",
       "      <th>total_traffic</th>\n",
       "    </tr>\n",
       "  </thead>\n",
       "  <tbody>\n",
       "    <tr>\n",
       "      <th>827</th>\n",
       "      <td>1128</td>\n",
       "      <td>51</td>\n",
       "      <td>2018-12-23</td>\n",
       "      <td>Волжский</td>\n",
       "      <td>Ксения</td>\n",
       "      <td>Агаева</td>\n",
       "      <td>2018-12-15</td>\n",
       "      <td>ultra</td>\n",
       "      <td>NaN</td>\n",
       "      <td>NaN</td>\n",
       "      <td>NaN</td>\n",
       "      <td>NaN</td>\n",
       "      <td>NaN</td>\n",
       "    </tr>\n",
       "    <tr>\n",
       "      <th>2335</th>\n",
       "      <td>1371</td>\n",
       "      <td>50</td>\n",
       "      <td>2018-12-30</td>\n",
       "      <td>Омск</td>\n",
       "      <td>Ириней</td>\n",
       "      <td>Трофимов</td>\n",
       "      <td>2018-12-25</td>\n",
       "      <td>smart</td>\n",
       "      <td>NaN</td>\n",
       "      <td>NaN</td>\n",
       "      <td>NaN</td>\n",
       "      <td>NaN</td>\n",
       "      <td>NaN</td>\n",
       "    </tr>\n",
       "  </tbody>\n",
       "</table>\n",
       "</div>"
      ],
      "text/plain": [
       "      user_id  age churn_date      city first_name last_name   reg_date  \\\n",
       "827      1128   51 2018-12-23  Волжский     Ксения    Агаева 2018-12-15   \n",
       "2335     1371   50 2018-12-30      Омск     Ириней  Трофимов 2018-12-25   \n",
       "\n",
       "     tariff  month  total_calls  total_duration  total_messages  total_traffic  \n",
       "827   ultra    NaN          NaN             NaN             NaN            NaN  \n",
       "2335  smart    NaN          NaN             NaN             NaN            NaN  "
      ]
     },
     "execution_count": 33,
     "metadata": {},
     "output_type": "execute_result"
    }
   ],
   "source": [
    "users_df[users_df['month'].isnull()]"
   ]
  },
  {
   "cell_type": "markdown",
   "metadata": {},
   "source": [
    "Всего два пользователя, которые не пользовались никакими услугами.\n",
    "Судя по дате регистрации и дате окончания тарифа, они им пользовались 8 и 5 дней соответственно. \n",
    "Удалю их, чтобы не мешали сследованию."
   ]
  },
  {
   "cell_type": "code",
   "execution_count": 34,
   "metadata": {},
   "outputs": [],
   "source": [
    "users_df.drop([827, 2335], axis = 0, inplace = True)"
   ]
  },
  {
   "cell_type": "markdown",
   "metadata": {},
   "source": [
    "Поменяем в столбцах `total_calls`, `total_duration`, `total_messages`, `total_traffic` NaN на 0, это поможет нам в будущем исследовании данных:"
   ]
  },
  {
   "cell_type": "code",
   "execution_count": 35,
   "metadata": {},
   "outputs": [],
   "source": [
    "users_df['total_calls'] = users_df['total_calls'].fillna(0)\n",
    "users_df['total_duration'] = users_df['total_duration'].fillna(0)\n",
    "users_df['total_messages'] = users_df['total_messages'].fillna(0)\n",
    "users_df['total_traffic'] = users_df['total_traffic'].fillna(0)"
   ]
  },
  {
   "cell_type": "code",
   "execution_count": 36,
   "metadata": {},
   "outputs": [
    {
     "name": "stdout",
     "output_type": "stream",
     "text": [
      "Внешний вид датафрейма:\n",
      "   user_id  age churn_date       city first_name  last_name   reg_date tariff  \\\n",
      "0     1000   52        NaT  Краснодар     Рафаил  Верещагин 2018-05-25  ultra   \n",
      "1     1000   52        NaT  Краснодар     Рафаил  Верещагин 2018-05-25  ultra   \n",
      "2     1000   52        NaT  Краснодар     Рафаил  Верещагин 2018-05-25  ultra   \n",
      "3     1000   52        NaT  Краснодар     Рафаил  Верещагин 2018-05-25  ultra   \n",
      "4     1000   52        NaT  Краснодар     Рафаил  Верещагин 2018-05-25  ultra   \n",
      "\n",
      "   month  total_calls  total_duration  total_messages  total_traffic  \n",
      "0    5.0         22.0           159.0            22.0            3.0  \n",
      "1    6.0         43.0           172.0            60.0           23.0  \n",
      "2    7.0         47.0           340.0            75.0           14.0  \n",
      "3    8.0         52.0           408.0            81.0           14.0  \n",
      "4    9.0         58.0           466.0            57.0           15.0  \n",
      "``````````````````````````````````````````````````\n",
      "Типы данных, кол-во строк и столбцов:\n",
      "<class 'pandas.core.frame.DataFrame'>\n",
      "Int64Index: 3214 entries, 0 to 3215\n",
      "Data columns (total 13 columns):\n",
      " #   Column          Non-Null Count  Dtype         \n",
      "---  ------          --------------  -----         \n",
      " 0   user_id         3214 non-null   int64         \n",
      " 1   age             3214 non-null   int64         \n",
      " 2   churn_date      187 non-null    datetime64[ns]\n",
      " 3   city            3214 non-null   object        \n",
      " 4   first_name      3214 non-null   object        \n",
      " 5   last_name       3214 non-null   object        \n",
      " 6   reg_date        3214 non-null   datetime64[ns]\n",
      " 7   tariff          3214 non-null   object        \n",
      " 8   month           3214 non-null   float64       \n",
      " 9   total_calls     3214 non-null   float64       \n",
      " 10  total_duration  3214 non-null   float64       \n",
      " 11  total_messages  3214 non-null   float64       \n",
      " 12  total_traffic   3214 non-null   float64       \n",
      "dtypes: datetime64[ns](2), float64(5), int64(2), object(4)\n",
      "memory usage: 351.5+ KB\n",
      "None\n",
      "``````````````````````````````````````````````````\n",
      "Доля пропущенных значений:\n",
      "user_id           0.000000\n",
      "age               0.000000\n",
      "churn_date        0.941817\n",
      "city              0.000000\n",
      "first_name        0.000000\n",
      "last_name         0.000000\n",
      "reg_date          0.000000\n",
      "tariff            0.000000\n",
      "month             0.000000\n",
      "total_calls       0.000000\n",
      "total_duration    0.000000\n",
      "total_messages    0.000000\n",
      "total_traffic     0.000000\n",
      "dtype: float64\n",
      "``````````````````````````````````````````````````\n",
      "Количество явных дубликатов:\n",
      "0\n",
      "``````````````````````````````````````````````````\n"
     ]
    }
   ],
   "source": [
    "view_func(users_df)"
   ]
  },
  {
   "cell_type": "markdown",
   "metadata": {},
   "source": [
    "Добавим в получившийся датафрейм данные из таблицы с тарифами и удалим ненужные нашему исследованию столбцы"
   ]
  },
  {
   "cell_type": "code",
   "execution_count": 37,
   "metadata": {},
   "outputs": [
    {
     "data": {
      "text/html": [
       "<div>\n",
       "<style scoped>\n",
       "    .dataframe tbody tr th:only-of-type {\n",
       "        vertical-align: middle;\n",
       "    }\n",
       "\n",
       "    .dataframe tbody tr th {\n",
       "        vertical-align: top;\n",
       "    }\n",
       "\n",
       "    .dataframe thead th {\n",
       "        text-align: right;\n",
       "    }\n",
       "</style>\n",
       "<table border=\"1\" class=\"dataframe\">\n",
       "  <thead>\n",
       "    <tr style=\"text-align: right;\">\n",
       "      <th></th>\n",
       "      <th>user_id</th>\n",
       "      <th>age</th>\n",
       "      <th>churn_date</th>\n",
       "      <th>city</th>\n",
       "      <th>first_name</th>\n",
       "      <th>last_name</th>\n",
       "      <th>reg_date</th>\n",
       "      <th>tariff</th>\n",
       "      <th>month</th>\n",
       "      <th>total_calls</th>\n",
       "      <th>total_duration</th>\n",
       "      <th>total_messages</th>\n",
       "      <th>total_traffic</th>\n",
       "    </tr>\n",
       "  </thead>\n",
       "  <tbody>\n",
       "    <tr>\n",
       "      <th>0</th>\n",
       "      <td>1000</td>\n",
       "      <td>52</td>\n",
       "      <td>NaT</td>\n",
       "      <td>Краснодар</td>\n",
       "      <td>Рафаил</td>\n",
       "      <td>Верещагин</td>\n",
       "      <td>2018-05-25</td>\n",
       "      <td>ultra</td>\n",
       "      <td>5.0</td>\n",
       "      <td>22.0</td>\n",
       "      <td>159.0</td>\n",
       "      <td>22.0</td>\n",
       "      <td>3.0</td>\n",
       "    </tr>\n",
       "    <tr>\n",
       "      <th>1</th>\n",
       "      <td>1000</td>\n",
       "      <td>52</td>\n",
       "      <td>NaT</td>\n",
       "      <td>Краснодар</td>\n",
       "      <td>Рафаил</td>\n",
       "      <td>Верещагин</td>\n",
       "      <td>2018-05-25</td>\n",
       "      <td>ultra</td>\n",
       "      <td>6.0</td>\n",
       "      <td>43.0</td>\n",
       "      <td>172.0</td>\n",
       "      <td>60.0</td>\n",
       "      <td>23.0</td>\n",
       "    </tr>\n",
       "    <tr>\n",
       "      <th>2</th>\n",
       "      <td>1000</td>\n",
       "      <td>52</td>\n",
       "      <td>NaT</td>\n",
       "      <td>Краснодар</td>\n",
       "      <td>Рафаил</td>\n",
       "      <td>Верещагин</td>\n",
       "      <td>2018-05-25</td>\n",
       "      <td>ultra</td>\n",
       "      <td>7.0</td>\n",
       "      <td>47.0</td>\n",
       "      <td>340.0</td>\n",
       "      <td>75.0</td>\n",
       "      <td>14.0</td>\n",
       "    </tr>\n",
       "    <tr>\n",
       "      <th>3</th>\n",
       "      <td>1000</td>\n",
       "      <td>52</td>\n",
       "      <td>NaT</td>\n",
       "      <td>Краснодар</td>\n",
       "      <td>Рафаил</td>\n",
       "      <td>Верещагин</td>\n",
       "      <td>2018-05-25</td>\n",
       "      <td>ultra</td>\n",
       "      <td>8.0</td>\n",
       "      <td>52.0</td>\n",
       "      <td>408.0</td>\n",
       "      <td>81.0</td>\n",
       "      <td>14.0</td>\n",
       "    </tr>\n",
       "    <tr>\n",
       "      <th>4</th>\n",
       "      <td>1000</td>\n",
       "      <td>52</td>\n",
       "      <td>NaT</td>\n",
       "      <td>Краснодар</td>\n",
       "      <td>Рафаил</td>\n",
       "      <td>Верещагин</td>\n",
       "      <td>2018-05-25</td>\n",
       "      <td>ultra</td>\n",
       "      <td>9.0</td>\n",
       "      <td>58.0</td>\n",
       "      <td>466.0</td>\n",
       "      <td>57.0</td>\n",
       "      <td>15.0</td>\n",
       "    </tr>\n",
       "  </tbody>\n",
       "</table>\n",
       "</div>"
      ],
      "text/plain": [
       "   user_id  age churn_date       city first_name  last_name   reg_date tariff  \\\n",
       "0     1000   52        NaT  Краснодар     Рафаил  Верещагин 2018-05-25  ultra   \n",
       "1     1000   52        NaT  Краснодар     Рафаил  Верещагин 2018-05-25  ultra   \n",
       "2     1000   52        NaT  Краснодар     Рафаил  Верещагин 2018-05-25  ultra   \n",
       "3     1000   52        NaT  Краснодар     Рафаил  Верещагин 2018-05-25  ultra   \n",
       "4     1000   52        NaT  Краснодар     Рафаил  Верещагин 2018-05-25  ultra   \n",
       "\n",
       "   month  total_calls  total_duration  total_messages  total_traffic  \n",
       "0    5.0         22.0           159.0            22.0            3.0  \n",
       "1    6.0         43.0           172.0            60.0           23.0  \n",
       "2    7.0         47.0           340.0            75.0           14.0  \n",
       "3    8.0         52.0           408.0            81.0           14.0  \n",
       "4    9.0         58.0           466.0            57.0           15.0  "
      ]
     },
     "execution_count": 37,
     "metadata": {},
     "output_type": "execute_result"
    }
   ],
   "source": [
    "users_df.head(5)"
   ]
  },
  {
   "cell_type": "code",
   "execution_count": 38,
   "metadata": {},
   "outputs": [],
   "source": [
    "users_df = users_df.drop(columns = ['age', 'first_name', 'last_name', 'churn_date', 'reg_date'],axis = 1)"
   ]
  },
  {
   "cell_type": "code",
   "execution_count": 39,
   "metadata": {
    "scrolled": true
   },
   "outputs": [
    {
     "data": {
      "text/html": [
       "<div>\n",
       "<style scoped>\n",
       "    .dataframe tbody tr th:only-of-type {\n",
       "        vertical-align: middle;\n",
       "    }\n",
       "\n",
       "    .dataframe tbody tr th {\n",
       "        vertical-align: top;\n",
       "    }\n",
       "\n",
       "    .dataframe thead th {\n",
       "        text-align: right;\n",
       "    }\n",
       "</style>\n",
       "<table border=\"1\" class=\"dataframe\">\n",
       "  <thead>\n",
       "    <tr style=\"text-align: right;\">\n",
       "      <th></th>\n",
       "      <th>user_id</th>\n",
       "      <th>city</th>\n",
       "      <th>tariff</th>\n",
       "      <th>month</th>\n",
       "      <th>total_calls</th>\n",
       "      <th>total_duration</th>\n",
       "      <th>total_messages</th>\n",
       "      <th>total_traffic_gb</th>\n",
       "      <th>messages_included</th>\n",
       "      <th>mb_per_month_included</th>\n",
       "      <th>minutes_included</th>\n",
       "      <th>rub_monthly_fee</th>\n",
       "      <th>rub_per_gb</th>\n",
       "      <th>rub_per_message</th>\n",
       "      <th>rub_per_minute</th>\n",
       "    </tr>\n",
       "  </thead>\n",
       "  <tbody>\n",
       "    <tr>\n",
       "      <th>0</th>\n",
       "      <td>1000</td>\n",
       "      <td>Краснодар</td>\n",
       "      <td>ultra</td>\n",
       "      <td>5.0</td>\n",
       "      <td>22.0</td>\n",
       "      <td>159.0</td>\n",
       "      <td>22.0</td>\n",
       "      <td>3.0</td>\n",
       "      <td>1000</td>\n",
       "      <td>30720</td>\n",
       "      <td>3000</td>\n",
       "      <td>1950</td>\n",
       "      <td>150</td>\n",
       "      <td>1</td>\n",
       "      <td>1</td>\n",
       "    </tr>\n",
       "    <tr>\n",
       "      <th>1</th>\n",
       "      <td>1000</td>\n",
       "      <td>Краснодар</td>\n",
       "      <td>ultra</td>\n",
       "      <td>6.0</td>\n",
       "      <td>43.0</td>\n",
       "      <td>172.0</td>\n",
       "      <td>60.0</td>\n",
       "      <td>23.0</td>\n",
       "      <td>1000</td>\n",
       "      <td>30720</td>\n",
       "      <td>3000</td>\n",
       "      <td>1950</td>\n",
       "      <td>150</td>\n",
       "      <td>1</td>\n",
       "      <td>1</td>\n",
       "    </tr>\n",
       "    <tr>\n",
       "      <th>2</th>\n",
       "      <td>1000</td>\n",
       "      <td>Краснодар</td>\n",
       "      <td>ultra</td>\n",
       "      <td>7.0</td>\n",
       "      <td>47.0</td>\n",
       "      <td>340.0</td>\n",
       "      <td>75.0</td>\n",
       "      <td>14.0</td>\n",
       "      <td>1000</td>\n",
       "      <td>30720</td>\n",
       "      <td>3000</td>\n",
       "      <td>1950</td>\n",
       "      <td>150</td>\n",
       "      <td>1</td>\n",
       "      <td>1</td>\n",
       "    </tr>\n",
       "    <tr>\n",
       "      <th>3</th>\n",
       "      <td>1000</td>\n",
       "      <td>Краснодар</td>\n",
       "      <td>ultra</td>\n",
       "      <td>8.0</td>\n",
       "      <td>52.0</td>\n",
       "      <td>408.0</td>\n",
       "      <td>81.0</td>\n",
       "      <td>14.0</td>\n",
       "      <td>1000</td>\n",
       "      <td>30720</td>\n",
       "      <td>3000</td>\n",
       "      <td>1950</td>\n",
       "      <td>150</td>\n",
       "      <td>1</td>\n",
       "      <td>1</td>\n",
       "    </tr>\n",
       "    <tr>\n",
       "      <th>4</th>\n",
       "      <td>1000</td>\n",
       "      <td>Краснодар</td>\n",
       "      <td>ultra</td>\n",
       "      <td>9.0</td>\n",
       "      <td>58.0</td>\n",
       "      <td>466.0</td>\n",
       "      <td>57.0</td>\n",
       "      <td>15.0</td>\n",
       "      <td>1000</td>\n",
       "      <td>30720</td>\n",
       "      <td>3000</td>\n",
       "      <td>1950</td>\n",
       "      <td>150</td>\n",
       "      <td>1</td>\n",
       "      <td>1</td>\n",
       "    </tr>\n",
       "  </tbody>\n",
       "</table>\n",
       "</div>"
      ],
      "text/plain": [
       "   user_id       city tariff  month  total_calls  total_duration  \\\n",
       "0     1000  Краснодар  ultra    5.0         22.0           159.0   \n",
       "1     1000  Краснодар  ultra    6.0         43.0           172.0   \n",
       "2     1000  Краснодар  ultra    7.0         47.0           340.0   \n",
       "3     1000  Краснодар  ultra    8.0         52.0           408.0   \n",
       "4     1000  Краснодар  ultra    9.0         58.0           466.0   \n",
       "\n",
       "   total_messages  total_traffic_gb  messages_included  mb_per_month_included  \\\n",
       "0            22.0               3.0               1000                  30720   \n",
       "1            60.0              23.0               1000                  30720   \n",
       "2            75.0              14.0               1000                  30720   \n",
       "3            81.0              14.0               1000                  30720   \n",
       "4            57.0              15.0               1000                  30720   \n",
       "\n",
       "   minutes_included  rub_monthly_fee  rub_per_gb  rub_per_message  \\\n",
       "0              3000             1950         150                1   \n",
       "1              3000             1950         150                1   \n",
       "2              3000             1950         150                1   \n",
       "3              3000             1950         150                1   \n",
       "4              3000             1950         150                1   \n",
       "\n",
       "   rub_per_minute  \n",
       "0               1  \n",
       "1               1  \n",
       "2               1  \n",
       "3               1  \n",
       "4               1  "
      ]
     },
     "execution_count": 39,
     "metadata": {},
     "output_type": "execute_result"
    }
   ],
   "source": [
    "users_df = users_df.merge(tariffs, left_on='tariff', right_on='tariff_name', how='outer') #добавляю данные из таблицы tariffs\n",
    "users_df = users_df.drop(columns = ['tariff_name'],axis = 1) #удаляю второй столбец с названием тарифа\n",
    "users_df = users_df.rename(columns={'total_traffic' : 'total_traffic_gb'}) #переименовываю столбец total_traffic, ведь он теперь в ГБ\n",
    "users_df.head(5)"
   ]
  },
  {
   "cell_type": "markdown",
   "metadata": {},
   "source": [
    "### Калькуляция выручки"
   ]
  },
  {
   "cell_type": "markdown",
   "metadata": {},
   "source": [
    "Посчитаем помесячную выручку с каждого пользователя (вычтем бесплатный лимит из суммарного количества звонков, сообщений и интернет-трафика; остаток умножим на значение из тарифного плана; прибавим абонентскую плату, соответствующую тарифному плану)."
   ]
  },
  {
   "cell_type": "code",
   "execution_count": 40,
   "metadata": {},
   "outputs": [
    {
     "data": {
      "text/html": [
       "<div>\n",
       "<style scoped>\n",
       "    .dataframe tbody tr th:only-of-type {\n",
       "        vertical-align: middle;\n",
       "    }\n",
       "\n",
       "    .dataframe tbody tr th {\n",
       "        vertical-align: top;\n",
       "    }\n",
       "\n",
       "    .dataframe thead th {\n",
       "        text-align: right;\n",
       "    }\n",
       "</style>\n",
       "<table border=\"1\" class=\"dataframe\">\n",
       "  <thead>\n",
       "    <tr style=\"text-align: right;\">\n",
       "      <th></th>\n",
       "      <th>user_id</th>\n",
       "      <th>city</th>\n",
       "      <th>tariff</th>\n",
       "      <th>month</th>\n",
       "      <th>total_calls</th>\n",
       "      <th>total_duration</th>\n",
       "      <th>total_messages</th>\n",
       "      <th>total_traffic_gb</th>\n",
       "      <th>messages_included</th>\n",
       "      <th>mb_per_month_included</th>\n",
       "      <th>minutes_included</th>\n",
       "      <th>rub_monthly_fee</th>\n",
       "      <th>rub_per_gb</th>\n",
       "      <th>rub_per_message</th>\n",
       "      <th>rub_per_minute</th>\n",
       "      <th>profit</th>\n",
       "    </tr>\n",
       "  </thead>\n",
       "  <tbody>\n",
       "    <tr>\n",
       "      <th>0</th>\n",
       "      <td>1000</td>\n",
       "      <td>Краснодар</td>\n",
       "      <td>ultra</td>\n",
       "      <td>5.0</td>\n",
       "      <td>22.0</td>\n",
       "      <td>159.0</td>\n",
       "      <td>22.0</td>\n",
       "      <td>3.0</td>\n",
       "      <td>1000</td>\n",
       "      <td>30720</td>\n",
       "      <td>3000</td>\n",
       "      <td>1950</td>\n",
       "      <td>150</td>\n",
       "      <td>1</td>\n",
       "      <td>1</td>\n",
       "      <td>1950.0</td>\n",
       "    </tr>\n",
       "    <tr>\n",
       "      <th>1</th>\n",
       "      <td>1000</td>\n",
       "      <td>Краснодар</td>\n",
       "      <td>ultra</td>\n",
       "      <td>6.0</td>\n",
       "      <td>43.0</td>\n",
       "      <td>172.0</td>\n",
       "      <td>60.0</td>\n",
       "      <td>23.0</td>\n",
       "      <td>1000</td>\n",
       "      <td>30720</td>\n",
       "      <td>3000</td>\n",
       "      <td>1950</td>\n",
       "      <td>150</td>\n",
       "      <td>1</td>\n",
       "      <td>1</td>\n",
       "      <td>1950.0</td>\n",
       "    </tr>\n",
       "    <tr>\n",
       "      <th>2</th>\n",
       "      <td>1000</td>\n",
       "      <td>Краснодар</td>\n",
       "      <td>ultra</td>\n",
       "      <td>7.0</td>\n",
       "      <td>47.0</td>\n",
       "      <td>340.0</td>\n",
       "      <td>75.0</td>\n",
       "      <td>14.0</td>\n",
       "      <td>1000</td>\n",
       "      <td>30720</td>\n",
       "      <td>3000</td>\n",
       "      <td>1950</td>\n",
       "      <td>150</td>\n",
       "      <td>1</td>\n",
       "      <td>1</td>\n",
       "      <td>1950.0</td>\n",
       "    </tr>\n",
       "    <tr>\n",
       "      <th>3</th>\n",
       "      <td>1000</td>\n",
       "      <td>Краснодар</td>\n",
       "      <td>ultra</td>\n",
       "      <td>8.0</td>\n",
       "      <td>52.0</td>\n",
       "      <td>408.0</td>\n",
       "      <td>81.0</td>\n",
       "      <td>14.0</td>\n",
       "      <td>1000</td>\n",
       "      <td>30720</td>\n",
       "      <td>3000</td>\n",
       "      <td>1950</td>\n",
       "      <td>150</td>\n",
       "      <td>1</td>\n",
       "      <td>1</td>\n",
       "      <td>1950.0</td>\n",
       "    </tr>\n",
       "    <tr>\n",
       "      <th>4</th>\n",
       "      <td>1000</td>\n",
       "      <td>Краснодар</td>\n",
       "      <td>ultra</td>\n",
       "      <td>9.0</td>\n",
       "      <td>58.0</td>\n",
       "      <td>466.0</td>\n",
       "      <td>57.0</td>\n",
       "      <td>15.0</td>\n",
       "      <td>1000</td>\n",
       "      <td>30720</td>\n",
       "      <td>3000</td>\n",
       "      <td>1950</td>\n",
       "      <td>150</td>\n",
       "      <td>1</td>\n",
       "      <td>1</td>\n",
       "      <td>1950.0</td>\n",
       "    </tr>\n",
       "    <tr>\n",
       "      <th>...</th>\n",
       "      <td>...</td>\n",
       "      <td>...</td>\n",
       "      <td>...</td>\n",
       "      <td>...</td>\n",
       "      <td>...</td>\n",
       "      <td>...</td>\n",
       "      <td>...</td>\n",
       "      <td>...</td>\n",
       "      <td>...</td>\n",
       "      <td>...</td>\n",
       "      <td>...</td>\n",
       "      <td>...</td>\n",
       "      <td>...</td>\n",
       "      <td>...</td>\n",
       "      <td>...</td>\n",
       "      <td>...</td>\n",
       "    </tr>\n",
       "    <tr>\n",
       "      <th>3209</th>\n",
       "      <td>1498</td>\n",
       "      <td>Владикавказ</td>\n",
       "      <td>smart</td>\n",
       "      <td>10.0</td>\n",
       "      <td>41.0</td>\n",
       "      <td>247.0</td>\n",
       "      <td>42.0</td>\n",
       "      <td>21.0</td>\n",
       "      <td>50</td>\n",
       "      <td>15360</td>\n",
       "      <td>500</td>\n",
       "      <td>550</td>\n",
       "      <td>200</td>\n",
       "      <td>3</td>\n",
       "      <td>3</td>\n",
       "      <td>1750.0</td>\n",
       "    </tr>\n",
       "    <tr>\n",
       "      <th>3210</th>\n",
       "      <td>1499</td>\n",
       "      <td>Пермь</td>\n",
       "      <td>smart</td>\n",
       "      <td>9.0</td>\n",
       "      <td>9.0</td>\n",
       "      <td>70.0</td>\n",
       "      <td>11.0</td>\n",
       "      <td>2.0</td>\n",
       "      <td>50</td>\n",
       "      <td>15360</td>\n",
       "      <td>500</td>\n",
       "      <td>550</td>\n",
       "      <td>200</td>\n",
       "      <td>3</td>\n",
       "      <td>3</td>\n",
       "      <td>550.0</td>\n",
       "    </tr>\n",
       "    <tr>\n",
       "      <th>3211</th>\n",
       "      <td>1499</td>\n",
       "      <td>Пермь</td>\n",
       "      <td>smart</td>\n",
       "      <td>10.0</td>\n",
       "      <td>68.0</td>\n",
       "      <td>449.0</td>\n",
       "      <td>48.0</td>\n",
       "      <td>18.0</td>\n",
       "      <td>50</td>\n",
       "      <td>15360</td>\n",
       "      <td>500</td>\n",
       "      <td>550</td>\n",
       "      <td>200</td>\n",
       "      <td>3</td>\n",
       "      <td>3</td>\n",
       "      <td>1150.0</td>\n",
       "    </tr>\n",
       "    <tr>\n",
       "      <th>3212</th>\n",
       "      <td>1499</td>\n",
       "      <td>Пермь</td>\n",
       "      <td>smart</td>\n",
       "      <td>11.0</td>\n",
       "      <td>74.0</td>\n",
       "      <td>612.0</td>\n",
       "      <td>59.0</td>\n",
       "      <td>18.0</td>\n",
       "      <td>50</td>\n",
       "      <td>15360</td>\n",
       "      <td>500</td>\n",
       "      <td>550</td>\n",
       "      <td>200</td>\n",
       "      <td>3</td>\n",
       "      <td>3</td>\n",
       "      <td>1513.0</td>\n",
       "    </tr>\n",
       "    <tr>\n",
       "      <th>3213</th>\n",
       "      <td>1499</td>\n",
       "      <td>Пермь</td>\n",
       "      <td>smart</td>\n",
       "      <td>12.0</td>\n",
       "      <td>69.0</td>\n",
       "      <td>492.0</td>\n",
       "      <td>66.0</td>\n",
       "      <td>13.0</td>\n",
       "      <td>50</td>\n",
       "      <td>15360</td>\n",
       "      <td>500</td>\n",
       "      <td>550</td>\n",
       "      <td>200</td>\n",
       "      <td>3</td>\n",
       "      <td>3</td>\n",
       "      <td>598.0</td>\n",
       "    </tr>\n",
       "  </tbody>\n",
       "</table>\n",
       "<p>3214 rows × 16 columns</p>\n",
       "</div>"
      ],
      "text/plain": [
       "      user_id         city tariff  month  total_calls  total_duration  \\\n",
       "0        1000    Краснодар  ultra    5.0         22.0           159.0   \n",
       "1        1000    Краснодар  ultra    6.0         43.0           172.0   \n",
       "2        1000    Краснодар  ultra    7.0         47.0           340.0   \n",
       "3        1000    Краснодар  ultra    8.0         52.0           408.0   \n",
       "4        1000    Краснодар  ultra    9.0         58.0           466.0   \n",
       "...       ...          ...    ...    ...          ...             ...   \n",
       "3209     1498  Владикавказ  smart   10.0         41.0           247.0   \n",
       "3210     1499        Пермь  smart    9.0          9.0            70.0   \n",
       "3211     1499        Пермь  smart   10.0         68.0           449.0   \n",
       "3212     1499        Пермь  smart   11.0         74.0           612.0   \n",
       "3213     1499        Пермь  smart   12.0         69.0           492.0   \n",
       "\n",
       "      total_messages  total_traffic_gb  messages_included  \\\n",
       "0               22.0               3.0               1000   \n",
       "1               60.0              23.0               1000   \n",
       "2               75.0              14.0               1000   \n",
       "3               81.0              14.0               1000   \n",
       "4               57.0              15.0               1000   \n",
       "...              ...               ...                ...   \n",
       "3209            42.0              21.0                 50   \n",
       "3210            11.0               2.0                 50   \n",
       "3211            48.0              18.0                 50   \n",
       "3212            59.0              18.0                 50   \n",
       "3213            66.0              13.0                 50   \n",
       "\n",
       "      mb_per_month_included  minutes_included  rub_monthly_fee  rub_per_gb  \\\n",
       "0                     30720              3000             1950         150   \n",
       "1                     30720              3000             1950         150   \n",
       "2                     30720              3000             1950         150   \n",
       "3                     30720              3000             1950         150   \n",
       "4                     30720              3000             1950         150   \n",
       "...                     ...               ...              ...         ...   \n",
       "3209                  15360               500              550         200   \n",
       "3210                  15360               500              550         200   \n",
       "3211                  15360               500              550         200   \n",
       "3212                  15360               500              550         200   \n",
       "3213                  15360               500              550         200   \n",
       "\n",
       "      rub_per_message  rub_per_minute  profit  \n",
       "0                   1               1  1950.0  \n",
       "1                   1               1  1950.0  \n",
       "2                   1               1  1950.0  \n",
       "3                   1               1  1950.0  \n",
       "4                   1               1  1950.0  \n",
       "...               ...             ...     ...  \n",
       "3209                3               3  1750.0  \n",
       "3210                3               3   550.0  \n",
       "3211                3               3  1150.0  \n",
       "3212                3               3  1513.0  \n",
       "3213                3               3   598.0  \n",
       "\n",
       "[3214 rows x 16 columns]"
      ]
     },
     "execution_count": 40,
     "metadata": {},
     "output_type": "execute_result"
    }
   ],
   "source": [
    "users_df['extra_minutes'] = ((users_df['total_duration'] - users_df['minutes_included']) * users_df['rub_per_minute'])\n",
    "users_df['extra_messages'] = ((users_df['total_messages'] - users_df['messages_included']) * users_df['rub_per_message'])\n",
    "users_df['extra_gb'] = ((users_df['total_traffic_gb'] - (users_df['mb_per_month_included']/1024)) * users_df['rub_per_gb'])\n",
    "users_df['extra_minutes'] = users_df['extra_minutes'].clip(lower = 0)\n",
    "users_df['extra_messages'] = users_df['extra_messages'].clip(lower = 0)\n",
    "users_df['extra_gb'] = users_df['extra_gb'].clip(lower = 0)\n",
    "users_df['profit'] = users_df['extra_minutes'] + users_df['extra_messages'] + users_df['extra_gb'] + users_df['rub_monthly_fee']\n",
    "users_df = users_df.drop(columns = ['extra_minutes', 'extra_messages', 'extra_gb'],axis = 1)\n",
    "users_df"
   ]
  },
  {
   "cell_type": "markdown",
   "metadata": {},
   "source": [
    "Посмотрим, какой тариф приносит больше всего прибыли за год"
   ]
  },
  {
   "cell_type": "code",
   "execution_count": 41,
   "metadata": {},
   "outputs": [
    {
     "data": {
      "text/html": [
       "<div>\n",
       "<style scoped>\n",
       "    .dataframe tbody tr th:only-of-type {\n",
       "        vertical-align: middle;\n",
       "    }\n",
       "\n",
       "    .dataframe tbody tr th {\n",
       "        vertical-align: top;\n",
       "    }\n",
       "\n",
       "    .dataframe thead tr th {\n",
       "        text-align: left;\n",
       "    }\n",
       "\n",
       "    .dataframe thead tr:last-of-type th {\n",
       "        text-align: right;\n",
       "    }\n",
       "</style>\n",
       "<table border=\"1\" class=\"dataframe\">\n",
       "  <thead>\n",
       "    <tr>\n",
       "      <th></th>\n",
       "      <th>sum</th>\n",
       "      <th>count</th>\n",
       "    </tr>\n",
       "    <tr>\n",
       "      <th></th>\n",
       "      <th>profit</th>\n",
       "      <th>profit</th>\n",
       "    </tr>\n",
       "    <tr>\n",
       "      <th>tariff</th>\n",
       "      <th></th>\n",
       "      <th></th>\n",
       "    </tr>\n",
       "  </thead>\n",
       "  <tbody>\n",
       "    <tr>\n",
       "      <th>smart</th>\n",
       "      <td>2875351.0</td>\n",
       "      <td>2229</td>\n",
       "    </tr>\n",
       "    <tr>\n",
       "      <th>ultra</th>\n",
       "      <td>2039100.0</td>\n",
       "      <td>985</td>\n",
       "    </tr>\n",
       "  </tbody>\n",
       "</table>\n",
       "</div>"
      ],
      "text/plain": [
       "              sum  count\n",
       "           profit profit\n",
       "tariff                  \n",
       "smart   2875351.0   2229\n",
       "ultra   2039100.0    985"
      ]
     },
     "execution_count": 41,
     "metadata": {},
     "output_type": "execute_result"
    }
   ],
   "source": [
    "users_df.pivot_table(\n",
    "    index = ['tariff'],\n",
    "    values='profit',\n",
    "    aggfunc=['sum', 'count'])"
   ]
  },
  {
   "cell_type": "markdown",
   "metadata": {},
   "source": [
    "Приходим к выводу, что тариф `smart` за год принес больше прибыли компании чем тариф `ultra`. \n",
    "Видимо в тарифе `ultra` больше тарифных опций, ведь им пользуется и большее колчиство людей. "
   ]
  },
  {
   "cell_type": "markdown",
   "metadata": {},
   "source": [
    "## Анализ данных"
   ]
  },
  {
   "cell_type": "markdown",
   "metadata": {},
   "source": [
    "Проанализируем поведение клиентов разных тарифных планов.  \n",
    "Посмотрим, сколько минут разговора, сколько сообщений и какой объём интернет-трафика требуется пользователям каждого тарифа в месяц?"
   ]
  },
  {
   "cell_type": "markdown",
   "metadata": {},
   "source": [
    "Для начала разделим наш общий датафрейм по тарифам на *smart* и *ultra*"
   ]
  },
  {
   "cell_type": "code",
   "execution_count": 42,
   "metadata": {},
   "outputs": [],
   "source": [
    "smart = users_df.query('tariff == \"smart\"')\n",
    "ultra = users_df.query('tariff == \"ultra\"')"
   ]
  },
  {
   "cell_type": "markdown",
   "metadata": {},
   "source": [
    "### Данные по тарифу *smart*"
   ]
  },
  {
   "cell_type": "markdown",
   "metadata": {},
   "source": [
    "Условия для тарифа \"Смарт\":  \n",
    "- Ежемесячная плата: 550 рублей  \n",
    "- Включено 500 минут разговора, 50 сообщений и 15 Гб интернет-трафика  \n",
    "\n",
    "Стоимость услуг сверх тарифного пакета:\n",
    "- минута разговора: 3 рубля\n",
    "- сообщение: 3 рубля\n",
    "- 1 Гб интернет-трафика: 200 рублей\n",
    "\n",
    "Посмотрим как ведут себя пользователи этого тарифа, и хватает ли им предоставленных минут, сообщений и гигабайт."
   ]
  },
  {
   "cell_type": "code",
   "execution_count": 43,
   "metadata": {},
   "outputs": [
    {
     "data": {
      "text/html": [
       "<div>\n",
       "<style scoped>\n",
       "    .dataframe tbody tr th:only-of-type {\n",
       "        vertical-align: middle;\n",
       "    }\n",
       "\n",
       "    .dataframe tbody tr th {\n",
       "        vertical-align: top;\n",
       "    }\n",
       "\n",
       "    .dataframe thead th {\n",
       "        text-align: right;\n",
       "    }\n",
       "</style>\n",
       "<table border=\"1\" class=\"dataframe\">\n",
       "  <thead>\n",
       "    <tr style=\"text-align: right;\">\n",
       "      <th></th>\n",
       "      <th>user_id</th>\n",
       "      <th>city</th>\n",
       "      <th>tariff</th>\n",
       "      <th>month</th>\n",
       "      <th>total_calls</th>\n",
       "      <th>total_duration</th>\n",
       "      <th>total_messages</th>\n",
       "      <th>total_traffic_gb</th>\n",
       "      <th>messages_included</th>\n",
       "      <th>mb_per_month_included</th>\n",
       "      <th>minutes_included</th>\n",
       "      <th>rub_monthly_fee</th>\n",
       "      <th>rub_per_gb</th>\n",
       "      <th>rub_per_message</th>\n",
       "      <th>rub_per_minute</th>\n",
       "      <th>profit</th>\n",
       "    </tr>\n",
       "  </thead>\n",
       "  <tbody>\n",
       "    <tr>\n",
       "      <th>985</th>\n",
       "      <td>1001</td>\n",
       "      <td>Москва</td>\n",
       "      <td>smart</td>\n",
       "      <td>11.0</td>\n",
       "      <td>59.0</td>\n",
       "      <td>430.0</td>\n",
       "      <td>0.0</td>\n",
       "      <td>18.0</td>\n",
       "      <td>50</td>\n",
       "      <td>15360</td>\n",
       "      <td>500</td>\n",
       "      <td>550</td>\n",
       "      <td>200</td>\n",
       "      <td>3</td>\n",
       "      <td>3</td>\n",
       "      <td>1150.0</td>\n",
       "    </tr>\n",
       "    <tr>\n",
       "      <th>986</th>\n",
       "      <td>1001</td>\n",
       "      <td>Москва</td>\n",
       "      <td>smart</td>\n",
       "      <td>12.0</td>\n",
       "      <td>63.0</td>\n",
       "      <td>414.0</td>\n",
       "      <td>0.0</td>\n",
       "      <td>14.0</td>\n",
       "      <td>50</td>\n",
       "      <td>15360</td>\n",
       "      <td>500</td>\n",
       "      <td>550</td>\n",
       "      <td>200</td>\n",
       "      <td>3</td>\n",
       "      <td>3</td>\n",
       "      <td>550.0</td>\n",
       "    </tr>\n",
       "    <tr>\n",
       "      <th>987</th>\n",
       "      <td>1002</td>\n",
       "      <td>Стерлитамак</td>\n",
       "      <td>smart</td>\n",
       "      <td>6.0</td>\n",
       "      <td>15.0</td>\n",
       "      <td>117.0</td>\n",
       "      <td>4.0</td>\n",
       "      <td>11.0</td>\n",
       "      <td>50</td>\n",
       "      <td>15360</td>\n",
       "      <td>500</td>\n",
       "      <td>550</td>\n",
       "      <td>200</td>\n",
       "      <td>3</td>\n",
       "      <td>3</td>\n",
       "      <td>550.0</td>\n",
       "    </tr>\n",
       "    <tr>\n",
       "      <th>988</th>\n",
       "      <td>1002</td>\n",
       "      <td>Стерлитамак</td>\n",
       "      <td>smart</td>\n",
       "      <td>7.0</td>\n",
       "      <td>26.0</td>\n",
       "      <td>214.0</td>\n",
       "      <td>11.0</td>\n",
       "      <td>18.0</td>\n",
       "      <td>50</td>\n",
       "      <td>15360</td>\n",
       "      <td>500</td>\n",
       "      <td>550</td>\n",
       "      <td>200</td>\n",
       "      <td>3</td>\n",
       "      <td>3</td>\n",
       "      <td>1150.0</td>\n",
       "    </tr>\n",
       "    <tr>\n",
       "      <th>989</th>\n",
       "      <td>1002</td>\n",
       "      <td>Стерлитамак</td>\n",
       "      <td>smart</td>\n",
       "      <td>8.0</td>\n",
       "      <td>42.0</td>\n",
       "      <td>289.0</td>\n",
       "      <td>13.0</td>\n",
       "      <td>20.0</td>\n",
       "      <td>50</td>\n",
       "      <td>15360</td>\n",
       "      <td>500</td>\n",
       "      <td>550</td>\n",
       "      <td>200</td>\n",
       "      <td>3</td>\n",
       "      <td>3</td>\n",
       "      <td>1550.0</td>\n",
       "    </tr>\n",
       "  </tbody>\n",
       "</table>\n",
       "</div>"
      ],
      "text/plain": [
       "     user_id         city tariff  month  total_calls  total_duration  \\\n",
       "985     1001       Москва  smart   11.0         59.0           430.0   \n",
       "986     1001       Москва  smart   12.0         63.0           414.0   \n",
       "987     1002  Стерлитамак  smart    6.0         15.0           117.0   \n",
       "988     1002  Стерлитамак  smart    7.0         26.0           214.0   \n",
       "989     1002  Стерлитамак  smart    8.0         42.0           289.0   \n",
       "\n",
       "     total_messages  total_traffic_gb  messages_included  \\\n",
       "985             0.0              18.0                 50   \n",
       "986             0.0              14.0                 50   \n",
       "987             4.0              11.0                 50   \n",
       "988            11.0              18.0                 50   \n",
       "989            13.0              20.0                 50   \n",
       "\n",
       "     mb_per_month_included  minutes_included  rub_monthly_fee  rub_per_gb  \\\n",
       "985                  15360               500              550         200   \n",
       "986                  15360               500              550         200   \n",
       "987                  15360               500              550         200   \n",
       "988                  15360               500              550         200   \n",
       "989                  15360               500              550         200   \n",
       "\n",
       "     rub_per_message  rub_per_minute  profit  \n",
       "985                3               3  1150.0  \n",
       "986                3               3   550.0  \n",
       "987                3               3   550.0  \n",
       "988                3               3  1150.0  \n",
       "989                3               3  1550.0  "
      ]
     },
     "execution_count": 43,
     "metadata": {},
     "output_type": "execute_result"
    }
   ],
   "source": [
    "smart.head(5)"
   ]
  },
  {
   "cell_type": "code",
   "execution_count": 44,
   "metadata": {},
   "outputs": [
    {
     "data": {
      "text/html": [
       "<div>\n",
       "<style scoped>\n",
       "    .dataframe tbody tr th:only-of-type {\n",
       "        vertical-align: middle;\n",
       "    }\n",
       "\n",
       "    .dataframe tbody tr th {\n",
       "        vertical-align: top;\n",
       "    }\n",
       "\n",
       "    .dataframe thead th {\n",
       "        text-align: right;\n",
       "    }\n",
       "</style>\n",
       "<table border=\"1\" class=\"dataframe\">\n",
       "  <thead>\n",
       "    <tr style=\"text-align: right;\">\n",
       "      <th></th>\n",
       "      <th>user_id</th>\n",
       "      <th>month</th>\n",
       "      <th>total_calls</th>\n",
       "      <th>total_duration</th>\n",
       "      <th>total_messages</th>\n",
       "      <th>total_traffic_gb</th>\n",
       "      <th>messages_included</th>\n",
       "      <th>mb_per_month_included</th>\n",
       "      <th>minutes_included</th>\n",
       "      <th>rub_monthly_fee</th>\n",
       "      <th>rub_per_gb</th>\n",
       "      <th>rub_per_message</th>\n",
       "      <th>rub_per_minute</th>\n",
       "      <th>profit</th>\n",
       "    </tr>\n",
       "  </thead>\n",
       "  <tbody>\n",
       "    <tr>\n",
       "      <th>count</th>\n",
       "      <td>2229.000000</td>\n",
       "      <td>2229.000000</td>\n",
       "      <td>2229.000000</td>\n",
       "      <td>2229.000000</td>\n",
       "      <td>2229.000000</td>\n",
       "      <td>2229.000000</td>\n",
       "      <td>2229.0</td>\n",
       "      <td>2229.0</td>\n",
       "      <td>2229.0</td>\n",
       "      <td>2229.0</td>\n",
       "      <td>2229.0</td>\n",
       "      <td>2229.0</td>\n",
       "      <td>2229.0</td>\n",
       "      <td>2229.000000</td>\n",
       "    </tr>\n",
       "    <tr>\n",
       "      <th>mean</th>\n",
       "      <td>1246.506505</td>\n",
       "      <td>8.346792</td>\n",
       "      <td>58.463437</td>\n",
       "      <td>417.934948</td>\n",
       "      <td>33.384029</td>\n",
       "      <td>16.328847</td>\n",
       "      <td>50.0</td>\n",
       "      <td>15360.0</td>\n",
       "      <td>500.0</td>\n",
       "      <td>550.0</td>\n",
       "      <td>200.0</td>\n",
       "      <td>3.0</td>\n",
       "      <td>3.0</td>\n",
       "      <td>1289.973531</td>\n",
       "    </tr>\n",
       "    <tr>\n",
       "      <th>std</th>\n",
       "      <td>146.119496</td>\n",
       "      <td>2.920316</td>\n",
       "      <td>25.939858</td>\n",
       "      <td>190.313730</td>\n",
       "      <td>28.227876</td>\n",
       "      <td>5.747061</td>\n",
       "      <td>0.0</td>\n",
       "      <td>0.0</td>\n",
       "      <td>0.0</td>\n",
       "      <td>0.0</td>\n",
       "      <td>0.0</td>\n",
       "      <td>0.0</td>\n",
       "      <td>0.0</td>\n",
       "      <td>818.404367</td>\n",
       "    </tr>\n",
       "    <tr>\n",
       "      <th>min</th>\n",
       "      <td>1001.000000</td>\n",
       "      <td>1.000000</td>\n",
       "      <td>0.000000</td>\n",
       "      <td>0.000000</td>\n",
       "      <td>0.000000</td>\n",
       "      <td>0.000000</td>\n",
       "      <td>50.0</td>\n",
       "      <td>15360.0</td>\n",
       "      <td>500.0</td>\n",
       "      <td>550.0</td>\n",
       "      <td>200.0</td>\n",
       "      <td>3.0</td>\n",
       "      <td>3.0</td>\n",
       "      <td>550.000000</td>\n",
       "    </tr>\n",
       "    <tr>\n",
       "      <th>25%</th>\n",
       "      <td>1121.000000</td>\n",
       "      <td>6.000000</td>\n",
       "      <td>40.000000</td>\n",
       "      <td>282.000000</td>\n",
       "      <td>10.000000</td>\n",
       "      <td>13.000000</td>\n",
       "      <td>50.0</td>\n",
       "      <td>15360.0</td>\n",
       "      <td>500.0</td>\n",
       "      <td>550.0</td>\n",
       "      <td>200.0</td>\n",
       "      <td>3.0</td>\n",
       "      <td>3.0</td>\n",
       "      <td>550.000000</td>\n",
       "    </tr>\n",
       "    <tr>\n",
       "      <th>50%</th>\n",
       "      <td>1239.000000</td>\n",
       "      <td>9.000000</td>\n",
       "      <td>60.000000</td>\n",
       "      <td>422.000000</td>\n",
       "      <td>28.000000</td>\n",
       "      <td>17.000000</td>\n",
       "      <td>50.0</td>\n",
       "      <td>15360.0</td>\n",
       "      <td>500.0</td>\n",
       "      <td>550.0</td>\n",
       "      <td>200.0</td>\n",
       "      <td>3.0</td>\n",
       "      <td>3.0</td>\n",
       "      <td>1023.000000</td>\n",
       "    </tr>\n",
       "    <tr>\n",
       "      <th>75%</th>\n",
       "      <td>1376.000000</td>\n",
       "      <td>11.000000</td>\n",
       "      <td>76.000000</td>\n",
       "      <td>545.000000</td>\n",
       "      <td>51.000000</td>\n",
       "      <td>20.000000</td>\n",
       "      <td>50.0</td>\n",
       "      <td>15360.0</td>\n",
       "      <td>500.0</td>\n",
       "      <td>550.0</td>\n",
       "      <td>200.0</td>\n",
       "      <td>3.0</td>\n",
       "      <td>3.0</td>\n",
       "      <td>1750.000000</td>\n",
       "    </tr>\n",
       "    <tr>\n",
       "      <th>max</th>\n",
       "      <td>1499.000000</td>\n",
       "      <td>12.000000</td>\n",
       "      <td>198.000000</td>\n",
       "      <td>1435.000000</td>\n",
       "      <td>143.000000</td>\n",
       "      <td>38.000000</td>\n",
       "      <td>50.0</td>\n",
       "      <td>15360.0</td>\n",
       "      <td>500.0</td>\n",
       "      <td>550.0</td>\n",
       "      <td>200.0</td>\n",
       "      <td>3.0</td>\n",
       "      <td>3.0</td>\n",
       "      <td>6770.000000</td>\n",
       "    </tr>\n",
       "  </tbody>\n",
       "</table>\n",
       "</div>"
      ],
      "text/plain": [
       "           user_id        month  total_calls  total_duration  total_messages  \\\n",
       "count  2229.000000  2229.000000  2229.000000     2229.000000     2229.000000   \n",
       "mean   1246.506505     8.346792    58.463437      417.934948       33.384029   \n",
       "std     146.119496     2.920316    25.939858      190.313730       28.227876   \n",
       "min    1001.000000     1.000000     0.000000        0.000000        0.000000   \n",
       "25%    1121.000000     6.000000    40.000000      282.000000       10.000000   \n",
       "50%    1239.000000     9.000000    60.000000      422.000000       28.000000   \n",
       "75%    1376.000000    11.000000    76.000000      545.000000       51.000000   \n",
       "max    1499.000000    12.000000   198.000000     1435.000000      143.000000   \n",
       "\n",
       "       total_traffic_gb  messages_included  mb_per_month_included  \\\n",
       "count       2229.000000             2229.0                 2229.0   \n",
       "mean          16.328847               50.0                15360.0   \n",
       "std            5.747061                0.0                    0.0   \n",
       "min            0.000000               50.0                15360.0   \n",
       "25%           13.000000               50.0                15360.0   \n",
       "50%           17.000000               50.0                15360.0   \n",
       "75%           20.000000               50.0                15360.0   \n",
       "max           38.000000               50.0                15360.0   \n",
       "\n",
       "       minutes_included  rub_monthly_fee  rub_per_gb  rub_per_message  \\\n",
       "count            2229.0           2229.0      2229.0           2229.0   \n",
       "mean              500.0            550.0       200.0              3.0   \n",
       "std                 0.0              0.0         0.0              0.0   \n",
       "min               500.0            550.0       200.0              3.0   \n",
       "25%               500.0            550.0       200.0              3.0   \n",
       "50%               500.0            550.0       200.0              3.0   \n",
       "75%               500.0            550.0       200.0              3.0   \n",
       "max               500.0            550.0       200.0              3.0   \n",
       "\n",
       "       rub_per_minute       profit  \n",
       "count          2229.0  2229.000000  \n",
       "mean              3.0  1289.973531  \n",
       "std               0.0   818.404367  \n",
       "min               3.0   550.000000  \n",
       "25%               3.0   550.000000  \n",
       "50%               3.0  1023.000000  \n",
       "75%               3.0  1750.000000  \n",
       "max               3.0  6770.000000  "
      ]
     },
     "execution_count": 44,
     "metadata": {},
     "output_type": "execute_result"
    }
   ],
   "source": [
    "smart.describe()"
   ]
  },
  {
   "cell_type": "code",
   "execution_count": 45,
   "metadata": {},
   "outputs": [
    {
     "data": {
      "image/png": "[encoded data removed]",
      "text/plain": [
       "<Figure size 432x288 with 1 Axes>"
      ]
     },
     "metadata": {
      "needs_background": "light"
     },
     "output_type": "display_data"
    }
   ],
   "source": [
    "smart['total_duration'].hist(bins=20);"
   ]
  },
  {
   "cell_type": "code",
   "execution_count": 46,
   "metadata": {},
   "outputs": [
    {
     "data": {
      "image/png": "[encoded data removed]",
      "text/plain": [
       "<Figure size 432x288 with 1 Axes>"
      ]
     },
     "metadata": {
      "needs_background": "light"
     },
     "output_type": "display_data"
    }
   ],
   "source": [
    "smart['total_messages'].hist(bins=40);"
   ]
  },
  {
   "cell_type": "code",
   "execution_count": 47,
   "metadata": {},
   "outputs": [
    {
     "data": {
      "image/png": "[encoded data removed]",
      "text/plain": [
       "<Figure size 432x288 with 1 Axes>"
      ]
     },
     "metadata": {
      "needs_background": "light"
     },
     "output_type": "display_data"
    }
   ],
   "source": [
    "smart['total_traffic_gb'].hist(bins=20);"
   ]
  },
  {
   "cell_type": "markdown",
   "metadata": {},
   "source": [
    "Посмотрим сколько денег компании приносит покупка дополнительных минут, сообщений и гигабайт"
   ]
  },
  {
   "cell_type": "code",
   "execution_count": 48,
   "metadata": {},
   "outputs": [
    {
     "data": {
      "text/plain": [
       "1649401.0"
      ]
     },
     "execution_count": 48,
     "metadata": {},
     "output_type": "execute_result"
    }
   ],
   "source": [
    " smart['profit'].sum() - smart['rub_monthly_fee'].sum()"
   ]
  },
  {
   "cell_type": "markdown",
   "metadata": {},
   "source": [
    "#### Вывод по тарифу *smart*"
   ]
  },
  {
   "cell_type": "markdown",
   "metadata": {},
   "source": [
    "В среднем пользователи тарифа smart обычно укладываютя в доступные в тарифе минуты разгворов, однако нередки и случаи, когда люди разговаривают сверх тарифа, сообщениями люди пользуются мало, поэтому дополнительные платы за сообщения - явление редкое, а вот с интернет-трафиком обратная история. Чаще всего пользователи тарифа Смарт не укладываются в доступные 15гб интернет-трафика и вынуждены покупать дополнительный трафик за большую стоимость. Поэтому больше половина прибыли по тарифу Смарт складывается как раз из покупки дополнительных опций для данного тарифа"
   ]
  },
  {
   "cell_type": "markdown",
   "metadata": {},
   "source": [
    "### Данные по тарфифу *ultra*"
   ]
  },
  {
   "cell_type": "markdown",
   "metadata": {},
   "source": [
    "Условия для тарифа «Ультра»  \n",
    "- Ежемесячная плата: 1950 рублей\n",
    "- Включено 3000 минут разговора, 1000 сообщений и 30 Гб интернет-трафика\n",
    "\n",
    "Стоимость услуг сверх тарифного пакета:\n",
    "- минута разговора: 1 рубль\n",
    "- сообщение: 1 рубль\n",
    "- 1 Гб интернет-трафика: 150 рублей\n",
    "\n",
    "\n",
    "Посмотрим как ведут себя пользователи этого тарифа, и хватает ли им предоставленных минут, сообщений и гигабайт. Ведь как мы выяснили выше, эти пользователи приносят компании больше дохода. "
   ]
  },
  {
   "cell_type": "code",
   "execution_count": 49,
   "metadata": {},
   "outputs": [
    {
     "data": {
      "text/html": [
       "<div>\n",
       "<style scoped>\n",
       "    .dataframe tbody tr th:only-of-type {\n",
       "        vertical-align: middle;\n",
       "    }\n",
       "\n",
       "    .dataframe tbody tr th {\n",
       "        vertical-align: top;\n",
       "    }\n",
       "\n",
       "    .dataframe thead th {\n",
       "        text-align: right;\n",
       "    }\n",
       "</style>\n",
       "<table border=\"1\" class=\"dataframe\">\n",
       "  <thead>\n",
       "    <tr style=\"text-align: right;\">\n",
       "      <th></th>\n",
       "      <th>user_id</th>\n",
       "      <th>city</th>\n",
       "      <th>tariff</th>\n",
       "      <th>month</th>\n",
       "      <th>total_calls</th>\n",
       "      <th>total_duration</th>\n",
       "      <th>total_messages</th>\n",
       "      <th>total_traffic_gb</th>\n",
       "      <th>messages_included</th>\n",
       "      <th>mb_per_month_included</th>\n",
       "      <th>minutes_included</th>\n",
       "      <th>rub_monthly_fee</th>\n",
       "      <th>rub_per_gb</th>\n",
       "      <th>rub_per_message</th>\n",
       "      <th>rub_per_minute</th>\n",
       "      <th>profit</th>\n",
       "    </tr>\n",
       "  </thead>\n",
       "  <tbody>\n",
       "    <tr>\n",
       "      <th>0</th>\n",
       "      <td>1000</td>\n",
       "      <td>Краснодар</td>\n",
       "      <td>ultra</td>\n",
       "      <td>5.0</td>\n",
       "      <td>22.0</td>\n",
       "      <td>159.0</td>\n",
       "      <td>22.0</td>\n",
       "      <td>3.0</td>\n",
       "      <td>1000</td>\n",
       "      <td>30720</td>\n",
       "      <td>3000</td>\n",
       "      <td>1950</td>\n",
       "      <td>150</td>\n",
       "      <td>1</td>\n",
       "      <td>1</td>\n",
       "      <td>1950.0</td>\n",
       "    </tr>\n",
       "    <tr>\n",
       "      <th>1</th>\n",
       "      <td>1000</td>\n",
       "      <td>Краснодар</td>\n",
       "      <td>ultra</td>\n",
       "      <td>6.0</td>\n",
       "      <td>43.0</td>\n",
       "      <td>172.0</td>\n",
       "      <td>60.0</td>\n",
       "      <td>23.0</td>\n",
       "      <td>1000</td>\n",
       "      <td>30720</td>\n",
       "      <td>3000</td>\n",
       "      <td>1950</td>\n",
       "      <td>150</td>\n",
       "      <td>1</td>\n",
       "      <td>1</td>\n",
       "      <td>1950.0</td>\n",
       "    </tr>\n",
       "    <tr>\n",
       "      <th>2</th>\n",
       "      <td>1000</td>\n",
       "      <td>Краснодар</td>\n",
       "      <td>ultra</td>\n",
       "      <td>7.0</td>\n",
       "      <td>47.0</td>\n",
       "      <td>340.0</td>\n",
       "      <td>75.0</td>\n",
       "      <td>14.0</td>\n",
       "      <td>1000</td>\n",
       "      <td>30720</td>\n",
       "      <td>3000</td>\n",
       "      <td>1950</td>\n",
       "      <td>150</td>\n",
       "      <td>1</td>\n",
       "      <td>1</td>\n",
       "      <td>1950.0</td>\n",
       "    </tr>\n",
       "    <tr>\n",
       "      <th>3</th>\n",
       "      <td>1000</td>\n",
       "      <td>Краснодар</td>\n",
       "      <td>ultra</td>\n",
       "      <td>8.0</td>\n",
       "      <td>52.0</td>\n",
       "      <td>408.0</td>\n",
       "      <td>81.0</td>\n",
       "      <td>14.0</td>\n",
       "      <td>1000</td>\n",
       "      <td>30720</td>\n",
       "      <td>3000</td>\n",
       "      <td>1950</td>\n",
       "      <td>150</td>\n",
       "      <td>1</td>\n",
       "      <td>1</td>\n",
       "      <td>1950.0</td>\n",
       "    </tr>\n",
       "    <tr>\n",
       "      <th>4</th>\n",
       "      <td>1000</td>\n",
       "      <td>Краснодар</td>\n",
       "      <td>ultra</td>\n",
       "      <td>9.0</td>\n",
       "      <td>58.0</td>\n",
       "      <td>466.0</td>\n",
       "      <td>57.0</td>\n",
       "      <td>15.0</td>\n",
       "      <td>1000</td>\n",
       "      <td>30720</td>\n",
       "      <td>3000</td>\n",
       "      <td>1950</td>\n",
       "      <td>150</td>\n",
       "      <td>1</td>\n",
       "      <td>1</td>\n",
       "      <td>1950.0</td>\n",
       "    </tr>\n",
       "  </tbody>\n",
       "</table>\n",
       "</div>"
      ],
      "text/plain": [
       "   user_id       city tariff  month  total_calls  total_duration  \\\n",
       "0     1000  Краснодар  ultra    5.0         22.0           159.0   \n",
       "1     1000  Краснодар  ultra    6.0         43.0           172.0   \n",
       "2     1000  Краснодар  ultra    7.0         47.0           340.0   \n",
       "3     1000  Краснодар  ultra    8.0         52.0           408.0   \n",
       "4     1000  Краснодар  ultra    9.0         58.0           466.0   \n",
       "\n",
       "   total_messages  total_traffic_gb  messages_included  mb_per_month_included  \\\n",
       "0            22.0               3.0               1000                  30720   \n",
       "1            60.0              23.0               1000                  30720   \n",
       "2            75.0              14.0               1000                  30720   \n",
       "3            81.0              14.0               1000                  30720   \n",
       "4            57.0              15.0               1000                  30720   \n",
       "\n",
       "   minutes_included  rub_monthly_fee  rub_per_gb  rub_per_message  \\\n",
       "0              3000             1950         150                1   \n",
       "1              3000             1950         150                1   \n",
       "2              3000             1950         150                1   \n",
       "3              3000             1950         150                1   \n",
       "4              3000             1950         150                1   \n",
       "\n",
       "   rub_per_minute  profit  \n",
       "0               1  1950.0  \n",
       "1               1  1950.0  \n",
       "2               1  1950.0  \n",
       "3               1  1950.0  \n",
       "4               1  1950.0  "
      ]
     },
     "execution_count": 49,
     "metadata": {},
     "output_type": "execute_result"
    }
   ],
   "source": [
    "ultra.head(5)"
   ]
  },
  {
   "cell_type": "code",
   "execution_count": 50,
   "metadata": {},
   "outputs": [
    {
     "data": {
      "text/html": [
       "<div>\n",
       "<style scoped>\n",
       "    .dataframe tbody tr th:only-of-type {\n",
       "        vertical-align: middle;\n",
       "    }\n",
       "\n",
       "    .dataframe tbody tr th {\n",
       "        vertical-align: top;\n",
       "    }\n",
       "\n",
       "    .dataframe thead th {\n",
       "        text-align: right;\n",
       "    }\n",
       "</style>\n",
       "<table border=\"1\" class=\"dataframe\">\n",
       "  <thead>\n",
       "    <tr style=\"text-align: right;\">\n",
       "      <th></th>\n",
       "      <th>user_id</th>\n",
       "      <th>month</th>\n",
       "      <th>total_calls</th>\n",
       "      <th>total_duration</th>\n",
       "      <th>total_messages</th>\n",
       "      <th>total_traffic_gb</th>\n",
       "      <th>messages_included</th>\n",
       "      <th>mb_per_month_included</th>\n",
       "      <th>minutes_included</th>\n",
       "      <th>rub_monthly_fee</th>\n",
       "      <th>rub_per_gb</th>\n",
       "      <th>rub_per_message</th>\n",
       "      <th>rub_per_minute</th>\n",
       "      <th>profit</th>\n",
       "    </tr>\n",
       "  </thead>\n",
       "  <tbody>\n",
       "    <tr>\n",
       "      <th>count</th>\n",
       "      <td>985.000000</td>\n",
       "      <td>985.000000</td>\n",
       "      <td>985.000000</td>\n",
       "      <td>985.000000</td>\n",
       "      <td>985.000000</td>\n",
       "      <td>985.000000</td>\n",
       "      <td>985.0</td>\n",
       "      <td>985.0</td>\n",
       "      <td>985.0</td>\n",
       "      <td>985.0</td>\n",
       "      <td>985.0</td>\n",
       "      <td>985.0</td>\n",
       "      <td>985.0</td>\n",
       "      <td>985.000000</td>\n",
       "    </tr>\n",
       "    <tr>\n",
       "      <th>mean</th>\n",
       "      <td>1263.094416</td>\n",
       "      <td>8.250761</td>\n",
       "      <td>73.392893</td>\n",
       "      <td>526.623350</td>\n",
       "      <td>49.363452</td>\n",
       "      <td>19.494416</td>\n",
       "      <td>1000.0</td>\n",
       "      <td>30720.0</td>\n",
       "      <td>3000.0</td>\n",
       "      <td>1950.0</td>\n",
       "      <td>150.0</td>\n",
       "      <td>1.0</td>\n",
       "      <td>1.0</td>\n",
       "      <td>2070.152284</td>\n",
       "    </tr>\n",
       "    <tr>\n",
       "      <th>std</th>\n",
       "      <td>140.694908</td>\n",
       "      <td>2.871762</td>\n",
       "      <td>43.916853</td>\n",
       "      <td>317.606098</td>\n",
       "      <td>47.804457</td>\n",
       "      <td>9.853511</td>\n",
       "      <td>0.0</td>\n",
       "      <td>0.0</td>\n",
       "      <td>0.0</td>\n",
       "      <td>0.0</td>\n",
       "      <td>0.0</td>\n",
       "      <td>0.0</td>\n",
       "      <td>0.0</td>\n",
       "      <td>376.187114</td>\n",
       "    </tr>\n",
       "    <tr>\n",
       "      <th>min</th>\n",
       "      <td>1000.000000</td>\n",
       "      <td>1.000000</td>\n",
       "      <td>0.000000</td>\n",
       "      <td>0.000000</td>\n",
       "      <td>0.000000</td>\n",
       "      <td>0.000000</td>\n",
       "      <td>1000.0</td>\n",
       "      <td>30720.0</td>\n",
       "      <td>3000.0</td>\n",
       "      <td>1950.0</td>\n",
       "      <td>150.0</td>\n",
       "      <td>1.0</td>\n",
       "      <td>1.0</td>\n",
       "      <td>1950.000000</td>\n",
       "    </tr>\n",
       "    <tr>\n",
       "      <th>25%</th>\n",
       "      <td>1143.000000</td>\n",
       "      <td>6.000000</td>\n",
       "      <td>41.000000</td>\n",
       "      <td>284.000000</td>\n",
       "      <td>6.000000</td>\n",
       "      <td>12.000000</td>\n",
       "      <td>1000.0</td>\n",
       "      <td>30720.0</td>\n",
       "      <td>3000.0</td>\n",
       "      <td>1950.0</td>\n",
       "      <td>150.0</td>\n",
       "      <td>1.0</td>\n",
       "      <td>1.0</td>\n",
       "      <td>1950.000000</td>\n",
       "    </tr>\n",
       "    <tr>\n",
       "      <th>50%</th>\n",
       "      <td>1277.000000</td>\n",
       "      <td>9.000000</td>\n",
       "      <td>74.000000</td>\n",
       "      <td>518.000000</td>\n",
       "      <td>38.000000</td>\n",
       "      <td>19.000000</td>\n",
       "      <td>1000.0</td>\n",
       "      <td>30720.0</td>\n",
       "      <td>3000.0</td>\n",
       "      <td>1950.0</td>\n",
       "      <td>150.0</td>\n",
       "      <td>1.0</td>\n",
       "      <td>1.0</td>\n",
       "      <td>1950.000000</td>\n",
       "    </tr>\n",
       "    <tr>\n",
       "      <th>75%</th>\n",
       "      <td>1381.000000</td>\n",
       "      <td>11.000000</td>\n",
       "      <td>104.000000</td>\n",
       "      <td>752.000000</td>\n",
       "      <td>79.000000</td>\n",
       "      <td>27.000000</td>\n",
       "      <td>1000.0</td>\n",
       "      <td>30720.0</td>\n",
       "      <td>3000.0</td>\n",
       "      <td>1950.0</td>\n",
       "      <td>150.0</td>\n",
       "      <td>1.0</td>\n",
       "      <td>1.0</td>\n",
       "      <td>1950.000000</td>\n",
       "    </tr>\n",
       "    <tr>\n",
       "      <th>max</th>\n",
       "      <td>1495.000000</td>\n",
       "      <td>12.000000</td>\n",
       "      <td>244.000000</td>\n",
       "      <td>1673.000000</td>\n",
       "      <td>224.000000</td>\n",
       "      <td>49.000000</td>\n",
       "      <td>1000.0</td>\n",
       "      <td>30720.0</td>\n",
       "      <td>3000.0</td>\n",
       "      <td>1950.0</td>\n",
       "      <td>150.0</td>\n",
       "      <td>1.0</td>\n",
       "      <td>1.0</td>\n",
       "      <td>4800.000000</td>\n",
       "    </tr>\n",
       "  </tbody>\n",
       "</table>\n",
       "</div>"
      ],
      "text/plain": [
       "           user_id       month  total_calls  total_duration  total_messages  \\\n",
       "count   985.000000  985.000000   985.000000      985.000000      985.000000   \n",
       "mean   1263.094416    8.250761    73.392893      526.623350       49.363452   \n",
       "std     140.694908    2.871762    43.916853      317.606098       47.804457   \n",
       "min    1000.000000    1.000000     0.000000        0.000000        0.000000   \n",
       "25%    1143.000000    6.000000    41.000000      284.000000        6.000000   \n",
       "50%    1277.000000    9.000000    74.000000      518.000000       38.000000   \n",
       "75%    1381.000000   11.000000   104.000000      752.000000       79.000000   \n",
       "max    1495.000000   12.000000   244.000000     1673.000000      224.000000   \n",
       "\n",
       "       total_traffic_gb  messages_included  mb_per_month_included  \\\n",
       "count        985.000000              985.0                  985.0   \n",
       "mean          19.494416             1000.0                30720.0   \n",
       "std            9.853511                0.0                    0.0   \n",
       "min            0.000000             1000.0                30720.0   \n",
       "25%           12.000000             1000.0                30720.0   \n",
       "50%           19.000000             1000.0                30720.0   \n",
       "75%           27.000000             1000.0                30720.0   \n",
       "max           49.000000             1000.0                30720.0   \n",
       "\n",
       "       minutes_included  rub_monthly_fee  rub_per_gb  rub_per_message  \\\n",
       "count             985.0            985.0       985.0            985.0   \n",
       "mean             3000.0           1950.0       150.0              1.0   \n",
       "std                 0.0              0.0         0.0              0.0   \n",
       "min              3000.0           1950.0       150.0              1.0   \n",
       "25%              3000.0           1950.0       150.0              1.0   \n",
       "50%              3000.0           1950.0       150.0              1.0   \n",
       "75%              3000.0           1950.0       150.0              1.0   \n",
       "max              3000.0           1950.0       150.0              1.0   \n",
       "\n",
       "       rub_per_minute       profit  \n",
       "count           985.0   985.000000  \n",
       "mean              1.0  2070.152284  \n",
       "std               0.0   376.187114  \n",
       "min               1.0  1950.000000  \n",
       "25%               1.0  1950.000000  \n",
       "50%               1.0  1950.000000  \n",
       "75%               1.0  1950.000000  \n",
       "max               1.0  4800.000000  "
      ]
     },
     "execution_count": 50,
     "metadata": {},
     "output_type": "execute_result"
    }
   ],
   "source": [
    "ultra.describe()"
   ]
  },
  {
   "cell_type": "code",
   "execution_count": 51,
   "metadata": {},
   "outputs": [
    {
     "data": {
      "image/png": "[encoded data removed]",
      "text/plain": [
       "<Figure size 432x288 with 1 Axes>"
      ]
     },
     "metadata": {
      "needs_background": "light"
     },
     "output_type": "display_data"
    }
   ],
   "source": [
    "smart['total_duration'].hist(bins=20);"
   ]
  },
  {
   "cell_type": "code",
   "execution_count": 52,
   "metadata": {},
   "outputs": [
    {
     "data": {
      "image/png": "[encoded data removed]",
      "text/plain": [
       "<Figure size 432x288 with 1 Axes>"
      ]
     },
     "metadata": {
      "needs_background": "light"
     },
     "output_type": "display_data"
    }
   ],
   "source": [
    "ultra['total_messages'].hist(bins=40);"
   ]
  },
  {
   "cell_type": "code",
   "execution_count": 53,
   "metadata": {},
   "outputs": [
    {
     "data": {
      "image/png": "[encoded data removed]",
      "text/plain": [
       "<Figure size 432x288 with 1 Axes>"
      ]
     },
     "metadata": {
      "needs_background": "light"
     },
     "output_type": "display_data"
    }
   ],
   "source": [
    "ultra['total_traffic_gb'].hist(bins=30);"
   ]
  },
  {
   "cell_type": "markdown",
   "metadata": {},
   "source": [
    "Посмотрим сколько денег компании приносит покупка дополнительных минут, сообщений и гигабайт"
   ]
  },
  {
   "cell_type": "code",
   "execution_count": 54,
   "metadata": {},
   "outputs": [
    {
     "data": {
      "text/plain": [
       "118350.0"
      ]
     },
     "execution_count": 54,
     "metadata": {},
     "output_type": "execute_result"
    }
   ],
   "source": [
    "ultra['profit'].sum() - ultra['rub_monthly_fee'].sum()"
   ]
  },
  {
   "cell_type": "markdown",
   "metadata": {},
   "source": [
    "#### Вывод по тарифу *ultra*"
   ]
  },
  {
   "cell_type": "markdown",
   "metadata": {},
   "source": [
    "В тарифе Ультра картина отличается от пользователей тарифа Смарт.  \n",
    "Пользователям всегда хватает минут разговора, очень редко требуются дополнительные смс-сообщения, и 30 гб интернет-трафика хватает практически всегда, дополнительные гигабайты покупают редко.  \n",
    "Прибыли по дополнительным минутам, сообщениям и гигабайтам очень мала, в сравнении с тарифом Смарт"
   ]
  },
  {
   "cell_type": "markdown",
   "metadata": {},
   "source": [
    "### Сравнительный анализ двух тарифов "
   ]
  },
  {
   "cell_type": "markdown",
   "metadata": {},
   "source": [
    "Посчитаем дисперсию и стандартное отклонение для ключевых распределений в тарифах"
   ]
  },
  {
   "cell_type": "code",
   "execution_count": 55,
   "metadata": {},
   "outputs": [
    {
     "data": {
      "text/html": [
       "<div>\n",
       "<style scoped>\n",
       "    .dataframe tbody tr th:only-of-type {\n",
       "        vertical-align: middle;\n",
       "    }\n",
       "\n",
       "    .dataframe tbody tr th {\n",
       "        vertical-align: top;\n",
       "    }\n",
       "\n",
       "    .dataframe thead tr th {\n",
       "        text-align: left;\n",
       "    }\n",
       "\n",
       "    .dataframe thead tr:last-of-type th {\n",
       "        text-align: right;\n",
       "    }\n",
       "</style>\n",
       "<table border=\"1\" class=\"dataframe\">\n",
       "  <thead>\n",
       "    <tr>\n",
       "      <th></th>\n",
       "      <th colspan=\"4\" halign=\"left\">var</th>\n",
       "      <th colspan=\"4\" halign=\"left\">std</th>\n",
       "    </tr>\n",
       "    <tr>\n",
       "      <th></th>\n",
       "      <th>profit</th>\n",
       "      <th>total_duration</th>\n",
       "      <th>total_messages</th>\n",
       "      <th>total_traffic_gb</th>\n",
       "      <th>profit</th>\n",
       "      <th>total_duration</th>\n",
       "      <th>total_messages</th>\n",
       "      <th>total_traffic_gb</th>\n",
       "    </tr>\n",
       "    <tr>\n",
       "      <th>tariff</th>\n",
       "      <th></th>\n",
       "      <th></th>\n",
       "      <th></th>\n",
       "      <th></th>\n",
       "      <th></th>\n",
       "      <th></th>\n",
       "      <th></th>\n",
       "      <th></th>\n",
       "    </tr>\n",
       "  </thead>\n",
       "  <tbody>\n",
       "    <tr>\n",
       "      <th>smart</th>\n",
       "      <td>669785.7</td>\n",
       "      <td>36219.3</td>\n",
       "      <td>796.8</td>\n",
       "      <td>33.0</td>\n",
       "      <td>818.4</td>\n",
       "      <td>190.3</td>\n",
       "      <td>28.2</td>\n",
       "      <td>5.7</td>\n",
       "    </tr>\n",
       "    <tr>\n",
       "      <th>ultra</th>\n",
       "      <td>141516.7</td>\n",
       "      <td>100873.6</td>\n",
       "      <td>2285.3</td>\n",
       "      <td>97.1</td>\n",
       "      <td>376.2</td>\n",
       "      <td>317.6</td>\n",
       "      <td>47.8</td>\n",
       "      <td>9.9</td>\n",
       "    </tr>\n",
       "  </tbody>\n",
       "</table>\n",
       "</div>"
      ],
      "text/plain": [
       "             var                                                   std  \\\n",
       "          profit total_duration total_messages total_traffic_gb profit   \n",
       "tariff                                                                   \n",
       "smart   669785.7        36219.3          796.8             33.0  818.4   \n",
       "ultra   141516.7       100873.6         2285.3             97.1  376.2   \n",
       "\n",
       "                                                       \n",
       "       total_duration total_messages total_traffic_gb  \n",
       "tariff                                                 \n",
       "smart           190.3           28.2              5.7  \n",
       "ultra           317.6           47.8              9.9  "
      ]
     },
     "execution_count": 55,
     "metadata": {},
     "output_type": "execute_result"
    }
   ],
   "source": [
    "users_df.pivot_table(index=['tariff'],\n",
    "                    values=['total_duration', 'total_messages', 'total_traffic_gb', 'profit'],\n",
    "                    aggfunc=[np.var, np.std]).round(1)"
   ]
  },
  {
   "cell_type": "markdown",
   "metadata": {},
   "source": [
    "Посмотрим на ключевые средние значения двух тарифов - звонки, смс, гигабайты и прибыль - помесячно."
   ]
  },
  {
   "cell_type": "code",
   "execution_count": 56,
   "metadata": {},
   "outputs": [
    {
     "data": {
      "image/png": "[encoded data removed]",
      "text/plain": [
       "<Figure size 425x360 with 1 Axes>"
      ]
     },
     "metadata": {
      "needs_background": "light"
     },
     "output_type": "display_data"
    }
   ],
   "source": [
    "sns.catplot(data=users_df, kind=\"bar\",\n",
    "        x=\"month\", y=\"total_duration\",\n",
    "        hue=\"tariff\",\n",
    "        palette=sns.color_palette(['skyblue', 'red']))\n",
    "plt.title('Распределение длительности разговоров по месяцам', fontsize=15)\n",
    "plt.xlabel('Месяц', fontsize=12)\n",
    "plt.ylabel('Минуты', fontsize=12);\n",
    "\n",
    "plt.show()"
   ]
  },
  {
   "cell_type": "code",
   "execution_count": 57,
   "metadata": {},
   "outputs": [
    {
     "data": {
      "image/png": "[encoded data removed]",
      "text/plain": [
       "<Figure size 425x360 with 1 Axes>"
      ]
     },
     "metadata": {
      "needs_background": "light"
     },
     "output_type": "display_data"
    }
   ],
   "source": [
    "sns.catplot(data=users_df, kind=\"bar\",\n",
    "        x=\"month\", y=\"total_messages\",\n",
    "        hue=\"tariff\",\n",
    "        palette=sns.color_palette(['skyblue', 'red']))\n",
    "plt.title('Распределение количества сообщений по месяцам', fontsize=15)\n",
    "plt.xlabel('Месяц', fontsize=12)\n",
    "plt.ylabel('сообщения', fontsize=12);\n",
    "\n",
    "plt.show()"
   ]
  },
  {
   "cell_type": "code",
   "execution_count": 58,
   "metadata": {},
   "outputs": [
    {
     "data": {
      "image/png": "[encoded data removed]",
      "text/plain": [
       "<Figure size 425x360 with 1 Axes>"
      ]
     },
     "metadata": {
      "needs_background": "light"
     },
     "output_type": "display_data"
    }
   ],
   "source": [
    "sns.catplot(data=users_df, kind=\"bar\",\n",
    "        x=\"month\", y=\"total_traffic_gb\",\n",
    "        hue=\"tariff\",\n",
    "        palette=sns.color_palette(['skyblue', 'red']))\n",
    "plt.title('Распределение траффика по месяцам', fontsize=15)\n",
    "plt.xlabel('Месяц', fontsize=12)\n",
    "plt.ylabel('Гигабайты', fontsize=12);\n",
    "\n",
    "plt.show()"
   ]
  },
  {
   "cell_type": "code",
   "execution_count": 59,
   "metadata": {},
   "outputs": [
    {
     "data": {
      "image/png": "[encoded data removed]",
      "text/plain": [
       "<Figure size 425x360 with 1 Axes>"
      ]
     },
     "metadata": {
      "needs_background": "light"
     },
     "output_type": "display_data"
    }
   ],
   "source": [
    "sns.catplot(data=users_df, kind=\"bar\",\n",
    "        x=\"month\", y=\"profit\",\n",
    "        hue=\"tariff\",\n",
    "        palette=sns.color_palette(['skyblue', 'red']))\n",
    "plt.title('Распределение прибыли по месяцам', fontsize=15)\n",
    "plt.xlabel('Месяц', fontsize=12)\n",
    "plt.ylabel('Прибыль', fontsize=12);\n",
    "\n",
    "plt.show()"
   ]
  },
  {
   "cell_type": "markdown",
   "metadata": {},
   "source": [
    "### Промежуточный вывод по анализу двух тарифов"
   ]
  },
  {
   "cell_type": "markdown",
   "metadata": {},
   "source": [
    "Изучив данные по двум тарифам, можно сделать следующие выводы:\n",
    "\n",
    "У двух тарифов разные показатели по использованию:\n",
    "- В тарифе Смарт больше покупают дополнительных минут и гигабайтов\n",
    "- В тарифе Ультра пользоватям зачастую хватает включенных в тариф минут, смс, и гигабайтов\n",
    "- Пользователи тарифа Ультра меньше всего пользуются связью в феврале, Смарта - в январе.\n",
    "- Средняя доходность от тарифа Ультра практически весь год одниковая, а в тарифе Смарт доход растет от января к декабрю."
   ]
  },
  {
   "cell_type": "markdown",
   "metadata": {},
   "source": [
    "## Проверка гипотез"
   ]
  },
  {
   "cell_type": "markdown",
   "metadata": {},
   "source": [
    "### Гипотеза 1. Средняя выручка пользователей тарифов «Ультра» и «Смарт» различаются"
   ]
  },
  {
   "cell_type": "markdown",
   "metadata": {},
   "source": [
    "Проверим первую гипотезу.  \n",
    "Проведем t-test, и обозначим следующие вводные данные:  \n",
    "Нулевая гипотеза - средняя выручка пользователей Ультра и Смарт равна  \n",
    "Альтернативная гипотеза - средняя выручка пользователей Утра и Смарт отличается   \n",
    "Критический уровень статистической значимости зададим значением 0.05.  "
   ]
  },
  {
   "cell_type": "code",
   "execution_count": 60,
   "metadata": {},
   "outputs": [
    {
     "name": "stdout",
     "output_type": "stream",
     "text": [
      "p-значение: 1.4229814360764067e-160\n",
      "Отвергаем нулевую гипотезу\n"
     ]
    }
   ],
   "source": [
    "alpha = 0.05 \n",
    "\n",
    "results = st.ttest_ind(smart['profit'], ultra['profit'])\n",
    "print('p-значение:', results.pvalue)\n",
    "\n",
    "if results.pvalue < alpha:\n",
    "    print(\"Отвергаем нулевую гипотезу\")\n",
    "else:\n",
    "    print(\"Не получилось отвергнуть нулевую гипотезу\")"
   ]
  },
  {
   "cell_type": "markdown",
   "metadata": {},
   "source": [
    "Получается, что отвергая нулевую гипотезу мы можем сделать вывод, что средняя выручка пользователей тарифов \"Ультра\" и \"Смарт\" различается.  \n",
    "Это также подтверждается нашими промежуточными выводами, сделанными выше, по табличным данным. "
   ]
  },
  {
   "cell_type": "markdown",
   "metadata": {},
   "source": [
    "### Гипотеза 2. Средняя выручка пользователей из Москвы отличается от выручки пользователей из других регионов."
   ]
  },
  {
   "cell_type": "markdown",
   "metadata": {},
   "source": [
    "Проверим вторую гипотезу. \n",
    "Проведем t-test, и обозначим следующие вводные данные:  \n",
    "Нулевая гипотеза - средняя выручка пользователей из Москвы и других регионов не отличается  \n",
    "Альтернативная гипотеза - средняя выручка пользователей из Москвы и других регионов отличается     \n",
    "Критический уровень статистической значимости зададим значением 0.05.  "
   ]
  },
  {
   "cell_type": "code",
   "execution_count": 61,
   "metadata": {},
   "outputs": [
    {
     "name": "stdout",
     "output_type": "stream",
     "text": [
      "p-значение: 0.5440152911670224\n",
      "Не получилось отвергнуть нулевую гипотезу\n"
     ]
    }
   ],
   "source": [
    "### Сделаем срезы из нашего общего датафрейма user_df для возможности проверки гипотез\n",
    "users_in_moscow = users_df.query('city == \"Москва\"')\n",
    "other_users = users_df.query('city != \"Москва\"')\n",
    "\n",
    "alpha = 0.05 \n",
    "\n",
    "results = st.ttest_ind(users_in_moscow['profit'], other_users['profit'])\n",
    "print('p-значение:', results.pvalue)\n",
    "\n",
    "if results.pvalue < alpha:\n",
    "    print(\"Отвергаем нулевую гипотезу\")\n",
    "else:\n",
    "    print(\"Не получилось отвергнуть нулевую гипотезу\")"
   ]
  },
  {
   "cell_type": "markdown",
   "metadata": {},
   "source": [
    "P-value равно 0.54, значит наша нулевая гипотеза не отвергается, что говорит о том, что средняя выручка от пользователей в Москве не отличчается от средней выручки от пользователей из всех остальных регионов страны. "
   ]
  },
  {
   "cell_type": "markdown",
   "metadata": {},
   "source": [
    "## Вывод исследования"
   ]
  },
  {
   "cell_type": "markdown",
   "metadata": {},
   "source": [
    "Пользователи предпочитают тариф Смарт, поскольку у него низкая абонентская плата, но в большистве случаях доступных лимитов им не хватает и они покупают дополнительные минуты, сообщения и гигобайты.  \n",
    "\n",
    "У тарифа Ультра гораздо меньше пользователей, выше абонентская плата, но пользователям, видимо, кажется, что такое количство минут и гигабайтов им не понадобится, поэтому предпочитают тариф с меньшей абонентской платой.  \n",
    "\n",
    "Клиенты Мегалайна, пользующиеся тарифом Смарт приносят большую часть прибыли за счет покупки дополнительных минут и гигабайтов.  \n",
    "\n",
    "За 2018 год доля выручки компании от покупки дополнительных минут и гигабайтов тарифа Смарт составила порядка 33%.  \n",
    "\n",
    "Сравнительные графики по поведению пользователей в разных тарифах представлены ниже:"
   ]
  },
  {
   "cell_type": "code",
   "execution_count": 62,
   "metadata": {},
   "outputs": [
    {
     "data": {
      "text/plain": [
       "0.33562263618052146"
      ]
     },
     "execution_count": 62,
     "metadata": {},
     "output_type": "execute_result"
    }
   ],
   "source": [
    "(smart['profit'].sum() - smart['rub_monthly_fee'].sum())/users_df['profit'].sum()"
   ]
  },
  {
   "cell_type": "code",
   "execution_count": 63,
   "metadata": {},
   "outputs": [
    {
     "data": {
      "image/png": "[encoded data removed]",
      "text/plain": [
       "<Figure size 1080x576 with 1 Axes>"
      ]
     },
     "metadata": {
      "needs_background": "light"
     },
     "output_type": "display_data"
    }
   ],
   "source": [
    "fig = plt.figure(figsize=(15, 8))\n",
    "fig = sns.histplot(ultra.total_duration, color=\"skyblue\", label=\"Тариф Ультра\", kde=True)\n",
    "fig = sns.histplot(smart.total_duration, color=\"red\", label=\"Тариф Смарт\", kde=True)\n",
    "\n",
    "fig.figure.suptitle(\"Общая длительность звонков по количеству пользователей\", fontsize = 14)\n",
    "plt.xlabel('Месячная длительность разговора', fontsize=12)\n",
    "plt.ylabel('Количество пользователей', fontsize=12)\n",
    "plt.legend()\n",
    "plt.show()"
   ]
  },
  {
   "cell_type": "code",
   "execution_count": 64,
   "metadata": {},
   "outputs": [
    {
     "data": {
      "image/png": "[encoded data removed]",
      "text/plain": [
       "<Figure size 1080x576 with 1 Axes>"
      ]
     },
     "metadata": {
      "needs_background": "light"
     },
     "output_type": "display_data"
    }
   ],
   "source": [
    "fig = plt.figure(figsize=(15, 8))\n",
    "fig = sns.histplot(ultra.total_messages, color=\"skyblue\", label=\"Тариф Ультра\", kde=True)\n",
    "fig = sns.histplot(smart.total_messages, color=\"red\", label=\"Тариф Смарт\", kde=True)\n",
    "\n",
    "fig.figure.suptitle(\"Общее количетсво смс по количеству пользователей\", fontsize = 14)\n",
    "plt.xlabel('Количество смс в месяц', fontsize=12)\n",
    "plt.ylabel('Количество пользователей', fontsize=12)\n",
    "plt.legend()\n",
    "plt.show()"
   ]
  },
  {
   "cell_type": "code",
   "execution_count": 65,
   "metadata": {},
   "outputs": [
    {
     "data": {
      "image/png": "[encoded data removed]",
      "text/plain": [
       "<Figure size 1080x576 with 1 Axes>"
      ]
     },
     "metadata": {
      "needs_background": "light"
     },
     "output_type": "display_data"
    }
   ],
   "source": [
    "fig = plt.figure(figsize=(15, 8))\n",
    "fig = sns.histplot(ultra.total_traffic_gb, color=\"skyblue\", label=\"Тариф Ультра\", kde=True)\n",
    "fig = sns.histplot(smart.total_traffic_gb, color=\"red\", label=\"Тариф Смарт\", kde=True)\n",
    "\n",
    "fig.figure.suptitle(\"Общее колчество трафика по количеству пользователей\", fontsize = 14)\n",
    "plt.xlabel('Количество гигабайт в месяц', fontsize=12)\n",
    "plt.ylabel('Количество пользователей', fontsize=12)\n",
    "plt.legend()\n",
    "plt.show()"
   ]
  },
  {
   "cell_type": "markdown",
   "metadata": {},
   "source": [
    "Также мы проверили две гипотезы и делаем выводы, что средняя выручка от пользователей тарифов \"Ультра\" и \"Смарт\" различается, что также подтверждается данными в подготовке к нашему исследованию\n",
    "И также мы пришли к выводу, что пользватели Мегалайна из Москвы в среднем за год приносят компании столько же денег, сколько и пользователи в остальных регионах. \n",
    "\n",
    "В целом, у компании избрана очень хорошая тактика по ценовой политике тарифов, из двух тарифов - один дешевле, другой дороже, пользователи предпочитают более дешевый тариф, однако потом им приходится покупать себе дополнительные опции, что приносит компании Мегалайн очень хорошие деньги."
   ]
  }
 ],
 "metadata": {
  "ExecuteTimeLog": [
   {
    "duration": 46,
    "start_time": "2022-05-25T10:25:17.941Z"
   },
   {
    "duration": 61,
    "start_time": "2022-05-25T10:59:59.401Z"
   },
   {
    "duration": 1712,
    "start_time": "2022-05-25T11:06:32.689Z"
   },
   {
    "duration": 3,
    "start_time": "2022-05-25T11:06:58.836Z"
   },
   {
    "duration": 1659,
    "start_time": "2022-05-25T11:13:33.399Z"
   },
   {
    "duration": 23,
    "start_time": "2022-05-25T11:13:41.732Z"
   },
   {
    "duration": 464,
    "start_time": "2022-05-25T11:19:38.295Z"
   },
   {
    "duration": 14,
    "start_time": "2022-05-25T11:19:41.452Z"
   },
   {
    "duration": 13,
    "start_time": "2022-05-25T11:19:48.296Z"
   },
   {
    "duration": 25,
    "start_time": "2022-05-25T11:21:06.549Z"
   },
   {
    "duration": 119,
    "start_time": "2022-05-25T11:21:17.184Z"
   },
   {
    "duration": 58,
    "start_time": "2022-05-25T11:21:35.107Z"
   },
   {
    "duration": 24,
    "start_time": "2022-05-25T11:22:15.247Z"
   },
   {
    "duration": 8,
    "start_time": "2022-05-25T11:22:31.344Z"
   },
   {
    "duration": 20,
    "start_time": "2022-05-25T11:50:22.430Z"
   },
   {
    "duration": 26,
    "start_time": "2022-05-25T11:50:32.045Z"
   },
   {
    "duration": 13,
    "start_time": "2022-05-25T11:51:16.187Z"
   },
   {
    "duration": 25,
    "start_time": "2022-05-25T11:51:26.484Z"
   },
   {
    "duration": 8,
    "start_time": "2022-05-25T11:51:39.960Z"
   },
   {
    "duration": 23,
    "start_time": "2022-05-25T11:51:45.351Z"
   },
   {
    "duration": 11,
    "start_time": "2022-05-25T11:52:20.741Z"
   },
   {
    "duration": 25,
    "start_time": "2022-05-25T11:52:31.744Z"
   },
   {
    "duration": 16,
    "start_time": "2022-05-25T11:54:03.191Z"
   },
   {
    "duration": 15,
    "start_time": "2022-05-25T11:54:09.302Z"
   },
   {
    "duration": 8,
    "start_time": "2022-05-25T12:03:33.026Z"
   },
   {
    "duration": 8,
    "start_time": "2022-05-25T12:03:37.096Z"
   },
   {
    "duration": 9,
    "start_time": "2022-05-25T12:03:45.246Z"
   },
   {
    "duration": 19,
    "start_time": "2022-05-25T12:03:51.221Z"
   },
   {
    "duration": 10,
    "start_time": "2022-05-25T12:04:04.166Z"
   },
   {
    "duration": 16,
    "start_time": "2022-05-25T12:04:11.944Z"
   },
   {
    "duration": 29,
    "start_time": "2022-05-25T12:04:17.759Z"
   },
   {
    "duration": 8,
    "start_time": "2022-05-25T12:04:19.442Z"
   },
   {
    "duration": 25,
    "start_time": "2022-05-25T12:04:24.443Z"
   },
   {
    "duration": 11,
    "start_time": "2022-05-25T12:04:26.326Z"
   },
   {
    "duration": 24,
    "start_time": "2022-05-25T12:04:56.208Z"
   },
   {
    "duration": 12,
    "start_time": "2022-05-25T12:05:00.025Z"
   },
   {
    "duration": 9,
    "start_time": "2022-05-25T12:05:02.451Z"
   },
   {
    "duration": 9,
    "start_time": "2022-05-25T12:05:13.654Z"
   },
   {
    "duration": 10,
    "start_time": "2022-05-25T12:05:30.999Z"
   },
   {
    "duration": 11,
    "start_time": "2022-05-25T12:05:38.983Z"
   },
   {
    "duration": 7,
    "start_time": "2022-05-25T12:06:24.327Z"
   },
   {
    "duration": 5,
    "start_time": "2022-05-25T12:06:35.951Z"
   },
   {
    "duration": 10,
    "start_time": "2022-05-25T12:06:46.140Z"
   },
   {
    "duration": 1460,
    "start_time": "2022-05-26T07:00:59.990Z"
   },
   {
    "duration": 1276,
    "start_time": "2022-05-26T07:01:01.453Z"
   },
   {
    "duration": 3,
    "start_time": "2022-05-26T07:06:16.103Z"
   },
   {
    "duration": 2,
    "start_time": "2022-05-26T07:07:05.344Z"
   },
   {
    "duration": 48,
    "start_time": "2022-05-26T07:07:15.945Z"
   },
   {
    "duration": 3,
    "start_time": "2022-05-26T07:08:09.667Z"
   },
   {
    "duration": 47,
    "start_time": "2022-05-26T07:08:12.214Z"
   },
   {
    "duration": 3,
    "start_time": "2022-05-26T07:08:34.094Z"
   },
   {
    "duration": 51,
    "start_time": "2022-05-26T07:08:34.309Z"
   },
   {
    "duration": 4,
    "start_time": "2022-05-26T07:09:36.583Z"
   },
   {
    "duration": 67,
    "start_time": "2022-05-26T07:09:37.295Z"
   },
   {
    "duration": 4,
    "start_time": "2022-05-26T07:10:03.814Z"
   },
   {
    "duration": 47,
    "start_time": "2022-05-26T07:10:04.991Z"
   },
   {
    "duration": 33,
    "start_time": "2022-05-26T07:12:34.414Z"
   },
   {
    "duration": 5,
    "start_time": "2022-05-26T07:12:54.165Z"
   },
   {
    "duration": 174,
    "start_time": "2022-05-26T07:12:55.700Z"
   },
   {
    "duration": 4,
    "start_time": "2022-05-26T07:13:07.401Z"
   },
   {
    "duration": 163,
    "start_time": "2022-05-26T07:13:08.348Z"
   },
   {
    "duration": 5,
    "start_time": "2022-05-26T07:13:55.315Z"
   },
   {
    "duration": 168,
    "start_time": "2022-05-26T07:13:55.885Z"
   },
   {
    "duration": 57,
    "start_time": "2022-05-26T07:14:57.898Z"
   },
   {
    "duration": 167,
    "start_time": "2022-05-26T07:14:59.897Z"
   },
   {
    "duration": 15,
    "start_time": "2022-05-26T07:15:37.607Z"
   },
   {
    "duration": 126,
    "start_time": "2022-05-26T07:16:24.440Z"
   },
   {
    "duration": 5,
    "start_time": "2022-05-26T07:16:59.247Z"
   },
   {
    "duration": 219,
    "start_time": "2022-05-26T07:17:00.906Z"
   },
   {
    "duration": 6,
    "start_time": "2022-05-26T07:17:09.953Z"
   },
   {
    "duration": 211,
    "start_time": "2022-05-26T07:17:11.901Z"
   },
   {
    "duration": 6,
    "start_time": "2022-05-26T07:17:24.197Z"
   },
   {
    "duration": 182,
    "start_time": "2022-05-26T07:17:24.655Z"
   },
   {
    "duration": 39,
    "start_time": "2022-05-26T07:17:37.215Z"
   },
   {
    "duration": 199,
    "start_time": "2022-05-26T07:17:37.654Z"
   },
   {
    "duration": 5,
    "start_time": "2022-05-26T07:17:47.516Z"
   },
   {
    "duration": 192,
    "start_time": "2022-05-26T07:17:48.366Z"
   },
   {
    "duration": 4,
    "start_time": "2022-05-26T07:18:03.567Z"
   },
   {
    "duration": 188,
    "start_time": "2022-05-26T07:18:04.034Z"
   },
   {
    "duration": 4,
    "start_time": "2022-05-26T07:18:07.797Z"
   },
   {
    "duration": 236,
    "start_time": "2022-05-26T07:18:08.088Z"
   },
   {
    "duration": 5,
    "start_time": "2022-05-26T07:18:22.511Z"
   },
   {
    "duration": 182,
    "start_time": "2022-05-26T07:18:22.914Z"
   },
   {
    "duration": 155,
    "start_time": "2022-05-26T07:29:10.141Z"
   },
   {
    "duration": 50,
    "start_time": "2022-05-26T07:32:45.971Z"
   },
   {
    "duration": 22,
    "start_time": "2022-05-26T07:32:53.989Z"
   },
   {
    "duration": 124,
    "start_time": "2022-05-26T07:33:08.077Z"
   },
   {
    "duration": 186,
    "start_time": "2022-05-26T07:34:20.954Z"
   },
   {
    "duration": 34,
    "start_time": "2022-05-26T07:34:23.675Z"
   },
   {
    "duration": 9,
    "start_time": "2022-05-26T07:35:12.950Z"
   },
   {
    "duration": 124,
    "start_time": "2022-05-26T07:35:21.807Z"
   },
   {
    "duration": 38,
    "start_time": "2022-05-26T07:38:23.903Z"
   },
   {
    "duration": 38,
    "start_time": "2022-05-26T07:39:38.291Z"
   },
   {
    "duration": 34,
    "start_time": "2022-05-26T07:39:51.176Z"
   },
   {
    "duration": 34,
    "start_time": "2022-05-26T07:39:59.991Z"
   },
   {
    "duration": 834,
    "start_time": "2022-05-26T07:40:56.917Z"
   },
   {
    "duration": 50,
    "start_time": "2022-05-26T07:41:07.145Z"
   },
   {
    "duration": 14,
    "start_time": "2022-05-26T07:42:41.757Z"
   },
   {
    "duration": 288,
    "start_time": "2022-05-26T07:42:53.828Z"
   },
   {
    "duration": 118,
    "start_time": "2022-05-26T07:43:29.502Z"
   },
   {
    "duration": 561,
    "start_time": "2022-05-26T07:43:47.758Z"
   },
   {
    "duration": 326,
    "start_time": "2022-05-26T07:45:11.619Z"
   },
   {
    "duration": 65,
    "start_time": "2022-05-26T07:46:09.943Z"
   },
   {
    "duration": 63,
    "start_time": "2022-05-26T07:46:16.163Z"
   },
   {
    "duration": 164,
    "start_time": "2022-05-26T07:46:36.076Z"
   },
   {
    "duration": 16,
    "start_time": "2022-05-26T07:46:41.439Z"
   },
   {
    "duration": 31,
    "start_time": "2022-05-26T07:49:42.604Z"
   },
   {
    "duration": 223,
    "start_time": "2022-05-26T07:50:37.588Z"
   },
   {
    "duration": 85,
    "start_time": "2022-05-26T07:53:53.888Z"
   },
   {
    "duration": 668,
    "start_time": "2022-05-26T07:56:23.387Z"
   },
   {
    "duration": 703,
    "start_time": "2022-05-26T07:56:37.099Z"
   },
   {
    "duration": 39,
    "start_time": "2022-05-26T07:56:45.376Z"
   },
   {
    "duration": 19,
    "start_time": "2022-05-26T07:57:17.359Z"
   },
   {
    "duration": 17,
    "start_time": "2022-05-26T07:59:53.039Z"
   },
   {
    "duration": 27,
    "start_time": "2022-05-26T08:01:10.049Z"
   },
   {
    "duration": 22,
    "start_time": "2022-05-26T08:01:23.764Z"
   },
   {
    "duration": 5,
    "start_time": "2022-05-26T08:05:06.703Z"
   },
   {
    "duration": 14,
    "start_time": "2022-05-26T08:05:13.850Z"
   },
   {
    "duration": 5,
    "start_time": "2022-05-26T08:07:43.550Z"
   },
   {
    "duration": 5,
    "start_time": "2022-05-26T08:08:10.171Z"
   },
   {
    "duration": 14,
    "start_time": "2022-05-26T08:18:52.369Z"
   },
   {
    "duration": 10,
    "start_time": "2022-05-26T08:20:20.916Z"
   },
   {
    "duration": 11,
    "start_time": "2022-05-26T08:20:29.361Z"
   },
   {
    "duration": 5,
    "start_time": "2022-05-26T08:20:45.712Z"
   },
   {
    "duration": 4,
    "start_time": "2022-05-26T08:20:56.121Z"
   },
   {
    "duration": 4,
    "start_time": "2022-05-26T08:21:35.836Z"
   },
   {
    "duration": 9,
    "start_time": "2022-05-26T08:21:38.773Z"
   },
   {
    "duration": 15,
    "start_time": "2022-05-26T08:21:44.213Z"
   },
   {
    "duration": 12,
    "start_time": "2022-05-26T08:21:53.629Z"
   },
   {
    "duration": 91,
    "start_time": "2022-05-26T08:22:05.120Z"
   },
   {
    "duration": 115,
    "start_time": "2022-05-26T08:27:12.936Z"
   },
   {
    "duration": 22,
    "start_time": "2022-05-26T08:37:06.025Z"
   },
   {
    "duration": 34,
    "start_time": "2022-05-26T08:37:12.258Z"
   },
   {
    "duration": 32,
    "start_time": "2022-05-26T08:37:23.471Z"
   },
   {
    "duration": 35,
    "start_time": "2022-05-26T08:37:29.891Z"
   },
   {
    "duration": 35,
    "start_time": "2022-05-26T08:38:42.081Z"
   },
   {
    "duration": 35,
    "start_time": "2022-05-26T08:39:00.211Z"
   },
   {
    "duration": 40,
    "start_time": "2022-05-26T08:39:14.740Z"
   },
   {
    "duration": 36,
    "start_time": "2022-05-26T08:40:44.553Z"
   },
   {
    "duration": 25,
    "start_time": "2022-05-26T08:40:55.699Z"
   },
   {
    "duration": 36,
    "start_time": "2022-05-26T08:40:59.909Z"
   },
   {
    "duration": 24,
    "start_time": "2022-05-26T08:42:20.552Z"
   },
   {
    "duration": 30,
    "start_time": "2022-05-26T08:42:27.287Z"
   },
   {
    "duration": 26,
    "start_time": "2022-05-26T08:43:24.396Z"
   },
   {
    "duration": 1142,
    "start_time": "2022-05-26T08:43:36.108Z"
   },
   {
    "duration": 800,
    "start_time": "2022-05-26T08:43:37.253Z"
   },
   {
    "duration": 7,
    "start_time": "2022-05-26T08:43:38.056Z"
   },
   {
    "duration": 198,
    "start_time": "2022-05-26T08:43:38.066Z"
   },
   {
    "duration": 73,
    "start_time": "2022-05-26T08:43:38.268Z"
   },
   {
    "duration": 53,
    "start_time": "2022-05-26T08:43:38.343Z"
   },
   {
    "duration": 43,
    "start_time": "2022-05-26T08:43:38.398Z"
   },
   {
    "duration": 416,
    "start_time": "2022-05-26T08:43:38.443Z"
   },
   {
    "duration": 270,
    "start_time": "2022-05-26T08:43:38.860Z"
   },
   {
    "duration": 16,
    "start_time": "2022-05-26T08:43:39.131Z"
   },
   {
    "duration": 115,
    "start_time": "2022-05-26T08:43:39.149Z"
   },
   {
    "duration": 53,
    "start_time": "2022-05-26T08:43:39.266Z"
   },
   {
    "duration": 28,
    "start_time": "2022-05-26T08:43:39.322Z"
   },
   {
    "duration": 53,
    "start_time": "2022-05-26T08:43:39.354Z"
   },
   {
    "duration": 222,
    "start_time": "2022-05-26T08:43:39.409Z"
   },
   {
    "duration": 90,
    "start_time": "2022-05-26T08:43:39.632Z"
   },
   {
    "duration": 33,
    "start_time": "2022-05-26T08:43:39.723Z"
   },
   {
    "duration": 38,
    "start_time": "2022-05-26T08:43:39.758Z"
   },
   {
    "duration": 20,
    "start_time": "2022-05-26T08:43:39.798Z"
   },
   {
    "duration": 38,
    "start_time": "2022-05-26T08:43:39.820Z"
   },
   {
    "duration": 27,
    "start_time": "2022-05-26T08:43:39.860Z"
   },
   {
    "duration": 10,
    "start_time": "2022-05-26T08:43:39.889Z"
   },
   {
    "duration": 21,
    "start_time": "2022-05-26T08:43:39.901Z"
   },
   {
    "duration": 112,
    "start_time": "2022-05-26T08:43:39.924Z"
   },
   {
    "duration": 66,
    "start_time": "2022-05-26T08:43:52.316Z"
   },
   {
    "duration": 53,
    "start_time": "2022-05-26T08:45:09.978Z"
   },
   {
    "duration": 77,
    "start_time": "2022-05-26T08:45:14.489Z"
   },
   {
    "duration": 34924,
    "start_time": "2022-05-26T08:46:46.523Z"
   },
   {
    "duration": 70,
    "start_time": "2022-05-26T08:48:11.585Z"
   },
   {
    "duration": 79,
    "start_time": "2022-05-26T08:48:28.058Z"
   },
   {
    "duration": 64,
    "start_time": "2022-05-26T08:48:35.581Z"
   },
   {
    "duration": 12,
    "start_time": "2022-05-26T08:49:26.710Z"
   },
   {
    "duration": 122,
    "start_time": "2022-05-26T08:50:13.053Z"
   },
   {
    "duration": 10,
    "start_time": "2022-05-26T08:50:20.246Z"
   },
   {
    "duration": 361,
    "start_time": "2022-05-26T08:50:24.316Z"
   },
   {
    "duration": 308,
    "start_time": "2022-05-26T08:50:29.902Z"
   },
   {
    "duration": 33,
    "start_time": "2022-05-26T08:51:05.991Z"
   },
   {
    "duration": 18,
    "start_time": "2022-05-26T08:52:03.950Z"
   },
   {
    "duration": 37,
    "start_time": "2022-05-26T08:52:51.032Z"
   },
   {
    "duration": 32,
    "start_time": "2022-05-26T08:52:56.893Z"
   },
   {
    "duration": 11,
    "start_time": "2022-05-26T08:55:42.332Z"
   },
   {
    "duration": 16,
    "start_time": "2022-05-26T08:55:46.544Z"
   },
   {
    "duration": 30,
    "start_time": "2022-05-26T08:55:57.281Z"
   },
   {
    "duration": 64,
    "start_time": "2022-05-26T08:56:44.582Z"
   },
   {
    "duration": 63,
    "start_time": "2022-05-26T08:57:29.596Z"
   },
   {
    "duration": 58,
    "start_time": "2022-05-26T08:58:13.375Z"
   },
   {
    "duration": 72,
    "start_time": "2022-05-26T08:58:24.822Z"
   },
   {
    "duration": 90,
    "start_time": "2022-05-26T08:59:36.528Z"
   },
   {
    "duration": 59,
    "start_time": "2022-05-26T09:00:50.344Z"
   },
   {
    "duration": 60,
    "start_time": "2022-05-26T09:00:57.643Z"
   },
   {
    "duration": 43,
    "start_time": "2022-05-26T09:05:41.777Z"
   },
   {
    "duration": 460,
    "start_time": "2022-05-26T09:05:50.938Z"
   },
   {
    "duration": 414,
    "start_time": "2022-05-26T09:05:56.185Z"
   },
   {
    "duration": 56,
    "start_time": "2022-05-26T09:06:03.113Z"
   },
   {
    "duration": 43,
    "start_time": "2022-05-26T09:06:13.014Z"
   },
   {
    "duration": 963,
    "start_time": "2022-05-26T09:06:24.094Z"
   },
   {
    "duration": 990,
    "start_time": "2022-05-26T09:06:30.042Z"
   },
   {
    "duration": 1110,
    "start_time": "2022-05-26T09:06:36.855Z"
   },
   {
    "duration": 947,
    "start_time": "2022-05-26T09:06:41.375Z"
   },
   {
    "duration": 50,
    "start_time": "2022-05-26T09:06:44.989Z"
   },
   {
    "duration": 81,
    "start_time": "2022-05-26T09:09:59.820Z"
   },
   {
    "duration": 54,
    "start_time": "2022-05-26T09:10:51.009Z"
   },
   {
    "duration": 55,
    "start_time": "2022-05-26T09:12:28.656Z"
   },
   {
    "duration": 45,
    "start_time": "2022-05-26T09:12:34.968Z"
   },
   {
    "duration": 45,
    "start_time": "2022-05-26T09:12:38.825Z"
   },
   {
    "duration": 39,
    "start_time": "2022-05-26T09:12:45.188Z"
   },
   {
    "duration": 57,
    "start_time": "2022-05-26T09:12:48.225Z"
   },
   {
    "duration": 55,
    "start_time": "2022-05-26T09:12:56.431Z"
   },
   {
    "duration": 35,
    "start_time": "2022-05-26T09:14:04.757Z"
   },
   {
    "duration": 41,
    "start_time": "2022-05-26T09:14:11.876Z"
   },
   {
    "duration": 52,
    "start_time": "2022-05-26T09:14:18.092Z"
   },
   {
    "duration": 48,
    "start_time": "2022-05-26T09:14:22.873Z"
   },
   {
    "duration": 51,
    "start_time": "2022-05-26T09:14:55.237Z"
   },
   {
    "duration": 46,
    "start_time": "2022-05-26T09:15:06.873Z"
   },
   {
    "duration": 46,
    "start_time": "2022-05-26T09:15:12.617Z"
   },
   {
    "duration": 105,
    "start_time": "2022-05-26T09:15:35.504Z"
   },
   {
    "duration": 43,
    "start_time": "2022-05-26T09:15:40.682Z"
   },
   {
    "duration": 36,
    "start_time": "2022-05-26T09:15:56.128Z"
   },
   {
    "duration": 49,
    "start_time": "2022-05-26T09:16:00.952Z"
   },
   {
    "duration": 46,
    "start_time": "2022-05-26T09:16:37.043Z"
   },
   {
    "duration": 65,
    "start_time": "2022-05-26T09:16:43.826Z"
   },
   {
    "duration": 54,
    "start_time": "2022-05-26T09:16:49.857Z"
   },
   {
    "duration": 61,
    "start_time": "2022-05-26T09:17:03.886Z"
   },
   {
    "duration": 55,
    "start_time": "2022-05-26T09:18:31.007Z"
   },
   {
    "duration": 45,
    "start_time": "2022-05-26T09:18:35.818Z"
   },
   {
    "duration": 49,
    "start_time": "2022-05-26T09:18:54.769Z"
   },
   {
    "duration": 43,
    "start_time": "2022-05-26T09:19:30.749Z"
   },
   {
    "duration": 28,
    "start_time": "2022-05-26T09:20:12.529Z"
   },
   {
    "duration": 9,
    "start_time": "2022-05-26T09:23:51.639Z"
   },
   {
    "duration": 37,
    "start_time": "2022-05-26T09:23:53.810Z"
   },
   {
    "duration": 16,
    "start_time": "2022-05-26T09:24:33.346Z"
   },
   {
    "duration": 17,
    "start_time": "2022-05-26T09:25:51.810Z"
   },
   {
    "duration": 16,
    "start_time": "2022-05-26T09:25:55.870Z"
   },
   {
    "duration": 11,
    "start_time": "2022-05-26T09:26:02.285Z"
   },
   {
    "duration": 26,
    "start_time": "2022-05-26T09:26:04.671Z"
   },
   {
    "duration": 37,
    "start_time": "2022-05-26T09:26:09.048Z"
   },
   {
    "duration": 37,
    "start_time": "2022-05-26T09:26:16.355Z"
   },
   {
    "duration": 28,
    "start_time": "2022-05-26T09:26:31.820Z"
   },
   {
    "duration": 38,
    "start_time": "2022-05-26T09:27:11.144Z"
   },
   {
    "duration": 1267,
    "start_time": "2022-05-26T09:27:42.366Z"
   },
   {
    "duration": 443,
    "start_time": "2022-05-26T09:27:43.635Z"
   },
   {
    "duration": 5,
    "start_time": "2022-05-26T09:27:44.081Z"
   },
   {
    "duration": 203,
    "start_time": "2022-05-26T09:27:44.088Z"
   },
   {
    "duration": 56,
    "start_time": "2022-05-26T09:27:44.294Z"
   },
   {
    "duration": 55,
    "start_time": "2022-05-26T09:27:44.353Z"
   },
   {
    "duration": 44,
    "start_time": "2022-05-26T09:27:44.409Z"
   },
   {
    "duration": 407,
    "start_time": "2022-05-26T09:27:44.455Z"
   },
   {
    "duration": 273,
    "start_time": "2022-05-26T09:27:44.864Z"
   },
   {
    "duration": 23,
    "start_time": "2022-05-26T09:27:45.139Z"
   },
   {
    "duration": 129,
    "start_time": "2022-05-26T09:27:45.164Z"
   },
   {
    "duration": 45,
    "start_time": "2022-05-26T09:27:45.294Z"
   },
   {
    "duration": 47,
    "start_time": "2022-05-26T09:27:45.341Z"
   },
   {
    "duration": 44,
    "start_time": "2022-05-26T09:27:45.392Z"
   },
   {
    "duration": 256,
    "start_time": "2022-05-26T09:27:45.438Z"
   },
   {
    "duration": 97,
    "start_time": "2022-05-26T09:27:45.695Z"
   },
   {
    "duration": 33,
    "start_time": "2022-05-26T09:27:45.794Z"
   },
   {
    "duration": 24,
    "start_time": "2022-05-26T09:27:45.829Z"
   },
   {
    "duration": 40,
    "start_time": "2022-05-26T09:27:45.855Z"
   },
   {
    "duration": 29,
    "start_time": "2022-05-26T09:27:45.896Z"
   },
   {
    "duration": 20,
    "start_time": "2022-05-26T09:27:45.926Z"
   },
   {
    "duration": 28,
    "start_time": "2022-05-26T09:27:45.948Z"
   },
   {
    "duration": 20,
    "start_time": "2022-05-26T09:27:45.986Z"
   },
   {
    "duration": 106,
    "start_time": "2022-05-26T09:27:46.008Z"
   },
   {
    "duration": 15,
    "start_time": "2022-05-26T09:27:46.116Z"
   },
   {
    "duration": 61,
    "start_time": "2022-05-26T09:27:46.133Z"
   },
   {
    "duration": 13,
    "start_time": "2022-05-26T09:27:46.196Z"
   },
   {
    "duration": 60,
    "start_time": "2022-05-26T09:27:46.210Z"
   },
   {
    "duration": 30,
    "start_time": "2022-05-26T09:27:46.272Z"
   },
   {
    "duration": 7,
    "start_time": "2022-05-26T09:27:52.049Z"
   },
   {
    "duration": 24,
    "start_time": "2022-05-26T09:27:54.773Z"
   },
   {
    "duration": 29,
    "start_time": "2022-05-26T09:28:31.398Z"
   },
   {
    "duration": 41,
    "start_time": "2022-05-26T09:28:35.377Z"
   },
   {
    "duration": 42,
    "start_time": "2022-05-26T09:28:54.228Z"
   },
   {
    "duration": 35,
    "start_time": "2022-05-26T09:29:08.268Z"
   },
   {
    "duration": 8,
    "start_time": "2022-05-26T09:29:30.190Z"
   },
   {
    "duration": 35,
    "start_time": "2022-05-26T09:29:31.755Z"
   },
   {
    "duration": 35,
    "start_time": "2022-05-26T09:31:20.307Z"
   },
   {
    "duration": 123,
    "start_time": "2022-05-26T09:32:05.055Z"
   },
   {
    "duration": 13,
    "start_time": "2022-05-26T09:33:42.014Z"
   },
   {
    "duration": 13,
    "start_time": "2022-05-26T09:33:47.129Z"
   },
   {
    "duration": 25,
    "start_time": "2022-05-26T09:34:04.257Z"
   },
   {
    "duration": 32,
    "start_time": "2022-05-26T09:34:14.498Z"
   },
   {
    "duration": 20,
    "start_time": "2022-05-26T09:34:31.054Z"
   },
   {
    "duration": 36,
    "start_time": "2022-05-26T09:34:44.606Z"
   },
   {
    "duration": 19,
    "start_time": "2022-05-26T09:35:10.635Z"
   },
   {
    "duration": 15,
    "start_time": "2022-05-26T09:36:43.018Z"
   },
   {
    "duration": 13,
    "start_time": "2022-05-26T09:38:27.007Z"
   },
   {
    "duration": 10,
    "start_time": "2022-05-26T09:38:53.747Z"
   },
   {
    "duration": 17,
    "start_time": "2022-05-26T09:39:05.738Z"
   },
   {
    "duration": 19,
    "start_time": "2022-05-26T09:39:49.992Z"
   },
   {
    "duration": 25,
    "start_time": "2022-05-26T09:40:02.780Z"
   },
   {
    "duration": 25,
    "start_time": "2022-05-26T09:40:36.008Z"
   },
   {
    "duration": 19,
    "start_time": "2022-05-26T09:40:41.763Z"
   },
   {
    "duration": 48,
    "start_time": "2022-05-26T09:40:57.876Z"
   },
   {
    "duration": 29,
    "start_time": "2022-05-26T09:41:19.120Z"
   },
   {
    "duration": 38,
    "start_time": "2022-05-26T09:41:43.364Z"
   },
   {
    "duration": 31,
    "start_time": "2022-05-26T09:42:11.239Z"
   },
   {
    "duration": 42,
    "start_time": "2022-05-26T09:42:20.357Z"
   },
   {
    "duration": 41,
    "start_time": "2022-05-26T09:42:41.640Z"
   },
   {
    "duration": 43,
    "start_time": "2022-05-26T09:42:49.060Z"
   },
   {
    "duration": 33,
    "start_time": "2022-05-26T09:43:05.922Z"
   },
   {
    "duration": 41,
    "start_time": "2022-05-26T09:43:13.785Z"
   },
   {
    "duration": 31,
    "start_time": "2022-05-26T09:44:22.941Z"
   },
   {
    "duration": 28,
    "start_time": "2022-05-26T09:44:40.301Z"
   },
   {
    "duration": 41,
    "start_time": "2022-05-26T09:44:52.811Z"
   },
   {
    "duration": 35,
    "start_time": "2022-05-26T09:45:12.062Z"
   },
   {
    "duration": 30,
    "start_time": "2022-05-26T09:45:21.863Z"
   },
   {
    "duration": 17,
    "start_time": "2022-05-26T09:46:05.169Z"
   },
   {
    "duration": 22,
    "start_time": "2022-05-26T09:46:17.182Z"
   },
   {
    "duration": 15,
    "start_time": "2022-05-26T09:46:30.794Z"
   },
   {
    "duration": 64,
    "start_time": "2022-05-26T09:46:58.380Z"
   },
   {
    "duration": 17,
    "start_time": "2022-05-26T09:47:08.605Z"
   },
   {
    "duration": 27,
    "start_time": "2022-05-26T09:47:18.846Z"
   },
   {
    "duration": 22,
    "start_time": "2022-05-26T09:47:31.150Z"
   },
   {
    "duration": 18,
    "start_time": "2022-05-26T09:48:01.534Z"
   },
   {
    "duration": 21,
    "start_time": "2022-05-26T09:48:08.326Z"
   },
   {
    "duration": 21,
    "start_time": "2022-05-26T09:48:16.202Z"
   },
   {
    "duration": 15,
    "start_time": "2022-05-26T09:48:21.086Z"
   },
   {
    "duration": 15,
    "start_time": "2022-05-26T09:48:40.107Z"
   },
   {
    "duration": 50,
    "start_time": "2022-05-26T09:49:48.136Z"
   },
   {
    "duration": 37,
    "start_time": "2022-05-26T09:49:55.942Z"
   },
   {
    "duration": 11,
    "start_time": "2022-05-26T09:53:35.508Z"
   },
   {
    "duration": 15,
    "start_time": "2022-05-26T09:53:42.742Z"
   },
   {
    "duration": 19,
    "start_time": "2022-05-26T09:53:55.167Z"
   },
   {
    "duration": 20,
    "start_time": "2022-05-26T09:54:01.957Z"
   },
   {
    "duration": 18,
    "start_time": "2022-05-26T09:54:08.431Z"
   },
   {
    "duration": 16,
    "start_time": "2022-05-26T09:58:10.734Z"
   },
   {
    "duration": 14,
    "start_time": "2022-05-26T09:58:28.545Z"
   },
   {
    "duration": 17,
    "start_time": "2022-05-26T09:59:23.187Z"
   },
   {
    "duration": 15,
    "start_time": "2022-05-26T09:59:34.404Z"
   },
   {
    "duration": 15,
    "start_time": "2022-05-26T09:59:40.590Z"
   },
   {
    "duration": 14,
    "start_time": "2022-05-26T09:59:48.853Z"
   },
   {
    "duration": 19,
    "start_time": "2022-05-26T09:59:59.385Z"
   },
   {
    "duration": 55,
    "start_time": "2022-05-26T10:00:29.324Z"
   },
   {
    "duration": 57,
    "start_time": "2022-05-26T10:01:02.332Z"
   },
   {
    "duration": 48,
    "start_time": "2022-05-26T10:02:04.789Z"
   },
   {
    "duration": 75,
    "start_time": "2022-05-26T10:02:27.922Z"
   },
   {
    "duration": 51,
    "start_time": "2022-05-26T10:02:39.869Z"
   },
   {
    "duration": 51,
    "start_time": "2022-05-26T10:02:51.344Z"
   },
   {
    "duration": 18,
    "start_time": "2022-05-26T10:03:00.111Z"
   },
   {
    "duration": 50,
    "start_time": "2022-05-26T10:03:19.540Z"
   },
   {
    "duration": 46,
    "start_time": "2022-05-26T10:03:27.530Z"
   },
   {
    "duration": 28,
    "start_time": "2022-05-26T10:03:33.777Z"
   },
   {
    "duration": 22,
    "start_time": "2022-05-26T10:03:37.641Z"
   },
   {
    "duration": 239,
    "start_time": "2022-05-26T10:03:55.029Z"
   },
   {
    "duration": 35,
    "start_time": "2022-05-26T10:04:00.573Z"
   },
   {
    "duration": 26,
    "start_time": "2022-05-26T10:04:18.724Z"
   },
   {
    "duration": 34,
    "start_time": "2022-05-26T10:04:41.070Z"
   },
   {
    "duration": 18,
    "start_time": "2022-05-26T10:06:59.063Z"
   },
   {
    "duration": 4,
    "start_time": "2022-05-26T10:07:12.211Z"
   },
   {
    "duration": 416,
    "start_time": "2022-05-26T10:07:12.216Z"
   },
   {
    "duration": 4,
    "start_time": "2022-05-26T10:07:12.634Z"
   },
   {
    "duration": 159,
    "start_time": "2022-05-26T10:07:12.641Z"
   },
   {
    "duration": 47,
    "start_time": "2022-05-26T10:07:12.801Z"
   },
   {
    "duration": 51,
    "start_time": "2022-05-26T10:07:12.850Z"
   },
   {
    "duration": 38,
    "start_time": "2022-05-26T10:07:12.902Z"
   },
   {
    "duration": 222,
    "start_time": "2022-05-26T10:07:12.942Z"
   },
   {
    "duration": 272,
    "start_time": "2022-05-26T10:07:13.168Z"
   },
   {
    "duration": 16,
    "start_time": "2022-05-26T10:07:13.442Z"
   },
   {
    "duration": 115,
    "start_time": "2022-05-26T10:07:13.460Z"
   },
   {
    "duration": 50,
    "start_time": "2022-05-26T10:07:13.577Z"
   },
   {
    "duration": 28,
    "start_time": "2022-05-26T10:07:13.629Z"
   },
   {
    "duration": 53,
    "start_time": "2022-05-26T10:07:13.659Z"
   },
   {
    "duration": 233,
    "start_time": "2022-05-26T10:07:13.714Z"
   },
   {
    "duration": 91,
    "start_time": "2022-05-26T10:07:13.949Z"
   },
   {
    "duration": 42,
    "start_time": "2022-05-26T10:07:14.042Z"
   },
   {
    "duration": 23,
    "start_time": "2022-05-26T10:07:14.086Z"
   },
   {
    "duration": 17,
    "start_time": "2022-05-26T10:07:14.111Z"
   },
   {
    "duration": 23,
    "start_time": "2022-05-26T10:07:14.131Z"
   },
   {
    "duration": 38,
    "start_time": "2022-05-26T10:07:14.156Z"
   },
   {
    "duration": 8,
    "start_time": "2022-05-26T10:07:14.195Z"
   },
   {
    "duration": 15,
    "start_time": "2022-05-26T10:07:14.204Z"
   },
   {
    "duration": 71,
    "start_time": "2022-05-26T10:07:14.221Z"
   },
   {
    "duration": 13,
    "start_time": "2022-05-26T10:07:14.294Z"
   },
   {
    "duration": 47,
    "start_time": "2022-05-26T10:07:14.309Z"
   },
   {
    "duration": 35,
    "start_time": "2022-05-26T10:07:14.358Z"
   },
   {
    "duration": 25,
    "start_time": "2022-05-26T10:07:14.395Z"
   },
   {
    "duration": 19,
    "start_time": "2022-05-26T10:07:21.372Z"
   },
   {
    "duration": 21,
    "start_time": "2022-05-26T10:07:29.707Z"
   },
   {
    "duration": 19,
    "start_time": "2022-05-26T10:08:13.420Z"
   },
   {
    "duration": 16,
    "start_time": "2022-05-26T10:10:04.867Z"
   },
   {
    "duration": 14,
    "start_time": "2022-05-26T10:10:15.684Z"
   },
   {
    "duration": 36,
    "start_time": "2022-05-26T10:10:18.091Z"
   },
   {
    "duration": 28,
    "start_time": "2022-05-26T10:13:18.900Z"
   },
   {
    "duration": 18,
    "start_time": "2022-05-26T10:13:22.996Z"
   },
   {
    "duration": 66,
    "start_time": "2022-05-26T10:13:26.499Z"
   },
   {
    "duration": 102,
    "start_time": "2022-05-26T10:13:37.404Z"
   },
   {
    "duration": 25,
    "start_time": "2022-05-26T10:14:04.373Z"
   },
   {
    "duration": 28,
    "start_time": "2022-05-26T10:14:15.060Z"
   },
   {
    "duration": 2796,
    "start_time": "2022-05-26T10:14:38.452Z"
   },
   {
    "duration": 884,
    "start_time": "2022-05-26T10:14:42.009Z"
   },
   {
    "duration": 2709,
    "start_time": "2022-05-26T10:14:52.540Z"
   },
   {
    "duration": 1190,
    "start_time": "2022-05-26T10:15:04.674Z"
   },
   {
    "duration": 473,
    "start_time": "2022-05-26T10:15:05.866Z"
   },
   {
    "duration": 7,
    "start_time": "2022-05-26T10:15:06.341Z"
   },
   {
    "duration": 193,
    "start_time": "2022-05-26T10:15:06.350Z"
   },
   {
    "duration": 58,
    "start_time": "2022-05-26T10:15:06.546Z"
   },
   {
    "duration": 35,
    "start_time": "2022-05-26T10:15:06.606Z"
   },
   {
    "duration": 59,
    "start_time": "2022-05-26T10:15:06.643Z"
   },
   {
    "duration": 402,
    "start_time": "2022-05-26T10:15:06.704Z"
   },
   {
    "duration": 316,
    "start_time": "2022-05-26T10:15:07.107Z"
   },
   {
    "duration": 16,
    "start_time": "2022-05-26T10:15:07.425Z"
   },
   {
    "duration": 145,
    "start_time": "2022-05-26T10:15:07.442Z"
   },
   {
    "duration": 48,
    "start_time": "2022-05-26T10:15:07.589Z"
   },
   {
    "duration": 52,
    "start_time": "2022-05-26T10:15:07.639Z"
   },
   {
    "duration": 34,
    "start_time": "2022-05-26T10:15:07.694Z"
   },
   {
    "duration": 276,
    "start_time": "2022-05-26T10:15:07.730Z"
   },
   {
    "duration": 124,
    "start_time": "2022-05-26T10:15:08.008Z"
   },
   {
    "duration": 50,
    "start_time": "2022-05-26T10:15:08.134Z"
   },
   {
    "duration": 30,
    "start_time": "2022-05-26T10:15:08.187Z"
   },
   {
    "duration": 38,
    "start_time": "2022-05-26T10:15:08.219Z"
   },
   {
    "duration": 35,
    "start_time": "2022-05-26T10:15:08.258Z"
   },
   {
    "duration": 35,
    "start_time": "2022-05-26T10:15:08.295Z"
   },
   {
    "duration": 36,
    "start_time": "2022-05-26T10:15:08.332Z"
   },
   {
    "duration": 31,
    "start_time": "2022-05-26T10:15:08.370Z"
   },
   {
    "duration": 88,
    "start_time": "2022-05-26T10:15:08.403Z"
   },
   {
    "duration": 16,
    "start_time": "2022-05-26T10:15:08.493Z"
   },
   {
    "duration": 55,
    "start_time": "2022-05-26T10:15:08.511Z"
   },
   {
    "duration": 20,
    "start_time": "2022-05-26T10:15:08.567Z"
   },
   {
    "duration": 79,
    "start_time": "2022-05-26T10:15:08.590Z"
   },
   {
    "duration": 47,
    "start_time": "2022-05-26T10:15:08.671Z"
   },
   {
    "duration": 123,
    "start_time": "2022-05-26T10:15:19.766Z"
   },
   {
    "duration": 38,
    "start_time": "2022-05-26T10:15:25.444Z"
   },
   {
    "duration": 39,
    "start_time": "2022-05-26T10:15:34.112Z"
   },
   {
    "duration": 42,
    "start_time": "2022-05-26T10:26:57.794Z"
   },
   {
    "duration": 134,
    "start_time": "2022-05-26T10:27:12.539Z"
   },
   {
    "duration": 1200,
    "start_time": "2022-05-26T10:27:23.144Z"
   },
   {
    "duration": 451,
    "start_time": "2022-05-26T10:27:24.347Z"
   },
   {
    "duration": 5,
    "start_time": "2022-05-26T10:27:24.800Z"
   },
   {
    "duration": 182,
    "start_time": "2022-05-26T10:27:24.806Z"
   },
   {
    "duration": 53,
    "start_time": "2022-05-26T10:27:24.991Z"
   },
   {
    "duration": 54,
    "start_time": "2022-05-26T10:27:25.046Z"
   },
   {
    "duration": 44,
    "start_time": "2022-05-26T10:27:25.102Z"
   },
   {
    "duration": 405,
    "start_time": "2022-05-26T10:27:25.151Z"
   },
   {
    "duration": 292,
    "start_time": "2022-05-26T10:27:25.558Z"
   },
   {
    "duration": 16,
    "start_time": "2022-05-26T10:27:25.851Z"
   },
   {
    "duration": 116,
    "start_time": "2022-05-26T10:27:25.883Z"
   },
   {
    "duration": 45,
    "start_time": "2022-05-26T10:27:26.001Z"
   },
   {
    "duration": 44,
    "start_time": "2022-05-26T10:27:26.048Z"
   },
   {
    "duration": 34,
    "start_time": "2022-05-26T10:27:26.095Z"
   },
   {
    "duration": 255,
    "start_time": "2022-05-26T10:27:26.131Z"
   },
   {
    "duration": 83,
    "start_time": "2022-05-26T10:27:26.388Z"
   },
   {
    "duration": 32,
    "start_time": "2022-05-26T10:27:26.483Z"
   },
   {
    "duration": 23,
    "start_time": "2022-05-26T10:27:26.517Z"
   },
   {
    "duration": 52,
    "start_time": "2022-05-26T10:27:26.542Z"
   },
   {
    "duration": 27,
    "start_time": "2022-05-26T10:27:26.596Z"
   },
   {
    "duration": 20,
    "start_time": "2022-05-26T10:27:26.626Z"
   },
   {
    "duration": 38,
    "start_time": "2022-05-26T10:27:26.648Z"
   },
   {
    "duration": 14,
    "start_time": "2022-05-26T10:27:26.687Z"
   },
   {
    "duration": 84,
    "start_time": "2022-05-26T10:27:26.703Z"
   },
   {
    "duration": 12,
    "start_time": "2022-05-26T10:27:26.789Z"
   },
   {
    "duration": 40,
    "start_time": "2022-05-26T10:27:26.802Z"
   },
   {
    "duration": 46,
    "start_time": "2022-05-26T10:27:26.843Z"
   },
   {
    "duration": 43,
    "start_time": "2022-05-26T10:27:26.891Z"
   },
   {
    "duration": 48,
    "start_time": "2022-05-26T10:27:26.936Z"
   },
   {
    "duration": 35,
    "start_time": "2022-05-26T10:27:49.595Z"
   },
   {
    "duration": 35,
    "start_time": "2022-05-26T10:27:52.549Z"
   },
   {
    "duration": 37,
    "start_time": "2022-05-26T10:28:15.172Z"
   },
   {
    "duration": 24,
    "start_time": "2022-05-26T10:29:03.536Z"
   },
   {
    "duration": 19,
    "start_time": "2022-05-26T10:29:48.544Z"
   },
   {
    "duration": 21,
    "start_time": "2022-05-26T10:30:17.407Z"
   },
   {
    "duration": 33,
    "start_time": "2022-05-26T10:30:31.927Z"
   },
   {
    "duration": 6,
    "start_time": "2022-05-26T10:30:41.640Z"
   },
   {
    "duration": 8,
    "start_time": "2022-05-26T10:30:54.870Z"
   },
   {
    "duration": 183,
    "start_time": "2022-05-26T10:31:19.482Z"
   },
   {
    "duration": 32,
    "start_time": "2022-05-26T10:31:27.466Z"
   },
   {
    "duration": 8,
    "start_time": "2022-05-26T10:33:06.934Z"
   },
   {
    "duration": 8,
    "start_time": "2022-05-26T10:33:31.619Z"
   },
   {
    "duration": 8,
    "start_time": "2022-05-26T10:33:49.126Z"
   },
   {
    "duration": 9,
    "start_time": "2022-05-26T10:33:59.670Z"
   },
   {
    "duration": 8,
    "start_time": "2022-05-26T10:34:10.317Z"
   },
   {
    "duration": 8,
    "start_time": "2022-05-26T10:34:17.117Z"
   },
   {
    "duration": 7,
    "start_time": "2022-05-26T10:34:24.433Z"
   },
   {
    "duration": 9,
    "start_time": "2022-05-26T10:34:42.922Z"
   },
   {
    "duration": 9,
    "start_time": "2022-05-26T10:34:45.097Z"
   },
   {
    "duration": 11,
    "start_time": "2022-05-26T10:34:50.829Z"
   },
   {
    "duration": 10,
    "start_time": "2022-05-26T10:35:05.933Z"
   },
   {
    "duration": 20,
    "start_time": "2022-05-26T10:35:45.845Z"
   },
   {
    "duration": 55,
    "start_time": "2022-05-26T10:36:47.466Z"
   },
   {
    "duration": 31,
    "start_time": "2022-05-26T10:37:18.185Z"
   },
   {
    "duration": 65,
    "start_time": "2022-05-26T10:38:13.326Z"
   },
   {
    "duration": 69,
    "start_time": "2022-05-26T10:38:19.194Z"
   },
   {
    "duration": 11,
    "start_time": "2022-05-26T10:39:02.242Z"
   },
   {
    "duration": 9,
    "start_time": "2022-05-26T10:39:05.986Z"
   },
   {
    "duration": 6,
    "start_time": "2022-05-26T10:39:45.790Z"
   },
   {
    "duration": 15,
    "start_time": "2022-05-26T10:40:02.824Z"
   },
   {
    "duration": 15,
    "start_time": "2022-05-26T10:40:09.257Z"
   },
   {
    "duration": 1165,
    "start_time": "2022-05-26T10:40:23.162Z"
   },
   {
    "duration": 467,
    "start_time": "2022-05-26T10:40:24.329Z"
   },
   {
    "duration": 4,
    "start_time": "2022-05-26T10:40:24.798Z"
   },
   {
    "duration": 175,
    "start_time": "2022-05-26T10:40:24.804Z"
   },
   {
    "duration": 52,
    "start_time": "2022-05-26T10:40:24.983Z"
   },
   {
    "duration": 51,
    "start_time": "2022-05-26T10:40:25.037Z"
   },
   {
    "duration": 42,
    "start_time": "2022-05-26T10:40:25.090Z"
   },
   {
    "duration": 441,
    "start_time": "2022-05-26T10:40:25.134Z"
   },
   {
    "duration": 285,
    "start_time": "2022-05-26T10:40:25.583Z"
   },
   {
    "duration": 27,
    "start_time": "2022-05-26T10:40:25.870Z"
   },
   {
    "duration": 118,
    "start_time": "2022-05-26T10:40:25.899Z"
   },
   {
    "duration": 66,
    "start_time": "2022-05-26T10:40:26.019Z"
   },
   {
    "duration": 28,
    "start_time": "2022-05-26T10:40:26.087Z"
   },
   {
    "duration": 34,
    "start_time": "2022-05-26T10:40:26.118Z"
   },
   {
    "duration": 254,
    "start_time": "2022-05-26T10:40:26.154Z"
   },
   {
    "duration": 97,
    "start_time": "2022-05-26T10:40:26.409Z"
   },
   {
    "duration": 45,
    "start_time": "2022-05-26T10:40:26.508Z"
   },
   {
    "duration": 39,
    "start_time": "2022-05-26T10:40:26.554Z"
   },
   {
    "duration": 23,
    "start_time": "2022-05-26T10:40:26.595Z"
   },
   {
    "duration": 21,
    "start_time": "2022-05-26T10:40:26.620Z"
   },
   {
    "duration": 49,
    "start_time": "2022-05-26T10:40:26.643Z"
   },
   {
    "duration": 19,
    "start_time": "2022-05-26T10:40:26.694Z"
   },
   {
    "duration": 27,
    "start_time": "2022-05-26T10:40:26.715Z"
   },
   {
    "duration": 84,
    "start_time": "2022-05-26T10:40:26.745Z"
   },
   {
    "duration": 15,
    "start_time": "2022-05-26T10:40:26.831Z"
   },
   {
    "duration": 55,
    "start_time": "2022-05-26T10:40:26.847Z"
   },
   {
    "duration": 13,
    "start_time": "2022-05-26T10:40:26.904Z"
   },
   {
    "duration": 31,
    "start_time": "2022-05-26T10:40:26.919Z"
   },
   {
    "duration": 62,
    "start_time": "2022-05-26T10:40:26.952Z"
   },
   {
    "duration": 16,
    "start_time": "2022-05-26T10:40:27.015Z"
   },
   {
    "duration": 9,
    "start_time": "2022-05-26T10:42:18.171Z"
   },
   {
    "duration": 9,
    "start_time": "2022-05-26T10:42:29.819Z"
   },
   {
    "duration": 23,
    "start_time": "2022-05-26T10:42:50.082Z"
   },
   {
    "duration": 46,
    "start_time": "2022-05-26T10:50:05.748Z"
   },
   {
    "duration": 35,
    "start_time": "2022-05-26T10:50:24.187Z"
   },
   {
    "duration": 28,
    "start_time": "2022-05-26T11:51:43.543Z"
   },
   {
    "duration": 1315,
    "start_time": "2022-05-27T06:44:10.787Z"
   },
   {
    "duration": 953,
    "start_time": "2022-05-27T06:44:12.105Z"
   },
   {
    "duration": 4,
    "start_time": "2022-05-27T06:44:13.060Z"
   },
   {
    "duration": 164,
    "start_time": "2022-05-27T06:44:13.066Z"
   },
   {
    "duration": 49,
    "start_time": "2022-05-27T06:44:13.232Z"
   },
   {
    "duration": 43,
    "start_time": "2022-05-27T06:44:13.282Z"
   },
   {
    "duration": 35,
    "start_time": "2022-05-27T06:44:13.327Z"
   },
   {
    "duration": 360,
    "start_time": "2022-05-27T06:44:13.364Z"
   },
   {
    "duration": 239,
    "start_time": "2022-05-27T06:44:13.725Z"
   },
   {
    "duration": 14,
    "start_time": "2022-05-27T06:44:13.965Z"
   },
   {
    "duration": 111,
    "start_time": "2022-05-27T06:44:13.981Z"
   },
   {
    "duration": 45,
    "start_time": "2022-05-27T06:44:14.094Z"
   },
   {
    "duration": 26,
    "start_time": "2022-05-27T06:44:14.140Z"
   },
   {
    "duration": 30,
    "start_time": "2022-05-27T06:44:14.169Z"
   },
   {
    "duration": 223,
    "start_time": "2022-05-27T06:44:14.201Z"
   },
   {
    "duration": 69,
    "start_time": "2022-05-27T06:44:14.426Z"
   },
   {
    "duration": 42,
    "start_time": "2022-05-27T06:44:14.496Z"
   },
   {
    "duration": 20,
    "start_time": "2022-05-27T06:44:14.540Z"
   },
   {
    "duration": 15,
    "start_time": "2022-05-27T06:44:14.562Z"
   },
   {
    "duration": 17,
    "start_time": "2022-05-27T06:44:14.579Z"
   },
   {
    "duration": 12,
    "start_time": "2022-05-27T06:44:14.622Z"
   },
   {
    "duration": 7,
    "start_time": "2022-05-27T06:44:14.636Z"
   },
   {
    "duration": 12,
    "start_time": "2022-05-27T06:44:14.644Z"
   },
   {
    "duration": 73,
    "start_time": "2022-05-27T06:44:14.658Z"
   },
   {
    "duration": 11,
    "start_time": "2022-05-27T06:44:14.732Z"
   },
   {
    "duration": 36,
    "start_time": "2022-05-27T06:44:14.745Z"
   },
   {
    "duration": 11,
    "start_time": "2022-05-27T06:44:14.783Z"
   },
   {
    "duration": 50,
    "start_time": "2022-05-27T06:44:14.796Z"
   },
   {
    "duration": 47,
    "start_time": "2022-05-27T06:44:14.847Z"
   },
   {
    "duration": 45,
    "start_time": "2022-05-27T06:44:14.896Z"
   },
   {
    "duration": 14,
    "start_time": "2022-05-27T06:44:14.943Z"
   },
   {
    "duration": 4,
    "start_time": "2022-05-27T06:46:11.675Z"
   },
   {
    "duration": 14,
    "start_time": "2022-05-27T06:46:15.772Z"
   },
   {
    "duration": 3,
    "start_time": "2022-05-27T06:48:41.188Z"
   },
   {
    "duration": 111,
    "start_time": "2022-05-27T06:49:06.918Z"
   },
   {
    "duration": 1080,
    "start_time": "2022-05-27T06:51:00.479Z"
   },
   {
    "duration": 422,
    "start_time": "2022-05-27T06:51:01.562Z"
   },
   {
    "duration": 5,
    "start_time": "2022-05-27T06:51:01.986Z"
   },
   {
    "duration": 161,
    "start_time": "2022-05-27T06:51:01.994Z"
   },
   {
    "duration": 46,
    "start_time": "2022-05-27T06:51:02.157Z"
   },
   {
    "duration": 41,
    "start_time": "2022-05-27T06:51:02.205Z"
   },
   {
    "duration": 37,
    "start_time": "2022-05-27T06:51:02.248Z"
   },
   {
    "duration": 410,
    "start_time": "2022-05-27T06:51:02.287Z"
   },
   {
    "duration": 270,
    "start_time": "2022-05-27T06:51:02.699Z"
   },
   {
    "duration": 15,
    "start_time": "2022-05-27T06:51:02.971Z"
   },
   {
    "duration": 106,
    "start_time": "2022-05-27T06:51:02.988Z"
   },
   {
    "duration": 60,
    "start_time": "2022-05-27T06:51:03.096Z"
   },
   {
    "duration": 26,
    "start_time": "2022-05-27T06:51:03.158Z"
   },
   {
    "duration": 43,
    "start_time": "2022-05-27T06:51:03.186Z"
   },
   {
    "duration": 211,
    "start_time": "2022-05-27T06:51:03.231Z"
   },
   {
    "duration": 79,
    "start_time": "2022-05-27T06:51:03.444Z"
   },
   {
    "duration": 30,
    "start_time": "2022-05-27T06:51:03.525Z"
   },
   {
    "duration": 24,
    "start_time": "2022-05-27T06:51:03.556Z"
   },
   {
    "duration": 16,
    "start_time": "2022-05-27T06:51:03.581Z"
   },
   {
    "duration": 43,
    "start_time": "2022-05-27T06:51:03.599Z"
   },
   {
    "duration": 14,
    "start_time": "2022-05-27T06:51:03.643Z"
   },
   {
    "duration": 6,
    "start_time": "2022-05-27T06:51:03.658Z"
   },
   {
    "duration": 16,
    "start_time": "2022-05-27T06:51:03.665Z"
   },
   {
    "duration": 148,
    "start_time": "2022-05-27T06:51:03.683Z"
   },
   {
    "duration": 0,
    "start_time": "2022-05-27T06:51:03.832Z"
   },
   {
    "duration": 0,
    "start_time": "2022-05-27T06:51:03.833Z"
   },
   {
    "duration": 0,
    "start_time": "2022-05-27T06:51:03.834Z"
   },
   {
    "duration": 0,
    "start_time": "2022-05-27T06:51:03.835Z"
   },
   {
    "duration": 0,
    "start_time": "2022-05-27T06:51:03.836Z"
   },
   {
    "duration": 0,
    "start_time": "2022-05-27T06:51:03.837Z"
   },
   {
    "duration": 0,
    "start_time": "2022-05-27T06:51:03.838Z"
   },
   {
    "duration": 0,
    "start_time": "2022-05-27T06:51:03.839Z"
   },
   {
    "duration": 11,
    "start_time": "2022-05-27T06:51:29.229Z"
   },
   {
    "duration": 2,
    "start_time": "2022-05-27T06:51:53.358Z"
   },
   {
    "duration": 9,
    "start_time": "2022-05-27T06:54:14.707Z"
   },
   {
    "duration": 18,
    "start_time": "2022-05-27T06:54:38.557Z"
   },
   {
    "duration": 13,
    "start_time": "2022-05-27T06:54:52.559Z"
   },
   {
    "duration": 9,
    "start_time": "2022-05-27T06:55:35.464Z"
   },
   {
    "duration": 9,
    "start_time": "2022-05-27T06:55:38.195Z"
   },
   {
    "duration": 4,
    "start_time": "2022-05-27T06:58:00.367Z"
   },
   {
    "duration": 33,
    "start_time": "2022-05-27T06:58:48.286Z"
   },
   {
    "duration": 43,
    "start_time": "2022-05-27T06:58:54.367Z"
   },
   {
    "duration": 14,
    "start_time": "2022-05-27T07:00:00.918Z"
   },
   {
    "duration": 1129,
    "start_time": "2022-05-27T07:00:31.964Z"
   },
   {
    "duration": 407,
    "start_time": "2022-05-27T07:00:33.095Z"
   },
   {
    "duration": 4,
    "start_time": "2022-05-27T07:00:33.503Z"
   },
   {
    "duration": 154,
    "start_time": "2022-05-27T07:00:33.509Z"
   },
   {
    "duration": 47,
    "start_time": "2022-05-27T07:00:33.664Z"
   },
   {
    "duration": 42,
    "start_time": "2022-05-27T07:00:33.712Z"
   },
   {
    "duration": 36,
    "start_time": "2022-05-27T07:00:33.756Z"
   },
   {
    "duration": 390,
    "start_time": "2022-05-27T07:00:33.794Z"
   },
   {
    "duration": 252,
    "start_time": "2022-05-27T07:00:34.185Z"
   },
   {
    "duration": 15,
    "start_time": "2022-05-27T07:00:34.440Z"
   },
   {
    "duration": 115,
    "start_time": "2022-05-27T07:00:34.456Z"
   },
   {
    "duration": 53,
    "start_time": "2022-05-27T07:00:34.573Z"
   },
   {
    "duration": 27,
    "start_time": "2022-05-27T07:00:34.628Z"
   },
   {
    "duration": 34,
    "start_time": "2022-05-27T07:00:34.656Z"
   },
   {
    "duration": 217,
    "start_time": "2022-05-27T07:00:34.692Z"
   },
   {
    "duration": 74,
    "start_time": "2022-05-27T07:00:34.922Z"
   },
   {
    "duration": 42,
    "start_time": "2022-05-27T07:00:34.997Z"
   },
   {
    "duration": 23,
    "start_time": "2022-05-27T07:00:35.040Z"
   },
   {
    "duration": 17,
    "start_time": "2022-05-27T07:00:35.064Z"
   },
   {
    "duration": 42,
    "start_time": "2022-05-27T07:00:35.082Z"
   },
   {
    "duration": 14,
    "start_time": "2022-05-27T07:00:35.125Z"
   },
   {
    "duration": 19,
    "start_time": "2022-05-27T07:00:35.140Z"
   },
   {
    "duration": 20,
    "start_time": "2022-05-27T07:00:35.161Z"
   },
   {
    "duration": 15,
    "start_time": "2022-05-27T07:00:35.183Z"
   },
   {
    "duration": 65,
    "start_time": "2022-05-27T07:00:35.199Z"
   },
   {
    "duration": 12,
    "start_time": "2022-05-27T07:00:35.265Z"
   },
   {
    "duration": 48,
    "start_time": "2022-05-27T07:00:35.278Z"
   },
   {
    "duration": 11,
    "start_time": "2022-05-27T07:00:35.329Z"
   },
   {
    "duration": 31,
    "start_time": "2022-05-27T07:00:35.342Z"
   },
   {
    "duration": 55,
    "start_time": "2022-05-27T07:00:35.375Z"
   },
   {
    "duration": 25,
    "start_time": "2022-05-27T07:00:35.432Z"
   },
   {
    "duration": 13,
    "start_time": "2022-05-27T07:00:35.458Z"
   },
   {
    "duration": 14,
    "start_time": "2022-05-27T07:01:01.762Z"
   },
   {
    "duration": 56,
    "start_time": "2022-05-27T07:01:02.449Z"
   },
   {
    "duration": 31,
    "start_time": "2022-05-27T07:02:20.869Z"
   },
   {
    "duration": 12,
    "start_time": "2022-05-27T07:02:24.754Z"
   },
   {
    "duration": 34,
    "start_time": "2022-05-27T07:02:26.801Z"
   },
   {
    "duration": 10,
    "start_time": "2022-05-27T07:03:10.009Z"
   },
   {
    "duration": 12,
    "start_time": "2022-05-27T07:04:00.949Z"
   },
   {
    "duration": 11,
    "start_time": "2022-05-27T07:04:11.488Z"
   },
   {
    "duration": 12,
    "start_time": "2022-05-27T07:04:22.949Z"
   },
   {
    "duration": 1082,
    "start_time": "2022-05-27T07:04:33.464Z"
   },
   {
    "duration": 393,
    "start_time": "2022-05-27T07:04:34.548Z"
   },
   {
    "duration": 4,
    "start_time": "2022-05-27T07:04:34.943Z"
   },
   {
    "duration": 167,
    "start_time": "2022-05-27T07:04:34.949Z"
   },
   {
    "duration": 48,
    "start_time": "2022-05-27T07:04:35.118Z"
   },
   {
    "duration": 34,
    "start_time": "2022-05-27T07:04:35.168Z"
   },
   {
    "duration": 51,
    "start_time": "2022-05-27T07:04:35.203Z"
   },
   {
    "duration": 376,
    "start_time": "2022-05-27T07:04:35.256Z"
   },
   {
    "duration": 244,
    "start_time": "2022-05-27T07:04:35.633Z"
   },
   {
    "duration": 15,
    "start_time": "2022-05-27T07:04:35.879Z"
   },
   {
    "duration": 121,
    "start_time": "2022-05-27T07:04:35.895Z"
   },
   {
    "duration": 40,
    "start_time": "2022-05-27T07:04:36.023Z"
   },
   {
    "duration": 26,
    "start_time": "2022-05-27T07:04:36.065Z"
   },
   {
    "duration": 57,
    "start_time": "2022-05-27T07:04:36.093Z"
   },
   {
    "duration": 201,
    "start_time": "2022-05-27T07:04:36.152Z"
   },
   {
    "duration": 80,
    "start_time": "2022-05-27T07:04:36.354Z"
   },
   {
    "duration": 29,
    "start_time": "2022-05-27T07:04:36.436Z"
   },
   {
    "duration": 21,
    "start_time": "2022-05-27T07:04:36.467Z"
   },
   {
    "duration": 34,
    "start_time": "2022-05-27T07:04:36.489Z"
   },
   {
    "duration": 18,
    "start_time": "2022-05-27T07:04:36.525Z"
   },
   {
    "duration": 13,
    "start_time": "2022-05-27T07:04:36.544Z"
   },
   {
    "duration": 10,
    "start_time": "2022-05-27T07:04:36.559Z"
   },
   {
    "duration": 14,
    "start_time": "2022-05-27T07:04:36.571Z"
   },
   {
    "duration": 13,
    "start_time": "2022-05-27T07:04:36.586Z"
   },
   {
    "duration": 54,
    "start_time": "2022-05-27T07:04:36.624Z"
   },
   {
    "duration": 10,
    "start_time": "2022-05-27T07:04:36.680Z"
   },
   {
    "duration": 51,
    "start_time": "2022-05-27T07:04:36.692Z"
   },
   {
    "duration": 11,
    "start_time": "2022-05-27T07:04:36.745Z"
   },
   {
    "duration": 29,
    "start_time": "2022-05-27T07:04:36.758Z"
   },
   {
    "duration": 9,
    "start_time": "2022-05-27T07:04:36.789Z"
   },
   {
    "duration": 51,
    "start_time": "2022-05-27T07:04:36.799Z"
   },
   {
    "duration": 25,
    "start_time": "2022-05-27T07:04:36.852Z"
   },
   {
    "duration": 14,
    "start_time": "2022-05-27T07:04:36.878Z"
   },
   {
    "duration": 11,
    "start_time": "2022-05-27T07:05:11.318Z"
   },
   {
    "duration": 1077,
    "start_time": "2022-05-27T07:05:17.079Z"
   },
   {
    "duration": 400,
    "start_time": "2022-05-27T07:05:18.158Z"
   },
   {
    "duration": 5,
    "start_time": "2022-05-27T07:05:18.559Z"
   },
   {
    "duration": 159,
    "start_time": "2022-05-27T07:05:18.566Z"
   },
   {
    "duration": 47,
    "start_time": "2022-05-27T07:05:18.727Z"
   },
   {
    "duration": 48,
    "start_time": "2022-05-27T07:05:18.775Z"
   },
   {
    "duration": 38,
    "start_time": "2022-05-27T07:05:18.824Z"
   },
   {
    "duration": 374,
    "start_time": "2022-05-27T07:05:18.863Z"
   },
   {
    "duration": 243,
    "start_time": "2022-05-27T07:05:19.239Z"
   },
   {
    "duration": 14,
    "start_time": "2022-05-27T07:05:19.486Z"
   },
   {
    "duration": 106,
    "start_time": "2022-05-27T07:05:19.501Z"
   },
   {
    "duration": 44,
    "start_time": "2022-05-27T07:05:19.609Z"
   },
   {
    "duration": 24,
    "start_time": "2022-05-27T07:05:19.654Z"
   },
   {
    "duration": 46,
    "start_time": "2022-05-27T07:05:19.680Z"
   },
   {
    "duration": 199,
    "start_time": "2022-05-27T07:05:19.728Z"
   },
   {
    "duration": 79,
    "start_time": "2022-05-27T07:05:19.929Z"
   },
   {
    "duration": 31,
    "start_time": "2022-05-27T07:05:20.022Z"
   },
   {
    "duration": 23,
    "start_time": "2022-05-27T07:05:20.055Z"
   },
   {
    "duration": 15,
    "start_time": "2022-05-27T07:05:20.080Z"
   },
   {
    "duration": 17,
    "start_time": "2022-05-27T07:05:20.124Z"
   },
   {
    "duration": 12,
    "start_time": "2022-05-27T07:05:20.143Z"
   },
   {
    "duration": 6,
    "start_time": "2022-05-27T07:05:20.157Z"
   },
   {
    "duration": 12,
    "start_time": "2022-05-27T07:05:20.164Z"
   },
   {
    "duration": 13,
    "start_time": "2022-05-27T07:05:20.178Z"
   },
   {
    "duration": 80,
    "start_time": "2022-05-27T07:05:20.192Z"
   },
   {
    "duration": 12,
    "start_time": "2022-05-27T07:05:20.274Z"
   },
   {
    "duration": 54,
    "start_time": "2022-05-27T07:05:20.287Z"
   },
   {
    "duration": 11,
    "start_time": "2022-05-27T07:05:20.343Z"
   },
   {
    "duration": 26,
    "start_time": "2022-05-27T07:05:20.355Z"
   },
   {
    "duration": 10,
    "start_time": "2022-05-27T07:05:20.383Z"
   },
   {
    "duration": 61,
    "start_time": "2022-05-27T07:05:20.394Z"
   },
   {
    "duration": 25,
    "start_time": "2022-05-27T07:05:20.456Z"
   },
   {
    "duration": 13,
    "start_time": "2022-05-27T07:05:20.483Z"
   },
   {
    "duration": 10,
    "start_time": "2022-05-27T07:06:07.615Z"
   },
   {
    "duration": 10,
    "start_time": "2022-05-27T07:06:15.130Z"
   },
   {
    "duration": 1081,
    "start_time": "2022-05-27T07:06:29.968Z"
   },
   {
    "duration": 404,
    "start_time": "2022-05-27T07:06:31.052Z"
   },
   {
    "duration": 4,
    "start_time": "2022-05-27T07:06:31.457Z"
   },
   {
    "duration": 178,
    "start_time": "2022-05-27T07:06:31.462Z"
   },
   {
    "duration": 45,
    "start_time": "2022-05-27T07:06:31.642Z"
   },
   {
    "duration": 46,
    "start_time": "2022-05-27T07:06:31.688Z"
   },
   {
    "duration": 37,
    "start_time": "2022-05-27T07:06:31.735Z"
   },
   {
    "duration": 389,
    "start_time": "2022-05-27T07:06:31.774Z"
   },
   {
    "duration": 230,
    "start_time": "2022-05-27T07:06:32.164Z"
   },
   {
    "duration": 14,
    "start_time": "2022-05-27T07:06:32.396Z"
   },
   {
    "duration": 93,
    "start_time": "2022-05-27T07:06:32.422Z"
   },
   {
    "duration": 46,
    "start_time": "2022-05-27T07:06:32.517Z"
   },
   {
    "duration": 31,
    "start_time": "2022-05-27T07:06:32.566Z"
   },
   {
    "duration": 54,
    "start_time": "2022-05-27T07:06:32.601Z"
   },
   {
    "duration": 243,
    "start_time": "2022-05-27T07:06:32.657Z"
   },
   {
    "duration": 74,
    "start_time": "2022-05-27T07:06:32.901Z"
   },
   {
    "duration": 29,
    "start_time": "2022-05-27T07:06:32.977Z"
   },
   {
    "duration": 21,
    "start_time": "2022-05-27T07:06:33.022Z"
   },
   {
    "duration": 15,
    "start_time": "2022-05-27T07:06:33.045Z"
   },
   {
    "duration": 15,
    "start_time": "2022-05-27T07:06:33.062Z"
   },
   {
    "duration": 22,
    "start_time": "2022-05-27T07:06:33.079Z"
   },
   {
    "duration": 5,
    "start_time": "2022-05-27T07:06:33.123Z"
   },
   {
    "duration": 15,
    "start_time": "2022-05-27T07:06:33.130Z"
   },
   {
    "duration": 18,
    "start_time": "2022-05-27T07:06:33.147Z"
   },
   {
    "duration": 62,
    "start_time": "2022-05-27T07:06:33.166Z"
   },
   {
    "duration": 11,
    "start_time": "2022-05-27T07:06:33.230Z"
   },
   {
    "duration": 34,
    "start_time": "2022-05-27T07:06:33.242Z"
   },
   {
    "duration": 11,
    "start_time": "2022-05-27T07:06:33.277Z"
   },
   {
    "duration": 52,
    "start_time": "2022-05-27T07:06:33.289Z"
   },
   {
    "duration": 11,
    "start_time": "2022-05-27T07:06:33.343Z"
   },
   {
    "duration": 34,
    "start_time": "2022-05-27T07:06:33.355Z"
   },
   {
    "duration": 46,
    "start_time": "2022-05-27T07:06:33.390Z"
   },
   {
    "duration": 13,
    "start_time": "2022-05-27T07:06:33.438Z"
   },
   {
    "duration": 12,
    "start_time": "2022-05-27T07:08:13.224Z"
   },
   {
    "duration": 12,
    "start_time": "2022-05-27T07:08:36.096Z"
   },
   {
    "duration": 1099,
    "start_time": "2022-05-27T07:08:47.470Z"
   },
   {
    "duration": 411,
    "start_time": "2022-05-27T07:08:48.571Z"
   },
   {
    "duration": 4,
    "start_time": "2022-05-27T07:08:48.983Z"
   },
   {
    "duration": 155,
    "start_time": "2022-05-27T07:08:48.989Z"
   },
   {
    "duration": 46,
    "start_time": "2022-05-27T07:08:49.147Z"
   },
   {
    "duration": 46,
    "start_time": "2022-05-27T07:08:49.195Z"
   },
   {
    "duration": 44,
    "start_time": "2022-05-27T07:08:49.243Z"
   },
   {
    "duration": 393,
    "start_time": "2022-05-27T07:08:49.289Z"
   },
   {
    "duration": 239,
    "start_time": "2022-05-27T07:08:49.684Z"
   },
   {
    "duration": 15,
    "start_time": "2022-05-27T07:08:49.925Z"
   },
   {
    "duration": 115,
    "start_time": "2022-05-27T07:08:49.942Z"
   },
   {
    "duration": 39,
    "start_time": "2022-05-27T07:08:50.059Z"
   },
   {
    "duration": 38,
    "start_time": "2022-05-27T07:08:50.100Z"
   },
   {
    "duration": 31,
    "start_time": "2022-05-27T07:08:50.141Z"
   },
   {
    "duration": 206,
    "start_time": "2022-05-27T07:08:50.173Z"
   },
   {
    "duration": 89,
    "start_time": "2022-05-27T07:08:50.381Z"
   },
   {
    "duration": 31,
    "start_time": "2022-05-27T07:08:50.471Z"
   },
   {
    "duration": 36,
    "start_time": "2022-05-27T07:08:50.504Z"
   },
   {
    "duration": 16,
    "start_time": "2022-05-27T07:08:50.542Z"
   },
   {
    "duration": 18,
    "start_time": "2022-05-27T07:08:50.559Z"
   },
   {
    "duration": 47,
    "start_time": "2022-05-27T07:08:50.579Z"
   },
   {
    "duration": 6,
    "start_time": "2022-05-27T07:08:50.628Z"
   },
   {
    "duration": 13,
    "start_time": "2022-05-27T07:08:50.636Z"
   },
   {
    "duration": 15,
    "start_time": "2022-05-27T07:08:50.651Z"
   },
   {
    "duration": 78,
    "start_time": "2022-05-27T07:08:50.668Z"
   },
   {
    "duration": 12,
    "start_time": "2022-05-27T07:08:50.748Z"
   },
   {
    "duration": 30,
    "start_time": "2022-05-27T07:08:50.762Z"
   },
   {
    "duration": 34,
    "start_time": "2022-05-27T07:08:50.794Z"
   },
   {
    "duration": 36,
    "start_time": "2022-05-27T07:08:50.830Z"
   },
   {
    "duration": 11,
    "start_time": "2022-05-27T07:08:50.868Z"
   },
   {
    "duration": 44,
    "start_time": "2022-05-27T07:08:50.880Z"
   },
   {
    "duration": 23,
    "start_time": "2022-05-27T07:08:50.926Z"
   },
   {
    "duration": 13,
    "start_time": "2022-05-27T07:08:50.951Z"
   },
   {
    "duration": 34,
    "start_time": "2022-05-27T07:09:43.369Z"
   },
   {
    "duration": 31,
    "start_time": "2022-05-27T07:09:52.717Z"
   },
   {
    "duration": 15,
    "start_time": "2022-05-27T07:09:57.018Z"
   },
   {
    "duration": 16,
    "start_time": "2022-05-27T07:12:00.355Z"
   },
   {
    "duration": 14,
    "start_time": "2022-05-27T07:12:05.977Z"
   },
   {
    "duration": 14,
    "start_time": "2022-05-27T07:12:19.305Z"
   },
   {
    "duration": 15,
    "start_time": "2022-05-27T07:12:23.393Z"
   },
   {
    "duration": 15,
    "start_time": "2022-05-27T07:12:26.131Z"
   },
   {
    "duration": 13,
    "start_time": "2022-05-27T07:12:30.521Z"
   },
   {
    "duration": 106,
    "start_time": "2022-05-27T07:16:04.765Z"
   },
   {
    "duration": 5,
    "start_time": "2022-05-27T07:16:18.498Z"
   },
   {
    "duration": 14,
    "start_time": "2022-05-27T07:16:36.682Z"
   },
   {
    "duration": 14,
    "start_time": "2022-05-27T07:16:47.849Z"
   },
   {
    "duration": 1104,
    "start_time": "2022-05-27T07:17:00.670Z"
   },
   {
    "duration": 451,
    "start_time": "2022-05-27T07:17:01.776Z"
   },
   {
    "duration": 4,
    "start_time": "2022-05-27T07:17:02.229Z"
   },
   {
    "duration": 173,
    "start_time": "2022-05-27T07:17:02.235Z"
   },
   {
    "duration": 57,
    "start_time": "2022-05-27T07:17:02.411Z"
   },
   {
    "duration": 35,
    "start_time": "2022-05-27T07:17:02.470Z"
   },
   {
    "duration": 48,
    "start_time": "2022-05-27T07:17:02.523Z"
   },
   {
    "duration": 411,
    "start_time": "2022-05-27T07:17:02.573Z"
   },
   {
    "duration": 238,
    "start_time": "2022-05-27T07:17:02.986Z"
   },
   {
    "duration": 14,
    "start_time": "2022-05-27T07:17:03.226Z"
   },
   {
    "duration": 103,
    "start_time": "2022-05-27T07:17:03.241Z"
   },
   {
    "duration": 38,
    "start_time": "2022-05-27T07:17:03.345Z"
   },
   {
    "duration": 41,
    "start_time": "2022-05-27T07:17:03.385Z"
   },
   {
    "duration": 30,
    "start_time": "2022-05-27T07:17:03.429Z"
   },
   {
    "duration": 201,
    "start_time": "2022-05-27T07:17:03.460Z"
   },
   {
    "duration": 77,
    "start_time": "2022-05-27T07:17:03.662Z"
   },
   {
    "duration": 29,
    "start_time": "2022-05-27T07:17:03.740Z"
   },
   {
    "duration": 21,
    "start_time": "2022-05-27T07:17:03.771Z"
   },
   {
    "duration": 36,
    "start_time": "2022-05-27T07:17:03.793Z"
   },
   {
    "duration": 17,
    "start_time": "2022-05-27T07:17:03.830Z"
   },
   {
    "duration": 14,
    "start_time": "2022-05-27T07:17:03.848Z"
   },
   {
    "duration": 7,
    "start_time": "2022-05-27T07:17:03.863Z"
   },
   {
    "duration": 12,
    "start_time": "2022-05-27T07:17:03.872Z"
   },
   {
    "duration": 43,
    "start_time": "2022-05-27T07:17:03.886Z"
   },
   {
    "duration": 60,
    "start_time": "2022-05-27T07:17:03.931Z"
   },
   {
    "duration": 10,
    "start_time": "2022-05-27T07:17:03.993Z"
   },
   {
    "duration": 48,
    "start_time": "2022-05-27T07:17:04.005Z"
   },
   {
    "duration": 12,
    "start_time": "2022-05-27T07:17:04.055Z"
   },
   {
    "duration": 29,
    "start_time": "2022-05-27T07:17:04.069Z"
   },
   {
    "duration": 11,
    "start_time": "2022-05-27T07:17:04.122Z"
   },
   {
    "duration": 35,
    "start_time": "2022-05-27T07:17:04.135Z"
   },
   {
    "duration": 23,
    "start_time": "2022-05-27T07:17:04.171Z"
   },
   {
    "duration": 33,
    "start_time": "2022-05-27T07:17:04.196Z"
   },
   {
    "duration": 9,
    "start_time": "2022-05-27T07:17:04.231Z"
   },
   {
    "duration": 105,
    "start_time": "2022-05-27T07:17:13.559Z"
   },
   {
    "duration": 15,
    "start_time": "2022-05-27T07:17:30.157Z"
   },
   {
    "duration": 23,
    "start_time": "2022-05-27T07:17:47.631Z"
   },
   {
    "duration": 9,
    "start_time": "2022-05-27T07:27:33.164Z"
   },
   {
    "duration": 15,
    "start_time": "2022-05-27T07:27:38.888Z"
   },
   {
    "duration": 6,
    "start_time": "2022-05-27T07:29:02.208Z"
   },
   {
    "duration": 18,
    "start_time": "2022-05-27T07:29:05.981Z"
   },
   {
    "duration": 20,
    "start_time": "2022-05-27T07:29:26.240Z"
   },
   {
    "duration": 1118,
    "start_time": "2022-05-27T07:30:26.315Z"
   },
   {
    "duration": 403,
    "start_time": "2022-05-27T07:30:27.435Z"
   },
   {
    "duration": 5,
    "start_time": "2022-05-27T07:30:27.839Z"
   },
   {
    "duration": 160,
    "start_time": "2022-05-27T07:30:27.847Z"
   },
   {
    "duration": 50,
    "start_time": "2022-05-27T07:30:28.009Z"
   },
   {
    "duration": 34,
    "start_time": "2022-05-27T07:30:28.062Z"
   },
   {
    "duration": 56,
    "start_time": "2022-05-27T07:30:28.098Z"
   },
   {
    "duration": 370,
    "start_time": "2022-05-27T07:30:28.155Z"
   },
   {
    "duration": 262,
    "start_time": "2022-05-27T07:30:28.527Z"
   },
   {
    "duration": 18,
    "start_time": "2022-05-27T07:30:28.792Z"
   },
   {
    "duration": 108,
    "start_time": "2022-05-27T07:30:28.823Z"
   },
   {
    "duration": 47,
    "start_time": "2022-05-27T07:30:28.933Z"
   },
   {
    "duration": 48,
    "start_time": "2022-05-27T07:30:28.982Z"
   },
   {
    "duration": 36,
    "start_time": "2022-05-27T07:30:29.032Z"
   },
   {
    "duration": 229,
    "start_time": "2022-05-27T07:30:29.069Z"
   },
   {
    "duration": 80,
    "start_time": "2022-05-27T07:30:29.300Z"
   },
   {
    "duration": 42,
    "start_time": "2022-05-27T07:30:29.382Z"
   },
   {
    "duration": 22,
    "start_time": "2022-05-27T07:30:29.426Z"
   },
   {
    "duration": 14,
    "start_time": "2022-05-27T07:30:29.450Z"
   },
   {
    "duration": 17,
    "start_time": "2022-05-27T07:30:29.466Z"
   },
   {
    "duration": 46,
    "start_time": "2022-05-27T07:30:29.485Z"
   },
   {
    "duration": 9,
    "start_time": "2022-05-27T07:30:29.533Z"
   },
   {
    "duration": 14,
    "start_time": "2022-05-27T07:30:29.544Z"
   },
   {
    "duration": 13,
    "start_time": "2022-05-27T07:30:29.560Z"
   },
   {
    "duration": 75,
    "start_time": "2022-05-27T07:30:29.575Z"
   },
   {
    "duration": 11,
    "start_time": "2022-05-27T07:30:29.652Z"
   },
   {
    "duration": 37,
    "start_time": "2022-05-27T07:30:29.665Z"
   },
   {
    "duration": 27,
    "start_time": "2022-05-27T07:30:29.704Z"
   },
   {
    "duration": 27,
    "start_time": "2022-05-27T07:30:29.733Z"
   },
   {
    "duration": 10,
    "start_time": "2022-05-27T07:30:29.762Z"
   },
   {
    "duration": 53,
    "start_time": "2022-05-27T07:30:29.774Z"
   },
   {
    "duration": 30,
    "start_time": "2022-05-27T07:30:29.828Z"
   },
   {
    "duration": 13,
    "start_time": "2022-05-27T07:30:29.859Z"
   },
   {
    "duration": 4,
    "start_time": "2022-05-27T07:30:29.873Z"
   },
   {
    "duration": 51,
    "start_time": "2022-05-27T07:30:29.878Z"
   },
   {
    "duration": 16,
    "start_time": "2022-05-27T07:30:29.930Z"
   },
   {
    "duration": 15,
    "start_time": "2022-05-27T07:30:29.948Z"
   },
   {
    "duration": 23,
    "start_time": "2022-05-27T07:30:29.964Z"
   },
   {
    "duration": 13,
    "start_time": "2022-05-27T07:30:36.247Z"
   },
   {
    "duration": 136,
    "start_time": "2022-05-27T07:31:29.754Z"
   },
   {
    "duration": 10,
    "start_time": "2022-05-27T07:32:41.257Z"
   },
   {
    "duration": 7,
    "start_time": "2022-05-27T07:32:59.349Z"
   },
   {
    "duration": 24,
    "start_time": "2022-05-27T07:33:03.049Z"
   },
   {
    "duration": 32,
    "start_time": "2022-05-27T07:34:30.181Z"
   },
   {
    "duration": 37,
    "start_time": "2022-05-27T07:34:43.522Z"
   },
   {
    "duration": 25,
    "start_time": "2022-05-27T07:34:54.569Z"
   },
   {
    "duration": 37,
    "start_time": "2022-05-27T07:35:03.961Z"
   },
   {
    "duration": 1135,
    "start_time": "2022-05-27T07:35:21.083Z"
   },
   {
    "duration": 434,
    "start_time": "2022-05-27T07:35:22.220Z"
   },
   {
    "duration": 5,
    "start_time": "2022-05-27T07:35:22.655Z"
   },
   {
    "duration": 189,
    "start_time": "2022-05-27T07:35:22.662Z"
   },
   {
    "duration": 57,
    "start_time": "2022-05-27T07:35:22.853Z"
   },
   {
    "duration": 47,
    "start_time": "2022-05-27T07:35:22.911Z"
   },
   {
    "duration": 35,
    "start_time": "2022-05-27T07:35:22.960Z"
   },
   {
    "duration": 394,
    "start_time": "2022-05-27T07:35:22.997Z"
   },
   {
    "duration": 253,
    "start_time": "2022-05-27T07:35:23.393Z"
   },
   {
    "duration": 14,
    "start_time": "2022-05-27T07:35:23.649Z"
   },
   {
    "duration": 106,
    "start_time": "2022-05-27T07:35:23.665Z"
   },
   {
    "duration": 54,
    "start_time": "2022-05-27T07:35:23.772Z"
   },
   {
    "duration": 31,
    "start_time": "2022-05-27T07:35:23.827Z"
   },
   {
    "duration": 29,
    "start_time": "2022-05-27T07:35:23.860Z"
   },
   {
    "duration": 232,
    "start_time": "2022-05-27T07:35:23.891Z"
   },
   {
    "duration": 81,
    "start_time": "2022-05-27T07:35:24.125Z"
   },
   {
    "duration": 51,
    "start_time": "2022-05-27T07:35:24.208Z"
   },
   {
    "duration": 21,
    "start_time": "2022-05-27T07:35:24.260Z"
   },
   {
    "duration": 40,
    "start_time": "2022-05-27T07:35:24.283Z"
   },
   {
    "duration": 22,
    "start_time": "2022-05-27T07:35:24.326Z"
   },
   {
    "duration": 13,
    "start_time": "2022-05-27T07:35:24.350Z"
   },
   {
    "duration": 22,
    "start_time": "2022-05-27T07:35:24.364Z"
   },
   {
    "duration": 12,
    "start_time": "2022-05-27T07:35:24.388Z"
   },
   {
    "duration": 39,
    "start_time": "2022-05-27T07:35:24.402Z"
   },
   {
    "duration": 52,
    "start_time": "2022-05-27T07:35:24.443Z"
   },
   {
    "duration": 10,
    "start_time": "2022-05-27T07:35:24.497Z"
   },
   {
    "duration": 39,
    "start_time": "2022-05-27T07:35:24.523Z"
   },
   {
    "duration": 12,
    "start_time": "2022-05-27T07:35:24.565Z"
   },
   {
    "duration": 49,
    "start_time": "2022-05-27T07:35:24.579Z"
   },
   {
    "duration": 13,
    "start_time": "2022-05-27T07:35:24.630Z"
   },
   {
    "duration": 32,
    "start_time": "2022-05-27T07:35:24.644Z"
   },
   {
    "duration": 56,
    "start_time": "2022-05-27T07:35:24.678Z"
   },
   {
    "duration": 14,
    "start_time": "2022-05-27T07:35:24.736Z"
   },
   {
    "duration": 4,
    "start_time": "2022-05-27T07:35:24.752Z"
   },
   {
    "duration": 26,
    "start_time": "2022-05-27T07:35:24.757Z"
   },
   {
    "duration": 14,
    "start_time": "2022-05-27T07:35:24.784Z"
   },
   {
    "duration": 5,
    "start_time": "2022-05-27T07:35:24.824Z"
   },
   {
    "duration": 33,
    "start_time": "2022-05-27T07:35:24.831Z"
   },
   {
    "duration": 132,
    "start_time": "2022-05-27T07:36:46.612Z"
   },
   {
    "duration": 1200,
    "start_time": "2022-05-27T07:37:02.017Z"
   },
   {
    "duration": 434,
    "start_time": "2022-05-27T07:37:03.219Z"
   },
   {
    "duration": 4,
    "start_time": "2022-05-27T07:37:03.655Z"
   },
   {
    "duration": 171,
    "start_time": "2022-05-27T07:37:03.661Z"
   },
   {
    "duration": 50,
    "start_time": "2022-05-27T07:37:03.834Z"
   },
   {
    "duration": 52,
    "start_time": "2022-05-27T07:37:03.886Z"
   },
   {
    "duration": 38,
    "start_time": "2022-05-27T07:37:03.940Z"
   },
   {
    "duration": 388,
    "start_time": "2022-05-27T07:37:03.980Z"
   },
   {
    "duration": 264,
    "start_time": "2022-05-27T07:37:04.369Z"
   },
   {
    "duration": 15,
    "start_time": "2022-05-27T07:37:04.639Z"
   },
   {
    "duration": 112,
    "start_time": "2022-05-27T07:37:04.657Z"
   },
   {
    "duration": 52,
    "start_time": "2022-05-27T07:37:04.771Z"
   },
   {
    "duration": 33,
    "start_time": "2022-05-27T07:37:04.825Z"
   },
   {
    "duration": 36,
    "start_time": "2022-05-27T07:37:04.860Z"
   },
   {
    "duration": 230,
    "start_time": "2022-05-27T07:37:04.898Z"
   },
   {
    "duration": 74,
    "start_time": "2022-05-27T07:37:05.130Z"
   },
   {
    "duration": 51,
    "start_time": "2022-05-27T07:37:05.206Z"
   },
   {
    "duration": 20,
    "start_time": "2022-05-27T07:37:05.259Z"
   },
   {
    "duration": 16,
    "start_time": "2022-05-27T07:37:05.281Z"
   },
   {
    "duration": 23,
    "start_time": "2022-05-27T07:37:05.324Z"
   },
   {
    "duration": 12,
    "start_time": "2022-05-27T07:37:05.349Z"
   },
   {
    "duration": 9,
    "start_time": "2022-05-27T07:37:05.363Z"
   },
   {
    "duration": 12,
    "start_time": "2022-05-27T07:37:05.374Z"
   },
   {
    "duration": 37,
    "start_time": "2022-05-27T07:37:05.387Z"
   },
   {
    "duration": 62,
    "start_time": "2022-05-27T07:37:05.426Z"
   },
   {
    "duration": 12,
    "start_time": "2022-05-27T07:37:05.489Z"
   },
   {
    "duration": 58,
    "start_time": "2022-05-27T07:37:05.502Z"
   },
   {
    "duration": 12,
    "start_time": "2022-05-27T07:37:05.564Z"
   },
   {
    "duration": 49,
    "start_time": "2022-05-27T07:37:05.578Z"
   },
   {
    "duration": 18,
    "start_time": "2022-05-27T07:37:05.628Z"
   },
   {
    "duration": 35,
    "start_time": "2022-05-27T07:37:05.648Z"
   },
   {
    "duration": 50,
    "start_time": "2022-05-27T07:37:05.684Z"
   },
   {
    "duration": 15,
    "start_time": "2022-05-27T07:37:05.736Z"
   },
   {
    "duration": 5,
    "start_time": "2022-05-27T07:37:05.753Z"
   },
   {
    "duration": 24,
    "start_time": "2022-05-27T07:37:05.759Z"
   },
   {
    "duration": 14,
    "start_time": "2022-05-27T07:37:05.784Z"
   },
   {
    "duration": 5,
    "start_time": "2022-05-27T07:37:05.824Z"
   },
   {
    "duration": 32,
    "start_time": "2022-05-27T07:37:05.831Z"
   },
   {
    "duration": 1178,
    "start_time": "2022-05-27T07:40:12.478Z"
   },
   {
    "duration": 428,
    "start_time": "2022-05-27T07:40:13.658Z"
   },
   {
    "duration": 5,
    "start_time": "2022-05-27T07:40:14.087Z"
   },
   {
    "duration": 179,
    "start_time": "2022-05-27T07:40:14.094Z"
   },
   {
    "duration": 64,
    "start_time": "2022-05-27T07:40:14.275Z"
   },
   {
    "duration": 34,
    "start_time": "2022-05-27T07:40:14.341Z"
   },
   {
    "duration": 55,
    "start_time": "2022-05-27T07:40:14.377Z"
   },
   {
    "duration": 384,
    "start_time": "2022-05-27T07:40:14.434Z"
   },
   {
    "duration": 272,
    "start_time": "2022-05-27T07:40:14.819Z"
   },
   {
    "duration": 15,
    "start_time": "2022-05-27T07:40:15.095Z"
   },
   {
    "duration": 113,
    "start_time": "2022-05-27T07:40:15.111Z"
   },
   {
    "duration": 47,
    "start_time": "2022-05-27T07:40:15.226Z"
   },
   {
    "duration": 26,
    "start_time": "2022-05-27T07:40:15.275Z"
   },
   {
    "duration": 57,
    "start_time": "2022-05-27T07:40:15.302Z"
   },
   {
    "duration": 232,
    "start_time": "2022-05-27T07:40:15.361Z"
   },
   {
    "duration": 93,
    "start_time": "2022-05-27T07:40:15.594Z"
   },
   {
    "duration": 45,
    "start_time": "2022-05-27T07:40:15.689Z"
   },
   {
    "duration": 23,
    "start_time": "2022-05-27T07:40:15.736Z"
   },
   {
    "duration": 16,
    "start_time": "2022-05-27T07:40:15.761Z"
   },
   {
    "duration": 44,
    "start_time": "2022-05-27T07:40:15.779Z"
   },
   {
    "duration": 18,
    "start_time": "2022-05-27T07:40:15.825Z"
   },
   {
    "duration": 5,
    "start_time": "2022-05-27T07:40:15.845Z"
   },
   {
    "duration": 16,
    "start_time": "2022-05-27T07:40:15.851Z"
   },
   {
    "duration": 15,
    "start_time": "2022-05-27T07:40:15.869Z"
   },
   {
    "duration": 93,
    "start_time": "2022-05-27T07:40:15.886Z"
   },
   {
    "duration": 13,
    "start_time": "2022-05-27T07:40:15.980Z"
   },
   {
    "duration": 61,
    "start_time": "2022-05-27T07:40:15.995Z"
   },
   {
    "duration": 12,
    "start_time": "2022-05-27T07:40:16.059Z"
   },
   {
    "duration": 33,
    "start_time": "2022-05-27T07:40:16.073Z"
   },
   {
    "duration": 31,
    "start_time": "2022-05-27T07:40:16.107Z"
   },
   {
    "duration": 35,
    "start_time": "2022-05-27T07:40:16.140Z"
   },
   {
    "duration": 25,
    "start_time": "2022-05-27T07:40:16.177Z"
   },
   {
    "duration": 20,
    "start_time": "2022-05-27T07:40:16.223Z"
   },
   {
    "duration": 3,
    "start_time": "2022-05-27T07:40:16.245Z"
   },
   {
    "duration": 27,
    "start_time": "2022-05-27T07:40:16.250Z"
   },
   {
    "duration": 15,
    "start_time": "2022-05-27T07:40:16.279Z"
   },
   {
    "duration": 9,
    "start_time": "2022-05-27T07:40:16.323Z"
   },
   {
    "duration": 28,
    "start_time": "2022-05-27T07:40:16.334Z"
   },
   {
    "duration": 19,
    "start_time": "2022-05-27T07:46:33.602Z"
   },
   {
    "duration": 31,
    "start_time": "2022-05-27T08:04:17.789Z"
   },
   {
    "duration": 4,
    "start_time": "2022-05-27T08:04:28.286Z"
   },
   {
    "duration": 709,
    "start_time": "2022-05-27T08:04:38.316Z"
   },
   {
    "duration": 58,
    "start_time": "2022-05-27T08:04:47.672Z"
   },
   {
    "duration": 60,
    "start_time": "2022-05-27T08:04:53.338Z"
   },
   {
    "duration": 54,
    "start_time": "2022-05-27T08:05:30.738Z"
   },
   {
    "duration": 35,
    "start_time": "2022-05-27T08:08:31.365Z"
   },
   {
    "duration": 27,
    "start_time": "2022-05-27T08:08:44.715Z"
   },
   {
    "duration": 20,
    "start_time": "2022-05-27T08:09:24.632Z"
   },
   {
    "duration": 17,
    "start_time": "2022-05-27T08:09:49.316Z"
   },
   {
    "duration": 18,
    "start_time": "2022-05-27T08:10:17.689Z"
   },
   {
    "duration": 21,
    "start_time": "2022-05-27T08:10:35.470Z"
   },
   {
    "duration": 62,
    "start_time": "2022-05-27T08:10:53.797Z"
   },
   {
    "duration": 45,
    "start_time": "2022-05-27T08:11:21.344Z"
   },
   {
    "duration": 19,
    "start_time": "2022-05-27T08:11:35.926Z"
   },
   {
    "duration": 17,
    "start_time": "2022-05-27T08:12:29.585Z"
   },
   {
    "duration": 17,
    "start_time": "2022-05-27T08:13:01.044Z"
   },
   {
    "duration": 55,
    "start_time": "2022-05-27T08:13:34.376Z"
   },
   {
    "duration": 73,
    "start_time": "2022-05-27T08:15:08.131Z"
   },
   {
    "duration": 18,
    "start_time": "2022-05-27T08:15:16.518Z"
   },
   {
    "duration": 17,
    "start_time": "2022-05-27T08:15:37.248Z"
   },
   {
    "duration": 16,
    "start_time": "2022-05-27T08:15:41.055Z"
   },
   {
    "duration": 24,
    "start_time": "2022-05-27T08:15:48.049Z"
   },
   {
    "duration": 97,
    "start_time": "2022-05-27T08:15:55.753Z"
   },
   {
    "duration": 52,
    "start_time": "2022-05-27T08:15:59.899Z"
   },
   {
    "duration": 20,
    "start_time": "2022-05-27T08:17:06.164Z"
   },
   {
    "duration": 60,
    "start_time": "2022-05-27T08:18:09.892Z"
   },
   {
    "duration": 16,
    "start_time": "2022-05-27T08:18:14.145Z"
   },
   {
    "duration": 15,
    "start_time": "2022-05-27T08:18:29.694Z"
   },
   {
    "duration": 31,
    "start_time": "2022-05-27T08:19:17.612Z"
   },
   {
    "duration": 28,
    "start_time": "2022-05-27T08:19:47.515Z"
   },
   {
    "duration": 17,
    "start_time": "2022-05-27T08:19:51.894Z"
   },
   {
    "duration": 3,
    "start_time": "2022-05-27T08:22:02.963Z"
   },
   {
    "duration": 44,
    "start_time": "2022-05-27T08:22:39.286Z"
   },
   {
    "duration": 18,
    "start_time": "2022-05-27T08:23:00.461Z"
   },
   {
    "duration": 37,
    "start_time": "2022-05-27T08:23:02.952Z"
   },
   {
    "duration": 49,
    "start_time": "2022-05-27T08:23:53.126Z"
   },
   {
    "duration": 1159,
    "start_time": "2022-05-27T08:25:00.928Z"
   },
   {
    "duration": 409,
    "start_time": "2022-05-27T08:25:02.089Z"
   },
   {
    "duration": 4,
    "start_time": "2022-05-27T08:25:02.500Z"
   },
   {
    "duration": 196,
    "start_time": "2022-05-27T08:25:02.506Z"
   },
   {
    "duration": 62,
    "start_time": "2022-05-27T08:25:02.704Z"
   },
   {
    "duration": 39,
    "start_time": "2022-05-27T08:25:02.768Z"
   },
   {
    "duration": 54,
    "start_time": "2022-05-27T08:25:02.809Z"
   },
   {
    "duration": 379,
    "start_time": "2022-05-27T08:25:02.866Z"
   },
   {
    "duration": 239,
    "start_time": "2022-05-27T08:25:03.247Z"
   },
   {
    "duration": 15,
    "start_time": "2022-05-27T08:25:03.488Z"
   },
   {
    "duration": 110,
    "start_time": "2022-05-27T08:25:03.505Z"
   },
   {
    "duration": 47,
    "start_time": "2022-05-27T08:25:03.616Z"
   },
   {
    "duration": 25,
    "start_time": "2022-05-27T08:25:03.664Z"
   },
   {
    "duration": 52,
    "start_time": "2022-05-27T08:25:03.691Z"
   },
   {
    "duration": 197,
    "start_time": "2022-05-27T08:25:03.744Z"
   },
   {
    "duration": 81,
    "start_time": "2022-05-27T08:25:03.942Z"
   },
   {
    "duration": 30,
    "start_time": "2022-05-27T08:25:04.025Z"
   },
   {
    "duration": 21,
    "start_time": "2022-05-27T08:25:04.056Z"
   },
   {
    "duration": 15,
    "start_time": "2022-05-27T08:25:04.079Z"
   },
   {
    "duration": 44,
    "start_time": "2022-05-27T08:25:04.095Z"
   },
   {
    "duration": 13,
    "start_time": "2022-05-27T08:25:04.140Z"
   },
   {
    "duration": 10,
    "start_time": "2022-05-27T08:25:04.154Z"
   },
   {
    "duration": 12,
    "start_time": "2022-05-27T08:25:04.165Z"
   },
   {
    "duration": 15,
    "start_time": "2022-05-27T08:25:04.179Z"
   },
   {
    "duration": 54,
    "start_time": "2022-05-27T08:25:04.224Z"
   },
   {
    "duration": 10,
    "start_time": "2022-05-27T08:25:04.280Z"
   },
   {
    "duration": 50,
    "start_time": "2022-05-27T08:25:04.291Z"
   },
   {
    "duration": 13,
    "start_time": "2022-05-27T08:25:04.342Z"
   },
   {
    "duration": 27,
    "start_time": "2022-05-27T08:25:04.356Z"
   },
   {
    "duration": 10,
    "start_time": "2022-05-27T08:25:04.385Z"
   },
   {
    "duration": 33,
    "start_time": "2022-05-27T08:25:04.423Z"
   },
   {
    "duration": 26,
    "start_time": "2022-05-27T08:25:04.458Z"
   },
   {
    "duration": 39,
    "start_time": "2022-05-27T08:25:04.486Z"
   },
   {
    "duration": 4,
    "start_time": "2022-05-27T08:25:04.527Z"
   },
   {
    "duration": 25,
    "start_time": "2022-05-27T08:25:04.533Z"
   },
   {
    "duration": 14,
    "start_time": "2022-05-27T08:25:04.560Z"
   },
   {
    "duration": 5,
    "start_time": "2022-05-27T08:25:04.576Z"
   },
   {
    "duration": 52,
    "start_time": "2022-05-27T08:25:04.582Z"
   },
   {
    "duration": 112,
    "start_time": "2022-05-27T08:25:04.636Z"
   },
   {
    "duration": 0,
    "start_time": "2022-05-27T08:25:04.750Z"
   },
   {
    "duration": 51,
    "start_time": "2022-05-27T08:25:13.964Z"
   },
   {
    "duration": 20,
    "start_time": "2022-05-27T08:26:04.271Z"
   },
   {
    "duration": 51,
    "start_time": "2022-05-27T08:27:08.970Z"
   },
   {
    "duration": 56,
    "start_time": "2022-05-27T08:29:14.425Z"
   },
   {
    "duration": 58,
    "start_time": "2022-05-27T08:29:31.275Z"
   },
   {
    "duration": 74,
    "start_time": "2022-05-27T08:30:11.031Z"
   },
   {
    "duration": 69,
    "start_time": "2022-05-27T08:30:55.838Z"
   },
   {
    "duration": 62,
    "start_time": "2022-05-27T08:31:09.707Z"
   },
   {
    "duration": 60,
    "start_time": "2022-05-27T08:32:51.804Z"
   },
   {
    "duration": 62,
    "start_time": "2022-05-27T08:33:27.506Z"
   },
   {
    "duration": 59,
    "start_time": "2022-05-27T08:33:41.658Z"
   },
   {
    "duration": 55,
    "start_time": "2022-05-27T08:34:11.361Z"
   },
   {
    "duration": 46,
    "start_time": "2022-05-27T08:34:22.994Z"
   },
   {
    "duration": 52,
    "start_time": "2022-05-27T08:34:28.622Z"
   },
   {
    "duration": 553,
    "start_time": "2022-05-27T08:43:17.992Z"
   },
   {
    "duration": 1164,
    "start_time": "2022-05-27T08:44:00.594Z"
   },
   {
    "duration": 434,
    "start_time": "2022-05-27T08:44:01.760Z"
   },
   {
    "duration": 4,
    "start_time": "2022-05-27T08:44:02.196Z"
   },
   {
    "duration": 171,
    "start_time": "2022-05-27T08:44:02.201Z"
   },
   {
    "duration": 48,
    "start_time": "2022-05-27T08:44:02.375Z"
   },
   {
    "duration": 32,
    "start_time": "2022-05-27T08:44:02.424Z"
   },
   {
    "duration": 36,
    "start_time": "2022-05-27T08:44:02.458Z"
   },
   {
    "duration": 420,
    "start_time": "2022-05-27T08:44:02.496Z"
   },
   {
    "duration": 230,
    "start_time": "2022-05-27T08:44:02.918Z"
   },
   {
    "duration": 14,
    "start_time": "2022-05-27T08:44:03.150Z"
   },
   {
    "duration": 110,
    "start_time": "2022-05-27T08:44:03.166Z"
   },
   {
    "duration": 49,
    "start_time": "2022-05-27T08:44:03.278Z"
   },
   {
    "duration": 25,
    "start_time": "2022-05-27T08:44:03.329Z"
   },
   {
    "duration": 30,
    "start_time": "2022-05-27T08:44:03.357Z"
   },
   {
    "duration": 214,
    "start_time": "2022-05-27T08:44:03.389Z"
   },
   {
    "duration": 77,
    "start_time": "2022-05-27T08:44:03.604Z"
   },
   {
    "duration": 28,
    "start_time": "2022-05-27T08:44:03.683Z"
   },
   {
    "duration": 22,
    "start_time": "2022-05-27T08:44:03.723Z"
   },
   {
    "duration": 18,
    "start_time": "2022-05-27T08:44:03.747Z"
   },
   {
    "duration": 27,
    "start_time": "2022-05-27T08:44:03.766Z"
   },
   {
    "duration": 29,
    "start_time": "2022-05-27T08:44:03.795Z"
   },
   {
    "duration": 31,
    "start_time": "2022-05-27T08:44:03.825Z"
   },
   {
    "duration": 33,
    "start_time": "2022-05-27T08:44:03.858Z"
   },
   {
    "duration": 34,
    "start_time": "2022-05-27T08:44:03.893Z"
   },
   {
    "duration": 67,
    "start_time": "2022-05-27T08:44:03.929Z"
   },
   {
    "duration": 10,
    "start_time": "2022-05-27T08:44:03.998Z"
   },
   {
    "duration": 50,
    "start_time": "2022-05-27T08:44:04.010Z"
   },
   {
    "duration": 12,
    "start_time": "2022-05-27T08:44:04.061Z"
   },
   {
    "duration": 48,
    "start_time": "2022-05-27T08:44:04.075Z"
   },
   {
    "duration": 9,
    "start_time": "2022-05-27T08:44:04.125Z"
   },
   {
    "duration": 52,
    "start_time": "2022-05-27T08:44:04.136Z"
   },
   {
    "duration": 24,
    "start_time": "2022-05-27T08:44:04.190Z"
   },
   {
    "duration": 18,
    "start_time": "2022-05-27T08:44:04.215Z"
   },
   {
    "duration": 22,
    "start_time": "2022-05-27T08:44:04.235Z"
   },
   {
    "duration": 43,
    "start_time": "2022-05-27T08:44:04.259Z"
   },
   {
    "duration": 13,
    "start_time": "2022-05-27T08:44:04.304Z"
   },
   {
    "duration": 14,
    "start_time": "2022-05-27T08:44:04.319Z"
   },
   {
    "duration": 28,
    "start_time": "2022-05-27T08:44:04.335Z"
   },
   {
    "duration": 15,
    "start_time": "2022-05-27T08:44:04.365Z"
   },
   {
    "duration": 39,
    "start_time": "2022-05-27T08:44:19.954Z"
   },
   {
    "duration": 31,
    "start_time": "2022-05-27T08:44:44.358Z"
   },
   {
    "duration": 50,
    "start_time": "2022-05-27T08:50:30.553Z"
   },
   {
    "duration": 51,
    "start_time": "2022-05-27T08:51:38.617Z"
   },
   {
    "duration": 107,
    "start_time": "2022-05-27T08:51:42.153Z"
   },
   {
    "duration": 20,
    "start_time": "2022-05-27T08:52:01.835Z"
   },
   {
    "duration": 166,
    "start_time": "2022-05-27T08:53:09.424Z"
   },
   {
    "duration": 124,
    "start_time": "2022-05-27T08:53:32.360Z"
   },
   {
    "duration": 132,
    "start_time": "2022-05-27T08:53:40.663Z"
   },
   {
    "duration": 150,
    "start_time": "2022-05-27T08:54:15.423Z"
   },
   {
    "duration": 15,
    "start_time": "2022-05-27T08:54:28.129Z"
   },
   {
    "duration": 19,
    "start_time": "2022-05-27T08:55:27.817Z"
   },
   {
    "duration": 145,
    "start_time": "2022-05-27T08:55:50.399Z"
   },
   {
    "duration": 5,
    "start_time": "2022-05-27T08:58:18.114Z"
   },
   {
    "duration": 7,
    "start_time": "2022-05-27T08:58:40.486Z"
   },
   {
    "duration": 23,
    "start_time": "2022-05-27T08:58:43.626Z"
   },
   {
    "duration": 8,
    "start_time": "2022-05-27T08:59:43.459Z"
   },
   {
    "duration": 12,
    "start_time": "2022-05-27T08:59:47.561Z"
   },
   {
    "duration": 25,
    "start_time": "2022-05-27T08:59:56.578Z"
   },
   {
    "duration": 27,
    "start_time": "2022-05-27T09:00:05.873Z"
   },
   {
    "duration": 12,
    "start_time": "2022-05-27T09:01:18.277Z"
   },
   {
    "duration": 10,
    "start_time": "2022-05-27T09:01:23.353Z"
   },
   {
    "duration": 34,
    "start_time": "2022-05-27T09:01:44.522Z"
   },
   {
    "duration": 30,
    "start_time": "2022-05-27T09:01:49.814Z"
   },
   {
    "duration": 1291,
    "start_time": "2022-05-27T09:05:10.366Z"
   },
   {
    "duration": 815,
    "start_time": "2022-05-27T09:05:27.511Z"
   },
   {
    "duration": 12,
    "start_time": "2022-05-27T09:05:52.317Z"
   },
   {
    "duration": 7,
    "start_time": "2022-05-27T09:06:43.530Z"
   },
   {
    "duration": 10,
    "start_time": "2022-05-27T09:07:18.681Z"
   },
   {
    "duration": 799,
    "start_time": "2022-05-27T09:07:25.564Z"
   },
   {
    "duration": 652,
    "start_time": "2022-05-27T09:07:57.111Z"
   },
   {
    "duration": 1068,
    "start_time": "2022-05-27T09:08:25.467Z"
   },
   {
    "duration": 414,
    "start_time": "2022-05-27T09:08:26.537Z"
   },
   {
    "duration": 4,
    "start_time": "2022-05-27T09:08:26.953Z"
   },
   {
    "duration": 158,
    "start_time": "2022-05-27T09:08:26.958Z"
   },
   {
    "duration": 47,
    "start_time": "2022-05-27T09:08:27.118Z"
   },
   {
    "duration": 33,
    "start_time": "2022-05-27T09:08:27.167Z"
   },
   {
    "duration": 57,
    "start_time": "2022-05-27T09:08:27.201Z"
   },
   {
    "duration": 364,
    "start_time": "2022-05-27T09:08:27.260Z"
   },
   {
    "duration": 246,
    "start_time": "2022-05-27T09:08:27.625Z"
   },
   {
    "duration": 15,
    "start_time": "2022-05-27T09:08:27.873Z"
   },
   {
    "duration": 115,
    "start_time": "2022-05-27T09:08:27.890Z"
   },
   {
    "duration": 50,
    "start_time": "2022-05-27T09:08:28.007Z"
   },
   {
    "duration": 25,
    "start_time": "2022-05-27T09:08:28.059Z"
   },
   {
    "duration": 57,
    "start_time": "2022-05-27T09:08:28.088Z"
   },
   {
    "duration": 414,
    "start_time": "2022-05-27T09:08:28.147Z"
   },
   {
    "duration": 171,
    "start_time": "2022-05-27T09:08:28.563Z"
   },
   {
    "duration": 88,
    "start_time": "2022-05-27T09:08:28.735Z"
   },
   {
    "duration": 23,
    "start_time": "2022-05-27T09:08:28.825Z"
   },
   {
    "duration": 17,
    "start_time": "2022-05-27T09:08:28.850Z"
   },
   {
    "duration": 20,
    "start_time": "2022-05-27T09:08:28.924Z"
   },
   {
    "duration": 20,
    "start_time": "2022-05-27T09:08:28.946Z"
   },
   {
    "duration": 73,
    "start_time": "2022-05-27T09:08:28.967Z"
   },
   {
    "duration": 16,
    "start_time": "2022-05-27T09:08:29.041Z"
   },
   {
    "duration": 13,
    "start_time": "2022-05-27T09:08:29.058Z"
   },
   {
    "duration": 97,
    "start_time": "2022-05-27T09:08:29.073Z"
   },
   {
    "duration": 12,
    "start_time": "2022-05-27T09:08:29.224Z"
   },
   {
    "duration": 102,
    "start_time": "2022-05-27T09:08:29.239Z"
   },
   {
    "duration": 17,
    "start_time": "2022-05-27T09:08:29.343Z"
   },
   {
    "duration": 91,
    "start_time": "2022-05-27T09:08:29.362Z"
   },
   {
    "duration": 67,
    "start_time": "2022-05-27T09:08:29.455Z"
   },
   {
    "duration": 42,
    "start_time": "2022-05-27T09:08:29.525Z"
   },
   {
    "duration": 77,
    "start_time": "2022-05-27T09:08:29.569Z"
   },
   {
    "duration": 13,
    "start_time": "2022-05-27T09:08:29.648Z"
   },
   {
    "duration": 4,
    "start_time": "2022-05-27T09:08:29.662Z"
   },
   {
    "duration": 7,
    "start_time": "2022-05-27T09:08:29.723Z"
   },
   {
    "duration": 24,
    "start_time": "2022-05-27T09:08:29.731Z"
   },
   {
    "duration": 68,
    "start_time": "2022-05-27T09:08:29.756Z"
   },
   {
    "duration": 4,
    "start_time": "2022-05-27T09:08:29.825Z"
   },
   {
    "duration": 33,
    "start_time": "2022-05-27T09:08:29.831Z"
   },
   {
    "duration": 79,
    "start_time": "2022-05-27T09:08:29.866Z"
   },
   {
    "duration": 88,
    "start_time": "2022-05-27T09:08:29.948Z"
   },
   {
    "duration": 1036,
    "start_time": "2022-05-27T09:09:49.483Z"
   },
   {
    "duration": 1102,
    "start_time": "2022-05-27T09:10:00.035Z"
   },
   {
    "duration": 409,
    "start_time": "2022-05-27T09:10:01.138Z"
   },
   {
    "duration": 5,
    "start_time": "2022-05-27T09:10:01.548Z"
   },
   {
    "duration": 222,
    "start_time": "2022-05-27T09:10:01.554Z"
   },
   {
    "duration": 57,
    "start_time": "2022-05-27T09:10:01.778Z"
   },
   {
    "duration": 43,
    "start_time": "2022-05-27T09:10:01.837Z"
   },
   {
    "duration": 54,
    "start_time": "2022-05-27T09:10:01.882Z"
   },
   {
    "duration": 403,
    "start_time": "2022-05-27T09:10:01.938Z"
   },
   {
    "duration": 303,
    "start_time": "2022-05-27T09:10:02.343Z"
   },
   {
    "duration": 20,
    "start_time": "2022-05-27T09:10:02.649Z"
   },
   {
    "duration": 133,
    "start_time": "2022-05-27T09:10:02.671Z"
   },
   {
    "duration": 52,
    "start_time": "2022-05-27T09:10:02.807Z"
   },
   {
    "duration": 32,
    "start_time": "2022-05-27T09:10:02.860Z"
   },
   {
    "duration": 55,
    "start_time": "2022-05-27T09:10:02.894Z"
   },
   {
    "duration": 215,
    "start_time": "2022-05-27T09:10:02.951Z"
   },
   {
    "duration": 85,
    "start_time": "2022-05-27T09:10:03.168Z"
   },
   {
    "duration": 31,
    "start_time": "2022-05-27T09:10:03.254Z"
   },
   {
    "duration": 39,
    "start_time": "2022-05-27T09:10:03.287Z"
   },
   {
    "duration": 16,
    "start_time": "2022-05-27T09:10:03.327Z"
   },
   {
    "duration": 20,
    "start_time": "2022-05-27T09:10:03.345Z"
   },
   {
    "duration": 13,
    "start_time": "2022-05-27T09:10:03.366Z"
   },
   {
    "duration": 8,
    "start_time": "2022-05-27T09:10:03.381Z"
   },
   {
    "duration": 42,
    "start_time": "2022-05-27T09:10:03.391Z"
   },
   {
    "duration": 16,
    "start_time": "2022-05-27T09:10:03.435Z"
   },
   {
    "duration": 75,
    "start_time": "2022-05-27T09:10:03.453Z"
   },
   {
    "duration": 11,
    "start_time": "2022-05-27T09:10:03.530Z"
   },
   {
    "duration": 36,
    "start_time": "2022-05-27T09:10:03.543Z"
   },
   {
    "duration": 13,
    "start_time": "2022-05-27T09:10:03.582Z"
   },
   {
    "duration": 56,
    "start_time": "2022-05-27T09:10:03.597Z"
   },
   {
    "duration": 10,
    "start_time": "2022-05-27T09:10:03.655Z"
   },
   {
    "duration": 39,
    "start_time": "2022-05-27T09:10:03.666Z"
   },
   {
    "duration": 45,
    "start_time": "2022-05-27T09:10:03.706Z"
   },
   {
    "duration": 18,
    "start_time": "2022-05-27T09:10:03.753Z"
   },
   {
    "duration": 4,
    "start_time": "2022-05-27T09:10:03.772Z"
   },
   {
    "duration": 8,
    "start_time": "2022-05-27T09:10:03.778Z"
   },
   {
    "duration": 52,
    "start_time": "2022-05-27T09:10:03.787Z"
   },
   {
    "duration": 14,
    "start_time": "2022-05-27T09:10:03.841Z"
   },
   {
    "duration": 15,
    "start_time": "2022-05-27T09:10:03.857Z"
   },
   {
    "duration": 26,
    "start_time": "2022-05-27T09:10:03.874Z"
   },
   {
    "duration": 54,
    "start_time": "2022-05-27T09:10:03.902Z"
   },
   {
    "duration": 35,
    "start_time": "2022-05-27T09:10:03.958Z"
   },
   {
    "duration": 27,
    "start_time": "2022-05-27T09:10:48.260Z"
   },
   {
    "duration": 10,
    "start_time": "2022-05-27T09:11:03.419Z"
   },
   {
    "duration": 10,
    "start_time": "2022-05-27T09:11:08.059Z"
   },
   {
    "duration": 11,
    "start_time": "2022-05-27T09:11:11.544Z"
   },
   {
    "duration": 11,
    "start_time": "2022-05-27T09:11:16.987Z"
   },
   {
    "duration": 11,
    "start_time": "2022-05-27T09:11:22.720Z"
   },
   {
    "duration": 11,
    "start_time": "2022-05-27T09:11:31.410Z"
   },
   {
    "duration": 114,
    "start_time": "2022-05-27T09:11:38.795Z"
   },
   {
    "duration": 28,
    "start_time": "2022-05-27T09:11:40.939Z"
   },
   {
    "duration": 124,
    "start_time": "2022-05-27T09:13:07.460Z"
   },
   {
    "duration": 146,
    "start_time": "2022-05-27T09:13:20.744Z"
   },
   {
    "duration": 145,
    "start_time": "2022-05-27T09:13:25.515Z"
   },
   {
    "duration": 149,
    "start_time": "2022-05-27T09:14:21.663Z"
   },
   {
    "duration": 161,
    "start_time": "2022-05-27T09:14:29.127Z"
   },
   {
    "duration": 49,
    "start_time": "2022-05-27T09:14:36.684Z"
   },
   {
    "duration": 135,
    "start_time": "2022-05-27T09:14:40.287Z"
   },
   {
    "duration": 5,
    "start_time": "2022-05-27T09:15:40.719Z"
   },
   {
    "duration": 4,
    "start_time": "2022-05-27T09:15:59.928Z"
   },
   {
    "duration": 10,
    "start_time": "2022-05-27T09:16:04.235Z"
   },
   {
    "duration": 5,
    "start_time": "2022-05-27T09:16:15.096Z"
   },
   {
    "duration": 4,
    "start_time": "2022-05-27T09:16:35.561Z"
   },
   {
    "duration": 14,
    "start_time": "2022-05-27T09:20:29.438Z"
   },
   {
    "duration": 34,
    "start_time": "2022-05-27T09:26:01.244Z"
   },
   {
    "duration": 30,
    "start_time": "2022-05-27T09:27:12.193Z"
   },
   {
    "duration": 1078,
    "start_time": "2022-05-27T09:27:25.278Z"
   },
   {
    "duration": 413,
    "start_time": "2022-05-27T09:27:26.358Z"
   },
   {
    "duration": 6,
    "start_time": "2022-05-27T09:27:26.772Z"
   },
   {
    "duration": 164,
    "start_time": "2022-05-27T09:27:26.780Z"
   },
   {
    "duration": 51,
    "start_time": "2022-05-27T09:27:26.948Z"
   },
   {
    "duration": 48,
    "start_time": "2022-05-27T09:27:27.001Z"
   },
   {
    "duration": 39,
    "start_time": "2022-05-27T09:27:27.051Z"
   },
   {
    "duration": 378,
    "start_time": "2022-05-27T09:27:27.092Z"
   },
   {
    "duration": 223,
    "start_time": "2022-05-27T09:27:27.472Z"
   },
   {
    "duration": 14,
    "start_time": "2022-05-27T09:27:27.696Z"
   },
   {
    "duration": 85,
    "start_time": "2022-05-27T09:27:27.723Z"
   },
   {
    "duration": 46,
    "start_time": "2022-05-27T09:27:27.810Z"
   },
   {
    "duration": 24,
    "start_time": "2022-05-27T09:27:27.858Z"
   },
   {
    "duration": 50,
    "start_time": "2022-05-27T09:27:27.885Z"
   },
   {
    "duration": 205,
    "start_time": "2022-05-27T09:27:27.937Z"
   },
   {
    "duration": 68,
    "start_time": "2022-05-27T09:27:28.143Z"
   },
   {
    "duration": 39,
    "start_time": "2022-05-27T09:27:28.213Z"
   },
   {
    "duration": 21,
    "start_time": "2022-05-27T09:27:28.254Z"
   },
   {
    "duration": 16,
    "start_time": "2022-05-27T09:27:28.276Z"
   },
   {
    "duration": 41,
    "start_time": "2022-05-27T09:27:28.293Z"
   },
   {
    "duration": 12,
    "start_time": "2022-05-27T09:27:28.335Z"
   },
   {
    "duration": 9,
    "start_time": "2022-05-27T09:27:28.349Z"
   },
   {
    "duration": 13,
    "start_time": "2022-05-27T09:27:28.359Z"
   },
   {
    "duration": 13,
    "start_time": "2022-05-27T09:27:28.374Z"
   },
   {
    "duration": 73,
    "start_time": "2022-05-27T09:27:28.388Z"
   },
   {
    "duration": 10,
    "start_time": "2022-05-27T09:27:28.463Z"
   },
   {
    "duration": 37,
    "start_time": "2022-05-27T09:27:28.474Z"
   },
   {
    "duration": 21,
    "start_time": "2022-05-27T09:27:28.512Z"
   },
   {
    "duration": 30,
    "start_time": "2022-05-27T09:27:28.535Z"
   },
   {
    "duration": 9,
    "start_time": "2022-05-27T09:27:28.567Z"
   },
   {
    "duration": 57,
    "start_time": "2022-05-27T09:27:28.578Z"
   },
   {
    "duration": 23,
    "start_time": "2022-05-27T09:27:28.636Z"
   },
   {
    "duration": 14,
    "start_time": "2022-05-27T09:27:28.660Z"
   },
   {
    "duration": 4,
    "start_time": "2022-05-27T09:27:28.675Z"
   },
   {
    "duration": 8,
    "start_time": "2022-05-27T09:27:28.681Z"
   },
   {
    "duration": 48,
    "start_time": "2022-05-27T09:27:28.691Z"
   },
   {
    "duration": 14,
    "start_time": "2022-05-27T09:27:28.741Z"
   },
   {
    "duration": 8,
    "start_time": "2022-05-27T09:27:28.756Z"
   },
   {
    "duration": 26,
    "start_time": "2022-05-27T09:27:28.765Z"
   },
   {
    "duration": 51,
    "start_time": "2022-05-27T09:27:28.793Z"
   },
   {
    "duration": 14,
    "start_time": "2022-05-27T09:27:28.847Z"
   },
   {
    "duration": 10,
    "start_time": "2022-05-27T09:27:28.862Z"
   },
   {
    "duration": 30,
    "start_time": "2022-05-27T09:27:28.873Z"
   },
   {
    "duration": 21,
    "start_time": "2022-05-27T09:27:42.295Z"
   },
   {
    "duration": 7,
    "start_time": "2022-05-27T09:28:07.310Z"
   },
   {
    "duration": 14,
    "start_time": "2022-05-27T09:28:16.515Z"
   },
   {
    "duration": 20,
    "start_time": "2022-05-27T09:28:33.033Z"
   },
   {
    "duration": 22,
    "start_time": "2022-05-27T09:30:15.331Z"
   },
   {
    "duration": 18,
    "start_time": "2022-05-27T09:30:24.423Z"
   },
   {
    "duration": 21,
    "start_time": "2022-05-27T09:30:36.527Z"
   },
   {
    "duration": 19,
    "start_time": "2022-05-27T09:41:28.212Z"
   },
   {
    "duration": 23,
    "start_time": "2022-05-27T09:52:00.726Z"
   },
   {
    "duration": 228,
    "start_time": "2022-05-27T09:52:11.042Z"
   },
   {
    "duration": 242,
    "start_time": "2022-05-27T09:52:30.942Z"
   },
   {
    "duration": 132,
    "start_time": "2022-05-27T09:52:40.582Z"
   },
   {
    "duration": 184,
    "start_time": "2022-05-27T09:53:02.460Z"
   },
   {
    "duration": 22,
    "start_time": "2022-05-27T09:53:15.225Z"
   },
   {
    "duration": 46,
    "start_time": "2022-05-27T09:56:30.863Z"
   },
   {
    "duration": 660,
    "start_time": "2022-05-27T09:57:19.026Z"
   },
   {
    "duration": 597,
    "start_time": "2022-05-27T09:57:34.846Z"
   },
   {
    "duration": 16,
    "start_time": "2022-05-27T09:57:47.672Z"
   },
   {
    "duration": 12,
    "start_time": "2022-05-27T09:57:55.027Z"
   },
   {
    "duration": 13,
    "start_time": "2022-05-27T09:58:05.234Z"
   },
   {
    "duration": 48,
    "start_time": "2022-05-27T09:58:08.538Z"
   },
   {
    "duration": 9,
    "start_time": "2022-05-27T09:59:55.464Z"
   },
   {
    "duration": 5,
    "start_time": "2022-05-27T10:00:00.378Z"
   },
   {
    "duration": 28,
    "start_time": "2022-05-27T10:01:13.731Z"
   },
   {
    "duration": 34,
    "start_time": "2022-05-27T10:01:34.793Z"
   },
   {
    "duration": 33,
    "start_time": "2022-05-27T10:01:48.141Z"
   },
   {
    "duration": 22,
    "start_time": "2022-05-27T10:02:14.119Z"
   },
   {
    "duration": 464,
    "start_time": "2022-05-27T10:02:17.965Z"
   },
   {
    "duration": 150,
    "start_time": "2022-05-27T10:02:24.430Z"
   },
   {
    "duration": 145,
    "start_time": "2022-05-27T10:02:41.050Z"
   },
   {
    "duration": 137,
    "start_time": "2022-05-27T10:03:30.263Z"
   },
   {
    "duration": 275,
    "start_time": "2022-05-27T10:05:48.720Z"
   },
   {
    "duration": 16,
    "start_time": "2022-05-27T10:06:38.289Z"
   },
   {
    "duration": 22,
    "start_time": "2022-05-27T10:06:47.922Z"
   },
   {
    "duration": 136,
    "start_time": "2022-05-27T10:06:58.872Z"
   },
   {
    "duration": 142,
    "start_time": "2022-05-27T10:07:03.134Z"
   },
   {
    "duration": 139,
    "start_time": "2022-05-27T10:07:06.539Z"
   },
   {
    "duration": 145,
    "start_time": "2022-05-27T10:07:12.750Z"
   },
   {
    "duration": 174,
    "start_time": "2022-05-27T10:07:17.039Z"
   },
   {
    "duration": 169,
    "start_time": "2022-05-27T10:07:28.389Z"
   },
   {
    "duration": 165,
    "start_time": "2022-05-27T10:07:33.118Z"
   },
   {
    "duration": 172,
    "start_time": "2022-05-27T10:07:36.718Z"
   },
   {
    "duration": 143,
    "start_time": "2022-05-27T10:07:45.136Z"
   },
   {
    "duration": 257,
    "start_time": "2022-05-27T10:17:03.943Z"
   },
   {
    "duration": 143,
    "start_time": "2022-05-27T10:17:10.797Z"
   },
   {
    "duration": 23,
    "start_time": "2022-05-27T10:22:26.329Z"
   },
   {
    "duration": 46,
    "start_time": "2022-05-27T10:22:33.806Z"
   },
   {
    "duration": 22,
    "start_time": "2022-05-27T10:23:00.918Z"
   },
   {
    "duration": 142,
    "start_time": "2022-05-27T10:23:49.289Z"
   },
   {
    "duration": 126,
    "start_time": "2022-05-27T10:23:53.488Z"
   },
   {
    "duration": 160,
    "start_time": "2022-05-27T10:24:06.859Z"
   },
   {
    "duration": 142,
    "start_time": "2022-05-27T10:24:23.787Z"
   },
   {
    "duration": 4,
    "start_time": "2022-05-27T10:40:57.485Z"
   },
   {
    "duration": 5,
    "start_time": "2022-05-27T10:41:12.113Z"
   },
   {
    "duration": 6,
    "start_time": "2022-05-27T10:41:24.219Z"
   },
   {
    "duration": 5,
    "start_time": "2022-05-27T10:41:32.039Z"
   },
   {
    "duration": 5,
    "start_time": "2022-05-27T10:42:35.780Z"
   },
   {
    "duration": 3,
    "start_time": "2022-05-27T10:49:56.626Z"
   },
   {
    "duration": 4,
    "start_time": "2022-05-27T10:56:36.629Z"
   },
   {
    "duration": 6,
    "start_time": "2022-05-27T11:01:12.861Z"
   },
   {
    "duration": 11,
    "start_time": "2022-05-27T11:08:22.432Z"
   },
   {
    "duration": 20,
    "start_time": "2022-05-27T11:08:34.965Z"
   },
   {
    "duration": 21,
    "start_time": "2022-05-27T11:08:44.034Z"
   },
   {
    "duration": 11,
    "start_time": "2022-05-27T11:09:00.814Z"
   },
   {
    "duration": 10,
    "start_time": "2022-05-27T11:11:27.065Z"
   },
   {
    "duration": 9,
    "start_time": "2022-05-27T11:14:57.600Z"
   },
   {
    "duration": 9,
    "start_time": "2022-05-27T11:15:16.915Z"
   },
   {
    "duration": 9,
    "start_time": "2022-05-27T11:15:25.008Z"
   },
   {
    "duration": 135,
    "start_time": "2022-05-27T11:19:17.565Z"
   },
   {
    "duration": 164,
    "start_time": "2022-05-27T11:19:31.259Z"
   },
   {
    "duration": 235,
    "start_time": "2022-05-27T11:19:40.986Z"
   },
   {
    "duration": 236,
    "start_time": "2022-05-27T11:20:04.043Z"
   },
   {
    "duration": 239,
    "start_time": "2022-05-27T11:20:07.700Z"
   },
   {
    "duration": 380,
    "start_time": "2022-05-27T11:20:12.025Z"
   },
   {
    "duration": 237,
    "start_time": "2022-05-27T11:21:24.158Z"
   },
   {
    "duration": 238,
    "start_time": "2022-05-27T11:21:27.742Z"
   },
   {
    "duration": 246,
    "start_time": "2022-05-27T11:21:49.186Z"
   },
   {
    "duration": 169,
    "start_time": "2022-05-27T11:22:49.739Z"
   },
   {
    "duration": 228,
    "start_time": "2022-05-27T11:23:23.402Z"
   },
   {
    "duration": 238,
    "start_time": "2022-05-27T11:24:08.256Z"
   },
   {
    "duration": 244,
    "start_time": "2022-05-27T11:24:13.005Z"
   },
   {
    "duration": 237,
    "start_time": "2022-05-27T11:24:53.591Z"
   },
   {
    "duration": 131,
    "start_time": "2022-05-27T11:25:16.818Z"
   },
   {
    "duration": 408,
    "start_time": "2022-05-27T11:25:25.678Z"
   },
   {
    "duration": 161,
    "start_time": "2022-05-27T11:26:08.434Z"
   },
   {
    "duration": 193,
    "start_time": "2022-05-27T11:26:12.931Z"
   },
   {
    "duration": 224,
    "start_time": "2022-05-27T11:26:17.005Z"
   },
   {
    "duration": 223,
    "start_time": "2022-05-27T11:26:48.001Z"
   },
   {
    "duration": 225,
    "start_time": "2022-05-27T11:26:53.152Z"
   },
   {
    "duration": 10,
    "start_time": "2022-05-27T11:27:00.946Z"
   },
   {
    "duration": 10,
    "start_time": "2022-05-27T11:27:07.345Z"
   },
   {
    "duration": 11,
    "start_time": "2022-05-27T11:27:18.030Z"
   },
   {
    "duration": 227,
    "start_time": "2022-05-27T11:30:29.680Z"
   },
   {
    "duration": 14,
    "start_time": "2022-05-27T11:30:47.743Z"
   },
   {
    "duration": 240,
    "start_time": "2022-05-27T11:31:00.654Z"
   },
   {
    "duration": 223,
    "start_time": "2022-05-27T11:32:34.880Z"
   },
   {
    "duration": 225,
    "start_time": "2022-05-27T11:32:46.617Z"
   },
   {
    "duration": 2,
    "start_time": "2022-05-27T11:33:08.721Z"
   },
   {
    "duration": 1187,
    "start_time": "2022-05-27T11:33:18.291Z"
   },
   {
    "duration": 397,
    "start_time": "2022-05-27T11:33:19.480Z"
   },
   {
    "duration": 4,
    "start_time": "2022-05-27T11:33:19.879Z"
   },
   {
    "duration": 166,
    "start_time": "2022-05-27T11:33:19.886Z"
   },
   {
    "duration": 48,
    "start_time": "2022-05-27T11:33:20.053Z"
   },
   {
    "duration": 43,
    "start_time": "2022-05-27T11:33:20.102Z"
   },
   {
    "duration": 38,
    "start_time": "2022-05-27T11:33:20.146Z"
   },
   {
    "duration": 388,
    "start_time": "2022-05-27T11:33:20.185Z"
   },
   {
    "duration": 249,
    "start_time": "2022-05-27T11:33:20.575Z"
   },
   {
    "duration": 15,
    "start_time": "2022-05-27T11:33:20.827Z"
   },
   {
    "duration": 111,
    "start_time": "2022-05-27T11:33:20.844Z"
   },
   {
    "duration": 42,
    "start_time": "2022-05-27T11:33:20.956Z"
   },
   {
    "duration": 41,
    "start_time": "2022-05-27T11:33:21.000Z"
   },
   {
    "duration": 37,
    "start_time": "2022-05-27T11:33:21.043Z"
   },
   {
    "duration": 220,
    "start_time": "2022-05-27T11:33:21.082Z"
   },
   {
    "duration": 87,
    "start_time": "2022-05-27T11:33:21.303Z"
   },
   {
    "duration": 46,
    "start_time": "2022-05-27T11:33:21.392Z"
   },
   {
    "duration": 22,
    "start_time": "2022-05-27T11:33:21.439Z"
   },
   {
    "duration": 16,
    "start_time": "2022-05-27T11:33:21.463Z"
   },
   {
    "duration": 44,
    "start_time": "2022-05-27T11:33:21.480Z"
   },
   {
    "duration": 16,
    "start_time": "2022-05-27T11:33:21.526Z"
   },
   {
    "duration": 8,
    "start_time": "2022-05-27T11:33:21.544Z"
   },
   {
    "duration": 18,
    "start_time": "2022-05-27T11:33:21.554Z"
   },
   {
    "duration": 16,
    "start_time": "2022-05-27T11:33:21.574Z"
   },
   {
    "duration": 79,
    "start_time": "2022-05-27T11:33:21.592Z"
   },
   {
    "duration": 13,
    "start_time": "2022-05-27T11:33:21.672Z"
   },
   {
    "duration": 56,
    "start_time": "2022-05-27T11:33:21.686Z"
   },
   {
    "duration": 12,
    "start_time": "2022-05-27T11:33:21.747Z"
   },
   {
    "duration": 35,
    "start_time": "2022-05-27T11:33:21.760Z"
   },
   {
    "duration": 30,
    "start_time": "2022-05-27T11:33:21.796Z"
   },
   {
    "duration": 40,
    "start_time": "2022-05-27T11:33:21.828Z"
   },
   {
    "duration": 27,
    "start_time": "2022-05-27T11:33:21.870Z"
   },
   {
    "duration": 32,
    "start_time": "2022-05-27T11:33:21.899Z"
   },
   {
    "duration": 5,
    "start_time": "2022-05-27T11:33:21.932Z"
   },
   {
    "duration": 13,
    "start_time": "2022-05-27T11:33:21.939Z"
   },
   {
    "duration": 36,
    "start_time": "2022-05-27T11:33:21.954Z"
   },
   {
    "duration": 31,
    "start_time": "2022-05-27T11:33:21.992Z"
   },
   {
    "duration": 4,
    "start_time": "2022-05-27T11:33:22.025Z"
   },
   {
    "duration": 28,
    "start_time": "2022-05-27T11:33:22.031Z"
   },
   {
    "duration": 33,
    "start_time": "2022-05-27T11:33:22.060Z"
   },
   {
    "duration": 45,
    "start_time": "2022-05-27T11:33:22.094Z"
   },
   {
    "duration": 8,
    "start_time": "2022-05-27T11:33:22.141Z"
   },
   {
    "duration": 23,
    "start_time": "2022-05-27T11:33:22.150Z"
   },
   {
    "duration": 66,
    "start_time": "2022-05-27T11:33:22.175Z"
   },
   {
    "duration": 150,
    "start_time": "2022-05-27T11:33:22.243Z"
   },
   {
    "duration": 174,
    "start_time": "2022-05-27T11:33:22.395Z"
   },
   {
    "duration": 198,
    "start_time": "2022-05-27T11:33:22.571Z"
   },
   {
    "duration": 6,
    "start_time": "2022-05-27T11:33:22.771Z"
   },
   {
    "duration": 27,
    "start_time": "2022-05-27T11:33:22.778Z"
   },
   {
    "duration": 60,
    "start_time": "2022-05-27T11:33:22.807Z"
   },
   {
    "duration": 170,
    "start_time": "2022-05-27T11:33:22.868Z"
   },
   {
    "duration": 152,
    "start_time": "2022-05-27T11:33:23.040Z"
   },
   {
    "duration": 157,
    "start_time": "2022-05-27T11:33:23.194Z"
   },
   {
    "duration": 5,
    "start_time": "2022-05-27T11:33:23.353Z"
   },
   {
    "duration": 7,
    "start_time": "2022-05-27T11:33:23.359Z"
   },
   {
    "duration": 10,
    "start_time": "2022-05-27T11:33:23.368Z"
   },
   {
    "duration": 370,
    "start_time": "2022-05-27T11:33:23.380Z"
   },
   {
    "duration": 272,
    "start_time": "2022-05-27T11:33:34.355Z"
   },
   {
    "duration": 363,
    "start_time": "2022-05-27T11:33:42.423Z"
   },
   {
    "duration": 108,
    "start_time": "2022-05-27T11:34:06.607Z"
   },
   {
    "duration": 383,
    "start_time": "2022-05-27T11:34:12.472Z"
   },
   {
    "duration": 278,
    "start_time": "2022-05-27T11:35:18.273Z"
   },
   {
    "duration": 231,
    "start_time": "2022-05-27T11:43:43.141Z"
   },
   {
    "duration": 232,
    "start_time": "2022-05-27T11:44:36.448Z"
   },
   {
    "duration": 399,
    "start_time": "2022-05-27T11:48:05.152Z"
   },
   {
    "duration": 281,
    "start_time": "2022-05-27T11:48:24.137Z"
   },
   {
    "duration": 138,
    "start_time": "2022-05-27T11:48:49.850Z"
   },
   {
    "duration": 300,
    "start_time": "2022-05-27T11:48:58.890Z"
   },
   {
    "duration": 320,
    "start_time": "2022-05-27T11:49:20.220Z"
   },
   {
    "duration": 302,
    "start_time": "2022-05-27T11:49:51.836Z"
   },
   {
    "duration": 340,
    "start_time": "2022-05-27T11:49:57.908Z"
   },
   {
    "duration": 507,
    "start_time": "2022-05-27T11:51:39.276Z"
   },
   {
    "duration": 305,
    "start_time": "2022-05-27T11:51:43.849Z"
   },
   {
    "duration": 300,
    "start_time": "2022-05-27T11:51:50.537Z"
   },
   {
    "duration": 307,
    "start_time": "2022-05-27T11:52:05.896Z"
   },
   {
    "duration": 284,
    "start_time": "2022-05-27T11:52:18.338Z"
   },
   {
    "duration": 288,
    "start_time": "2022-05-27T11:52:26.077Z"
   },
   {
    "duration": 455,
    "start_time": "2022-05-27T11:52:31.785Z"
   },
   {
    "duration": 274,
    "start_time": "2022-05-27T11:52:36.994Z"
   },
   {
    "duration": 37,
    "start_time": "2022-05-27T11:53:51.142Z"
   },
   {
    "duration": 398,
    "start_time": "2022-05-27T11:53:56.213Z"
   },
   {
    "duration": 258,
    "start_time": "2022-05-27T11:54:14.538Z"
   },
   {
    "duration": 297,
    "start_time": "2022-05-27T11:54:23.544Z"
   },
   {
    "duration": 269,
    "start_time": "2022-05-27T11:54:38.371Z"
   },
   {
    "duration": 257,
    "start_time": "2022-05-27T11:54:47.380Z"
   },
   {
    "duration": 582,
    "start_time": "2022-05-27T11:54:51.080Z"
   },
   {
    "duration": 486,
    "start_time": "2022-05-27T11:55:01.718Z"
   },
   {
    "duration": 476,
    "start_time": "2022-05-27T11:55:12.489Z"
   },
   {
    "duration": 299,
    "start_time": "2022-05-27T11:55:34.198Z"
   },
   {
    "duration": 310,
    "start_time": "2022-05-27T11:55:40.027Z"
   },
   {
    "duration": 425,
    "start_time": "2022-05-27T11:55:47.040Z"
   },
   {
    "duration": 284,
    "start_time": "2022-05-27T11:55:56.561Z"
   },
   {
    "duration": 331,
    "start_time": "2022-05-27T11:58:50.706Z"
   },
   {
    "duration": 395,
    "start_time": "2022-05-27T11:58:58.442Z"
   },
   {
    "duration": 346,
    "start_time": "2022-05-27T11:59:04.746Z"
   },
   {
    "duration": 399,
    "start_time": "2022-05-27T12:01:13.240Z"
   },
   {
    "duration": 340,
    "start_time": "2022-05-27T12:01:36.771Z"
   },
   {
    "duration": 501,
    "start_time": "2022-05-27T12:01:58.238Z"
   },
   {
    "duration": 287,
    "start_time": "2022-05-27T12:02:21.710Z"
   },
   {
    "duration": 315,
    "start_time": "2022-05-27T12:02:48.642Z"
   },
   {
    "duration": 339,
    "start_time": "2022-05-27T12:03:14.638Z"
   },
   {
    "duration": 307,
    "start_time": "2022-05-27T12:03:34.795Z"
   },
   {
    "duration": 10,
    "start_time": "2022-05-27T12:07:03.816Z"
   },
   {
    "duration": 4,
    "start_time": "2022-05-27T12:07:20.048Z"
   },
   {
    "duration": 5,
    "start_time": "2022-05-27T12:07:37.274Z"
   },
   {
    "duration": 1192,
    "start_time": "2022-05-27T12:19:10.582Z"
   },
   {
    "duration": 466,
    "start_time": "2022-05-27T12:19:11.776Z"
   },
   {
    "duration": 4,
    "start_time": "2022-05-27T12:19:12.244Z"
   },
   {
    "duration": 163,
    "start_time": "2022-05-27T12:19:12.251Z"
   },
   {
    "duration": 59,
    "start_time": "2022-05-27T12:19:12.416Z"
   },
   {
    "duration": 61,
    "start_time": "2022-05-27T12:19:12.477Z"
   },
   {
    "duration": 48,
    "start_time": "2022-05-27T12:19:12.540Z"
   },
   {
    "duration": 465,
    "start_time": "2022-05-27T12:19:12.591Z"
   },
   {
    "duration": 251,
    "start_time": "2022-05-27T12:19:13.058Z"
   },
   {
    "duration": 26,
    "start_time": "2022-05-27T12:19:13.312Z"
   },
   {
    "duration": 110,
    "start_time": "2022-05-27T12:19:13.340Z"
   },
   {
    "duration": 41,
    "start_time": "2022-05-27T12:19:13.452Z"
   },
   {
    "duration": 47,
    "start_time": "2022-05-27T12:19:13.494Z"
   },
   {
    "duration": 31,
    "start_time": "2022-05-27T12:19:13.543Z"
   },
   {
    "duration": 238,
    "start_time": "2022-05-27T12:19:13.576Z"
   },
   {
    "duration": 94,
    "start_time": "2022-05-27T12:19:13.815Z"
   },
   {
    "duration": 46,
    "start_time": "2022-05-27T12:19:13.910Z"
   },
   {
    "duration": 26,
    "start_time": "2022-05-27T12:19:13.958Z"
   },
   {
    "duration": 54,
    "start_time": "2022-05-27T12:19:13.985Z"
   },
   {
    "duration": 33,
    "start_time": "2022-05-27T12:19:14.040Z"
   },
   {
    "duration": 15,
    "start_time": "2022-05-27T12:19:14.075Z"
   },
   {
    "duration": 14,
    "start_time": "2022-05-27T12:19:14.092Z"
   },
   {
    "duration": 26,
    "start_time": "2022-05-27T12:19:14.108Z"
   },
   {
    "duration": 27,
    "start_time": "2022-05-27T12:19:14.135Z"
   },
   {
    "duration": 65,
    "start_time": "2022-05-27T12:19:14.164Z"
   },
   {
    "duration": 16,
    "start_time": "2022-05-27T12:19:14.230Z"
   },
   {
    "duration": 49,
    "start_time": "2022-05-27T12:19:14.248Z"
   },
   {
    "duration": 32,
    "start_time": "2022-05-27T12:19:14.300Z"
   },
   {
    "duration": 30,
    "start_time": "2022-05-27T12:19:14.336Z"
   },
   {
    "duration": 9,
    "start_time": "2022-05-27T12:19:14.368Z"
   },
   {
    "duration": 49,
    "start_time": "2022-05-27T12:19:14.379Z"
   },
   {
    "duration": 28,
    "start_time": "2022-05-27T12:19:14.435Z"
   },
   {
    "duration": 15,
    "start_time": "2022-05-27T12:19:14.464Z"
   },
   {
    "duration": 5,
    "start_time": "2022-05-27T12:19:14.480Z"
   },
   {
    "duration": 7,
    "start_time": "2022-05-27T12:19:14.486Z"
   },
   {
    "duration": 44,
    "start_time": "2022-05-27T12:19:14.494Z"
   },
   {
    "duration": 14,
    "start_time": "2022-05-27T12:19:14.540Z"
   },
   {
    "duration": 6,
    "start_time": "2022-05-27T12:19:14.555Z"
   },
   {
    "duration": 24,
    "start_time": "2022-05-27T12:19:14.563Z"
   },
   {
    "duration": 52,
    "start_time": "2022-05-27T12:19:14.588Z"
   },
   {
    "duration": 18,
    "start_time": "2022-05-27T12:19:14.642Z"
   },
   {
    "duration": 8,
    "start_time": "2022-05-27T12:19:14.662Z"
   },
   {
    "duration": 24,
    "start_time": "2022-05-27T12:19:14.671Z"
   },
   {
    "duration": 64,
    "start_time": "2022-05-27T12:19:14.697Z"
   },
   {
    "duration": 173,
    "start_time": "2022-05-27T12:19:14.762Z"
   },
   {
    "duration": 175,
    "start_time": "2022-05-27T12:19:14.938Z"
   },
   {
    "duration": 157,
    "start_time": "2022-05-27T12:19:15.116Z"
   },
   {
    "duration": 4,
    "start_time": "2022-05-27T12:19:15.275Z"
   },
   {
    "duration": 24,
    "start_time": "2022-05-27T12:19:15.281Z"
   },
   {
    "duration": 61,
    "start_time": "2022-05-27T12:19:15.306Z"
   },
   {
    "duration": 149,
    "start_time": "2022-05-27T12:19:15.368Z"
   },
   {
    "duration": 159,
    "start_time": "2022-05-27T12:19:15.523Z"
   },
   {
    "duration": 166,
    "start_time": "2022-05-27T12:19:15.683Z"
   },
   {
    "duration": 5,
    "start_time": "2022-05-27T12:19:15.851Z"
   },
   {
    "duration": 7,
    "start_time": "2022-05-27T12:19:15.857Z"
   },
   {
    "duration": 11,
    "start_time": "2022-05-27T12:19:15.865Z"
   },
   {
    "duration": 4,
    "start_time": "2022-05-27T12:19:15.878Z"
   },
   {
    "duration": 484,
    "start_time": "2022-05-27T12:19:15.884Z"
   },
   {
    "duration": 297,
    "start_time": "2022-05-27T12:19:16.369Z"
   },
   {
    "duration": 322,
    "start_time": "2022-05-27T12:19:16.668Z"
   },
   {
    "duration": 2119,
    "start_time": "2022-05-27T16:31:50.255Z"
   },
   {
    "duration": 1248,
    "start_time": "2022-05-27T16:32:12.107Z"
   },
   {
    "duration": 518,
    "start_time": "2022-05-27T16:32:13.366Z"
   },
   {
    "duration": 8,
    "start_time": "2022-05-27T16:32:13.890Z"
   },
   {
    "duration": 206,
    "start_time": "2022-05-27T16:32:13.901Z"
   },
   {
    "duration": 78,
    "start_time": "2022-05-27T16:32:14.109Z"
   },
   {
    "duration": 42,
    "start_time": "2022-05-27T16:32:14.191Z"
   },
   {
    "duration": 46,
    "start_time": "2022-05-27T16:32:14.235Z"
   },
   {
    "duration": 418,
    "start_time": "2022-05-27T16:32:14.283Z"
   },
   {
    "duration": 331,
    "start_time": "2022-05-27T16:32:14.704Z"
   },
   {
    "duration": 26,
    "start_time": "2022-05-27T16:32:15.039Z"
   },
   {
    "duration": 134,
    "start_time": "2022-05-27T16:32:15.066Z"
   },
   {
    "duration": 46,
    "start_time": "2022-05-27T16:32:15.201Z"
   },
   {
    "duration": 40,
    "start_time": "2022-05-27T16:32:15.248Z"
   },
   {
    "duration": 48,
    "start_time": "2022-05-27T16:32:15.300Z"
   },
   {
    "duration": 261,
    "start_time": "2022-05-27T16:32:15.351Z"
   },
   {
    "duration": 134,
    "start_time": "2022-05-27T16:32:15.615Z"
   },
   {
    "duration": 49,
    "start_time": "2022-05-27T16:32:15.758Z"
   },
   {
    "duration": 41,
    "start_time": "2022-05-27T16:32:15.810Z"
   },
   {
    "duration": 35,
    "start_time": "2022-05-27T16:32:15.858Z"
   },
   {
    "duration": 30,
    "start_time": "2022-05-27T16:32:15.896Z"
   },
   {
    "duration": 63,
    "start_time": "2022-05-27T16:32:15.940Z"
   },
   {
    "duration": 11,
    "start_time": "2022-05-27T16:32:16.005Z"
   },
   {
    "duration": 27,
    "start_time": "2022-05-27T16:32:16.018Z"
   },
   {
    "duration": 57,
    "start_time": "2022-05-27T16:32:16.046Z"
   },
   {
    "duration": 69,
    "start_time": "2022-05-27T16:32:16.105Z"
   },
   {
    "duration": 14,
    "start_time": "2022-05-27T16:32:16.175Z"
   },
   {
    "duration": 53,
    "start_time": "2022-05-27T16:32:16.195Z"
   },
   {
    "duration": 24,
    "start_time": "2022-05-27T16:32:16.254Z"
   },
   {
    "duration": 42,
    "start_time": "2022-05-27T16:32:16.279Z"
   },
   {
    "duration": 11,
    "start_time": "2022-05-27T16:32:16.323Z"
   },
   {
    "duration": 100,
    "start_time": "2022-05-27T16:32:16.335Z"
   },
   {
    "duration": 76,
    "start_time": "2022-05-27T16:32:16.439Z"
   },
   {
    "duration": 36,
    "start_time": "2022-05-27T16:32:16.520Z"
   },
   {
    "duration": 38,
    "start_time": "2022-05-27T16:32:16.565Z"
   },
   {
    "duration": 20,
    "start_time": "2022-05-27T16:32:16.606Z"
   },
   {
    "duration": 94,
    "start_time": "2022-05-27T16:32:16.627Z"
   },
   {
    "duration": 35,
    "start_time": "2022-05-27T16:32:16.723Z"
   },
   {
    "duration": 39,
    "start_time": "2022-05-27T16:32:16.760Z"
   },
   {
    "duration": 73,
    "start_time": "2022-05-27T16:32:16.802Z"
   },
   {
    "duration": 85,
    "start_time": "2022-05-27T16:32:16.878Z"
   },
   {
    "duration": 23,
    "start_time": "2022-05-27T16:32:16.968Z"
   },
   {
    "duration": 8,
    "start_time": "2022-05-27T16:32:16.993Z"
   },
   {
    "duration": 28,
    "start_time": "2022-05-27T16:32:17.003Z"
   },
   {
    "duration": 118,
    "start_time": "2022-05-27T16:32:17.033Z"
   },
   {
    "duration": 223,
    "start_time": "2022-05-27T16:32:17.153Z"
   },
   {
    "duration": 219,
    "start_time": "2022-05-27T16:32:17.382Z"
   },
   {
    "duration": 173,
    "start_time": "2022-05-27T16:32:17.603Z"
   },
   {
    "duration": 6,
    "start_time": "2022-05-27T16:32:17.778Z"
   },
   {
    "duration": 26,
    "start_time": "2022-05-27T16:32:17.787Z"
   },
   {
    "duration": 119,
    "start_time": "2022-05-27T16:32:17.815Z"
   },
   {
    "duration": 180,
    "start_time": "2022-05-27T16:32:17.936Z"
   },
   {
    "duration": 185,
    "start_time": "2022-05-27T16:32:18.118Z"
   },
   {
    "duration": 182,
    "start_time": "2022-05-27T16:32:18.304Z"
   },
   {
    "duration": 6,
    "start_time": "2022-05-27T16:32:18.488Z"
   },
   {
    "duration": 8,
    "start_time": "2022-05-27T16:32:18.496Z"
   },
   {
    "duration": 0,
    "start_time": "2022-05-27T16:32:18.506Z"
   },
   {
    "duration": 0,
    "start_time": "2022-05-27T16:32:18.507Z"
   },
   {
    "duration": 0,
    "start_time": "2022-05-27T16:32:18.508Z"
   },
   {
    "duration": 0,
    "start_time": "2022-05-27T16:32:18.509Z"
   },
   {
    "duration": 0,
    "start_time": "2022-05-27T16:32:18.527Z"
   },
   {
    "duration": 0,
    "start_time": "2022-05-27T16:32:18.528Z"
   },
   {
    "duration": 0,
    "start_time": "2022-05-27T16:32:18.531Z"
   },
   {
    "duration": 1049,
    "start_time": "2022-05-27T16:32:37.218Z"
   },
   {
    "duration": 465,
    "start_time": "2022-05-27T16:33:05.860Z"
   },
   {
    "duration": 6,
    "start_time": "2022-05-27T16:39:20.718Z"
   },
   {
    "duration": 58,
    "start_time": "2022-05-27T16:39:20.727Z"
   },
   {
    "duration": 16,
    "start_time": "2022-05-27T16:39:20.787Z"
   },
   {
    "duration": 6,
    "start_time": "2022-05-27T16:39:20.804Z"
   },
   {
    "duration": 366,
    "start_time": "2022-05-27T16:39:21.468Z"
   },
   {
    "duration": 290,
    "start_time": "2022-05-27T16:39:21.836Z"
   },
   {
    "duration": 338,
    "start_time": "2022-05-27T16:39:22.130Z"
   },
   {
    "duration": 59,
    "start_time": "2022-05-28T11:17:03.211Z"
   },
   {
    "duration": 1276,
    "start_time": "2022-05-28T11:17:10.014Z"
   },
   {
    "duration": 1625,
    "start_time": "2022-05-28T11:17:11.292Z"
   },
   {
    "duration": 5,
    "start_time": "2022-05-28T11:17:12.919Z"
   },
   {
    "duration": 165,
    "start_time": "2022-05-28T11:17:12.926Z"
   },
   {
    "duration": 44,
    "start_time": "2022-05-28T11:17:13.093Z"
   },
   {
    "duration": 52,
    "start_time": "2022-05-28T11:17:13.139Z"
   },
   {
    "duration": 35,
    "start_time": "2022-05-28T11:17:13.193Z"
   },
   {
    "duration": 394,
    "start_time": "2022-05-28T11:17:13.230Z"
   },
   {
    "duration": 276,
    "start_time": "2022-05-28T11:17:13.626Z"
   },
   {
    "duration": 14,
    "start_time": "2022-05-28T11:17:13.904Z"
   },
   {
    "duration": 138,
    "start_time": "2022-05-28T11:17:13.920Z"
   },
   {
    "duration": 72,
    "start_time": "2022-05-28T11:17:14.063Z"
   },
   {
    "duration": 44,
    "start_time": "2022-05-28T11:17:14.137Z"
   },
   {
    "duration": 44,
    "start_time": "2022-05-28T11:17:14.184Z"
   },
   {
    "duration": 232,
    "start_time": "2022-05-28T11:17:14.230Z"
   },
   {
    "duration": 77,
    "start_time": "2022-05-28T11:17:14.466Z"
   },
   {
    "duration": 51,
    "start_time": "2022-05-28T11:17:14.545Z"
   },
   {
    "duration": 22,
    "start_time": "2022-05-28T11:17:14.598Z"
   },
   {
    "duration": 17,
    "start_time": "2022-05-28T11:17:14.621Z"
   },
   {
    "duration": 19,
    "start_time": "2022-05-28T11:17:14.667Z"
   },
   {
    "duration": 21,
    "start_time": "2022-05-28T11:17:14.689Z"
   },
   {
    "duration": 8,
    "start_time": "2022-05-28T11:17:14.712Z"
   },
   {
    "duration": 14,
    "start_time": "2022-05-28T11:17:14.722Z"
   },
   {
    "duration": 62,
    "start_time": "2022-05-28T11:17:14.738Z"
   },
   {
    "duration": 51,
    "start_time": "2022-05-28T11:17:14.801Z"
   },
   {
    "duration": 16,
    "start_time": "2022-05-28T11:17:14.854Z"
   },
   {
    "duration": 55,
    "start_time": "2022-05-28T11:17:14.872Z"
   },
   {
    "duration": 13,
    "start_time": "2022-05-28T11:17:14.929Z"
   },
   {
    "duration": 40,
    "start_time": "2022-05-28T11:17:14.944Z"
   },
   {
    "duration": 10,
    "start_time": "2022-05-28T11:17:14.985Z"
   },
   {
    "duration": 71,
    "start_time": "2022-05-28T11:17:14.997Z"
   },
   {
    "duration": 38,
    "start_time": "2022-05-28T11:17:15.073Z"
   },
   {
    "duration": 13,
    "start_time": "2022-05-28T11:17:15.112Z"
   },
   {
    "duration": 8,
    "start_time": "2022-05-28T11:17:15.127Z"
   },
   {
    "duration": 24,
    "start_time": "2022-05-28T11:17:15.137Z"
   },
   {
    "duration": 52,
    "start_time": "2022-05-28T11:17:15.164Z"
   },
   {
    "duration": 14,
    "start_time": "2022-05-28T11:17:15.217Z"
   },
   {
    "duration": 10,
    "start_time": "2022-05-28T11:17:15.233Z"
   },
   {
    "duration": 35,
    "start_time": "2022-05-28T11:17:15.245Z"
   },
   {
    "duration": 30,
    "start_time": "2022-05-28T11:17:15.281Z"
   },
   {
    "duration": 19,
    "start_time": "2022-05-28T11:17:15.315Z"
   },
   {
    "duration": 27,
    "start_time": "2022-05-28T11:17:15.336Z"
   },
   {
    "duration": 32,
    "start_time": "2022-05-28T11:17:15.366Z"
   },
   {
    "duration": 46,
    "start_time": "2022-05-28T11:17:15.400Z"
   },
   {
    "duration": 165,
    "start_time": "2022-05-28T11:17:15.447Z"
   },
   {
    "duration": 194,
    "start_time": "2022-05-28T11:17:15.614Z"
   },
   {
    "duration": 164,
    "start_time": "2022-05-28T11:17:15.810Z"
   },
   {
    "duration": 5,
    "start_time": "2022-05-28T11:17:15.976Z"
   },
   {
    "duration": 23,
    "start_time": "2022-05-28T11:17:15.983Z"
   },
   {
    "duration": 80,
    "start_time": "2022-05-28T11:17:16.008Z"
   },
   {
    "duration": 148,
    "start_time": "2022-05-28T11:17:16.090Z"
   },
   {
    "duration": 174,
    "start_time": "2022-05-28T11:17:16.239Z"
   },
   {
    "duration": 179,
    "start_time": "2022-05-28T11:17:16.415Z"
   },
   {
    "duration": 5,
    "start_time": "2022-05-28T11:17:16.595Z"
   },
   {
    "duration": 1443,
    "start_time": "2022-05-28T11:17:16.602Z"
   },
   {
    "duration": 20,
    "start_time": "2022-05-28T11:17:18.048Z"
   },
   {
    "duration": 32,
    "start_time": "2022-05-28T11:17:18.072Z"
   },
   {
    "duration": 12,
    "start_time": "2022-05-28T11:17:18.106Z"
   },
   {
    "duration": 370,
    "start_time": "2022-05-28T11:17:18.120Z"
   },
   {
    "duration": 295,
    "start_time": "2022-05-28T11:17:18.492Z"
   },
   {
    "duration": 312,
    "start_time": "2022-05-28T11:17:18.789Z"
   },
   {
    "duration": 36,
    "start_time": "2022-05-28T11:21:02.436Z"
   },
   {
    "duration": 63,
    "start_time": "2022-05-28T11:22:45.831Z"
   },
   {
    "duration": 60,
    "start_time": "2022-05-28T11:23:01.917Z"
   },
   {
    "duration": 49,
    "start_time": "2022-05-28T11:23:29.560Z"
   },
   {
    "duration": 36,
    "start_time": "2022-05-28T11:24:34.632Z"
   },
   {
    "duration": 829,
    "start_time": "2022-05-28T11:28:41.889Z"
   },
   {
    "duration": 795,
    "start_time": "2022-05-28T11:29:03.352Z"
   },
   {
    "duration": 951,
    "start_time": "2022-05-28T11:29:24.029Z"
   },
   {
    "duration": 839,
    "start_time": "2022-05-28T11:29:37.272Z"
   },
   {
    "duration": 1019,
    "start_time": "2022-05-28T11:30:21.149Z"
   },
   {
    "duration": 801,
    "start_time": "2022-05-28T11:30:29.484Z"
   },
   {
    "duration": 726,
    "start_time": "2022-05-28T11:30:40.914Z"
   },
   {
    "duration": 802,
    "start_time": "2022-05-28T11:30:48.779Z"
   },
   {
    "duration": 935,
    "start_time": "2022-05-28T11:30:55.025Z"
   },
   {
    "duration": 798,
    "start_time": "2022-05-28T11:31:04.467Z"
   },
   {
    "duration": 948,
    "start_time": "2022-05-28T11:31:36.243Z"
   },
   {
    "duration": 858,
    "start_time": "2022-05-28T11:32:06.190Z"
   },
   {
    "duration": 1006,
    "start_time": "2022-05-28T11:32:26.135Z"
   },
   {
    "duration": 874,
    "start_time": "2022-05-28T11:32:41.191Z"
   },
   {
    "duration": 807,
    "start_time": "2022-05-28T11:33:22.872Z"
   },
   {
    "duration": 811,
    "start_time": "2022-05-28T11:33:40.003Z"
   },
   {
    "duration": 830,
    "start_time": "2022-05-28T11:33:44.648Z"
   },
   {
    "duration": 1006,
    "start_time": "2022-05-28T11:35:31.424Z"
   },
   {
    "duration": 247,
    "start_time": "2022-05-28T11:37:19.041Z"
   },
   {
    "duration": 816,
    "start_time": "2022-05-28T11:38:40.649Z"
   },
   {
    "duration": 819,
    "start_time": "2022-05-28T11:38:51.974Z"
   },
   {
    "duration": 852,
    "start_time": "2022-05-28T11:39:13.629Z"
   },
   {
    "duration": 899,
    "start_time": "2022-05-28T11:39:51.050Z"
   },
   {
    "duration": 834,
    "start_time": "2022-05-28T11:39:59.225Z"
   },
   {
    "duration": 915,
    "start_time": "2022-05-28T11:45:36.651Z"
   },
   {
    "duration": 972,
    "start_time": "2022-05-28T11:46:03.116Z"
   },
   {
    "duration": 852,
    "start_time": "2022-05-28T11:46:23.753Z"
   },
   {
    "duration": 838,
    "start_time": "2022-05-28T11:46:31.681Z"
   },
   {
    "duration": 921,
    "start_time": "2022-05-28T11:46:53.331Z"
   },
   {
    "duration": 33,
    "start_time": "2022-05-28T11:47:59.509Z"
   },
   {
    "duration": 1096,
    "start_time": "2022-05-28T11:48:19.180Z"
   },
   {
    "duration": 405,
    "start_time": "2022-05-28T11:48:20.278Z"
   },
   {
    "duration": 4,
    "start_time": "2022-05-28T11:48:20.684Z"
   },
   {
    "duration": 148,
    "start_time": "2022-05-28T11:48:20.690Z"
   },
   {
    "duration": 50,
    "start_time": "2022-05-28T11:48:20.839Z"
   },
   {
    "duration": 32,
    "start_time": "2022-05-28T11:48:20.890Z"
   },
   {
    "duration": 51,
    "start_time": "2022-05-28T11:48:20.924Z"
   },
   {
    "duration": 332,
    "start_time": "2022-05-28T11:48:20.976Z"
   },
   {
    "duration": 222,
    "start_time": "2022-05-28T11:48:21.309Z"
   },
   {
    "duration": 26,
    "start_time": "2022-05-28T11:48:21.534Z"
   },
   {
    "duration": 106,
    "start_time": "2022-05-28T11:48:21.562Z"
   },
   {
    "duration": 46,
    "start_time": "2022-05-28T11:48:21.670Z"
   },
   {
    "duration": 25,
    "start_time": "2022-05-28T11:48:21.718Z"
   },
   {
    "duration": 51,
    "start_time": "2022-05-28T11:48:21.760Z"
   },
   {
    "duration": 200,
    "start_time": "2022-05-28T11:48:21.813Z"
   },
   {
    "duration": 74,
    "start_time": "2022-05-28T11:48:22.015Z"
   },
   {
    "duration": 28,
    "start_time": "2022-05-28T11:48:22.091Z"
   },
   {
    "duration": 46,
    "start_time": "2022-05-28T11:48:22.121Z"
   },
   {
    "duration": 22,
    "start_time": "2022-05-28T11:48:22.168Z"
   },
   {
    "duration": 16,
    "start_time": "2022-05-28T11:48:22.192Z"
   },
   {
    "duration": 13,
    "start_time": "2022-05-28T11:48:22.209Z"
   },
   {
    "duration": 8,
    "start_time": "2022-05-28T11:48:22.224Z"
   },
   {
    "duration": 26,
    "start_time": "2022-05-28T11:48:22.234Z"
   },
   {
    "duration": 11,
    "start_time": "2022-05-28T11:48:22.261Z"
   },
   {
    "duration": 51,
    "start_time": "2022-05-28T11:48:22.274Z"
   },
   {
    "duration": 10,
    "start_time": "2022-05-28T11:48:22.327Z"
   },
   {
    "duration": 43,
    "start_time": "2022-05-28T11:48:22.360Z"
   },
   {
    "duration": 11,
    "start_time": "2022-05-28T11:48:22.406Z"
   },
   {
    "duration": 26,
    "start_time": "2022-05-28T11:48:22.419Z"
   },
   {
    "duration": 17,
    "start_time": "2022-05-28T11:48:22.446Z"
   },
   {
    "duration": 32,
    "start_time": "2022-05-28T11:48:22.464Z"
   },
   {
    "duration": 24,
    "start_time": "2022-05-28T11:48:22.497Z"
   },
   {
    "duration": 38,
    "start_time": "2022-05-28T11:48:22.522Z"
   },
   {
    "duration": 3,
    "start_time": "2022-05-28T11:48:22.562Z"
   },
   {
    "duration": 8,
    "start_time": "2022-05-28T11:48:22.566Z"
   },
   {
    "duration": 26,
    "start_time": "2022-05-28T11:48:22.576Z"
   },
   {
    "duration": 13,
    "start_time": "2022-05-28T11:48:22.604Z"
   },
   {
    "duration": 6,
    "start_time": "2022-05-28T11:48:22.618Z"
   },
   {
    "duration": 39,
    "start_time": "2022-05-28T11:48:22.625Z"
   },
   {
    "duration": 28,
    "start_time": "2022-05-28T11:48:22.666Z"
   },
   {
    "duration": 17,
    "start_time": "2022-05-28T11:48:22.695Z"
   },
   {
    "duration": 11,
    "start_time": "2022-05-28T11:48:22.714Z"
   },
   {
    "duration": 36,
    "start_time": "2022-05-28T11:48:22.726Z"
   },
   {
    "duration": 42,
    "start_time": "2022-05-28T11:48:22.763Z"
   },
   {
    "duration": 165,
    "start_time": "2022-05-28T11:48:22.807Z"
   },
   {
    "duration": 191,
    "start_time": "2022-05-28T11:48:22.973Z"
   },
   {
    "duration": 162,
    "start_time": "2022-05-28T11:48:23.165Z"
   },
   {
    "duration": 4,
    "start_time": "2022-05-28T11:48:23.329Z"
   },
   {
    "duration": 30,
    "start_time": "2022-05-28T11:48:23.335Z"
   },
   {
    "duration": 46,
    "start_time": "2022-05-28T11:48:23.366Z"
   },
   {
    "duration": 155,
    "start_time": "2022-05-28T11:48:23.413Z"
   },
   {
    "duration": 147,
    "start_time": "2022-05-28T11:48:23.569Z"
   },
   {
    "duration": 149,
    "start_time": "2022-05-28T11:48:23.717Z"
   },
   {
    "duration": 4,
    "start_time": "2022-05-28T11:48:23.868Z"
   },
   {
    "duration": 38,
    "start_time": "2022-05-28T11:48:23.874Z"
   },
   {
    "duration": 1546,
    "start_time": "2022-05-28T11:48:23.913Z"
   },
   {
    "duration": 1015,
    "start_time": "2022-05-28T11:48:25.461Z"
   },
   {
    "duration": 793,
    "start_time": "2022-05-28T11:48:26.478Z"
   },
   {
    "duration": 858,
    "start_time": "2022-05-28T11:48:27.272Z"
   },
   {
    "duration": 4,
    "start_time": "2022-05-28T11:48:28.132Z"
   },
   {
    "duration": 51,
    "start_time": "2022-05-28T11:48:28.138Z"
   },
   {
    "duration": 17,
    "start_time": "2022-05-28T11:48:28.190Z"
   },
   {
    "duration": 330,
    "start_time": "2022-05-28T11:48:28.209Z"
   },
   {
    "duration": 244,
    "start_time": "2022-05-28T11:48:28.540Z"
   },
   {
    "duration": 279,
    "start_time": "2022-05-28T11:48:28.786Z"
   },
   {
    "duration": 101,
    "start_time": "2022-05-28T11:51:28.740Z"
   },
   {
    "duration": 11,
    "start_time": "2022-05-28T11:51:38.820Z"
   },
   {
    "duration": 1073,
    "start_time": "2022-05-28T11:52:34.494Z"
   },
   {
    "duration": 387,
    "start_time": "2022-05-28T11:52:35.569Z"
   },
   {
    "duration": 4,
    "start_time": "2022-05-28T11:52:35.957Z"
   },
   {
    "duration": 145,
    "start_time": "2022-05-28T11:52:35.962Z"
   },
   {
    "duration": 50,
    "start_time": "2022-05-28T11:52:36.109Z"
   },
   {
    "duration": 30,
    "start_time": "2022-05-28T11:52:36.161Z"
   },
   {
    "duration": 33,
    "start_time": "2022-05-28T11:52:36.192Z"
   },
   {
    "duration": 336,
    "start_time": "2022-05-28T11:52:36.227Z"
   },
   {
    "duration": 222,
    "start_time": "2022-05-28T11:52:36.565Z"
   },
   {
    "duration": 14,
    "start_time": "2022-05-28T11:52:36.788Z"
   },
   {
    "duration": 104,
    "start_time": "2022-05-28T11:52:36.804Z"
   },
   {
    "duration": 49,
    "start_time": "2022-05-28T11:52:36.910Z"
   },
   {
    "duration": 24,
    "start_time": "2022-05-28T11:52:36.961Z"
   },
   {
    "duration": 33,
    "start_time": "2022-05-28T11:52:36.989Z"
   },
   {
    "duration": 204,
    "start_time": "2022-05-28T11:52:37.024Z"
   },
   {
    "duration": 80,
    "start_time": "2022-05-28T11:52:37.230Z"
   },
   {
    "duration": 27,
    "start_time": "2022-05-28T11:52:37.312Z"
   },
   {
    "duration": 31,
    "start_time": "2022-05-28T11:52:37.341Z"
   },
   {
    "duration": 15,
    "start_time": "2022-05-28T11:52:37.374Z"
   },
   {
    "duration": 18,
    "start_time": "2022-05-28T11:52:37.391Z"
   },
   {
    "duration": 12,
    "start_time": "2022-05-28T11:52:37.410Z"
   },
   {
    "duration": 8,
    "start_time": "2022-05-28T11:52:37.424Z"
   },
   {
    "duration": 12,
    "start_time": "2022-05-28T11:52:37.459Z"
   },
   {
    "duration": 20,
    "start_time": "2022-05-28T11:52:37.472Z"
   },
   {
    "duration": 62,
    "start_time": "2022-05-28T11:52:37.493Z"
   },
   {
    "duration": 10,
    "start_time": "2022-05-28T11:52:37.560Z"
   },
   {
    "duration": 39,
    "start_time": "2022-05-28T11:52:37.571Z"
   },
   {
    "duration": 11,
    "start_time": "2022-05-28T11:52:37.612Z"
   },
   {
    "duration": 44,
    "start_time": "2022-05-28T11:52:37.625Z"
   },
   {
    "duration": 9,
    "start_time": "2022-05-28T11:52:37.671Z"
   },
   {
    "duration": 32,
    "start_time": "2022-05-28T11:52:37.682Z"
   },
   {
    "duration": 50,
    "start_time": "2022-05-28T11:52:37.716Z"
   },
   {
    "duration": 16,
    "start_time": "2022-05-28T11:52:37.768Z"
   },
   {
    "duration": 12,
    "start_time": "2022-05-28T11:52:37.785Z"
   },
   {
    "duration": 15,
    "start_time": "2022-05-28T11:52:37.799Z"
   },
   {
    "duration": 34,
    "start_time": "2022-05-28T11:52:37.815Z"
   },
   {
    "duration": 16,
    "start_time": "2022-05-28T11:52:37.859Z"
   },
   {
    "duration": 9,
    "start_time": "2022-05-28T11:52:37.877Z"
   },
   {
    "duration": 45,
    "start_time": "2022-05-28T11:52:37.888Z"
   },
   {
    "duration": 38,
    "start_time": "2022-05-28T11:52:37.934Z"
   },
   {
    "duration": 23,
    "start_time": "2022-05-28T11:52:37.978Z"
   },
   {
    "duration": 9,
    "start_time": "2022-05-28T11:52:38.003Z"
   },
   {
    "duration": 49,
    "start_time": "2022-05-28T11:52:38.014Z"
   },
   {
    "duration": 45,
    "start_time": "2022-05-28T11:52:38.064Z"
   },
   {
    "duration": 145,
    "start_time": "2022-05-28T11:52:38.111Z"
   },
   {
    "duration": 160,
    "start_time": "2022-05-28T11:52:38.258Z"
   },
   {
    "duration": 141,
    "start_time": "2022-05-28T11:52:38.420Z"
   },
   {
    "duration": 4,
    "start_time": "2022-05-28T11:52:38.563Z"
   },
   {
    "duration": 22,
    "start_time": "2022-05-28T11:52:38.568Z"
   },
   {
    "duration": 41,
    "start_time": "2022-05-28T11:52:38.591Z"
   },
   {
    "duration": 158,
    "start_time": "2022-05-28T11:52:38.634Z"
   },
   {
    "duration": 141,
    "start_time": "2022-05-28T11:52:38.794Z"
   },
   {
    "duration": 144,
    "start_time": "2022-05-28T11:52:38.937Z"
   },
   {
    "duration": 4,
    "start_time": "2022-05-28T11:52:39.083Z"
   },
   {
    "duration": 29,
    "start_time": "2022-05-28T11:52:39.089Z"
   },
   {
    "duration": 915,
    "start_time": "2022-05-28T11:52:39.119Z"
   },
   {
    "duration": 817,
    "start_time": "2022-05-28T11:52:40.036Z"
   },
   {
    "duration": 788,
    "start_time": "2022-05-28T11:52:40.859Z"
   },
   {
    "duration": 812,
    "start_time": "2022-05-28T11:52:41.649Z"
   },
   {
    "duration": 5,
    "start_time": "2022-05-28T11:52:42.462Z"
   },
   {
    "duration": 14,
    "start_time": "2022-05-28T11:52:42.468Z"
   },
   {
    "duration": 10,
    "start_time": "2022-05-28T11:52:42.483Z"
   },
   {
    "duration": 299,
    "start_time": "2022-05-28T11:52:42.494Z"
   },
   {
    "duration": 247,
    "start_time": "2022-05-28T11:52:42.795Z"
   },
   {
    "duration": 276,
    "start_time": "2022-05-28T11:52:43.043Z"
   },
   {
    "duration": 1172,
    "start_time": "2022-05-28T11:53:44.743Z"
   },
   {
    "duration": 397,
    "start_time": "2022-05-28T11:53:45.917Z"
   },
   {
    "duration": 4,
    "start_time": "2022-05-28T11:53:46.316Z"
   },
   {
    "duration": 139,
    "start_time": "2022-05-28T11:53:46.322Z"
   },
   {
    "duration": 44,
    "start_time": "2022-05-28T11:53:46.462Z"
   },
   {
    "duration": 30,
    "start_time": "2022-05-28T11:53:46.507Z"
   },
   {
    "duration": 54,
    "start_time": "2022-05-28T11:53:46.538Z"
   },
   {
    "duration": 353,
    "start_time": "2022-05-28T11:53:46.594Z"
   },
   {
    "duration": 226,
    "start_time": "2022-05-28T11:53:46.948Z"
   },
   {
    "duration": 13,
    "start_time": "2022-05-28T11:53:47.177Z"
   },
   {
    "duration": 107,
    "start_time": "2022-05-28T11:53:47.192Z"
   },
   {
    "duration": 37,
    "start_time": "2022-05-28T11:53:47.300Z"
   },
   {
    "duration": 34,
    "start_time": "2022-05-28T11:53:47.339Z"
   },
   {
    "duration": 28,
    "start_time": "2022-05-28T11:53:47.375Z"
   },
   {
    "duration": 199,
    "start_time": "2022-05-28T11:53:47.404Z"
   },
   {
    "duration": 85,
    "start_time": "2022-05-28T11:53:47.604Z"
   },
   {
    "duration": 38,
    "start_time": "2022-05-28T11:53:47.692Z"
   },
   {
    "duration": 39,
    "start_time": "2022-05-28T11:53:47.732Z"
   },
   {
    "duration": 16,
    "start_time": "2022-05-28T11:53:47.772Z"
   },
   {
    "duration": 41,
    "start_time": "2022-05-28T11:53:47.789Z"
   },
   {
    "duration": 22,
    "start_time": "2022-05-28T11:53:47.834Z"
   },
   {
    "duration": 26,
    "start_time": "2022-05-28T11:53:47.858Z"
   },
   {
    "duration": 30,
    "start_time": "2022-05-28T11:53:47.886Z"
   },
   {
    "duration": 17,
    "start_time": "2022-05-28T11:53:47.919Z"
   },
   {
    "duration": 79,
    "start_time": "2022-05-28T11:53:47.938Z"
   },
   {
    "duration": 14,
    "start_time": "2022-05-28T11:53:48.019Z"
   },
   {
    "duration": 65,
    "start_time": "2022-05-28T11:53:48.035Z"
   },
   {
    "duration": 21,
    "start_time": "2022-05-28T11:53:48.106Z"
   },
   {
    "duration": 61,
    "start_time": "2022-05-28T11:53:48.132Z"
   },
   {
    "duration": 14,
    "start_time": "2022-05-28T11:53:48.195Z"
   },
   {
    "duration": 54,
    "start_time": "2022-05-28T11:53:48.210Z"
   },
   {
    "duration": 30,
    "start_time": "2022-05-28T11:53:48.266Z"
   },
   {
    "duration": 14,
    "start_time": "2022-05-28T11:53:48.298Z"
   },
   {
    "duration": 6,
    "start_time": "2022-05-28T11:53:48.315Z"
   },
   {
    "duration": 37,
    "start_time": "2022-05-28T11:53:48.323Z"
   },
   {
    "duration": 25,
    "start_time": "2022-05-28T11:53:48.362Z"
   },
   {
    "duration": 20,
    "start_time": "2022-05-28T11:53:48.389Z"
   },
   {
    "duration": 23,
    "start_time": "2022-05-28T11:53:48.411Z"
   },
   {
    "duration": 40,
    "start_time": "2022-05-28T11:53:48.436Z"
   },
   {
    "duration": 31,
    "start_time": "2022-05-28T11:53:48.478Z"
   },
   {
    "duration": 19,
    "start_time": "2022-05-28T11:53:48.511Z"
   },
   {
    "duration": 32,
    "start_time": "2022-05-28T11:53:48.532Z"
   },
   {
    "duration": 27,
    "start_time": "2022-05-28T11:53:48.566Z"
   },
   {
    "duration": 43,
    "start_time": "2022-05-28T11:53:48.594Z"
   },
   {
    "duration": 181,
    "start_time": "2022-05-28T11:53:48.639Z"
   },
   {
    "duration": 178,
    "start_time": "2022-05-28T11:53:48.821Z"
   },
   {
    "duration": 152,
    "start_time": "2022-05-28T11:53:49.001Z"
   },
   {
    "duration": 6,
    "start_time": "2022-05-28T11:53:49.154Z"
   },
   {
    "duration": 28,
    "start_time": "2022-05-28T11:53:49.161Z"
   },
   {
    "duration": 52,
    "start_time": "2022-05-28T11:53:49.191Z"
   },
   {
    "duration": 169,
    "start_time": "2022-05-28T11:53:49.245Z"
   },
   {
    "duration": 180,
    "start_time": "2022-05-28T11:53:49.416Z"
   },
   {
    "duration": 153,
    "start_time": "2022-05-28T11:53:49.598Z"
   },
   {
    "duration": 8,
    "start_time": "2022-05-28T11:53:49.752Z"
   },
   {
    "duration": 30,
    "start_time": "2022-05-28T11:53:49.762Z"
   },
   {
    "duration": 961,
    "start_time": "2022-05-28T11:53:49.793Z"
   },
   {
    "duration": 812,
    "start_time": "2022-05-28T11:53:50.759Z"
   },
   {
    "duration": 827,
    "start_time": "2022-05-28T11:53:51.573Z"
   },
   {
    "duration": 867,
    "start_time": "2022-05-28T11:53:52.402Z"
   },
   {
    "duration": 4,
    "start_time": "2022-05-28T11:53:53.271Z"
   },
   {
    "duration": 12,
    "start_time": "2022-05-28T11:53:53.277Z"
   },
   {
    "duration": 5,
    "start_time": "2022-05-28T11:53:53.291Z"
   },
   {
    "duration": 334,
    "start_time": "2022-05-28T11:53:53.297Z"
   },
   {
    "duration": 354,
    "start_time": "2022-05-28T11:53:53.633Z"
   },
   {
    "duration": 319,
    "start_time": "2022-05-28T11:53:53.989Z"
   }
  ],
  "kernelspec": {
   "display_name": "Python 3 (ipykernel)",
   "language": "python",
   "name": "python3"
  },
  "language_info": {
   "codemirror_mode": {
    "name": "ipython",
    "version": 3
   },
   "file_extension": ".py",
   "mimetype": "text/x-python",
   "name": "python",
   "nbconvert_exporter": "python",
   "pygments_lexer": "ipython3",
   "version": "3.9.13"
  },
  "toc": {
   "base_numbering": 1,
   "nav_menu": {},
   "number_sections": true,
   "sideBar": true,
   "skip_h1_title": true,
   "title_cell": "Table of Contents",
   "title_sidebar": "Contents",
   "toc_cell": false,
   "toc_position": {
    "height": "calc(100% - 180px)",
    "left": "10px",
    "top": "150px",
    "width": "289.594px"
   },
   "toc_section_display": true,
   "toc_window_display": true
  }
 },
 "nbformat": 4,
 "nbformat_minor": 2
}
